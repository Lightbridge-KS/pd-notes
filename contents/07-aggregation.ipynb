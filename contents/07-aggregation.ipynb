{
 "cells": [
  {
   "cell_type": "markdown",
   "id": "4314b1a9",
   "metadata": {},
   "source": [
    "# Grouping & Aggregation\n",
    "\n",
    "Grouping and aggregation are fundamental operations for summarizing data. While R's `dplyr::group_by()` and `summarize()` provide an intuitive interface, pandas offers powerful grouping capabilities through its `groupby()` method. This chapter will show you how to achieve tidyverse-style grouped operations in pandas."
   ]
  },
  {
   "cell_type": "markdown",
   "id": "551a9b0b",
   "metadata": {},
   "source": [
    "## Best Practices Summary\n",
    "\n",
    "Quick reference for groupby patterns:\n",
    "\n",
    "| Task | R (dplyr) | Pandas |\n",
    "|------|-----------|--------|\n",
    "| Simple aggregate | `group_by(df, col) %>% summarize(mean = mean(x))` | `df.groupby('col')['x'].mean()` |\n",
    "| Multiple aggregates | `summarize(mean = mean(x), sum = sum(x))` | `df.groupby('col')['x'].agg(['mean', 'sum'])` |\n",
    "| Named aggregates | `summarize(avg_x = mean(x))` | `df.groupby('col').agg(avg_x=('x', 'mean'))` |\n",
    "| Transform | `group_by(df, col) %>% mutate(pct = x/sum(x))` | `df.groupby('col')['x'].transform(lambda x: x/x.sum())` |\n",
    "| Filter groups | `group_by(df, col) %>% filter(mean(x) > 10)` | `df.groupby('col').filter(lambda x: x['x'].mean() > 10)` |\n",
    "| Top n per group | `group_by(df, col) %>% slice_max(x, n=3)` | `df.sort_values('x').groupby('col').head(3)` |\n",
    "| Multiple grouping | `group_by(df, col1, col2)` | `df.groupby(['col1', 'col2'])` |"
   ]
  },
  {
   "cell_type": "markdown",
   "id": "e8f37a30",
   "metadata": {},
   "source": [
    "## Tips for Tidyverse Users\n",
    "\n",
    "1. **Think aggregate vs transform**: `agg()` reduces groups to one row (like `summarize()`), while `transform()` maintains all rows (like `mutate()` after `group_by()`).\n",
    "\n",
    "2. **Use named aggregations**: The syntax `agg(new_name=('column', 'function'))` is cleaner and more dplyr-like.\n",
    "\n",
    "3. **Chain operations**: Groupby works well in method chains:\n",
    "   ```python\n",
    "   (df\n",
    "    .query('value > 0')\n",
    "    .groupby('category')\n",
    "    .agg(mean_value=('value', 'mean'))\n",
    "    .sort_values('mean_value'))\n",
    "   ```\n",
    "\n",
    "4. **Remember reset_index()**: After groupby operations, use `.reset_index()` if you want the grouping columns as regular columns.\n",
    "\n",
    "5. **Leverage pivot_table**: For reshaping grouped data, `pivot_table()` can be more intuitive than manual groupby + reshape.\n",
    "\n",
    "Grouping and aggregation in pandas is incredibly powerful. While the syntax differs from dplyr, the concepts translate well, and pandas often provides more flexibility for complex aggregations."
   ]
  },
  {
   "cell_type": "markdown",
   "id": "ff1e63e1",
   "metadata": {},
   "source": [
    "## Basic Grouping and Aggregation\n",
    "\n",
    "The fundamental groupby operations in pandas:"
   ]
  },
  {
   "cell_type": "code",
   "execution_count": 2,
   "id": "9ea49cc4",
   "metadata": {},
   "outputs": [
    {
     "data": {
      "application/vnd.microsoft.datawrangler.viewer.v0+json": {
       "columns": [
        {
         "name": "department",
         "rawType": "object",
         "type": "string"
        },
        {
         "name": "salary",
         "rawType": "float64",
         "type": "float"
        }
       ],
       "ref": "9d2acd86-4c62-4680-8507-897c0a787adf",
       "rows": [
        [
         "HR",
         "68000.0"
        ],
        [
         "IT",
         "87666.66666666667"
        ],
        [
         "Sales",
         "72333.33333333333"
        ]
       ],
       "shape": {
        "columns": 1,
        "rows": 3
       }
      },
      "text/plain": [
       "department\n",
       "HR       68000.000000\n",
       "IT       87666.666667\n",
       "Sales    72333.333333\n",
       "Name: salary, dtype: float64"
      ]
     },
     "execution_count": 2,
     "metadata": {},
     "output_type": "execute_result"
    }
   ],
   "source": [
    "import pandas as pd\n",
    "import numpy as np\n",
    "\n",
    "# Create sample DataFrame\n",
    "df = pd.DataFrame({\n",
    "    'department': ['Sales', 'IT', 'HR', 'Sales', 'IT', 'HR', 'Sales', 'IT', 'HR'],\n",
    "    'employee': ['Alice', 'Bob', 'Charlie', 'David', 'Eve', 'Frank', 'Grace', 'Henry', 'Iris'],\n",
    "    'salary': [70000, 85000, 65000, 72000, 90000, 68000, 75000, 88000, 71000],\n",
    "    'years_exp': [5, 8, 3, 6, 10, 4, 7, 9, 5],\n",
    "    'performance': [4.2, 4.5, 3.8, 4.0, 4.7, 3.9, 4.3, 4.6, 4.1]\n",
    "})\n",
    "\n",
    "# Simple aggregation\n",
    "# R: df %>% group_by(department) %>% summarize(avg_salary = mean(salary))\n",
    "df.groupby('department')['salary'].mean()"
   ]
  },
  {
   "cell_type": "code",
   "execution_count": 3,
   "id": "91f0f34e",
   "metadata": {},
   "outputs": [
    {
     "data": {
      "application/vnd.microsoft.datawrangler.viewer.v0+json": {
       "columns": [
        {
         "name": "department",
         "rawType": "object",
         "type": "string"
        },
        {
         "name": "mean",
         "rawType": "float64",
         "type": "float"
        },
        {
         "name": "sum",
         "rawType": "int64",
         "type": "integer"
        },
        {
         "name": "count",
         "rawType": "int64",
         "type": "integer"
        }
       ],
       "ref": "e63b176d-b437-44ae-886a-bc8d39de0e16",
       "rows": [
        [
         "HR",
         "68000.0",
         "204000",
         "3"
        ],
        [
         "IT",
         "87666.66666666667",
         "263000",
         "3"
        ],
        [
         "Sales",
         "72333.33333333333",
         "217000",
         "3"
        ]
       ],
       "shape": {
        "columns": 3,
        "rows": 3
       }
      },
      "text/html": [
       "<div>\n",
       "<style scoped>\n",
       "    .dataframe tbody tr th:only-of-type {\n",
       "        vertical-align: middle;\n",
       "    }\n",
       "\n",
       "    .dataframe tbody tr th {\n",
       "        vertical-align: top;\n",
       "    }\n",
       "\n",
       "    .dataframe thead th {\n",
       "        text-align: right;\n",
       "    }\n",
       "</style>\n",
       "<table border=\"1\" class=\"dataframe\">\n",
       "  <thead>\n",
       "    <tr style=\"text-align: right;\">\n",
       "      <th></th>\n",
       "      <th>mean</th>\n",
       "      <th>sum</th>\n",
       "      <th>count</th>\n",
       "    </tr>\n",
       "    <tr>\n",
       "      <th>department</th>\n",
       "      <th></th>\n",
       "      <th></th>\n",
       "      <th></th>\n",
       "    </tr>\n",
       "  </thead>\n",
       "  <tbody>\n",
       "    <tr>\n",
       "      <th>HR</th>\n",
       "      <td>68000.000000</td>\n",
       "      <td>204000</td>\n",
       "      <td>3</td>\n",
       "    </tr>\n",
       "    <tr>\n",
       "      <th>IT</th>\n",
       "      <td>87666.666667</td>\n",
       "      <td>263000</td>\n",
       "      <td>3</td>\n",
       "    </tr>\n",
       "    <tr>\n",
       "      <th>Sales</th>\n",
       "      <td>72333.333333</td>\n",
       "      <td>217000</td>\n",
       "      <td>3</td>\n",
       "    </tr>\n",
       "  </tbody>\n",
       "</table>\n",
       "</div>"
      ],
      "text/plain": [
       "                    mean     sum  count\n",
       "department                             \n",
       "HR          68000.000000  204000      3\n",
       "IT          87666.666667  263000      3\n",
       "Sales       72333.333333  217000      3"
      ]
     },
     "execution_count": 3,
     "metadata": {},
     "output_type": "execute_result"
    }
   ],
   "source": [
    "# Multiple aggregations\n",
    "# R: df %>% \n",
    "#     group_by(department) %>% \n",
    "#     summarize(avg_salary = mean(salary),\n",
    "#               total_salary = sum(salary),\n",
    "#               count = n())\n",
    "df.groupby('department')['salary'].agg(['mean', 'sum', 'count'])"
   ]
  },
  {
   "cell_type": "code",
   "execution_count": 4,
   "id": "66a1b58d",
   "metadata": {},
   "outputs": [
    {
     "data": {
      "application/vnd.microsoft.datawrangler.viewer.v0+json": {
       "columns": [
        {
         "name": "department",
         "rawType": "object",
         "type": "string"
        },
        {
         "name": "avg_salary",
         "rawType": "float64",
         "type": "float"
        },
        {
         "name": "max_performance",
         "rawType": "float64",
         "type": "float"
        },
        {
         "name": "total_years",
         "rawType": "int64",
         "type": "integer"
        }
       ],
       "ref": "113e2e22-85d0-4779-8a76-2d763436f07e",
       "rows": [
        [
         "HR",
         "68000.0",
         "4.1",
         "12"
        ],
        [
         "IT",
         "87666.67",
         "4.7",
         "27"
        ],
        [
         "Sales",
         "72333.33",
         "4.3",
         "18"
        ]
       ],
       "shape": {
        "columns": 3,
        "rows": 3
       }
      },
      "text/html": [
       "<div>\n",
       "<style scoped>\n",
       "    .dataframe tbody tr th:only-of-type {\n",
       "        vertical-align: middle;\n",
       "    }\n",
       "\n",
       "    .dataframe tbody tr th {\n",
       "        vertical-align: top;\n",
       "    }\n",
       "\n",
       "    .dataframe thead th {\n",
       "        text-align: right;\n",
       "    }\n",
       "</style>\n",
       "<table border=\"1\" class=\"dataframe\">\n",
       "  <thead>\n",
       "    <tr style=\"text-align: right;\">\n",
       "      <th></th>\n",
       "      <th>avg_salary</th>\n",
       "      <th>max_performance</th>\n",
       "      <th>total_years</th>\n",
       "    </tr>\n",
       "    <tr>\n",
       "      <th>department</th>\n",
       "      <th></th>\n",
       "      <th></th>\n",
       "      <th></th>\n",
       "    </tr>\n",
       "  </thead>\n",
       "  <tbody>\n",
       "    <tr>\n",
       "      <th>HR</th>\n",
       "      <td>68000.00</td>\n",
       "      <td>4.1</td>\n",
       "      <td>12</td>\n",
       "    </tr>\n",
       "    <tr>\n",
       "      <th>IT</th>\n",
       "      <td>87666.67</td>\n",
       "      <td>4.7</td>\n",
       "      <td>27</td>\n",
       "    </tr>\n",
       "    <tr>\n",
       "      <th>Sales</th>\n",
       "      <td>72333.33</td>\n",
       "      <td>4.3</td>\n",
       "      <td>18</td>\n",
       "    </tr>\n",
       "  </tbody>\n",
       "</table>\n",
       "</div>"
      ],
      "text/plain": [
       "            avg_salary  max_performance  total_years\n",
       "department                                          \n",
       "HR            68000.00              4.1           12\n",
       "IT            87666.67              4.7           27\n",
       "Sales         72333.33              4.3           18"
      ]
     },
     "execution_count": 4,
     "metadata": {},
     "output_type": "execute_result"
    }
   ],
   "source": [
    "# Custom named aggregations\n",
    "# R: df %>%\n",
    "#     group_by(department) %>%\n",
    "#     summarize(avg_salary = mean(salary),\n",
    "#               max_performance = max(performance),\n",
    "#               total_years = sum(years_exp))\n",
    "df.groupby('department').agg(\n",
    "    avg_salary=('salary', 'mean'),\n",
    "    max_performance=('performance', 'max'),\n",
    "    total_years=('years_exp', 'sum')\n",
    ").round(2)"
   ]
  },
  {
   "cell_type": "markdown",
   "id": "ad61c5d6",
   "metadata": {},
   "source": [
    "## Multiple Aggregation Functions\n",
    "\n",
    "Applying different functions to different columns:"
   ]
  },
  {
   "cell_type": "code",
   "execution_count": 5,
   "id": "d16639aa",
   "metadata": {},
   "outputs": [
    {
     "data": {
      "application/vnd.microsoft.datawrangler.viewer.v0+json": {
       "columns": [
        {
         "name": "department",
         "rawType": "object",
         "type": "string"
        },
        {
         "name": "('salary', 'mean')",
         "rawType": "float64",
         "type": "float"
        },
        {
         "name": "('salary', 'std')",
         "rawType": "float64",
         "type": "float"
        },
        {
         "name": "('salary', 'min')",
         "rawType": "int64",
         "type": "integer"
        },
        {
         "name": "('salary', 'max')",
         "rawType": "int64",
         "type": "integer"
        },
        {
         "name": "('performance', 'mean')",
         "rawType": "float64",
         "type": "float"
        },
        {
         "name": "('performance', 'min')",
         "rawType": "float64",
         "type": "float"
        },
        {
         "name": "('performance', 'max')",
         "rawType": "float64",
         "type": "float"
        },
        {
         "name": "('years_exp', 'sum')",
         "rawType": "int64",
         "type": "integer"
        },
        {
         "name": "('years_exp', 'mean')",
         "rawType": "float64",
         "type": "float"
        }
       ],
       "ref": "a6c9ca63-b5fc-4066-921c-e1e880b27d52",
       "rows": [
        [
         "HR",
         "68000.0",
         "3000.0",
         "65000",
         "71000",
         "3.93",
         "3.8",
         "4.1",
         "12",
         "4.0"
        ],
        [
         "IT",
         "87666.67",
         "2516.61",
         "85000",
         "90000",
         "4.6",
         "4.5",
         "4.7",
         "27",
         "9.0"
        ],
        [
         "Sales",
         "72333.33",
         "2516.61",
         "70000",
         "75000",
         "4.17",
         "4.0",
         "4.3",
         "18",
         "6.0"
        ]
       ],
       "shape": {
        "columns": 9,
        "rows": 3
       }
      },
      "text/html": [
       "<div>\n",
       "<style scoped>\n",
       "    .dataframe tbody tr th:only-of-type {\n",
       "        vertical-align: middle;\n",
       "    }\n",
       "\n",
       "    .dataframe tbody tr th {\n",
       "        vertical-align: top;\n",
       "    }\n",
       "\n",
       "    .dataframe thead tr th {\n",
       "        text-align: left;\n",
       "    }\n",
       "\n",
       "    .dataframe thead tr:last-of-type th {\n",
       "        text-align: right;\n",
       "    }\n",
       "</style>\n",
       "<table border=\"1\" class=\"dataframe\">\n",
       "  <thead>\n",
       "    <tr>\n",
       "      <th></th>\n",
       "      <th colspan=\"4\" halign=\"left\">salary</th>\n",
       "      <th colspan=\"3\" halign=\"left\">performance</th>\n",
       "      <th colspan=\"2\" halign=\"left\">years_exp</th>\n",
       "    </tr>\n",
       "    <tr>\n",
       "      <th></th>\n",
       "      <th>mean</th>\n",
       "      <th>std</th>\n",
       "      <th>min</th>\n",
       "      <th>max</th>\n",
       "      <th>mean</th>\n",
       "      <th>min</th>\n",
       "      <th>max</th>\n",
       "      <th>sum</th>\n",
       "      <th>mean</th>\n",
       "    </tr>\n",
       "    <tr>\n",
       "      <th>department</th>\n",
       "      <th></th>\n",
       "      <th></th>\n",
       "      <th></th>\n",
       "      <th></th>\n",
       "      <th></th>\n",
       "      <th></th>\n",
       "      <th></th>\n",
       "      <th></th>\n",
       "      <th></th>\n",
       "    </tr>\n",
       "  </thead>\n",
       "  <tbody>\n",
       "    <tr>\n",
       "      <th>HR</th>\n",
       "      <td>68000.00</td>\n",
       "      <td>3000.00</td>\n",
       "      <td>65000</td>\n",
       "      <td>71000</td>\n",
       "      <td>3.93</td>\n",
       "      <td>3.8</td>\n",
       "      <td>4.1</td>\n",
       "      <td>12</td>\n",
       "      <td>4.0</td>\n",
       "    </tr>\n",
       "    <tr>\n",
       "      <th>IT</th>\n",
       "      <td>87666.67</td>\n",
       "      <td>2516.61</td>\n",
       "      <td>85000</td>\n",
       "      <td>90000</td>\n",
       "      <td>4.60</td>\n",
       "      <td>4.5</td>\n",
       "      <td>4.7</td>\n",
       "      <td>27</td>\n",
       "      <td>9.0</td>\n",
       "    </tr>\n",
       "    <tr>\n",
       "      <th>Sales</th>\n",
       "      <td>72333.33</td>\n",
       "      <td>2516.61</td>\n",
       "      <td>70000</td>\n",
       "      <td>75000</td>\n",
       "      <td>4.17</td>\n",
       "      <td>4.0</td>\n",
       "      <td>4.3</td>\n",
       "      <td>18</td>\n",
       "      <td>6.0</td>\n",
       "    </tr>\n",
       "  </tbody>\n",
       "</table>\n",
       "</div>"
      ],
      "text/plain": [
       "              salary                        performance           years_exp  \\\n",
       "                mean      std    min    max        mean  min  max       sum   \n",
       "department                                                                    \n",
       "HR          68000.00  3000.00  65000  71000        3.93  3.8  4.1        12   \n",
       "IT          87666.67  2516.61  85000  90000        4.60  4.5  4.7        27   \n",
       "Sales       72333.33  2516.61  70000  75000        4.17  4.0  4.3        18   \n",
       "\n",
       "                 \n",
       "           mean  \n",
       "department       \n",
       "HR          4.0  \n",
       "IT          9.0  \n",
       "Sales       6.0  "
      ]
     },
     "execution_count": 5,
     "metadata": {},
     "output_type": "execute_result"
    }
   ],
   "source": [
    "# Different functions for different columns\n",
    "# R: df %>%\n",
    "#     group_by(department) %>%\n",
    "#     summarize(across(salary, list(mean = mean, sd = sd)),\n",
    "#               across(performance, list(min = min, max = max)))\n",
    "agg_dict = {\n",
    "    'salary': ['mean', 'std', 'min', 'max'],\n",
    "    'performance': ['mean', 'min', 'max'],\n",
    "    'years_exp': ['sum', 'mean']\n",
    "}\n",
    "\n",
    "df.groupby('department').agg(agg_dict).round(2)"
   ]
  },
  {
   "cell_type": "code",
   "execution_count": 6,
   "id": "bf1d0afa",
   "metadata": {},
   "outputs": [
    {
     "data": {
      "application/vnd.microsoft.datawrangler.viewer.v0+json": {
       "columns": [
        {
         "name": "department",
         "rawType": "object",
         "type": "string"
        },
        {
         "name": "salary_mean",
         "rawType": "float64",
         "type": "float"
        },
        {
         "name": "salary_std",
         "rawType": "float64",
         "type": "float"
        },
        {
         "name": "salary_min",
         "rawType": "int64",
         "type": "integer"
        },
        {
         "name": "salary_max",
         "rawType": "int64",
         "type": "integer"
        },
        {
         "name": "performance_mean",
         "rawType": "float64",
         "type": "float"
        },
        {
         "name": "performance_min",
         "rawType": "float64",
         "type": "float"
        },
        {
         "name": "performance_max",
         "rawType": "float64",
         "type": "float"
        },
        {
         "name": "years_exp_sum",
         "rawType": "int64",
         "type": "integer"
        },
        {
         "name": "years_exp_mean",
         "rawType": "float64",
         "type": "float"
        }
       ],
       "ref": "fd1baada-3a56-4a56-9359-3361dadf733b",
       "rows": [
        [
         "HR",
         "68000.0",
         "3000.0",
         "65000",
         "71000",
         "3.93",
         "3.8",
         "4.1",
         "12",
         "4.0"
        ],
        [
         "IT",
         "87666.67",
         "2516.61",
         "85000",
         "90000",
         "4.6",
         "4.5",
         "4.7",
         "27",
         "9.0"
        ],
        [
         "Sales",
         "72333.33",
         "2516.61",
         "70000",
         "75000",
         "4.17",
         "4.0",
         "4.3",
         "18",
         "6.0"
        ]
       ],
       "shape": {
        "columns": 9,
        "rows": 3
       }
      },
      "text/html": [
       "<div>\n",
       "<style scoped>\n",
       "    .dataframe tbody tr th:only-of-type {\n",
       "        vertical-align: middle;\n",
       "    }\n",
       "\n",
       "    .dataframe tbody tr th {\n",
       "        vertical-align: top;\n",
       "    }\n",
       "\n",
       "    .dataframe thead th {\n",
       "        text-align: right;\n",
       "    }\n",
       "</style>\n",
       "<table border=\"1\" class=\"dataframe\">\n",
       "  <thead>\n",
       "    <tr style=\"text-align: right;\">\n",
       "      <th></th>\n",
       "      <th>salary_mean</th>\n",
       "      <th>salary_std</th>\n",
       "      <th>salary_min</th>\n",
       "      <th>salary_max</th>\n",
       "      <th>performance_mean</th>\n",
       "      <th>performance_min</th>\n",
       "      <th>performance_max</th>\n",
       "      <th>years_exp_sum</th>\n",
       "      <th>years_exp_mean</th>\n",
       "    </tr>\n",
       "    <tr>\n",
       "      <th>department</th>\n",
       "      <th></th>\n",
       "      <th></th>\n",
       "      <th></th>\n",
       "      <th></th>\n",
       "      <th></th>\n",
       "      <th></th>\n",
       "      <th></th>\n",
       "      <th></th>\n",
       "      <th></th>\n",
       "    </tr>\n",
       "  </thead>\n",
       "  <tbody>\n",
       "    <tr>\n",
       "      <th>HR</th>\n",
       "      <td>68000.00</td>\n",
       "      <td>3000.00</td>\n",
       "      <td>65000</td>\n",
       "      <td>71000</td>\n",
       "      <td>3.93</td>\n",
       "      <td>3.8</td>\n",
       "      <td>4.1</td>\n",
       "      <td>12</td>\n",
       "      <td>4.0</td>\n",
       "    </tr>\n",
       "    <tr>\n",
       "      <th>IT</th>\n",
       "      <td>87666.67</td>\n",
       "      <td>2516.61</td>\n",
       "      <td>85000</td>\n",
       "      <td>90000</td>\n",
       "      <td>4.60</td>\n",
       "      <td>4.5</td>\n",
       "      <td>4.7</td>\n",
       "      <td>27</td>\n",
       "      <td>9.0</td>\n",
       "    </tr>\n",
       "    <tr>\n",
       "      <th>Sales</th>\n",
       "      <td>72333.33</td>\n",
       "      <td>2516.61</td>\n",
       "      <td>70000</td>\n",
       "      <td>75000</td>\n",
       "      <td>4.17</td>\n",
       "      <td>4.0</td>\n",
       "      <td>4.3</td>\n",
       "      <td>18</td>\n",
       "      <td>6.0</td>\n",
       "    </tr>\n",
       "  </tbody>\n",
       "</table>\n",
       "</div>"
      ],
      "text/plain": [
       "            salary_mean  salary_std  salary_min  salary_max  performance_mean  \\\n",
       "department                                                                      \n",
       "HR             68000.00     3000.00       65000       71000              3.93   \n",
       "IT             87666.67     2516.61       85000       90000              4.60   \n",
       "Sales          72333.33     2516.61       70000       75000              4.17   \n",
       "\n",
       "            performance_min  performance_max  years_exp_sum  years_exp_mean  \n",
       "department                                                                   \n",
       "HR                      3.8              4.1             12             4.0  \n",
       "IT                      4.5              4.7             27             9.0  \n",
       "Sales                   4.0              4.3             18             6.0  "
      ]
     },
     "execution_count": 6,
     "metadata": {},
     "output_type": "execute_result"
    }
   ],
   "source": [
    "# Flattening multi-level column names\n",
    "result = df.groupby('department').agg(agg_dict)\n",
    "result.columns = ['_'.join(col).strip() for col in result.columns.values]\n",
    "result.round(2)"
   ]
  },
  {
   "cell_type": "markdown",
   "id": "a414d372",
   "metadata": {},
   "source": [
    "## Custom Aggregation Functions\n",
    "\n",
    "Using custom functions in aggregations:"
   ]
  },
  {
   "cell_type": "code",
   "execution_count": 7,
   "id": "db4be334",
   "metadata": {},
   "outputs": [
    {
     "data": {
      "application/vnd.microsoft.datawrangler.viewer.v0+json": {
       "columns": [
        {
         "name": "department",
         "rawType": "object",
         "type": "string"
        },
        {
         "name": "salary_range",
         "rawType": "int64",
         "type": "integer"
        },
        {
         "name": "high_performers",
         "rawType": "int64",
         "type": "integer"
        }
       ],
       "ref": "c5c8fd25-ee77-4d42-9bae-a7659284706d",
       "rows": [
        [
         "HR",
         "6000",
         "0"
        ],
        [
         "IT",
         "5000",
         "3"
        ],
        [
         "Sales",
         "5000",
         "0"
        ]
       ],
       "shape": {
        "columns": 2,
        "rows": 3
       }
      },
      "text/html": [
       "<div>\n",
       "<style scoped>\n",
       "    .dataframe tbody tr th:only-of-type {\n",
       "        vertical-align: middle;\n",
       "    }\n",
       "\n",
       "    .dataframe tbody tr th {\n",
       "        vertical-align: top;\n",
       "    }\n",
       "\n",
       "    .dataframe thead th {\n",
       "        text-align: right;\n",
       "    }\n",
       "</style>\n",
       "<table border=\"1\" class=\"dataframe\">\n",
       "  <thead>\n",
       "    <tr style=\"text-align: right;\">\n",
       "      <th></th>\n",
       "      <th>salary_range</th>\n",
       "      <th>high_performers</th>\n",
       "    </tr>\n",
       "    <tr>\n",
       "      <th>department</th>\n",
       "      <th></th>\n",
       "      <th></th>\n",
       "    </tr>\n",
       "  </thead>\n",
       "  <tbody>\n",
       "    <tr>\n",
       "      <th>HR</th>\n",
       "      <td>6000</td>\n",
       "      <td>0</td>\n",
       "    </tr>\n",
       "    <tr>\n",
       "      <th>IT</th>\n",
       "      <td>5000</td>\n",
       "      <td>3</td>\n",
       "    </tr>\n",
       "    <tr>\n",
       "      <th>Sales</th>\n",
       "      <td>5000</td>\n",
       "      <td>0</td>\n",
       "    </tr>\n",
       "  </tbody>\n",
       "</table>\n",
       "</div>"
      ],
      "text/plain": [
       "            salary_range  high_performers\n",
       "department                               \n",
       "HR                  6000                0\n",
       "IT                  5000                3\n",
       "Sales               5000                0"
      ]
     },
     "execution_count": 7,
     "metadata": {},
     "output_type": "execute_result"
    }
   ],
   "source": [
    "# Define custom aggregation functions\n",
    "def salary_range(x):\n",
    "    \"\"\"Calculate salary range (max - min)\"\"\"\n",
    "    return x.max() - x.min()\n",
    "\n",
    "def high_performers(x):\n",
    "    \"\"\"Count high performers (performance >= 4.5)\"\"\"\n",
    "    return (x >= 4.5).sum()\n",
    "\n",
    "# Apply custom functions\n",
    "# R: df %>%\n",
    "#     group_by(department) %>%\n",
    "#     summarize(salary_range = max(salary) - min(salary),\n",
    "#               high_performers = sum(performance >= 4.5))\n",
    "df.groupby('department').agg({\n",
    "    'salary': salary_range,\n",
    "    'performance': high_performers\n",
    "}).rename(columns={'salary': 'salary_range', 'performance': 'high_performers'})"
   ]
  },
  {
   "cell_type": "code",
   "execution_count": 8,
   "id": "9e23d7d9",
   "metadata": {},
   "outputs": [
    {
     "data": {
      "application/vnd.microsoft.datawrangler.viewer.v0+json": {
       "columns": [
        {
         "name": "department",
         "rawType": "object",
         "type": "string"
        },
        {
         "name": "avg_salary",
         "rawType": "float64",
         "type": "float"
        },
        {
         "name": "salary_range",
         "rawType": "int64",
         "type": "integer"
        },
        {
         "name": "high_perf_count",
         "rawType": "int64",
         "type": "integer"
        },
        {
         "name": "exp_weighted_salary",
         "rawType": "float64",
         "type": "float"
        }
       ],
       "ref": "3c171f21-0db5-488f-bf83-9166fb480653",
       "rows": [
        [
         "HR",
         "68000.0",
         "6000",
         "0",
         "68500.0"
        ],
        [
         "IT",
         "87666.67",
         "5000",
         "3",
         "87851.85"
        ],
        [
         "Sales",
         "72333.33",
         "5000",
         "0",
         "72611.11"
        ]
       ],
       "shape": {
        "columns": 4,
        "rows": 3
       }
      },
      "text/html": [
       "<div>\n",
       "<style scoped>\n",
       "    .dataframe tbody tr th:only-of-type {\n",
       "        vertical-align: middle;\n",
       "    }\n",
       "\n",
       "    .dataframe tbody tr th {\n",
       "        vertical-align: top;\n",
       "    }\n",
       "\n",
       "    .dataframe thead th {\n",
       "        text-align: right;\n",
       "    }\n",
       "</style>\n",
       "<table border=\"1\" class=\"dataframe\">\n",
       "  <thead>\n",
       "    <tr style=\"text-align: right;\">\n",
       "      <th></th>\n",
       "      <th>avg_salary</th>\n",
       "      <th>salary_range</th>\n",
       "      <th>high_perf_count</th>\n",
       "      <th>exp_weighted_salary</th>\n",
       "    </tr>\n",
       "    <tr>\n",
       "      <th>department</th>\n",
       "      <th></th>\n",
       "      <th></th>\n",
       "      <th></th>\n",
       "      <th></th>\n",
       "    </tr>\n",
       "  </thead>\n",
       "  <tbody>\n",
       "    <tr>\n",
       "      <th>HR</th>\n",
       "      <td>68000.00</td>\n",
       "      <td>6000</td>\n",
       "      <td>0</td>\n",
       "      <td>68500.00</td>\n",
       "    </tr>\n",
       "    <tr>\n",
       "      <th>IT</th>\n",
       "      <td>87666.67</td>\n",
       "      <td>5000</td>\n",
       "      <td>3</td>\n",
       "      <td>87851.85</td>\n",
       "    </tr>\n",
       "    <tr>\n",
       "      <th>Sales</th>\n",
       "      <td>72333.33</td>\n",
       "      <td>5000</td>\n",
       "      <td>0</td>\n",
       "      <td>72611.11</td>\n",
       "    </tr>\n",
       "  </tbody>\n",
       "</table>\n",
       "</div>"
      ],
      "text/plain": [
       "            avg_salary  salary_range  high_perf_count  exp_weighted_salary\n",
       "department                                                                \n",
       "HR            68000.00          6000                0             68500.00\n",
       "IT            87666.67          5000                3             87851.85\n",
       "Sales         72333.33          5000                0             72611.11"
      ]
     },
     "execution_count": 8,
     "metadata": {},
     "output_type": "execute_result"
    }
   ],
   "source": [
    "# Multiple custom functions with lambda\n",
    "df.groupby('department').agg(\n",
    "    avg_salary=('salary', 'mean'),\n",
    "    salary_range=('salary', lambda x: x.max() - x.min()),\n",
    "    high_perf_count=('performance', lambda x: (x >= 4.5).sum()),\n",
    "    exp_weighted_salary=('salary', lambda x: np.average(x, weights=df.loc[x.index, 'years_exp']))\n",
    ").round(2)"
   ]
  },
  {
   "cell_type": "markdown",
   "id": "dae4b00c",
   "metadata": {},
   "source": [
    "## Transform vs Aggregate\n",
    "\n",
    "Understanding the difference between transform and aggregate:"
   ]
  },
  {
   "cell_type": "code",
   "execution_count": 9,
   "id": "260b3c29",
   "metadata": {},
   "outputs": [
    {
     "data": {
      "application/vnd.microsoft.datawrangler.viewer.v0+json": {
       "columns": [
        {
         "name": "index",
         "rawType": "int64",
         "type": "integer"
        },
        {
         "name": "department",
         "rawType": "object",
         "type": "string"
        },
        {
         "name": "employee",
         "rawType": "object",
         "type": "string"
        },
        {
         "name": "salary",
         "rawType": "int64",
         "type": "integer"
        },
        {
         "name": "years_exp",
         "rawType": "int64",
         "type": "integer"
        },
        {
         "name": "performance",
         "rawType": "float64",
         "type": "float"
        },
        {
         "name": "dept_avg_salary",
         "rawType": "float64",
         "type": "float"
        },
        {
         "name": "salary_vs_dept_avg",
         "rawType": "float64",
         "type": "float"
        }
       ],
       "ref": "ff314a40-b5bb-478e-a84a-bcb996c4833d",
       "rows": [
        [
         "0",
         "Sales",
         "Alice",
         "70000",
         "5",
         "4.2",
         "72333.33333333333",
         "-2333.3333333333285"
        ],
        [
         "1",
         "IT",
         "Bob",
         "85000",
         "8",
         "4.5",
         "87666.66666666667",
         "-2666.6666666666715"
        ],
        [
         "2",
         "HR",
         "Charlie",
         "65000",
         "3",
         "3.8",
         "68000.0",
         "-3000.0"
        ],
        [
         "3",
         "Sales",
         "David",
         "72000",
         "6",
         "4.0",
         "72333.33333333333",
         "-333.3333333333285"
        ],
        [
         "4",
         "IT",
         "Eve",
         "90000",
         "10",
         "4.7",
         "87666.66666666667",
         "2333.3333333333285"
        ],
        [
         "5",
         "HR",
         "Frank",
         "68000",
         "4",
         "3.9",
         "68000.0",
         "0.0"
        ],
        [
         "6",
         "Sales",
         "Grace",
         "75000",
         "7",
         "4.3",
         "72333.33333333333",
         "2666.6666666666715"
        ],
        [
         "7",
         "IT",
         "Henry",
         "88000",
         "9",
         "4.6",
         "87666.66666666667",
         "333.3333333333285"
        ],
        [
         "8",
         "HR",
         "Iris",
         "71000",
         "5",
         "4.1",
         "68000.0",
         "3000.0"
        ]
       ],
       "shape": {
        "columns": 7,
        "rows": 9
       }
      },
      "text/html": [
       "<div>\n",
       "<style scoped>\n",
       "    .dataframe tbody tr th:only-of-type {\n",
       "        vertical-align: middle;\n",
       "    }\n",
       "\n",
       "    .dataframe tbody tr th {\n",
       "        vertical-align: top;\n",
       "    }\n",
       "\n",
       "    .dataframe thead th {\n",
       "        text-align: right;\n",
       "    }\n",
       "</style>\n",
       "<table border=\"1\" class=\"dataframe\">\n",
       "  <thead>\n",
       "    <tr style=\"text-align: right;\">\n",
       "      <th></th>\n",
       "      <th>department</th>\n",
       "      <th>employee</th>\n",
       "      <th>salary</th>\n",
       "      <th>years_exp</th>\n",
       "      <th>performance</th>\n",
       "      <th>dept_avg_salary</th>\n",
       "      <th>salary_vs_dept_avg</th>\n",
       "    </tr>\n",
       "  </thead>\n",
       "  <tbody>\n",
       "    <tr>\n",
       "      <th>0</th>\n",
       "      <td>Sales</td>\n",
       "      <td>Alice</td>\n",
       "      <td>70000</td>\n",
       "      <td>5</td>\n",
       "      <td>4.2</td>\n",
       "      <td>72333.333333</td>\n",
       "      <td>-2333.333333</td>\n",
       "    </tr>\n",
       "    <tr>\n",
       "      <th>1</th>\n",
       "      <td>IT</td>\n",
       "      <td>Bob</td>\n",
       "      <td>85000</td>\n",
       "      <td>8</td>\n",
       "      <td>4.5</td>\n",
       "      <td>87666.666667</td>\n",
       "      <td>-2666.666667</td>\n",
       "    </tr>\n",
       "    <tr>\n",
       "      <th>2</th>\n",
       "      <td>HR</td>\n",
       "      <td>Charlie</td>\n",
       "      <td>65000</td>\n",
       "      <td>3</td>\n",
       "      <td>3.8</td>\n",
       "      <td>68000.000000</td>\n",
       "      <td>-3000.000000</td>\n",
       "    </tr>\n",
       "    <tr>\n",
       "      <th>3</th>\n",
       "      <td>Sales</td>\n",
       "      <td>David</td>\n",
       "      <td>72000</td>\n",
       "      <td>6</td>\n",
       "      <td>4.0</td>\n",
       "      <td>72333.333333</td>\n",
       "      <td>-333.333333</td>\n",
       "    </tr>\n",
       "    <tr>\n",
       "      <th>4</th>\n",
       "      <td>IT</td>\n",
       "      <td>Eve</td>\n",
       "      <td>90000</td>\n",
       "      <td>10</td>\n",
       "      <td>4.7</td>\n",
       "      <td>87666.666667</td>\n",
       "      <td>2333.333333</td>\n",
       "    </tr>\n",
       "    <tr>\n",
       "      <th>5</th>\n",
       "      <td>HR</td>\n",
       "      <td>Frank</td>\n",
       "      <td>68000</td>\n",
       "      <td>4</td>\n",
       "      <td>3.9</td>\n",
       "      <td>68000.000000</td>\n",
       "      <td>0.000000</td>\n",
       "    </tr>\n",
       "    <tr>\n",
       "      <th>6</th>\n",
       "      <td>Sales</td>\n",
       "      <td>Grace</td>\n",
       "      <td>75000</td>\n",
       "      <td>7</td>\n",
       "      <td>4.3</td>\n",
       "      <td>72333.333333</td>\n",
       "      <td>2666.666667</td>\n",
       "    </tr>\n",
       "    <tr>\n",
       "      <th>7</th>\n",
       "      <td>IT</td>\n",
       "      <td>Henry</td>\n",
       "      <td>88000</td>\n",
       "      <td>9</td>\n",
       "      <td>4.6</td>\n",
       "      <td>87666.666667</td>\n",
       "      <td>333.333333</td>\n",
       "    </tr>\n",
       "    <tr>\n",
       "      <th>8</th>\n",
       "      <td>HR</td>\n",
       "      <td>Iris</td>\n",
       "      <td>71000</td>\n",
       "      <td>5</td>\n",
       "      <td>4.1</td>\n",
       "      <td>68000.000000</td>\n",
       "      <td>3000.000000</td>\n",
       "    </tr>\n",
       "  </tbody>\n",
       "</table>\n",
       "</div>"
      ],
      "text/plain": [
       "  department employee  salary  years_exp  performance  dept_avg_salary  \\\n",
       "0      Sales    Alice   70000          5          4.2     72333.333333   \n",
       "1         IT      Bob   85000          8          4.5     87666.666667   \n",
       "2         HR  Charlie   65000          3          3.8     68000.000000   \n",
       "3      Sales    David   72000          6          4.0     72333.333333   \n",
       "4         IT      Eve   90000         10          4.7     87666.666667   \n",
       "5         HR    Frank   68000          4          3.9     68000.000000   \n",
       "6      Sales    Grace   75000          7          4.3     72333.333333   \n",
       "7         IT    Henry   88000          9          4.6     87666.666667   \n",
       "8         HR     Iris   71000          5          4.1     68000.000000   \n",
       "\n",
       "   salary_vs_dept_avg  \n",
       "0        -2333.333333  \n",
       "1        -2666.666667  \n",
       "2        -3000.000000  \n",
       "3         -333.333333  \n",
       "4         2333.333333  \n",
       "5            0.000000  \n",
       "6         2666.666667  \n",
       "7          333.333333  \n",
       "8         3000.000000  "
      ]
     },
     "execution_count": 9,
     "metadata": {},
     "output_type": "execute_result"
    }
   ],
   "source": [
    "# Transform: returns same-sized result (like mutate after group_by)\n",
    "# R: df %>% group_by(department) %>% mutate(dept_avg_salary = mean(salary))\n",
    "df['dept_avg_salary'] = df.groupby('department')['salary'].transform('mean')\n",
    "df['salary_vs_dept_avg'] = df['salary'] - df['dept_avg_salary']\n",
    "df"
   ]
  },
  {
   "cell_type": "code",
   "execution_count": 10,
   "id": "aa6ed40d",
   "metadata": {},
   "outputs": [
    {
     "data": {
      "application/vnd.microsoft.datawrangler.viewer.v0+json": {
       "columns": [
        {
         "name": "index",
         "rawType": "int64",
         "type": "integer"
        },
        {
         "name": "department",
         "rawType": "object",
         "type": "string"
        },
        {
         "name": "employee",
         "rawType": "object",
         "type": "string"
        },
        {
         "name": "salary",
         "rawType": "int64",
         "type": "integer"
        },
        {
         "name": "years_exp",
         "rawType": "int64",
         "type": "integer"
        },
        {
         "name": "performance",
         "rawType": "float64",
         "type": "float"
        },
        {
         "name": "dept_avg_salary",
         "rawType": "float64",
         "type": "float"
        },
        {
         "name": "salary_vs_dept_avg",
         "rawType": "float64",
         "type": "float"
        },
        {
         "name": "dept_rank",
         "rawType": "float64",
         "type": "float"
        },
        {
         "name": "pct_of_dept_total",
         "rawType": "float64",
         "type": "float"
        },
        {
         "name": "z_score",
         "rawType": "float64",
         "type": "float"
        }
       ],
       "ref": "1519a777-c5d8-43ac-b485-8363069bd881",
       "rows": [
        [
         "0",
         "Sales",
         "Alice",
         "70000",
         "5",
         "4.2",
         "72333.33",
         "-2333.33",
         "3.0",
         "32.26",
         "-0.93"
        ],
        [
         "1",
         "IT",
         "Bob",
         "85000",
         "8",
         "4.5",
         "87666.67",
         "-2666.67",
         "3.0",
         "32.32",
         "-1.06"
        ],
        [
         "2",
         "HR",
         "Charlie",
         "65000",
         "3",
         "3.8",
         "68000.0",
         "-3000.0",
         "3.0",
         "31.86",
         "-1.0"
        ],
        [
         "3",
         "Sales",
         "David",
         "72000",
         "6",
         "4.0",
         "72333.33",
         "-333.33",
         "2.0",
         "33.18",
         "-0.13"
        ],
        [
         "4",
         "IT",
         "Eve",
         "90000",
         "10",
         "4.7",
         "87666.67",
         "2333.33",
         "1.0",
         "34.22",
         "0.93"
        ],
        [
         "5",
         "HR",
         "Frank",
         "68000",
         "4",
         "3.9",
         "68000.0",
         "0.0",
         "2.0",
         "33.33",
         "0.0"
        ],
        [
         "6",
         "Sales",
         "Grace",
         "75000",
         "7",
         "4.3",
         "72333.33",
         "2666.67",
         "1.0",
         "34.56",
         "1.06"
        ],
        [
         "7",
         "IT",
         "Henry",
         "88000",
         "9",
         "4.6",
         "87666.67",
         "333.33",
         "2.0",
         "33.46",
         "0.13"
        ],
        [
         "8",
         "HR",
         "Iris",
         "71000",
         "5",
         "4.1",
         "68000.0",
         "3000.0",
         "1.0",
         "34.8",
         "1.0"
        ]
       ],
       "shape": {
        "columns": 10,
        "rows": 9
       }
      },
      "text/html": [
       "<div>\n",
       "<style scoped>\n",
       "    .dataframe tbody tr th:only-of-type {\n",
       "        vertical-align: middle;\n",
       "    }\n",
       "\n",
       "    .dataframe tbody tr th {\n",
       "        vertical-align: top;\n",
       "    }\n",
       "\n",
       "    .dataframe thead th {\n",
       "        text-align: right;\n",
       "    }\n",
       "</style>\n",
       "<table border=\"1\" class=\"dataframe\">\n",
       "  <thead>\n",
       "    <tr style=\"text-align: right;\">\n",
       "      <th></th>\n",
       "      <th>department</th>\n",
       "      <th>employee</th>\n",
       "      <th>salary</th>\n",
       "      <th>years_exp</th>\n",
       "      <th>performance</th>\n",
       "      <th>dept_avg_salary</th>\n",
       "      <th>salary_vs_dept_avg</th>\n",
       "      <th>dept_rank</th>\n",
       "      <th>pct_of_dept_total</th>\n",
       "      <th>z_score</th>\n",
       "    </tr>\n",
       "  </thead>\n",
       "  <tbody>\n",
       "    <tr>\n",
       "      <th>0</th>\n",
       "      <td>Sales</td>\n",
       "      <td>Alice</td>\n",
       "      <td>70000</td>\n",
       "      <td>5</td>\n",
       "      <td>4.2</td>\n",
       "      <td>72333.33</td>\n",
       "      <td>-2333.33</td>\n",
       "      <td>3.0</td>\n",
       "      <td>32.26</td>\n",
       "      <td>-0.93</td>\n",
       "    </tr>\n",
       "    <tr>\n",
       "      <th>1</th>\n",
       "      <td>IT</td>\n",
       "      <td>Bob</td>\n",
       "      <td>85000</td>\n",
       "      <td>8</td>\n",
       "      <td>4.5</td>\n",
       "      <td>87666.67</td>\n",
       "      <td>-2666.67</td>\n",
       "      <td>3.0</td>\n",
       "      <td>32.32</td>\n",
       "      <td>-1.06</td>\n",
       "    </tr>\n",
       "    <tr>\n",
       "      <th>2</th>\n",
       "      <td>HR</td>\n",
       "      <td>Charlie</td>\n",
       "      <td>65000</td>\n",
       "      <td>3</td>\n",
       "      <td>3.8</td>\n",
       "      <td>68000.00</td>\n",
       "      <td>-3000.00</td>\n",
       "      <td>3.0</td>\n",
       "      <td>31.86</td>\n",
       "      <td>-1.00</td>\n",
       "    </tr>\n",
       "    <tr>\n",
       "      <th>3</th>\n",
       "      <td>Sales</td>\n",
       "      <td>David</td>\n",
       "      <td>72000</td>\n",
       "      <td>6</td>\n",
       "      <td>4.0</td>\n",
       "      <td>72333.33</td>\n",
       "      <td>-333.33</td>\n",
       "      <td>2.0</td>\n",
       "      <td>33.18</td>\n",
       "      <td>-0.13</td>\n",
       "    </tr>\n",
       "    <tr>\n",
       "      <th>4</th>\n",
       "      <td>IT</td>\n",
       "      <td>Eve</td>\n",
       "      <td>90000</td>\n",
       "      <td>10</td>\n",
       "      <td>4.7</td>\n",
       "      <td>87666.67</td>\n",
       "      <td>2333.33</td>\n",
       "      <td>1.0</td>\n",
       "      <td>34.22</td>\n",
       "      <td>0.93</td>\n",
       "    </tr>\n",
       "    <tr>\n",
       "      <th>5</th>\n",
       "      <td>HR</td>\n",
       "      <td>Frank</td>\n",
       "      <td>68000</td>\n",
       "      <td>4</td>\n",
       "      <td>3.9</td>\n",
       "      <td>68000.00</td>\n",
       "      <td>0.00</td>\n",
       "      <td>2.0</td>\n",
       "      <td>33.33</td>\n",
       "      <td>0.00</td>\n",
       "    </tr>\n",
       "    <tr>\n",
       "      <th>6</th>\n",
       "      <td>Sales</td>\n",
       "      <td>Grace</td>\n",
       "      <td>75000</td>\n",
       "      <td>7</td>\n",
       "      <td>4.3</td>\n",
       "      <td>72333.33</td>\n",
       "      <td>2666.67</td>\n",
       "      <td>1.0</td>\n",
       "      <td>34.56</td>\n",
       "      <td>1.06</td>\n",
       "    </tr>\n",
       "    <tr>\n",
       "      <th>7</th>\n",
       "      <td>IT</td>\n",
       "      <td>Henry</td>\n",
       "      <td>88000</td>\n",
       "      <td>9</td>\n",
       "      <td>4.6</td>\n",
       "      <td>87666.67</td>\n",
       "      <td>333.33</td>\n",
       "      <td>2.0</td>\n",
       "      <td>33.46</td>\n",
       "      <td>0.13</td>\n",
       "    </tr>\n",
       "    <tr>\n",
       "      <th>8</th>\n",
       "      <td>HR</td>\n",
       "      <td>Iris</td>\n",
       "      <td>71000</td>\n",
       "      <td>5</td>\n",
       "      <td>4.1</td>\n",
       "      <td>68000.00</td>\n",
       "      <td>3000.00</td>\n",
       "      <td>1.0</td>\n",
       "      <td>34.80</td>\n",
       "      <td>1.00</td>\n",
       "    </tr>\n",
       "  </tbody>\n",
       "</table>\n",
       "</div>"
      ],
      "text/plain": [
       "  department employee  salary  years_exp  performance  dept_avg_salary  \\\n",
       "0      Sales    Alice   70000          5          4.2         72333.33   \n",
       "1         IT      Bob   85000          8          4.5         87666.67   \n",
       "2         HR  Charlie   65000          3          3.8         68000.00   \n",
       "3      Sales    David   72000          6          4.0         72333.33   \n",
       "4         IT      Eve   90000         10          4.7         87666.67   \n",
       "5         HR    Frank   68000          4          3.9         68000.00   \n",
       "6      Sales    Grace   75000          7          4.3         72333.33   \n",
       "7         IT    Henry   88000          9          4.6         87666.67   \n",
       "8         HR     Iris   71000          5          4.1         68000.00   \n",
       "\n",
       "   salary_vs_dept_avg  dept_rank  pct_of_dept_total  z_score  \n",
       "0            -2333.33        3.0              32.26    -0.93  \n",
       "1            -2666.67        3.0              32.32    -1.06  \n",
       "2            -3000.00        3.0              31.86    -1.00  \n",
       "3             -333.33        2.0              33.18    -0.13  \n",
       "4             2333.33        1.0              34.22     0.93  \n",
       "5                0.00        2.0              33.33     0.00  \n",
       "6             2666.67        1.0              34.56     1.06  \n",
       "7              333.33        2.0              33.46     0.13  \n",
       "8             3000.00        1.0              34.80     1.00  "
      ]
     },
     "execution_count": 10,
     "metadata": {},
     "output_type": "execute_result"
    }
   ],
   "source": [
    "# Multiple transforms\n",
    "# R: df %>% \n",
    "#     group_by(department) %>%\n",
    "#     mutate(dept_rank = rank(-salary),\n",
    "#            pct_of_dept_total = salary / sum(salary) * 100)\n",
    "df_transformed = df.assign(\n",
    "    dept_rank = lambda x: x.groupby('department')['salary'].rank(ascending=False),\n",
    "    pct_of_dept_total = lambda x: x.groupby('department')['salary'].transform(lambda s: s / s.sum() * 100),\n",
    "    z_score = lambda x: x.groupby('department')['salary'].transform(lambda s: (s - s.mean()) / s.std())\n",
    ")\n",
    "df_transformed.round(2)"
   ]
  },
  {
   "cell_type": "markdown",
   "id": "c076c938",
   "metadata": {},
   "source": [
    "## Multiple Grouping Variables\n",
    "\n",
    "Grouping by multiple columns:"
   ]
  },
  {
   "cell_type": "code",
   "execution_count": 11,
   "id": "c175cdd3",
   "metadata": {},
   "outputs": [
    {
     "data": {
      "application/vnd.microsoft.datawrangler.viewer.v0+json": {
       "columns": [
        {
         "name": "('region', 'department')",
         "rawType": "object",
         "type": "unknown"
        },
        {
         "name": "total_revenue",
         "rawType": "int64",
         "type": "integer"
        },
        {
         "name": "total_costs",
         "rawType": "int64",
         "type": "integer"
        },
        {
         "name": "profit",
         "rawType": "int64",
         "type": "integer"
        }
       ],
       "ref": "a974e45f-c419-497b-ae39-93dabe449f1f",
       "rows": [
        [
         "('East', 'HR')",
         "301580",
         "162119",
         "139461"
        ],
        [
         "('East', 'IT')",
         "283541",
         "183463",
         "100078"
        ],
        [
         "('East', 'Sales')",
         "376540",
         "161563",
         "214977"
        ],
        [
         "('West', 'HR')",
         "256471",
         "161226",
         "95245"
        ],
        [
         "('West', 'IT')",
         "334453",
         "188775",
         "145678"
        ],
        [
         "('West', 'Sales')",
         "316252",
         "147385",
         "168867"
        ]
       ],
       "shape": {
        "columns": 3,
        "rows": 6
       }
      },
      "text/html": [
       "<div>\n",
       "<style scoped>\n",
       "    .dataframe tbody tr th:only-of-type {\n",
       "        vertical-align: middle;\n",
       "    }\n",
       "\n",
       "    .dataframe tbody tr th {\n",
       "        vertical-align: top;\n",
       "    }\n",
       "\n",
       "    .dataframe thead th {\n",
       "        text-align: right;\n",
       "    }\n",
       "</style>\n",
       "<table border=\"1\" class=\"dataframe\">\n",
       "  <thead>\n",
       "    <tr style=\"text-align: right;\">\n",
       "      <th></th>\n",
       "      <th></th>\n",
       "      <th>total_revenue</th>\n",
       "      <th>total_costs</th>\n",
       "      <th>profit</th>\n",
       "    </tr>\n",
       "    <tr>\n",
       "      <th>region</th>\n",
       "      <th>department</th>\n",
       "      <th></th>\n",
       "      <th></th>\n",
       "      <th></th>\n",
       "    </tr>\n",
       "  </thead>\n",
       "  <tbody>\n",
       "    <tr>\n",
       "      <th rowspan=\"3\" valign=\"top\">East</th>\n",
       "      <th>HR</th>\n",
       "      <td>301580</td>\n",
       "      <td>162119</td>\n",
       "      <td>139461</td>\n",
       "    </tr>\n",
       "    <tr>\n",
       "      <th>IT</th>\n",
       "      <td>283541</td>\n",
       "      <td>183463</td>\n",
       "      <td>100078</td>\n",
       "    </tr>\n",
       "    <tr>\n",
       "      <th>Sales</th>\n",
       "      <td>376540</td>\n",
       "      <td>161563</td>\n",
       "      <td>214977</td>\n",
       "    </tr>\n",
       "    <tr>\n",
       "      <th rowspan=\"3\" valign=\"top\">West</th>\n",
       "      <th>HR</th>\n",
       "      <td>256471</td>\n",
       "      <td>161226</td>\n",
       "      <td>95245</td>\n",
       "    </tr>\n",
       "    <tr>\n",
       "      <th>IT</th>\n",
       "      <td>334453</td>\n",
       "      <td>188775</td>\n",
       "      <td>145678</td>\n",
       "    </tr>\n",
       "    <tr>\n",
       "      <th>Sales</th>\n",
       "      <td>316252</td>\n",
       "      <td>147385</td>\n",
       "      <td>168867</td>\n",
       "    </tr>\n",
       "  </tbody>\n",
       "</table>\n",
       "</div>"
      ],
      "text/plain": [
       "                   total_revenue  total_costs  profit\n",
       "region department                                    \n",
       "East   HR                 301580       162119  139461\n",
       "       IT                 283541       183463  100078\n",
       "       Sales              376540       161563  214977\n",
       "West   HR                 256471       161226   95245\n",
       "       IT                 334453       188775  145678\n",
       "       Sales              316252       147385  168867"
      ]
     },
     "execution_count": 11,
     "metadata": {},
     "output_type": "execute_result"
    }
   ],
   "source": [
    "# Create DataFrame with multiple grouping variables\n",
    "df_multi = pd.DataFrame({\n",
    "    'region': ['East', 'East', 'West', 'West', 'East', 'West'] * 3,\n",
    "    'department': ['Sales', 'IT', 'Sales', 'IT', 'HR', 'HR'] * 3,\n",
    "    'quarter': ['Q1', 'Q1', 'Q1', 'Q1', 'Q1', 'Q1',\n",
    "                'Q2', 'Q2', 'Q2', 'Q2', 'Q2', 'Q2',\n",
    "                'Q3', 'Q3', 'Q3', 'Q3', 'Q3', 'Q3'],\n",
    "    'revenue': np.random.randint(50000, 150000, 18),\n",
    "    'costs': np.random.randint(30000, 80000, 18)\n",
    "})\n",
    "\n",
    "# Group by multiple columns\n",
    "# R: df %>% \n",
    "#     group_by(region, department) %>%\n",
    "#     summarize(total_revenue = sum(revenue),\n",
    "#               total_costs = sum(costs),\n",
    "#               profit = sum(revenue - costs))\n",
    "df_multi.groupby(['region', 'department']).agg(\n",
    "    total_revenue=('revenue', 'sum'),\n",
    "    total_costs=('costs', 'sum')\n",
    ").assign(profit=lambda x: x['total_revenue'] - x['total_costs'])"
   ]
  },
  {
   "cell_type": "code",
   "execution_count": 12,
   "id": "d53d85a3",
   "metadata": {},
   "outputs": [
    {
     "data": {
      "application/vnd.microsoft.datawrangler.viewer.v0+json": {
       "columns": [
        {
         "name": "('region', 'department')",
         "rawType": "object",
         "type": "unknown"
        },
        {
         "name": "revenue",
         "rawType": "int64",
         "type": "integer"
        },
        {
         "name": "costs",
         "rawType": "int64",
         "type": "integer"
        }
       ],
       "ref": "3a1080be-d04f-4746-8b17-67f528917f8d",
       "rows": [
        [
         "('East', 'HR')",
         "301580",
         "162119"
        ],
        [
         "('East', 'IT')",
         "283541",
         "183463"
        ],
        [
         "('East', 'Sales')",
         "376540",
         "161563"
        ],
        [
         "('West', 'HR')",
         "256471",
         "161226"
        ],
        [
         "('West', 'IT')",
         "334453",
         "188775"
        ],
        [
         "('West', 'Sales')",
         "316252",
         "147385"
        ]
       ],
       "shape": {
        "columns": 2,
        "rows": 6
       }
      },
      "text/html": [
       "<div>\n",
       "<style scoped>\n",
       "    .dataframe tbody tr th:only-of-type {\n",
       "        vertical-align: middle;\n",
       "    }\n",
       "\n",
       "    .dataframe tbody tr th {\n",
       "        vertical-align: top;\n",
       "    }\n",
       "\n",
       "    .dataframe thead th {\n",
       "        text-align: right;\n",
       "    }\n",
       "</style>\n",
       "<table border=\"1\" class=\"dataframe\">\n",
       "  <thead>\n",
       "    <tr style=\"text-align: right;\">\n",
       "      <th></th>\n",
       "      <th></th>\n",
       "      <th>revenue</th>\n",
       "      <th>costs</th>\n",
       "    </tr>\n",
       "    <tr>\n",
       "      <th>region</th>\n",
       "      <th>department</th>\n",
       "      <th></th>\n",
       "      <th></th>\n",
       "    </tr>\n",
       "  </thead>\n",
       "  <tbody>\n",
       "    <tr>\n",
       "      <th rowspan=\"3\" valign=\"top\">East</th>\n",
       "      <th>HR</th>\n",
       "      <td>301580</td>\n",
       "      <td>162119</td>\n",
       "    </tr>\n",
       "    <tr>\n",
       "      <th>IT</th>\n",
       "      <td>283541</td>\n",
       "      <td>183463</td>\n",
       "    </tr>\n",
       "    <tr>\n",
       "      <th>Sales</th>\n",
       "      <td>376540</td>\n",
       "      <td>161563</td>\n",
       "    </tr>\n",
       "    <tr>\n",
       "      <th rowspan=\"3\" valign=\"top\">West</th>\n",
       "      <th>HR</th>\n",
       "      <td>256471</td>\n",
       "      <td>161226</td>\n",
       "    </tr>\n",
       "    <tr>\n",
       "      <th>IT</th>\n",
       "      <td>334453</td>\n",
       "      <td>188775</td>\n",
       "    </tr>\n",
       "    <tr>\n",
       "      <th>Sales</th>\n",
       "      <td>316252</td>\n",
       "      <td>147385</td>\n",
       "    </tr>\n",
       "  </tbody>\n",
       "</table>\n",
       "</div>"
      ],
      "text/plain": [
       "                   revenue   costs\n",
       "region department                 \n",
       "East   HR           301580  162119\n",
       "       IT           283541  183463\n",
       "       Sales        376540  161563\n",
       "West   HR           256471  161226\n",
       "       IT           334453  188775\n",
       "       Sales        316252  147385"
      ]
     },
     "execution_count": 12,
     "metadata": {},
     "output_type": "execute_result"
    }
   ],
   "source": [
    "# Hierarchical grouping with subtotals\n",
    "# First level: by region\n",
    "region_summary = df_multi.groupby('region').agg({\n",
    "    'revenue': 'sum',\n",
    "    'costs': 'sum'\n",
    "}).assign(level='Region Total')\n",
    "\n",
    "# Second level: by region and department\n",
    "region_dept_summary = df_multi.groupby(['region', 'department']).agg({\n",
    "    'revenue': 'sum',\n",
    "    'costs': 'sum'\n",
    "})\n",
    "\n",
    "region_dept_summary"
   ]
  },
  {
   "cell_type": "markdown",
   "id": "e687f71c",
   "metadata": {},
   "source": [
    "## Filter and Slice Groups\n",
    "\n",
    "Working with grouped data using filter and head/tail:"
   ]
  },
  {
   "cell_type": "code",
   "execution_count": 13,
   "id": "8647b99c",
   "metadata": {},
   "outputs": [
    {
     "data": {
      "application/vnd.microsoft.datawrangler.viewer.v0+json": {
       "columns": [
        {
         "name": "index",
         "rawType": "int64",
         "type": "integer"
        },
        {
         "name": "department",
         "rawType": "object",
         "type": "string"
        },
        {
         "name": "employee",
         "rawType": "object",
         "type": "string"
        },
        {
         "name": "salary",
         "rawType": "int64",
         "type": "integer"
        },
        {
         "name": "years_exp",
         "rawType": "int64",
         "type": "integer"
        },
        {
         "name": "performance",
         "rawType": "float64",
         "type": "float"
        },
        {
         "name": "dept_avg_salary",
         "rawType": "float64",
         "type": "float"
        },
        {
         "name": "salary_vs_dept_avg",
         "rawType": "float64",
         "type": "float"
        }
       ],
       "ref": "fb8a1a35-c131-4325-a858-7b99a9232084",
       "rows": [
        [
         "1",
         "IT",
         "Bob",
         "85000",
         "8",
         "4.5",
         "87666.66666666667",
         "-2666.6666666666715"
        ],
        [
         "4",
         "IT",
         "Eve",
         "90000",
         "10",
         "4.7",
         "87666.66666666667",
         "2333.3333333333285"
        ],
        [
         "7",
         "IT",
         "Henry",
         "88000",
         "9",
         "4.6",
         "87666.66666666667",
         "333.3333333333285"
        ]
       ],
       "shape": {
        "columns": 7,
        "rows": 3
       }
      },
      "text/html": [
       "<div>\n",
       "<style scoped>\n",
       "    .dataframe tbody tr th:only-of-type {\n",
       "        vertical-align: middle;\n",
       "    }\n",
       "\n",
       "    .dataframe tbody tr th {\n",
       "        vertical-align: top;\n",
       "    }\n",
       "\n",
       "    .dataframe thead th {\n",
       "        text-align: right;\n",
       "    }\n",
       "</style>\n",
       "<table border=\"1\" class=\"dataframe\">\n",
       "  <thead>\n",
       "    <tr style=\"text-align: right;\">\n",
       "      <th></th>\n",
       "      <th>department</th>\n",
       "      <th>employee</th>\n",
       "      <th>salary</th>\n",
       "      <th>years_exp</th>\n",
       "      <th>performance</th>\n",
       "      <th>dept_avg_salary</th>\n",
       "      <th>salary_vs_dept_avg</th>\n",
       "    </tr>\n",
       "  </thead>\n",
       "  <tbody>\n",
       "    <tr>\n",
       "      <th>1</th>\n",
       "      <td>IT</td>\n",
       "      <td>Bob</td>\n",
       "      <td>85000</td>\n",
       "      <td>8</td>\n",
       "      <td>4.5</td>\n",
       "      <td>87666.666667</td>\n",
       "      <td>-2666.666667</td>\n",
       "    </tr>\n",
       "    <tr>\n",
       "      <th>4</th>\n",
       "      <td>IT</td>\n",
       "      <td>Eve</td>\n",
       "      <td>90000</td>\n",
       "      <td>10</td>\n",
       "      <td>4.7</td>\n",
       "      <td>87666.666667</td>\n",
       "      <td>2333.333333</td>\n",
       "    </tr>\n",
       "    <tr>\n",
       "      <th>7</th>\n",
       "      <td>IT</td>\n",
       "      <td>Henry</td>\n",
       "      <td>88000</td>\n",
       "      <td>9</td>\n",
       "      <td>4.6</td>\n",
       "      <td>87666.666667</td>\n",
       "      <td>333.333333</td>\n",
       "    </tr>\n",
       "  </tbody>\n",
       "</table>\n",
       "</div>"
      ],
      "text/plain": [
       "  department employee  salary  years_exp  performance  dept_avg_salary  \\\n",
       "1         IT      Bob   85000          8          4.5     87666.666667   \n",
       "4         IT      Eve   90000         10          4.7     87666.666667   \n",
       "7         IT    Henry   88000          9          4.6     87666.666667   \n",
       "\n",
       "   salary_vs_dept_avg  \n",
       "1        -2666.666667  \n",
       "4         2333.333333  \n",
       "7          333.333333  "
      ]
     },
     "execution_count": 13,
     "metadata": {},
     "output_type": "execute_result"
    }
   ],
   "source": [
    "# Filter groups based on group statistics\n",
    "# R: df %>% \n",
    "#     group_by(department) %>%\n",
    "#     filter(mean(salary) > 75000)\n",
    "df_filtered = df.groupby('department').filter(lambda x: x['salary'].mean() > 75000)\n",
    "df_filtered"
   ]
  },
  {
   "cell_type": "code",
   "execution_count": 14,
   "id": "a434565b",
   "metadata": {},
   "outputs": [
    {
     "data": {
      "application/vnd.microsoft.datawrangler.viewer.v0+json": {
       "columns": [
        {
         "name": "index",
         "rawType": "int64",
         "type": "integer"
        },
        {
         "name": "department",
         "rawType": "object",
         "type": "string"
        },
        {
         "name": "employee",
         "rawType": "object",
         "type": "string"
        },
        {
         "name": "salary",
         "rawType": "int64",
         "type": "integer"
        },
        {
         "name": "years_exp",
         "rawType": "int64",
         "type": "integer"
        },
        {
         "name": "performance",
         "rawType": "float64",
         "type": "float"
        },
        {
         "name": "dept_avg_salary",
         "rawType": "float64",
         "type": "float"
        },
        {
         "name": "salary_vs_dept_avg",
         "rawType": "float64",
         "type": "float"
        }
       ],
       "ref": "6fe20b55-93de-429e-9e26-464b762e8b7c",
       "rows": [
        [
         "4",
         "IT",
         "Eve",
         "90000",
         "10",
         "4.7",
         "87666.66666666667",
         "2333.3333333333285"
        ],
        [
         "7",
         "IT",
         "Henry",
         "88000",
         "9",
         "4.6",
         "87666.66666666667",
         "333.3333333333285"
        ],
        [
         "6",
         "Sales",
         "Grace",
         "75000",
         "7",
         "4.3",
         "72333.33333333333",
         "2666.6666666666715"
        ],
        [
         "0",
         "Sales",
         "Alice",
         "70000",
         "5",
         "4.2",
         "72333.33333333333",
         "-2333.3333333333285"
        ],
        [
         "8",
         "HR",
         "Iris",
         "71000",
         "5",
         "4.1",
         "68000.0",
         "3000.0"
        ],
        [
         "5",
         "HR",
         "Frank",
         "68000",
         "4",
         "3.9",
         "68000.0",
         "0.0"
        ]
       ],
       "shape": {
        "columns": 7,
        "rows": 6
       }
      },
      "text/html": [
       "<div>\n",
       "<style scoped>\n",
       "    .dataframe tbody tr th:only-of-type {\n",
       "        vertical-align: middle;\n",
       "    }\n",
       "\n",
       "    .dataframe tbody tr th {\n",
       "        vertical-align: top;\n",
       "    }\n",
       "\n",
       "    .dataframe thead th {\n",
       "        text-align: right;\n",
       "    }\n",
       "</style>\n",
       "<table border=\"1\" class=\"dataframe\">\n",
       "  <thead>\n",
       "    <tr style=\"text-align: right;\">\n",
       "      <th></th>\n",
       "      <th>department</th>\n",
       "      <th>employee</th>\n",
       "      <th>salary</th>\n",
       "      <th>years_exp</th>\n",
       "      <th>performance</th>\n",
       "      <th>dept_avg_salary</th>\n",
       "      <th>salary_vs_dept_avg</th>\n",
       "    </tr>\n",
       "  </thead>\n",
       "  <tbody>\n",
       "    <tr>\n",
       "      <th>4</th>\n",
       "      <td>IT</td>\n",
       "      <td>Eve</td>\n",
       "      <td>90000</td>\n",
       "      <td>10</td>\n",
       "      <td>4.7</td>\n",
       "      <td>87666.666667</td>\n",
       "      <td>2333.333333</td>\n",
       "    </tr>\n",
       "    <tr>\n",
       "      <th>7</th>\n",
       "      <td>IT</td>\n",
       "      <td>Henry</td>\n",
       "      <td>88000</td>\n",
       "      <td>9</td>\n",
       "      <td>4.6</td>\n",
       "      <td>87666.666667</td>\n",
       "      <td>333.333333</td>\n",
       "    </tr>\n",
       "    <tr>\n",
       "      <th>6</th>\n",
       "      <td>Sales</td>\n",
       "      <td>Grace</td>\n",
       "      <td>75000</td>\n",
       "      <td>7</td>\n",
       "      <td>4.3</td>\n",
       "      <td>72333.333333</td>\n",
       "      <td>2666.666667</td>\n",
       "    </tr>\n",
       "    <tr>\n",
       "      <th>0</th>\n",
       "      <td>Sales</td>\n",
       "      <td>Alice</td>\n",
       "      <td>70000</td>\n",
       "      <td>5</td>\n",
       "      <td>4.2</td>\n",
       "      <td>72333.333333</td>\n",
       "      <td>-2333.333333</td>\n",
       "    </tr>\n",
       "    <tr>\n",
       "      <th>8</th>\n",
       "      <td>HR</td>\n",
       "      <td>Iris</td>\n",
       "      <td>71000</td>\n",
       "      <td>5</td>\n",
       "      <td>4.1</td>\n",
       "      <td>68000.000000</td>\n",
       "      <td>3000.000000</td>\n",
       "    </tr>\n",
       "    <tr>\n",
       "      <th>5</th>\n",
       "      <td>HR</td>\n",
       "      <td>Frank</td>\n",
       "      <td>68000</td>\n",
       "      <td>4</td>\n",
       "      <td>3.9</td>\n",
       "      <td>68000.000000</td>\n",
       "      <td>0.000000</td>\n",
       "    </tr>\n",
       "  </tbody>\n",
       "</table>\n",
       "</div>"
      ],
      "text/plain": [
       "  department employee  salary  years_exp  performance  dept_avg_salary  \\\n",
       "4         IT      Eve   90000         10          4.7     87666.666667   \n",
       "7         IT    Henry   88000          9          4.6     87666.666667   \n",
       "6      Sales    Grace   75000          7          4.3     72333.333333   \n",
       "0      Sales    Alice   70000          5          4.2     72333.333333   \n",
       "8         HR     Iris   71000          5          4.1     68000.000000   \n",
       "5         HR    Frank   68000          4          3.9     68000.000000   \n",
       "\n",
       "   salary_vs_dept_avg  \n",
       "4         2333.333333  \n",
       "7          333.333333  \n",
       "6         2666.666667  \n",
       "0        -2333.333333  \n",
       "8         3000.000000  \n",
       "5            0.000000  "
      ]
     },
     "execution_count": 14,
     "metadata": {},
     "output_type": "execute_result"
    }
   ],
   "source": [
    "# Keep only top performers in each department\n",
    "# R: df %>% \n",
    "#     group_by(department) %>%\n",
    "#     slice_max(performance, n = 2)\n",
    "df.sort_values('performance', ascending=False).groupby('department').head(2)"
   ]
  },
  {
   "cell_type": "code",
   "execution_count": 15,
   "id": "41dc5bf8",
   "metadata": {},
   "outputs": [
    {
     "data": {
      "application/vnd.microsoft.datawrangler.viewer.v0+json": {
       "columns": [
        {
         "name": "index",
         "rawType": "int64",
         "type": "integer"
        },
        {
         "name": "department",
         "rawType": "object",
         "type": "string"
        },
        {
         "name": "employee",
         "rawType": "object",
         "type": "string"
        },
        {
         "name": "salary",
         "rawType": "int64",
         "type": "integer"
        },
        {
         "name": "years_exp",
         "rawType": "int64",
         "type": "integer"
        },
        {
         "name": "performance",
         "rawType": "float64",
         "type": "float"
        },
        {
         "name": "dept_avg_salary",
         "rawType": "float64",
         "type": "float"
        },
        {
         "name": "salary_vs_dept_avg",
         "rawType": "float64",
         "type": "float"
        }
       ],
       "ref": "385154d5-2b7e-4e57-8d23-0e047f756117",
       "rows": [
        [
         "0",
         "Sales",
         "Alice",
         "70000",
         "5",
         "4.2",
         "72333.33333333333",
         "-2333.3333333333285"
        ],
        [
         "1",
         "IT",
         "Bob",
         "85000",
         "8",
         "4.5",
         "87666.66666666667",
         "-2666.6666666666715"
        ],
        [
         "3",
         "Sales",
         "David",
         "72000",
         "6",
         "4.0",
         "72333.33333333333",
         "-333.3333333333285"
        ],
        [
         "4",
         "IT",
         "Eve",
         "90000",
         "10",
         "4.7",
         "87666.66666666667",
         "2333.3333333333285"
        ],
        [
         "6",
         "Sales",
         "Grace",
         "75000",
         "7",
         "4.3",
         "72333.33333333333",
         "2666.6666666666715"
        ],
        [
         "7",
         "IT",
         "Henry",
         "88000",
         "9",
         "4.6",
         "87666.66666666667",
         "333.3333333333285"
        ]
       ],
       "shape": {
        "columns": 7,
        "rows": 6
       }
      },
      "text/html": [
       "<div>\n",
       "<style scoped>\n",
       "    .dataframe tbody tr th:only-of-type {\n",
       "        vertical-align: middle;\n",
       "    }\n",
       "\n",
       "    .dataframe tbody tr th {\n",
       "        vertical-align: top;\n",
       "    }\n",
       "\n",
       "    .dataframe thead th {\n",
       "        text-align: right;\n",
       "    }\n",
       "</style>\n",
       "<table border=\"1\" class=\"dataframe\">\n",
       "  <thead>\n",
       "    <tr style=\"text-align: right;\">\n",
       "      <th></th>\n",
       "      <th>department</th>\n",
       "      <th>employee</th>\n",
       "      <th>salary</th>\n",
       "      <th>years_exp</th>\n",
       "      <th>performance</th>\n",
       "      <th>dept_avg_salary</th>\n",
       "      <th>salary_vs_dept_avg</th>\n",
       "    </tr>\n",
       "  </thead>\n",
       "  <tbody>\n",
       "    <tr>\n",
       "      <th>0</th>\n",
       "      <td>Sales</td>\n",
       "      <td>Alice</td>\n",
       "      <td>70000</td>\n",
       "      <td>5</td>\n",
       "      <td>4.2</td>\n",
       "      <td>72333.333333</td>\n",
       "      <td>-2333.333333</td>\n",
       "    </tr>\n",
       "    <tr>\n",
       "      <th>1</th>\n",
       "      <td>IT</td>\n",
       "      <td>Bob</td>\n",
       "      <td>85000</td>\n",
       "      <td>8</td>\n",
       "      <td>4.5</td>\n",
       "      <td>87666.666667</td>\n",
       "      <td>-2666.666667</td>\n",
       "    </tr>\n",
       "    <tr>\n",
       "      <th>3</th>\n",
       "      <td>Sales</td>\n",
       "      <td>David</td>\n",
       "      <td>72000</td>\n",
       "      <td>6</td>\n",
       "      <td>4.0</td>\n",
       "      <td>72333.333333</td>\n",
       "      <td>-333.333333</td>\n",
       "    </tr>\n",
       "    <tr>\n",
       "      <th>4</th>\n",
       "      <td>IT</td>\n",
       "      <td>Eve</td>\n",
       "      <td>90000</td>\n",
       "      <td>10</td>\n",
       "      <td>4.7</td>\n",
       "      <td>87666.666667</td>\n",
       "      <td>2333.333333</td>\n",
       "    </tr>\n",
       "    <tr>\n",
       "      <th>6</th>\n",
       "      <td>Sales</td>\n",
       "      <td>Grace</td>\n",
       "      <td>75000</td>\n",
       "      <td>7</td>\n",
       "      <td>4.3</td>\n",
       "      <td>72333.333333</td>\n",
       "      <td>2666.666667</td>\n",
       "    </tr>\n",
       "    <tr>\n",
       "      <th>7</th>\n",
       "      <td>IT</td>\n",
       "      <td>Henry</td>\n",
       "      <td>88000</td>\n",
       "      <td>9</td>\n",
       "      <td>4.6</td>\n",
       "      <td>87666.666667</td>\n",
       "      <td>333.333333</td>\n",
       "    </tr>\n",
       "  </tbody>\n",
       "</table>\n",
       "</div>"
      ],
      "text/plain": [
       "  department employee  salary  years_exp  performance  dept_avg_salary  \\\n",
       "0      Sales    Alice   70000          5          4.2     72333.333333   \n",
       "1         IT      Bob   85000          8          4.5     87666.666667   \n",
       "3      Sales    David   72000          6          4.0     72333.333333   \n",
       "4         IT      Eve   90000         10          4.7     87666.666667   \n",
       "6      Sales    Grace   75000          7          4.3     72333.333333   \n",
       "7         IT    Henry   88000          9          4.6     87666.666667   \n",
       "\n",
       "   salary_vs_dept_avg  \n",
       "0        -2333.333333  \n",
       "1        -2666.666667  \n",
       "3         -333.333333  \n",
       "4         2333.333333  \n",
       "6         2666.666667  \n",
       "7          333.333333  "
      ]
     },
     "execution_count": 15,
     "metadata": {},
     "output_type": "execute_result"
    }
   ],
   "source": [
    "# More complex filtering\n",
    "# Keep departments where all employees have 5+ years experience\n",
    "# R: df %>% \n",
    "#     group_by(department) %>%\n",
    "#     filter(all(years_exp >= 5))\n",
    "df.groupby('department').filter(lambda x: (x['years_exp'] >= 5).all())"
   ]
  },
  {
   "cell_type": "markdown",
   "id": "2364aa3b",
   "metadata": {},
   "source": [
    "## Window Functions with Groups\n",
    "\n",
    "Calculating running totals and other window functions within groups:"
   ]
  },
  {
   "cell_type": "code",
   "execution_count": 16,
   "id": "63bac233",
   "metadata": {},
   "outputs": [
    {
     "name": "stderr",
     "output_type": "stream",
     "text": [
      "/var/folders/70/7wmmf6t55cb84bfx9g1c1k1m0000gn/T/ipykernel_71546/2024250551.py:3: FutureWarning: 'M' is deprecated and will be removed in a future version, please use 'ME' instead.\n",
      "  'date': pd.date_range('2024-01-01', periods=12, freq='M'),\n"
     ]
    },
    {
     "data": {
      "application/vnd.microsoft.datawrangler.viewer.v0+json": {
       "columns": [
        {
         "name": "index",
         "rawType": "int64",
         "type": "integer"
        },
        {
         "name": "date",
         "rawType": "datetime64[ns]",
         "type": "datetime"
        },
        {
         "name": "region",
         "rawType": "object",
         "type": "string"
        },
        {
         "name": "sales",
         "rawType": "int64",
         "type": "integer"
        },
        {
         "name": "cumsum_sales",
         "rawType": "int64",
         "type": "integer"
        },
        {
         "name": "rolling_avg_3m",
         "rawType": "float64",
         "type": "float"
        },
        {
         "name": "pct_of_region_total",
         "rawType": "float64",
         "type": "float"
        }
       ],
       "ref": "31eaa460-d263-46af-a770-babde819a359",
       "rows": [
        [
         "0",
         "2024-01-31 00:00:00",
         "North",
         "44298",
         "44298",
         "44298.0",
         "17.64"
        ],
        [
         "2",
         "2024-03-31 00:00:00",
         "North",
         "45257",
         "89555",
         "44777.5",
         "18.02"
        ],
        [
         "4",
         "2024-05-31 00:00:00",
         "North",
         "43361",
         "132916",
         "44305.33",
         "17.27"
        ],
        [
         "6",
         "2024-07-31 00:00:00",
         "North",
         "25793",
         "158709",
         "38137.0",
         "10.27"
        ],
        [
         "8",
         "2024-09-30 00:00:00",
         "North",
         "48385",
         "207094",
         "39179.67",
         "19.27"
        ],
        [
         "10",
         "2024-11-30 00:00:00",
         "North",
         "44037",
         "251131",
         "39405.0",
         "17.54"
        ],
        [
         "1",
         "2024-02-29 00:00:00",
         "South",
         "36389",
         "36389",
         "36389.0",
         "22.01"
        ],
        [
         "3",
         "2024-04-30 00:00:00",
         "South",
         "24205",
         "60594",
         "30297.0",
         "14.64"
        ],
        [
         "5",
         "2024-06-30 00:00:00",
         "South",
         "11925",
         "72519",
         "24173.0",
         "7.21"
        ],
        [
         "7",
         "2024-08-31 00:00:00",
         "South",
         "43933",
         "116452",
         "26687.67",
         "26.58"
        ],
        [
         "9",
         "2024-10-31 00:00:00",
         "South",
         "33041",
         "149493",
         "29633.0",
         "19.99"
        ],
        [
         "11",
         "2024-12-31 00:00:00",
         "South",
         "15807",
         "165300",
         "30927.0",
         "9.56"
        ]
       ],
       "shape": {
        "columns": 6,
        "rows": 12
       }
      },
      "text/html": [
       "<div>\n",
       "<style scoped>\n",
       "    .dataframe tbody tr th:only-of-type {\n",
       "        vertical-align: middle;\n",
       "    }\n",
       "\n",
       "    .dataframe tbody tr th {\n",
       "        vertical-align: top;\n",
       "    }\n",
       "\n",
       "    .dataframe thead th {\n",
       "        text-align: right;\n",
       "    }\n",
       "</style>\n",
       "<table border=\"1\" class=\"dataframe\">\n",
       "  <thead>\n",
       "    <tr style=\"text-align: right;\">\n",
       "      <th></th>\n",
       "      <th>date</th>\n",
       "      <th>region</th>\n",
       "      <th>sales</th>\n",
       "      <th>cumsum_sales</th>\n",
       "      <th>rolling_avg_3m</th>\n",
       "      <th>pct_of_region_total</th>\n",
       "    </tr>\n",
       "  </thead>\n",
       "  <tbody>\n",
       "    <tr>\n",
       "      <th>0</th>\n",
       "      <td>2024-01-31</td>\n",
       "      <td>North</td>\n",
       "      <td>44298</td>\n",
       "      <td>44298</td>\n",
       "      <td>44298.00</td>\n",
       "      <td>17.64</td>\n",
       "    </tr>\n",
       "    <tr>\n",
       "      <th>2</th>\n",
       "      <td>2024-03-31</td>\n",
       "      <td>North</td>\n",
       "      <td>45257</td>\n",
       "      <td>89555</td>\n",
       "      <td>44777.50</td>\n",
       "      <td>18.02</td>\n",
       "    </tr>\n",
       "    <tr>\n",
       "      <th>4</th>\n",
       "      <td>2024-05-31</td>\n",
       "      <td>North</td>\n",
       "      <td>43361</td>\n",
       "      <td>132916</td>\n",
       "      <td>44305.33</td>\n",
       "      <td>17.27</td>\n",
       "    </tr>\n",
       "    <tr>\n",
       "      <th>6</th>\n",
       "      <td>2024-07-31</td>\n",
       "      <td>North</td>\n",
       "      <td>25793</td>\n",
       "      <td>158709</td>\n",
       "      <td>38137.00</td>\n",
       "      <td>10.27</td>\n",
       "    </tr>\n",
       "    <tr>\n",
       "      <th>8</th>\n",
       "      <td>2024-09-30</td>\n",
       "      <td>North</td>\n",
       "      <td>48385</td>\n",
       "      <td>207094</td>\n",
       "      <td>39179.67</td>\n",
       "      <td>19.27</td>\n",
       "    </tr>\n",
       "    <tr>\n",
       "      <th>10</th>\n",
       "      <td>2024-11-30</td>\n",
       "      <td>North</td>\n",
       "      <td>44037</td>\n",
       "      <td>251131</td>\n",
       "      <td>39405.00</td>\n",
       "      <td>17.54</td>\n",
       "    </tr>\n",
       "    <tr>\n",
       "      <th>1</th>\n",
       "      <td>2024-02-29</td>\n",
       "      <td>South</td>\n",
       "      <td>36389</td>\n",
       "      <td>36389</td>\n",
       "      <td>36389.00</td>\n",
       "      <td>22.01</td>\n",
       "    </tr>\n",
       "    <tr>\n",
       "      <th>3</th>\n",
       "      <td>2024-04-30</td>\n",
       "      <td>South</td>\n",
       "      <td>24205</td>\n",
       "      <td>60594</td>\n",
       "      <td>30297.00</td>\n",
       "      <td>14.64</td>\n",
       "    </tr>\n",
       "    <tr>\n",
       "      <th>5</th>\n",
       "      <td>2024-06-30</td>\n",
       "      <td>South</td>\n",
       "      <td>11925</td>\n",
       "      <td>72519</td>\n",
       "      <td>24173.00</td>\n",
       "      <td>7.21</td>\n",
       "    </tr>\n",
       "    <tr>\n",
       "      <th>7</th>\n",
       "      <td>2024-08-31</td>\n",
       "      <td>South</td>\n",
       "      <td>43933</td>\n",
       "      <td>116452</td>\n",
       "      <td>26687.67</td>\n",
       "      <td>26.58</td>\n",
       "    </tr>\n",
       "    <tr>\n",
       "      <th>9</th>\n",
       "      <td>2024-10-31</td>\n",
       "      <td>South</td>\n",
       "      <td>33041</td>\n",
       "      <td>149493</td>\n",
       "      <td>29633.00</td>\n",
       "      <td>19.99</td>\n",
       "    </tr>\n",
       "    <tr>\n",
       "      <th>11</th>\n",
       "      <td>2024-12-31</td>\n",
       "      <td>South</td>\n",
       "      <td>15807</td>\n",
       "      <td>165300</td>\n",
       "      <td>30927.00</td>\n",
       "      <td>9.56</td>\n",
       "    </tr>\n",
       "  </tbody>\n",
       "</table>\n",
       "</div>"
      ],
      "text/plain": [
       "         date region  sales  cumsum_sales  rolling_avg_3m  pct_of_region_total\n",
       "0  2024-01-31  North  44298         44298        44298.00                17.64\n",
       "2  2024-03-31  North  45257         89555        44777.50                18.02\n",
       "4  2024-05-31  North  43361        132916        44305.33                17.27\n",
       "6  2024-07-31  North  25793        158709        38137.00                10.27\n",
       "8  2024-09-30  North  48385        207094        39179.67                19.27\n",
       "10 2024-11-30  North  44037        251131        39405.00                17.54\n",
       "1  2024-02-29  South  36389         36389        36389.00                22.01\n",
       "3  2024-04-30  South  24205         60594        30297.00                14.64\n",
       "5  2024-06-30  South  11925         72519        24173.00                 7.21\n",
       "7  2024-08-31  South  43933        116452        26687.67                26.58\n",
       "9  2024-10-31  South  33041        149493        29633.00                19.99\n",
       "11 2024-12-31  South  15807        165300        30927.00                 9.56"
      ]
     },
     "execution_count": 16,
     "metadata": {},
     "output_type": "execute_result"
    }
   ],
   "source": [
    "# Create time-series grouped data\n",
    "df_sales = pd.DataFrame({\n",
    "    'date': pd.date_range('2024-01-01', periods=12, freq='M'),\n",
    "    'region': ['North', 'South'] * 6,\n",
    "    'sales': np.random.randint(10000, 50000, 12)\n",
    "})\n",
    "\n",
    "# Cumulative calculations within groups\n",
    "# R: df %>% \n",
    "#     group_by(region) %>%\n",
    "#     arrange(date) %>%\n",
    "#     mutate(cumsum_sales = cumsum(sales),\n",
    "#            rolling_avg = rollmean(sales, k = 3, fill = NA, align = \"right\"))\n",
    "df_sales_calc = (df_sales\n",
    "    .sort_values(['region', 'date'])\n",
    "    .assign(\n",
    "        cumsum_sales = lambda x: x.groupby('region')['sales'].cumsum(),\n",
    "        rolling_avg_3m = lambda x: x.groupby('region')['sales'].transform(lambda s: s.rolling(3, min_periods=1).mean()),\n",
    "        pct_of_region_total = lambda x: x.groupby('region')['sales'].transform(lambda s: s / s.sum() * 100)\n",
    "    )\n",
    ")\n",
    "df_sales_calc.round(2)"
   ]
  },
  {
   "cell_type": "markdown",
   "id": "93443dd3",
   "metadata": {},
   "source": [
    "## Pivot Tables as Grouped Aggregations\n",
    "\n",
    "Using pivot_table for grouped summaries:"
   ]
  },
  {
   "cell_type": "code",
   "execution_count": 20,
   "id": "4f758b96",
   "metadata": {},
   "outputs": [
    {
     "data": {
      "application/vnd.microsoft.datawrangler.viewer.v0+json": {
       "columns": [
        {
         "name": "index",
         "rawType": "int64",
         "type": "integer"
        },
        {
         "name": "region",
         "rawType": "object",
         "type": "string"
        },
        {
         "name": "department",
         "rawType": "object",
         "type": "string"
        },
        {
         "name": "quarter",
         "rawType": "object",
         "type": "string"
        },
        {
         "name": "revenue",
         "rawType": "int64",
         "type": "integer"
        },
        {
         "name": "costs",
         "rawType": "int64",
         "type": "integer"
        }
       ],
       "ref": "bcdbd3d9-907f-453e-b94a-0822eb8600de",
       "rows": [
        [
         "0",
         "East",
         "Sales",
         "Q1",
         "142313",
         "43082"
        ],
        [
         "1",
         "East",
         "IT",
         "Q1",
         "143488",
         "51335"
        ],
        [
         "2",
         "West",
         "Sales",
         "Q1",
         "149890",
         "44367"
        ],
        [
         "3",
         "West",
         "IT",
         "Q1",
         "103865",
         "78044"
        ],
        [
         "4",
         "East",
         "HR",
         "Q1",
         "85971",
         "56692"
        ]
       ],
       "shape": {
        "columns": 5,
        "rows": 5
       }
      },
      "text/html": [
       "<div>\n",
       "<style scoped>\n",
       "    .dataframe tbody tr th:only-of-type {\n",
       "        vertical-align: middle;\n",
       "    }\n",
       "\n",
       "    .dataframe tbody tr th {\n",
       "        vertical-align: top;\n",
       "    }\n",
       "\n",
       "    .dataframe thead th {\n",
       "        text-align: right;\n",
       "    }\n",
       "</style>\n",
       "<table border=\"1\" class=\"dataframe\">\n",
       "  <thead>\n",
       "    <tr style=\"text-align: right;\">\n",
       "      <th></th>\n",
       "      <th>region</th>\n",
       "      <th>department</th>\n",
       "      <th>quarter</th>\n",
       "      <th>revenue</th>\n",
       "      <th>costs</th>\n",
       "    </tr>\n",
       "  </thead>\n",
       "  <tbody>\n",
       "    <tr>\n",
       "      <th>0</th>\n",
       "      <td>East</td>\n",
       "      <td>Sales</td>\n",
       "      <td>Q1</td>\n",
       "      <td>142313</td>\n",
       "      <td>43082</td>\n",
       "    </tr>\n",
       "    <tr>\n",
       "      <th>1</th>\n",
       "      <td>East</td>\n",
       "      <td>IT</td>\n",
       "      <td>Q1</td>\n",
       "      <td>143488</td>\n",
       "      <td>51335</td>\n",
       "    </tr>\n",
       "    <tr>\n",
       "      <th>2</th>\n",
       "      <td>West</td>\n",
       "      <td>Sales</td>\n",
       "      <td>Q1</td>\n",
       "      <td>149890</td>\n",
       "      <td>44367</td>\n",
       "    </tr>\n",
       "    <tr>\n",
       "      <th>3</th>\n",
       "      <td>West</td>\n",
       "      <td>IT</td>\n",
       "      <td>Q1</td>\n",
       "      <td>103865</td>\n",
       "      <td>78044</td>\n",
       "    </tr>\n",
       "    <tr>\n",
       "      <th>4</th>\n",
       "      <td>East</td>\n",
       "      <td>HR</td>\n",
       "      <td>Q1</td>\n",
       "      <td>85971</td>\n",
       "      <td>56692</td>\n",
       "    </tr>\n",
       "  </tbody>\n",
       "</table>\n",
       "</div>"
      ],
      "text/plain": [
       "  region department quarter  revenue  costs\n",
       "0   East      Sales      Q1   142313  43082\n",
       "1   East         IT      Q1   143488  51335\n",
       "2   West      Sales      Q1   149890  44367\n",
       "3   West         IT      Q1   103865  78044\n",
       "4   East         HR      Q1    85971  56692"
      ]
     },
     "execution_count": 20,
     "metadata": {},
     "output_type": "execute_result"
    }
   ],
   "source": [
    "df_multi.head(5)"
   ]
  },
  {
   "cell_type": "code",
   "execution_count": 17,
   "id": "0dca7102",
   "metadata": {},
   "outputs": [
    {
     "data": {
      "application/vnd.microsoft.datawrangler.viewer.v0+json": {
       "columns": [
        {
         "name": "region",
         "rawType": "object",
         "type": "string"
        },
        {
         "name": "Q1",
         "rawType": "int64",
         "type": "integer"
        },
        {
         "name": "Q2",
         "rawType": "int64",
         "type": "integer"
        },
        {
         "name": "Q3",
         "rawType": "int64",
         "type": "integer"
        }
       ],
       "ref": "5c32f677-5692-42d5-ba69-c9c54ebd81d8",
       "rows": [
        [
         "East",
         "371772",
         "287065",
         "302824"
        ],
        [
         "West",
         "360321",
         "250209",
         "296646"
        ]
       ],
       "shape": {
        "columns": 3,
        "rows": 2
       }
      },
      "text/html": [
       "<div>\n",
       "<style scoped>\n",
       "    .dataframe tbody tr th:only-of-type {\n",
       "        vertical-align: middle;\n",
       "    }\n",
       "\n",
       "    .dataframe tbody tr th {\n",
       "        vertical-align: top;\n",
       "    }\n",
       "\n",
       "    .dataframe thead th {\n",
       "        text-align: right;\n",
       "    }\n",
       "</style>\n",
       "<table border=\"1\" class=\"dataframe\">\n",
       "  <thead>\n",
       "    <tr style=\"text-align: right;\">\n",
       "      <th>quarter</th>\n",
       "      <th>Q1</th>\n",
       "      <th>Q2</th>\n",
       "      <th>Q3</th>\n",
       "    </tr>\n",
       "    <tr>\n",
       "      <th>region</th>\n",
       "      <th></th>\n",
       "      <th></th>\n",
       "      <th></th>\n",
       "    </tr>\n",
       "  </thead>\n",
       "  <tbody>\n",
       "    <tr>\n",
       "      <th>East</th>\n",
       "      <td>371772</td>\n",
       "      <td>287065</td>\n",
       "      <td>302824</td>\n",
       "    </tr>\n",
       "    <tr>\n",
       "      <th>West</th>\n",
       "      <td>360321</td>\n",
       "      <td>250209</td>\n",
       "      <td>296646</td>\n",
       "    </tr>\n",
       "  </tbody>\n",
       "</table>\n",
       "</div>"
      ],
      "text/plain": [
       "quarter      Q1      Q2      Q3\n",
       "region                         \n",
       "East     371772  287065  302824\n",
       "West     360321  250209  296646"
      ]
     },
     "execution_count": 17,
     "metadata": {},
     "output_type": "execute_result"
    }
   ],
   "source": [
    "# Pivot table for cross-tabulation\n",
    "# R: df %>% \n",
    "#     group_by(region, quarter) %>%\n",
    "#     summarize(total_revenue = sum(revenue)) %>%\n",
    "#     pivot_wider(names_from = quarter, values_from = total_revenue)\n",
    "pivot_result = df_multi.pivot_table(\n",
    "    values='revenue',\n",
    "    index='region',\n",
    "    columns='quarter',\n",
    "    aggfunc='sum'\n",
    ")\n",
    "pivot_result"
   ]
  },
  {
   "cell_type": "code",
   "execution_count": 18,
   "id": "dc210246",
   "metadata": {},
   "outputs": [
    {
     "data": {
      "application/vnd.microsoft.datawrangler.viewer.v0+json": {
       "columns": [
        {
         "name": "region",
         "rawType": "object",
         "type": "string"
        },
        {
         "name": "('costs', 'HR')",
         "rawType": "float64",
         "type": "float"
        },
        {
         "name": "('costs', 'IT')",
         "rawType": "float64",
         "type": "float"
        },
        {
         "name": "('costs', 'Sales')",
         "rawType": "float64",
         "type": "float"
        },
        {
         "name": "('revenue', 'HR')",
         "rawType": "int64",
         "type": "integer"
        },
        {
         "name": "('revenue', 'IT')",
         "rawType": "int64",
         "type": "integer"
        },
        {
         "name": "('revenue', 'Sales')",
         "rawType": "int64",
         "type": "integer"
        }
       ],
       "ref": "e88cad19-78cf-47fd-9db1-36375db8d2a6",
       "rows": [
        [
         "East",
         "54040.0",
         "61154.0",
         "53854.0",
         "301580",
         "283541",
         "376540"
        ],
        [
         "West",
         "53742.0",
         "62925.0",
         "49128.0",
         "256471",
         "334453",
         "316252"
        ]
       ],
       "shape": {
        "columns": 6,
        "rows": 2
       }
      },
      "text/html": [
       "<div>\n",
       "<style scoped>\n",
       "    .dataframe tbody tr th:only-of-type {\n",
       "        vertical-align: middle;\n",
       "    }\n",
       "\n",
       "    .dataframe tbody tr th {\n",
       "        vertical-align: top;\n",
       "    }\n",
       "\n",
       "    .dataframe thead tr th {\n",
       "        text-align: left;\n",
       "    }\n",
       "\n",
       "    .dataframe thead tr:last-of-type th {\n",
       "        text-align: right;\n",
       "    }\n",
       "</style>\n",
       "<table border=\"1\" class=\"dataframe\">\n",
       "  <thead>\n",
       "    <tr>\n",
       "      <th></th>\n",
       "      <th colspan=\"3\" halign=\"left\">costs</th>\n",
       "      <th colspan=\"3\" halign=\"left\">revenue</th>\n",
       "    </tr>\n",
       "    <tr>\n",
       "      <th>department</th>\n",
       "      <th>HR</th>\n",
       "      <th>IT</th>\n",
       "      <th>Sales</th>\n",
       "      <th>HR</th>\n",
       "      <th>IT</th>\n",
       "      <th>Sales</th>\n",
       "    </tr>\n",
       "    <tr>\n",
       "      <th>region</th>\n",
       "      <th></th>\n",
       "      <th></th>\n",
       "      <th></th>\n",
       "      <th></th>\n",
       "      <th></th>\n",
       "      <th></th>\n",
       "    </tr>\n",
       "  </thead>\n",
       "  <tbody>\n",
       "    <tr>\n",
       "      <th>East</th>\n",
       "      <td>54040.0</td>\n",
       "      <td>61154.0</td>\n",
       "      <td>53854.0</td>\n",
       "      <td>301580</td>\n",
       "      <td>283541</td>\n",
       "      <td>376540</td>\n",
       "    </tr>\n",
       "    <tr>\n",
       "      <th>West</th>\n",
       "      <td>53742.0</td>\n",
       "      <td>62925.0</td>\n",
       "      <td>49128.0</td>\n",
       "      <td>256471</td>\n",
       "      <td>334453</td>\n",
       "      <td>316252</td>\n",
       "    </tr>\n",
       "  </tbody>\n",
       "</table>\n",
       "</div>"
      ],
      "text/plain": [
       "              costs                   revenue                \n",
       "department       HR       IT    Sales      HR      IT   Sales\n",
       "region                                                       \n",
       "East        54040.0  61154.0  53854.0  301580  283541  376540\n",
       "West        53742.0  62925.0  49128.0  256471  334453  316252"
      ]
     },
     "execution_count": 18,
     "metadata": {},
     "output_type": "execute_result"
    }
   ],
   "source": [
    "# Multiple aggregations in pivot table\n",
    "pivot_multi = df_multi.pivot_table(\n",
    "    values=['revenue', 'costs'],\n",
    "    index='region',\n",
    "    columns='department',\n",
    "    aggfunc={'revenue': 'sum', 'costs': 'mean'},\n",
    "    fill_value=0\n",
    ")\n",
    "pivot_multi.round(0)"
   ]
  },
  {
   "cell_type": "markdown",
   "id": "130a6baf",
   "metadata": {},
   "source": [
    "## Advanced Groupby Operations\n",
    "\n",
    "Complex groupby patterns:"
   ]
  },
  {
   "cell_type": "code",
   "execution_count": 21,
   "id": "412e785c",
   "metadata": {},
   "outputs": [
    {
     "name": "stderr",
     "output_type": "stream",
     "text": [
      "/var/folders/70/7wmmf6t55cb84bfx9g1c1k1m0000gn/T/ipykernel_71546/2593765606.py:5: FutureWarning: 'M' is deprecated and will be removed in a future version, please use 'ME' instead.\n",
      "  'month': pd.date_range('2024-01-01', periods=12, freq='M').tolist() * 3,\n"
     ]
    },
    {
     "data": {
      "application/vnd.microsoft.datawrangler.viewer.v0+json": {
       "columns": [
        {
         "name": "('store_id', 'product')",
         "rawType": "object",
         "type": "unknown"
        },
        {
         "name": "total_units",
         "rawType": "int64",
         "type": "integer"
        },
        {
         "name": "avg_price",
         "rawType": "float64",
         "type": "float"
        },
        {
         "name": "total_revenue",
         "rawType": "float64",
         "type": "float"
        },
        {
         "name": "months_active",
         "rawType": "int64",
         "type": "integer"
        },
        {
         "name": "best_month",
         "rawType": "object",
         "type": "string"
        }
       ],
       "ref": "23eca30f-7fbe-47e3-96f0-65ae8faf2995",
       "rows": [
        [
         "('S01', 'A')",
         "397",
         "16.56",
         "6445.15",
         "3",
         "2024-05"
        ],
        [
         "('S01', 'B')",
         "349",
         "30.56",
         "11866.72",
         "3",
         "2024-02"
        ],
        [
         "('S01', 'C')",
         "382",
         "32.46",
         "10680.49",
         "3",
         "2024-07"
        ],
        [
         "('S01', 'D')",
         "476",
         "38.77",
         "18234.59",
         "3",
         "2024-12"
        ],
        [
         "('S02', 'A')",
         "274",
         "33.27",
         "8069.62",
         "3",
         "2024-09"
        ],
        [
         "('S02', 'B')",
         "424",
         "33.23",
         "13853.02",
         "3",
         "2024-02"
        ],
        [
         "('S02', 'C')",
         "357",
         "35.06",
         "11123.41",
         "3",
         "2024-03"
        ],
        [
         "('S02', 'D')",
         "419",
         "39.56",
         "16950.57",
         "3",
         "2024-08"
        ],
        [
         "('S03', 'A')",
         "355",
         "20.11",
         "7461.52",
         "3",
         "2024-05"
        ],
        [
         "('S03', 'B')",
         "396",
         "23.47",
         "9929.7",
         "3",
         "2024-10"
        ],
        [
         "('S03', 'C')",
         "247",
         "23.53",
         "6726.26",
         "3",
         "2024-07"
        ],
        [
         "('S03', 'D')",
         "402",
         "29.79",
         "11804.67",
         "3",
         "2024-12"
        ]
       ],
       "shape": {
        "columns": 5,
        "rows": 12
       }
      },
      "text/html": [
       "<div>\n",
       "<style scoped>\n",
       "    .dataframe tbody tr th:only-of-type {\n",
       "        vertical-align: middle;\n",
       "    }\n",
       "\n",
       "    .dataframe tbody tr th {\n",
       "        vertical-align: top;\n",
       "    }\n",
       "\n",
       "    .dataframe thead th {\n",
       "        text-align: right;\n",
       "    }\n",
       "</style>\n",
       "<table border=\"1\" class=\"dataframe\">\n",
       "  <thead>\n",
       "    <tr style=\"text-align: right;\">\n",
       "      <th></th>\n",
       "      <th></th>\n",
       "      <th>total_units</th>\n",
       "      <th>avg_price</th>\n",
       "      <th>total_revenue</th>\n",
       "      <th>months_active</th>\n",
       "      <th>best_month</th>\n",
       "    </tr>\n",
       "    <tr>\n",
       "      <th>store_id</th>\n",
       "      <th>product</th>\n",
       "      <th></th>\n",
       "      <th></th>\n",
       "      <th></th>\n",
       "      <th></th>\n",
       "      <th></th>\n",
       "    </tr>\n",
       "  </thead>\n",
       "  <tbody>\n",
       "    <tr>\n",
       "      <th rowspan=\"4\" valign=\"top\">S01</th>\n",
       "      <th>A</th>\n",
       "      <td>397</td>\n",
       "      <td>16.56</td>\n",
       "      <td>6445.15</td>\n",
       "      <td>3</td>\n",
       "      <td>2024-05</td>\n",
       "    </tr>\n",
       "    <tr>\n",
       "      <th>B</th>\n",
       "      <td>349</td>\n",
       "      <td>30.56</td>\n",
       "      <td>11866.72</td>\n",
       "      <td>3</td>\n",
       "      <td>2024-02</td>\n",
       "    </tr>\n",
       "    <tr>\n",
       "      <th>C</th>\n",
       "      <td>382</td>\n",
       "      <td>32.46</td>\n",
       "      <td>10680.49</td>\n",
       "      <td>3</td>\n",
       "      <td>2024-07</td>\n",
       "    </tr>\n",
       "    <tr>\n",
       "      <th>D</th>\n",
       "      <td>476</td>\n",
       "      <td>38.77</td>\n",
       "      <td>18234.59</td>\n",
       "      <td>3</td>\n",
       "      <td>2024-12</td>\n",
       "    </tr>\n",
       "    <tr>\n",
       "      <th rowspan=\"4\" valign=\"top\">S02</th>\n",
       "      <th>A</th>\n",
       "      <td>274</td>\n",
       "      <td>33.27</td>\n",
       "      <td>8069.62</td>\n",
       "      <td>3</td>\n",
       "      <td>2024-09</td>\n",
       "    </tr>\n",
       "    <tr>\n",
       "      <th>B</th>\n",
       "      <td>424</td>\n",
       "      <td>33.23</td>\n",
       "      <td>13853.02</td>\n",
       "      <td>3</td>\n",
       "      <td>2024-02</td>\n",
       "    </tr>\n",
       "    <tr>\n",
       "      <th>C</th>\n",
       "      <td>357</td>\n",
       "      <td>35.06</td>\n",
       "      <td>11123.41</td>\n",
       "      <td>3</td>\n",
       "      <td>2024-03</td>\n",
       "    </tr>\n",
       "    <tr>\n",
       "      <th>D</th>\n",
       "      <td>419</td>\n",
       "      <td>39.56</td>\n",
       "      <td>16950.57</td>\n",
       "      <td>3</td>\n",
       "      <td>2024-08</td>\n",
       "    </tr>\n",
       "    <tr>\n",
       "      <th rowspan=\"4\" valign=\"top\">S03</th>\n",
       "      <th>A</th>\n",
       "      <td>355</td>\n",
       "      <td>20.11</td>\n",
       "      <td>7461.52</td>\n",
       "      <td>3</td>\n",
       "      <td>2024-05</td>\n",
       "    </tr>\n",
       "    <tr>\n",
       "      <th>B</th>\n",
       "      <td>396</td>\n",
       "      <td>23.47</td>\n",
       "      <td>9929.70</td>\n",
       "      <td>3</td>\n",
       "      <td>2024-10</td>\n",
       "    </tr>\n",
       "    <tr>\n",
       "      <th>C</th>\n",
       "      <td>247</td>\n",
       "      <td>23.53</td>\n",
       "      <td>6726.26</td>\n",
       "      <td>3</td>\n",
       "      <td>2024-07</td>\n",
       "    </tr>\n",
       "    <tr>\n",
       "      <th>D</th>\n",
       "      <td>402</td>\n",
       "      <td>29.79</td>\n",
       "      <td>11804.67</td>\n",
       "      <td>3</td>\n",
       "      <td>2024-12</td>\n",
       "    </tr>\n",
       "  </tbody>\n",
       "</table>\n",
       "</div>"
      ],
      "text/plain": [
       "                  total_units  avg_price  total_revenue  months_active  \\\n",
       "store_id product                                                         \n",
       "S01      A                397      16.56        6445.15              3   \n",
       "         B                349      30.56       11866.72              3   \n",
       "         C                382      32.46       10680.49              3   \n",
       "         D                476      38.77       18234.59              3   \n",
       "S02      A                274      33.27        8069.62              3   \n",
       "         B                424      33.23       13853.02              3   \n",
       "         C                357      35.06       11123.41              3   \n",
       "         D                419      39.56       16950.57              3   \n",
       "S03      A                355      20.11        7461.52              3   \n",
       "         B                396      23.47        9929.70              3   \n",
       "         C                247      23.53        6726.26              3   \n",
       "         D                402      29.79       11804.67              3   \n",
       "\n",
       "                 best_month  \n",
       "store_id product             \n",
       "S01      A          2024-05  \n",
       "         B          2024-02  \n",
       "         C          2024-07  \n",
       "         D          2024-12  \n",
       "S02      A          2024-09  \n",
       "         B          2024-02  \n",
       "         C          2024-03  \n",
       "         D          2024-08  \n",
       "S03      A          2024-05  \n",
       "         B          2024-10  \n",
       "         C          2024-07  \n",
       "         D          2024-12  "
      ]
     },
     "execution_count": 21,
     "metadata": {},
     "output_type": "execute_result"
    }
   ],
   "source": [
    "# Create complex dataset\n",
    "np.random.seed(42)\n",
    "df_complex = pd.DataFrame({\n",
    "    'store_id': np.repeat(['S01', 'S02', 'S03'], 12),\n",
    "    'month': pd.date_range('2024-01-01', periods=12, freq='M').tolist() * 3,\n",
    "    'product': np.tile(['A', 'B', 'C', 'D'] * 3, 3),\n",
    "    'units_sold': np.random.randint(50, 200, 36),\n",
    "    'price': np.random.uniform(10, 50, 36)\n",
    "})\n",
    "df_complex['revenue'] = df_complex['units_sold'] * df_complex['price']\n",
    "\n",
    "# Multiple level aggregation with custom functions\n",
    "result = (df_complex\n",
    "    .groupby(['store_id', 'product'])\n",
    "    .agg(\n",
    "        total_units=('units_sold', 'sum'),\n",
    "        avg_price=('price', 'mean'),\n",
    "        total_revenue=('revenue', 'sum'),\n",
    "        months_active=('month', 'nunique'),\n",
    "        best_month=('revenue', lambda x: df_complex.loc[x.idxmax(), 'month'].strftime('%Y-%m'))\n",
    "    )\n",
    "    .round(2)\n",
    ")\n",
    "result"
   ]
  },
  {
   "cell_type": "markdown",
   "id": "b1b9b6d3",
   "metadata": {},
   "source": [
    "## Named Aggregations Pattern\n",
    "\n",
    "Using the modern named aggregation syntax:"
   ]
  },
  {
   "cell_type": "code",
   "execution_count": 22,
   "id": "7c6a3694",
   "metadata": {},
   "outputs": [
    {
     "data": {
      "application/vnd.microsoft.datawrangler.viewer.v0+json": {
       "columns": [
        {
         "name": "department",
         "rawType": "object",
         "type": "string"
        },
        {
         "name": "n_employees",
         "rawType": "int64",
         "type": "integer"
        },
        {
         "name": "avg_salary",
         "rawType": "float64",
         "type": "float"
        },
        {
         "name": "sd_salary",
         "rawType": "float64",
         "type": "float"
        },
        {
         "name": "median_performance",
         "rawType": "float64",
         "type": "float"
        },
        {
         "name": "salary_per_year_exp",
         "rawType": "float64",
         "type": "float"
        }
       ],
       "ref": "c60acf92-6418-4c36-a2fc-4e11c3a91e15",
       "rows": [
        [
         "HR",
         "3",
         "68000.0",
         "3000.0",
         "3.9",
         "17000.0"
        ],
        [
         "IT",
         "3",
         "87666.67",
         "2516.61",
         "4.6",
         "9740.74"
        ],
        [
         "Sales",
         "3",
         "72333.33",
         "2516.61",
         "4.2",
         "12055.56"
        ]
       ],
       "shape": {
        "columns": 5,
        "rows": 3
       }
      },
      "text/html": [
       "<div>\n",
       "<style scoped>\n",
       "    .dataframe tbody tr th:only-of-type {\n",
       "        vertical-align: middle;\n",
       "    }\n",
       "\n",
       "    .dataframe tbody tr th {\n",
       "        vertical-align: top;\n",
       "    }\n",
       "\n",
       "    .dataframe thead th {\n",
       "        text-align: right;\n",
       "    }\n",
       "</style>\n",
       "<table border=\"1\" class=\"dataframe\">\n",
       "  <thead>\n",
       "    <tr style=\"text-align: right;\">\n",
       "      <th></th>\n",
       "      <th>n_employees</th>\n",
       "      <th>avg_salary</th>\n",
       "      <th>sd_salary</th>\n",
       "      <th>median_performance</th>\n",
       "      <th>salary_per_year_exp</th>\n",
       "    </tr>\n",
       "    <tr>\n",
       "      <th>department</th>\n",
       "      <th></th>\n",
       "      <th></th>\n",
       "      <th></th>\n",
       "      <th></th>\n",
       "      <th></th>\n",
       "    </tr>\n",
       "  </thead>\n",
       "  <tbody>\n",
       "    <tr>\n",
       "      <th>HR</th>\n",
       "      <td>3</td>\n",
       "      <td>68000.00</td>\n",
       "      <td>3000.00</td>\n",
       "      <td>3.9</td>\n",
       "      <td>17000.00</td>\n",
       "    </tr>\n",
       "    <tr>\n",
       "      <th>IT</th>\n",
       "      <td>3</td>\n",
       "      <td>87666.67</td>\n",
       "      <td>2516.61</td>\n",
       "      <td>4.6</td>\n",
       "      <td>9740.74</td>\n",
       "    </tr>\n",
       "    <tr>\n",
       "      <th>Sales</th>\n",
       "      <td>3</td>\n",
       "      <td>72333.33</td>\n",
       "      <td>2516.61</td>\n",
       "      <td>4.2</td>\n",
       "      <td>12055.56</td>\n",
       "    </tr>\n",
       "  </tbody>\n",
       "</table>\n",
       "</div>"
      ],
      "text/plain": [
       "            n_employees  avg_salary  sd_salary  median_performance  \\\n",
       "department                                                           \n",
       "HR                    3    68000.00    3000.00                 3.9   \n",
       "IT                    3    87666.67    2516.61                 4.6   \n",
       "Sales                 3    72333.33    2516.61                 4.2   \n",
       "\n",
       "            salary_per_year_exp  \n",
       "department                       \n",
       "HR                     17000.00  \n",
       "IT                      9740.74  \n",
       "Sales                  12055.56  "
      ]
     },
     "execution_count": 22,
     "metadata": {},
     "output_type": "execute_result"
    }
   ],
   "source": [
    "# Clean named aggregations (pandas >= 0.25)\n",
    "# R: df %>%\n",
    "#     group_by(department) %>%\n",
    "#     summarize(\n",
    "#         n_employees = n(),\n",
    "#         avg_salary = mean(salary),\n",
    "#         sd_salary = sd(salary),\n",
    "#         median_performance = median(performance),\n",
    "#         salary_per_year_exp = sum(salary) / sum(years_exp)\n",
    "#     )\n",
    "summary = df.groupby('department').agg(\n",
    "    n_employees=pd.NamedAgg(column='employee', aggfunc='count'),\n",
    "    avg_salary=pd.NamedAgg(column='salary', aggfunc='mean'),\n",
    "    sd_salary=pd.NamedAgg(column='salary', aggfunc='std'),\n",
    "    median_performance=pd.NamedAgg(column='performance', aggfunc='median'),\n",
    "    total_salary=pd.NamedAgg(column='salary', aggfunc='sum'),\n",
    "    total_years=pd.NamedAgg(column='years_exp', aggfunc='sum')\n",
    ").assign(\n",
    "    salary_per_year_exp=lambda x: x['total_salary'] / x['total_years']\n",
    ").drop(columns=['total_salary', 'total_years']).round(2)\n",
    "\n",
    "summary"
   ]
  },
  {
   "cell_type": "markdown",
   "id": "d624da68",
   "metadata": {},
   "source": [
    "## Grouped Operations in Method Chains\n",
    "\n",
    "Integrating groupby into larger data pipelines:"
   ]
  },
  {
   "cell_type": "code",
   "execution_count": 23,
   "id": "1fb138b9",
   "metadata": {},
   "outputs": [
    {
     "data": {
      "application/vnd.microsoft.datawrangler.viewer.v0+json": {
       "columns": [
        {
         "name": "department",
         "rawType": "object",
         "type": "string"
        },
        {
         "name": "avg_salary",
         "rawType": "float64",
         "type": "float"
        },
        {
         "name": "avg_performance",
         "rawType": "float64",
         "type": "float"
        },
        {
         "name": "count",
         "rawType": "int64",
         "type": "integer"
        }
       ],
       "ref": "49716db7-a901-4dc0-8b88-c0198eb4e322",
       "rows": [
        [
         "IT",
         "87666.67",
         "4.6",
         "3"
        ],
        [
         "Sales",
         "72333.33",
         "4.17",
         "3"
        ],
        [
         "HR",
         "68000.0",
         "3.93",
         "3"
        ]
       ],
       "shape": {
        "columns": 3,
        "rows": 3
       }
      },
      "text/html": [
       "<div>\n",
       "<style scoped>\n",
       "    .dataframe tbody tr th:only-of-type {\n",
       "        vertical-align: middle;\n",
       "    }\n",
       "\n",
       "    .dataframe tbody tr th {\n",
       "        vertical-align: top;\n",
       "    }\n",
       "\n",
       "    .dataframe thead th {\n",
       "        text-align: right;\n",
       "    }\n",
       "</style>\n",
       "<table border=\"1\" class=\"dataframe\">\n",
       "  <thead>\n",
       "    <tr style=\"text-align: right;\">\n",
       "      <th></th>\n",
       "      <th>avg_salary</th>\n",
       "      <th>avg_performance</th>\n",
       "      <th>count</th>\n",
       "    </tr>\n",
       "    <tr>\n",
       "      <th>department</th>\n",
       "      <th></th>\n",
       "      <th></th>\n",
       "      <th></th>\n",
       "    </tr>\n",
       "  </thead>\n",
       "  <tbody>\n",
       "    <tr>\n",
       "      <th>IT</th>\n",
       "      <td>87666.67</td>\n",
       "      <td>4.60</td>\n",
       "      <td>3</td>\n",
       "    </tr>\n",
       "    <tr>\n",
       "      <th>Sales</th>\n",
       "      <td>72333.33</td>\n",
       "      <td>4.17</td>\n",
       "      <td>3</td>\n",
       "    </tr>\n",
       "    <tr>\n",
       "      <th>HR</th>\n",
       "      <td>68000.00</td>\n",
       "      <td>3.93</td>\n",
       "      <td>3</td>\n",
       "    </tr>\n",
       "  </tbody>\n",
       "</table>\n",
       "</div>"
      ],
      "text/plain": [
       "            avg_salary  avg_performance  count\n",
       "department                                    \n",
       "IT            87666.67             4.60      3\n",
       "Sales         72333.33             4.17      3\n",
       "HR            68000.00             3.93      3"
      ]
     },
     "execution_count": 23,
     "metadata": {},
     "output_type": "execute_result"
    }
   ],
   "source": [
    "# Complex chain with groupby\n",
    "# R: df %>%\n",
    "#     filter(years_exp >= 3) %>%\n",
    "#     group_by(department) %>%\n",
    "#     summarize(avg_salary = mean(salary),\n",
    "#               avg_performance = mean(performance)) %>%\n",
    "#     arrange(desc(avg_salary))\n",
    "result_chain = (df\n",
    "    .query('years_exp >= 3')\n",
    "    .groupby('department')\n",
    "    .agg(\n",
    "        avg_salary=('salary', 'mean'),\n",
    "        avg_performance=('performance', 'mean'),\n",
    "        count=('employee', 'count')\n",
    "    )\n",
    "    .round(2)\n",
    "    .sort_values('avg_salary', ascending=False)\n",
    ")\n",
    "result_chain"
   ]
  },
  {
   "cell_type": "markdown",
   "id": "8fe4fd67",
   "metadata": {},
   "source": [
    "## Groupby with Time Series\n",
    "\n",
    "Special considerations for time-based grouping:"
   ]
  },
  {
   "cell_type": "code",
   "execution_count": 24,
   "id": "b51853f2",
   "metadata": {},
   "outputs": [
    {
     "data": {
      "application/vnd.microsoft.datawrangler.viewer.v0+json": {
       "columns": [
        {
         "name": "('store', 'month')",
         "rawType": "object",
         "type": "unknown"
        },
        {
         "name": "monthly_sales",
         "rawType": "float64",
         "type": "float"
        },
        {
         "name": "days_active",
         "rawType": "int64",
         "type": "integer"
        },
        {
         "name": "best_day_sales",
         "rawType": "float64",
         "type": "float"
        }
       ],
       "ref": "819ffe88-3a1d-439e-ba9d-990c43accaea",
       "rows": [
        [
         "('A', Period('2024-01', 'M'))",
         "36599.0",
         "12",
         "5046.0"
        ],
        [
         "('A', Period('2024-02', 'M'))",
         "27849.0",
         "9",
         "4961.0"
        ],
        [
         "('A', Period('2024-03', 'M'))",
         "35669.0",
         "12",
         "5332.0"
        ],
        [
         "('A', Period('2024-04', 'M'))",
         "32326.0",
         "11",
         "5189.0"
        ],
        [
         "('A', Period('2024-05', 'M'))",
         "27099.0",
         "9",
         "4541.0"
        ],
        [
         "('A', Period('2024-06', 'M'))",
         "32734.0",
         "10",
         "6203.0"
        ],
        [
         "('A', Period('2024-07', 'M'))",
         "36259.0",
         "12",
         "4469.0"
        ],
        [
         "('A', Period('2024-08', 'M'))",
         "33317.0",
         "11",
         "6041.0"
        ],
        [
         "('A', Period('2024-09', 'M'))",
         "28631.0",
         "11",
         "4714.0"
        ],
        [
         "('A', Period('2024-10', 'M'))",
         "22272.0",
         "9",
         "3926.0"
        ]
       ],
       "shape": {
        "columns": 3,
        "rows": 10
       }
      },
      "text/html": [
       "<div>\n",
       "<style scoped>\n",
       "    .dataframe tbody tr th:only-of-type {\n",
       "        vertical-align: middle;\n",
       "    }\n",
       "\n",
       "    .dataframe tbody tr th {\n",
       "        vertical-align: top;\n",
       "    }\n",
       "\n",
       "    .dataframe thead th {\n",
       "        text-align: right;\n",
       "    }\n",
       "</style>\n",
       "<table border=\"1\" class=\"dataframe\">\n",
       "  <thead>\n",
       "    <tr style=\"text-align: right;\">\n",
       "      <th></th>\n",
       "      <th></th>\n",
       "      <th>monthly_sales</th>\n",
       "      <th>days_active</th>\n",
       "      <th>best_day_sales</th>\n",
       "    </tr>\n",
       "    <tr>\n",
       "      <th>store</th>\n",
       "      <th>month</th>\n",
       "      <th></th>\n",
       "      <th></th>\n",
       "      <th></th>\n",
       "    </tr>\n",
       "  </thead>\n",
       "  <tbody>\n",
       "    <tr>\n",
       "      <th rowspan=\"10\" valign=\"top\">A</th>\n",
       "      <th>2024-01</th>\n",
       "      <td>36599.0</td>\n",
       "      <td>12</td>\n",
       "      <td>5046.0</td>\n",
       "    </tr>\n",
       "    <tr>\n",
       "      <th>2024-02</th>\n",
       "      <td>27849.0</td>\n",
       "      <td>9</td>\n",
       "      <td>4961.0</td>\n",
       "    </tr>\n",
       "    <tr>\n",
       "      <th>2024-03</th>\n",
       "      <td>35669.0</td>\n",
       "      <td>12</td>\n",
       "      <td>5332.0</td>\n",
       "    </tr>\n",
       "    <tr>\n",
       "      <th>2024-04</th>\n",
       "      <td>32326.0</td>\n",
       "      <td>11</td>\n",
       "      <td>5189.0</td>\n",
       "    </tr>\n",
       "    <tr>\n",
       "      <th>2024-05</th>\n",
       "      <td>27099.0</td>\n",
       "      <td>9</td>\n",
       "      <td>4541.0</td>\n",
       "    </tr>\n",
       "    <tr>\n",
       "      <th>2024-06</th>\n",
       "      <td>32734.0</td>\n",
       "      <td>10</td>\n",
       "      <td>6203.0</td>\n",
       "    </tr>\n",
       "    <tr>\n",
       "      <th>2024-07</th>\n",
       "      <td>36259.0</td>\n",
       "      <td>12</td>\n",
       "      <td>4469.0</td>\n",
       "    </tr>\n",
       "    <tr>\n",
       "      <th>2024-08</th>\n",
       "      <td>33317.0</td>\n",
       "      <td>11</td>\n",
       "      <td>6041.0</td>\n",
       "    </tr>\n",
       "    <tr>\n",
       "      <th>2024-09</th>\n",
       "      <td>28631.0</td>\n",
       "      <td>11</td>\n",
       "      <td>4714.0</td>\n",
       "    </tr>\n",
       "    <tr>\n",
       "      <th>2024-10</th>\n",
       "      <td>22272.0</td>\n",
       "      <td>9</td>\n",
       "      <td>3926.0</td>\n",
       "    </tr>\n",
       "  </tbody>\n",
       "</table>\n",
       "</div>"
      ],
      "text/plain": [
       "               monthly_sales  days_active  best_day_sales\n",
       "store month                                              \n",
       "A     2024-01        36599.0           12          5046.0\n",
       "      2024-02        27849.0            9          4961.0\n",
       "      2024-03        35669.0           12          5332.0\n",
       "      2024-04        32326.0           11          5189.0\n",
       "      2024-05        27099.0            9          4541.0\n",
       "      2024-06        32734.0           10          6203.0\n",
       "      2024-07        36259.0           12          4469.0\n",
       "      2024-08        33317.0           11          6041.0\n",
       "      2024-09        28631.0           11          4714.0\n",
       "      2024-10        22272.0            9          3926.0"
      ]
     },
     "execution_count": 24,
     "metadata": {},
     "output_type": "execute_result"
    }
   ],
   "source": [
    "# Create time series data\n",
    "dates = pd.date_range('2024-01-01', periods=365, freq='D')\n",
    "df_ts = pd.DataFrame({\n",
    "    'date': dates,\n",
    "    'store': np.random.choice(['A', 'B', 'C'], 365),\n",
    "    'sales': np.random.randint(1000, 5000, 365) + np.random.randn(365) * 500\n",
    "})\n",
    "\n",
    "# Group by multiple time periods\n",
    "# R: df %>%\n",
    "#     mutate(month = floor_date(date, \"month\"),\n",
    "#            week = floor_date(date, \"week\")) %>%\n",
    "#     group_by(store, month) %>%\n",
    "#     summarize(monthly_sales = sum(sales))\n",
    "df_ts_summary = (df_ts\n",
    "    .assign(\n",
    "        month=lambda x: x['date'].dt.to_period('M'),\n",
    "        week=lambda x: x['date'].dt.to_period('W'),\n",
    "        quarter=lambda x: x['date'].dt.to_period('Q')\n",
    "    )\n",
    "    .groupby(['store', 'month'])\n",
    "    .agg(\n",
    "        monthly_sales=('sales', 'sum'),\n",
    "        days_active=('date', 'count'),\n",
    "        best_day_sales=('sales', 'max')\n",
    "    )\n",
    "    .round(0)\n",
    ")\n",
    "df_ts_summary.head(10)"
   ]
  },
  {
   "cell_type": "markdown",
   "id": "d994cffa",
   "metadata": {},
   "source": [
    "## Creating Tidyverse-Style Helper Functions\n",
    "\n",
    "Make groupby operations more dplyr-like:"
   ]
  },
  {
   "cell_type": "code",
   "execution_count": 25,
   "id": "e38f4fd6",
   "metadata": {},
   "outputs": [
    {
     "data": {
      "application/vnd.microsoft.datawrangler.viewer.v0+json": {
       "columns": [
        {
         "name": "department",
         "rawType": "object",
         "type": "string"
        },
        {
         "name": "avg_salary",
         "rawType": "float64",
         "type": "float"
        }
       ],
       "ref": "e46efa94-09a2-41f0-b72f-b0fcb5ab684d",
       "rows": [
        [
         "HR",
         "68000.0"
        ],
        [
         "IT",
         "87666.66666666667"
        ],
        [
         "Sales",
         "72333.33333333333"
        ]
       ],
       "shape": {
        "columns": 1,
        "rows": 3
       }
      },
      "text/html": [
       "<div>\n",
       "<style scoped>\n",
       "    .dataframe tbody tr th:only-of-type {\n",
       "        vertical-align: middle;\n",
       "    }\n",
       "\n",
       "    .dataframe tbody tr th {\n",
       "        vertical-align: top;\n",
       "    }\n",
       "\n",
       "    .dataframe thead th {\n",
       "        text-align: right;\n",
       "    }\n",
       "</style>\n",
       "<table border=\"1\" class=\"dataframe\">\n",
       "  <thead>\n",
       "    <tr style=\"text-align: right;\">\n",
       "      <th></th>\n",
       "      <th>avg_salary</th>\n",
       "    </tr>\n",
       "    <tr>\n",
       "      <th>department</th>\n",
       "      <th></th>\n",
       "    </tr>\n",
       "  </thead>\n",
       "  <tbody>\n",
       "    <tr>\n",
       "      <th>HR</th>\n",
       "      <td>68000.000000</td>\n",
       "    </tr>\n",
       "    <tr>\n",
       "      <th>IT</th>\n",
       "      <td>87666.666667</td>\n",
       "    </tr>\n",
       "    <tr>\n",
       "      <th>Sales</th>\n",
       "      <td>72333.333333</td>\n",
       "    </tr>\n",
       "  </tbody>\n",
       "</table>\n",
       "</div>"
      ],
      "text/plain": [
       "              avg_salary\n",
       "department              \n",
       "HR          68000.000000\n",
       "IT          87666.666667\n",
       "Sales       72333.333333"
      ]
     },
     "execution_count": 25,
     "metadata": {},
     "output_type": "execute_result"
    }
   ],
   "source": [
    "def group_by_summarize(df, groupby_cols, **agg_funcs):\n",
    "    \"\"\"Mimics dplyr's group_by %>% summarize\"\"\"\n",
    "    return df.groupby(groupby_cols).agg(**agg_funcs)\n",
    "\n",
    "def group_by_mutate(df, groupby_cols, **transform_funcs):\n",
    "    \"\"\"Mimics dplyr's group_by %>% mutate\"\"\"\n",
    "    df_copy = df.copy()\n",
    "    for name, (column, func) in transform_funcs.items():\n",
    "        df_copy[name] = df.groupby(groupby_cols)[column].transform(func)\n",
    "    return df_copy\n",
    "\n",
    "# Usage examples\n",
    "# R: df %>% group_by(department) %>% summarize(avg_salary = mean(salary))\n",
    "group_by_summarize(df, 'department', avg_salary=('salary', 'mean'))"
   ]
  },
  {
   "cell_type": "code",
   "execution_count": 26,
   "id": "b1d8a383",
   "metadata": {},
   "outputs": [
    {
     "data": {
      "application/vnd.microsoft.datawrangler.viewer.v0+json": {
       "columns": [
        {
         "name": "index",
         "rawType": "int64",
         "type": "integer"
        },
        {
         "name": "department",
         "rawType": "object",
         "type": "string"
        },
        {
         "name": "employee",
         "rawType": "object",
         "type": "string"
        },
        {
         "name": "salary",
         "rawType": "int64",
         "type": "integer"
        },
        {
         "name": "years_exp",
         "rawType": "int64",
         "type": "integer"
        },
        {
         "name": "performance",
         "rawType": "float64",
         "type": "float"
        },
        {
         "name": "dept_avg_salary",
         "rawType": "float64",
         "type": "float"
        },
        {
         "name": "salary_vs_dept_avg",
         "rawType": "float64",
         "type": "float"
        },
        {
         "name": "salary_pct",
         "rawType": "float64",
         "type": "float"
        }
       ],
       "ref": "49a37fc1-690d-45b1-b494-d28ee61afbf2",
       "rows": [
        [
         "0",
         "Sales",
         "Alice",
         "70000",
         "5",
         "4.2",
         "72333.33",
         "-2333.33",
         "32.26"
        ],
        [
         "1",
         "IT",
         "Bob",
         "85000",
         "8",
         "4.5",
         "87666.67",
         "-2666.67",
         "32.32"
        ],
        [
         "2",
         "HR",
         "Charlie",
         "65000",
         "3",
         "3.8",
         "68000.0",
         "-3000.0",
         "31.86"
        ],
        [
         "3",
         "Sales",
         "David",
         "72000",
         "6",
         "4.0",
         "72333.33",
         "-333.33",
         "33.18"
        ],
        [
         "4",
         "IT",
         "Eve",
         "90000",
         "10",
         "4.7",
         "87666.67",
         "2333.33",
         "34.22"
        ],
        [
         "5",
         "HR",
         "Frank",
         "68000",
         "4",
         "3.9",
         "68000.0",
         "0.0",
         "33.33"
        ],
        [
         "6",
         "Sales",
         "Grace",
         "75000",
         "7",
         "4.3",
         "72333.33",
         "2666.67",
         "34.56"
        ],
        [
         "7",
         "IT",
         "Henry",
         "88000",
         "9",
         "4.6",
         "87666.67",
         "333.33",
         "33.46"
        ],
        [
         "8",
         "HR",
         "Iris",
         "71000",
         "5",
         "4.1",
         "68000.0",
         "3000.0",
         "34.8"
        ]
       ],
       "shape": {
        "columns": 8,
        "rows": 9
       }
      },
      "text/html": [
       "<div>\n",
       "<style scoped>\n",
       "    .dataframe tbody tr th:only-of-type {\n",
       "        vertical-align: middle;\n",
       "    }\n",
       "\n",
       "    .dataframe tbody tr th {\n",
       "        vertical-align: top;\n",
       "    }\n",
       "\n",
       "    .dataframe thead th {\n",
       "        text-align: right;\n",
       "    }\n",
       "</style>\n",
       "<table border=\"1\" class=\"dataframe\">\n",
       "  <thead>\n",
       "    <tr style=\"text-align: right;\">\n",
       "      <th></th>\n",
       "      <th>department</th>\n",
       "      <th>employee</th>\n",
       "      <th>salary</th>\n",
       "      <th>years_exp</th>\n",
       "      <th>performance</th>\n",
       "      <th>dept_avg_salary</th>\n",
       "      <th>salary_vs_dept_avg</th>\n",
       "      <th>salary_pct</th>\n",
       "    </tr>\n",
       "  </thead>\n",
       "  <tbody>\n",
       "    <tr>\n",
       "      <th>0</th>\n",
       "      <td>Sales</td>\n",
       "      <td>Alice</td>\n",
       "      <td>70000</td>\n",
       "      <td>5</td>\n",
       "      <td>4.2</td>\n",
       "      <td>72333.33</td>\n",
       "      <td>-2333.33</td>\n",
       "      <td>32.26</td>\n",
       "    </tr>\n",
       "    <tr>\n",
       "      <th>1</th>\n",
       "      <td>IT</td>\n",
       "      <td>Bob</td>\n",
       "      <td>85000</td>\n",
       "      <td>8</td>\n",
       "      <td>4.5</td>\n",
       "      <td>87666.67</td>\n",
       "      <td>-2666.67</td>\n",
       "      <td>32.32</td>\n",
       "    </tr>\n",
       "    <tr>\n",
       "      <th>2</th>\n",
       "      <td>HR</td>\n",
       "      <td>Charlie</td>\n",
       "      <td>65000</td>\n",
       "      <td>3</td>\n",
       "      <td>3.8</td>\n",
       "      <td>68000.00</td>\n",
       "      <td>-3000.00</td>\n",
       "      <td>31.86</td>\n",
       "    </tr>\n",
       "    <tr>\n",
       "      <th>3</th>\n",
       "      <td>Sales</td>\n",
       "      <td>David</td>\n",
       "      <td>72000</td>\n",
       "      <td>6</td>\n",
       "      <td>4.0</td>\n",
       "      <td>72333.33</td>\n",
       "      <td>-333.33</td>\n",
       "      <td>33.18</td>\n",
       "    </tr>\n",
       "    <tr>\n",
       "      <th>4</th>\n",
       "      <td>IT</td>\n",
       "      <td>Eve</td>\n",
       "      <td>90000</td>\n",
       "      <td>10</td>\n",
       "      <td>4.7</td>\n",
       "      <td>87666.67</td>\n",
       "      <td>2333.33</td>\n",
       "      <td>34.22</td>\n",
       "    </tr>\n",
       "    <tr>\n",
       "      <th>5</th>\n",
       "      <td>HR</td>\n",
       "      <td>Frank</td>\n",
       "      <td>68000</td>\n",
       "      <td>4</td>\n",
       "      <td>3.9</td>\n",
       "      <td>68000.00</td>\n",
       "      <td>0.00</td>\n",
       "      <td>33.33</td>\n",
       "    </tr>\n",
       "    <tr>\n",
       "      <th>6</th>\n",
       "      <td>Sales</td>\n",
       "      <td>Grace</td>\n",
       "      <td>75000</td>\n",
       "      <td>7</td>\n",
       "      <td>4.3</td>\n",
       "      <td>72333.33</td>\n",
       "      <td>2666.67</td>\n",
       "      <td>34.56</td>\n",
       "    </tr>\n",
       "    <tr>\n",
       "      <th>7</th>\n",
       "      <td>IT</td>\n",
       "      <td>Henry</td>\n",
       "      <td>88000</td>\n",
       "      <td>9</td>\n",
       "      <td>4.6</td>\n",
       "      <td>87666.67</td>\n",
       "      <td>333.33</td>\n",
       "      <td>33.46</td>\n",
       "    </tr>\n",
       "    <tr>\n",
       "      <th>8</th>\n",
       "      <td>HR</td>\n",
       "      <td>Iris</td>\n",
       "      <td>71000</td>\n",
       "      <td>5</td>\n",
       "      <td>4.1</td>\n",
       "      <td>68000.00</td>\n",
       "      <td>3000.00</td>\n",
       "      <td>34.80</td>\n",
       "    </tr>\n",
       "  </tbody>\n",
       "</table>\n",
       "</div>"
      ],
      "text/plain": [
       "  department employee  salary  years_exp  performance  dept_avg_salary  \\\n",
       "0      Sales    Alice   70000          5          4.2         72333.33   \n",
       "1         IT      Bob   85000          8          4.5         87666.67   \n",
       "2         HR  Charlie   65000          3          3.8         68000.00   \n",
       "3      Sales    David   72000          6          4.0         72333.33   \n",
       "4         IT      Eve   90000         10          4.7         87666.67   \n",
       "5         HR    Frank   68000          4          3.9         68000.00   \n",
       "6      Sales    Grace   75000          7          4.3         72333.33   \n",
       "7         IT    Henry   88000          9          4.6         87666.67   \n",
       "8         HR     Iris   71000          5          4.1         68000.00   \n",
       "\n",
       "   salary_vs_dept_avg  salary_pct  \n",
       "0            -2333.33       32.26  \n",
       "1            -2666.67       32.32  \n",
       "2            -3000.00       31.86  \n",
       "3             -333.33       33.18  \n",
       "4             2333.33       34.22  \n",
       "5                0.00       33.33  \n",
       "6             2666.67       34.56  \n",
       "7              333.33       33.46  \n",
       "8             3000.00       34.80  "
      ]
     },
     "execution_count": 26,
     "metadata": {},
     "output_type": "execute_result"
    }
   ],
   "source": [
    "# R: df %>% group_by(department) %>% mutate(salary_pct = salary / sum(salary) * 100)\n",
    "group_by_mutate(df, 'department', \n",
    "                salary_pct=('salary', lambda x: x / x.sum() * 100)).round(2)"
   ]
  },
  {
   "cell_type": "markdown",
   "id": "dccec381",
   "metadata": {},
   "source": [
    "## Performance Tips\n",
    "\n",
    "Efficient groupby operations:"
   ]
  },
  {
   "cell_type": "code",
   "execution_count": 27,
   "id": "70d2a094",
   "metadata": {},
   "outputs": [
    {
     "name": "stdout",
     "output_type": "stream",
     "text": [
      "Single pass: 0.0040 seconds\n",
      "Multiple passes: 0.0098 seconds\n"
     ]
    }
   ],
   "source": [
    "# Create large DataFrame\n",
    "large_df = pd.DataFrame({\n",
    "    'group': np.random.choice(['A', 'B', 'C', 'D'], 100000),\n",
    "    'value': np.random.randn(100000)\n",
    "})\n",
    "\n",
    "import time\n",
    "\n",
    "# Method 1: Single pass aggregation (fastest)\n",
    "start = time.time()\n",
    "result1 = large_df.groupby('group')['value'].agg(['mean', 'sum', 'std'])\n",
    "print(f\"Single pass: {time.time() - start:.4f} seconds\")\n",
    "\n",
    "# Method 2: Multiple separate aggregations (slower)\n",
    "start = time.time()\n",
    "mean_result = large_df.groupby('group')['value'].mean()\n",
    "sum_result = large_df.groupby('group')['value'].sum()\n",
    "std_result = large_df.groupby('group')['value'].std()\n",
    "print(f\"Multiple passes: {time.time() - start:.4f} seconds\")"
   ]
  }
 ],
 "metadata": {
  "kernelspec": {
   "display_name": "ds-env",
   "language": "python",
   "name": "python3"
  },
  "language_info": {
   "codemirror_mode": {
    "name": "ipython",
    "version": 3
   },
   "file_extension": ".py",
   "mimetype": "text/x-python",
   "name": "python",
   "nbconvert_exporter": "python",
   "pygments_lexer": "ipython3",
   "version": "3.12.9"
  }
 },
 "nbformat": 4,
 "nbformat_minor": 5
}
