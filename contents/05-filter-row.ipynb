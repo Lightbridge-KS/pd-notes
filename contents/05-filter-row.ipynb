{
 "cells": [
  {
   "cell_type": "markdown",
   "id": "bbacc76d",
   "metadata": {},
   "source": [
    "# Filtering Rows\n",
    "\n",
    "Filtering rows is essential for data analysis, allowing you to focus on subsets of data that meet specific criteria. While R's `dplyr::filter()` provides an intuitive interface, pandas offers multiple approaches with different syntax. This chapter will show you how to achieve clean, tidyverse-style row filtering in pandas."
   ]
  },
  {
   "cell_type": "markdown",
   "id": "c22b9206",
   "metadata": {},
   "source": [
    "## Best Practices Summary\n",
    "\n",
    "Quick reference for filtering patterns:\n",
    "\n",
    "| Task | R (dplyr) | Pandas |\n",
    "|------|-----------|--------|\n",
    "| Simple filter | `filter(df, age > 30)` | `df[df['age'] > 30]` or `df.query('age > 30')` |\n",
    "| Multiple AND | `filter(df, age > 30, dept == \"IT\")` | `df[(df['age'] > 30) & (df['dept'] == 'IT')]` |\n",
    "| Multiple OR | `filter(df, dept == \"IT\" \\| dept == \"HR\")` | `df[(df['dept'] == 'IT') \\| (df['dept'] == 'HR')]` |\n",
    "| In list | `filter(df, dept %in% c(\"IT\", \"HR\"))` | `df[df['dept'].isin(['IT', 'HR'])]` |\n",
    "| Not in list | `filter(df, !dept %in% c(\"IT\", \"HR\"))` | `df[~df['dept'].isin(['IT', 'HR'])]` |\n",
    "| String contains | `filter(df, str_detect(name, \"John\"))` | `df[df['name'].str.contains('John')]` |\n",
    "| Missing values | `filter(df, !is.na(age))` | `df[df['age'].notna()]` |\n",
    "| Between values | `filter(df, between(age, 25, 35))` | `df[df['age'].between(25, 35)]` |\n",
    "| Top n | `slice_max(df, salary, n = 5)` | `df.nlargest(5, 'salary')` |"
   ]
  },
  {
   "cell_type": "markdown",
   "id": "32e5d1c2",
   "metadata": {},
   "source": [
    "## Tips for Tidyverse Users\n",
    "\n",
    "1. **Use `.query()` for cleaner syntax**: It's the most dplyr-like method and handles spaces in column names well.\n",
    "\n",
    "2. **Remember parentheses**: Always wrap individual conditions in parentheses when combining with `&` or `|`.\n",
    "\n",
    "3. **Use `~` for negation**: Instead of `!`, use `~` to negate boolean conditions.\n",
    "\n",
    "4. **Chain filters**: You can chain multiple filter operations:\n",
    "   ```python\n",
    "   (df\n",
    "    .query('age > 30')\n",
    "    .query('department == \"IT\"')\n",
    "    .query('salary > 70000'))\n",
    "   ```\n",
    "\n",
    "5. **Copy when needed**: Use `.copy()` when you plan to modify the filtered result to avoid warnings.\n",
    "\n",
    "Row filtering in pandas might seem more verbose than dplyr's `filter()`, but it offers great flexibility. Master these patterns and you'll be filtering data efficiently in no time!"
   ]
  },
  {
   "cell_type": "markdown",
   "id": "aeaab09d",
   "metadata": {},
   "source": [
    "## Basic Row Filtering\n",
    "\n",
    "The fundamental ways to filter rows in pandas:"
   ]
  },
  {
   "cell_type": "code",
   "execution_count": 2,
   "id": "0a3ae3c9",
   "metadata": {},
   "outputs": [
    {
     "name": "stdout",
     "output_type": "stream",
     "text": [
      "Age greater than 30:\n",
      "      name  age department  salary  performance  is_manager\n",
      "2  Charlie   35         HR   75000          3.8        True\n",
      "4      Eve   33         IT   85000          4.6        True\n",
      "\n",
      "IT department only:\n",
      "  name  age department  salary  performance  is_manager\n",
      "1  Bob   30         IT   80000          4.5        True\n",
      "4  Eve   33         IT   85000          4.6        True\n",
      "\n",
      "Using query method:\n",
      "      name  age department  salary  performance  is_manager\n",
      "1      Bob   30         IT   80000          4.5        True\n",
      "2  Charlie   35         HR   75000          3.8        True\n",
      "4      Eve   33         IT   85000          4.6        True\n"
     ]
    }
   ],
   "source": [
    "import pandas as pd\n",
    "import numpy as np\n",
    "\n",
    "# Create sample DataFrame\n",
    "df = pd.DataFrame({\n",
    "    'name': ['Alice', 'Bob', 'Charlie', 'David', 'Eve', 'Frank'],\n",
    "    'age': [25, 30, 35, 28, 33, 29],\n",
    "    'department': ['Sales', 'IT', 'HR', 'Sales', 'IT', 'HR'],\n",
    "    'salary': [70000, 80000, 75000, 72000, 85000, 71000],\n",
    "    'performance': [4.2, 4.5, 3.8, 4.0, 4.6, 3.9],\n",
    "    'is_manager': [False, True, True, False, True, False]\n",
    "})\n",
    "\n",
    "# Simple filtering with boolean indexing\n",
    "# R: filter(df, age > 30)\n",
    "print(\"Age greater than 30:\")\n",
    "print(df[df['age'] > 30])\n",
    "print()\n",
    "\n",
    "# Using .loc for explicit row filtering\n",
    "# R: filter(df, department == \"IT\")\n",
    "print(\"IT department only:\")\n",
    "print(df.loc[df['department'] == 'IT'])\n",
    "print()\n",
    "\n",
    "# Using query method (most similar to dplyr)\n",
    "# R: filter(df, salary >= 75000)\n",
    "print(\"Using query method:\")\n",
    "print(df.query('salary >= 75000'))"
   ]
  },
  {
   "cell_type": "markdown",
   "id": "18a28149",
   "metadata": {},
   "source": [
    "## Multiple Conditions\n",
    "\n",
    "Combining multiple filter conditions requires careful syntax:"
   ]
  },
  {
   "cell_type": "code",
   "execution_count": null,
   "id": "14e8c83c",
   "metadata": {},
   "outputs": [],
   "source": [
    "# AND conditions - use & (not 'and')\n",
    "# R: filter(df, age > 30 & department == \"IT\")\n",
    "print(\"Age > 30 AND in IT:\")\n",
    "print(df[(df['age'] > 30) & (df['department'] == 'IT')])\n",
    "print()\n",
    "\n",
    "# OR conditions - use | (not 'or')\n",
    "# R: filter(df, department == \"Sales\" | department == \"IT\")\n",
    "print(\"Sales OR IT department:\")\n",
    "print(df[(df['department'] == 'Sales') | (df['department'] == 'IT')])\n",
    "print()\n",
    "\n",
    "# Complex conditions with parentheses\n",
    "# R: filter(df, (age > 30 | salary > 80000) & is_manager == TRUE)\n",
    "print(\"Complex condition:\")\n",
    "print(df[((df['age'] > 30) | (df['salary'] > 80000)) & (df['is_manager'] == True)])\n",
    "print()\n",
    "\n",
    "# Using query for multiple conditions (cleaner syntax)\n",
    "print(\"Same with query:\")\n",
    "print(df.query('(age > 30 | salary > 80000) & is_manager == True'))"
   ]
  },
  {
   "cell_type": "markdown",
   "id": "2ab82979",
   "metadata": {},
   "source": [
    "## The Query Method\n",
    "\n",
    "The `.query()` method provides the most dplyr-like syntax:"
   ]
  },
  {
   "cell_type": "code",
   "execution_count": null,
   "id": "26d0a3e0",
   "metadata": {},
   "outputs": [],
   "source": [
    "# Basic query examples\n",
    "# R: filter(df, age >= 30)\n",
    "print(\"Basic query:\")\n",
    "print(df.query('age >= 30'))\n",
    "print()\n",
    "\n",
    "# Using variables in query\n",
    "min_age = 30\n",
    "max_salary = 80000\n",
    "# R: filter(df, age >= min_age & salary <= max_salary)\n",
    "print(\"Query with variables:\")\n",
    "print(df.query('age >= @min_age & salary <= @max_salary'))\n",
    "print()\n",
    "\n",
    "# Column names with spaces (use backticks)\n",
    "df_spaces = df.rename(columns={'is_manager': 'is manager'})\n",
    "print(\"Query with spaced column names:\")\n",
    "print(df_spaces.query('`is manager` == True'))\n",
    "print()\n",
    "\n",
    "# Query with string methods\n",
    "# R: filter(df, str_detect(department, \"^S\"))\n",
    "print(\"Departments starting with 'S':\")\n",
    "print(df.query('department.str.startswith(\"S\")'))"
   ]
  },
  {
   "cell_type": "markdown",
   "id": "4a59da27",
   "metadata": {},
   "source": [
    "## Filtering with `isin()`\n",
    "\n",
    "Checking if values are in a list:"
   ]
  },
  {
   "cell_type": "code",
   "execution_count": null,
   "id": "6bb6467c",
   "metadata": {},
   "outputs": [],
   "source": [
    "# Filter where values are in a list\n",
    "# R: filter(df, department %in% c(\"Sales\", \"HR\"))\n",
    "departments = ['Sales', 'HR']\n",
    "print(\"Departments in Sales or HR:\")\n",
    "print(df[df['department'].isin(departments)])\n",
    "print()\n",
    "\n",
    "# Negation with ~\n",
    "# R: filter(df, !department %in% c(\"Sales\", \"HR\"))\n",
    "print(\"Departments NOT in Sales or HR:\")\n",
    "print(df[~df['department'].isin(departments)])\n",
    "print()\n",
    "\n",
    "# Multiple columns with isin\n",
    "ages_of_interest = [25, 30, 35]\n",
    "depts_of_interest = ['IT', 'HR']\n",
    "print(\"Specific ages AND departments:\")\n",
    "print(df[df['age'].isin(ages_of_interest) & df['department'].isin(depts_of_interest)])"
   ]
  },
  {
   "cell_type": "markdown",
   "id": "0dc71757",
   "metadata": {},
   "source": [
    "## String Filtering\n",
    "\n",
    "Filtering based on string patterns:"
   ]
  },
  {
   "cell_type": "code",
   "execution_count": 3,
   "id": "ff4166db",
   "metadata": {},
   "outputs": [
    {
     "data": {
      "application/vnd.microsoft.datawrangler.viewer.v0+json": {
       "columns": [
        {
         "name": "index",
         "rawType": "int64",
         "type": "integer"
        },
        {
         "name": "product",
         "rawType": "object",
         "type": "string"
        },
        {
         "name": "category",
         "rawType": "object",
         "type": "string"
        },
        {
         "name": "description",
         "rawType": "object",
         "type": "string"
        },
        {
         "name": "price",
         "rawType": "int64",
         "type": "integer"
        }
       ],
       "ref": "f393d82e-c693-44e7-a9cc-3846cd413d1a",
       "rows": [
        [
         "0",
         "Apple iPhone",
         "phone",
         "Latest iPhone model",
         "999"
        ],
        [
         "1",
         "Samsung Galaxy",
         "phone",
         "Android flagship",
         "899"
        ],
        [
         "2",
         "Apple iPad",
         "tablet",
         "Tablet for work",
         "799"
        ],
        [
         "3",
         "Google Pixel",
         "phone",
         "Pure Android experience",
         "699"
        ],
        [
         "4",
         "Apple Watch",
         "wearable",
         "Health tracker",
         "399"
        ]
       ],
       "shape": {
        "columns": 4,
        "rows": 5
       }
      },
      "text/html": [
       "<div>\n",
       "<style scoped>\n",
       "    .dataframe tbody tr th:only-of-type {\n",
       "        vertical-align: middle;\n",
       "    }\n",
       "\n",
       "    .dataframe tbody tr th {\n",
       "        vertical-align: top;\n",
       "    }\n",
       "\n",
       "    .dataframe thead th {\n",
       "        text-align: right;\n",
       "    }\n",
       "</style>\n",
       "<table border=\"1\" class=\"dataframe\">\n",
       "  <thead>\n",
       "    <tr style=\"text-align: right;\">\n",
       "      <th></th>\n",
       "      <th>product</th>\n",
       "      <th>category</th>\n",
       "      <th>description</th>\n",
       "      <th>price</th>\n",
       "    </tr>\n",
       "  </thead>\n",
       "  <tbody>\n",
       "    <tr>\n",
       "      <th>0</th>\n",
       "      <td>Apple iPhone</td>\n",
       "      <td>phone</td>\n",
       "      <td>Latest iPhone model</td>\n",
       "      <td>999</td>\n",
       "    </tr>\n",
       "    <tr>\n",
       "      <th>1</th>\n",
       "      <td>Samsung Galaxy</td>\n",
       "      <td>phone</td>\n",
       "      <td>Android flagship</td>\n",
       "      <td>899</td>\n",
       "    </tr>\n",
       "    <tr>\n",
       "      <th>2</th>\n",
       "      <td>Apple iPad</td>\n",
       "      <td>tablet</td>\n",
       "      <td>Tablet for work</td>\n",
       "      <td>799</td>\n",
       "    </tr>\n",
       "    <tr>\n",
       "      <th>3</th>\n",
       "      <td>Google Pixel</td>\n",
       "      <td>phone</td>\n",
       "      <td>Pure Android experience</td>\n",
       "      <td>699</td>\n",
       "    </tr>\n",
       "    <tr>\n",
       "      <th>4</th>\n",
       "      <td>Apple Watch</td>\n",
       "      <td>wearable</td>\n",
       "      <td>Health tracker</td>\n",
       "      <td>399</td>\n",
       "    </tr>\n",
       "  </tbody>\n",
       "</table>\n",
       "</div>"
      ],
      "text/plain": [
       "          product  category              description  price\n",
       "0    Apple iPhone     phone      Latest iPhone model    999\n",
       "1  Samsung Galaxy     phone         Android flagship    899\n",
       "2      Apple iPad    tablet          Tablet for work    799\n",
       "3    Google Pixel     phone  Pure Android experience    699\n",
       "4     Apple Watch  wearable           Health tracker    399"
      ]
     },
     "execution_count": 3,
     "metadata": {},
     "output_type": "execute_result"
    }
   ],
   "source": [
    "# Create DataFrame with string data\n",
    "df_text = pd.DataFrame({\n",
    "    'product': ['Apple iPhone', 'Samsung Galaxy', 'Apple iPad', 'Google Pixel', 'Apple Watch'],\n",
    "    'category': ['phone', 'phone', 'tablet', 'phone', 'wearable'],\n",
    "    'description': ['Latest iPhone model', 'Android flagship', 'Tablet for work', 'Pure Android experience', 'Health tracker'],\n",
    "    'price': [999, 899, 799, 699, 399]\n",
    "})\n",
    "df_text"
   ]
  },
  {
   "cell_type": "code",
   "execution_count": 4,
   "id": "5fdedc62",
   "metadata": {},
   "outputs": [
    {
     "name": "stdout",
     "output_type": "stream",
     "text": [
      "Products containing 'Apple':\n",
      "        product  category          description  price\n",
      "0  Apple iPhone     phone  Latest iPhone model    999\n",
      "2    Apple iPad    tablet      Tablet for work    799\n",
      "4   Apple Watch  wearable       Health tracker    399\n",
      "\n",
      "Descriptions with 'android' (case-insensitive):\n",
      "          product category              description  price\n",
      "1  Samsung Galaxy    phone         Android flagship    899\n",
      "3    Google Pixel    phone  Pure Android experience    699\n",
      "\n",
      "Products starting with 'Apple':\n",
      "        product  category          description  price\n",
      "0  Apple iPhone     phone  Latest iPhone model    999\n",
      "2    Apple iPad    tablet      Tablet for work    799\n",
      "4   Apple Watch  wearable       Health tracker    399\n",
      "\n",
      "Products matching regex:\n",
      "          product category              description  price\n",
      "1  Samsung Galaxy    phone         Android flagship    899\n",
      "3    Google Pixel    phone  Pure Android experience    699\n"
     ]
    }
   ],
   "source": [
    "# Contains pattern\n",
    "# R: filter(df, str_detect(product, \"Apple\"))\n",
    "print(\"Products containing 'Apple':\")\n",
    "print(df_text[df_text['product'].str.contains('Apple')])\n",
    "print()\n",
    "\n",
    "# Case-insensitive search\n",
    "# R: filter(df, str_detect(description, regex(\"android\", ignore_case = TRUE)))\n",
    "print(\"Descriptions with 'android' (case-insensitive):\")\n",
    "print(df_text[df_text['description'].str.contains('android', case=False)])\n",
    "print()\n",
    "\n",
    "# Starts with / Ends with\n",
    "# R: filter(df, str_starts(product, \"Apple\"))\n",
    "print(\"Products starting with 'Apple':\")\n",
    "print(df_text[df_text['product'].str.startswith('Apple')])\n",
    "print()\n",
    "\n",
    "# Regular expressions\n",
    "# R: filter(df, str_detect(product, \"Galaxy|Pixel\"))\n",
    "print(\"Products matching regex:\")\n",
    "print(df_text[df_text['product'].str.contains('Galaxy|Pixel', regex=True)])"
   ]
  },
  {
   "cell_type": "markdown",
   "id": "c4c5480c",
   "metadata": {},
   "source": [
    "## Filtering with Missing Values\n",
    "\n",
    "Handling NaN values in filters:"
   ]
  },
  {
   "cell_type": "code",
   "execution_count": null,
   "id": "dbded745",
   "metadata": {},
   "outputs": [],
   "source": [
    "# Create DataFrame with missing values\n",
    "df_missing = pd.DataFrame({\n",
    "    'name': ['Alice', 'Bob', 'Charlie', 'David', 'Eve'],\n",
    "    'age': [25, np.nan, 35, 28, np.nan],\n",
    "    'score': [85.5, 92.0, np.nan, 88.0, 95.0],\n",
    "    'department': ['Sales', 'IT', None, 'Sales', 'IT']\n",
    "})\n",
    "\n",
    "# Filter out missing values\n",
    "# R: filter(df, !is.na(age))\n",
    "print(\"Rows with non-missing age:\")\n",
    "print(df_missing[df_missing['age'].notna()])\n",
    "print()\n",
    "\n",
    "# Filter for missing values\n",
    "# R: filter(df, is.na(score))\n",
    "print(\"Rows with missing score:\")\n",
    "print(df_missing[df_missing['score'].isna()])\n",
    "print()\n",
    "\n",
    "# Multiple columns - any missing\n",
    "# R: filter(df, !is.na(age) & !is.na(score))\n",
    "print(\"Rows with no missing in age or score:\")\n",
    "print(df_missing[df_missing['age'].notna() & df_missing['score'].notna()])\n",
    "print()\n",
    "\n",
    "# Using dropna for complete cases\n",
    "# R: df %>% drop_na()\n",
    "print(\"Complete cases only:\")\n",
    "print(df_missing.dropna())"
   ]
  },
  {
   "cell_type": "markdown",
   "id": "c67c30a2",
   "metadata": {},
   "source": [
    "## Filtering by Position\n",
    "\n",
    "Sometimes you need to filter by row position:"
   ]
  },
  {
   "cell_type": "code",
   "execution_count": 5,
   "id": "35869dbe",
   "metadata": {},
   "outputs": [
    {
     "name": "stdout",
     "output_type": "stream",
     "text": [
      "First 3 rows:\n",
      "      name  age department  salary  performance  is_manager\n",
      "0    Alice   25      Sales   70000          4.2       False\n",
      "1      Bob   30         IT   80000          4.5        True\n",
      "2  Charlie   35         HR   75000          3.8        True\n",
      "\n",
      "Last 2 rows:\n",
      "    name  age department  salary  performance  is_manager\n",
      "4    Eve   33         IT   85000          4.6        True\n",
      "5  Frank   29         HR   71000          3.9       False\n",
      "\n",
      "Rows 2 to 4 (0-indexed in pandas):\n",
      "      name  age department  salary  performance  is_manager\n",
      "1      Bob   30         IT   80000          4.5        True\n",
      "2  Charlie   35         HR   75000          3.8        True\n",
      "3    David   28      Sales   72000          4.0       False\n",
      "\n",
      "Top 3 by salary:\n",
      "      name  age department  salary  performance  is_manager\n",
      "4      Eve   33         IT   85000          4.6        True\n",
      "1      Bob   30         IT   80000          4.5        True\n",
      "2  Charlie   35         HR   75000          3.8        True\n",
      "\n",
      "Youngest 2 employees:\n",
      "    name  age department  salary  performance  is_manager\n",
      "0  Alice   25      Sales   70000          4.2       False\n",
      "3  David   28      Sales   72000          4.0       False\n"
     ]
    }
   ],
   "source": [
    "# Filter first n rows\n",
    "# R: slice_head(df, n = 3)\n",
    "print(\"First 3 rows:\")\n",
    "print(df.head(3))\n",
    "print()\n",
    "\n",
    "# Filter last n rows\n",
    "# R: slice_tail(df, n = 2)\n",
    "print(\"Last 2 rows:\")\n",
    "print(df.tail(2))\n",
    "print()\n",
    "\n",
    "# Filter specific rows by position\n",
    "# R: slice(df, 2:4)\n",
    "print(\"Rows 2 to 4 (0-indexed in pandas):\")\n",
    "print(df.iloc[1:4])  # Remember: Python is 0-indexed!\n",
    "print()\n",
    "\n",
    "# Filter by position with condition\n",
    "# R: slice_max(df, salary, n = 3)\n",
    "print(\"Top 3 by salary:\")\n",
    "print(df.nlargest(3, 'salary'))\n",
    "print()\n",
    "\n",
    "# R: slice_min(df, age, n = 2)\n",
    "print(\"Youngest 2 employees:\")\n",
    "print(df.nsmallest(2, 'age'))"
   ]
  },
  {
   "cell_type": "markdown",
   "id": "3ab83b82",
   "metadata": {},
   "source": [
    "## Filtering with Functions\n",
    "\n",
    "Using functions for more complex filtering:"
   ]
  },
  {
   "cell_type": "code",
   "execution_count": 6,
   "id": "a8cb246f",
   "metadata": {},
   "outputs": [
    {
     "name": "stdout",
     "output_type": "stream",
     "text": [
      "High performers:\n",
      "  name  age department  salary  performance  is_manager\n",
      "1  Bob   30         IT   80000          4.5        True\n",
      "4  Eve   33         IT   85000          4.6        True\n",
      "\n",
      "Age between 28 and 32:\n",
      "    name  age department  salary  performance  is_manager\n",
      "1    Bob   30         IT   80000          4.5        True\n",
      "3  David   28      Sales   72000          4.0       False\n",
      "5  Frank   29         HR   71000          3.9       False\n",
      "\n",
      "Name length > 4 characters:\n",
      "      name  age department  salary  performance  is_manager\n",
      "0    Alice   25      Sales   70000          4.2       False\n",
      "2  Charlie   35         HR   75000          3.8        True\n",
      "3    David   28      Sales   72000          4.0       False\n",
      "5    Frank   29         HR   71000          3.9       False\n"
     ]
    }
   ],
   "source": [
    "# Custom function for filtering\n",
    "def is_high_performer(row):\n",
    "    \"\"\"High performer: performance > 4.0 and (manager or salary > 75000)\"\"\"\n",
    "    return row['performance'] > 4.0 and (row['is_manager'] or row['salary'] > 75000)\n",
    "\n",
    "# Apply function row-wise\n",
    "# R: filter(df, map_lgl(1:n(), ~ is_high_performer(.x)))\n",
    "print(\"High performers:\")\n",
    "print(df[df.apply(is_high_performer, axis=1)])\n",
    "print()\n",
    "\n",
    "# Lambda function for quick filters\n",
    "# R: filter(df, between(age, 28, 32))\n",
    "print(\"Age between 28 and 32:\")\n",
    "print(df[df['age'].apply(lambda x: 28 <= x <= 32)])\n",
    "print()\n",
    "\n",
    "# More complex lambda\n",
    "print(\"Name length > 4 characters:\")\n",
    "print(df[df['name'].apply(lambda x: len(x) > 4)])"
   ]
  },
  {
   "cell_type": "markdown",
   "id": "fa867113",
   "metadata": {},
   "source": [
    "## Filtering in Method Chains\n",
    "\n",
    "Integrating filters into pandas method chains:"
   ]
  },
  {
   "cell_type": "code",
   "execution_count": 8,
   "id": "1c760eaf",
   "metadata": {},
   "outputs": [
    {
     "data": {
      "application/vnd.microsoft.datawrangler.viewer.v0+json": {
       "columns": [
        {
         "name": "index",
         "rawType": "int64",
         "type": "integer"
        },
        {
         "name": "employee_id",
         "rawType": "int64",
         "type": "integer"
        },
        {
         "name": "age",
         "rawType": "int64",
         "type": "integer"
        },
        {
         "name": "department",
         "rawType": "object",
         "type": "string"
        },
        {
         "name": "salary",
         "rawType": "int64",
         "type": "integer"
        },
        {
         "name": "years_exp",
         "rawType": "int64",
         "type": "integer"
        },
        {
         "name": "performance",
         "rawType": "float64",
         "type": "float"
        }
       ],
       "ref": "eba469e7-69a2-4a4f-8fea-e0c4a77c2e90",
       "rows": [
        [
         "0",
         "1000",
         "50",
         "IT",
         "98190",
         "6",
         "4.5"
        ],
        [
         "1",
         "1001",
         "36",
         "IT",
         "55258",
         "0",
         "2.9"
        ],
        [
         "2",
         "1002",
         "29",
         "Finance",
         "89504",
         "0",
         "3.8"
        ],
        [
         "3",
         "1003",
         "42",
         "IT",
         "83159",
         "19",
         "4.2"
        ]
       ],
       "shape": {
        "columns": 6,
        "rows": 4
       }
      },
      "text/html": [
       "<div>\n",
       "<style scoped>\n",
       "    .dataframe tbody tr th:only-of-type {\n",
       "        vertical-align: middle;\n",
       "    }\n",
       "\n",
       "    .dataframe tbody tr th {\n",
       "        vertical-align: top;\n",
       "    }\n",
       "\n",
       "    .dataframe thead th {\n",
       "        text-align: right;\n",
       "    }\n",
       "</style>\n",
       "<table border=\"1\" class=\"dataframe\">\n",
       "  <thead>\n",
       "    <tr style=\"text-align: right;\">\n",
       "      <th></th>\n",
       "      <th>employee_id</th>\n",
       "      <th>age</th>\n",
       "      <th>department</th>\n",
       "      <th>salary</th>\n",
       "      <th>years_exp</th>\n",
       "      <th>performance</th>\n",
       "    </tr>\n",
       "  </thead>\n",
       "  <tbody>\n",
       "    <tr>\n",
       "      <th>0</th>\n",
       "      <td>1000</td>\n",
       "      <td>50</td>\n",
       "      <td>IT</td>\n",
       "      <td>98190</td>\n",
       "      <td>6</td>\n",
       "      <td>4.5</td>\n",
       "    </tr>\n",
       "    <tr>\n",
       "      <th>1</th>\n",
       "      <td>1001</td>\n",
       "      <td>36</td>\n",
       "      <td>IT</td>\n",
       "      <td>55258</td>\n",
       "      <td>0</td>\n",
       "      <td>2.9</td>\n",
       "    </tr>\n",
       "    <tr>\n",
       "      <th>2</th>\n",
       "      <td>1002</td>\n",
       "      <td>29</td>\n",
       "      <td>Finance</td>\n",
       "      <td>89504</td>\n",
       "      <td>0</td>\n",
       "      <td>3.8</td>\n",
       "    </tr>\n",
       "    <tr>\n",
       "      <th>3</th>\n",
       "      <td>1003</td>\n",
       "      <td>42</td>\n",
       "      <td>IT</td>\n",
       "      <td>83159</td>\n",
       "      <td>19</td>\n",
       "      <td>4.2</td>\n",
       "    </tr>\n",
       "  </tbody>\n",
       "</table>\n",
       "</div>"
      ],
      "text/plain": [
       "   employee_id  age department  salary  years_exp  performance\n",
       "0         1000   50         IT   98190          6          4.5\n",
       "1         1001   36         IT   55258          0          2.9\n",
       "2         1002   29    Finance   89504          0          3.8\n",
       "3         1003   42         IT   83159         19          4.2"
      ]
     },
     "execution_count": 8,
     "metadata": {},
     "output_type": "execute_result"
    }
   ],
   "source": [
    "# Create larger dataset\n",
    "np.random.seed(42)\n",
    "df_large = pd.DataFrame({\n",
    "    'employee_id': range(1000, 1050),\n",
    "    'age': np.random.randint(22, 60, 50),\n",
    "    'department': np.random.choice(['Sales', 'IT', 'HR', 'Finance'], 50),\n",
    "    'salary': np.random.randint(50000, 120000, 50),\n",
    "    'years_exp': np.random.randint(0, 20, 50),\n",
    "    'performance': np.random.uniform(2.5, 5.0, 50).round(1)\n",
    "})\n",
    "df_large.head(4)"
   ]
  },
  {
   "cell_type": "code",
   "execution_count": 9,
   "id": "f676f57f",
   "metadata": {},
   "outputs": [
    {
     "name": "stdout",
     "output_type": "stream",
     "text": [
      "Chained filtering:\n",
      "    employee_id  age department  salary  years_exp  performance\n",
      "22         1022   46         IT  102992         11          5.0\n",
      "25         1025   37    Finance   73419          2          5.0\n",
      "11         1011   24         IT  102251          4          4.9\n",
      "35         1035   35    Finance   72299          0          4.7\n",
      "33         1033   25    Finance  105820          4          4.6\n",
      "0          1000   50         IT   98190          6          4.5\n",
      "31         1031   30         IT  117214          1          4.3\n",
      "7          1007   32         IT   88660          6          4.3\n",
      "15         1015   51    Finance  102256         11          4.2\n",
      "3          1003   42         IT   83159         19          4.2\n",
      "\n",
      "Alternative chaining:\n",
      "    employee_id  age department  salary  years_exp  performance\n",
      "22         1022   46         IT  102992         11          5.0\n",
      "25         1025   37    Finance   73419          2          5.0\n",
      "11         1011   24         IT  102251          4          4.9\n",
      "35         1035   35    Finance   72299          0          4.7\n",
      "33         1033   25    Finance  105820          4          4.6\n",
      "0          1000   50         IT   98190          6          4.5\n",
      "31         1031   30         IT  117214          1          4.3\n",
      "7          1007   32         IT   88660          6          4.3\n",
      "15         1015   51    Finance  102256         11          4.2\n",
      "3          1003   42         IT   83159         19          4.2\n"
     ]
    }
   ],
   "source": [
    "\n",
    "# Chain with multiple filters\n",
    "# R: df %>% \n",
    "#     filter(department %in% c(\"IT\", \"Finance\")) %>%\n",
    "#     filter(salary > 70000) %>%\n",
    "#     arrange(desc(performance))\n",
    "result = (df_large\n",
    "          .query('department in [\"IT\", \"Finance\"]')\n",
    "          .query('salary > 70000')\n",
    "          .sort_values('performance', ascending=False)\n",
    "          .head(10))\n",
    "print(\"Chained filtering:\")\n",
    "print(result)\n",
    "print()\n",
    "\n",
    "# Alternative using boolean indexing in chain\n",
    "result2 = (df_large[df_large['department'].isin(['IT', 'Finance'])]\n",
    "           [lambda x: x['salary'] > 70000]\n",
    "           .sort_values('performance', ascending=False)\n",
    "           .head(10))\n",
    "print(\"Alternative chaining:\")\n",
    "print(result2)"
   ]
  },
  {
   "cell_type": "markdown",
   "id": "5a861bcc",
   "metadata": {},
   "source": [
    "## Advanced Filtering Patterns\n",
    "\n",
    "Some advanced filtering techniques:"
   ]
  },
  {
   "cell_type": "code",
   "execution_count": 10,
   "id": "82f0d447",
   "metadata": {},
   "outputs": [
    {
     "name": "stdout",
     "output_type": "stream",
     "text": [
      "Employees earning above department average:\n"
     ]
    },
    {
     "data": {
      "application/vnd.microsoft.datawrangler.viewer.v0+json": {
       "columns": [
        {
         "name": "index",
         "rawType": "int64",
         "type": "integer"
        },
        {
         "name": "name",
         "rawType": "object",
         "type": "string"
        },
        {
         "name": "age",
         "rawType": "int64",
         "type": "integer"
        },
        {
         "name": "department",
         "rawType": "object",
         "type": "string"
        },
        {
         "name": "salary",
         "rawType": "int64",
         "type": "integer"
        },
        {
         "name": "performance",
         "rawType": "float64",
         "type": "float"
        },
        {
         "name": "is_manager",
         "rawType": "bool",
         "type": "boolean"
        }
       ],
       "ref": "e29957e4-e119-41c8-a117-771c3fb40f2f",
       "rows": [
        [
         "2",
         "Charlie",
         "35",
         "HR",
         "75000",
         "3.8",
         "True"
        ],
        [
         "3",
         "David",
         "28",
         "Sales",
         "72000",
         "4.0",
         "False"
        ],
        [
         "4",
         "Eve",
         "33",
         "IT",
         "85000",
         "4.6",
         "True"
        ]
       ],
       "shape": {
        "columns": 6,
        "rows": 3
       }
      },
      "text/html": [
       "<div>\n",
       "<style scoped>\n",
       "    .dataframe tbody tr th:only-of-type {\n",
       "        vertical-align: middle;\n",
       "    }\n",
       "\n",
       "    .dataframe tbody tr th {\n",
       "        vertical-align: top;\n",
       "    }\n",
       "\n",
       "    .dataframe thead th {\n",
       "        text-align: right;\n",
       "    }\n",
       "</style>\n",
       "<table border=\"1\" class=\"dataframe\">\n",
       "  <thead>\n",
       "    <tr style=\"text-align: right;\">\n",
       "      <th></th>\n",
       "      <th>name</th>\n",
       "      <th>age</th>\n",
       "      <th>department</th>\n",
       "      <th>salary</th>\n",
       "      <th>performance</th>\n",
       "      <th>is_manager</th>\n",
       "    </tr>\n",
       "  </thead>\n",
       "  <tbody>\n",
       "    <tr>\n",
       "      <th>2</th>\n",
       "      <td>Charlie</td>\n",
       "      <td>35</td>\n",
       "      <td>HR</td>\n",
       "      <td>75000</td>\n",
       "      <td>3.8</td>\n",
       "      <td>True</td>\n",
       "    </tr>\n",
       "    <tr>\n",
       "      <th>3</th>\n",
       "      <td>David</td>\n",
       "      <td>28</td>\n",
       "      <td>Sales</td>\n",
       "      <td>72000</td>\n",
       "      <td>4.0</td>\n",
       "      <td>False</td>\n",
       "    </tr>\n",
       "    <tr>\n",
       "      <th>4</th>\n",
       "      <td>Eve</td>\n",
       "      <td>33</td>\n",
       "      <td>IT</td>\n",
       "      <td>85000</td>\n",
       "      <td>4.6</td>\n",
       "      <td>True</td>\n",
       "    </tr>\n",
       "  </tbody>\n",
       "</table>\n",
       "</div>"
      ],
      "text/plain": [
       "      name  age department  salary  performance  is_manager\n",
       "2  Charlie   35         HR   75000          3.8        True\n",
       "3    David   28      Sales   72000          4.0       False\n",
       "4      Eve   33         IT   85000          4.6        True"
      ]
     },
     "execution_count": 10,
     "metadata": {},
     "output_type": "execute_result"
    }
   ],
   "source": [
    "# Filter based on group statistics\n",
    "# R: df %>% group_by(department) %>% filter(salary > mean(salary))\n",
    "dept_avg_salary = df.groupby('department')['salary'].transform('mean')\n",
    "print(\"Employees earning above department average:\")\n",
    "df[df['salary'] > dept_avg_salary]"
   ]
  },
  {
   "cell_type": "code",
   "execution_count": 11,
   "id": "4d52d952",
   "metadata": {},
   "outputs": [
    {
     "name": "stdout",
     "output_type": "stream",
     "text": [
      "Sales until cumulative reaches 1000:\n"
     ]
    },
    {
     "data": {
      "application/vnd.microsoft.datawrangler.viewer.v0+json": {
       "columns": [
        {
         "name": "index",
         "rawType": "int64",
         "type": "integer"
        },
        {
         "name": "date",
         "rawType": "datetime64[ns]",
         "type": "datetime"
        },
        {
         "name": "sales",
         "rawType": "int64",
         "type": "integer"
        },
        {
         "name": "cumulative_sales",
         "rawType": "int64",
         "type": "integer"
        }
       ],
       "ref": "10f9feee-0f78-49e7-97d2-7e77f1739e5d",
       "rows": [
        [
         "0",
         "2024-01-01 00:00:00",
         "100",
         "100"
        ],
        [
         "1",
         "2024-01-02 00:00:00",
         "150",
         "250"
        ],
        [
         "2",
         "2024-01-03 00:00:00",
         "200",
         "450"
        ],
        [
         "3",
         "2024-01-04 00:00:00",
         "120",
         "570"
        ],
        [
         "4",
         "2024-01-05 00:00:00",
         "180",
         "750"
        ],
        [
         "5",
         "2024-01-06 00:00:00",
         "250",
         "1000"
        ]
       ],
       "shape": {
        "columns": 3,
        "rows": 6
       }
      },
      "text/html": [
       "<div>\n",
       "<style scoped>\n",
       "    .dataframe tbody tr th:only-of-type {\n",
       "        vertical-align: middle;\n",
       "    }\n",
       "\n",
       "    .dataframe tbody tr th {\n",
       "        vertical-align: top;\n",
       "    }\n",
       "\n",
       "    .dataframe thead th {\n",
       "        text-align: right;\n",
       "    }\n",
       "</style>\n",
       "<table border=\"1\" class=\"dataframe\">\n",
       "  <thead>\n",
       "    <tr style=\"text-align: right;\">\n",
       "      <th></th>\n",
       "      <th>date</th>\n",
       "      <th>sales</th>\n",
       "      <th>cumulative_sales</th>\n",
       "    </tr>\n",
       "  </thead>\n",
       "  <tbody>\n",
       "    <tr>\n",
       "      <th>0</th>\n",
       "      <td>2024-01-01</td>\n",
       "      <td>100</td>\n",
       "      <td>100</td>\n",
       "    </tr>\n",
       "    <tr>\n",
       "      <th>1</th>\n",
       "      <td>2024-01-02</td>\n",
       "      <td>150</td>\n",
       "      <td>250</td>\n",
       "    </tr>\n",
       "    <tr>\n",
       "      <th>2</th>\n",
       "      <td>2024-01-03</td>\n",
       "      <td>200</td>\n",
       "      <td>450</td>\n",
       "    </tr>\n",
       "    <tr>\n",
       "      <th>3</th>\n",
       "      <td>2024-01-04</td>\n",
       "      <td>120</td>\n",
       "      <td>570</td>\n",
       "    </tr>\n",
       "    <tr>\n",
       "      <th>4</th>\n",
       "      <td>2024-01-05</td>\n",
       "      <td>180</td>\n",
       "      <td>750</td>\n",
       "    </tr>\n",
       "    <tr>\n",
       "      <th>5</th>\n",
       "      <td>2024-01-06</td>\n",
       "      <td>250</td>\n",
       "      <td>1000</td>\n",
       "    </tr>\n",
       "  </tbody>\n",
       "</table>\n",
       "</div>"
      ],
      "text/plain": [
       "        date  sales  cumulative_sales\n",
       "0 2024-01-01    100               100\n",
       "1 2024-01-02    150               250\n",
       "2 2024-01-03    200               450\n",
       "3 2024-01-04    120               570\n",
       "4 2024-01-05    180               750\n",
       "5 2024-01-06    250              1000"
      ]
     },
     "execution_count": 11,
     "metadata": {},
     "output_type": "execute_result"
    }
   ],
   "source": [
    "# Cumulative filtering\n",
    "# Keep rows until cumulative sum exceeds threshold\n",
    "df_cumsum = pd.DataFrame({\n",
    "    'date': pd.date_range('2024-01-01', periods=10),\n",
    "    'sales': [100, 150, 200, 120, 180, 250, 190, 160, 220, 200]\n",
    "})\n",
    "df_cumsum['cumulative_sales'] = df_cumsum['sales'].cumsum()\n",
    "print(\"Sales until cumulative reaches 1000:\")\n",
    "df_cumsum[df_cumsum['cumulative_sales'] <= 1000]"
   ]
  },
  {
   "cell_type": "code",
   "execution_count": 12,
   "id": "4028579f",
   "metadata": {},
   "outputs": [
    {
     "name": "stdout",
     "output_type": "stream",
     "text": [
      "Days where sales exceed 3-day rolling average:\n"
     ]
    },
    {
     "data": {
      "application/vnd.microsoft.datawrangler.viewer.v0+json": {
       "columns": [
        {
         "name": "index",
         "rawType": "int64",
         "type": "integer"
        },
        {
         "name": "date",
         "rawType": "datetime64[ns]",
         "type": "datetime"
        },
        {
         "name": "sales",
         "rawType": "int64",
         "type": "integer"
        },
        {
         "name": "cumulative_sales",
         "rawType": "int64",
         "type": "integer"
        },
        {
         "name": "rolling_avg",
         "rawType": "float64",
         "type": "float"
        }
       ],
       "ref": "4f1638d2-133b-4f32-a081-a3f8518a172a",
       "rows": [
        [
         "2",
         "2024-01-03 00:00:00",
         "200",
         "450",
         "156.66666666666666"
        ],
        [
         "5",
         "2024-01-06 00:00:00",
         "250",
         "1000",
         "206.66666666666666"
        ],
        [
         "8",
         "2024-01-09 00:00:00",
         "220",
         "1570",
         "193.33333333333334"
        ]
       ],
       "shape": {
        "columns": 4,
        "rows": 3
       }
      },
      "text/html": [
       "<div>\n",
       "<style scoped>\n",
       "    .dataframe tbody tr th:only-of-type {\n",
       "        vertical-align: middle;\n",
       "    }\n",
       "\n",
       "    .dataframe tbody tr th {\n",
       "        vertical-align: top;\n",
       "    }\n",
       "\n",
       "    .dataframe thead th {\n",
       "        text-align: right;\n",
       "    }\n",
       "</style>\n",
       "<table border=\"1\" class=\"dataframe\">\n",
       "  <thead>\n",
       "    <tr style=\"text-align: right;\">\n",
       "      <th></th>\n",
       "      <th>date</th>\n",
       "      <th>sales</th>\n",
       "      <th>cumulative_sales</th>\n",
       "      <th>rolling_avg</th>\n",
       "    </tr>\n",
       "  </thead>\n",
       "  <tbody>\n",
       "    <tr>\n",
       "      <th>2</th>\n",
       "      <td>2024-01-03</td>\n",
       "      <td>200</td>\n",
       "      <td>450</td>\n",
       "      <td>156.666667</td>\n",
       "    </tr>\n",
       "    <tr>\n",
       "      <th>5</th>\n",
       "      <td>2024-01-06</td>\n",
       "      <td>250</td>\n",
       "      <td>1000</td>\n",
       "      <td>206.666667</td>\n",
       "    </tr>\n",
       "    <tr>\n",
       "      <th>8</th>\n",
       "      <td>2024-01-09</td>\n",
       "      <td>220</td>\n",
       "      <td>1570</td>\n",
       "      <td>193.333333</td>\n",
       "    </tr>\n",
       "  </tbody>\n",
       "</table>\n",
       "</div>"
      ],
      "text/plain": [
       "        date  sales  cumulative_sales  rolling_avg\n",
       "2 2024-01-03    200               450   156.666667\n",
       "5 2024-01-06    250              1000   206.666667\n",
       "8 2024-01-09    220              1570   193.333333"
      ]
     },
     "execution_count": 12,
     "metadata": {},
     "output_type": "execute_result"
    }
   ],
   "source": [
    "# Window-based filtering\n",
    "# Filter where value is above rolling average\n",
    "df_rolling = df_cumsum.copy()\n",
    "df_rolling['rolling_avg'] = df_rolling['sales'].rolling(window=3, center=True).mean()\n",
    "print(\"Days where sales exceed 3-day rolling average:\")\n",
    "df_rolling[df_rolling['sales'] > df_rolling['rolling_avg']].dropna()"
   ]
  },
  {
   "cell_type": "markdown",
   "id": "7e832748",
   "metadata": {},
   "source": [
    "## Creating Tidyverse-Style Filter Functions\n",
    "\n",
    "Make filtering more dplyr-like with helper functions:"
   ]
  },
  {
   "cell_type": "code",
   "execution_count": null,
   "id": "c3bf211d",
   "metadata": {},
   "outputs": [],
   "source": [
    "def filter_df(df, *conditions):\n",
    "    \"\"\"Filter DataFrame with multiple conditions\"\"\"\n",
    "    if len(conditions) == 1:\n",
    "        return df[conditions[0]]\n",
    "    \n",
    "    # Combine multiple conditions with &\n",
    "    combined = conditions[0]\n",
    "    for condition in conditions[1:]:\n",
    "        combined = combined & condition\n",
    "    \n",
    "    return df[combined]\n",
    "\n",
    "def between(series, low, high):\n",
    "    \"\"\"Check if values are between low and high (inclusive)\"\"\"\n",
    "    return (series >= low) & (series <= high)\n",
    "\n",
    "def not_na(series):\n",
    "    \"\"\"Check for non-missing values\"\"\"\n",
    "    return series.notna()\n",
    "\n",
    "# Usage examples\n",
    "print(\"Using filter_df helper:\")\n",
    "print(filter_df(df, \n",
    "                df['age'] > 30,\n",
    "                df['department'] == 'IT'))\n",
    "print()\n",
    "\n",
    "print(\"Using between helper:\")\n",
    "print(df[between(df['age'], 28, 32)])\n",
    "print()\n",
    "\n",
    "print(\"Combining helpers:\")\n",
    "print(filter_df(df,\n",
    "                between(df['salary'], 70000, 80000),\n",
    "                not_na(df['performance'])))"
   ]
  },
  {
   "cell_type": "markdown",
   "id": "50353f16",
   "metadata": {},
   "source": [
    "## Performance Comparison\n",
    "\n",
    "Different filtering methods have different performance characteristics:"
   ]
  },
  {
   "cell_type": "code",
   "execution_count": 13,
   "id": "22c4c00d",
   "metadata": {},
   "outputs": [
    {
     "name": "stdout",
     "output_type": "stream",
     "text": [
      "Boolean indexing: 0.0682 seconds\n",
      "Query method: 0.0576 seconds\n",
      "loc method: 0.0326 seconds\n"
     ]
    }
   ],
   "source": [
    "# Create large DataFrame\n",
    "large_df = pd.DataFrame({\n",
    "    'A': np.random.randn(100000),\n",
    "    'B': np.random.randn(100000),\n",
    "    'C': np.random.choice(['X', 'Y', 'Z'], 100000)\n",
    "})\n",
    "\n",
    "import time\n",
    "\n",
    "# Method 1: Boolean indexing\n",
    "start = time.time()\n",
    "for _ in range(100):\n",
    "    _ = large_df[large_df['A'] > 0]\n",
    "print(f\"Boolean indexing: {time.time() - start:.4f} seconds\")\n",
    "\n",
    "# Method 2: Query\n",
    "start = time.time()\n",
    "for _ in range(100):\n",
    "    _ = large_df.query('A > 0')\n",
    "print(f\"Query method: {time.time() - start:.4f} seconds\")\n",
    "\n",
    "# Method 3: loc\n",
    "start = time.time()\n",
    "for _ in range(100):\n",
    "    _ = large_df.loc[large_df['A'] > 0]\n",
    "print(f\"loc method: {time.time() - start:.4f} seconds\")"
   ]
  },
  {
   "cell_type": "markdown",
   "id": "77cf4383",
   "metadata": {},
   "source": [
    "## Common Pitfalls and Solutions\n",
    "\n",
    "Avoid these common mistakes when filtering:"
   ]
  },
  {
   "cell_type": "code",
   "execution_count": 14,
   "id": "0b3d8bdf",
   "metadata": {},
   "outputs": [
    {
     "name": "stdout",
     "output_type": "stream",
     "text": [
      "Correct AND syntax:\n",
      "      name  age department  salary  performance  is_manager\n",
      "2  Charlie   35         HR   75000          3.8        True\n",
      "4      Eve   33         IT   85000          4.6        True\n",
      "\n",
      "Safe modification:\n",
      "      name  age department  salary  performance  is_manager new_col\n",
      "2  Charlie   35         HR   75000          3.8        True  Senior\n",
      "4      Eve   33         IT   85000          4.6        True  Senior\n"
     ]
    }
   ],
   "source": [
    "# Pitfall 1: Using 'and' / 'or' instead of & / |\n",
    "# Wrong: df[df['age'] > 30 and df['salary'] > 70000]  # This will error!\n",
    "# Right:\n",
    "print(\"Correct AND syntax:\")\n",
    "print(df[(df['age'] > 30) & (df['salary'] > 70000)])\n",
    "print()\n",
    "\n",
    "# Pitfall 2: Forgetting parentheses with multiple conditions\n",
    "# Wrong: df[df['age'] > 30 & df['salary'] > 70000]  # Operator precedence issue\n",
    "# Right: Always use parentheses\n",
    "\n",
    "# Pitfall 3: Modifying filtered DataFrame\n",
    "# Be careful with SettingWithCopyWarning\n",
    "filtered = df[df['age'] > 30]\n",
    "# Better to use .copy() if you plan to modify\n",
    "filtered_copy = df[df['age'] > 30].copy()\n",
    "filtered_copy['new_col'] = 'Senior'\n",
    "print(\"Safe modification:\")\n",
    "print(filtered_copy)"
   ]
  }
 ],
 "metadata": {
  "kernelspec": {
   "display_name": "ds-env",
   "language": "python",
   "name": "python3"
  },
  "language_info": {
   "codemirror_mode": {
    "name": "ipython",
    "version": 3
   },
   "file_extension": ".py",
   "mimetype": "text/x-python",
   "name": "python",
   "nbconvert_exporter": "python",
   "pygments_lexer": "ipython3",
   "version": "3.12.9"
  }
 },
 "nbformat": 4,
 "nbformat_minor": 5
}
