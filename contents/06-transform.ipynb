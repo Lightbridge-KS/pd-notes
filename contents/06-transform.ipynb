{
 "cells": [
  {
   "cell_type": "markdown",
   "id": "929249a7",
   "metadata": {},
   "source": [
    "# Transforming Columns\n",
    "\n",
    "Creating and transforming columns is at the heart of data manipulation. While R's `dplyr::mutate()` provides an elegant interface for column operations, pandas offers multiple approaches that can be equally powerful once you understand the patterns. This chapter will show you how to achieve tidyverse-style column transformations in pandas."
   ]
  },
  {
   "cell_type": "markdown",
   "id": "661fca65",
   "metadata": {},
   "source": [
    "## Best Practices Summary\n",
    "\n",
    "Quick reference for column creation patterns:\n",
    "\n",
    "| Task | R (dplyr) | Pandas |\n",
    "|------|-----------|--------|\n",
    "| Single column | `mutate(df, z = x + y)` | `df['z'] = df['x'] + df['y']` or `df.assign(z = df['x'] + df['y'])` |\n",
    "| Multiple columns | `mutate(df, z = x + y, w = x * y)` | `df.assign(z = df['x'] + df['y'], w = df['x'] * df['y'])` |\n",
    "| Conditional | `mutate(df, cat = ifelse(x > 0, \"pos\", \"neg\"))` | `df.assign(cat = np.where(df['x'] > 0, 'pos', 'neg'))` |\n",
    "| Case when | `mutate(df, cat = case_when(...))` | `df.assign(cat = np.select(conditions, choices))` |\n",
    "| Apply function | `mutate(df, z = map_dbl(x, custom_func))` | `df.assign(z = df['x'].apply(custom_func))` |\n",
    "| Group transform | `group_by(df, g) %>% mutate(mean_x = mean(x))` | `df.assign(mean_x = df.groupby('g')['x'].transform('mean'))` |\n",
    "| Across columns | `mutate(df, across(where(is.numeric), ~ . * 2))` | Use loop or dictionary comprehension |"
   ]
  },
  {
   "cell_type": "markdown",
   "id": "b74fc8d5",
   "metadata": {},
   "source": [
    "## Tips for Tidyverse Users\n",
    "\n",
    "1. **Prefer `assign()` for chains**: It's the most mutate-like method and enables clean chaining.\n",
    "\n",
    "2. **Use lambda in assign()**: This allows you to reference columns created in the same assign call.\n",
    "\n",
    "3. **Remember `np.where()` for ifelse**: It's the pandas equivalent of R's `ifelse()`.\n",
    "\n",
    "4. **Group transforms are powerful**: Use `.transform()` to broadcast group statistics back to original DataFrame.\n",
    "\n",
    "5. **Chain assignments**: You can chain multiple assign calls for complex transformations:\n",
    "   ```python\n",
    "   result = (df\n",
    "            .assign(total = lambda x: x['a'] + x['b'])\n",
    "            .assign(pct = lambda x: x['a'] / x['total'] * 100))\n",
    "   ```\n",
    "\n",
    "Creating and transforming columns in pandas is highly flexible. While the syntax differs from dplyr's `mutate()`, the `assign()` method provides a similar, chainable interface that will feel familiar to tidyverse users."
   ]
  },
  {
   "cell_type": "markdown",
   "id": "f48c2cdd",
   "metadata": {},
   "source": [
    "## Basic Column Creation\n",
    "\n",
    "The fundamental ways to create new columns in pandas:"
   ]
  },
  {
   "cell_type": "code",
   "execution_count": null,
   "id": "bcb0b424",
   "metadata": {},
   "outputs": [],
   "source": [
    "import pandas as pd\n",
    "import numpy as np\n",
    "\n",
    "# Create sample DataFrame\n",
    "df = pd.DataFrame({\n",
    "    'first_name': ['Alice', 'Bob', 'Charlie', 'David', 'Eve'],\n",
    "    'last_name': ['Smith', 'Jones', 'Brown', 'Davis', 'Wilson'],\n",
    "    'hours_worked': [40, 45, 38, 42, 50],\n",
    "    'hourly_rate': [50, 55, 48, 52, 60],\n",
    "    'department': ['Sales', 'IT', 'HR', 'Sales', 'IT']\n",
    "})\n",
    "\n",
    "# Simple column creation\n",
    "# R: mutate(df, total_pay = hours_worked * hourly_rate)\n",
    "df['total_pay'] = df['hours_worked'] * df['hourly_rate']\n",
    "df"
   ]
  },
  {
   "cell_type": "code",
   "execution_count": null,
   "id": "bd3b6325",
   "metadata": {},
   "outputs": [],
   "source": [
    "# Multiple columns at once\n",
    "# R: mutate(df, \n",
    "#           overtime_hours = pmax(hours_worked - 40, 0),\n",
    "#           overtime_pay = overtime_hours * hourly_rate * 1.5)\n",
    "df['overtime_hours'] = np.maximum(df['hours_worked'] - 40, 0)\n",
    "df['overtime_pay'] = df['overtime_hours'] * df['hourly_rate'] * 1.5\n",
    "df"
   ]
  },
  {
   "cell_type": "markdown",
   "id": "42ca8be2",
   "metadata": {},
   "source": [
    "## Using `assign()` for Method Chaining\n",
    "\n",
    "The `assign()` method is pandas' equivalent to `mutate()` and enables clean method chaining:"
   ]
  },
  {
   "cell_type": "code",
   "execution_count": null,
   "id": "76ac2c54",
   "metadata": {},
   "outputs": [],
   "source": [
    "# Reset to original DataFrame\n",
    "df = pd.DataFrame({\n",
    "    'first_name': ['Alice', 'Bob', 'Charlie', 'David', 'Eve'],\n",
    "    'last_name': ['Smith', 'Jones', 'Brown', 'Davis', 'Wilson'],\n",
    "    'hours_worked': [40, 45, 38, 42, 50],\n",
    "    'hourly_rate': [50, 55, 48, 52, 60],\n",
    "    'department': ['Sales', 'IT', 'HR', 'Sales', 'IT']\n",
    "})\n",
    "\n",
    "# Using assign (most similar to mutate)\n",
    "# R: df %>% \n",
    "#     mutate(total_pay = hours_worked * hourly_rate,\n",
    "#            overtime_hours = pmax(hours_worked - 40, 0))\n",
    "df_transformed = df.assign(\n",
    "    total_pay = df['hours_worked'] * df['hourly_rate'],\n",
    "    overtime_hours = lambda x: np.maximum(x['hours_worked'] - 40, 0)\n",
    ")\n",
    "df_transformed"
   ]
  },
  {
   "cell_type": "code",
   "execution_count": null,
   "id": "42d57fed",
   "metadata": {},
   "outputs": [],
   "source": [
    "# Chaining multiple assigns\n",
    "# R: df %>%\n",
    "#     mutate(total_pay = hours_worked * hourly_rate) %>%\n",
    "#     mutate(overtime_hours = pmax(hours_worked - 40, 0)) %>%\n",
    "#     mutate(overtime_pay = overtime_hours * hourly_rate * 1.5)\n",
    "df_chained = (df\n",
    "    .assign(total_pay = lambda x: x['hours_worked'] * x['hourly_rate'])\n",
    "    .assign(overtime_hours = lambda x: np.maximum(x['hours_worked'] - 40, 0))\n",
    "    .assign(overtime_pay = lambda x: x['overtime_hours'] * x['hourly_rate'] * 1.5)\n",
    ")\n",
    "df_chained"
   ]
  },
  {
   "cell_type": "markdown",
   "id": "6f6a4f8e",
   "metadata": {},
   "source": [
    "## Conditional Transformations\n",
    "\n",
    "Creating columns based on conditions:"
   ]
  },
  {
   "cell_type": "code",
   "execution_count": null,
   "id": "5de70355",
   "metadata": {},
   "outputs": [],
   "source": [
    "# Using np.where (like ifelse in R)\n",
    "# R: mutate(df, category = ifelse(total_pay > 2500, \"High\", \"Standard\"))\n",
    "df_transformed = df.assign(\n",
    "    total_pay = lambda x: x['hours_worked'] * x['hourly_rate'],\n",
    "    pay_category = lambda x: np.where(x['total_pay'] > 2500, 'High', 'Standard')\n",
    ")\n",
    "df_transformed"
   ]
  },
  {
   "cell_type": "code",
   "execution_count": null,
   "id": "9ffea732",
   "metadata": {},
   "outputs": [],
   "source": [
    "# Multiple conditions with np.select\n",
    "# R: mutate(df, level = case_when(\n",
    "#     hours_worked < 40 ~ \"Part-time\",\n",
    "#     hours_worked == 40 ~ \"Standard\",\n",
    "#     hours_worked > 40 ~ \"Overtime\"\n",
    "# ))\n",
    "conditions = [\n",
    "    df['hours_worked'] < 40,\n",
    "    df['hours_worked'] == 40,\n",
    "    df['hours_worked'] > 40\n",
    "]\n",
    "choices = ['Part-time', 'Standard', 'Overtime']\n",
    "\n",
    "df_transformed = df.assign(\n",
    "    work_level = np.select(conditions, choices)\n",
    ")\n",
    "df_transformed"
   ]
  },
  {
   "cell_type": "code",
   "execution_count": null,
   "id": "cf861d7e",
   "metadata": {},
   "outputs": [],
   "source": [
    "# Using pd.cut for binning\n",
    "# R: mutate(df, age_group = cut(age, breaks = c(0, 30, 50, 100), \n",
    "#                                labels = c(\"Young\", \"Middle\", \"Senior\")))\n",
    "df_ages = df.assign(\n",
    "    age = [25, 35, 42, 28, 55],  # Adding age column for example\n",
    "    age_group = lambda x: pd.cut(x['age'], \n",
    "                                 bins=[0, 30, 50, 100], \n",
    "                                 labels=['Young', 'Middle', 'Senior'])\n",
    ")\n",
    "df_ages"
   ]
  },
  {
   "cell_type": "markdown",
   "id": "7b261bb5",
   "metadata": {},
   "source": [
    "## String Transformations\n",
    "\n",
    "Working with text columns:"
   ]
  },
  {
   "cell_type": "code",
   "execution_count": null,
   "id": "54ef8d02",
   "metadata": {},
   "outputs": [],
   "source": [
    "# String operations\n",
    "# R: mutate(df, \n",
    "#           full_name = paste(first_name, last_name),\n",
    "#           email = paste0(tolower(first_name), \"@company.com\"))\n",
    "df_text = df.assign(\n",
    "    full_name = df['first_name'] + ' ' + df['last_name'],\n",
    "    email = df['first_name'].str.lower() + '@company.com',\n",
    "    initials = df['first_name'].str[0] + df['last_name'].str[0]\n",
    ")\n",
    "df_text[['first_name', 'last_name', 'full_name', 'email', 'initials']]"
   ]
  },
  {
   "cell_type": "code",
   "execution_count": null,
   "id": "6caec90b",
   "metadata": {},
   "outputs": [],
   "source": [
    "# More complex string operations\n",
    "# R: mutate(df,\n",
    "#           name_length = nchar(first_name),\n",
    "#           name_upper = toupper(first_name),\n",
    "#           dept_abbrev = substr(department, 1, 2))\n",
    "df_text2 = df.assign(\n",
    "    name_length = df['first_name'].str.len(),\n",
    "    name_upper = df['first_name'].str.upper(),\n",
    "    dept_abbrev = df['department'].str[:2],\n",
    "    contains_e = df['first_name'].str.contains('e', case=False)\n",
    ")\n",
    "df_text2[['first_name', 'name_length', 'name_upper', 'dept_abbrev', 'contains_e']]"
   ]
  },
  {
   "cell_type": "markdown",
   "id": "fdaba5bb",
   "metadata": {},
   "source": [
    "## Date and Time Transformations\n",
    "\n",
    "Working with datetime columns:"
   ]
  },
  {
   "cell_type": "code",
   "execution_count": null,
   "id": "247fbd4f",
   "metadata": {},
   "outputs": [],
   "source": [
    "# Create DataFrame with dates\n",
    "df_dates = pd.DataFrame({\n",
    "    'employee': ['Alice', 'Bob', 'Charlie', 'David'],\n",
    "    'start_date': pd.to_datetime(['2020-01-15', '2019-06-01', '2021-03-20', '2020-09-10']),\n",
    "    'birth_date': pd.to_datetime(['1990-05-15', '1988-12-01', '1992-03-20', '1991-09-10'])\n",
    "})\n",
    "\n",
    "# Extract date components\n",
    "# R: mutate(df,\n",
    "#           start_year = year(start_date),\n",
    "#           start_month = month(start_date),\n",
    "#           start_day = day(start_date))\n",
    "df_dates_transformed = df_dates.assign(\n",
    "    start_year = lambda x: x['start_date'].dt.year,\n",
    "    start_month = lambda x: x['start_date'].dt.month,\n",
    "    start_day = lambda x: x['start_date'].dt.day,\n",
    "    start_quarter = lambda x: x['start_date'].dt.quarter,\n",
    "    years_employed = lambda x: (pd.Timestamp.now() - x['start_date']).dt.days / 365.25,\n",
    "    age = lambda x: (pd.Timestamp.now() - x['birth_date']).dt.days / 365.25\n",
    ")\n",
    "df_dates_transformed.round(1)"
   ]
  },
  {
   "cell_type": "markdown",
   "id": "310ddf25",
   "metadata": {},
   "source": [
    "## Applying Functions\n",
    "\n",
    "Using custom functions for transformations:"
   ]
  },
  {
   "cell_type": "code",
   "execution_count": null,
   "id": "f986e4a1",
   "metadata": {},
   "outputs": [],
   "source": [
    "# Define custom functions\n",
    "def categorize_salary(total_pay):\n",
    "    \"\"\"Categorize salary into Low, Medium, High\"\"\"\n",
    "    if total_pay < 2000:\n",
    "        return 'Low'\n",
    "    elif total_pay < 3000:\n",
    "        return 'Medium'\n",
    "    else:\n",
    "        return 'High'\n",
    "\n",
    "def calculate_bonus(row):\n",
    "    \"\"\"Calculate bonus based on total pay and department\"\"\"\n",
    "    base_bonus = row['total_pay'] * 0.1\n",
    "    if row['department'] == 'Sales':\n",
    "        return base_bonus * 1.5\n",
    "    elif row['department'] == 'IT':\n",
    "        return base_bonus * 1.2\n",
    "    else:\n",
    "        return base_bonus\n",
    "\n",
    "# Apply functions\n",
    "# R: mutate(df, salary_category = map_chr(total_pay, categorize_salary))\n",
    "df_with_pay = df.assign(\n",
    "    total_pay = lambda x: x['hours_worked'] * x['hourly_rate']\n",
    ")\n",
    "\n",
    "df_functions = df_with_pay.assign(\n",
    "    salary_category = lambda x: x['total_pay'].apply(categorize_salary),\n",
    "    bonus = lambda x: x.apply(calculate_bonus, axis=1)\n",
    ")\n",
    "df_functions"
   ]
  },
  {
   "cell_type": "markdown",
   "id": "50edd0eb",
   "metadata": {},
   "source": [
    "## Working with Groups\n",
    "\n",
    "Creating columns based on group statistics:"
   ]
  },
  {
   "cell_type": "code",
   "execution_count": null,
   "id": "f808e520",
   "metadata": {},
   "outputs": [],
   "source": [
    "# Group-based transformations\n",
    "# R: df %>% \n",
    "#     group_by(department) %>%\n",
    "#     mutate(dept_avg_hours = mean(hours_worked),\n",
    "#            hours_vs_dept_avg = hours_worked - dept_avg_hours)\n",
    "df_grouped = df.assign(\n",
    "    dept_avg_hours = df.groupby('department')['hours_worked'].transform('mean'),\n",
    "    hours_vs_dept_avg = lambda x: x['hours_worked'] - x['dept_avg_hours'],\n",
    "    dept_rank = lambda x: x.groupby('department')['hourly_rate'].rank(ascending=False)\n",
    ")\n",
    "df_grouped"
   ]
  },
  {
   "cell_type": "code",
   "execution_count": null,
   "id": "c18a6df9",
   "metadata": {},
   "outputs": [],
   "source": [
    "# Cumulative operations within groups\n",
    "# R: df %>% \n",
    "#     arrange(department, hourly_rate) %>%\n",
    "#     group_by(department) %>%\n",
    "#     mutate(cumsum_hours = cumsum(hours_worked))\n",
    "df_cumulative = (df\n",
    "    .sort_values(['department', 'hourly_rate'])\n",
    "    .assign(cumsum_hours = lambda x: x.groupby('department')['hours_worked'].cumsum())\n",
    "    .assign(pct_of_dept_hours = lambda x: x['hours_worked'] / x.groupby('department')['hours_worked'].transform('sum') * 100)\n",
    ")\n",
    "df_cumulative.round(1)"
   ]
  },
  {
   "cell_type": "markdown",
   "id": "3f98ebf8",
   "metadata": {},
   "source": [
    "## Multiple Column Operations\n",
    "\n",
    "Operating on multiple columns at once:"
   ]
  },
  {
   "cell_type": "code",
   "execution_count": null,
   "id": "e85db2c5",
   "metadata": {},
   "outputs": [],
   "source": [
    "# Create DataFrame with multiple numeric columns\n",
    "df_multi = pd.DataFrame({\n",
    "    'product': ['A', 'B', 'C', 'D', 'E'],\n",
    "    'price_jan': [100, 150, 200, 120, 180],\n",
    "    'price_feb': [105, 145, 210, 125, 175],\n",
    "    'price_mar': [110, 155, 205, 130, 185],\n",
    "    'cost': [60, 90, 120, 70, 100]\n",
    "})\n",
    "\n",
    "# Calculate multiple new columns\n",
    "# R: mutate(df, across(starts_with(\"price\"), ~ . - cost, .names = \"profit_{.col}\"))\n",
    "price_cols = df_multi.filter(like='price').columns\n",
    "for col in price_cols:\n",
    "    df_multi[f'profit_{col}'] = df_multi[col] - df_multi['cost']\n",
    "\n",
    "df_multi"
   ]
  },
  {
   "cell_type": "code",
   "execution_count": null,
   "id": "c7fc898f",
   "metadata": {},
   "outputs": [],
   "source": [
    "# More elegant approach using assign with dictionary comprehension\n",
    "df_multi2 = df_multi.assign(**{\n",
    "    f'margin_{col}': lambda x, col=col: (x[col] - x['cost']) / x[col] * 100\n",
    "    for col in price_cols\n",
    "})\n",
    "df_multi2.round(1)"
   ]
  },
  {
   "cell_type": "markdown",
   "id": "f6f97868",
   "metadata": {},
   "source": [
    "## Window Functions\n",
    "\n",
    "Creating columns with window calculations:"
   ]
  },
  {
   "cell_type": "code",
   "execution_count": null,
   "id": "807280fa",
   "metadata": {},
   "outputs": [],
   "source": [
    "# Create time series data\n",
    "df_window = pd.DataFrame({\n",
    "    'date': pd.date_range('2024-01-01', periods=10),\n",
    "    'sales': [100, 120, 115, 130, 125, 140, 135, 150, 145, 160]\n",
    "})\n",
    "\n",
    "# Rolling calculations\n",
    "# R: mutate(df, \n",
    "#           rolling_mean = rollmean(sales, k = 3, fill = NA),\n",
    "#           rolling_max = rollmax(sales, k = 3, fill = NA))\n",
    "df_window_calc = df_window.assign(\n",
    "    rolling_mean_3d = lambda x: x['sales'].rolling(window=3, center=True).mean(),\n",
    "    rolling_max_3d = lambda x: x['sales'].rolling(window=3).max(),\n",
    "    expanding_mean = lambda x: x['sales'].expanding().mean(),\n",
    "    pct_change = lambda x: x['sales'].pct_change() * 100\n",
    ")\n",
    "df_window_calc.round(1)"
   ]
  },
  {
   "cell_type": "markdown",
   "id": "5d968b7a",
   "metadata": {},
   "source": [
    "## Advanced Transformations\n",
    "\n",
    "Complex transformations using multiple techniques:"
   ]
  },
  {
   "cell_type": "code",
   "execution_count": null,
   "id": "12b79645",
   "metadata": {},
   "outputs": [],
   "source": [
    "# Create a more complex dataset\n",
    "np.random.seed(42)\n",
    "df_advanced = pd.DataFrame({\n",
    "    'customer_id': range(1001, 1011),\n",
    "    'purchase_date': pd.date_range('2024-01-01', periods=10),\n",
    "    'amount': np.random.randint(50, 500, 10),\n",
    "    'category': np.random.choice(['Electronics', 'Clothing', 'Food'], 10),\n",
    "    'payment_method': np.random.choice(['Credit', 'Debit', 'Cash'], 10)\n",
    "})\n",
    "\n",
    "# Complex transformations\n",
    "df_result = (df_advanced\n",
    "    .assign(\n",
    "        # Date features\n",
    "        purchase_month = lambda x: x['purchase_date'].dt.to_period('M'),\n",
    "        day_of_week = lambda x: x['purchase_date'].dt.day_name(),\n",
    "        is_weekend = lambda x: x['purchase_date'].dt.dayofweek.isin([5, 6]),\n",
    "        \n",
    "        # Amount features\n",
    "        amount_category = lambda x: pd.qcut(x['amount'], q=3, labels=['Low', 'Medium', 'High']),\n",
    "        log_amount = lambda x: np.log(x['amount']),\n",
    "        \n",
    "        # Running calculations\n",
    "        cumulative_amount = lambda x: x['amount'].cumsum(),\n",
    "        running_avg = lambda x: x['amount'].expanding().mean(),\n",
    "        \n",
    "        # Conditional features\n",
    "        discount_eligible = lambda x: (x['amount'] > 200) & (x['payment_method'] == 'Credit'),\n",
    "        discount_amount = lambda x: np.where(x['discount_eligible'], x['amount'] * 0.1, 0)\n",
    "    )\n",
    "    .assign(\n",
    "        # Features dependent on previous calculations\n",
    "        final_amount = lambda x: x['amount'] - x['discount_amount'],\n",
    "        discount_pct = lambda x: (x['discount_amount'] / x['amount'] * 100).round(1)\n",
    "    )\n",
    ")\n",
    "\n",
    "df_result"
   ]
  },
  {
   "cell_type": "markdown",
   "id": "09696aa8",
   "metadata": {},
   "source": [
    "## Creating Helper Functions\n",
    "\n",
    "Make column creation more tidyverse-like:"
   ]
  },
  {
   "cell_type": "code",
   "execution_count": null,
   "id": "70f96dc6",
   "metadata": {},
   "outputs": [],
   "source": [
    "def mutate(df, **kwargs):\n",
    "    \"\"\"Add or modify columns using keyword arguments\"\"\"\n",
    "    return df.assign(**kwargs)\n",
    "\n",
    "def transmute(df, **kwargs):\n",
    "    \"\"\"Create new DataFrame with only specified columns\"\"\"\n",
    "    return pd.DataFrame(kwargs)\n",
    "\n",
    "# Usage examples\n",
    "df_example = pd.DataFrame({\n",
    "    'x': [1, 2, 3, 4, 5],\n",
    "    'y': [2, 4, 6, 8, 10]\n",
    "})\n",
    "\n",
    "# Using mutate helper\n",
    "df_mutated = mutate(df_example,\n",
    "    z = lambda df: df['x'] + df['y'],\n",
    "    x_squared = lambda df: df['x'] ** 2,\n",
    "    ratio = lambda df: df['y'] / df['x']\n",
    ")\n",
    "df_mutated"
   ]
  },
  {
   "cell_type": "code",
   "execution_count": null,
   "id": "42f24b95",
   "metadata": {},
   "outputs": [],
   "source": [
    "# Using transmute helper (only keeps new columns)\n",
    "df_transmuted = transmute(df_example,\n",
    "    sum_xy = df_example['x'] + df_example['y'],\n",
    "    product_xy = df_example['x'] * df_example['y'],\n",
    "    mean_xy = (df_example['x'] + df_example['y']) / 2\n",
    ")\n",
    "df_transmuted"
   ]
  },
  {
   "cell_type": "markdown",
   "id": "3d79734c",
   "metadata": {},
   "source": [
    "## Performance Tips\n",
    "\n",
    "Efficient column creation strategies:"
   ]
  },
  {
   "cell_type": "code",
   "execution_count": null,
   "id": "cbaa4e65",
   "metadata": {},
   "outputs": [],
   "source": [
    "# Create large DataFrame for performance testing\n",
    "large_df = pd.DataFrame({\n",
    "    'A': np.random.randn(100000),\n",
    "    'B': np.random.randn(100000),\n",
    "    'C': np.random.choice(['X', 'Y', 'Z'], 100000)\n",
    "})\n",
    "\n",
    "import time\n",
    "\n",
    "# Method 1: Direct assignment (fastest for single column)\n",
    "start = time.time()\n",
    "large_df['D'] = large_df['A'] + large_df['B']\n",
    "print(f\"Direct assignment: {time.time() - start:.4f} seconds\")\n",
    "\n",
    "# Method 2: assign() method\n",
    "start = time.time()\n",
    "large_df = large_df.assign(E = lambda x: x['A'] * x['B'])\n",
    "print(f\"Assign method: {time.time() - start:.4f} seconds\")\n",
    "\n",
    "# Method 3: eval() for complex expressions (memory efficient)\n",
    "start = time.time()\n",
    "large_df['F'] = large_df.eval('A + B * 2')\n",
    "print(f\"Eval method: {time.time() - start:.4f} seconds\")"
   ]
  }
 ],
 "metadata": {
  "language_info": {
   "name": "python"
  }
 },
 "nbformat": 4,
 "nbformat_minor": 5
}
