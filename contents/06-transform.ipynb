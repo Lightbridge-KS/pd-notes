{
 "cells": [
  {
   "cell_type": "markdown",
   "id": "929249a7",
   "metadata": {},
   "source": [
    "# Transforming Columns\n",
    "\n",
    "Creating and transforming columns is at the heart of data manipulation. While R's `dplyr::mutate()` provides an elegant interface for column operations, pandas offers multiple approaches that can be equally powerful once you understand the patterns. This chapter will show you how to achieve tidyverse-style column transformations in pandas."
   ]
  },
  {
   "cell_type": "markdown",
   "id": "661fca65",
   "metadata": {},
   "source": [
    "## Best Practices Summary\n",
    "\n",
    "Quick reference for column creation patterns:\n",
    "\n",
    "| Task | R (dplyr) | Pandas |\n",
    "|------|-----------|--------|\n",
    "| Single column | `mutate(df, z = x + y)` | `df['z'] = df['x'] + df['y']` or `df.assign(z = df['x'] + df['y'])` |\n",
    "| Multiple columns | `mutate(df, z = x + y, w = x * y)` | `df.assign(z = df['x'] + df['y'], w = df['x'] * df['y'])` |\n",
    "| Conditional | `mutate(df, cat = ifelse(x > 0, \"pos\", \"neg\"))` | `df.assign(cat = np.where(df['x'] > 0, 'pos', 'neg'))` |\n",
    "| Case when | `mutate(df, cat = case_when(...))` | `df.assign(cat = np.select(conditions, choices))` |\n",
    "| Apply function | `mutate(df, z = map_dbl(x, custom_func))` | `df.assign(z = df['x'].apply(custom_func))` |\n",
    "| Group transform | `group_by(df, g) %>% mutate(mean_x = mean(x))` | `df.assign(mean_x = df.groupby('g')['x'].transform('mean'))` |\n",
    "| Across columns | `mutate(df, across(where(is.numeric), ~ . * 2))` | Use loop or dictionary comprehension |"
   ]
  },
  {
   "cell_type": "markdown",
   "id": "b74fc8d5",
   "metadata": {},
   "source": [
    "## Tips for Tidyverse Users\n",
    "\n",
    "1. **Prefer `assign()` for chains**: It's the most mutate-like method and enables clean chaining.\n",
    "\n",
    "2. **Use lambda in assign()**: This allows you to reference columns created in the same assign call.\n",
    "\n",
    "3. **Remember `np.where()` for ifelse**: It's the pandas equivalent of R's `ifelse()`.\n",
    "\n",
    "4. **Group transforms are powerful**: Use `.transform()` to broadcast group statistics back to original DataFrame.\n",
    "\n",
    "5. **Chain assignments**: You can chain multiple assign calls for complex transformations:\n",
    "   ```python\n",
    "   result = (df\n",
    "            .assign(total = lambda x: x['a'] + x['b'])\n",
    "            .assign(pct = lambda x: x['a'] / x['total'] * 100))\n",
    "   ```\n",
    "\n",
    "Creating and transforming columns in pandas is highly flexible. While the syntax differs from dplyr's `mutate()`, the `assign()` method provides a similar, chainable interface that will feel familiar to tidyverse users."
   ]
  },
  {
   "cell_type": "markdown",
   "id": "f48c2cdd",
   "metadata": {},
   "source": [
    "## Basic Column Creation\n",
    "\n",
    "The fundamental ways to create new columns in pandas:"
   ]
  },
  {
   "cell_type": "code",
   "execution_count": 1,
   "id": "bcb0b424",
   "metadata": {},
   "outputs": [
    {
     "data": {
      "application/vnd.microsoft.datawrangler.viewer.v0+json": {
       "columns": [
        {
         "name": "index",
         "rawType": "int64",
         "type": "integer"
        },
        {
         "name": "first_name",
         "rawType": "object",
         "type": "string"
        },
        {
         "name": "last_name",
         "rawType": "object",
         "type": "string"
        },
        {
         "name": "hours_worked",
         "rawType": "int64",
         "type": "integer"
        },
        {
         "name": "hourly_rate",
         "rawType": "int64",
         "type": "integer"
        },
        {
         "name": "department",
         "rawType": "object",
         "type": "string"
        },
        {
         "name": "total_pay",
         "rawType": "int64",
         "type": "integer"
        }
       ],
       "ref": "acd69502-4861-4c74-bb85-2304b3d9956c",
       "rows": [
        [
         "0",
         "Alice",
         "Smith",
         "40",
         "50",
         "Sales",
         "2000"
        ],
        [
         "1",
         "Bob",
         "Jones",
         "45",
         "55",
         "IT",
         "2475"
        ],
        [
         "2",
         "Charlie",
         "Brown",
         "38",
         "48",
         "HR",
         "1824"
        ],
        [
         "3",
         "David",
         "Davis",
         "42",
         "52",
         "Sales",
         "2184"
        ],
        [
         "4",
         "Eve",
         "Wilson",
         "50",
         "60",
         "IT",
         "3000"
        ]
       ],
       "shape": {
        "columns": 6,
        "rows": 5
       }
      },
      "text/html": [
       "<div>\n",
       "<style scoped>\n",
       "    .dataframe tbody tr th:only-of-type {\n",
       "        vertical-align: middle;\n",
       "    }\n",
       "\n",
       "    .dataframe tbody tr th {\n",
       "        vertical-align: top;\n",
       "    }\n",
       "\n",
       "    .dataframe thead th {\n",
       "        text-align: right;\n",
       "    }\n",
       "</style>\n",
       "<table border=\"1\" class=\"dataframe\">\n",
       "  <thead>\n",
       "    <tr style=\"text-align: right;\">\n",
       "      <th></th>\n",
       "      <th>first_name</th>\n",
       "      <th>last_name</th>\n",
       "      <th>hours_worked</th>\n",
       "      <th>hourly_rate</th>\n",
       "      <th>department</th>\n",
       "      <th>total_pay</th>\n",
       "    </tr>\n",
       "  </thead>\n",
       "  <tbody>\n",
       "    <tr>\n",
       "      <th>0</th>\n",
       "      <td>Alice</td>\n",
       "      <td>Smith</td>\n",
       "      <td>40</td>\n",
       "      <td>50</td>\n",
       "      <td>Sales</td>\n",
       "      <td>2000</td>\n",
       "    </tr>\n",
       "    <tr>\n",
       "      <th>1</th>\n",
       "      <td>Bob</td>\n",
       "      <td>Jones</td>\n",
       "      <td>45</td>\n",
       "      <td>55</td>\n",
       "      <td>IT</td>\n",
       "      <td>2475</td>\n",
       "    </tr>\n",
       "    <tr>\n",
       "      <th>2</th>\n",
       "      <td>Charlie</td>\n",
       "      <td>Brown</td>\n",
       "      <td>38</td>\n",
       "      <td>48</td>\n",
       "      <td>HR</td>\n",
       "      <td>1824</td>\n",
       "    </tr>\n",
       "    <tr>\n",
       "      <th>3</th>\n",
       "      <td>David</td>\n",
       "      <td>Davis</td>\n",
       "      <td>42</td>\n",
       "      <td>52</td>\n",
       "      <td>Sales</td>\n",
       "      <td>2184</td>\n",
       "    </tr>\n",
       "    <tr>\n",
       "      <th>4</th>\n",
       "      <td>Eve</td>\n",
       "      <td>Wilson</td>\n",
       "      <td>50</td>\n",
       "      <td>60</td>\n",
       "      <td>IT</td>\n",
       "      <td>3000</td>\n",
       "    </tr>\n",
       "  </tbody>\n",
       "</table>\n",
       "</div>"
      ],
      "text/plain": [
       "  first_name last_name  hours_worked  hourly_rate department  total_pay\n",
       "0      Alice     Smith            40           50      Sales       2000\n",
       "1        Bob     Jones            45           55         IT       2475\n",
       "2    Charlie     Brown            38           48         HR       1824\n",
       "3      David     Davis            42           52      Sales       2184\n",
       "4        Eve    Wilson            50           60         IT       3000"
      ]
     },
     "execution_count": 1,
     "metadata": {},
     "output_type": "execute_result"
    }
   ],
   "source": [
    "import pandas as pd\n",
    "import numpy as np\n",
    "\n",
    "# Create sample DataFrame\n",
    "df = pd.DataFrame({\n",
    "    'first_name': ['Alice', 'Bob', 'Charlie', 'David', 'Eve'],\n",
    "    'last_name': ['Smith', 'Jones', 'Brown', 'Davis', 'Wilson'],\n",
    "    'hours_worked': [40, 45, 38, 42, 50],\n",
    "    'hourly_rate': [50, 55, 48, 52, 60],\n",
    "    'department': ['Sales', 'IT', 'HR', 'Sales', 'IT']\n",
    "})\n",
    "\n",
    "# Simple column creation\n",
    "# R: mutate(df, total_pay = hours_worked * hourly_rate)\n",
    "df['total_pay'] = df['hours_worked'] * df['hourly_rate']\n",
    "df"
   ]
  },
  {
   "cell_type": "code",
   "execution_count": 2,
   "id": "bd3b6325",
   "metadata": {},
   "outputs": [
    {
     "data": {
      "application/vnd.microsoft.datawrangler.viewer.v0+json": {
       "columns": [
        {
         "name": "index",
         "rawType": "int64",
         "type": "integer"
        },
        {
         "name": "first_name",
         "rawType": "object",
         "type": "string"
        },
        {
         "name": "last_name",
         "rawType": "object",
         "type": "string"
        },
        {
         "name": "hours_worked",
         "rawType": "int64",
         "type": "integer"
        },
        {
         "name": "hourly_rate",
         "rawType": "int64",
         "type": "integer"
        },
        {
         "name": "department",
         "rawType": "object",
         "type": "string"
        },
        {
         "name": "total_pay",
         "rawType": "int64",
         "type": "integer"
        },
        {
         "name": "overtime_hours",
         "rawType": "int64",
         "type": "integer"
        },
        {
         "name": "overtime_pay",
         "rawType": "float64",
         "type": "float"
        }
       ],
       "ref": "23ae002c-a1f3-4d5b-8ad3-13afd1d990a4",
       "rows": [
        [
         "0",
         "Alice",
         "Smith",
         "40",
         "50",
         "Sales",
         "2000",
         "0",
         "0.0"
        ],
        [
         "1",
         "Bob",
         "Jones",
         "45",
         "55",
         "IT",
         "2475",
         "5",
         "412.5"
        ],
        [
         "2",
         "Charlie",
         "Brown",
         "38",
         "48",
         "HR",
         "1824",
         "0",
         "0.0"
        ],
        [
         "3",
         "David",
         "Davis",
         "42",
         "52",
         "Sales",
         "2184",
         "2",
         "156.0"
        ],
        [
         "4",
         "Eve",
         "Wilson",
         "50",
         "60",
         "IT",
         "3000",
         "10",
         "900.0"
        ]
       ],
       "shape": {
        "columns": 8,
        "rows": 5
       }
      },
      "text/html": [
       "<div>\n",
       "<style scoped>\n",
       "    .dataframe tbody tr th:only-of-type {\n",
       "        vertical-align: middle;\n",
       "    }\n",
       "\n",
       "    .dataframe tbody tr th {\n",
       "        vertical-align: top;\n",
       "    }\n",
       "\n",
       "    .dataframe thead th {\n",
       "        text-align: right;\n",
       "    }\n",
       "</style>\n",
       "<table border=\"1\" class=\"dataframe\">\n",
       "  <thead>\n",
       "    <tr style=\"text-align: right;\">\n",
       "      <th></th>\n",
       "      <th>first_name</th>\n",
       "      <th>last_name</th>\n",
       "      <th>hours_worked</th>\n",
       "      <th>hourly_rate</th>\n",
       "      <th>department</th>\n",
       "      <th>total_pay</th>\n",
       "      <th>overtime_hours</th>\n",
       "      <th>overtime_pay</th>\n",
       "    </tr>\n",
       "  </thead>\n",
       "  <tbody>\n",
       "    <tr>\n",
       "      <th>0</th>\n",
       "      <td>Alice</td>\n",
       "      <td>Smith</td>\n",
       "      <td>40</td>\n",
       "      <td>50</td>\n",
       "      <td>Sales</td>\n",
       "      <td>2000</td>\n",
       "      <td>0</td>\n",
       "      <td>0.0</td>\n",
       "    </tr>\n",
       "    <tr>\n",
       "      <th>1</th>\n",
       "      <td>Bob</td>\n",
       "      <td>Jones</td>\n",
       "      <td>45</td>\n",
       "      <td>55</td>\n",
       "      <td>IT</td>\n",
       "      <td>2475</td>\n",
       "      <td>5</td>\n",
       "      <td>412.5</td>\n",
       "    </tr>\n",
       "    <tr>\n",
       "      <th>2</th>\n",
       "      <td>Charlie</td>\n",
       "      <td>Brown</td>\n",
       "      <td>38</td>\n",
       "      <td>48</td>\n",
       "      <td>HR</td>\n",
       "      <td>1824</td>\n",
       "      <td>0</td>\n",
       "      <td>0.0</td>\n",
       "    </tr>\n",
       "    <tr>\n",
       "      <th>3</th>\n",
       "      <td>David</td>\n",
       "      <td>Davis</td>\n",
       "      <td>42</td>\n",
       "      <td>52</td>\n",
       "      <td>Sales</td>\n",
       "      <td>2184</td>\n",
       "      <td>2</td>\n",
       "      <td>156.0</td>\n",
       "    </tr>\n",
       "    <tr>\n",
       "      <th>4</th>\n",
       "      <td>Eve</td>\n",
       "      <td>Wilson</td>\n",
       "      <td>50</td>\n",
       "      <td>60</td>\n",
       "      <td>IT</td>\n",
       "      <td>3000</td>\n",
       "      <td>10</td>\n",
       "      <td>900.0</td>\n",
       "    </tr>\n",
       "  </tbody>\n",
       "</table>\n",
       "</div>"
      ],
      "text/plain": [
       "  first_name last_name  hours_worked  hourly_rate department  total_pay  \\\n",
       "0      Alice     Smith            40           50      Sales       2000   \n",
       "1        Bob     Jones            45           55         IT       2475   \n",
       "2    Charlie     Brown            38           48         HR       1824   \n",
       "3      David     Davis            42           52      Sales       2184   \n",
       "4        Eve    Wilson            50           60         IT       3000   \n",
       "\n",
       "   overtime_hours  overtime_pay  \n",
       "0               0           0.0  \n",
       "1               5         412.5  \n",
       "2               0           0.0  \n",
       "3               2         156.0  \n",
       "4              10         900.0  "
      ]
     },
     "execution_count": 2,
     "metadata": {},
     "output_type": "execute_result"
    }
   ],
   "source": [
    "# Multiple columns at once\n",
    "# R: mutate(df, \n",
    "#           overtime_hours = pmax(hours_worked - 40, 0),\n",
    "#           overtime_pay = overtime_hours * hourly_rate * 1.5)\n",
    "df['overtime_hours'] = np.maximum(df['hours_worked'] - 40, 0)\n",
    "df['overtime_pay'] = df['overtime_hours'] * df['hourly_rate'] * 1.5\n",
    "df"
   ]
  },
  {
   "cell_type": "markdown",
   "id": "42ca8be2",
   "metadata": {},
   "source": [
    "## Using `assign()` for Method Chaining\n",
    "\n",
    "The `assign()` method is pandas' equivalent to `mutate()` and enables clean method chaining:"
   ]
  },
  {
   "cell_type": "code",
   "execution_count": 3,
   "id": "76ac2c54",
   "metadata": {},
   "outputs": [
    {
     "data": {
      "application/vnd.microsoft.datawrangler.viewer.v0+json": {
       "columns": [
        {
         "name": "index",
         "rawType": "int64",
         "type": "integer"
        },
        {
         "name": "first_name",
         "rawType": "object",
         "type": "string"
        },
        {
         "name": "last_name",
         "rawType": "object",
         "type": "string"
        },
        {
         "name": "hours_worked",
         "rawType": "int64",
         "type": "integer"
        },
        {
         "name": "hourly_rate",
         "rawType": "int64",
         "type": "integer"
        },
        {
         "name": "department",
         "rawType": "object",
         "type": "string"
        },
        {
         "name": "total_pay",
         "rawType": "int64",
         "type": "integer"
        },
        {
         "name": "overtime_hours",
         "rawType": "int64",
         "type": "integer"
        }
       ],
       "ref": "f0b68854-dac3-4006-af00-276d7a6cdbf5",
       "rows": [
        [
         "0",
         "Alice",
         "Smith",
         "40",
         "50",
         "Sales",
         "2000",
         "0"
        ],
        [
         "1",
         "Bob",
         "Jones",
         "45",
         "55",
         "IT",
         "2475",
         "5"
        ],
        [
         "2",
         "Charlie",
         "Brown",
         "38",
         "48",
         "HR",
         "1824",
         "0"
        ],
        [
         "3",
         "David",
         "Davis",
         "42",
         "52",
         "Sales",
         "2184",
         "2"
        ],
        [
         "4",
         "Eve",
         "Wilson",
         "50",
         "60",
         "IT",
         "3000",
         "10"
        ]
       ],
       "shape": {
        "columns": 7,
        "rows": 5
       }
      },
      "text/html": [
       "<div>\n",
       "<style scoped>\n",
       "    .dataframe tbody tr th:only-of-type {\n",
       "        vertical-align: middle;\n",
       "    }\n",
       "\n",
       "    .dataframe tbody tr th {\n",
       "        vertical-align: top;\n",
       "    }\n",
       "\n",
       "    .dataframe thead th {\n",
       "        text-align: right;\n",
       "    }\n",
       "</style>\n",
       "<table border=\"1\" class=\"dataframe\">\n",
       "  <thead>\n",
       "    <tr style=\"text-align: right;\">\n",
       "      <th></th>\n",
       "      <th>first_name</th>\n",
       "      <th>last_name</th>\n",
       "      <th>hours_worked</th>\n",
       "      <th>hourly_rate</th>\n",
       "      <th>department</th>\n",
       "      <th>total_pay</th>\n",
       "      <th>overtime_hours</th>\n",
       "    </tr>\n",
       "  </thead>\n",
       "  <tbody>\n",
       "    <tr>\n",
       "      <th>0</th>\n",
       "      <td>Alice</td>\n",
       "      <td>Smith</td>\n",
       "      <td>40</td>\n",
       "      <td>50</td>\n",
       "      <td>Sales</td>\n",
       "      <td>2000</td>\n",
       "      <td>0</td>\n",
       "    </tr>\n",
       "    <tr>\n",
       "      <th>1</th>\n",
       "      <td>Bob</td>\n",
       "      <td>Jones</td>\n",
       "      <td>45</td>\n",
       "      <td>55</td>\n",
       "      <td>IT</td>\n",
       "      <td>2475</td>\n",
       "      <td>5</td>\n",
       "    </tr>\n",
       "    <tr>\n",
       "      <th>2</th>\n",
       "      <td>Charlie</td>\n",
       "      <td>Brown</td>\n",
       "      <td>38</td>\n",
       "      <td>48</td>\n",
       "      <td>HR</td>\n",
       "      <td>1824</td>\n",
       "      <td>0</td>\n",
       "    </tr>\n",
       "    <tr>\n",
       "      <th>3</th>\n",
       "      <td>David</td>\n",
       "      <td>Davis</td>\n",
       "      <td>42</td>\n",
       "      <td>52</td>\n",
       "      <td>Sales</td>\n",
       "      <td>2184</td>\n",
       "      <td>2</td>\n",
       "    </tr>\n",
       "    <tr>\n",
       "      <th>4</th>\n",
       "      <td>Eve</td>\n",
       "      <td>Wilson</td>\n",
       "      <td>50</td>\n",
       "      <td>60</td>\n",
       "      <td>IT</td>\n",
       "      <td>3000</td>\n",
       "      <td>10</td>\n",
       "    </tr>\n",
       "  </tbody>\n",
       "</table>\n",
       "</div>"
      ],
      "text/plain": [
       "  first_name last_name  hours_worked  hourly_rate department  total_pay  \\\n",
       "0      Alice     Smith            40           50      Sales       2000   \n",
       "1        Bob     Jones            45           55         IT       2475   \n",
       "2    Charlie     Brown            38           48         HR       1824   \n",
       "3      David     Davis            42           52      Sales       2184   \n",
       "4        Eve    Wilson            50           60         IT       3000   \n",
       "\n",
       "   overtime_hours  \n",
       "0               0  \n",
       "1               5  \n",
       "2               0  \n",
       "3               2  \n",
       "4              10  "
      ]
     },
     "execution_count": 3,
     "metadata": {},
     "output_type": "execute_result"
    }
   ],
   "source": [
    "# Reset to original DataFrame\n",
    "df = pd.DataFrame({\n",
    "    'first_name': ['Alice', 'Bob', 'Charlie', 'David', 'Eve'],\n",
    "    'last_name': ['Smith', 'Jones', 'Brown', 'Davis', 'Wilson'],\n",
    "    'hours_worked': [40, 45, 38, 42, 50],\n",
    "    'hourly_rate': [50, 55, 48, 52, 60],\n",
    "    'department': ['Sales', 'IT', 'HR', 'Sales', 'IT']\n",
    "})\n",
    "\n",
    "# Using assign (most similar to mutate)\n",
    "# R: df %>% \n",
    "#     mutate(total_pay = hours_worked * hourly_rate,\n",
    "#            overtime_hours = pmax(hours_worked - 40, 0))\n",
    "df_transformed = df.assign(\n",
    "    total_pay = df['hours_worked'] * df['hourly_rate'],\n",
    "    overtime_hours = lambda x: np.maximum(x['hours_worked'] - 40, 0)\n",
    ")\n",
    "df_transformed"
   ]
  },
  {
   "cell_type": "code",
   "execution_count": null,
   "id": "42d57fed",
   "metadata": {},
   "outputs": [],
   "source": [
    "# Chaining multiple assigns\n",
    "# R: df %>%\n",
    "#     mutate(total_pay = hours_worked * hourly_rate) %>%\n",
    "#     mutate(overtime_hours = pmax(hours_worked - 40, 0)) %>%\n",
    "#     mutate(overtime_pay = overtime_hours * hourly_rate * 1.5)\n",
    "df_chained = (df\n",
    "    .assign(total_pay = lambda x: x['hours_worked'] * x['hourly_rate'])\n",
    "    .assign(overtime_hours = lambda x: np.maximum(x['hours_worked'] - 40, 0))\n",
    "    .assign(overtime_pay = lambda x: x['overtime_hours'] * x['hourly_rate'] * 1.5)\n",
    ")\n",
    "df_chained"
   ]
  },
  {
   "cell_type": "markdown",
   "id": "6f6a4f8e",
   "metadata": {},
   "source": [
    "## Conditional Transformations\n",
    "\n",
    "Creating columns based on conditions:"
   ]
  },
  {
   "cell_type": "code",
   "execution_count": 4,
   "id": "5de70355",
   "metadata": {},
   "outputs": [
    {
     "data": {
      "application/vnd.microsoft.datawrangler.viewer.v0+json": {
       "columns": [
        {
         "name": "index",
         "rawType": "int64",
         "type": "integer"
        },
        {
         "name": "first_name",
         "rawType": "object",
         "type": "string"
        },
        {
         "name": "last_name",
         "rawType": "object",
         "type": "string"
        },
        {
         "name": "hours_worked",
         "rawType": "int64",
         "type": "integer"
        },
        {
         "name": "hourly_rate",
         "rawType": "int64",
         "type": "integer"
        },
        {
         "name": "department",
         "rawType": "object",
         "type": "string"
        },
        {
         "name": "total_pay",
         "rawType": "int64",
         "type": "integer"
        },
        {
         "name": "pay_category",
         "rawType": "object",
         "type": "string"
        }
       ],
       "ref": "9250aa3e-e189-4aae-895a-a2b0165a15a6",
       "rows": [
        [
         "0",
         "Alice",
         "Smith",
         "40",
         "50",
         "Sales",
         "2000",
         "Standard"
        ],
        [
         "1",
         "Bob",
         "Jones",
         "45",
         "55",
         "IT",
         "2475",
         "Standard"
        ],
        [
         "2",
         "Charlie",
         "Brown",
         "38",
         "48",
         "HR",
         "1824",
         "Standard"
        ],
        [
         "3",
         "David",
         "Davis",
         "42",
         "52",
         "Sales",
         "2184",
         "Standard"
        ],
        [
         "4",
         "Eve",
         "Wilson",
         "50",
         "60",
         "IT",
         "3000",
         "High"
        ]
       ],
       "shape": {
        "columns": 7,
        "rows": 5
       }
      },
      "text/html": [
       "<div>\n",
       "<style scoped>\n",
       "    .dataframe tbody tr th:only-of-type {\n",
       "        vertical-align: middle;\n",
       "    }\n",
       "\n",
       "    .dataframe tbody tr th {\n",
       "        vertical-align: top;\n",
       "    }\n",
       "\n",
       "    .dataframe thead th {\n",
       "        text-align: right;\n",
       "    }\n",
       "</style>\n",
       "<table border=\"1\" class=\"dataframe\">\n",
       "  <thead>\n",
       "    <tr style=\"text-align: right;\">\n",
       "      <th></th>\n",
       "      <th>first_name</th>\n",
       "      <th>last_name</th>\n",
       "      <th>hours_worked</th>\n",
       "      <th>hourly_rate</th>\n",
       "      <th>department</th>\n",
       "      <th>total_pay</th>\n",
       "      <th>pay_category</th>\n",
       "    </tr>\n",
       "  </thead>\n",
       "  <tbody>\n",
       "    <tr>\n",
       "      <th>0</th>\n",
       "      <td>Alice</td>\n",
       "      <td>Smith</td>\n",
       "      <td>40</td>\n",
       "      <td>50</td>\n",
       "      <td>Sales</td>\n",
       "      <td>2000</td>\n",
       "      <td>Standard</td>\n",
       "    </tr>\n",
       "    <tr>\n",
       "      <th>1</th>\n",
       "      <td>Bob</td>\n",
       "      <td>Jones</td>\n",
       "      <td>45</td>\n",
       "      <td>55</td>\n",
       "      <td>IT</td>\n",
       "      <td>2475</td>\n",
       "      <td>Standard</td>\n",
       "    </tr>\n",
       "    <tr>\n",
       "      <th>2</th>\n",
       "      <td>Charlie</td>\n",
       "      <td>Brown</td>\n",
       "      <td>38</td>\n",
       "      <td>48</td>\n",
       "      <td>HR</td>\n",
       "      <td>1824</td>\n",
       "      <td>Standard</td>\n",
       "    </tr>\n",
       "    <tr>\n",
       "      <th>3</th>\n",
       "      <td>David</td>\n",
       "      <td>Davis</td>\n",
       "      <td>42</td>\n",
       "      <td>52</td>\n",
       "      <td>Sales</td>\n",
       "      <td>2184</td>\n",
       "      <td>Standard</td>\n",
       "    </tr>\n",
       "    <tr>\n",
       "      <th>4</th>\n",
       "      <td>Eve</td>\n",
       "      <td>Wilson</td>\n",
       "      <td>50</td>\n",
       "      <td>60</td>\n",
       "      <td>IT</td>\n",
       "      <td>3000</td>\n",
       "      <td>High</td>\n",
       "    </tr>\n",
       "  </tbody>\n",
       "</table>\n",
       "</div>"
      ],
      "text/plain": [
       "  first_name last_name  hours_worked  hourly_rate department  total_pay  \\\n",
       "0      Alice     Smith            40           50      Sales       2000   \n",
       "1        Bob     Jones            45           55         IT       2475   \n",
       "2    Charlie     Brown            38           48         HR       1824   \n",
       "3      David     Davis            42           52      Sales       2184   \n",
       "4        Eve    Wilson            50           60         IT       3000   \n",
       "\n",
       "  pay_category  \n",
       "0     Standard  \n",
       "1     Standard  \n",
       "2     Standard  \n",
       "3     Standard  \n",
       "4         High  "
      ]
     },
     "execution_count": 4,
     "metadata": {},
     "output_type": "execute_result"
    }
   ],
   "source": [
    "# Using np.where (like ifelse in R)\n",
    "# R: mutate(df, category = ifelse(total_pay > 2500, \"High\", \"Standard\"))\n",
    "df_transformed = df.assign(\n",
    "    total_pay = lambda x: x['hours_worked'] * x['hourly_rate'],\n",
    "    pay_category = lambda x: np.where(x['total_pay'] > 2500, 'High', 'Standard')\n",
    ")\n",
    "df_transformed"
   ]
  },
  {
   "cell_type": "code",
   "execution_count": 6,
   "id": "9ffea732",
   "metadata": {},
   "outputs": [
    {
     "ename": "TypeError",
     "evalue": "Choicelist and default value do not have a common dtype: The DType <class 'numpy.dtypes._PyLongDType'> could not be promoted by <class 'numpy.dtypes.StrDType'>. This means that no common DType exists for the given inputs. For example they cannot be stored in a single array unless the dtype is `object`. The full list of DTypes is: (<class 'numpy.dtypes.StrDType'>, <class 'numpy.dtypes.StrDType'>, <class 'numpy.dtypes.StrDType'>, <class 'numpy.dtypes._PyLongDType'>)",
     "output_type": "error",
     "traceback": [
      "\u001b[0;31m---------------------------------------------------------------------------\u001b[0m",
      "\u001b[0;31mTypeError\u001b[0m                                 Traceback (most recent call last)",
      "Cell \u001b[0;32mIn[6], line 15\u001b[0m\n\u001b[1;32m      7\u001b[0m conditions \u001b[38;5;241m=\u001b[39m [\n\u001b[1;32m      8\u001b[0m     df[\u001b[38;5;124m'\u001b[39m\u001b[38;5;124mhours_worked\u001b[39m\u001b[38;5;124m'\u001b[39m] \u001b[38;5;241m<\u001b[39m \u001b[38;5;241m40\u001b[39m,\n\u001b[1;32m      9\u001b[0m     df[\u001b[38;5;124m'\u001b[39m\u001b[38;5;124mhours_worked\u001b[39m\u001b[38;5;124m'\u001b[39m] \u001b[38;5;241m==\u001b[39m \u001b[38;5;241m40\u001b[39m,\n\u001b[1;32m     10\u001b[0m     df[\u001b[38;5;124m'\u001b[39m\u001b[38;5;124mhours_worked\u001b[39m\u001b[38;5;124m'\u001b[39m] \u001b[38;5;241m>\u001b[39m \u001b[38;5;241m40\u001b[39m\n\u001b[1;32m     11\u001b[0m ]\n\u001b[1;32m     12\u001b[0m choices \u001b[38;5;241m=\u001b[39m [\u001b[38;5;124m'\u001b[39m\u001b[38;5;124mPart-time\u001b[39m\u001b[38;5;124m'\u001b[39m, \u001b[38;5;124m'\u001b[39m\u001b[38;5;124mStandard\u001b[39m\u001b[38;5;124m'\u001b[39m, \u001b[38;5;124m'\u001b[39m\u001b[38;5;124mOvertime\u001b[39m\u001b[38;5;124m'\u001b[39m]\n\u001b[1;32m     14\u001b[0m df_transformed \u001b[38;5;241m=\u001b[39m df\u001b[38;5;241m.\u001b[39massign(\n\u001b[0;32m---> 15\u001b[0m     work_level \u001b[38;5;241m=\u001b[39m \u001b[43mnp\u001b[49m\u001b[38;5;241;43m.\u001b[39;49m\u001b[43mselect\u001b[49m\u001b[43m(\u001b[49m\u001b[43mconditions\u001b[49m\u001b[43m,\u001b[49m\u001b[43m \u001b[49m\u001b[43mchoices\u001b[49m\u001b[43m)\u001b[49m\n\u001b[1;32m     16\u001b[0m )\n\u001b[1;32m     17\u001b[0m df_transformed\n",
      "File \u001b[0;32m~/miniforge3/envs/ds-env/lib/python3.12/site-packages/numpy/lib/_function_base_impl.py:861\u001b[0m, in \u001b[0;36mselect\u001b[0;34m(condlist, choicelist, default)\u001b[0m\n\u001b[1;32m    859\u001b[0m \u001b[38;5;28;01mexcept\u001b[39;00m \u001b[38;5;167;01mTypeError\u001b[39;00m \u001b[38;5;28;01mas\u001b[39;00m e:\n\u001b[1;32m    860\u001b[0m     msg \u001b[38;5;241m=\u001b[39m \u001b[38;5;124mf\u001b[39m\u001b[38;5;124m'\u001b[39m\u001b[38;5;124mChoicelist and default value do not have a common dtype: \u001b[39m\u001b[38;5;132;01m{\u001b[39;00me\u001b[38;5;132;01m}\u001b[39;00m\u001b[38;5;124m'\u001b[39m\n\u001b[0;32m--> 861\u001b[0m     \u001b[38;5;28;01mraise\u001b[39;00m \u001b[38;5;167;01mTypeError\u001b[39;00m(msg) \u001b[38;5;28;01mfrom\u001b[39;00m\u001b[38;5;250m \u001b[39m\u001b[38;5;28;01mNone\u001b[39;00m\n\u001b[1;32m    863\u001b[0m \u001b[38;5;66;03m# Convert conditions to arrays and broadcast conditions and choices\u001b[39;00m\n\u001b[1;32m    864\u001b[0m \u001b[38;5;66;03m# as the shape is needed for the result. Doing it separately optimizes\u001b[39;00m\n\u001b[1;32m    865\u001b[0m \u001b[38;5;66;03m# for example when all choices are scalars.\u001b[39;00m\n\u001b[1;32m    866\u001b[0m condlist \u001b[38;5;241m=\u001b[39m np\u001b[38;5;241m.\u001b[39mbroadcast_arrays(\u001b[38;5;241m*\u001b[39mcondlist)\n",
      "\u001b[0;31mTypeError\u001b[0m: Choicelist and default value do not have a common dtype: The DType <class 'numpy.dtypes._PyLongDType'> could not be promoted by <class 'numpy.dtypes.StrDType'>. This means that no common DType exists for the given inputs. For example they cannot be stored in a single array unless the dtype is `object`. The full list of DTypes is: (<class 'numpy.dtypes.StrDType'>, <class 'numpy.dtypes.StrDType'>, <class 'numpy.dtypes.StrDType'>, <class 'numpy.dtypes._PyLongDType'>)"
     ]
    }
   ],
   "source": [
    "# Multiple conditions with np.select\n",
    "# R: mutate(df, level = case_when(\n",
    "#     hours_worked < 40 ~ \"Part-time\",\n",
    "#     hours_worked == 40 ~ \"Standard\",\n",
    "#     hours_worked > 40 ~ \"Overtime\"\n",
    "# ))\n",
    "conditions = [\n",
    "    df['hours_worked'] < 40,\n",
    "    df['hours_worked'] == 40,\n",
    "    df['hours_worked'] > 40\n",
    "]\n",
    "choices = ['Part-time', 'Standard', 'Overtime']\n",
    "\n",
    "df_transformed = df.assign(\n",
    "    work_level = np.select(conditions, choices)\n",
    ")\n",
    "df_transformed"
   ]
  },
  {
   "cell_type": "markdown",
   "id": "440f1af0",
   "metadata": {},
   "source": [
    "## Binning with `pd.cut()` "
   ]
  },
  {
   "cell_type": "code",
   "execution_count": 7,
   "id": "cf861d7e",
   "metadata": {},
   "outputs": [
    {
     "data": {
      "application/vnd.microsoft.datawrangler.viewer.v0+json": {
       "columns": [
        {
         "name": "index",
         "rawType": "int64",
         "type": "integer"
        },
        {
         "name": "first_name",
         "rawType": "object",
         "type": "string"
        },
        {
         "name": "last_name",
         "rawType": "object",
         "type": "string"
        },
        {
         "name": "hours_worked",
         "rawType": "int64",
         "type": "integer"
        },
        {
         "name": "hourly_rate",
         "rawType": "int64",
         "type": "integer"
        },
        {
         "name": "department",
         "rawType": "object",
         "type": "string"
        },
        {
         "name": "age",
         "rawType": "int64",
         "type": "integer"
        },
        {
         "name": "age_group",
         "rawType": "category",
         "type": "unknown"
        }
       ],
       "ref": "af781fbf-a3b9-4c6f-9f4d-033666032ef2",
       "rows": [
        [
         "0",
         "Alice",
         "Smith",
         "40",
         "50",
         "Sales",
         "25",
         "Young"
        ],
        [
         "1",
         "Bob",
         "Jones",
         "45",
         "55",
         "IT",
         "35",
         "Middle"
        ],
        [
         "2",
         "Charlie",
         "Brown",
         "38",
         "48",
         "HR",
         "42",
         "Middle"
        ],
        [
         "3",
         "David",
         "Davis",
         "42",
         "52",
         "Sales",
         "28",
         "Young"
        ],
        [
         "4",
         "Eve",
         "Wilson",
         "50",
         "60",
         "IT",
         "55",
         "Senior"
        ]
       ],
       "shape": {
        "columns": 7,
        "rows": 5
       }
      },
      "text/html": [
       "<div>\n",
       "<style scoped>\n",
       "    .dataframe tbody tr th:only-of-type {\n",
       "        vertical-align: middle;\n",
       "    }\n",
       "\n",
       "    .dataframe tbody tr th {\n",
       "        vertical-align: top;\n",
       "    }\n",
       "\n",
       "    .dataframe thead th {\n",
       "        text-align: right;\n",
       "    }\n",
       "</style>\n",
       "<table border=\"1\" class=\"dataframe\">\n",
       "  <thead>\n",
       "    <tr style=\"text-align: right;\">\n",
       "      <th></th>\n",
       "      <th>first_name</th>\n",
       "      <th>last_name</th>\n",
       "      <th>hours_worked</th>\n",
       "      <th>hourly_rate</th>\n",
       "      <th>department</th>\n",
       "      <th>age</th>\n",
       "      <th>age_group</th>\n",
       "    </tr>\n",
       "  </thead>\n",
       "  <tbody>\n",
       "    <tr>\n",
       "      <th>0</th>\n",
       "      <td>Alice</td>\n",
       "      <td>Smith</td>\n",
       "      <td>40</td>\n",
       "      <td>50</td>\n",
       "      <td>Sales</td>\n",
       "      <td>25</td>\n",
       "      <td>Young</td>\n",
       "    </tr>\n",
       "    <tr>\n",
       "      <th>1</th>\n",
       "      <td>Bob</td>\n",
       "      <td>Jones</td>\n",
       "      <td>45</td>\n",
       "      <td>55</td>\n",
       "      <td>IT</td>\n",
       "      <td>35</td>\n",
       "      <td>Middle</td>\n",
       "    </tr>\n",
       "    <tr>\n",
       "      <th>2</th>\n",
       "      <td>Charlie</td>\n",
       "      <td>Brown</td>\n",
       "      <td>38</td>\n",
       "      <td>48</td>\n",
       "      <td>HR</td>\n",
       "      <td>42</td>\n",
       "      <td>Middle</td>\n",
       "    </tr>\n",
       "    <tr>\n",
       "      <th>3</th>\n",
       "      <td>David</td>\n",
       "      <td>Davis</td>\n",
       "      <td>42</td>\n",
       "      <td>52</td>\n",
       "      <td>Sales</td>\n",
       "      <td>28</td>\n",
       "      <td>Young</td>\n",
       "    </tr>\n",
       "    <tr>\n",
       "      <th>4</th>\n",
       "      <td>Eve</td>\n",
       "      <td>Wilson</td>\n",
       "      <td>50</td>\n",
       "      <td>60</td>\n",
       "      <td>IT</td>\n",
       "      <td>55</td>\n",
       "      <td>Senior</td>\n",
       "    </tr>\n",
       "  </tbody>\n",
       "</table>\n",
       "</div>"
      ],
      "text/plain": [
       "  first_name last_name  hours_worked  hourly_rate department  age age_group\n",
       "0      Alice     Smith            40           50      Sales   25     Young\n",
       "1        Bob     Jones            45           55         IT   35    Middle\n",
       "2    Charlie     Brown            38           48         HR   42    Middle\n",
       "3      David     Davis            42           52      Sales   28     Young\n",
       "4        Eve    Wilson            50           60         IT   55    Senior"
      ]
     },
     "execution_count": 7,
     "metadata": {},
     "output_type": "execute_result"
    }
   ],
   "source": [
    "# Using pd.cut for binning\n",
    "# R: mutate(df, age_group = cut(age, breaks = c(0, 30, 50, 100), \n",
    "#                                labels = c(\"Young\", \"Middle\", \"Senior\")))\n",
    "df_ages = df.assign(\n",
    "    age = [25, 35, 42, 28, 55],  # Adding age column for example\n",
    "    age_group = lambda x: pd.cut(x['age'], \n",
    "                                 bins=[0, 30, 50, 100], \n",
    "                                 labels=['Young', 'Middle', 'Senior'])\n",
    ")\n",
    "df_ages"
   ]
  },
  {
   "cell_type": "markdown",
   "id": "7b261bb5",
   "metadata": {},
   "source": [
    "## String Transformations\n",
    "\n",
    "Working with text columns:"
   ]
  },
  {
   "cell_type": "code",
   "execution_count": 8,
   "id": "54ef8d02",
   "metadata": {},
   "outputs": [
    {
     "data": {
      "application/vnd.microsoft.datawrangler.viewer.v0+json": {
       "columns": [
        {
         "name": "index",
         "rawType": "int64",
         "type": "integer"
        },
        {
         "name": "first_name",
         "rawType": "object",
         "type": "string"
        },
        {
         "name": "last_name",
         "rawType": "object",
         "type": "string"
        },
        {
         "name": "full_name",
         "rawType": "object",
         "type": "string"
        },
        {
         "name": "email",
         "rawType": "object",
         "type": "string"
        },
        {
         "name": "initials",
         "rawType": "object",
         "type": "string"
        }
       ],
       "ref": "e791fc0f-5a55-435e-9675-1c55abccfe10",
       "rows": [
        [
         "0",
         "Alice",
         "Smith",
         "Alice Smith",
         "alice@company.com",
         "AS"
        ],
        [
         "1",
         "Bob",
         "Jones",
         "Bob Jones",
         "bob@company.com",
         "BJ"
        ],
        [
         "2",
         "Charlie",
         "Brown",
         "Charlie Brown",
         "charlie@company.com",
         "CB"
        ],
        [
         "3",
         "David",
         "Davis",
         "David Davis",
         "david@company.com",
         "DD"
        ],
        [
         "4",
         "Eve",
         "Wilson",
         "Eve Wilson",
         "eve@company.com",
         "EW"
        ]
       ],
       "shape": {
        "columns": 5,
        "rows": 5
       }
      },
      "text/html": [
       "<div>\n",
       "<style scoped>\n",
       "    .dataframe tbody tr th:only-of-type {\n",
       "        vertical-align: middle;\n",
       "    }\n",
       "\n",
       "    .dataframe tbody tr th {\n",
       "        vertical-align: top;\n",
       "    }\n",
       "\n",
       "    .dataframe thead th {\n",
       "        text-align: right;\n",
       "    }\n",
       "</style>\n",
       "<table border=\"1\" class=\"dataframe\">\n",
       "  <thead>\n",
       "    <tr style=\"text-align: right;\">\n",
       "      <th></th>\n",
       "      <th>first_name</th>\n",
       "      <th>last_name</th>\n",
       "      <th>full_name</th>\n",
       "      <th>email</th>\n",
       "      <th>initials</th>\n",
       "    </tr>\n",
       "  </thead>\n",
       "  <tbody>\n",
       "    <tr>\n",
       "      <th>0</th>\n",
       "      <td>Alice</td>\n",
       "      <td>Smith</td>\n",
       "      <td>Alice Smith</td>\n",
       "      <td>alice@company.com</td>\n",
       "      <td>AS</td>\n",
       "    </tr>\n",
       "    <tr>\n",
       "      <th>1</th>\n",
       "      <td>Bob</td>\n",
       "      <td>Jones</td>\n",
       "      <td>Bob Jones</td>\n",
       "      <td>bob@company.com</td>\n",
       "      <td>BJ</td>\n",
       "    </tr>\n",
       "    <tr>\n",
       "      <th>2</th>\n",
       "      <td>Charlie</td>\n",
       "      <td>Brown</td>\n",
       "      <td>Charlie Brown</td>\n",
       "      <td>charlie@company.com</td>\n",
       "      <td>CB</td>\n",
       "    </tr>\n",
       "    <tr>\n",
       "      <th>3</th>\n",
       "      <td>David</td>\n",
       "      <td>Davis</td>\n",
       "      <td>David Davis</td>\n",
       "      <td>david@company.com</td>\n",
       "      <td>DD</td>\n",
       "    </tr>\n",
       "    <tr>\n",
       "      <th>4</th>\n",
       "      <td>Eve</td>\n",
       "      <td>Wilson</td>\n",
       "      <td>Eve Wilson</td>\n",
       "      <td>eve@company.com</td>\n",
       "      <td>EW</td>\n",
       "    </tr>\n",
       "  </tbody>\n",
       "</table>\n",
       "</div>"
      ],
      "text/plain": [
       "  first_name last_name      full_name                email initials\n",
       "0      Alice     Smith    Alice Smith    alice@company.com       AS\n",
       "1        Bob     Jones      Bob Jones      bob@company.com       BJ\n",
       "2    Charlie     Brown  Charlie Brown  charlie@company.com       CB\n",
       "3      David     Davis    David Davis    david@company.com       DD\n",
       "4        Eve    Wilson     Eve Wilson      eve@company.com       EW"
      ]
     },
     "execution_count": 8,
     "metadata": {},
     "output_type": "execute_result"
    }
   ],
   "source": [
    "# String operations\n",
    "# R: mutate(df, \n",
    "#           full_name = paste(first_name, last_name),\n",
    "#           email = paste0(tolower(first_name), \"@company.com\"))\n",
    "df_text = df.assign(\n",
    "    full_name = df['first_name'] + ' ' + df['last_name'],\n",
    "    email = df['first_name'].str.lower() + '@company.com',\n",
    "    initials = df['first_name'].str[0] + df['last_name'].str[0]\n",
    ")\n",
    "df_text[['first_name', 'last_name', 'full_name', 'email', 'initials']]"
   ]
  },
  {
   "cell_type": "code",
   "execution_count": 9,
   "id": "6caec90b",
   "metadata": {},
   "outputs": [
    {
     "data": {
      "application/vnd.microsoft.datawrangler.viewer.v0+json": {
       "columns": [
        {
         "name": "index",
         "rawType": "int64",
         "type": "integer"
        },
        {
         "name": "first_name",
         "rawType": "object",
         "type": "string"
        },
        {
         "name": "name_length",
         "rawType": "int64",
         "type": "integer"
        },
        {
         "name": "name_upper",
         "rawType": "object",
         "type": "string"
        },
        {
         "name": "dept_abbrev",
         "rawType": "object",
         "type": "string"
        },
        {
         "name": "contains_e",
         "rawType": "bool",
         "type": "boolean"
        }
       ],
       "ref": "ddcea45d-4c73-40c2-b962-1cc884df7e50",
       "rows": [
        [
         "0",
         "Alice",
         "5",
         "ALICE",
         "Sa",
         "True"
        ],
        [
         "1",
         "Bob",
         "3",
         "BOB",
         "IT",
         "False"
        ],
        [
         "2",
         "Charlie",
         "7",
         "CHARLIE",
         "HR",
         "True"
        ],
        [
         "3",
         "David",
         "5",
         "DAVID",
         "Sa",
         "False"
        ],
        [
         "4",
         "Eve",
         "3",
         "EVE",
         "IT",
         "True"
        ]
       ],
       "shape": {
        "columns": 5,
        "rows": 5
       }
      },
      "text/html": [
       "<div>\n",
       "<style scoped>\n",
       "    .dataframe tbody tr th:only-of-type {\n",
       "        vertical-align: middle;\n",
       "    }\n",
       "\n",
       "    .dataframe tbody tr th {\n",
       "        vertical-align: top;\n",
       "    }\n",
       "\n",
       "    .dataframe thead th {\n",
       "        text-align: right;\n",
       "    }\n",
       "</style>\n",
       "<table border=\"1\" class=\"dataframe\">\n",
       "  <thead>\n",
       "    <tr style=\"text-align: right;\">\n",
       "      <th></th>\n",
       "      <th>first_name</th>\n",
       "      <th>name_length</th>\n",
       "      <th>name_upper</th>\n",
       "      <th>dept_abbrev</th>\n",
       "      <th>contains_e</th>\n",
       "    </tr>\n",
       "  </thead>\n",
       "  <tbody>\n",
       "    <tr>\n",
       "      <th>0</th>\n",
       "      <td>Alice</td>\n",
       "      <td>5</td>\n",
       "      <td>ALICE</td>\n",
       "      <td>Sa</td>\n",
       "      <td>True</td>\n",
       "    </tr>\n",
       "    <tr>\n",
       "      <th>1</th>\n",
       "      <td>Bob</td>\n",
       "      <td>3</td>\n",
       "      <td>BOB</td>\n",
       "      <td>IT</td>\n",
       "      <td>False</td>\n",
       "    </tr>\n",
       "    <tr>\n",
       "      <th>2</th>\n",
       "      <td>Charlie</td>\n",
       "      <td>7</td>\n",
       "      <td>CHARLIE</td>\n",
       "      <td>HR</td>\n",
       "      <td>True</td>\n",
       "    </tr>\n",
       "    <tr>\n",
       "      <th>3</th>\n",
       "      <td>David</td>\n",
       "      <td>5</td>\n",
       "      <td>DAVID</td>\n",
       "      <td>Sa</td>\n",
       "      <td>False</td>\n",
       "    </tr>\n",
       "    <tr>\n",
       "      <th>4</th>\n",
       "      <td>Eve</td>\n",
       "      <td>3</td>\n",
       "      <td>EVE</td>\n",
       "      <td>IT</td>\n",
       "      <td>True</td>\n",
       "    </tr>\n",
       "  </tbody>\n",
       "</table>\n",
       "</div>"
      ],
      "text/plain": [
       "  first_name  name_length name_upper dept_abbrev  contains_e\n",
       "0      Alice            5      ALICE          Sa        True\n",
       "1        Bob            3        BOB          IT       False\n",
       "2    Charlie            7    CHARLIE          HR        True\n",
       "3      David            5      DAVID          Sa       False\n",
       "4        Eve            3        EVE          IT        True"
      ]
     },
     "execution_count": 9,
     "metadata": {},
     "output_type": "execute_result"
    }
   ],
   "source": [
    "# More complex string operations\n",
    "# R: mutate(df,\n",
    "#           name_length = nchar(first_name),\n",
    "#           name_upper = toupper(first_name),\n",
    "#           dept_abbrev = substr(department, 1, 2))\n",
    "df_text2 = df.assign(\n",
    "    name_length = df['first_name'].str.len(),\n",
    "    name_upper = df['first_name'].str.upper(),\n",
    "    dept_abbrev = df['department'].str[:2],\n",
    "    contains_e = df['first_name'].str.contains('e', case=False)\n",
    ")\n",
    "df_text2[['first_name', 'name_length', 'name_upper', 'dept_abbrev', 'contains_e']]"
   ]
  },
  {
   "cell_type": "markdown",
   "id": "fdaba5bb",
   "metadata": {},
   "source": [
    "## Date and Time Transformations\n",
    "\n",
    "Working with datetime columns:"
   ]
  },
  {
   "cell_type": "code",
   "execution_count": 10,
   "id": "247fbd4f",
   "metadata": {},
   "outputs": [
    {
     "data": {
      "application/vnd.microsoft.datawrangler.viewer.v0+json": {
       "columns": [
        {
         "name": "index",
         "rawType": "int64",
         "type": "integer"
        },
        {
         "name": "employee",
         "rawType": "object",
         "type": "string"
        },
        {
         "name": "start_date",
         "rawType": "datetime64[ns]",
         "type": "datetime"
        },
        {
         "name": "birth_date",
         "rawType": "datetime64[ns]",
         "type": "datetime"
        },
        {
         "name": "start_year",
         "rawType": "int32",
         "type": "integer"
        },
        {
         "name": "start_month",
         "rawType": "int32",
         "type": "integer"
        },
        {
         "name": "start_day",
         "rawType": "int32",
         "type": "integer"
        },
        {
         "name": "start_quarter",
         "rawType": "int32",
         "type": "integer"
        },
        {
         "name": "years_employed",
         "rawType": "float64",
         "type": "float"
        },
        {
         "name": "age",
         "rawType": "float64",
         "type": "float"
        }
       ],
       "ref": "0a2d21ae-c25c-4b77-9646-97de1c91cecb",
       "rows": [
        [
         "0",
         "Alice",
         "2020-01-15 00:00:00",
         "1990-05-15 00:00:00",
         "2020",
         "1",
         "15",
         "1",
         "5.5",
         "35.1"
        ],
        [
         "1",
         "Bob",
         "2019-06-01 00:00:00",
         "1988-12-01 00:00:00",
         "2019",
         "6",
         "1",
         "2",
         "6.1",
         "36.6"
        ],
        [
         "2",
         "Charlie",
         "2021-03-20 00:00:00",
         "1992-03-20 00:00:00",
         "2021",
         "3",
         "20",
         "1",
         "4.3",
         "33.3"
        ],
        [
         "3",
         "David",
         "2020-09-10 00:00:00",
         "1991-09-10 00:00:00",
         "2020",
         "9",
         "10",
         "3",
         "4.8",
         "33.8"
        ]
       ],
       "shape": {
        "columns": 9,
        "rows": 4
       }
      },
      "text/html": [
       "<div>\n",
       "<style scoped>\n",
       "    .dataframe tbody tr th:only-of-type {\n",
       "        vertical-align: middle;\n",
       "    }\n",
       "\n",
       "    .dataframe tbody tr th {\n",
       "        vertical-align: top;\n",
       "    }\n",
       "\n",
       "    .dataframe thead th {\n",
       "        text-align: right;\n",
       "    }\n",
       "</style>\n",
       "<table border=\"1\" class=\"dataframe\">\n",
       "  <thead>\n",
       "    <tr style=\"text-align: right;\">\n",
       "      <th></th>\n",
       "      <th>employee</th>\n",
       "      <th>start_date</th>\n",
       "      <th>birth_date</th>\n",
       "      <th>start_year</th>\n",
       "      <th>start_month</th>\n",
       "      <th>start_day</th>\n",
       "      <th>start_quarter</th>\n",
       "      <th>years_employed</th>\n",
       "      <th>age</th>\n",
       "    </tr>\n",
       "  </thead>\n",
       "  <tbody>\n",
       "    <tr>\n",
       "      <th>0</th>\n",
       "      <td>Alice</td>\n",
       "      <td>2020-01-15</td>\n",
       "      <td>1990-05-15</td>\n",
       "      <td>2020</td>\n",
       "      <td>1</td>\n",
       "      <td>15</td>\n",
       "      <td>1</td>\n",
       "      <td>5.5</td>\n",
       "      <td>35.1</td>\n",
       "    </tr>\n",
       "    <tr>\n",
       "      <th>1</th>\n",
       "      <td>Bob</td>\n",
       "      <td>2019-06-01</td>\n",
       "      <td>1988-12-01</td>\n",
       "      <td>2019</td>\n",
       "      <td>6</td>\n",
       "      <td>1</td>\n",
       "      <td>2</td>\n",
       "      <td>6.1</td>\n",
       "      <td>36.6</td>\n",
       "    </tr>\n",
       "    <tr>\n",
       "      <th>2</th>\n",
       "      <td>Charlie</td>\n",
       "      <td>2021-03-20</td>\n",
       "      <td>1992-03-20</td>\n",
       "      <td>2021</td>\n",
       "      <td>3</td>\n",
       "      <td>20</td>\n",
       "      <td>1</td>\n",
       "      <td>4.3</td>\n",
       "      <td>33.3</td>\n",
       "    </tr>\n",
       "    <tr>\n",
       "      <th>3</th>\n",
       "      <td>David</td>\n",
       "      <td>2020-09-10</td>\n",
       "      <td>1991-09-10</td>\n",
       "      <td>2020</td>\n",
       "      <td>9</td>\n",
       "      <td>10</td>\n",
       "      <td>3</td>\n",
       "      <td>4.8</td>\n",
       "      <td>33.8</td>\n",
       "    </tr>\n",
       "  </tbody>\n",
       "</table>\n",
       "</div>"
      ],
      "text/plain": [
       "  employee start_date birth_date  start_year  start_month  start_day  \\\n",
       "0    Alice 2020-01-15 1990-05-15        2020            1         15   \n",
       "1      Bob 2019-06-01 1988-12-01        2019            6          1   \n",
       "2  Charlie 2021-03-20 1992-03-20        2021            3         20   \n",
       "3    David 2020-09-10 1991-09-10        2020            9         10   \n",
       "\n",
       "   start_quarter  years_employed   age  \n",
       "0              1             5.5  35.1  \n",
       "1              2             6.1  36.6  \n",
       "2              1             4.3  33.3  \n",
       "3              3             4.8  33.8  "
      ]
     },
     "execution_count": 10,
     "metadata": {},
     "output_type": "execute_result"
    }
   ],
   "source": [
    "# Create DataFrame with dates\n",
    "df_dates = pd.DataFrame({\n",
    "    'employee': ['Alice', 'Bob', 'Charlie', 'David'],\n",
    "    'start_date': pd.to_datetime(['2020-01-15', '2019-06-01', '2021-03-20', '2020-09-10']),\n",
    "    'birth_date': pd.to_datetime(['1990-05-15', '1988-12-01', '1992-03-20', '1991-09-10'])\n",
    "})\n",
    "\n",
    "# Extract date components\n",
    "# R: mutate(df,\n",
    "#           start_year = year(start_date),\n",
    "#           start_month = month(start_date),\n",
    "#           start_day = day(start_date))\n",
    "df_dates_transformed = df_dates.assign(\n",
    "    start_year = lambda x: x['start_date'].dt.year,\n",
    "    start_month = lambda x: x['start_date'].dt.month,\n",
    "    start_day = lambda x: x['start_date'].dt.day,\n",
    "    start_quarter = lambda x: x['start_date'].dt.quarter,\n",
    "    years_employed = lambda x: (pd.Timestamp.now() - x['start_date']).dt.days / 365.25,\n",
    "    age = lambda x: (pd.Timestamp.now() - x['birth_date']).dt.days / 365.25\n",
    ")\n",
    "df_dates_transformed.round(1)"
   ]
  },
  {
   "cell_type": "markdown",
   "id": "310ddf25",
   "metadata": {},
   "source": [
    "## Applying Functions\n",
    "\n",
    "Using custom functions for transformations:"
   ]
  },
  {
   "cell_type": "code",
   "execution_count": 11,
   "id": "f986e4a1",
   "metadata": {},
   "outputs": [
    {
     "data": {
      "application/vnd.microsoft.datawrangler.viewer.v0+json": {
       "columns": [
        {
         "name": "index",
         "rawType": "int64",
         "type": "integer"
        },
        {
         "name": "first_name",
         "rawType": "object",
         "type": "string"
        },
        {
         "name": "last_name",
         "rawType": "object",
         "type": "string"
        },
        {
         "name": "hours_worked",
         "rawType": "int64",
         "type": "integer"
        },
        {
         "name": "hourly_rate",
         "rawType": "int64",
         "type": "integer"
        },
        {
         "name": "department",
         "rawType": "object",
         "type": "string"
        },
        {
         "name": "total_pay",
         "rawType": "int64",
         "type": "integer"
        },
        {
         "name": "salary_category",
         "rawType": "object",
         "type": "string"
        },
        {
         "name": "bonus",
         "rawType": "float64",
         "type": "float"
        }
       ],
       "ref": "c8b3b226-4155-4b29-99dc-d0afa0563de0",
       "rows": [
        [
         "0",
         "Alice",
         "Smith",
         "40",
         "50",
         "Sales",
         "2000",
         "Medium",
         "300.0"
        ],
        [
         "1",
         "Bob",
         "Jones",
         "45",
         "55",
         "IT",
         "2475",
         "Medium",
         "297.0"
        ],
        [
         "2",
         "Charlie",
         "Brown",
         "38",
         "48",
         "HR",
         "1824",
         "Low",
         "182.4"
        ],
        [
         "3",
         "David",
         "Davis",
         "42",
         "52",
         "Sales",
         "2184",
         "Medium",
         "327.6"
        ],
        [
         "4",
         "Eve",
         "Wilson",
         "50",
         "60",
         "IT",
         "3000",
         "High",
         "360.0"
        ]
       ],
       "shape": {
        "columns": 8,
        "rows": 5
       }
      },
      "text/html": [
       "<div>\n",
       "<style scoped>\n",
       "    .dataframe tbody tr th:only-of-type {\n",
       "        vertical-align: middle;\n",
       "    }\n",
       "\n",
       "    .dataframe tbody tr th {\n",
       "        vertical-align: top;\n",
       "    }\n",
       "\n",
       "    .dataframe thead th {\n",
       "        text-align: right;\n",
       "    }\n",
       "</style>\n",
       "<table border=\"1\" class=\"dataframe\">\n",
       "  <thead>\n",
       "    <tr style=\"text-align: right;\">\n",
       "      <th></th>\n",
       "      <th>first_name</th>\n",
       "      <th>last_name</th>\n",
       "      <th>hours_worked</th>\n",
       "      <th>hourly_rate</th>\n",
       "      <th>department</th>\n",
       "      <th>total_pay</th>\n",
       "      <th>salary_category</th>\n",
       "      <th>bonus</th>\n",
       "    </tr>\n",
       "  </thead>\n",
       "  <tbody>\n",
       "    <tr>\n",
       "      <th>0</th>\n",
       "      <td>Alice</td>\n",
       "      <td>Smith</td>\n",
       "      <td>40</td>\n",
       "      <td>50</td>\n",
       "      <td>Sales</td>\n",
       "      <td>2000</td>\n",
       "      <td>Medium</td>\n",
       "      <td>300.0</td>\n",
       "    </tr>\n",
       "    <tr>\n",
       "      <th>1</th>\n",
       "      <td>Bob</td>\n",
       "      <td>Jones</td>\n",
       "      <td>45</td>\n",
       "      <td>55</td>\n",
       "      <td>IT</td>\n",
       "      <td>2475</td>\n",
       "      <td>Medium</td>\n",
       "      <td>297.0</td>\n",
       "    </tr>\n",
       "    <tr>\n",
       "      <th>2</th>\n",
       "      <td>Charlie</td>\n",
       "      <td>Brown</td>\n",
       "      <td>38</td>\n",
       "      <td>48</td>\n",
       "      <td>HR</td>\n",
       "      <td>1824</td>\n",
       "      <td>Low</td>\n",
       "      <td>182.4</td>\n",
       "    </tr>\n",
       "    <tr>\n",
       "      <th>3</th>\n",
       "      <td>David</td>\n",
       "      <td>Davis</td>\n",
       "      <td>42</td>\n",
       "      <td>52</td>\n",
       "      <td>Sales</td>\n",
       "      <td>2184</td>\n",
       "      <td>Medium</td>\n",
       "      <td>327.6</td>\n",
       "    </tr>\n",
       "    <tr>\n",
       "      <th>4</th>\n",
       "      <td>Eve</td>\n",
       "      <td>Wilson</td>\n",
       "      <td>50</td>\n",
       "      <td>60</td>\n",
       "      <td>IT</td>\n",
       "      <td>3000</td>\n",
       "      <td>High</td>\n",
       "      <td>360.0</td>\n",
       "    </tr>\n",
       "  </tbody>\n",
       "</table>\n",
       "</div>"
      ],
      "text/plain": [
       "  first_name last_name  hours_worked  hourly_rate department  total_pay  \\\n",
       "0      Alice     Smith            40           50      Sales       2000   \n",
       "1        Bob     Jones            45           55         IT       2475   \n",
       "2    Charlie     Brown            38           48         HR       1824   \n",
       "3      David     Davis            42           52      Sales       2184   \n",
       "4        Eve    Wilson            50           60         IT       3000   \n",
       "\n",
       "  salary_category  bonus  \n",
       "0          Medium  300.0  \n",
       "1          Medium  297.0  \n",
       "2             Low  182.4  \n",
       "3          Medium  327.6  \n",
       "4            High  360.0  "
      ]
     },
     "execution_count": 11,
     "metadata": {},
     "output_type": "execute_result"
    }
   ],
   "source": [
    "# Define custom functions\n",
    "def categorize_salary(total_pay):\n",
    "    \"\"\"Categorize salary into Low, Medium, High\"\"\"\n",
    "    if total_pay < 2000:\n",
    "        return 'Low'\n",
    "    elif total_pay < 3000:\n",
    "        return 'Medium'\n",
    "    else:\n",
    "        return 'High'\n",
    "\n",
    "def calculate_bonus(row):\n",
    "    \"\"\"Calculate bonus based on total pay and department\"\"\"\n",
    "    base_bonus = row['total_pay'] * 0.1\n",
    "    if row['department'] == 'Sales':\n",
    "        return base_bonus * 1.5\n",
    "    elif row['department'] == 'IT':\n",
    "        return base_bonus * 1.2\n",
    "    else:\n",
    "        return base_bonus\n",
    "\n",
    "# Apply functions\n",
    "# R: mutate(df, salary_category = map_chr(total_pay, categorize_salary))\n",
    "df_with_pay = df.assign(\n",
    "    total_pay = lambda x: x['hours_worked'] * x['hourly_rate']\n",
    ")\n",
    "\n",
    "df_functions = df_with_pay.assign(\n",
    "    salary_category = lambda x: x['total_pay'].apply(categorize_salary),\n",
    "    bonus = lambda x: x.apply(calculate_bonus, axis=1)\n",
    ")\n",
    "df_functions"
   ]
  },
  {
   "cell_type": "markdown",
   "id": "50edd0eb",
   "metadata": {},
   "source": [
    "## Working with Groups\n",
    "\n",
    "Creating columns based on group statistics:"
   ]
  },
  {
   "cell_type": "code",
   "execution_count": 12,
   "id": "f808e520",
   "metadata": {},
   "outputs": [
    {
     "data": {
      "application/vnd.microsoft.datawrangler.viewer.v0+json": {
       "columns": [
        {
         "name": "index",
         "rawType": "int64",
         "type": "integer"
        },
        {
         "name": "first_name",
         "rawType": "object",
         "type": "string"
        },
        {
         "name": "last_name",
         "rawType": "object",
         "type": "string"
        },
        {
         "name": "hours_worked",
         "rawType": "int64",
         "type": "integer"
        },
        {
         "name": "hourly_rate",
         "rawType": "int64",
         "type": "integer"
        },
        {
         "name": "department",
         "rawType": "object",
         "type": "string"
        },
        {
         "name": "dept_avg_hours",
         "rawType": "float64",
         "type": "float"
        },
        {
         "name": "hours_vs_dept_avg",
         "rawType": "float64",
         "type": "float"
        },
        {
         "name": "dept_rank",
         "rawType": "float64",
         "type": "float"
        }
       ],
       "ref": "ba9c3d06-70ca-47e4-9fc8-d45d082ed4e8",
       "rows": [
        [
         "0",
         "Alice",
         "Smith",
         "40",
         "50",
         "Sales",
         "41.0",
         "-1.0",
         "2.0"
        ],
        [
         "1",
         "Bob",
         "Jones",
         "45",
         "55",
         "IT",
         "47.5",
         "-2.5",
         "2.0"
        ],
        [
         "2",
         "Charlie",
         "Brown",
         "38",
         "48",
         "HR",
         "38.0",
         "0.0",
         "1.0"
        ],
        [
         "3",
         "David",
         "Davis",
         "42",
         "52",
         "Sales",
         "41.0",
         "1.0",
         "1.0"
        ],
        [
         "4",
         "Eve",
         "Wilson",
         "50",
         "60",
         "IT",
         "47.5",
         "2.5",
         "1.0"
        ]
       ],
       "shape": {
        "columns": 8,
        "rows": 5
       }
      },
      "text/html": [
       "<div>\n",
       "<style scoped>\n",
       "    .dataframe tbody tr th:only-of-type {\n",
       "        vertical-align: middle;\n",
       "    }\n",
       "\n",
       "    .dataframe tbody tr th {\n",
       "        vertical-align: top;\n",
       "    }\n",
       "\n",
       "    .dataframe thead th {\n",
       "        text-align: right;\n",
       "    }\n",
       "</style>\n",
       "<table border=\"1\" class=\"dataframe\">\n",
       "  <thead>\n",
       "    <tr style=\"text-align: right;\">\n",
       "      <th></th>\n",
       "      <th>first_name</th>\n",
       "      <th>last_name</th>\n",
       "      <th>hours_worked</th>\n",
       "      <th>hourly_rate</th>\n",
       "      <th>department</th>\n",
       "      <th>dept_avg_hours</th>\n",
       "      <th>hours_vs_dept_avg</th>\n",
       "      <th>dept_rank</th>\n",
       "    </tr>\n",
       "  </thead>\n",
       "  <tbody>\n",
       "    <tr>\n",
       "      <th>0</th>\n",
       "      <td>Alice</td>\n",
       "      <td>Smith</td>\n",
       "      <td>40</td>\n",
       "      <td>50</td>\n",
       "      <td>Sales</td>\n",
       "      <td>41.0</td>\n",
       "      <td>-1.0</td>\n",
       "      <td>2.0</td>\n",
       "    </tr>\n",
       "    <tr>\n",
       "      <th>1</th>\n",
       "      <td>Bob</td>\n",
       "      <td>Jones</td>\n",
       "      <td>45</td>\n",
       "      <td>55</td>\n",
       "      <td>IT</td>\n",
       "      <td>47.5</td>\n",
       "      <td>-2.5</td>\n",
       "      <td>2.0</td>\n",
       "    </tr>\n",
       "    <tr>\n",
       "      <th>2</th>\n",
       "      <td>Charlie</td>\n",
       "      <td>Brown</td>\n",
       "      <td>38</td>\n",
       "      <td>48</td>\n",
       "      <td>HR</td>\n",
       "      <td>38.0</td>\n",
       "      <td>0.0</td>\n",
       "      <td>1.0</td>\n",
       "    </tr>\n",
       "    <tr>\n",
       "      <th>3</th>\n",
       "      <td>David</td>\n",
       "      <td>Davis</td>\n",
       "      <td>42</td>\n",
       "      <td>52</td>\n",
       "      <td>Sales</td>\n",
       "      <td>41.0</td>\n",
       "      <td>1.0</td>\n",
       "      <td>1.0</td>\n",
       "    </tr>\n",
       "    <tr>\n",
       "      <th>4</th>\n",
       "      <td>Eve</td>\n",
       "      <td>Wilson</td>\n",
       "      <td>50</td>\n",
       "      <td>60</td>\n",
       "      <td>IT</td>\n",
       "      <td>47.5</td>\n",
       "      <td>2.5</td>\n",
       "      <td>1.0</td>\n",
       "    </tr>\n",
       "  </tbody>\n",
       "</table>\n",
       "</div>"
      ],
      "text/plain": [
       "  first_name last_name  hours_worked  hourly_rate department  dept_avg_hours  \\\n",
       "0      Alice     Smith            40           50      Sales            41.0   \n",
       "1        Bob     Jones            45           55         IT            47.5   \n",
       "2    Charlie     Brown            38           48         HR            38.0   \n",
       "3      David     Davis            42           52      Sales            41.0   \n",
       "4        Eve    Wilson            50           60         IT            47.5   \n",
       "\n",
       "   hours_vs_dept_avg  dept_rank  \n",
       "0               -1.0        2.0  \n",
       "1               -2.5        2.0  \n",
       "2                0.0        1.0  \n",
       "3                1.0        1.0  \n",
       "4                2.5        1.0  "
      ]
     },
     "execution_count": 12,
     "metadata": {},
     "output_type": "execute_result"
    }
   ],
   "source": [
    "# Group-based transformations\n",
    "# R: df %>% \n",
    "#     group_by(department) %>%\n",
    "#     mutate(dept_avg_hours = mean(hours_worked),\n",
    "#            hours_vs_dept_avg = hours_worked - dept_avg_hours)\n",
    "df_grouped = df.assign(\n",
    "    dept_avg_hours = df.groupby('department')['hours_worked'].transform('mean'),\n",
    "    hours_vs_dept_avg = lambda x: x['hours_worked'] - x['dept_avg_hours'],\n",
    "    dept_rank = lambda x: x.groupby('department')['hourly_rate'].rank(ascending=False)\n",
    ")\n",
    "df_grouped"
   ]
  },
  {
   "cell_type": "code",
   "execution_count": 13,
   "id": "c18a6df9",
   "metadata": {},
   "outputs": [
    {
     "data": {
      "application/vnd.microsoft.datawrangler.viewer.v0+json": {
       "columns": [
        {
         "name": "index",
         "rawType": "int64",
         "type": "integer"
        },
        {
         "name": "first_name",
         "rawType": "object",
         "type": "string"
        },
        {
         "name": "last_name",
         "rawType": "object",
         "type": "string"
        },
        {
         "name": "hours_worked",
         "rawType": "int64",
         "type": "integer"
        },
        {
         "name": "hourly_rate",
         "rawType": "int64",
         "type": "integer"
        },
        {
         "name": "department",
         "rawType": "object",
         "type": "string"
        },
        {
         "name": "cumsum_hours",
         "rawType": "int64",
         "type": "integer"
        },
        {
         "name": "pct_of_dept_hours",
         "rawType": "float64",
         "type": "float"
        }
       ],
       "ref": "ffb48f59-a116-458d-87e4-3d2ac932b61e",
       "rows": [
        [
         "2",
         "Charlie",
         "Brown",
         "38",
         "48",
         "HR",
         "38",
         "100.0"
        ],
        [
         "1",
         "Bob",
         "Jones",
         "45",
         "55",
         "IT",
         "45",
         "47.4"
        ],
        [
         "4",
         "Eve",
         "Wilson",
         "50",
         "60",
         "IT",
         "95",
         "52.6"
        ],
        [
         "0",
         "Alice",
         "Smith",
         "40",
         "50",
         "Sales",
         "40",
         "48.8"
        ],
        [
         "3",
         "David",
         "Davis",
         "42",
         "52",
         "Sales",
         "82",
         "51.2"
        ]
       ],
       "shape": {
        "columns": 7,
        "rows": 5
       }
      },
      "text/html": [
       "<div>\n",
       "<style scoped>\n",
       "    .dataframe tbody tr th:only-of-type {\n",
       "        vertical-align: middle;\n",
       "    }\n",
       "\n",
       "    .dataframe tbody tr th {\n",
       "        vertical-align: top;\n",
       "    }\n",
       "\n",
       "    .dataframe thead th {\n",
       "        text-align: right;\n",
       "    }\n",
       "</style>\n",
       "<table border=\"1\" class=\"dataframe\">\n",
       "  <thead>\n",
       "    <tr style=\"text-align: right;\">\n",
       "      <th></th>\n",
       "      <th>first_name</th>\n",
       "      <th>last_name</th>\n",
       "      <th>hours_worked</th>\n",
       "      <th>hourly_rate</th>\n",
       "      <th>department</th>\n",
       "      <th>cumsum_hours</th>\n",
       "      <th>pct_of_dept_hours</th>\n",
       "    </tr>\n",
       "  </thead>\n",
       "  <tbody>\n",
       "    <tr>\n",
       "      <th>2</th>\n",
       "      <td>Charlie</td>\n",
       "      <td>Brown</td>\n",
       "      <td>38</td>\n",
       "      <td>48</td>\n",
       "      <td>HR</td>\n",
       "      <td>38</td>\n",
       "      <td>100.0</td>\n",
       "    </tr>\n",
       "    <tr>\n",
       "      <th>1</th>\n",
       "      <td>Bob</td>\n",
       "      <td>Jones</td>\n",
       "      <td>45</td>\n",
       "      <td>55</td>\n",
       "      <td>IT</td>\n",
       "      <td>45</td>\n",
       "      <td>47.4</td>\n",
       "    </tr>\n",
       "    <tr>\n",
       "      <th>4</th>\n",
       "      <td>Eve</td>\n",
       "      <td>Wilson</td>\n",
       "      <td>50</td>\n",
       "      <td>60</td>\n",
       "      <td>IT</td>\n",
       "      <td>95</td>\n",
       "      <td>52.6</td>\n",
       "    </tr>\n",
       "    <tr>\n",
       "      <th>0</th>\n",
       "      <td>Alice</td>\n",
       "      <td>Smith</td>\n",
       "      <td>40</td>\n",
       "      <td>50</td>\n",
       "      <td>Sales</td>\n",
       "      <td>40</td>\n",
       "      <td>48.8</td>\n",
       "    </tr>\n",
       "    <tr>\n",
       "      <th>3</th>\n",
       "      <td>David</td>\n",
       "      <td>Davis</td>\n",
       "      <td>42</td>\n",
       "      <td>52</td>\n",
       "      <td>Sales</td>\n",
       "      <td>82</td>\n",
       "      <td>51.2</td>\n",
       "    </tr>\n",
       "  </tbody>\n",
       "</table>\n",
       "</div>"
      ],
      "text/plain": [
       "  first_name last_name  hours_worked  hourly_rate department  cumsum_hours  \\\n",
       "2    Charlie     Brown            38           48         HR            38   \n",
       "1        Bob     Jones            45           55         IT            45   \n",
       "4        Eve    Wilson            50           60         IT            95   \n",
       "0      Alice     Smith            40           50      Sales            40   \n",
       "3      David     Davis            42           52      Sales            82   \n",
       "\n",
       "   pct_of_dept_hours  \n",
       "2              100.0  \n",
       "1               47.4  \n",
       "4               52.6  \n",
       "0               48.8  \n",
       "3               51.2  "
      ]
     },
     "execution_count": 13,
     "metadata": {},
     "output_type": "execute_result"
    }
   ],
   "source": [
    "# Cumulative operations within groups\n",
    "# R: df %>% \n",
    "#     arrange(department, hourly_rate) %>%\n",
    "#     group_by(department) %>%\n",
    "#     mutate(cumsum_hours = cumsum(hours_worked))\n",
    "df_cumulative = (df\n",
    "    .sort_values(['department', 'hourly_rate'])\n",
    "    .assign(cumsum_hours = lambda x: x.groupby('department')['hours_worked'].cumsum())\n",
    "    .assign(pct_of_dept_hours = lambda x: x['hours_worked'] / x.groupby('department')['hours_worked'].transform('sum') * 100)\n",
    ")\n",
    "df_cumulative.round(1)"
   ]
  },
  {
   "cell_type": "markdown",
   "id": "3f98ebf8",
   "metadata": {},
   "source": [
    "## Multiple Column Operations\n",
    "\n",
    "Operating on multiple columns at once:"
   ]
  },
  {
   "cell_type": "code",
   "execution_count": 14,
   "id": "e85db2c5",
   "metadata": {},
   "outputs": [
    {
     "data": {
      "application/vnd.microsoft.datawrangler.viewer.v0+json": {
       "columns": [
        {
         "name": "index",
         "rawType": "int64",
         "type": "integer"
        },
        {
         "name": "product",
         "rawType": "object",
         "type": "string"
        },
        {
         "name": "price_jan",
         "rawType": "int64",
         "type": "integer"
        },
        {
         "name": "price_feb",
         "rawType": "int64",
         "type": "integer"
        },
        {
         "name": "price_mar",
         "rawType": "int64",
         "type": "integer"
        },
        {
         "name": "cost",
         "rawType": "int64",
         "type": "integer"
        },
        {
         "name": "profit_price_jan",
         "rawType": "int64",
         "type": "integer"
        },
        {
         "name": "profit_price_feb",
         "rawType": "int64",
         "type": "integer"
        },
        {
         "name": "profit_price_mar",
         "rawType": "int64",
         "type": "integer"
        }
       ],
       "ref": "005c01ad-a990-4cba-b641-8b24847509b0",
       "rows": [
        [
         "0",
         "A",
         "100",
         "105",
         "110",
         "60",
         "40",
         "45",
         "50"
        ],
        [
         "1",
         "B",
         "150",
         "145",
         "155",
         "90",
         "60",
         "55",
         "65"
        ],
        [
         "2",
         "C",
         "200",
         "210",
         "205",
         "120",
         "80",
         "90",
         "85"
        ],
        [
         "3",
         "D",
         "120",
         "125",
         "130",
         "70",
         "50",
         "55",
         "60"
        ],
        [
         "4",
         "E",
         "180",
         "175",
         "185",
         "100",
         "80",
         "75",
         "85"
        ]
       ],
       "shape": {
        "columns": 8,
        "rows": 5
       }
      },
      "text/html": [
       "<div>\n",
       "<style scoped>\n",
       "    .dataframe tbody tr th:only-of-type {\n",
       "        vertical-align: middle;\n",
       "    }\n",
       "\n",
       "    .dataframe tbody tr th {\n",
       "        vertical-align: top;\n",
       "    }\n",
       "\n",
       "    .dataframe thead th {\n",
       "        text-align: right;\n",
       "    }\n",
       "</style>\n",
       "<table border=\"1\" class=\"dataframe\">\n",
       "  <thead>\n",
       "    <tr style=\"text-align: right;\">\n",
       "      <th></th>\n",
       "      <th>product</th>\n",
       "      <th>price_jan</th>\n",
       "      <th>price_feb</th>\n",
       "      <th>price_mar</th>\n",
       "      <th>cost</th>\n",
       "      <th>profit_price_jan</th>\n",
       "      <th>profit_price_feb</th>\n",
       "      <th>profit_price_mar</th>\n",
       "    </tr>\n",
       "  </thead>\n",
       "  <tbody>\n",
       "    <tr>\n",
       "      <th>0</th>\n",
       "      <td>A</td>\n",
       "      <td>100</td>\n",
       "      <td>105</td>\n",
       "      <td>110</td>\n",
       "      <td>60</td>\n",
       "      <td>40</td>\n",
       "      <td>45</td>\n",
       "      <td>50</td>\n",
       "    </tr>\n",
       "    <tr>\n",
       "      <th>1</th>\n",
       "      <td>B</td>\n",
       "      <td>150</td>\n",
       "      <td>145</td>\n",
       "      <td>155</td>\n",
       "      <td>90</td>\n",
       "      <td>60</td>\n",
       "      <td>55</td>\n",
       "      <td>65</td>\n",
       "    </tr>\n",
       "    <tr>\n",
       "      <th>2</th>\n",
       "      <td>C</td>\n",
       "      <td>200</td>\n",
       "      <td>210</td>\n",
       "      <td>205</td>\n",
       "      <td>120</td>\n",
       "      <td>80</td>\n",
       "      <td>90</td>\n",
       "      <td>85</td>\n",
       "    </tr>\n",
       "    <tr>\n",
       "      <th>3</th>\n",
       "      <td>D</td>\n",
       "      <td>120</td>\n",
       "      <td>125</td>\n",
       "      <td>130</td>\n",
       "      <td>70</td>\n",
       "      <td>50</td>\n",
       "      <td>55</td>\n",
       "      <td>60</td>\n",
       "    </tr>\n",
       "    <tr>\n",
       "      <th>4</th>\n",
       "      <td>E</td>\n",
       "      <td>180</td>\n",
       "      <td>175</td>\n",
       "      <td>185</td>\n",
       "      <td>100</td>\n",
       "      <td>80</td>\n",
       "      <td>75</td>\n",
       "      <td>85</td>\n",
       "    </tr>\n",
       "  </tbody>\n",
       "</table>\n",
       "</div>"
      ],
      "text/plain": [
       "  product  price_jan  price_feb  price_mar  cost  profit_price_jan  \\\n",
       "0       A        100        105        110    60                40   \n",
       "1       B        150        145        155    90                60   \n",
       "2       C        200        210        205   120                80   \n",
       "3       D        120        125        130    70                50   \n",
       "4       E        180        175        185   100                80   \n",
       "\n",
       "   profit_price_feb  profit_price_mar  \n",
       "0                45                50  \n",
       "1                55                65  \n",
       "2                90                85  \n",
       "3                55                60  \n",
       "4                75                85  "
      ]
     },
     "execution_count": 14,
     "metadata": {},
     "output_type": "execute_result"
    }
   ],
   "source": [
    "# Create DataFrame with multiple numeric columns\n",
    "df_multi = pd.DataFrame({\n",
    "    'product': ['A', 'B', 'C', 'D', 'E'],\n",
    "    'price_jan': [100, 150, 200, 120, 180],\n",
    "    'price_feb': [105, 145, 210, 125, 175],\n",
    "    'price_mar': [110, 155, 205, 130, 185],\n",
    "    'cost': [60, 90, 120, 70, 100]\n",
    "})\n",
    "\n",
    "# Calculate multiple new columns\n",
    "# R: mutate(df, across(starts_with(\"price\"), ~ . - cost, .names = \"profit_{.col}\"))\n",
    "price_cols = df_multi.filter(like='price').columns\n",
    "for col in price_cols:\n",
    "    df_multi[f'profit_{col}'] = df_multi[col] - df_multi['cost']\n",
    "\n",
    "df_multi"
   ]
  },
  {
   "cell_type": "code",
   "execution_count": 15,
   "id": "c7fc898f",
   "metadata": {},
   "outputs": [
    {
     "data": {
      "application/vnd.microsoft.datawrangler.viewer.v0+json": {
       "columns": [
        {
         "name": "index",
         "rawType": "int64",
         "type": "integer"
        },
        {
         "name": "product",
         "rawType": "object",
         "type": "string"
        },
        {
         "name": "price_jan",
         "rawType": "int64",
         "type": "integer"
        },
        {
         "name": "price_feb",
         "rawType": "int64",
         "type": "integer"
        },
        {
         "name": "price_mar",
         "rawType": "int64",
         "type": "integer"
        },
        {
         "name": "cost",
         "rawType": "int64",
         "type": "integer"
        },
        {
         "name": "profit_price_jan",
         "rawType": "int64",
         "type": "integer"
        },
        {
         "name": "profit_price_feb",
         "rawType": "int64",
         "type": "integer"
        },
        {
         "name": "profit_price_mar",
         "rawType": "int64",
         "type": "integer"
        },
        {
         "name": "margin_price_jan",
         "rawType": "float64",
         "type": "float"
        },
        {
         "name": "margin_price_feb",
         "rawType": "float64",
         "type": "float"
        },
        {
         "name": "margin_price_mar",
         "rawType": "float64",
         "type": "float"
        }
       ],
       "ref": "ffd4a8f8-9287-4c90-9227-0dbd2e3eac80",
       "rows": [
        [
         "0",
         "A",
         "100",
         "105",
         "110",
         "60",
         "40",
         "45",
         "50",
         "40.0",
         "42.9",
         "45.5"
        ],
        [
         "1",
         "B",
         "150",
         "145",
         "155",
         "90",
         "60",
         "55",
         "65",
         "40.0",
         "37.9",
         "41.9"
        ],
        [
         "2",
         "C",
         "200",
         "210",
         "205",
         "120",
         "80",
         "90",
         "85",
         "40.0",
         "42.9",
         "41.5"
        ],
        [
         "3",
         "D",
         "120",
         "125",
         "130",
         "70",
         "50",
         "55",
         "60",
         "41.7",
         "44.0",
         "46.2"
        ],
        [
         "4",
         "E",
         "180",
         "175",
         "185",
         "100",
         "80",
         "75",
         "85",
         "44.4",
         "42.9",
         "45.9"
        ]
       ],
       "shape": {
        "columns": 11,
        "rows": 5
       }
      },
      "text/html": [
       "<div>\n",
       "<style scoped>\n",
       "    .dataframe tbody tr th:only-of-type {\n",
       "        vertical-align: middle;\n",
       "    }\n",
       "\n",
       "    .dataframe tbody tr th {\n",
       "        vertical-align: top;\n",
       "    }\n",
       "\n",
       "    .dataframe thead th {\n",
       "        text-align: right;\n",
       "    }\n",
       "</style>\n",
       "<table border=\"1\" class=\"dataframe\">\n",
       "  <thead>\n",
       "    <tr style=\"text-align: right;\">\n",
       "      <th></th>\n",
       "      <th>product</th>\n",
       "      <th>price_jan</th>\n",
       "      <th>price_feb</th>\n",
       "      <th>price_mar</th>\n",
       "      <th>cost</th>\n",
       "      <th>profit_price_jan</th>\n",
       "      <th>profit_price_feb</th>\n",
       "      <th>profit_price_mar</th>\n",
       "      <th>margin_price_jan</th>\n",
       "      <th>margin_price_feb</th>\n",
       "      <th>margin_price_mar</th>\n",
       "    </tr>\n",
       "  </thead>\n",
       "  <tbody>\n",
       "    <tr>\n",
       "      <th>0</th>\n",
       "      <td>A</td>\n",
       "      <td>100</td>\n",
       "      <td>105</td>\n",
       "      <td>110</td>\n",
       "      <td>60</td>\n",
       "      <td>40</td>\n",
       "      <td>45</td>\n",
       "      <td>50</td>\n",
       "      <td>40.0</td>\n",
       "      <td>42.9</td>\n",
       "      <td>45.5</td>\n",
       "    </tr>\n",
       "    <tr>\n",
       "      <th>1</th>\n",
       "      <td>B</td>\n",
       "      <td>150</td>\n",
       "      <td>145</td>\n",
       "      <td>155</td>\n",
       "      <td>90</td>\n",
       "      <td>60</td>\n",
       "      <td>55</td>\n",
       "      <td>65</td>\n",
       "      <td>40.0</td>\n",
       "      <td>37.9</td>\n",
       "      <td>41.9</td>\n",
       "    </tr>\n",
       "    <tr>\n",
       "      <th>2</th>\n",
       "      <td>C</td>\n",
       "      <td>200</td>\n",
       "      <td>210</td>\n",
       "      <td>205</td>\n",
       "      <td>120</td>\n",
       "      <td>80</td>\n",
       "      <td>90</td>\n",
       "      <td>85</td>\n",
       "      <td>40.0</td>\n",
       "      <td>42.9</td>\n",
       "      <td>41.5</td>\n",
       "    </tr>\n",
       "    <tr>\n",
       "      <th>3</th>\n",
       "      <td>D</td>\n",
       "      <td>120</td>\n",
       "      <td>125</td>\n",
       "      <td>130</td>\n",
       "      <td>70</td>\n",
       "      <td>50</td>\n",
       "      <td>55</td>\n",
       "      <td>60</td>\n",
       "      <td>41.7</td>\n",
       "      <td>44.0</td>\n",
       "      <td>46.2</td>\n",
       "    </tr>\n",
       "    <tr>\n",
       "      <th>4</th>\n",
       "      <td>E</td>\n",
       "      <td>180</td>\n",
       "      <td>175</td>\n",
       "      <td>185</td>\n",
       "      <td>100</td>\n",
       "      <td>80</td>\n",
       "      <td>75</td>\n",
       "      <td>85</td>\n",
       "      <td>44.4</td>\n",
       "      <td>42.9</td>\n",
       "      <td>45.9</td>\n",
       "    </tr>\n",
       "  </tbody>\n",
       "</table>\n",
       "</div>"
      ],
      "text/plain": [
       "  product  price_jan  price_feb  price_mar  cost  profit_price_jan  \\\n",
       "0       A        100        105        110    60                40   \n",
       "1       B        150        145        155    90                60   \n",
       "2       C        200        210        205   120                80   \n",
       "3       D        120        125        130    70                50   \n",
       "4       E        180        175        185   100                80   \n",
       "\n",
       "   profit_price_feb  profit_price_mar  margin_price_jan  margin_price_feb  \\\n",
       "0                45                50              40.0              42.9   \n",
       "1                55                65              40.0              37.9   \n",
       "2                90                85              40.0              42.9   \n",
       "3                55                60              41.7              44.0   \n",
       "4                75                85              44.4              42.9   \n",
       "\n",
       "   margin_price_mar  \n",
       "0              45.5  \n",
       "1              41.9  \n",
       "2              41.5  \n",
       "3              46.2  \n",
       "4              45.9  "
      ]
     },
     "execution_count": 15,
     "metadata": {},
     "output_type": "execute_result"
    }
   ],
   "source": [
    "# More elegant approach using assign with dictionary comprehension\n",
    "df_multi2 = df_multi.assign(**{\n",
    "    f'margin_{col}': lambda x, col=col: (x[col] - x['cost']) / x[col] * 100\n",
    "    for col in price_cols\n",
    "})\n",
    "df_multi2.round(1)"
   ]
  },
  {
   "cell_type": "markdown",
   "id": "f6f97868",
   "metadata": {},
   "source": [
    "## Window Functions\n",
    "\n",
    "Creating columns with window calculations:"
   ]
  },
  {
   "cell_type": "code",
   "execution_count": 16,
   "id": "807280fa",
   "metadata": {},
   "outputs": [
    {
     "data": {
      "application/vnd.microsoft.datawrangler.viewer.v0+json": {
       "columns": [
        {
         "name": "index",
         "rawType": "int64",
         "type": "integer"
        },
        {
         "name": "date",
         "rawType": "datetime64[ns]",
         "type": "datetime"
        },
        {
         "name": "sales",
         "rawType": "int64",
         "type": "integer"
        },
        {
         "name": "rolling_mean_3d",
         "rawType": "float64",
         "type": "float"
        },
        {
         "name": "rolling_max_3d",
         "rawType": "float64",
         "type": "float"
        },
        {
         "name": "expanding_mean",
         "rawType": "float64",
         "type": "float"
        },
        {
         "name": "pct_change",
         "rawType": "float64",
         "type": "float"
        }
       ],
       "ref": "1ad4df0d-bfd4-4155-b6e2-55609d1bf9ab",
       "rows": [
        [
         "0",
         "2024-01-01 00:00:00",
         "100",
         null,
         null,
         "100.0",
         null
        ],
        [
         "1",
         "2024-01-02 00:00:00",
         "120",
         "111.7",
         null,
         "110.0",
         "20.0"
        ],
        [
         "2",
         "2024-01-03 00:00:00",
         "115",
         "121.7",
         "120.0",
         "111.7",
         "-4.2"
        ],
        [
         "3",
         "2024-01-04 00:00:00",
         "130",
         "123.3",
         "130.0",
         "116.2",
         "13.0"
        ],
        [
         "4",
         "2024-01-05 00:00:00",
         "125",
         "131.7",
         "130.0",
         "118.0",
         "-3.8"
        ],
        [
         "5",
         "2024-01-06 00:00:00",
         "140",
         "133.3",
         "140.0",
         "121.7",
         "12.0"
        ],
        [
         "6",
         "2024-01-07 00:00:00",
         "135",
         "141.7",
         "140.0",
         "123.6",
         "-3.6"
        ],
        [
         "7",
         "2024-01-08 00:00:00",
         "150",
         "143.3",
         "150.0",
         "126.9",
         "11.1"
        ],
        [
         "8",
         "2024-01-09 00:00:00",
         "145",
         "151.7",
         "150.0",
         "128.9",
         "-3.3"
        ],
        [
         "9",
         "2024-01-10 00:00:00",
         "160",
         null,
         "160.0",
         "132.0",
         "10.3"
        ]
       ],
       "shape": {
        "columns": 6,
        "rows": 10
       }
      },
      "text/html": [
       "<div>\n",
       "<style scoped>\n",
       "    .dataframe tbody tr th:only-of-type {\n",
       "        vertical-align: middle;\n",
       "    }\n",
       "\n",
       "    .dataframe tbody tr th {\n",
       "        vertical-align: top;\n",
       "    }\n",
       "\n",
       "    .dataframe thead th {\n",
       "        text-align: right;\n",
       "    }\n",
       "</style>\n",
       "<table border=\"1\" class=\"dataframe\">\n",
       "  <thead>\n",
       "    <tr style=\"text-align: right;\">\n",
       "      <th></th>\n",
       "      <th>date</th>\n",
       "      <th>sales</th>\n",
       "      <th>rolling_mean_3d</th>\n",
       "      <th>rolling_max_3d</th>\n",
       "      <th>expanding_mean</th>\n",
       "      <th>pct_change</th>\n",
       "    </tr>\n",
       "  </thead>\n",
       "  <tbody>\n",
       "    <tr>\n",
       "      <th>0</th>\n",
       "      <td>2024-01-01</td>\n",
       "      <td>100</td>\n",
       "      <td>NaN</td>\n",
       "      <td>NaN</td>\n",
       "      <td>100.0</td>\n",
       "      <td>NaN</td>\n",
       "    </tr>\n",
       "    <tr>\n",
       "      <th>1</th>\n",
       "      <td>2024-01-02</td>\n",
       "      <td>120</td>\n",
       "      <td>111.7</td>\n",
       "      <td>NaN</td>\n",
       "      <td>110.0</td>\n",
       "      <td>20.0</td>\n",
       "    </tr>\n",
       "    <tr>\n",
       "      <th>2</th>\n",
       "      <td>2024-01-03</td>\n",
       "      <td>115</td>\n",
       "      <td>121.7</td>\n",
       "      <td>120.0</td>\n",
       "      <td>111.7</td>\n",
       "      <td>-4.2</td>\n",
       "    </tr>\n",
       "    <tr>\n",
       "      <th>3</th>\n",
       "      <td>2024-01-04</td>\n",
       "      <td>130</td>\n",
       "      <td>123.3</td>\n",
       "      <td>130.0</td>\n",
       "      <td>116.2</td>\n",
       "      <td>13.0</td>\n",
       "    </tr>\n",
       "    <tr>\n",
       "      <th>4</th>\n",
       "      <td>2024-01-05</td>\n",
       "      <td>125</td>\n",
       "      <td>131.7</td>\n",
       "      <td>130.0</td>\n",
       "      <td>118.0</td>\n",
       "      <td>-3.8</td>\n",
       "    </tr>\n",
       "    <tr>\n",
       "      <th>5</th>\n",
       "      <td>2024-01-06</td>\n",
       "      <td>140</td>\n",
       "      <td>133.3</td>\n",
       "      <td>140.0</td>\n",
       "      <td>121.7</td>\n",
       "      <td>12.0</td>\n",
       "    </tr>\n",
       "    <tr>\n",
       "      <th>6</th>\n",
       "      <td>2024-01-07</td>\n",
       "      <td>135</td>\n",
       "      <td>141.7</td>\n",
       "      <td>140.0</td>\n",
       "      <td>123.6</td>\n",
       "      <td>-3.6</td>\n",
       "    </tr>\n",
       "    <tr>\n",
       "      <th>7</th>\n",
       "      <td>2024-01-08</td>\n",
       "      <td>150</td>\n",
       "      <td>143.3</td>\n",
       "      <td>150.0</td>\n",
       "      <td>126.9</td>\n",
       "      <td>11.1</td>\n",
       "    </tr>\n",
       "    <tr>\n",
       "      <th>8</th>\n",
       "      <td>2024-01-09</td>\n",
       "      <td>145</td>\n",
       "      <td>151.7</td>\n",
       "      <td>150.0</td>\n",
       "      <td>128.9</td>\n",
       "      <td>-3.3</td>\n",
       "    </tr>\n",
       "    <tr>\n",
       "      <th>9</th>\n",
       "      <td>2024-01-10</td>\n",
       "      <td>160</td>\n",
       "      <td>NaN</td>\n",
       "      <td>160.0</td>\n",
       "      <td>132.0</td>\n",
       "      <td>10.3</td>\n",
       "    </tr>\n",
       "  </tbody>\n",
       "</table>\n",
       "</div>"
      ],
      "text/plain": [
       "        date  sales  rolling_mean_3d  rolling_max_3d  expanding_mean  \\\n",
       "0 2024-01-01    100              NaN             NaN           100.0   \n",
       "1 2024-01-02    120            111.7             NaN           110.0   \n",
       "2 2024-01-03    115            121.7           120.0           111.7   \n",
       "3 2024-01-04    130            123.3           130.0           116.2   \n",
       "4 2024-01-05    125            131.7           130.0           118.0   \n",
       "5 2024-01-06    140            133.3           140.0           121.7   \n",
       "6 2024-01-07    135            141.7           140.0           123.6   \n",
       "7 2024-01-08    150            143.3           150.0           126.9   \n",
       "8 2024-01-09    145            151.7           150.0           128.9   \n",
       "9 2024-01-10    160              NaN           160.0           132.0   \n",
       "\n",
       "   pct_change  \n",
       "0         NaN  \n",
       "1        20.0  \n",
       "2        -4.2  \n",
       "3        13.0  \n",
       "4        -3.8  \n",
       "5        12.0  \n",
       "6        -3.6  \n",
       "7        11.1  \n",
       "8        -3.3  \n",
       "9        10.3  "
      ]
     },
     "execution_count": 16,
     "metadata": {},
     "output_type": "execute_result"
    }
   ],
   "source": [
    "# Create time series data\n",
    "df_window = pd.DataFrame({\n",
    "    'date': pd.date_range('2024-01-01', periods=10),\n",
    "    'sales': [100, 120, 115, 130, 125, 140, 135, 150, 145, 160]\n",
    "})\n",
    "\n",
    "# Rolling calculations\n",
    "# R: mutate(df, \n",
    "#           rolling_mean = rollmean(sales, k = 3, fill = NA),\n",
    "#           rolling_max = rollmax(sales, k = 3, fill = NA))\n",
    "df_window_calc = df_window.assign(\n",
    "    rolling_mean_3d = lambda x: x['sales'].rolling(window=3, center=True).mean(),\n",
    "    rolling_max_3d = lambda x: x['sales'].rolling(window=3).max(),\n",
    "    expanding_mean = lambda x: x['sales'].expanding().mean(),\n",
    "    pct_change = lambda x: x['sales'].pct_change() * 100\n",
    ")\n",
    "df_window_calc.round(1)"
   ]
  },
  {
   "cell_type": "markdown",
   "id": "5d968b7a",
   "metadata": {},
   "source": [
    "## Advanced Transformations\n",
    "\n",
    "Complex transformations using multiple techniques:"
   ]
  },
  {
   "cell_type": "code",
   "execution_count": 17,
   "id": "12b79645",
   "metadata": {},
   "outputs": [
    {
     "data": {
      "application/vnd.microsoft.datawrangler.viewer.v0+json": {
       "columns": [
        {
         "name": "index",
         "rawType": "int64",
         "type": "integer"
        },
        {
         "name": "customer_id",
         "rawType": "int64",
         "type": "integer"
        },
        {
         "name": "purchase_date",
         "rawType": "datetime64[ns]",
         "type": "datetime"
        },
        {
         "name": "amount",
         "rawType": "int64",
         "type": "integer"
        },
        {
         "name": "category",
         "rawType": "object",
         "type": "string"
        },
        {
         "name": "payment_method",
         "rawType": "object",
         "type": "string"
        },
        {
         "name": "purchase_month",
         "rawType": "period[M]",
         "type": "unknown"
        },
        {
         "name": "day_of_week",
         "rawType": "object",
         "type": "string"
        },
        {
         "name": "is_weekend",
         "rawType": "bool",
         "type": "boolean"
        },
        {
         "name": "amount_category",
         "rawType": "category",
         "type": "unknown"
        },
        {
         "name": "log_amount",
         "rawType": "float64",
         "type": "float"
        },
        {
         "name": "cumulative_amount",
         "rawType": "int64",
         "type": "integer"
        },
        {
         "name": "running_avg",
         "rawType": "float64",
         "type": "float"
        },
        {
         "name": "discount_eligible",
         "rawType": "bool",
         "type": "boolean"
        },
        {
         "name": "discount_amount",
         "rawType": "float64",
         "type": "float"
        },
        {
         "name": "final_amount",
         "rawType": "float64",
         "type": "float"
        },
        {
         "name": "discount_pct",
         "rawType": "float64",
         "type": "float"
        }
       ],
       "ref": "3d9eedd9-e50f-4b81-bb13-4ab9866176cc",
       "rows": [
        [
         "0",
         "1001",
         "2024-01-01 00:00:00",
         "152",
         "Food",
         "Debit",
         "2024-01",
         "Monday",
         "False",
         "Low",
         "5.0238805208462765",
         "152",
         "152.0",
         "False",
         "0.0",
         "152.0",
         "0.0"
        ],
        [
         "1",
         "1002",
         "2024-01-02 00:00:00",
         "485",
         "Food",
         "Debit",
         "2024-01",
         "Tuesday",
         "False",
         "High",
         "6.184148890937483",
         "637",
         "318.5",
         "False",
         "0.0",
         "485.0",
         "0.0"
        ],
        [
         "2",
         "1003",
         "2024-01-03 00:00:00",
         "398",
         "Food",
         "Credit",
         "2024-01",
         "Wednesday",
         "False",
         "High",
         "5.986452005284438",
         "1035",
         "345.0",
         "True",
         "39.800000000000004",
         "358.2",
         "10.0"
        ],
        [
         "3",
         "1004",
         "2024-01-04 00:00:00",
         "320",
         "Food",
         "Credit",
         "2024-01",
         "Thursday",
         "False",
         "High",
         "5.768320995793772",
         "1355",
         "338.75",
         "True",
         "32.0",
         "288.0",
         "10.0"
        ],
        [
         "4",
         "1005",
         "2024-01-05 00:00:00",
         "156",
         "Electronics",
         "Debit",
         "2024-01",
         "Friday",
         "False",
         "Medium",
         "5.049856007249537",
         "1511",
         "302.2",
         "False",
         "0.0",
         "156.0",
         "0.0"
        ],
        [
         "5",
         "1006",
         "2024-01-06 00:00:00",
         "121",
         "Food",
         "Debit",
         "2024-01",
         "Saturday",
         "True",
         "Low",
         "4.795790545596741",
         "1632",
         "272.0",
         "False",
         "0.0",
         "121.0",
         "0.0"
        ],
        [
         "6",
         "1007",
         "2024-01-07 00:00:00",
         "238",
         "Clothing",
         "Credit",
         "2024-01",
         "Sunday",
         "True",
         "High",
         "5.472270673671475",
         "1870",
         "267.14285714285717",
         "True",
         "23.8",
         "214.2",
         "10.0"
        ],
        [
         "7",
         "1008",
         "2024-01-08 00:00:00",
         "70",
         "Electronics",
         "Credit",
         "2024-01",
         "Monday",
         "False",
         "Low",
         "4.248495242049359",
         "1940",
         "242.5",
         "False",
         "0.0",
         "70.0",
         "0.0"
        ],
        [
         "8",
         "1009",
         "2024-01-09 00:00:00",
         "152",
         "Clothing",
         "Credit",
         "2024-01",
         "Tuesday",
         "False",
         "Low",
         "5.0238805208462765",
         "2092",
         "232.44444444444446",
         "False",
         "0.0",
         "152.0",
         "0.0"
        ],
        [
         "9",
         "1010",
         "2024-01-10 00:00:00",
         "171",
         "Clothing",
         "Cash",
         "2024-01",
         "Wednesday",
         "False",
         "Medium",
         "5.14166355650266",
         "2263",
         "226.3",
         "False",
         "0.0",
         "171.0",
         "0.0"
        ]
       ],
       "shape": {
        "columns": 16,
        "rows": 10
       }
      },
      "text/html": [
       "<div>\n",
       "<style scoped>\n",
       "    .dataframe tbody tr th:only-of-type {\n",
       "        vertical-align: middle;\n",
       "    }\n",
       "\n",
       "    .dataframe tbody tr th {\n",
       "        vertical-align: top;\n",
       "    }\n",
       "\n",
       "    .dataframe thead th {\n",
       "        text-align: right;\n",
       "    }\n",
       "</style>\n",
       "<table border=\"1\" class=\"dataframe\">\n",
       "  <thead>\n",
       "    <tr style=\"text-align: right;\">\n",
       "      <th></th>\n",
       "      <th>customer_id</th>\n",
       "      <th>purchase_date</th>\n",
       "      <th>amount</th>\n",
       "      <th>category</th>\n",
       "      <th>payment_method</th>\n",
       "      <th>purchase_month</th>\n",
       "      <th>day_of_week</th>\n",
       "      <th>is_weekend</th>\n",
       "      <th>amount_category</th>\n",
       "      <th>log_amount</th>\n",
       "      <th>cumulative_amount</th>\n",
       "      <th>running_avg</th>\n",
       "      <th>discount_eligible</th>\n",
       "      <th>discount_amount</th>\n",
       "      <th>final_amount</th>\n",
       "      <th>discount_pct</th>\n",
       "    </tr>\n",
       "  </thead>\n",
       "  <tbody>\n",
       "    <tr>\n",
       "      <th>0</th>\n",
       "      <td>1001</td>\n",
       "      <td>2024-01-01</td>\n",
       "      <td>152</td>\n",
       "      <td>Food</td>\n",
       "      <td>Debit</td>\n",
       "      <td>2024-01</td>\n",
       "      <td>Monday</td>\n",
       "      <td>False</td>\n",
       "      <td>Low</td>\n",
       "      <td>5.023881</td>\n",
       "      <td>152</td>\n",
       "      <td>152.000000</td>\n",
       "      <td>False</td>\n",
       "      <td>0.0</td>\n",
       "      <td>152.0</td>\n",
       "      <td>0.0</td>\n",
       "    </tr>\n",
       "    <tr>\n",
       "      <th>1</th>\n",
       "      <td>1002</td>\n",
       "      <td>2024-01-02</td>\n",
       "      <td>485</td>\n",
       "      <td>Food</td>\n",
       "      <td>Debit</td>\n",
       "      <td>2024-01</td>\n",
       "      <td>Tuesday</td>\n",
       "      <td>False</td>\n",
       "      <td>High</td>\n",
       "      <td>6.184149</td>\n",
       "      <td>637</td>\n",
       "      <td>318.500000</td>\n",
       "      <td>False</td>\n",
       "      <td>0.0</td>\n",
       "      <td>485.0</td>\n",
       "      <td>0.0</td>\n",
       "    </tr>\n",
       "    <tr>\n",
       "      <th>2</th>\n",
       "      <td>1003</td>\n",
       "      <td>2024-01-03</td>\n",
       "      <td>398</td>\n",
       "      <td>Food</td>\n",
       "      <td>Credit</td>\n",
       "      <td>2024-01</td>\n",
       "      <td>Wednesday</td>\n",
       "      <td>False</td>\n",
       "      <td>High</td>\n",
       "      <td>5.986452</td>\n",
       "      <td>1035</td>\n",
       "      <td>345.000000</td>\n",
       "      <td>True</td>\n",
       "      <td>39.8</td>\n",
       "      <td>358.2</td>\n",
       "      <td>10.0</td>\n",
       "    </tr>\n",
       "    <tr>\n",
       "      <th>3</th>\n",
       "      <td>1004</td>\n",
       "      <td>2024-01-04</td>\n",
       "      <td>320</td>\n",
       "      <td>Food</td>\n",
       "      <td>Credit</td>\n",
       "      <td>2024-01</td>\n",
       "      <td>Thursday</td>\n",
       "      <td>False</td>\n",
       "      <td>High</td>\n",
       "      <td>5.768321</td>\n",
       "      <td>1355</td>\n",
       "      <td>338.750000</td>\n",
       "      <td>True</td>\n",
       "      <td>32.0</td>\n",
       "      <td>288.0</td>\n",
       "      <td>10.0</td>\n",
       "    </tr>\n",
       "    <tr>\n",
       "      <th>4</th>\n",
       "      <td>1005</td>\n",
       "      <td>2024-01-05</td>\n",
       "      <td>156</td>\n",
       "      <td>Electronics</td>\n",
       "      <td>Debit</td>\n",
       "      <td>2024-01</td>\n",
       "      <td>Friday</td>\n",
       "      <td>False</td>\n",
       "      <td>Medium</td>\n",
       "      <td>5.049856</td>\n",
       "      <td>1511</td>\n",
       "      <td>302.200000</td>\n",
       "      <td>False</td>\n",
       "      <td>0.0</td>\n",
       "      <td>156.0</td>\n",
       "      <td>0.0</td>\n",
       "    </tr>\n",
       "    <tr>\n",
       "      <th>5</th>\n",
       "      <td>1006</td>\n",
       "      <td>2024-01-06</td>\n",
       "      <td>121</td>\n",
       "      <td>Food</td>\n",
       "      <td>Debit</td>\n",
       "      <td>2024-01</td>\n",
       "      <td>Saturday</td>\n",
       "      <td>True</td>\n",
       "      <td>Low</td>\n",
       "      <td>4.795791</td>\n",
       "      <td>1632</td>\n",
       "      <td>272.000000</td>\n",
       "      <td>False</td>\n",
       "      <td>0.0</td>\n",
       "      <td>121.0</td>\n",
       "      <td>0.0</td>\n",
       "    </tr>\n",
       "    <tr>\n",
       "      <th>6</th>\n",
       "      <td>1007</td>\n",
       "      <td>2024-01-07</td>\n",
       "      <td>238</td>\n",
       "      <td>Clothing</td>\n",
       "      <td>Credit</td>\n",
       "      <td>2024-01</td>\n",
       "      <td>Sunday</td>\n",
       "      <td>True</td>\n",
       "      <td>High</td>\n",
       "      <td>5.472271</td>\n",
       "      <td>1870</td>\n",
       "      <td>267.142857</td>\n",
       "      <td>True</td>\n",
       "      <td>23.8</td>\n",
       "      <td>214.2</td>\n",
       "      <td>10.0</td>\n",
       "    </tr>\n",
       "    <tr>\n",
       "      <th>7</th>\n",
       "      <td>1008</td>\n",
       "      <td>2024-01-08</td>\n",
       "      <td>70</td>\n",
       "      <td>Electronics</td>\n",
       "      <td>Credit</td>\n",
       "      <td>2024-01</td>\n",
       "      <td>Monday</td>\n",
       "      <td>False</td>\n",
       "      <td>Low</td>\n",
       "      <td>4.248495</td>\n",
       "      <td>1940</td>\n",
       "      <td>242.500000</td>\n",
       "      <td>False</td>\n",
       "      <td>0.0</td>\n",
       "      <td>70.0</td>\n",
       "      <td>0.0</td>\n",
       "    </tr>\n",
       "    <tr>\n",
       "      <th>8</th>\n",
       "      <td>1009</td>\n",
       "      <td>2024-01-09</td>\n",
       "      <td>152</td>\n",
       "      <td>Clothing</td>\n",
       "      <td>Credit</td>\n",
       "      <td>2024-01</td>\n",
       "      <td>Tuesday</td>\n",
       "      <td>False</td>\n",
       "      <td>Low</td>\n",
       "      <td>5.023881</td>\n",
       "      <td>2092</td>\n",
       "      <td>232.444444</td>\n",
       "      <td>False</td>\n",
       "      <td>0.0</td>\n",
       "      <td>152.0</td>\n",
       "      <td>0.0</td>\n",
       "    </tr>\n",
       "    <tr>\n",
       "      <th>9</th>\n",
       "      <td>1010</td>\n",
       "      <td>2024-01-10</td>\n",
       "      <td>171</td>\n",
       "      <td>Clothing</td>\n",
       "      <td>Cash</td>\n",
       "      <td>2024-01</td>\n",
       "      <td>Wednesday</td>\n",
       "      <td>False</td>\n",
       "      <td>Medium</td>\n",
       "      <td>5.141664</td>\n",
       "      <td>2263</td>\n",
       "      <td>226.300000</td>\n",
       "      <td>False</td>\n",
       "      <td>0.0</td>\n",
       "      <td>171.0</td>\n",
       "      <td>0.0</td>\n",
       "    </tr>\n",
       "  </tbody>\n",
       "</table>\n",
       "</div>"
      ],
      "text/plain": [
       "   customer_id purchase_date  amount     category payment_method  \\\n",
       "0         1001    2024-01-01     152         Food          Debit   \n",
       "1         1002    2024-01-02     485         Food          Debit   \n",
       "2         1003    2024-01-03     398         Food         Credit   \n",
       "3         1004    2024-01-04     320         Food         Credit   \n",
       "4         1005    2024-01-05     156  Electronics          Debit   \n",
       "5         1006    2024-01-06     121         Food          Debit   \n",
       "6         1007    2024-01-07     238     Clothing         Credit   \n",
       "7         1008    2024-01-08      70  Electronics         Credit   \n",
       "8         1009    2024-01-09     152     Clothing         Credit   \n",
       "9         1010    2024-01-10     171     Clothing           Cash   \n",
       "\n",
       "  purchase_month day_of_week  is_weekend amount_category  log_amount  \\\n",
       "0        2024-01      Monday       False             Low    5.023881   \n",
       "1        2024-01     Tuesday       False            High    6.184149   \n",
       "2        2024-01   Wednesday       False            High    5.986452   \n",
       "3        2024-01    Thursday       False            High    5.768321   \n",
       "4        2024-01      Friday       False          Medium    5.049856   \n",
       "5        2024-01    Saturday        True             Low    4.795791   \n",
       "6        2024-01      Sunday        True            High    5.472271   \n",
       "7        2024-01      Monday       False             Low    4.248495   \n",
       "8        2024-01     Tuesday       False             Low    5.023881   \n",
       "9        2024-01   Wednesday       False          Medium    5.141664   \n",
       "\n",
       "   cumulative_amount  running_avg  discount_eligible  discount_amount  \\\n",
       "0                152   152.000000              False              0.0   \n",
       "1                637   318.500000              False              0.0   \n",
       "2               1035   345.000000               True             39.8   \n",
       "3               1355   338.750000               True             32.0   \n",
       "4               1511   302.200000              False              0.0   \n",
       "5               1632   272.000000              False              0.0   \n",
       "6               1870   267.142857               True             23.8   \n",
       "7               1940   242.500000              False              0.0   \n",
       "8               2092   232.444444              False              0.0   \n",
       "9               2263   226.300000              False              0.0   \n",
       "\n",
       "   final_amount  discount_pct  \n",
       "0         152.0           0.0  \n",
       "1         485.0           0.0  \n",
       "2         358.2          10.0  \n",
       "3         288.0          10.0  \n",
       "4         156.0           0.0  \n",
       "5         121.0           0.0  \n",
       "6         214.2          10.0  \n",
       "7          70.0           0.0  \n",
       "8         152.0           0.0  \n",
       "9         171.0           0.0  "
      ]
     },
     "execution_count": 17,
     "metadata": {},
     "output_type": "execute_result"
    }
   ],
   "source": [
    "# Create a more complex dataset\n",
    "np.random.seed(42)\n",
    "df_advanced = pd.DataFrame({\n",
    "    'customer_id': range(1001, 1011),\n",
    "    'purchase_date': pd.date_range('2024-01-01', periods=10),\n",
    "    'amount': np.random.randint(50, 500, 10),\n",
    "    'category': np.random.choice(['Electronics', 'Clothing', 'Food'], 10),\n",
    "    'payment_method': np.random.choice(['Credit', 'Debit', 'Cash'], 10)\n",
    "})\n",
    "\n",
    "# Complex transformations\n",
    "df_result = (df_advanced\n",
    "    .assign(\n",
    "        # Date features\n",
    "        purchase_month = lambda x: x['purchase_date'].dt.to_period('M'),\n",
    "        day_of_week = lambda x: x['purchase_date'].dt.day_name(),\n",
    "        is_weekend = lambda x: x['purchase_date'].dt.dayofweek.isin([5, 6]),\n",
    "        \n",
    "        # Amount features\n",
    "        amount_category = lambda x: pd.qcut(x['amount'], q=3, labels=['Low', 'Medium', 'High']),\n",
    "        log_amount = lambda x: np.log(x['amount']),\n",
    "        \n",
    "        # Running calculations\n",
    "        cumulative_amount = lambda x: x['amount'].cumsum(),\n",
    "        running_avg = lambda x: x['amount'].expanding().mean(),\n",
    "        \n",
    "        # Conditional features\n",
    "        discount_eligible = lambda x: (x['amount'] > 200) & (x['payment_method'] == 'Credit'),\n",
    "        discount_amount = lambda x: np.where(x['discount_eligible'], x['amount'] * 0.1, 0)\n",
    "    )\n",
    "    .assign(\n",
    "        # Features dependent on previous calculations\n",
    "        final_amount = lambda x: x['amount'] - x['discount_amount'],\n",
    "        discount_pct = lambda x: (x['discount_amount'] / x['amount'] * 100).round(1)\n",
    "    )\n",
    ")\n",
    "\n",
    "df_result"
   ]
  },
  {
   "cell_type": "markdown",
   "id": "09696aa8",
   "metadata": {},
   "source": [
    "## Creating Helper Functions\n",
    "\n",
    "Make column creation more tidyverse-like:"
   ]
  },
  {
   "cell_type": "code",
   "execution_count": 18,
   "id": "70f96dc6",
   "metadata": {},
   "outputs": [
    {
     "data": {
      "application/vnd.microsoft.datawrangler.viewer.v0+json": {
       "columns": [
        {
         "name": "index",
         "rawType": "int64",
         "type": "integer"
        },
        {
         "name": "x",
         "rawType": "int64",
         "type": "integer"
        },
        {
         "name": "y",
         "rawType": "int64",
         "type": "integer"
        },
        {
         "name": "z",
         "rawType": "int64",
         "type": "integer"
        },
        {
         "name": "x_squared",
         "rawType": "int64",
         "type": "integer"
        },
        {
         "name": "ratio",
         "rawType": "float64",
         "type": "float"
        }
       ],
       "ref": "bb038474-183a-4e78-8670-f249c87a47af",
       "rows": [
        [
         "0",
         "1",
         "2",
         "3",
         "1",
         "2.0"
        ],
        [
         "1",
         "2",
         "4",
         "6",
         "4",
         "2.0"
        ],
        [
         "2",
         "3",
         "6",
         "9",
         "9",
         "2.0"
        ],
        [
         "3",
         "4",
         "8",
         "12",
         "16",
         "2.0"
        ],
        [
         "4",
         "5",
         "10",
         "15",
         "25",
         "2.0"
        ]
       ],
       "shape": {
        "columns": 5,
        "rows": 5
       }
      },
      "text/html": [
       "<div>\n",
       "<style scoped>\n",
       "    .dataframe tbody tr th:only-of-type {\n",
       "        vertical-align: middle;\n",
       "    }\n",
       "\n",
       "    .dataframe tbody tr th {\n",
       "        vertical-align: top;\n",
       "    }\n",
       "\n",
       "    .dataframe thead th {\n",
       "        text-align: right;\n",
       "    }\n",
       "</style>\n",
       "<table border=\"1\" class=\"dataframe\">\n",
       "  <thead>\n",
       "    <tr style=\"text-align: right;\">\n",
       "      <th></th>\n",
       "      <th>x</th>\n",
       "      <th>y</th>\n",
       "      <th>z</th>\n",
       "      <th>x_squared</th>\n",
       "      <th>ratio</th>\n",
       "    </tr>\n",
       "  </thead>\n",
       "  <tbody>\n",
       "    <tr>\n",
       "      <th>0</th>\n",
       "      <td>1</td>\n",
       "      <td>2</td>\n",
       "      <td>3</td>\n",
       "      <td>1</td>\n",
       "      <td>2.0</td>\n",
       "    </tr>\n",
       "    <tr>\n",
       "      <th>1</th>\n",
       "      <td>2</td>\n",
       "      <td>4</td>\n",
       "      <td>6</td>\n",
       "      <td>4</td>\n",
       "      <td>2.0</td>\n",
       "    </tr>\n",
       "    <tr>\n",
       "      <th>2</th>\n",
       "      <td>3</td>\n",
       "      <td>6</td>\n",
       "      <td>9</td>\n",
       "      <td>9</td>\n",
       "      <td>2.0</td>\n",
       "    </tr>\n",
       "    <tr>\n",
       "      <th>3</th>\n",
       "      <td>4</td>\n",
       "      <td>8</td>\n",
       "      <td>12</td>\n",
       "      <td>16</td>\n",
       "      <td>2.0</td>\n",
       "    </tr>\n",
       "    <tr>\n",
       "      <th>4</th>\n",
       "      <td>5</td>\n",
       "      <td>10</td>\n",
       "      <td>15</td>\n",
       "      <td>25</td>\n",
       "      <td>2.0</td>\n",
       "    </tr>\n",
       "  </tbody>\n",
       "</table>\n",
       "</div>"
      ],
      "text/plain": [
       "   x   y   z  x_squared  ratio\n",
       "0  1   2   3          1    2.0\n",
       "1  2   4   6          4    2.0\n",
       "2  3   6   9          9    2.0\n",
       "3  4   8  12         16    2.0\n",
       "4  5  10  15         25    2.0"
      ]
     },
     "execution_count": 18,
     "metadata": {},
     "output_type": "execute_result"
    }
   ],
   "source": [
    "def mutate(df, **kwargs):\n",
    "    \"\"\"Add or modify columns using keyword arguments\"\"\"\n",
    "    return df.assign(**kwargs)\n",
    "\n",
    "def transmute(df, **kwargs):\n",
    "    \"\"\"Create new DataFrame with only specified columns\"\"\"\n",
    "    return pd.DataFrame(kwargs)\n",
    "\n",
    "# Usage examples\n",
    "df_example = pd.DataFrame({\n",
    "    'x': [1, 2, 3, 4, 5],\n",
    "    'y': [2, 4, 6, 8, 10]\n",
    "})\n",
    "\n",
    "# Using mutate helper\n",
    "df_mutated = mutate(df_example,\n",
    "    z = lambda df: df['x'] + df['y'],\n",
    "    x_squared = lambda df: df['x'] ** 2,\n",
    "    ratio = lambda df: df['y'] / df['x']\n",
    ")\n",
    "df_mutated"
   ]
  },
  {
   "cell_type": "code",
   "execution_count": 19,
   "id": "42f24b95",
   "metadata": {},
   "outputs": [
    {
     "data": {
      "application/vnd.microsoft.datawrangler.viewer.v0+json": {
       "columns": [
        {
         "name": "index",
         "rawType": "int64",
         "type": "integer"
        },
        {
         "name": "sum_xy",
         "rawType": "int64",
         "type": "integer"
        },
        {
         "name": "product_xy",
         "rawType": "int64",
         "type": "integer"
        },
        {
         "name": "mean_xy",
         "rawType": "float64",
         "type": "float"
        }
       ],
       "ref": "695c6474-1112-48e3-baab-eb281873d9f3",
       "rows": [
        [
         "0",
         "3",
         "2",
         "1.5"
        ],
        [
         "1",
         "6",
         "8",
         "3.0"
        ],
        [
         "2",
         "9",
         "18",
         "4.5"
        ],
        [
         "3",
         "12",
         "32",
         "6.0"
        ],
        [
         "4",
         "15",
         "50",
         "7.5"
        ]
       ],
       "shape": {
        "columns": 3,
        "rows": 5
       }
      },
      "text/html": [
       "<div>\n",
       "<style scoped>\n",
       "    .dataframe tbody tr th:only-of-type {\n",
       "        vertical-align: middle;\n",
       "    }\n",
       "\n",
       "    .dataframe tbody tr th {\n",
       "        vertical-align: top;\n",
       "    }\n",
       "\n",
       "    .dataframe thead th {\n",
       "        text-align: right;\n",
       "    }\n",
       "</style>\n",
       "<table border=\"1\" class=\"dataframe\">\n",
       "  <thead>\n",
       "    <tr style=\"text-align: right;\">\n",
       "      <th></th>\n",
       "      <th>sum_xy</th>\n",
       "      <th>product_xy</th>\n",
       "      <th>mean_xy</th>\n",
       "    </tr>\n",
       "  </thead>\n",
       "  <tbody>\n",
       "    <tr>\n",
       "      <th>0</th>\n",
       "      <td>3</td>\n",
       "      <td>2</td>\n",
       "      <td>1.5</td>\n",
       "    </tr>\n",
       "    <tr>\n",
       "      <th>1</th>\n",
       "      <td>6</td>\n",
       "      <td>8</td>\n",
       "      <td>3.0</td>\n",
       "    </tr>\n",
       "    <tr>\n",
       "      <th>2</th>\n",
       "      <td>9</td>\n",
       "      <td>18</td>\n",
       "      <td>4.5</td>\n",
       "    </tr>\n",
       "    <tr>\n",
       "      <th>3</th>\n",
       "      <td>12</td>\n",
       "      <td>32</td>\n",
       "      <td>6.0</td>\n",
       "    </tr>\n",
       "    <tr>\n",
       "      <th>4</th>\n",
       "      <td>15</td>\n",
       "      <td>50</td>\n",
       "      <td>7.5</td>\n",
       "    </tr>\n",
       "  </tbody>\n",
       "</table>\n",
       "</div>"
      ],
      "text/plain": [
       "   sum_xy  product_xy  mean_xy\n",
       "0       3           2      1.5\n",
       "1       6           8      3.0\n",
       "2       9          18      4.5\n",
       "3      12          32      6.0\n",
       "4      15          50      7.5"
      ]
     },
     "execution_count": 19,
     "metadata": {},
     "output_type": "execute_result"
    }
   ],
   "source": [
    "# Using transmute helper (only keeps new columns)\n",
    "df_transmuted = transmute(df_example,\n",
    "    sum_xy = df_example['x'] + df_example['y'],\n",
    "    product_xy = df_example['x'] * df_example['y'],\n",
    "    mean_xy = (df_example['x'] + df_example['y']) / 2\n",
    ")\n",
    "df_transmuted"
   ]
  },
  {
   "cell_type": "markdown",
   "id": "3d79734c",
   "metadata": {},
   "source": [
    "## Performance Tips\n",
    "\n",
    "Efficient column creation strategies:"
   ]
  },
  {
   "cell_type": "code",
   "execution_count": 20,
   "id": "cbaa4e65",
   "metadata": {},
   "outputs": [
    {
     "name": "stdout",
     "output_type": "stream",
     "text": [
      "Direct assignment: 0.0004 seconds\n",
      "Assign method: 0.0017 seconds\n",
      "Eval method: 0.0025 seconds\n"
     ]
    }
   ],
   "source": [
    "# Create large DataFrame for performance testing\n",
    "large_df = pd.DataFrame({\n",
    "    'A': np.random.randn(100000),\n",
    "    'B': np.random.randn(100000),\n",
    "    'C': np.random.choice(['X', 'Y', 'Z'], 100000)\n",
    "})\n",
    "\n",
    "import time\n",
    "\n",
    "# Method 1: Direct assignment (fastest for single column)\n",
    "start = time.time()\n",
    "large_df['D'] = large_df['A'] + large_df['B']\n",
    "print(f\"Direct assignment: {time.time() - start:.4f} seconds\")\n",
    "\n",
    "# Method 2: assign() method\n",
    "start = time.time()\n",
    "large_df = large_df.assign(E = lambda x: x['A'] * x['B'])\n",
    "print(f\"Assign method: {time.time() - start:.4f} seconds\")\n",
    "\n",
    "# Method 3: eval() for complex expressions (memory efficient)\n",
    "start = time.time()\n",
    "large_df['F'] = large_df.eval('A + B * 2')\n",
    "print(f\"Eval method: {time.time() - start:.4f} seconds\")"
   ]
  }
 ],
 "metadata": {
  "kernelspec": {
   "display_name": "ds-env",
   "language": "python",
   "name": "python3"
  },
  "language_info": {
   "codemirror_mode": {
    "name": "ipython",
    "version": 3
   },
   "file_extension": ".py",
   "mimetype": "text/x-python",
   "name": "python",
   "nbconvert_exporter": "python",
   "pygments_lexer": "ipython3",
   "version": "3.12.9"
  }
 },
 "nbformat": 4,
 "nbformat_minor": 5
}
