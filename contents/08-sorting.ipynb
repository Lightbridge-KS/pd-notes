{
 "cells": [
  {
   "cell_type": "markdown",
   "id": "7d8bcf4a",
   "metadata": {},
   "source": [
    "# Arranging & Sorting\n",
    "\n",
    "Sorting data is a fundamental operation that helps reveal patterns and prepare data for analysis. While R's `dplyr::arrange()` provides a clean interface for sorting, pandas offers flexible sorting capabilities through `sort_values()` and `sort_index()`. This chapter will show you how to achieve tidyverse-style sorting in pandas."
   ]
  },
  {
   "cell_type": "markdown",
   "id": "1cb3a02f",
   "metadata": {},
   "source": [
    "## Best Practices Summary\n",
    "\n",
    "Quick reference for sorting patterns:\n",
    "\n",
    "| Task | R (dplyr) | Pandas |\n",
    "|------|-----------|--------|\n",
    "| Simple sort | `arrange(df, col)` | `df.sort_values('col')` |\n",
    "| Descending | `arrange(df, desc(col))` | `df.sort_values('col', ascending=False)` |\n",
    "| Multiple columns | `arrange(df, col1, col2)` | `df.sort_values(['col1', 'col2'])` |\n",
    "| Mixed order | `arrange(df, col1, desc(col2))` | `df.sort_values(['col1', 'col2'], ascending=[True, False])` |\n",
    "| NA position | `arrange(df, col)` | `df.sort_values('col', na_position='last')` |\n",
    "| Top N | `slice_max(df, col, n=5)` | `df.nlargest(5, 'col')` |\n",
    "| Bottom N | `slice_min(df, col, n=5)` | `df.nsmallest(5, 'col')` |\n",
    "| By string length | `arrange(df, nchar(col))` | `df.sort_values('col', key=lambda x: x.str.len())` |\n",
    "| Within groups | `group_by(df, g) %>% arrange(col)` | `df.sort_values(['g', 'col'])` |"
   ]
  },
  {
   "cell_type": "markdown",
   "id": "e593ffa8",
   "metadata": {},
   "source": [
    "## Tips for Tidyverse Users\n",
    "\n",
    "1. **Use `sort_values()` not `sort()`**: The `sort()` method is deprecated; always use `sort_values()`.\n",
    "\n",
    "2. **Remember ascending parameter**: It accepts both single boolean or list of booleans for multiple columns.\n",
    "\n",
    "3. **Consider `nlargest/nsmallest`**: Often faster than sorting everything when you only need top/bottom rows.\n",
    "\n",
    "4. **Chain sorting operations**: Sorting works well in method chains:\n",
    "   ```python\n",
    "   (df\n",
    "    .query('salary > 70000')\n",
    "    .sort_values('performance', ascending=False)\n",
    "    .head(10))\n",
    "   ```\n",
    "\n",
    "5. **Use `key` parameter**: For custom sorting logic, the `key` parameter (pandas 1.1.0+) is very powerful.\n",
    "\n",
    "Sorting in pandas is straightforward and flexible. While the syntax differs from dplyr's `arrange()`, pandas offers additional capabilities like index sorting and key functions that can handle complex sorting requirements efficiently."
   ]
  },
  {
   "cell_type": "markdown",
   "id": "e83eb478",
   "metadata": {},
   "source": [
    "## Basic Sorting\n",
    "\n",
    "The fundamental ways to sort data in pandas:"
   ]
  },
  {
   "cell_type": "code",
   "execution_count": 1,
   "id": "2f823066",
   "metadata": {},
   "outputs": [
    {
     "data": {
      "application/vnd.microsoft.datawrangler.viewer.v0+json": {
       "columns": [
        {
         "name": "index",
         "rawType": "int64",
         "type": "integer"
        },
        {
         "name": "name",
         "rawType": "object",
         "type": "string"
        },
        {
         "name": "department",
         "rawType": "object",
         "type": "string"
        },
        {
         "name": "salary",
         "rawType": "int64",
         "type": "integer"
        },
        {
         "name": "years_exp",
         "rawType": "int64",
         "type": "integer"
        },
        {
         "name": "performance",
         "rawType": "float64",
         "type": "float"
        },
        {
         "name": "hire_date",
         "rawType": "datetime64[ns]",
         "type": "datetime"
        }
       ],
       "ref": "527b2be9-2dd4-4f84-a6ed-2ae4a1d6bd02",
       "rows": [
        [
         "2",
         "Charlie",
         "HR",
         "65000",
         "3",
         "3.8",
         "2021-01-10 00:00:00"
        ],
        [
         "5",
         "Frank",
         "HR",
         "68000",
         "4",
         "3.9",
         "2020-04-05 00:00:00"
        ],
        [
         "0",
         "Alice",
         "Sales",
         "70000",
         "5",
         "4.2",
         "2019-03-15 00:00:00"
        ],
        [
         "3",
         "David",
         "Sales",
         "72000",
         "6",
         "4.0",
         "2018-09-20 00:00:00"
        ],
        [
         "1",
         "Bob",
         "IT",
         "85000",
         "8",
         "4.5",
         "2016-06-01 00:00:00"
        ],
        [
         "4",
         "Eve",
         "IT",
         "90000",
         "10",
         "4.7",
         "2014-11-30 00:00:00"
        ]
       ],
       "shape": {
        "columns": 6,
        "rows": 6
       }
      },
      "text/html": [
       "<div>\n",
       "<style scoped>\n",
       "    .dataframe tbody tr th:only-of-type {\n",
       "        vertical-align: middle;\n",
       "    }\n",
       "\n",
       "    .dataframe tbody tr th {\n",
       "        vertical-align: top;\n",
       "    }\n",
       "\n",
       "    .dataframe thead th {\n",
       "        text-align: right;\n",
       "    }\n",
       "</style>\n",
       "<table border=\"1\" class=\"dataframe\">\n",
       "  <thead>\n",
       "    <tr style=\"text-align: right;\">\n",
       "      <th></th>\n",
       "      <th>name</th>\n",
       "      <th>department</th>\n",
       "      <th>salary</th>\n",
       "      <th>years_exp</th>\n",
       "      <th>performance</th>\n",
       "      <th>hire_date</th>\n",
       "    </tr>\n",
       "  </thead>\n",
       "  <tbody>\n",
       "    <tr>\n",
       "      <th>2</th>\n",
       "      <td>Charlie</td>\n",
       "      <td>HR</td>\n",
       "      <td>65000</td>\n",
       "      <td>3</td>\n",
       "      <td>3.8</td>\n",
       "      <td>2021-01-10</td>\n",
       "    </tr>\n",
       "    <tr>\n",
       "      <th>5</th>\n",
       "      <td>Frank</td>\n",
       "      <td>HR</td>\n",
       "      <td>68000</td>\n",
       "      <td>4</td>\n",
       "      <td>3.9</td>\n",
       "      <td>2020-04-05</td>\n",
       "    </tr>\n",
       "    <tr>\n",
       "      <th>0</th>\n",
       "      <td>Alice</td>\n",
       "      <td>Sales</td>\n",
       "      <td>70000</td>\n",
       "      <td>5</td>\n",
       "      <td>4.2</td>\n",
       "      <td>2019-03-15</td>\n",
       "    </tr>\n",
       "    <tr>\n",
       "      <th>3</th>\n",
       "      <td>David</td>\n",
       "      <td>Sales</td>\n",
       "      <td>72000</td>\n",
       "      <td>6</td>\n",
       "      <td>4.0</td>\n",
       "      <td>2018-09-20</td>\n",
       "    </tr>\n",
       "    <tr>\n",
       "      <th>1</th>\n",
       "      <td>Bob</td>\n",
       "      <td>IT</td>\n",
       "      <td>85000</td>\n",
       "      <td>8</td>\n",
       "      <td>4.5</td>\n",
       "      <td>2016-06-01</td>\n",
       "    </tr>\n",
       "    <tr>\n",
       "      <th>4</th>\n",
       "      <td>Eve</td>\n",
       "      <td>IT</td>\n",
       "      <td>90000</td>\n",
       "      <td>10</td>\n",
       "      <td>4.7</td>\n",
       "      <td>2014-11-30</td>\n",
       "    </tr>\n",
       "  </tbody>\n",
       "</table>\n",
       "</div>"
      ],
      "text/plain": [
       "      name department  salary  years_exp  performance  hire_date\n",
       "2  Charlie         HR   65000          3          3.8 2021-01-10\n",
       "5    Frank         HR   68000          4          3.9 2020-04-05\n",
       "0    Alice      Sales   70000          5          4.2 2019-03-15\n",
       "3    David      Sales   72000          6          4.0 2018-09-20\n",
       "1      Bob         IT   85000          8          4.5 2016-06-01\n",
       "4      Eve         IT   90000         10          4.7 2014-11-30"
      ]
     },
     "execution_count": 1,
     "metadata": {},
     "output_type": "execute_result"
    }
   ],
   "source": [
    "import pandas as pd\n",
    "import numpy as np\n",
    "\n",
    "# Create sample DataFrame\n",
    "df = pd.DataFrame({\n",
    "    'name': ['Alice', 'Bob', 'Charlie', 'David', 'Eve', 'Frank'],\n",
    "    'department': ['Sales', 'IT', 'HR', 'Sales', 'IT', 'HR'],\n",
    "    'salary': [70000, 85000, 65000, 72000, 90000, 68000],\n",
    "    'years_exp': [5, 8, 3, 6, 10, 4],\n",
    "    'performance': [4.2, 4.5, 3.8, 4.0, 4.7, 3.9],\n",
    "    'hire_date': pd.to_datetime(['2019-03-15', '2016-06-01', '2021-01-10', \n",
    "                                  '2018-09-20', '2014-11-30', '2020-04-05'])\n",
    "})\n",
    "\n",
    "# Simple sorting by one column\n",
    "# R: arrange(df, salary)\n",
    "df.sort_values('salary')"
   ]
  },
  {
   "cell_type": "code",
   "execution_count": 2,
   "id": "de30a0fa",
   "metadata": {},
   "outputs": [
    {
     "data": {
      "application/vnd.microsoft.datawrangler.viewer.v0+json": {
       "columns": [
        {
         "name": "index",
         "rawType": "int64",
         "type": "integer"
        },
        {
         "name": "name",
         "rawType": "object",
         "type": "string"
        },
        {
         "name": "department",
         "rawType": "object",
         "type": "string"
        },
        {
         "name": "salary",
         "rawType": "int64",
         "type": "integer"
        },
        {
         "name": "years_exp",
         "rawType": "int64",
         "type": "integer"
        },
        {
         "name": "performance",
         "rawType": "float64",
         "type": "float"
        },
        {
         "name": "hire_date",
         "rawType": "datetime64[ns]",
         "type": "datetime"
        }
       ],
       "ref": "d7911a08-1cd0-409c-a850-7b4a669f962b",
       "rows": [
        [
         "4",
         "Eve",
         "IT",
         "90000",
         "10",
         "4.7",
         "2014-11-30 00:00:00"
        ],
        [
         "1",
         "Bob",
         "IT",
         "85000",
         "8",
         "4.5",
         "2016-06-01 00:00:00"
        ],
        [
         "3",
         "David",
         "Sales",
         "72000",
         "6",
         "4.0",
         "2018-09-20 00:00:00"
        ],
        [
         "0",
         "Alice",
         "Sales",
         "70000",
         "5",
         "4.2",
         "2019-03-15 00:00:00"
        ],
        [
         "5",
         "Frank",
         "HR",
         "68000",
         "4",
         "3.9",
         "2020-04-05 00:00:00"
        ],
        [
         "2",
         "Charlie",
         "HR",
         "65000",
         "3",
         "3.8",
         "2021-01-10 00:00:00"
        ]
       ],
       "shape": {
        "columns": 6,
        "rows": 6
       }
      },
      "text/html": [
       "<div>\n",
       "<style scoped>\n",
       "    .dataframe tbody tr th:only-of-type {\n",
       "        vertical-align: middle;\n",
       "    }\n",
       "\n",
       "    .dataframe tbody tr th {\n",
       "        vertical-align: top;\n",
       "    }\n",
       "\n",
       "    .dataframe thead th {\n",
       "        text-align: right;\n",
       "    }\n",
       "</style>\n",
       "<table border=\"1\" class=\"dataframe\">\n",
       "  <thead>\n",
       "    <tr style=\"text-align: right;\">\n",
       "      <th></th>\n",
       "      <th>name</th>\n",
       "      <th>department</th>\n",
       "      <th>salary</th>\n",
       "      <th>years_exp</th>\n",
       "      <th>performance</th>\n",
       "      <th>hire_date</th>\n",
       "    </tr>\n",
       "  </thead>\n",
       "  <tbody>\n",
       "    <tr>\n",
       "      <th>4</th>\n",
       "      <td>Eve</td>\n",
       "      <td>IT</td>\n",
       "      <td>90000</td>\n",
       "      <td>10</td>\n",
       "      <td>4.7</td>\n",
       "      <td>2014-11-30</td>\n",
       "    </tr>\n",
       "    <tr>\n",
       "      <th>1</th>\n",
       "      <td>Bob</td>\n",
       "      <td>IT</td>\n",
       "      <td>85000</td>\n",
       "      <td>8</td>\n",
       "      <td>4.5</td>\n",
       "      <td>2016-06-01</td>\n",
       "    </tr>\n",
       "    <tr>\n",
       "      <th>3</th>\n",
       "      <td>David</td>\n",
       "      <td>Sales</td>\n",
       "      <td>72000</td>\n",
       "      <td>6</td>\n",
       "      <td>4.0</td>\n",
       "      <td>2018-09-20</td>\n",
       "    </tr>\n",
       "    <tr>\n",
       "      <th>0</th>\n",
       "      <td>Alice</td>\n",
       "      <td>Sales</td>\n",
       "      <td>70000</td>\n",
       "      <td>5</td>\n",
       "      <td>4.2</td>\n",
       "      <td>2019-03-15</td>\n",
       "    </tr>\n",
       "    <tr>\n",
       "      <th>5</th>\n",
       "      <td>Frank</td>\n",
       "      <td>HR</td>\n",
       "      <td>68000</td>\n",
       "      <td>4</td>\n",
       "      <td>3.9</td>\n",
       "      <td>2020-04-05</td>\n",
       "    </tr>\n",
       "    <tr>\n",
       "      <th>2</th>\n",
       "      <td>Charlie</td>\n",
       "      <td>HR</td>\n",
       "      <td>65000</td>\n",
       "      <td>3</td>\n",
       "      <td>3.8</td>\n",
       "      <td>2021-01-10</td>\n",
       "    </tr>\n",
       "  </tbody>\n",
       "</table>\n",
       "</div>"
      ],
      "text/plain": [
       "      name department  salary  years_exp  performance  hire_date\n",
       "4      Eve         IT   90000         10          4.7 2014-11-30\n",
       "1      Bob         IT   85000          8          4.5 2016-06-01\n",
       "3    David      Sales   72000          6          4.0 2018-09-20\n",
       "0    Alice      Sales   70000          5          4.2 2019-03-15\n",
       "5    Frank         HR   68000          4          3.9 2020-04-05\n",
       "2  Charlie         HR   65000          3          3.8 2021-01-10"
      ]
     },
     "execution_count": 2,
     "metadata": {},
     "output_type": "execute_result"
    }
   ],
   "source": [
    "# Descending order\n",
    "# R: arrange(df, desc(salary))\n",
    "df.sort_values('salary', ascending=False)"
   ]
  },
  {
   "cell_type": "code",
   "execution_count": 3,
   "id": "0a8c8424",
   "metadata": {},
   "outputs": [
    {
     "data": {
      "application/vnd.microsoft.datawrangler.viewer.v0+json": {
       "columns": [
        {
         "name": "index",
         "rawType": "int64",
         "type": "integer"
        },
        {
         "name": "name",
         "rawType": "object",
         "type": "string"
        },
        {
         "name": "department",
         "rawType": "object",
         "type": "string"
        },
        {
         "name": "salary",
         "rawType": "int64",
         "type": "integer"
        },
        {
         "name": "years_exp",
         "rawType": "int64",
         "type": "integer"
        },
        {
         "name": "performance",
         "rawType": "float64",
         "type": "float"
        },
        {
         "name": "hire_date",
         "rawType": "datetime64[ns]",
         "type": "datetime"
        }
       ],
       "ref": "c88c1ed1-288f-4f2c-b347-cc97c4e4021c",
       "rows": [
        [
         "2",
         "Charlie",
         "HR",
         "65000",
         "3",
         "3.8",
         "2021-01-10 00:00:00"
        ],
        [
         "5",
         "Frank",
         "HR",
         "68000",
         "4",
         "3.9",
         "2020-04-05 00:00:00"
        ],
        [
         "0",
         "Alice",
         "Sales",
         "70000",
         "5",
         "4.2",
         "2019-03-15 00:00:00"
        ],
        [
         "3",
         "David",
         "Sales",
         "72000",
         "6",
         "4.0",
         "2018-09-20 00:00:00"
        ],
        [
         "1",
         "Bob",
         "IT",
         "85000",
         "8",
         "4.5",
         "2016-06-01 00:00:00"
        ],
        [
         "4",
         "Eve",
         "IT",
         "90000",
         "10",
         "4.7",
         "2014-11-30 00:00:00"
        ]
       ],
       "shape": {
        "columns": 6,
        "rows": 6
       }
      },
      "text/html": [
       "<div>\n",
       "<style scoped>\n",
       "    .dataframe tbody tr th:only-of-type {\n",
       "        vertical-align: middle;\n",
       "    }\n",
       "\n",
       "    .dataframe tbody tr th {\n",
       "        vertical-align: top;\n",
       "    }\n",
       "\n",
       "    .dataframe thead th {\n",
       "        text-align: right;\n",
       "    }\n",
       "</style>\n",
       "<table border=\"1\" class=\"dataframe\">\n",
       "  <thead>\n",
       "    <tr style=\"text-align: right;\">\n",
       "      <th></th>\n",
       "      <th>name</th>\n",
       "      <th>department</th>\n",
       "      <th>salary</th>\n",
       "      <th>years_exp</th>\n",
       "      <th>performance</th>\n",
       "      <th>hire_date</th>\n",
       "    </tr>\n",
       "  </thead>\n",
       "  <tbody>\n",
       "    <tr>\n",
       "      <th>2</th>\n",
       "      <td>Charlie</td>\n",
       "      <td>HR</td>\n",
       "      <td>65000</td>\n",
       "      <td>3</td>\n",
       "      <td>3.8</td>\n",
       "      <td>2021-01-10</td>\n",
       "    </tr>\n",
       "    <tr>\n",
       "      <th>5</th>\n",
       "      <td>Frank</td>\n",
       "      <td>HR</td>\n",
       "      <td>68000</td>\n",
       "      <td>4</td>\n",
       "      <td>3.9</td>\n",
       "      <td>2020-04-05</td>\n",
       "    </tr>\n",
       "    <tr>\n",
       "      <th>0</th>\n",
       "      <td>Alice</td>\n",
       "      <td>Sales</td>\n",
       "      <td>70000</td>\n",
       "      <td>5</td>\n",
       "      <td>4.2</td>\n",
       "      <td>2019-03-15</td>\n",
       "    </tr>\n",
       "    <tr>\n",
       "      <th>3</th>\n",
       "      <td>David</td>\n",
       "      <td>Sales</td>\n",
       "      <td>72000</td>\n",
       "      <td>6</td>\n",
       "      <td>4.0</td>\n",
       "      <td>2018-09-20</td>\n",
       "    </tr>\n",
       "    <tr>\n",
       "      <th>1</th>\n",
       "      <td>Bob</td>\n",
       "      <td>IT</td>\n",
       "      <td>85000</td>\n",
       "      <td>8</td>\n",
       "      <td>4.5</td>\n",
       "      <td>2016-06-01</td>\n",
       "    </tr>\n",
       "    <tr>\n",
       "      <th>4</th>\n",
       "      <td>Eve</td>\n",
       "      <td>IT</td>\n",
       "      <td>90000</td>\n",
       "      <td>10</td>\n",
       "      <td>4.7</td>\n",
       "      <td>2014-11-30</td>\n",
       "    </tr>\n",
       "  </tbody>\n",
       "</table>\n",
       "</div>"
      ],
      "text/plain": [
       "      name department  salary  years_exp  performance  hire_date\n",
       "2  Charlie         HR   65000          3          3.8 2021-01-10\n",
       "5    Frank         HR   68000          4          3.9 2020-04-05\n",
       "0    Alice      Sales   70000          5          4.2 2019-03-15\n",
       "3    David      Sales   72000          6          4.0 2018-09-20\n",
       "1      Bob         IT   85000          8          4.5 2016-06-01\n",
       "4      Eve         IT   90000         10          4.7 2014-11-30"
      ]
     },
     "execution_count": 3,
     "metadata": {},
     "output_type": "execute_result"
    }
   ],
   "source": [
    "# In-place sorting (modifies original DataFrame)\n",
    "# Note: This is different from R which always returns a new data frame\n",
    "df_copy = df.copy()\n",
    "df_copy.sort_values('salary', inplace=True)\n",
    "df_copy"
   ]
  },
  {
   "cell_type": "markdown",
   "id": "1d33ef1e",
   "metadata": {},
   "source": [
    "## Multiple Column Sorting\n",
    "\n",
    "Sorting by multiple columns with different orders:"
   ]
  },
  {
   "cell_type": "code",
   "execution_count": 4,
   "id": "b1941fb3",
   "metadata": {},
   "outputs": [
    {
     "data": {
      "application/vnd.microsoft.datawrangler.viewer.v0+json": {
       "columns": [
        {
         "name": "index",
         "rawType": "int64",
         "type": "integer"
        },
        {
         "name": "name",
         "rawType": "object",
         "type": "string"
        },
        {
         "name": "department",
         "rawType": "object",
         "type": "string"
        },
        {
         "name": "salary",
         "rawType": "int64",
         "type": "integer"
        },
        {
         "name": "years_exp",
         "rawType": "int64",
         "type": "integer"
        },
        {
         "name": "performance",
         "rawType": "float64",
         "type": "float"
        },
        {
         "name": "hire_date",
         "rawType": "datetime64[ns]",
         "type": "datetime"
        }
       ],
       "ref": "402fcc56-1b3d-490d-b21c-d62b238aeae1",
       "rows": [
        [
         "2",
         "Charlie",
         "HR",
         "65000",
         "3",
         "3.8",
         "2021-01-10 00:00:00"
        ],
        [
         "5",
         "Frank",
         "HR",
         "68000",
         "4",
         "3.9",
         "2020-04-05 00:00:00"
        ],
        [
         "1",
         "Bob",
         "IT",
         "85000",
         "8",
         "4.5",
         "2016-06-01 00:00:00"
        ],
        [
         "4",
         "Eve",
         "IT",
         "90000",
         "10",
         "4.7",
         "2014-11-30 00:00:00"
        ],
        [
         "0",
         "Alice",
         "Sales",
         "70000",
         "5",
         "4.2",
         "2019-03-15 00:00:00"
        ],
        [
         "3",
         "David",
         "Sales",
         "72000",
         "6",
         "4.0",
         "2018-09-20 00:00:00"
        ]
       ],
       "shape": {
        "columns": 6,
        "rows": 6
       }
      },
      "text/html": [
       "<div>\n",
       "<style scoped>\n",
       "    .dataframe tbody tr th:only-of-type {\n",
       "        vertical-align: middle;\n",
       "    }\n",
       "\n",
       "    .dataframe tbody tr th {\n",
       "        vertical-align: top;\n",
       "    }\n",
       "\n",
       "    .dataframe thead th {\n",
       "        text-align: right;\n",
       "    }\n",
       "</style>\n",
       "<table border=\"1\" class=\"dataframe\">\n",
       "  <thead>\n",
       "    <tr style=\"text-align: right;\">\n",
       "      <th></th>\n",
       "      <th>name</th>\n",
       "      <th>department</th>\n",
       "      <th>salary</th>\n",
       "      <th>years_exp</th>\n",
       "      <th>performance</th>\n",
       "      <th>hire_date</th>\n",
       "    </tr>\n",
       "  </thead>\n",
       "  <tbody>\n",
       "    <tr>\n",
       "      <th>2</th>\n",
       "      <td>Charlie</td>\n",
       "      <td>HR</td>\n",
       "      <td>65000</td>\n",
       "      <td>3</td>\n",
       "      <td>3.8</td>\n",
       "      <td>2021-01-10</td>\n",
       "    </tr>\n",
       "    <tr>\n",
       "      <th>5</th>\n",
       "      <td>Frank</td>\n",
       "      <td>HR</td>\n",
       "      <td>68000</td>\n",
       "      <td>4</td>\n",
       "      <td>3.9</td>\n",
       "      <td>2020-04-05</td>\n",
       "    </tr>\n",
       "    <tr>\n",
       "      <th>1</th>\n",
       "      <td>Bob</td>\n",
       "      <td>IT</td>\n",
       "      <td>85000</td>\n",
       "      <td>8</td>\n",
       "      <td>4.5</td>\n",
       "      <td>2016-06-01</td>\n",
       "    </tr>\n",
       "    <tr>\n",
       "      <th>4</th>\n",
       "      <td>Eve</td>\n",
       "      <td>IT</td>\n",
       "      <td>90000</td>\n",
       "      <td>10</td>\n",
       "      <td>4.7</td>\n",
       "      <td>2014-11-30</td>\n",
       "    </tr>\n",
       "    <tr>\n",
       "      <th>0</th>\n",
       "      <td>Alice</td>\n",
       "      <td>Sales</td>\n",
       "      <td>70000</td>\n",
       "      <td>5</td>\n",
       "      <td>4.2</td>\n",
       "      <td>2019-03-15</td>\n",
       "    </tr>\n",
       "    <tr>\n",
       "      <th>3</th>\n",
       "      <td>David</td>\n",
       "      <td>Sales</td>\n",
       "      <td>72000</td>\n",
       "      <td>6</td>\n",
       "      <td>4.0</td>\n",
       "      <td>2018-09-20</td>\n",
       "    </tr>\n",
       "  </tbody>\n",
       "</table>\n",
       "</div>"
      ],
      "text/plain": [
       "      name department  salary  years_exp  performance  hire_date\n",
       "2  Charlie         HR   65000          3          3.8 2021-01-10\n",
       "5    Frank         HR   68000          4          3.9 2020-04-05\n",
       "1      Bob         IT   85000          8          4.5 2016-06-01\n",
       "4      Eve         IT   90000         10          4.7 2014-11-30\n",
       "0    Alice      Sales   70000          5          4.2 2019-03-15\n",
       "3    David      Sales   72000          6          4.0 2018-09-20"
      ]
     },
     "execution_count": 4,
     "metadata": {},
     "output_type": "execute_result"
    }
   ],
   "source": [
    "# Sort by multiple columns\n",
    "# R: arrange(df, department, salary)\n",
    "df.sort_values(['department', 'salary'])"
   ]
  },
  {
   "cell_type": "code",
   "execution_count": 5,
   "id": "35490923",
   "metadata": {},
   "outputs": [
    {
     "data": {
      "application/vnd.microsoft.datawrangler.viewer.v0+json": {
       "columns": [
        {
         "name": "index",
         "rawType": "int64",
         "type": "integer"
        },
        {
         "name": "name",
         "rawType": "object",
         "type": "string"
        },
        {
         "name": "department",
         "rawType": "object",
         "type": "string"
        },
        {
         "name": "salary",
         "rawType": "int64",
         "type": "integer"
        },
        {
         "name": "years_exp",
         "rawType": "int64",
         "type": "integer"
        },
        {
         "name": "performance",
         "rawType": "float64",
         "type": "float"
        },
        {
         "name": "hire_date",
         "rawType": "datetime64[ns]",
         "type": "datetime"
        }
       ],
       "ref": "9e894093-08c0-402f-86ef-22f68055c553",
       "rows": [
        [
         "5",
         "Frank",
         "HR",
         "68000",
         "4",
         "3.9",
         "2020-04-05 00:00:00"
        ],
        [
         "2",
         "Charlie",
         "HR",
         "65000",
         "3",
         "3.8",
         "2021-01-10 00:00:00"
        ],
        [
         "4",
         "Eve",
         "IT",
         "90000",
         "10",
         "4.7",
         "2014-11-30 00:00:00"
        ],
        [
         "1",
         "Bob",
         "IT",
         "85000",
         "8",
         "4.5",
         "2016-06-01 00:00:00"
        ],
        [
         "3",
         "David",
         "Sales",
         "72000",
         "6",
         "4.0",
         "2018-09-20 00:00:00"
        ],
        [
         "0",
         "Alice",
         "Sales",
         "70000",
         "5",
         "4.2",
         "2019-03-15 00:00:00"
        ]
       ],
       "shape": {
        "columns": 6,
        "rows": 6
       }
      },
      "text/html": [
       "<div>\n",
       "<style scoped>\n",
       "    .dataframe tbody tr th:only-of-type {\n",
       "        vertical-align: middle;\n",
       "    }\n",
       "\n",
       "    .dataframe tbody tr th {\n",
       "        vertical-align: top;\n",
       "    }\n",
       "\n",
       "    .dataframe thead th {\n",
       "        text-align: right;\n",
       "    }\n",
       "</style>\n",
       "<table border=\"1\" class=\"dataframe\">\n",
       "  <thead>\n",
       "    <tr style=\"text-align: right;\">\n",
       "      <th></th>\n",
       "      <th>name</th>\n",
       "      <th>department</th>\n",
       "      <th>salary</th>\n",
       "      <th>years_exp</th>\n",
       "      <th>performance</th>\n",
       "      <th>hire_date</th>\n",
       "    </tr>\n",
       "  </thead>\n",
       "  <tbody>\n",
       "    <tr>\n",
       "      <th>5</th>\n",
       "      <td>Frank</td>\n",
       "      <td>HR</td>\n",
       "      <td>68000</td>\n",
       "      <td>4</td>\n",
       "      <td>3.9</td>\n",
       "      <td>2020-04-05</td>\n",
       "    </tr>\n",
       "    <tr>\n",
       "      <th>2</th>\n",
       "      <td>Charlie</td>\n",
       "      <td>HR</td>\n",
       "      <td>65000</td>\n",
       "      <td>3</td>\n",
       "      <td>3.8</td>\n",
       "      <td>2021-01-10</td>\n",
       "    </tr>\n",
       "    <tr>\n",
       "      <th>4</th>\n",
       "      <td>Eve</td>\n",
       "      <td>IT</td>\n",
       "      <td>90000</td>\n",
       "      <td>10</td>\n",
       "      <td>4.7</td>\n",
       "      <td>2014-11-30</td>\n",
       "    </tr>\n",
       "    <tr>\n",
       "      <th>1</th>\n",
       "      <td>Bob</td>\n",
       "      <td>IT</td>\n",
       "      <td>85000</td>\n",
       "      <td>8</td>\n",
       "      <td>4.5</td>\n",
       "      <td>2016-06-01</td>\n",
       "    </tr>\n",
       "    <tr>\n",
       "      <th>3</th>\n",
       "      <td>David</td>\n",
       "      <td>Sales</td>\n",
       "      <td>72000</td>\n",
       "      <td>6</td>\n",
       "      <td>4.0</td>\n",
       "      <td>2018-09-20</td>\n",
       "    </tr>\n",
       "    <tr>\n",
       "      <th>0</th>\n",
       "      <td>Alice</td>\n",
       "      <td>Sales</td>\n",
       "      <td>70000</td>\n",
       "      <td>5</td>\n",
       "      <td>4.2</td>\n",
       "      <td>2019-03-15</td>\n",
       "    </tr>\n",
       "  </tbody>\n",
       "</table>\n",
       "</div>"
      ],
      "text/plain": [
       "      name department  salary  years_exp  performance  hire_date\n",
       "5    Frank         HR   68000          4          3.9 2020-04-05\n",
       "2  Charlie         HR   65000          3          3.8 2021-01-10\n",
       "4      Eve         IT   90000         10          4.7 2014-11-30\n",
       "1      Bob         IT   85000          8          4.5 2016-06-01\n",
       "3    David      Sales   72000          6          4.0 2018-09-20\n",
       "0    Alice      Sales   70000          5          4.2 2019-03-15"
      ]
     },
     "execution_count": 5,
     "metadata": {},
     "output_type": "execute_result"
    }
   ],
   "source": [
    "# Mixed ascending/descending order\n",
    "# R: arrange(df, department, desc(salary))\n",
    "df.sort_values(['department', 'salary'], ascending=[True, False])"
   ]
  },
  {
   "cell_type": "code",
   "execution_count": 6,
   "id": "b327c902",
   "metadata": {},
   "outputs": [
    {
     "data": {
      "application/vnd.microsoft.datawrangler.viewer.v0+json": {
       "columns": [
        {
         "name": "index",
         "rawType": "int64",
         "type": "integer"
        },
        {
         "name": "name",
         "rawType": "object",
         "type": "string"
        },
        {
         "name": "department",
         "rawType": "object",
         "type": "string"
        },
        {
         "name": "salary",
         "rawType": "int64",
         "type": "integer"
        },
        {
         "name": "years_exp",
         "rawType": "int64",
         "type": "integer"
        },
        {
         "name": "performance",
         "rawType": "float64",
         "type": "float"
        },
        {
         "name": "hire_date",
         "rawType": "datetime64[ns]",
         "type": "datetime"
        }
       ],
       "ref": "f82c9ee9-3131-41d0-84ba-6a0cf576fc5b",
       "rows": [
        [
         "4",
         "Eve",
         "IT",
         "90000",
         "10",
         "4.7",
         "2014-11-30 00:00:00"
        ],
        [
         "1",
         "Bob",
         "IT",
         "85000",
         "8",
         "4.5",
         "2016-06-01 00:00:00"
        ],
        [
         "0",
         "Alice",
         "Sales",
         "70000",
         "5",
         "4.2",
         "2019-03-15 00:00:00"
        ],
        [
         "3",
         "David",
         "Sales",
         "72000",
         "6",
         "4.0",
         "2018-09-20 00:00:00"
        ],
        [
         "5",
         "Frank",
         "HR",
         "68000",
         "4",
         "3.9",
         "2020-04-05 00:00:00"
        ],
        [
         "2",
         "Charlie",
         "HR",
         "65000",
         "3",
         "3.8",
         "2021-01-10 00:00:00"
        ]
       ],
       "shape": {
        "columns": 6,
        "rows": 6
       }
      },
      "text/html": [
       "<div>\n",
       "<style scoped>\n",
       "    .dataframe tbody tr th:only-of-type {\n",
       "        vertical-align: middle;\n",
       "    }\n",
       "\n",
       "    .dataframe tbody tr th {\n",
       "        vertical-align: top;\n",
       "    }\n",
       "\n",
       "    .dataframe thead th {\n",
       "        text-align: right;\n",
       "    }\n",
       "</style>\n",
       "<table border=\"1\" class=\"dataframe\">\n",
       "  <thead>\n",
       "    <tr style=\"text-align: right;\">\n",
       "      <th></th>\n",
       "      <th>name</th>\n",
       "      <th>department</th>\n",
       "      <th>salary</th>\n",
       "      <th>years_exp</th>\n",
       "      <th>performance</th>\n",
       "      <th>hire_date</th>\n",
       "    </tr>\n",
       "  </thead>\n",
       "  <tbody>\n",
       "    <tr>\n",
       "      <th>4</th>\n",
       "      <td>Eve</td>\n",
       "      <td>IT</td>\n",
       "      <td>90000</td>\n",
       "      <td>10</td>\n",
       "      <td>4.7</td>\n",
       "      <td>2014-11-30</td>\n",
       "    </tr>\n",
       "    <tr>\n",
       "      <th>1</th>\n",
       "      <td>Bob</td>\n",
       "      <td>IT</td>\n",
       "      <td>85000</td>\n",
       "      <td>8</td>\n",
       "      <td>4.5</td>\n",
       "      <td>2016-06-01</td>\n",
       "    </tr>\n",
       "    <tr>\n",
       "      <th>0</th>\n",
       "      <td>Alice</td>\n",
       "      <td>Sales</td>\n",
       "      <td>70000</td>\n",
       "      <td>5</td>\n",
       "      <td>4.2</td>\n",
       "      <td>2019-03-15</td>\n",
       "    </tr>\n",
       "    <tr>\n",
       "      <th>3</th>\n",
       "      <td>David</td>\n",
       "      <td>Sales</td>\n",
       "      <td>72000</td>\n",
       "      <td>6</td>\n",
       "      <td>4.0</td>\n",
       "      <td>2018-09-20</td>\n",
       "    </tr>\n",
       "    <tr>\n",
       "      <th>5</th>\n",
       "      <td>Frank</td>\n",
       "      <td>HR</td>\n",
       "      <td>68000</td>\n",
       "      <td>4</td>\n",
       "      <td>3.9</td>\n",
       "      <td>2020-04-05</td>\n",
       "    </tr>\n",
       "    <tr>\n",
       "      <th>2</th>\n",
       "      <td>Charlie</td>\n",
       "      <td>HR</td>\n",
       "      <td>65000</td>\n",
       "      <td>3</td>\n",
       "      <td>3.8</td>\n",
       "      <td>2021-01-10</td>\n",
       "    </tr>\n",
       "  </tbody>\n",
       "</table>\n",
       "</div>"
      ],
      "text/plain": [
       "      name department  salary  years_exp  performance  hire_date\n",
       "4      Eve         IT   90000         10          4.7 2014-11-30\n",
       "1      Bob         IT   85000          8          4.5 2016-06-01\n",
       "0    Alice      Sales   70000          5          4.2 2019-03-15\n",
       "3    David      Sales   72000          6          4.0 2018-09-20\n",
       "5    Frank         HR   68000          4          3.9 2020-04-05\n",
       "2  Charlie         HR   65000          3          3.8 2021-01-10"
      ]
     },
     "execution_count": 6,
     "metadata": {},
     "output_type": "execute_result"
    }
   ],
   "source": [
    "# Complex multi-column sorting\n",
    "# R: arrange(df, desc(performance), years_exp, salary)\n",
    "df.sort_values(['performance', 'years_exp', 'salary'], \n",
    "               ascending=[False, True, True])"
   ]
  },
  {
   "cell_type": "markdown",
   "id": "9c62b19f",
   "metadata": {},
   "source": [
    "## Sorting with Missing Values\n",
    "\n",
    "Handling NaN values during sorting:"
   ]
  },
  {
   "cell_type": "code",
   "execution_count": 7,
   "id": "0c1ceebf",
   "metadata": {},
   "outputs": [
    {
     "data": {
      "application/vnd.microsoft.datawrangler.viewer.v0+json": {
       "columns": [
        {
         "name": "index",
         "rawType": "int64",
         "type": "integer"
        },
        {
         "name": "product",
         "rawType": "object",
         "type": "string"
        },
        {
         "name": "price",
         "rawType": "float64",
         "type": "float"
        },
        {
         "name": "rating",
         "rawType": "float64",
         "type": "float"
        },
        {
         "name": "stock",
         "rawType": "float64",
         "type": "float"
        }
       ],
       "ref": "3bd27081-66d3-473e-b8f9-8dadf4b53c5f",
       "rows": [
        [
         "2",
         "C",
         "8.0",
         null,
         "200.0"
        ],
        [
         "0",
         "A",
         "10.5",
         "4.5",
         "100.0"
        ],
        [
         "3",
         "D",
         "12.0",
         "4.2",
         null
        ],
        [
         "1",
         "B",
         null,
         "3.8",
         "50.0"
        ],
        [
         "4",
         "E",
         null,
         "4.0",
         "150.0"
        ]
       ],
       "shape": {
        "columns": 4,
        "rows": 5
       }
      },
      "text/html": [
       "<div>\n",
       "<style scoped>\n",
       "    .dataframe tbody tr th:only-of-type {\n",
       "        vertical-align: middle;\n",
       "    }\n",
       "\n",
       "    .dataframe tbody tr th {\n",
       "        vertical-align: top;\n",
       "    }\n",
       "\n",
       "    .dataframe thead th {\n",
       "        text-align: right;\n",
       "    }\n",
       "</style>\n",
       "<table border=\"1\" class=\"dataframe\">\n",
       "  <thead>\n",
       "    <tr style=\"text-align: right;\">\n",
       "      <th></th>\n",
       "      <th>product</th>\n",
       "      <th>price</th>\n",
       "      <th>rating</th>\n",
       "      <th>stock</th>\n",
       "    </tr>\n",
       "  </thead>\n",
       "  <tbody>\n",
       "    <tr>\n",
       "      <th>2</th>\n",
       "      <td>C</td>\n",
       "      <td>8.0</td>\n",
       "      <td>NaN</td>\n",
       "      <td>200.0</td>\n",
       "    </tr>\n",
       "    <tr>\n",
       "      <th>0</th>\n",
       "      <td>A</td>\n",
       "      <td>10.5</td>\n",
       "      <td>4.5</td>\n",
       "      <td>100.0</td>\n",
       "    </tr>\n",
       "    <tr>\n",
       "      <th>3</th>\n",
       "      <td>D</td>\n",
       "      <td>12.0</td>\n",
       "      <td>4.2</td>\n",
       "      <td>NaN</td>\n",
       "    </tr>\n",
       "    <tr>\n",
       "      <th>1</th>\n",
       "      <td>B</td>\n",
       "      <td>NaN</td>\n",
       "      <td>3.8</td>\n",
       "      <td>50.0</td>\n",
       "    </tr>\n",
       "    <tr>\n",
       "      <th>4</th>\n",
       "      <td>E</td>\n",
       "      <td>NaN</td>\n",
       "      <td>4.0</td>\n",
       "      <td>150.0</td>\n",
       "    </tr>\n",
       "  </tbody>\n",
       "</table>\n",
       "</div>"
      ],
      "text/plain": [
       "  product  price  rating  stock\n",
       "2       C    8.0     NaN  200.0\n",
       "0       A   10.5     4.5  100.0\n",
       "3       D   12.0     4.2    NaN\n",
       "1       B    NaN     3.8   50.0\n",
       "4       E    NaN     4.0  150.0"
      ]
     },
     "execution_count": 7,
     "metadata": {},
     "output_type": "execute_result"
    }
   ],
   "source": [
    "# Create DataFrame with missing values\n",
    "df_missing = pd.DataFrame({\n",
    "    'product': ['A', 'B', 'C', 'D', 'E'],\n",
    "    'price': [10.5, np.nan, 8.0, 12.0, np.nan],\n",
    "    'rating': [4.5, 3.8, np.nan, 4.2, 4.0],\n",
    "    'stock': [100, 50, 200, np.nan, 150]\n",
    "})\n",
    "\n",
    "# Default: NaN values go to the end\n",
    "# R: arrange(df, price) - NA values also go to end by default\n",
    "df_missing.sort_values('price')"
   ]
  },
  {
   "cell_type": "code",
   "execution_count": 8,
   "id": "9c94d305",
   "metadata": {},
   "outputs": [
    {
     "data": {
      "application/vnd.microsoft.datawrangler.viewer.v0+json": {
       "columns": [
        {
         "name": "index",
         "rawType": "int64",
         "type": "integer"
        },
        {
         "name": "product",
         "rawType": "object",
         "type": "string"
        },
        {
         "name": "price",
         "rawType": "float64",
         "type": "float"
        },
        {
         "name": "rating",
         "rawType": "float64",
         "type": "float"
        },
        {
         "name": "stock",
         "rawType": "float64",
         "type": "float"
        }
       ],
       "ref": "a477135a-1a48-4cb5-a826-a61e9c972453",
       "rows": [
        [
         "1",
         "B",
         null,
         "3.8",
         "50.0"
        ],
        [
         "4",
         "E",
         null,
         "4.0",
         "150.0"
        ],
        [
         "2",
         "C",
         "8.0",
         null,
         "200.0"
        ],
        [
         "0",
         "A",
         "10.5",
         "4.5",
         "100.0"
        ],
        [
         "3",
         "D",
         "12.0",
         "4.2",
         null
        ]
       ],
       "shape": {
        "columns": 4,
        "rows": 5
       }
      },
      "text/html": [
       "<div>\n",
       "<style scoped>\n",
       "    .dataframe tbody tr th:only-of-type {\n",
       "        vertical-align: middle;\n",
       "    }\n",
       "\n",
       "    .dataframe tbody tr th {\n",
       "        vertical-align: top;\n",
       "    }\n",
       "\n",
       "    .dataframe thead th {\n",
       "        text-align: right;\n",
       "    }\n",
       "</style>\n",
       "<table border=\"1\" class=\"dataframe\">\n",
       "  <thead>\n",
       "    <tr style=\"text-align: right;\">\n",
       "      <th></th>\n",
       "      <th>product</th>\n",
       "      <th>price</th>\n",
       "      <th>rating</th>\n",
       "      <th>stock</th>\n",
       "    </tr>\n",
       "  </thead>\n",
       "  <tbody>\n",
       "    <tr>\n",
       "      <th>1</th>\n",
       "      <td>B</td>\n",
       "      <td>NaN</td>\n",
       "      <td>3.8</td>\n",
       "      <td>50.0</td>\n",
       "    </tr>\n",
       "    <tr>\n",
       "      <th>4</th>\n",
       "      <td>E</td>\n",
       "      <td>NaN</td>\n",
       "      <td>4.0</td>\n",
       "      <td>150.0</td>\n",
       "    </tr>\n",
       "    <tr>\n",
       "      <th>2</th>\n",
       "      <td>C</td>\n",
       "      <td>8.0</td>\n",
       "      <td>NaN</td>\n",
       "      <td>200.0</td>\n",
       "    </tr>\n",
       "    <tr>\n",
       "      <th>0</th>\n",
       "      <td>A</td>\n",
       "      <td>10.5</td>\n",
       "      <td>4.5</td>\n",
       "      <td>100.0</td>\n",
       "    </tr>\n",
       "    <tr>\n",
       "      <th>3</th>\n",
       "      <td>D</td>\n",
       "      <td>12.0</td>\n",
       "      <td>4.2</td>\n",
       "      <td>NaN</td>\n",
       "    </tr>\n",
       "  </tbody>\n",
       "</table>\n",
       "</div>"
      ],
      "text/plain": [
       "  product  price  rating  stock\n",
       "1       B    NaN     3.8   50.0\n",
       "4       E    NaN     4.0  150.0\n",
       "2       C    8.0     NaN  200.0\n",
       "0       A   10.5     4.5  100.0\n",
       "3       D   12.0     4.2    NaN"
      ]
     },
     "execution_count": 8,
     "metadata": {},
     "output_type": "execute_result"
    }
   ],
   "source": [
    "# Put NaN values first\n",
    "# R: arrange(df, desc(is.na(price)), price)\n",
    "df_missing.sort_values('price', na_position='first')"
   ]
  },
  {
   "cell_type": "code",
   "execution_count": 9,
   "id": "27c1be43",
   "metadata": {},
   "outputs": [
    {
     "data": {
      "application/vnd.microsoft.datawrangler.viewer.v0+json": {
       "columns": [
        {
         "name": "index",
         "rawType": "int64",
         "type": "integer"
        },
        {
         "name": "product",
         "rawType": "object",
         "type": "string"
        },
        {
         "name": "price",
         "rawType": "float64",
         "type": "float"
        },
        {
         "name": "rating",
         "rawType": "float64",
         "type": "float"
        },
        {
         "name": "stock",
         "rawType": "float64",
         "type": "float"
        }
       ],
       "ref": "42709980-f314-45b2-be04-37f5a9284a6e",
       "rows": [
        [
         "4",
         "E",
         null,
         "4.0",
         "150.0"
        ],
        [
         "1",
         "B",
         null,
         "3.8",
         "50.0"
        ],
        [
         "2",
         "C",
         "8.0",
         null,
         "200.0"
        ],
        [
         "0",
         "A",
         "10.5",
         "4.5",
         "100.0"
        ],
        [
         "3",
         "D",
         "12.0",
         "4.2",
         null
        ]
       ],
       "shape": {
        "columns": 4,
        "rows": 5
       }
      },
      "text/html": [
       "<div>\n",
       "<style scoped>\n",
       "    .dataframe tbody tr th:only-of-type {\n",
       "        vertical-align: middle;\n",
       "    }\n",
       "\n",
       "    .dataframe tbody tr th {\n",
       "        vertical-align: top;\n",
       "    }\n",
       "\n",
       "    .dataframe thead th {\n",
       "        text-align: right;\n",
       "    }\n",
       "</style>\n",
       "<table border=\"1\" class=\"dataframe\">\n",
       "  <thead>\n",
       "    <tr style=\"text-align: right;\">\n",
       "      <th></th>\n",
       "      <th>product</th>\n",
       "      <th>price</th>\n",
       "      <th>rating</th>\n",
       "      <th>stock</th>\n",
       "    </tr>\n",
       "  </thead>\n",
       "  <tbody>\n",
       "    <tr>\n",
       "      <th>4</th>\n",
       "      <td>E</td>\n",
       "      <td>NaN</td>\n",
       "      <td>4.0</td>\n",
       "      <td>150.0</td>\n",
       "    </tr>\n",
       "    <tr>\n",
       "      <th>1</th>\n",
       "      <td>B</td>\n",
       "      <td>NaN</td>\n",
       "      <td>3.8</td>\n",
       "      <td>50.0</td>\n",
       "    </tr>\n",
       "    <tr>\n",
       "      <th>2</th>\n",
       "      <td>C</td>\n",
       "      <td>8.0</td>\n",
       "      <td>NaN</td>\n",
       "      <td>200.0</td>\n",
       "    </tr>\n",
       "    <tr>\n",
       "      <th>0</th>\n",
       "      <td>A</td>\n",
       "      <td>10.5</td>\n",
       "      <td>4.5</td>\n",
       "      <td>100.0</td>\n",
       "    </tr>\n",
       "    <tr>\n",
       "      <th>3</th>\n",
       "      <td>D</td>\n",
       "      <td>12.0</td>\n",
       "      <td>4.2</td>\n",
       "      <td>NaN</td>\n",
       "    </tr>\n",
       "  </tbody>\n",
       "</table>\n",
       "</div>"
      ],
      "text/plain": [
       "  product  price  rating  stock\n",
       "4       E    NaN     4.0  150.0\n",
       "1       B    NaN     3.8   50.0\n",
       "2       C    8.0     NaN  200.0\n",
       "0       A   10.5     4.5  100.0\n",
       "3       D   12.0     4.2    NaN"
      ]
     },
     "execution_count": 9,
     "metadata": {},
     "output_type": "execute_result"
    }
   ],
   "source": [
    "# Multiple columns with different NaN handling\n",
    "df_missing.sort_values(['price', 'rating'], \n",
    "                      na_position='first',\n",
    "                      ascending=[True, False])"
   ]
  },
  {
   "cell_type": "markdown",
   "id": "f88da5c5",
   "metadata": {},
   "source": [
    "## Sorting by Index\n",
    "\n",
    "Pandas allows sorting by index, which has no direct equivalent in dplyr:"
   ]
  },
  {
   "cell_type": "code",
   "execution_count": 10,
   "id": "59eddfd3",
   "metadata": {},
   "outputs": [
    {
     "data": {
      "application/vnd.microsoft.datawrangler.viewer.v0+json": {
       "columns": [
        {
         "name": "name",
         "rawType": "object",
         "type": "string"
        },
        {
         "name": "department",
         "rawType": "object",
         "type": "string"
        },
        {
         "name": "salary",
         "rawType": "int64",
         "type": "integer"
        },
        {
         "name": "years_exp",
         "rawType": "int64",
         "type": "integer"
        },
        {
         "name": "performance",
         "rawType": "float64",
         "type": "float"
        },
        {
         "name": "hire_date",
         "rawType": "datetime64[ns]",
         "type": "datetime"
        }
       ],
       "ref": "00ccf9b7-94fd-49a8-8fbe-ebd80e7325a7",
       "rows": [
        [
         "Alice",
         "Sales",
         "70000",
         "5",
         "4.2",
         "2019-03-15 00:00:00"
        ],
        [
         "Bob",
         "IT",
         "85000",
         "8",
         "4.5",
         "2016-06-01 00:00:00"
        ],
        [
         "Charlie",
         "HR",
         "65000",
         "3",
         "3.8",
         "2021-01-10 00:00:00"
        ],
        [
         "David",
         "Sales",
         "72000",
         "6",
         "4.0",
         "2018-09-20 00:00:00"
        ],
        [
         "Eve",
         "IT",
         "90000",
         "10",
         "4.7",
         "2014-11-30 00:00:00"
        ],
        [
         "Frank",
         "HR",
         "68000",
         "4",
         "3.9",
         "2020-04-05 00:00:00"
        ]
       ],
       "shape": {
        "columns": 5,
        "rows": 6
       }
      },
      "text/html": [
       "<div>\n",
       "<style scoped>\n",
       "    .dataframe tbody tr th:only-of-type {\n",
       "        vertical-align: middle;\n",
       "    }\n",
       "\n",
       "    .dataframe tbody tr th {\n",
       "        vertical-align: top;\n",
       "    }\n",
       "\n",
       "    .dataframe thead th {\n",
       "        text-align: right;\n",
       "    }\n",
       "</style>\n",
       "<table border=\"1\" class=\"dataframe\">\n",
       "  <thead>\n",
       "    <tr style=\"text-align: right;\">\n",
       "      <th></th>\n",
       "      <th>department</th>\n",
       "      <th>salary</th>\n",
       "      <th>years_exp</th>\n",
       "      <th>performance</th>\n",
       "      <th>hire_date</th>\n",
       "    </tr>\n",
       "    <tr>\n",
       "      <th>name</th>\n",
       "      <th></th>\n",
       "      <th></th>\n",
       "      <th></th>\n",
       "      <th></th>\n",
       "      <th></th>\n",
       "    </tr>\n",
       "  </thead>\n",
       "  <tbody>\n",
       "    <tr>\n",
       "      <th>Alice</th>\n",
       "      <td>Sales</td>\n",
       "      <td>70000</td>\n",
       "      <td>5</td>\n",
       "      <td>4.2</td>\n",
       "      <td>2019-03-15</td>\n",
       "    </tr>\n",
       "    <tr>\n",
       "      <th>Bob</th>\n",
       "      <td>IT</td>\n",
       "      <td>85000</td>\n",
       "      <td>8</td>\n",
       "      <td>4.5</td>\n",
       "      <td>2016-06-01</td>\n",
       "    </tr>\n",
       "    <tr>\n",
       "      <th>Charlie</th>\n",
       "      <td>HR</td>\n",
       "      <td>65000</td>\n",
       "      <td>3</td>\n",
       "      <td>3.8</td>\n",
       "      <td>2021-01-10</td>\n",
       "    </tr>\n",
       "    <tr>\n",
       "      <th>David</th>\n",
       "      <td>Sales</td>\n",
       "      <td>72000</td>\n",
       "      <td>6</td>\n",
       "      <td>4.0</td>\n",
       "      <td>2018-09-20</td>\n",
       "    </tr>\n",
       "    <tr>\n",
       "      <th>Eve</th>\n",
       "      <td>IT</td>\n",
       "      <td>90000</td>\n",
       "      <td>10</td>\n",
       "      <td>4.7</td>\n",
       "      <td>2014-11-30</td>\n",
       "    </tr>\n",
       "    <tr>\n",
       "      <th>Frank</th>\n",
       "      <td>HR</td>\n",
       "      <td>68000</td>\n",
       "      <td>4</td>\n",
       "      <td>3.9</td>\n",
       "      <td>2020-04-05</td>\n",
       "    </tr>\n",
       "  </tbody>\n",
       "</table>\n",
       "</div>"
      ],
      "text/plain": [
       "        department  salary  years_exp  performance  hire_date\n",
       "name                                                         \n",
       "Alice        Sales   70000          5          4.2 2019-03-15\n",
       "Bob             IT   85000          8          4.5 2016-06-01\n",
       "Charlie         HR   65000          3          3.8 2021-01-10\n",
       "David        Sales   72000          6          4.0 2018-09-20\n",
       "Eve             IT   90000         10          4.7 2014-11-30\n",
       "Frank           HR   68000          4          3.9 2020-04-05"
      ]
     },
     "execution_count": 10,
     "metadata": {},
     "output_type": "execute_result"
    }
   ],
   "source": [
    "# Set a meaningful index\n",
    "df_indexed = df.set_index('name')\n",
    "df_indexed"
   ]
  },
  {
   "cell_type": "code",
   "execution_count": 11,
   "id": "e9cff0a1",
   "metadata": {},
   "outputs": [
    {
     "data": {
      "application/vnd.microsoft.datawrangler.viewer.v0+json": {
       "columns": [
        {
         "name": "name",
         "rawType": "object",
         "type": "string"
        },
        {
         "name": "department",
         "rawType": "object",
         "type": "string"
        },
        {
         "name": "salary",
         "rawType": "int64",
         "type": "integer"
        },
        {
         "name": "years_exp",
         "rawType": "int64",
         "type": "integer"
        },
        {
         "name": "performance",
         "rawType": "float64",
         "type": "float"
        },
        {
         "name": "hire_date",
         "rawType": "datetime64[ns]",
         "type": "datetime"
        }
       ],
       "ref": "f10b310c-1648-4a97-bb71-f7668ae48edb",
       "rows": [
        [
         "Alice",
         "Sales",
         "70000",
         "5",
         "4.2",
         "2019-03-15 00:00:00"
        ],
        [
         "Bob",
         "IT",
         "85000",
         "8",
         "4.5",
         "2016-06-01 00:00:00"
        ],
        [
         "Charlie",
         "HR",
         "65000",
         "3",
         "3.8",
         "2021-01-10 00:00:00"
        ],
        [
         "David",
         "Sales",
         "72000",
         "6",
         "4.0",
         "2018-09-20 00:00:00"
        ],
        [
         "Eve",
         "IT",
         "90000",
         "10",
         "4.7",
         "2014-11-30 00:00:00"
        ],
        [
         "Frank",
         "HR",
         "68000",
         "4",
         "3.9",
         "2020-04-05 00:00:00"
        ]
       ],
       "shape": {
        "columns": 5,
        "rows": 6
       }
      },
      "text/html": [
       "<div>\n",
       "<style scoped>\n",
       "    .dataframe tbody tr th:only-of-type {\n",
       "        vertical-align: middle;\n",
       "    }\n",
       "\n",
       "    .dataframe tbody tr th {\n",
       "        vertical-align: top;\n",
       "    }\n",
       "\n",
       "    .dataframe thead th {\n",
       "        text-align: right;\n",
       "    }\n",
       "</style>\n",
       "<table border=\"1\" class=\"dataframe\">\n",
       "  <thead>\n",
       "    <tr style=\"text-align: right;\">\n",
       "      <th></th>\n",
       "      <th>department</th>\n",
       "      <th>salary</th>\n",
       "      <th>years_exp</th>\n",
       "      <th>performance</th>\n",
       "      <th>hire_date</th>\n",
       "    </tr>\n",
       "    <tr>\n",
       "      <th>name</th>\n",
       "      <th></th>\n",
       "      <th></th>\n",
       "      <th></th>\n",
       "      <th></th>\n",
       "      <th></th>\n",
       "    </tr>\n",
       "  </thead>\n",
       "  <tbody>\n",
       "    <tr>\n",
       "      <th>Alice</th>\n",
       "      <td>Sales</td>\n",
       "      <td>70000</td>\n",
       "      <td>5</td>\n",
       "      <td>4.2</td>\n",
       "      <td>2019-03-15</td>\n",
       "    </tr>\n",
       "    <tr>\n",
       "      <th>Bob</th>\n",
       "      <td>IT</td>\n",
       "      <td>85000</td>\n",
       "      <td>8</td>\n",
       "      <td>4.5</td>\n",
       "      <td>2016-06-01</td>\n",
       "    </tr>\n",
       "    <tr>\n",
       "      <th>Charlie</th>\n",
       "      <td>HR</td>\n",
       "      <td>65000</td>\n",
       "      <td>3</td>\n",
       "      <td>3.8</td>\n",
       "      <td>2021-01-10</td>\n",
       "    </tr>\n",
       "    <tr>\n",
       "      <th>David</th>\n",
       "      <td>Sales</td>\n",
       "      <td>72000</td>\n",
       "      <td>6</td>\n",
       "      <td>4.0</td>\n",
       "      <td>2018-09-20</td>\n",
       "    </tr>\n",
       "    <tr>\n",
       "      <th>Eve</th>\n",
       "      <td>IT</td>\n",
       "      <td>90000</td>\n",
       "      <td>10</td>\n",
       "      <td>4.7</td>\n",
       "      <td>2014-11-30</td>\n",
       "    </tr>\n",
       "    <tr>\n",
       "      <th>Frank</th>\n",
       "      <td>HR</td>\n",
       "      <td>68000</td>\n",
       "      <td>4</td>\n",
       "      <td>3.9</td>\n",
       "      <td>2020-04-05</td>\n",
       "    </tr>\n",
       "  </tbody>\n",
       "</table>\n",
       "</div>"
      ],
      "text/plain": [
       "        department  salary  years_exp  performance  hire_date\n",
       "name                                                         \n",
       "Alice        Sales   70000          5          4.2 2019-03-15\n",
       "Bob             IT   85000          8          4.5 2016-06-01\n",
       "Charlie         HR   65000          3          3.8 2021-01-10\n",
       "David        Sales   72000          6          4.0 2018-09-20\n",
       "Eve             IT   90000         10          4.7 2014-11-30\n",
       "Frank           HR   68000          4          3.9 2020-04-05"
      ]
     },
     "execution_count": 11,
     "metadata": {},
     "output_type": "execute_result"
    }
   ],
   "source": [
    "# Sort by index\n",
    "# No direct R equivalent - would need to convert rownames to column first\n",
    "df_indexed.sort_index()"
   ]
  },
  {
   "cell_type": "code",
   "execution_count": 12,
   "id": "e6ef1b53",
   "metadata": {},
   "outputs": [
    {
     "data": {
      "application/vnd.microsoft.datawrangler.viewer.v0+json": {
       "columns": [
        {
         "name": "name",
         "rawType": "object",
         "type": "string"
        },
        {
         "name": "department",
         "rawType": "object",
         "type": "string"
        },
        {
         "name": "salary",
         "rawType": "int64",
         "type": "integer"
        },
        {
         "name": "years_exp",
         "rawType": "int64",
         "type": "integer"
        },
        {
         "name": "performance",
         "rawType": "float64",
         "type": "float"
        },
        {
         "name": "hire_date",
         "rawType": "datetime64[ns]",
         "type": "datetime"
        }
       ],
       "ref": "eeef858f-01e4-45a4-804f-bc359fb97deb",
       "rows": [
        [
         "Frank",
         "HR",
         "68000",
         "4",
         "3.9",
         "2020-04-05 00:00:00"
        ],
        [
         "Eve",
         "IT",
         "90000",
         "10",
         "4.7",
         "2014-11-30 00:00:00"
        ],
        [
         "David",
         "Sales",
         "72000",
         "6",
         "4.0",
         "2018-09-20 00:00:00"
        ],
        [
         "Charlie",
         "HR",
         "65000",
         "3",
         "3.8",
         "2021-01-10 00:00:00"
        ],
        [
         "Bob",
         "IT",
         "85000",
         "8",
         "4.5",
         "2016-06-01 00:00:00"
        ],
        [
         "Alice",
         "Sales",
         "70000",
         "5",
         "4.2",
         "2019-03-15 00:00:00"
        ]
       ],
       "shape": {
        "columns": 5,
        "rows": 6
       }
      },
      "text/html": [
       "<div>\n",
       "<style scoped>\n",
       "    .dataframe tbody tr th:only-of-type {\n",
       "        vertical-align: middle;\n",
       "    }\n",
       "\n",
       "    .dataframe tbody tr th {\n",
       "        vertical-align: top;\n",
       "    }\n",
       "\n",
       "    .dataframe thead th {\n",
       "        text-align: right;\n",
       "    }\n",
       "</style>\n",
       "<table border=\"1\" class=\"dataframe\">\n",
       "  <thead>\n",
       "    <tr style=\"text-align: right;\">\n",
       "      <th></th>\n",
       "      <th>department</th>\n",
       "      <th>salary</th>\n",
       "      <th>years_exp</th>\n",
       "      <th>performance</th>\n",
       "      <th>hire_date</th>\n",
       "    </tr>\n",
       "    <tr>\n",
       "      <th>name</th>\n",
       "      <th></th>\n",
       "      <th></th>\n",
       "      <th></th>\n",
       "      <th></th>\n",
       "      <th></th>\n",
       "    </tr>\n",
       "  </thead>\n",
       "  <tbody>\n",
       "    <tr>\n",
       "      <th>Frank</th>\n",
       "      <td>HR</td>\n",
       "      <td>68000</td>\n",
       "      <td>4</td>\n",
       "      <td>3.9</td>\n",
       "      <td>2020-04-05</td>\n",
       "    </tr>\n",
       "    <tr>\n",
       "      <th>Eve</th>\n",
       "      <td>IT</td>\n",
       "      <td>90000</td>\n",
       "      <td>10</td>\n",
       "      <td>4.7</td>\n",
       "      <td>2014-11-30</td>\n",
       "    </tr>\n",
       "    <tr>\n",
       "      <th>David</th>\n",
       "      <td>Sales</td>\n",
       "      <td>72000</td>\n",
       "      <td>6</td>\n",
       "      <td>4.0</td>\n",
       "      <td>2018-09-20</td>\n",
       "    </tr>\n",
       "    <tr>\n",
       "      <th>Charlie</th>\n",
       "      <td>HR</td>\n",
       "      <td>65000</td>\n",
       "      <td>3</td>\n",
       "      <td>3.8</td>\n",
       "      <td>2021-01-10</td>\n",
       "    </tr>\n",
       "    <tr>\n",
       "      <th>Bob</th>\n",
       "      <td>IT</td>\n",
       "      <td>85000</td>\n",
       "      <td>8</td>\n",
       "      <td>4.5</td>\n",
       "      <td>2016-06-01</td>\n",
       "    </tr>\n",
       "    <tr>\n",
       "      <th>Alice</th>\n",
       "      <td>Sales</td>\n",
       "      <td>70000</td>\n",
       "      <td>5</td>\n",
       "      <td>4.2</td>\n",
       "      <td>2019-03-15</td>\n",
       "    </tr>\n",
       "  </tbody>\n",
       "</table>\n",
       "</div>"
      ],
      "text/plain": [
       "        department  salary  years_exp  performance  hire_date\n",
       "name                                                         \n",
       "Frank           HR   68000          4          3.9 2020-04-05\n",
       "Eve             IT   90000         10          4.7 2014-11-30\n",
       "David        Sales   72000          6          4.0 2018-09-20\n",
       "Charlie         HR   65000          3          3.8 2021-01-10\n",
       "Bob             IT   85000          8          4.5 2016-06-01\n",
       "Alice        Sales   70000          5          4.2 2019-03-15"
      ]
     },
     "execution_count": 12,
     "metadata": {},
     "output_type": "execute_result"
    }
   ],
   "source": [
    "# Sort by index descending\n",
    "df_indexed.sort_index(ascending=False)"
   ]
  },
  {
   "cell_type": "code",
   "execution_count": 13,
   "id": "25e3d053",
   "metadata": {},
   "outputs": [
    {
     "data": {
      "application/vnd.microsoft.datawrangler.viewer.v0+json": {
       "columns": [
        {
         "name": "('department', 'name')",
         "rawType": "object",
         "type": "unknown"
        },
        {
         "name": "salary",
         "rawType": "int64",
         "type": "integer"
        },
        {
         "name": "years_exp",
         "rawType": "int64",
         "type": "integer"
        },
        {
         "name": "performance",
         "rawType": "float64",
         "type": "float"
        },
        {
         "name": "hire_date",
         "rawType": "datetime64[ns]",
         "type": "datetime"
        }
       ],
       "ref": "33a91a8f-17c4-4073-b5c2-e75e1e3b4892",
       "rows": [
        [
         "('HR', 'Charlie')",
         "65000",
         "3",
         "3.8",
         "2021-01-10 00:00:00"
        ],
        [
         "('HR', 'Frank')",
         "68000",
         "4",
         "3.9",
         "2020-04-05 00:00:00"
        ],
        [
         "('IT', 'Bob')",
         "85000",
         "8",
         "4.5",
         "2016-06-01 00:00:00"
        ],
        [
         "('IT', 'Eve')",
         "90000",
         "10",
         "4.7",
         "2014-11-30 00:00:00"
        ],
        [
         "('Sales', 'Alice')",
         "70000",
         "5",
         "4.2",
         "2019-03-15 00:00:00"
        ],
        [
         "('Sales', 'David')",
         "72000",
         "6",
         "4.0",
         "2018-09-20 00:00:00"
        ]
       ],
       "shape": {
        "columns": 4,
        "rows": 6
       }
      },
      "text/html": [
       "<div>\n",
       "<style scoped>\n",
       "    .dataframe tbody tr th:only-of-type {\n",
       "        vertical-align: middle;\n",
       "    }\n",
       "\n",
       "    .dataframe tbody tr th {\n",
       "        vertical-align: top;\n",
       "    }\n",
       "\n",
       "    .dataframe thead th {\n",
       "        text-align: right;\n",
       "    }\n",
       "</style>\n",
       "<table border=\"1\" class=\"dataframe\">\n",
       "  <thead>\n",
       "    <tr style=\"text-align: right;\">\n",
       "      <th></th>\n",
       "      <th></th>\n",
       "      <th>salary</th>\n",
       "      <th>years_exp</th>\n",
       "      <th>performance</th>\n",
       "      <th>hire_date</th>\n",
       "    </tr>\n",
       "    <tr>\n",
       "      <th>department</th>\n",
       "      <th>name</th>\n",
       "      <th></th>\n",
       "      <th></th>\n",
       "      <th></th>\n",
       "      <th></th>\n",
       "    </tr>\n",
       "  </thead>\n",
       "  <tbody>\n",
       "    <tr>\n",
       "      <th rowspan=\"2\" valign=\"top\">HR</th>\n",
       "      <th>Charlie</th>\n",
       "      <td>65000</td>\n",
       "      <td>3</td>\n",
       "      <td>3.8</td>\n",
       "      <td>2021-01-10</td>\n",
       "    </tr>\n",
       "    <tr>\n",
       "      <th>Frank</th>\n",
       "      <td>68000</td>\n",
       "      <td>4</td>\n",
       "      <td>3.9</td>\n",
       "      <td>2020-04-05</td>\n",
       "    </tr>\n",
       "    <tr>\n",
       "      <th rowspan=\"2\" valign=\"top\">IT</th>\n",
       "      <th>Bob</th>\n",
       "      <td>85000</td>\n",
       "      <td>8</td>\n",
       "      <td>4.5</td>\n",
       "      <td>2016-06-01</td>\n",
       "    </tr>\n",
       "    <tr>\n",
       "      <th>Eve</th>\n",
       "      <td>90000</td>\n",
       "      <td>10</td>\n",
       "      <td>4.7</td>\n",
       "      <td>2014-11-30</td>\n",
       "    </tr>\n",
       "    <tr>\n",
       "      <th rowspan=\"2\" valign=\"top\">Sales</th>\n",
       "      <th>Alice</th>\n",
       "      <td>70000</td>\n",
       "      <td>5</td>\n",
       "      <td>4.2</td>\n",
       "      <td>2019-03-15</td>\n",
       "    </tr>\n",
       "    <tr>\n",
       "      <th>David</th>\n",
       "      <td>72000</td>\n",
       "      <td>6</td>\n",
       "      <td>4.0</td>\n",
       "      <td>2018-09-20</td>\n",
       "    </tr>\n",
       "  </tbody>\n",
       "</table>\n",
       "</div>"
      ],
      "text/plain": [
       "                    salary  years_exp  performance  hire_date\n",
       "department name                                              \n",
       "HR         Charlie   65000          3          3.8 2021-01-10\n",
       "           Frank     68000          4          3.9 2020-04-05\n",
       "IT         Bob       85000          8          4.5 2016-06-01\n",
       "           Eve       90000         10          4.7 2014-11-30\n",
       "Sales      Alice     70000          5          4.2 2019-03-15\n",
       "           David     72000          6          4.0 2018-09-20"
      ]
     },
     "execution_count": 13,
     "metadata": {},
     "output_type": "execute_result"
    }
   ],
   "source": [
    "# Multi-level index sorting\n",
    "df_multi = df.set_index(['department', 'name']).sort_index()\n",
    "df_multi"
   ]
  },
  {
   "cell_type": "markdown",
   "id": "3251ac6c",
   "metadata": {},
   "source": [
    "## Sorting with Custom Functions\n",
    "\n",
    "Using key functions for custom sorting logic:"
   ]
  },
  {
   "cell_type": "code",
   "execution_count": 14,
   "id": "58a04389",
   "metadata": {},
   "outputs": [
    {
     "data": {
      "application/vnd.microsoft.datawrangler.viewer.v0+json": {
       "columns": [
        {
         "name": "index",
         "rawType": "int64",
         "type": "integer"
        },
        {
         "name": "name",
         "rawType": "object",
         "type": "string"
        },
        {
         "name": "department",
         "rawType": "object",
         "type": "string"
        },
        {
         "name": "salary",
         "rawType": "int64",
         "type": "integer"
        },
        {
         "name": "years_exp",
         "rawType": "int64",
         "type": "integer"
        },
        {
         "name": "performance",
         "rawType": "float64",
         "type": "float"
        },
        {
         "name": "hire_date",
         "rawType": "datetime64[ns]",
         "type": "datetime"
        }
       ],
       "ref": "d41e5562-9408-4372-bc99-52d090c039d3",
       "rows": [
        [
         "1",
         "Bob",
         "IT",
         "85000",
         "8",
         "4.5",
         "2016-06-01 00:00:00"
        ],
        [
         "4",
         "Eve",
         "IT",
         "90000",
         "10",
         "4.7",
         "2014-11-30 00:00:00"
        ],
        [
         "0",
         "Alice",
         "Sales",
         "70000",
         "5",
         "4.2",
         "2019-03-15 00:00:00"
        ],
        [
         "3",
         "David",
         "Sales",
         "72000",
         "6",
         "4.0",
         "2018-09-20 00:00:00"
        ],
        [
         "5",
         "Frank",
         "HR",
         "68000",
         "4",
         "3.9",
         "2020-04-05 00:00:00"
        ],
        [
         "2",
         "Charlie",
         "HR",
         "65000",
         "3",
         "3.8",
         "2021-01-10 00:00:00"
        ]
       ],
       "shape": {
        "columns": 6,
        "rows": 6
       }
      },
      "text/html": [
       "<div>\n",
       "<style scoped>\n",
       "    .dataframe tbody tr th:only-of-type {\n",
       "        vertical-align: middle;\n",
       "    }\n",
       "\n",
       "    .dataframe tbody tr th {\n",
       "        vertical-align: top;\n",
       "    }\n",
       "\n",
       "    .dataframe thead th {\n",
       "        text-align: right;\n",
       "    }\n",
       "</style>\n",
       "<table border=\"1\" class=\"dataframe\">\n",
       "  <thead>\n",
       "    <tr style=\"text-align: right;\">\n",
       "      <th></th>\n",
       "      <th>name</th>\n",
       "      <th>department</th>\n",
       "      <th>salary</th>\n",
       "      <th>years_exp</th>\n",
       "      <th>performance</th>\n",
       "      <th>hire_date</th>\n",
       "    </tr>\n",
       "  </thead>\n",
       "  <tbody>\n",
       "    <tr>\n",
       "      <th>1</th>\n",
       "      <td>Bob</td>\n",
       "      <td>IT</td>\n",
       "      <td>85000</td>\n",
       "      <td>8</td>\n",
       "      <td>4.5</td>\n",
       "      <td>2016-06-01</td>\n",
       "    </tr>\n",
       "    <tr>\n",
       "      <th>4</th>\n",
       "      <td>Eve</td>\n",
       "      <td>IT</td>\n",
       "      <td>90000</td>\n",
       "      <td>10</td>\n",
       "      <td>4.7</td>\n",
       "      <td>2014-11-30</td>\n",
       "    </tr>\n",
       "    <tr>\n",
       "      <th>0</th>\n",
       "      <td>Alice</td>\n",
       "      <td>Sales</td>\n",
       "      <td>70000</td>\n",
       "      <td>5</td>\n",
       "      <td>4.2</td>\n",
       "      <td>2019-03-15</td>\n",
       "    </tr>\n",
       "    <tr>\n",
       "      <th>3</th>\n",
       "      <td>David</td>\n",
       "      <td>Sales</td>\n",
       "      <td>72000</td>\n",
       "      <td>6</td>\n",
       "      <td>4.0</td>\n",
       "      <td>2018-09-20</td>\n",
       "    </tr>\n",
       "    <tr>\n",
       "      <th>5</th>\n",
       "      <td>Frank</td>\n",
       "      <td>HR</td>\n",
       "      <td>68000</td>\n",
       "      <td>4</td>\n",
       "      <td>3.9</td>\n",
       "      <td>2020-04-05</td>\n",
       "    </tr>\n",
       "    <tr>\n",
       "      <th>2</th>\n",
       "      <td>Charlie</td>\n",
       "      <td>HR</td>\n",
       "      <td>65000</td>\n",
       "      <td>3</td>\n",
       "      <td>3.8</td>\n",
       "      <td>2021-01-10</td>\n",
       "    </tr>\n",
       "  </tbody>\n",
       "</table>\n",
       "</div>"
      ],
      "text/plain": [
       "      name department  salary  years_exp  performance  hire_date\n",
       "1      Bob         IT   85000          8          4.5 2016-06-01\n",
       "4      Eve         IT   90000         10          4.7 2014-11-30\n",
       "0    Alice      Sales   70000          5          4.2 2019-03-15\n",
       "3    David      Sales   72000          6          4.0 2018-09-20\n",
       "5    Frank         HR   68000          4          3.9 2020-04-05\n",
       "2  Charlie         HR   65000          3          3.8 2021-01-10"
      ]
     },
     "execution_count": 14,
     "metadata": {},
     "output_type": "execute_result"
    }
   ],
   "source": [
    "# Sort by string length\n",
    "# R: arrange(df, nchar(name))\n",
    "df.sort_values('name', key=lambda x: x.str.len())"
   ]
  },
  {
   "cell_type": "code",
   "execution_count": 15,
   "id": "8916d3fa",
   "metadata": {},
   "outputs": [
    {
     "data": {
      "application/vnd.microsoft.datawrangler.viewer.v0+json": {
       "columns": [
        {
         "name": "index",
         "rawType": "int64",
         "type": "integer"
        },
        {
         "name": "name",
         "rawType": "object",
         "type": "string"
        },
        {
         "name": "department",
         "rawType": "object",
         "type": "string"
        },
        {
         "name": "salary",
         "rawType": "int64",
         "type": "integer"
        },
        {
         "name": "years_exp",
         "rawType": "int64",
         "type": "integer"
        },
        {
         "name": "performance",
         "rawType": "float64",
         "type": "float"
        },
        {
         "name": "hire_date",
         "rawType": "datetime64[ns]",
         "type": "datetime"
        }
       ],
       "ref": "68a86d0b-c133-416f-9df4-bde02d912333",
       "rows": [
        [
         "1",
         "Bob",
         "IT",
         "85000",
         "8",
         "4.5",
         "2016-06-01 00:00:00"
        ],
        [
         "3",
         "David",
         "Sales",
         "72000",
         "6",
         "4.0",
         "2018-09-20 00:00:00"
        ],
        [
         "0",
         "Alice",
         "Sales",
         "70000",
         "5",
         "4.2",
         "2019-03-15 00:00:00"
        ],
        [
         "2",
         "Charlie",
         "HR",
         "65000",
         "3",
         "3.8",
         "2021-01-10 00:00:00"
        ],
        [
         "4",
         "Eve",
         "IT",
         "90000",
         "10",
         "4.7",
         "2014-11-30 00:00:00"
        ],
        [
         "5",
         "Frank",
         "HR",
         "68000",
         "4",
         "3.9",
         "2020-04-05 00:00:00"
        ]
       ],
       "shape": {
        "columns": 6,
        "rows": 6
       }
      },
      "text/html": [
       "<div>\n",
       "<style scoped>\n",
       "    .dataframe tbody tr th:only-of-type {\n",
       "        vertical-align: middle;\n",
       "    }\n",
       "\n",
       "    .dataframe tbody tr th {\n",
       "        vertical-align: top;\n",
       "    }\n",
       "\n",
       "    .dataframe thead th {\n",
       "        text-align: right;\n",
       "    }\n",
       "</style>\n",
       "<table border=\"1\" class=\"dataframe\">\n",
       "  <thead>\n",
       "    <tr style=\"text-align: right;\">\n",
       "      <th></th>\n",
       "      <th>name</th>\n",
       "      <th>department</th>\n",
       "      <th>salary</th>\n",
       "      <th>years_exp</th>\n",
       "      <th>performance</th>\n",
       "      <th>hire_date</th>\n",
       "    </tr>\n",
       "  </thead>\n",
       "  <tbody>\n",
       "    <tr>\n",
       "      <th>1</th>\n",
       "      <td>Bob</td>\n",
       "      <td>IT</td>\n",
       "      <td>85000</td>\n",
       "      <td>8</td>\n",
       "      <td>4.5</td>\n",
       "      <td>2016-06-01</td>\n",
       "    </tr>\n",
       "    <tr>\n",
       "      <th>3</th>\n",
       "      <td>David</td>\n",
       "      <td>Sales</td>\n",
       "      <td>72000</td>\n",
       "      <td>6</td>\n",
       "      <td>4.0</td>\n",
       "      <td>2018-09-20</td>\n",
       "    </tr>\n",
       "    <tr>\n",
       "      <th>0</th>\n",
       "      <td>Alice</td>\n",
       "      <td>Sales</td>\n",
       "      <td>70000</td>\n",
       "      <td>5</td>\n",
       "      <td>4.2</td>\n",
       "      <td>2019-03-15</td>\n",
       "    </tr>\n",
       "    <tr>\n",
       "      <th>2</th>\n",
       "      <td>Charlie</td>\n",
       "      <td>HR</td>\n",
       "      <td>65000</td>\n",
       "      <td>3</td>\n",
       "      <td>3.8</td>\n",
       "      <td>2021-01-10</td>\n",
       "    </tr>\n",
       "    <tr>\n",
       "      <th>4</th>\n",
       "      <td>Eve</td>\n",
       "      <td>IT</td>\n",
       "      <td>90000</td>\n",
       "      <td>10</td>\n",
       "      <td>4.7</td>\n",
       "      <td>2014-11-30</td>\n",
       "    </tr>\n",
       "    <tr>\n",
       "      <th>5</th>\n",
       "      <td>Frank</td>\n",
       "      <td>HR</td>\n",
       "      <td>68000</td>\n",
       "      <td>4</td>\n",
       "      <td>3.9</td>\n",
       "      <td>2020-04-05</td>\n",
       "    </tr>\n",
       "  </tbody>\n",
       "</table>\n",
       "</div>"
      ],
      "text/plain": [
       "      name department  salary  years_exp  performance  hire_date\n",
       "1      Bob         IT   85000          8          4.5 2016-06-01\n",
       "3    David      Sales   72000          6          4.0 2018-09-20\n",
       "0    Alice      Sales   70000          5          4.2 2019-03-15\n",
       "2  Charlie         HR   65000          3          3.8 2021-01-10\n",
       "4      Eve         IT   90000         10          4.7 2014-11-30\n",
       "5    Frank         HR   68000          4          3.9 2020-04-05"
      ]
     },
     "execution_count": 15,
     "metadata": {},
     "output_type": "execute_result"
    }
   ],
   "source": [
    "# Sort by last character of name\n",
    "# R: arrange(df, substr(name, nchar(name), nchar(name)))\n",
    "df.sort_values('name', key=lambda x: x.str[-1])"
   ]
  },
  {
   "cell_type": "code",
   "execution_count": 16,
   "id": "af414607",
   "metadata": {},
   "outputs": [
    {
     "data": {
      "application/vnd.microsoft.datawrangler.viewer.v0+json": {
       "columns": [
        {
         "name": "index",
         "rawType": "int64",
         "type": "integer"
        },
        {
         "name": "name",
         "rawType": "object",
         "type": "string"
        },
        {
         "name": "department",
         "rawType": "object",
         "type": "string"
        },
        {
         "name": "salary",
         "rawType": "int64",
         "type": "integer"
        },
        {
         "name": "years_exp",
         "rawType": "int64",
         "type": "integer"
        },
        {
         "name": "performance",
         "rawType": "float64",
         "type": "float"
        },
        {
         "name": "hire_date",
         "rawType": "datetime64[ns]",
         "type": "datetime"
        }
       ],
       "ref": "50b35ff9-bf92-4184-9e25-45c6df3f1d02",
       "rows": [
        [
         "2",
         "Charlie",
         "HR",
         "65000",
         "3",
         "3.8",
         "2021-01-10 00:00:00"
        ],
        [
         "5",
         "Frank",
         "HR",
         "68000",
         "4",
         "3.9",
         "2020-04-05 00:00:00"
        ],
        [
         "1",
         "Bob",
         "it",
         "85000",
         "8",
         "4.5",
         "2016-06-01 00:00:00"
        ],
        [
         "4",
         "Eve",
         "IT",
         "90000",
         "10",
         "4.7",
         "2014-11-30 00:00:00"
        ],
        [
         "0",
         "Alice",
         "Sales",
         "70000",
         "5",
         "4.2",
         "2019-03-15 00:00:00"
        ],
        [
         "3",
         "David",
         "SALES",
         "72000",
         "6",
         "4.0",
         "2018-09-20 00:00:00"
        ]
       ],
       "shape": {
        "columns": 6,
        "rows": 6
       }
      },
      "text/html": [
       "<div>\n",
       "<style scoped>\n",
       "    .dataframe tbody tr th:only-of-type {\n",
       "        vertical-align: middle;\n",
       "    }\n",
       "\n",
       "    .dataframe tbody tr th {\n",
       "        vertical-align: top;\n",
       "    }\n",
       "\n",
       "    .dataframe thead th {\n",
       "        text-align: right;\n",
       "    }\n",
       "</style>\n",
       "<table border=\"1\" class=\"dataframe\">\n",
       "  <thead>\n",
       "    <tr style=\"text-align: right;\">\n",
       "      <th></th>\n",
       "      <th>name</th>\n",
       "      <th>department</th>\n",
       "      <th>salary</th>\n",
       "      <th>years_exp</th>\n",
       "      <th>performance</th>\n",
       "      <th>hire_date</th>\n",
       "    </tr>\n",
       "  </thead>\n",
       "  <tbody>\n",
       "    <tr>\n",
       "      <th>2</th>\n",
       "      <td>Charlie</td>\n",
       "      <td>HR</td>\n",
       "      <td>65000</td>\n",
       "      <td>3</td>\n",
       "      <td>3.8</td>\n",
       "      <td>2021-01-10</td>\n",
       "    </tr>\n",
       "    <tr>\n",
       "      <th>5</th>\n",
       "      <td>Frank</td>\n",
       "      <td>HR</td>\n",
       "      <td>68000</td>\n",
       "      <td>4</td>\n",
       "      <td>3.9</td>\n",
       "      <td>2020-04-05</td>\n",
       "    </tr>\n",
       "    <tr>\n",
       "      <th>1</th>\n",
       "      <td>Bob</td>\n",
       "      <td>it</td>\n",
       "      <td>85000</td>\n",
       "      <td>8</td>\n",
       "      <td>4.5</td>\n",
       "      <td>2016-06-01</td>\n",
       "    </tr>\n",
       "    <tr>\n",
       "      <th>4</th>\n",
       "      <td>Eve</td>\n",
       "      <td>IT</td>\n",
       "      <td>90000</td>\n",
       "      <td>10</td>\n",
       "      <td>4.7</td>\n",
       "      <td>2014-11-30</td>\n",
       "    </tr>\n",
       "    <tr>\n",
       "      <th>0</th>\n",
       "      <td>Alice</td>\n",
       "      <td>Sales</td>\n",
       "      <td>70000</td>\n",
       "      <td>5</td>\n",
       "      <td>4.2</td>\n",
       "      <td>2019-03-15</td>\n",
       "    </tr>\n",
       "    <tr>\n",
       "      <th>3</th>\n",
       "      <td>David</td>\n",
       "      <td>SALES</td>\n",
       "      <td>72000</td>\n",
       "      <td>6</td>\n",
       "      <td>4.0</td>\n",
       "      <td>2018-09-20</td>\n",
       "    </tr>\n",
       "  </tbody>\n",
       "</table>\n",
       "</div>"
      ],
      "text/plain": [
       "      name department  salary  years_exp  performance  hire_date\n",
       "2  Charlie         HR   65000          3          3.8 2021-01-10\n",
       "5    Frank         HR   68000          4          3.9 2020-04-05\n",
       "1      Bob         it   85000          8          4.5 2016-06-01\n",
       "4      Eve         IT   90000         10          4.7 2014-11-30\n",
       "0    Alice      Sales   70000          5          4.2 2019-03-15\n",
       "3    David      SALES   72000          6          4.0 2018-09-20"
      ]
     },
     "execution_count": 16,
     "metadata": {},
     "output_type": "execute_result"
    }
   ],
   "source": [
    "# Case-insensitive sorting\n",
    "# R: arrange(df, tolower(department))\n",
    "df_mixed_case = df.copy()\n",
    "df_mixed_case.loc[1, 'department'] = 'it'  # lowercase\n",
    "df_mixed_case.loc[3, 'department'] = 'SALES'  # uppercase\n",
    "\n",
    "df_mixed_case.sort_values('department', key=lambda x: x.str.lower())"
   ]
  },
  {
   "cell_type": "markdown",
   "id": "0ffde45b",
   "metadata": {},
   "source": [
    "## Sorting in Method Chains\n",
    "\n",
    "Integrating sorting into data pipelines:"
   ]
  },
  {
   "cell_type": "code",
   "execution_count": 17,
   "id": "9d32d864",
   "metadata": {},
   "outputs": [
    {
     "data": {
      "application/vnd.microsoft.datawrangler.viewer.v0+json": {
       "columns": [
        {
         "name": "index",
         "rawType": "int64",
         "type": "integer"
        },
        {
         "name": "name",
         "rawType": "object",
         "type": "string"
        },
        {
         "name": "department",
         "rawType": "object",
         "type": "string"
        },
        {
         "name": "performance",
         "rawType": "float64",
         "type": "float"
        },
        {
         "name": "salary",
         "rawType": "int64",
         "type": "integer"
        }
       ],
       "ref": "5789f5a0-a279-4147-a79a-5ba689948c8b",
       "rows": [
        [
         "4",
         "Eve",
         "IT",
         "4.7",
         "90000"
        ],
        [
         "1",
         "Bob",
         "IT",
         "4.5",
         "85000"
        ],
        [
         "0",
         "Alice",
         "Sales",
         "4.2",
         "70000"
        ],
        [
         "3",
         "David",
         "Sales",
         "4.0",
         "72000"
        ]
       ],
       "shape": {
        "columns": 4,
        "rows": 4
       }
      },
      "text/html": [
       "<div>\n",
       "<style scoped>\n",
       "    .dataframe tbody tr th:only-of-type {\n",
       "        vertical-align: middle;\n",
       "    }\n",
       "\n",
       "    .dataframe tbody tr th {\n",
       "        vertical-align: top;\n",
       "    }\n",
       "\n",
       "    .dataframe thead th {\n",
       "        text-align: right;\n",
       "    }\n",
       "</style>\n",
       "<table border=\"1\" class=\"dataframe\">\n",
       "  <thead>\n",
       "    <tr style=\"text-align: right;\">\n",
       "      <th></th>\n",
       "      <th>name</th>\n",
       "      <th>department</th>\n",
       "      <th>performance</th>\n",
       "      <th>salary</th>\n",
       "    </tr>\n",
       "  </thead>\n",
       "  <tbody>\n",
       "    <tr>\n",
       "      <th>4</th>\n",
       "      <td>Eve</td>\n",
       "      <td>IT</td>\n",
       "      <td>4.7</td>\n",
       "      <td>90000</td>\n",
       "    </tr>\n",
       "    <tr>\n",
       "      <th>1</th>\n",
       "      <td>Bob</td>\n",
       "      <td>IT</td>\n",
       "      <td>4.5</td>\n",
       "      <td>85000</td>\n",
       "    </tr>\n",
       "    <tr>\n",
       "      <th>0</th>\n",
       "      <td>Alice</td>\n",
       "      <td>Sales</td>\n",
       "      <td>4.2</td>\n",
       "      <td>70000</td>\n",
       "    </tr>\n",
       "    <tr>\n",
       "      <th>3</th>\n",
       "      <td>David</td>\n",
       "      <td>Sales</td>\n",
       "      <td>4.0</td>\n",
       "      <td>72000</td>\n",
       "    </tr>\n",
       "  </tbody>\n",
       "</table>\n",
       "</div>"
      ],
      "text/plain": [
       "    name department  performance  salary\n",
       "4    Eve         IT          4.7   90000\n",
       "1    Bob         IT          4.5   85000\n",
       "0  Alice      Sales          4.2   70000\n",
       "3  David      Sales          4.0   72000"
      ]
     },
     "execution_count": 17,
     "metadata": {},
     "output_type": "execute_result"
    }
   ],
   "source": [
    "# Complex chain with sorting\n",
    "# R: df %>%\n",
    "#     filter(salary > 68000) %>%\n",
    "#     arrange(desc(performance), salary) %>%\n",
    "#     select(name, department, performance, salary)\n",
    "result = (df\n",
    "    .query('salary > 68000')\n",
    "    .sort_values(['performance', 'salary'], ascending=[False, True])\n",
    "    [['name', 'department', 'performance', 'salary']]\n",
    ")\n",
    "result"
   ]
  },
  {
   "cell_type": "code",
   "execution_count": 18,
   "id": "3332f6fe",
   "metadata": {},
   "outputs": [
    {
     "data": {
      "application/vnd.microsoft.datawrangler.viewer.v0+json": {
       "columns": [
        {
         "name": "department",
         "rawType": "object",
         "type": "string"
        },
        {
         "name": "avg_salary",
         "rawType": "float64",
         "type": "float"
        }
       ],
       "ref": "3b34c890-aa75-403c-a397-069b49e0a651",
       "rows": [
        [
         "IT",
         "87500.0"
        ],
        [
         "Sales",
         "71000.0"
        ],
        [
         "HR",
         "66500.0"
        ]
       ],
       "shape": {
        "columns": 1,
        "rows": 3
       }
      },
      "text/html": [
       "<div>\n",
       "<style scoped>\n",
       "    .dataframe tbody tr th:only-of-type {\n",
       "        vertical-align: middle;\n",
       "    }\n",
       "\n",
       "    .dataframe tbody tr th {\n",
       "        vertical-align: top;\n",
       "    }\n",
       "\n",
       "    .dataframe thead th {\n",
       "        text-align: right;\n",
       "    }\n",
       "</style>\n",
       "<table border=\"1\" class=\"dataframe\">\n",
       "  <thead>\n",
       "    <tr style=\"text-align: right;\">\n",
       "      <th></th>\n",
       "      <th>avg_salary</th>\n",
       "    </tr>\n",
       "    <tr>\n",
       "      <th>department</th>\n",
       "      <th></th>\n",
       "    </tr>\n",
       "  </thead>\n",
       "  <tbody>\n",
       "    <tr>\n",
       "      <th>IT</th>\n",
       "      <td>87500.0</td>\n",
       "    </tr>\n",
       "    <tr>\n",
       "      <th>Sales</th>\n",
       "      <td>71000.0</td>\n",
       "    </tr>\n",
       "    <tr>\n",
       "      <th>HR</th>\n",
       "      <td>66500.0</td>\n",
       "    </tr>\n",
       "  </tbody>\n",
       "</table>\n",
       "</div>"
      ],
      "text/plain": [
       "            avg_salary\n",
       "department            \n",
       "IT             87500.0\n",
       "Sales          71000.0\n",
       "HR             66500.0"
      ]
     },
     "execution_count": 18,
     "metadata": {},
     "output_type": "execute_result"
    }
   ],
   "source": [
    "# Sorting after groupby operations\n",
    "# R: df %>%\n",
    "#     group_by(department) %>%\n",
    "#     summarize(avg_salary = mean(salary)) %>%\n",
    "#     arrange(desc(avg_salary))\n",
    "(df\n",
    "    .groupby('department')\n",
    "    .agg(avg_salary=('salary', 'mean'))\n",
    "    .sort_values('avg_salary', ascending=False)\n",
    ")"
   ]
  },
  {
   "cell_type": "markdown",
   "id": "c4d977d5",
   "metadata": {},
   "source": [
    "## Rank and Order Operations\n",
    "\n",
    "Getting ranks and ordering positions:"
   ]
  },
  {
   "cell_type": "code",
   "execution_count": 19,
   "id": "8d790720",
   "metadata": {},
   "outputs": [
    {
     "data": {
      "application/vnd.microsoft.datawrangler.viewer.v0+json": {
       "columns": [
        {
         "name": "index",
         "rawType": "int64",
         "type": "integer"
        },
        {
         "name": "name",
         "rawType": "object",
         "type": "string"
        },
        {
         "name": "salary",
         "rawType": "int64",
         "type": "integer"
        },
        {
         "name": "salary_rank",
         "rawType": "float64",
         "type": "float"
        }
       ],
       "ref": "114fd268-5316-49c8-92a8-7f88bdfc15b3",
       "rows": [
        [
         "0",
         "Alice",
         "70000",
         "3.0"
        ],
        [
         "1",
         "Bob",
         "85000",
         "5.0"
        ],
        [
         "2",
         "Charlie",
         "65000",
         "1.0"
        ],
        [
         "3",
         "David",
         "72000",
         "4.0"
        ],
        [
         "4",
         "Eve",
         "90000",
         "6.0"
        ],
        [
         "5",
         "Frank",
         "68000",
         "2.0"
        ]
       ],
       "shape": {
        "columns": 3,
        "rows": 6
       }
      },
      "text/html": [
       "<div>\n",
       "<style scoped>\n",
       "    .dataframe tbody tr th:only-of-type {\n",
       "        vertical-align: middle;\n",
       "    }\n",
       "\n",
       "    .dataframe tbody tr th {\n",
       "        vertical-align: top;\n",
       "    }\n",
       "\n",
       "    .dataframe thead th {\n",
       "        text-align: right;\n",
       "    }\n",
       "</style>\n",
       "<table border=\"1\" class=\"dataframe\">\n",
       "  <thead>\n",
       "    <tr style=\"text-align: right;\">\n",
       "      <th></th>\n",
       "      <th>name</th>\n",
       "      <th>salary</th>\n",
       "      <th>salary_rank</th>\n",
       "    </tr>\n",
       "  </thead>\n",
       "  <tbody>\n",
       "    <tr>\n",
       "      <th>0</th>\n",
       "      <td>Alice</td>\n",
       "      <td>70000</td>\n",
       "      <td>3.0</td>\n",
       "    </tr>\n",
       "    <tr>\n",
       "      <th>1</th>\n",
       "      <td>Bob</td>\n",
       "      <td>85000</td>\n",
       "      <td>5.0</td>\n",
       "    </tr>\n",
       "    <tr>\n",
       "      <th>2</th>\n",
       "      <td>Charlie</td>\n",
       "      <td>65000</td>\n",
       "      <td>1.0</td>\n",
       "    </tr>\n",
       "    <tr>\n",
       "      <th>3</th>\n",
       "      <td>David</td>\n",
       "      <td>72000</td>\n",
       "      <td>4.0</td>\n",
       "    </tr>\n",
       "    <tr>\n",
       "      <th>4</th>\n",
       "      <td>Eve</td>\n",
       "      <td>90000</td>\n",
       "      <td>6.0</td>\n",
       "    </tr>\n",
       "    <tr>\n",
       "      <th>5</th>\n",
       "      <td>Frank</td>\n",
       "      <td>68000</td>\n",
       "      <td>2.0</td>\n",
       "    </tr>\n",
       "  </tbody>\n",
       "</table>\n",
       "</div>"
      ],
      "text/plain": [
       "      name  salary  salary_rank\n",
       "0    Alice   70000          3.0\n",
       "1      Bob   85000          5.0\n",
       "2  Charlie   65000          1.0\n",
       "3    David   72000          4.0\n",
       "4      Eve   90000          6.0\n",
       "5    Frank   68000          2.0"
      ]
     },
     "execution_count": 19,
     "metadata": {},
     "output_type": "execute_result"
    }
   ],
   "source": [
    "# Add rank column\n",
    "# R: mutate(df, salary_rank = rank(salary))\n",
    "df['salary_rank'] = df['salary'].rank()\n",
    "df[['name', 'salary', 'salary_rank']]"
   ]
  },
  {
   "cell_type": "code",
   "execution_count": 20,
   "id": "17890166",
   "metadata": {},
   "outputs": [
    {
     "data": {
      "application/vnd.microsoft.datawrangler.viewer.v0+json": {
       "columns": [
        {
         "name": "index",
         "rawType": "int64",
         "type": "integer"
        },
        {
         "name": "name",
         "rawType": "object",
         "type": "string"
        },
        {
         "name": "salary",
         "rawType": "int64",
         "type": "integer"
        },
        {
         "name": "rank_min",
         "rawType": "float64",
         "type": "float"
        },
        {
         "name": "rank_avg",
         "rawType": "float64",
         "type": "float"
        },
        {
         "name": "rank_max",
         "rawType": "float64",
         "type": "float"
        },
        {
         "name": "rank_dense",
         "rawType": "float64",
         "type": "float"
        }
       ],
       "ref": "d17de8f5-87e2-4980-8656-3dae4757ccb5",
       "rows": [
        [
         "0",
         "Alice",
         "70000",
         "3.0",
         "3.0",
         "3.0",
         "3.0"
        ],
        [
         "1",
         "Bob",
         "85000",
         "5.0",
         "5.0",
         "5.0",
         "5.0"
        ],
        [
         "2",
         "Charlie",
         "65000",
         "1.0",
         "1.0",
         "1.0",
         "1.0"
        ],
        [
         "3",
         "David",
         "72000",
         "4.0",
         "4.0",
         "4.0",
         "4.0"
        ],
        [
         "4",
         "Eve",
         "90000",
         "6.0",
         "6.0",
         "6.0",
         "6.0"
        ],
        [
         "5",
         "Frank",
         "68000",
         "2.0",
         "2.0",
         "2.0",
         "2.0"
        ]
       ],
       "shape": {
        "columns": 6,
        "rows": 6
       }
      },
      "text/html": [
       "<div>\n",
       "<style scoped>\n",
       "    .dataframe tbody tr th:only-of-type {\n",
       "        vertical-align: middle;\n",
       "    }\n",
       "\n",
       "    .dataframe tbody tr th {\n",
       "        vertical-align: top;\n",
       "    }\n",
       "\n",
       "    .dataframe thead th {\n",
       "        text-align: right;\n",
       "    }\n",
       "</style>\n",
       "<table border=\"1\" class=\"dataframe\">\n",
       "  <thead>\n",
       "    <tr style=\"text-align: right;\">\n",
       "      <th></th>\n",
       "      <th>name</th>\n",
       "      <th>salary</th>\n",
       "      <th>rank_min</th>\n",
       "      <th>rank_avg</th>\n",
       "      <th>rank_max</th>\n",
       "      <th>rank_dense</th>\n",
       "    </tr>\n",
       "  </thead>\n",
       "  <tbody>\n",
       "    <tr>\n",
       "      <th>0</th>\n",
       "      <td>Alice</td>\n",
       "      <td>70000</td>\n",
       "      <td>3.0</td>\n",
       "      <td>3.0</td>\n",
       "      <td>3.0</td>\n",
       "      <td>3.0</td>\n",
       "    </tr>\n",
       "    <tr>\n",
       "      <th>1</th>\n",
       "      <td>Bob</td>\n",
       "      <td>85000</td>\n",
       "      <td>5.0</td>\n",
       "      <td>5.0</td>\n",
       "      <td>5.0</td>\n",
       "      <td>5.0</td>\n",
       "    </tr>\n",
       "    <tr>\n",
       "      <th>2</th>\n",
       "      <td>Charlie</td>\n",
       "      <td>65000</td>\n",
       "      <td>1.0</td>\n",
       "      <td>1.0</td>\n",
       "      <td>1.0</td>\n",
       "      <td>1.0</td>\n",
       "    </tr>\n",
       "    <tr>\n",
       "      <th>3</th>\n",
       "      <td>David</td>\n",
       "      <td>72000</td>\n",
       "      <td>4.0</td>\n",
       "      <td>4.0</td>\n",
       "      <td>4.0</td>\n",
       "      <td>4.0</td>\n",
       "    </tr>\n",
       "    <tr>\n",
       "      <th>4</th>\n",
       "      <td>Eve</td>\n",
       "      <td>90000</td>\n",
       "      <td>6.0</td>\n",
       "      <td>6.0</td>\n",
       "      <td>6.0</td>\n",
       "      <td>6.0</td>\n",
       "    </tr>\n",
       "    <tr>\n",
       "      <th>5</th>\n",
       "      <td>Frank</td>\n",
       "      <td>68000</td>\n",
       "      <td>2.0</td>\n",
       "      <td>2.0</td>\n",
       "      <td>2.0</td>\n",
       "      <td>2.0</td>\n",
       "    </tr>\n",
       "  </tbody>\n",
       "</table>\n",
       "</div>"
      ],
      "text/plain": [
       "      name  salary  rank_min  rank_avg  rank_max  rank_dense\n",
       "0    Alice   70000       3.0       3.0       3.0         3.0\n",
       "1      Bob   85000       5.0       5.0       5.0         5.0\n",
       "2  Charlie   65000       1.0       1.0       1.0         1.0\n",
       "3    David   72000       4.0       4.0       4.0         4.0\n",
       "4      Eve   90000       6.0       6.0       6.0         6.0\n",
       "5    Frank   68000       2.0       2.0       2.0         2.0"
      ]
     },
     "execution_count": 20,
     "metadata": {},
     "output_type": "execute_result"
    }
   ],
   "source": [
    "# Different ranking methods\n",
    "# R: mutate(df, \n",
    "#          rank_min = rank(salary, ties.method = \"min\"),\n",
    "#          rank_avg = rank(salary, ties.method = \"average\"),\n",
    "#          rank_dense = dense_rank(salary))\n",
    "df_ranks = df.assign(\n",
    "    rank_min = df['salary'].rank(method='min'),\n",
    "    rank_avg = df['salary'].rank(method='average'),\n",
    "    rank_max = df['salary'].rank(method='max'),\n",
    "    rank_dense = df['salary'].rank(method='dense')\n",
    ")\n",
    "df_ranks[['name', 'salary', 'rank_min', 'rank_avg', 'rank_max', 'rank_dense']]"
   ]
  },
  {
   "cell_type": "code",
   "execution_count": 21,
   "id": "af8c2229",
   "metadata": {},
   "outputs": [
    {
     "data": {
      "application/vnd.microsoft.datawrangler.viewer.v0+json": {
       "columns": [
        {
         "name": "index",
         "rawType": "int64",
         "type": "integer"
        },
        {
         "name": "name",
         "rawType": "object",
         "type": "string"
        },
        {
         "name": "department",
         "rawType": "object",
         "type": "string"
        },
        {
         "name": "salary",
         "rawType": "int64",
         "type": "integer"
        },
        {
         "name": "years_exp",
         "rawType": "int64",
         "type": "integer"
        },
        {
         "name": "performance",
         "rawType": "float64",
         "type": "float"
        },
        {
         "name": "hire_date",
         "rawType": "datetime64[ns]",
         "type": "datetime"
        },
        {
         "name": "salary_rank",
         "rawType": "float64",
         "type": "float"
        },
        {
         "name": "dept_salary_rank",
         "rawType": "float64",
         "type": "float"
        }
       ],
       "ref": "358f67d7-c37a-40b5-95d7-2790e2b8f2b2",
       "rows": [
        [
         "5",
         "Frank",
         "HR",
         "68000",
         "4",
         "3.9",
         "2020-04-05 00:00:00",
         "2.0",
         "1.0"
        ],
        [
         "2",
         "Charlie",
         "HR",
         "65000",
         "3",
         "3.8",
         "2021-01-10 00:00:00",
         "1.0",
         "2.0"
        ],
        [
         "4",
         "Eve",
         "IT",
         "90000",
         "10",
         "4.7",
         "2014-11-30 00:00:00",
         "6.0",
         "1.0"
        ],
        [
         "1",
         "Bob",
         "IT",
         "85000",
         "8",
         "4.5",
         "2016-06-01 00:00:00",
         "5.0",
         "2.0"
        ],
        [
         "3",
         "David",
         "Sales",
         "72000",
         "6",
         "4.0",
         "2018-09-20 00:00:00",
         "4.0",
         "1.0"
        ],
        [
         "0",
         "Alice",
         "Sales",
         "70000",
         "5",
         "4.2",
         "2019-03-15 00:00:00",
         "3.0",
         "2.0"
        ]
       ],
       "shape": {
        "columns": 8,
        "rows": 6
       }
      },
      "text/html": [
       "<div>\n",
       "<style scoped>\n",
       "    .dataframe tbody tr th:only-of-type {\n",
       "        vertical-align: middle;\n",
       "    }\n",
       "\n",
       "    .dataframe tbody tr th {\n",
       "        vertical-align: top;\n",
       "    }\n",
       "\n",
       "    .dataframe thead th {\n",
       "        text-align: right;\n",
       "    }\n",
       "</style>\n",
       "<table border=\"1\" class=\"dataframe\">\n",
       "  <thead>\n",
       "    <tr style=\"text-align: right;\">\n",
       "      <th></th>\n",
       "      <th>name</th>\n",
       "      <th>department</th>\n",
       "      <th>salary</th>\n",
       "      <th>years_exp</th>\n",
       "      <th>performance</th>\n",
       "      <th>hire_date</th>\n",
       "      <th>salary_rank</th>\n",
       "      <th>dept_salary_rank</th>\n",
       "    </tr>\n",
       "  </thead>\n",
       "  <tbody>\n",
       "    <tr>\n",
       "      <th>5</th>\n",
       "      <td>Frank</td>\n",
       "      <td>HR</td>\n",
       "      <td>68000</td>\n",
       "      <td>4</td>\n",
       "      <td>3.9</td>\n",
       "      <td>2020-04-05</td>\n",
       "      <td>2.0</td>\n",
       "      <td>1.0</td>\n",
       "    </tr>\n",
       "    <tr>\n",
       "      <th>2</th>\n",
       "      <td>Charlie</td>\n",
       "      <td>HR</td>\n",
       "      <td>65000</td>\n",
       "      <td>3</td>\n",
       "      <td>3.8</td>\n",
       "      <td>2021-01-10</td>\n",
       "      <td>1.0</td>\n",
       "      <td>2.0</td>\n",
       "    </tr>\n",
       "    <tr>\n",
       "      <th>4</th>\n",
       "      <td>Eve</td>\n",
       "      <td>IT</td>\n",
       "      <td>90000</td>\n",
       "      <td>10</td>\n",
       "      <td>4.7</td>\n",
       "      <td>2014-11-30</td>\n",
       "      <td>6.0</td>\n",
       "      <td>1.0</td>\n",
       "    </tr>\n",
       "    <tr>\n",
       "      <th>1</th>\n",
       "      <td>Bob</td>\n",
       "      <td>IT</td>\n",
       "      <td>85000</td>\n",
       "      <td>8</td>\n",
       "      <td>4.5</td>\n",
       "      <td>2016-06-01</td>\n",
       "      <td>5.0</td>\n",
       "      <td>2.0</td>\n",
       "    </tr>\n",
       "    <tr>\n",
       "      <th>3</th>\n",
       "      <td>David</td>\n",
       "      <td>Sales</td>\n",
       "      <td>72000</td>\n",
       "      <td>6</td>\n",
       "      <td>4.0</td>\n",
       "      <td>2018-09-20</td>\n",
       "      <td>4.0</td>\n",
       "      <td>1.0</td>\n",
       "    </tr>\n",
       "    <tr>\n",
       "      <th>0</th>\n",
       "      <td>Alice</td>\n",
       "      <td>Sales</td>\n",
       "      <td>70000</td>\n",
       "      <td>5</td>\n",
       "      <td>4.2</td>\n",
       "      <td>2019-03-15</td>\n",
       "      <td>3.0</td>\n",
       "      <td>2.0</td>\n",
       "    </tr>\n",
       "  </tbody>\n",
       "</table>\n",
       "</div>"
      ],
      "text/plain": [
       "      name department  salary  years_exp  performance  hire_date  salary_rank  \\\n",
       "5    Frank         HR   68000          4          3.9 2020-04-05          2.0   \n",
       "2  Charlie         HR   65000          3          3.8 2021-01-10          1.0   \n",
       "4      Eve         IT   90000         10          4.7 2014-11-30          6.0   \n",
       "1      Bob         IT   85000          8          4.5 2016-06-01          5.0   \n",
       "3    David      Sales   72000          6          4.0 2018-09-20          4.0   \n",
       "0    Alice      Sales   70000          5          4.2 2019-03-15          3.0   \n",
       "\n",
       "   dept_salary_rank  \n",
       "5               1.0  \n",
       "2               2.0  \n",
       "4               1.0  \n",
       "1               2.0  \n",
       "3               1.0  \n",
       "0               2.0  "
      ]
     },
     "execution_count": 21,
     "metadata": {},
     "output_type": "execute_result"
    }
   ],
   "source": [
    "# Ranking within groups\n",
    "# R: df %>% \n",
    "#     group_by(department) %>% \n",
    "#     mutate(dept_salary_rank = rank(desc(salary)))\n",
    "df['dept_salary_rank'] = df.groupby('department')['salary'].rank(ascending=False)\n",
    "df.sort_values(['department', 'dept_salary_rank'])"
   ]
  },
  {
   "cell_type": "markdown",
   "id": "116802cc",
   "metadata": {},
   "source": [
    "## Top N Operations\n",
    "\n",
    "Getting top/bottom N rows:"
   ]
  },
  {
   "cell_type": "code",
   "execution_count": 22,
   "id": "5e94425c",
   "metadata": {},
   "outputs": [
    {
     "data": {
      "application/vnd.microsoft.datawrangler.viewer.v0+json": {
       "columns": [
        {
         "name": "index",
         "rawType": "int64",
         "type": "integer"
        },
        {
         "name": "name",
         "rawType": "object",
         "type": "string"
        },
        {
         "name": "department",
         "rawType": "object",
         "type": "string"
        },
        {
         "name": "salary",
         "rawType": "int64",
         "type": "integer"
        },
        {
         "name": "years_exp",
         "rawType": "int64",
         "type": "integer"
        },
        {
         "name": "performance",
         "rawType": "float64",
         "type": "float"
        },
        {
         "name": "hire_date",
         "rawType": "datetime64[ns]",
         "type": "datetime"
        },
        {
         "name": "salary_rank",
         "rawType": "float64",
         "type": "float"
        },
        {
         "name": "dept_salary_rank",
         "rawType": "float64",
         "type": "float"
        }
       ],
       "ref": "ca719f32-8f2e-41df-b41e-db139282f632",
       "rows": [
        [
         "4",
         "Eve",
         "IT",
         "90000",
         "10",
         "4.7",
         "2014-11-30 00:00:00",
         "6.0",
         "1.0"
        ],
        [
         "1",
         "Bob",
         "IT",
         "85000",
         "8",
         "4.5",
         "2016-06-01 00:00:00",
         "5.0",
         "2.0"
        ],
        [
         "3",
         "David",
         "Sales",
         "72000",
         "6",
         "4.0",
         "2018-09-20 00:00:00",
         "4.0",
         "1.0"
        ]
       ],
       "shape": {
        "columns": 8,
        "rows": 3
       }
      },
      "text/html": [
       "<div>\n",
       "<style scoped>\n",
       "    .dataframe tbody tr th:only-of-type {\n",
       "        vertical-align: middle;\n",
       "    }\n",
       "\n",
       "    .dataframe tbody tr th {\n",
       "        vertical-align: top;\n",
       "    }\n",
       "\n",
       "    .dataframe thead th {\n",
       "        text-align: right;\n",
       "    }\n",
       "</style>\n",
       "<table border=\"1\" class=\"dataframe\">\n",
       "  <thead>\n",
       "    <tr style=\"text-align: right;\">\n",
       "      <th></th>\n",
       "      <th>name</th>\n",
       "      <th>department</th>\n",
       "      <th>salary</th>\n",
       "      <th>years_exp</th>\n",
       "      <th>performance</th>\n",
       "      <th>hire_date</th>\n",
       "      <th>salary_rank</th>\n",
       "      <th>dept_salary_rank</th>\n",
       "    </tr>\n",
       "  </thead>\n",
       "  <tbody>\n",
       "    <tr>\n",
       "      <th>4</th>\n",
       "      <td>Eve</td>\n",
       "      <td>IT</td>\n",
       "      <td>90000</td>\n",
       "      <td>10</td>\n",
       "      <td>4.7</td>\n",
       "      <td>2014-11-30</td>\n",
       "      <td>6.0</td>\n",
       "      <td>1.0</td>\n",
       "    </tr>\n",
       "    <tr>\n",
       "      <th>1</th>\n",
       "      <td>Bob</td>\n",
       "      <td>IT</td>\n",
       "      <td>85000</td>\n",
       "      <td>8</td>\n",
       "      <td>4.5</td>\n",
       "      <td>2016-06-01</td>\n",
       "      <td>5.0</td>\n",
       "      <td>2.0</td>\n",
       "    </tr>\n",
       "    <tr>\n",
       "      <th>3</th>\n",
       "      <td>David</td>\n",
       "      <td>Sales</td>\n",
       "      <td>72000</td>\n",
       "      <td>6</td>\n",
       "      <td>4.0</td>\n",
       "      <td>2018-09-20</td>\n",
       "      <td>4.0</td>\n",
       "      <td>1.0</td>\n",
       "    </tr>\n",
       "  </tbody>\n",
       "</table>\n",
       "</div>"
      ],
      "text/plain": [
       "    name department  salary  years_exp  performance  hire_date  salary_rank  \\\n",
       "4    Eve         IT   90000         10          4.7 2014-11-30          6.0   \n",
       "1    Bob         IT   85000          8          4.5 2016-06-01          5.0   \n",
       "3  David      Sales   72000          6          4.0 2018-09-20          4.0   \n",
       "\n",
       "   dept_salary_rank  \n",
       "4               1.0  \n",
       "1               2.0  \n",
       "3               1.0  "
      ]
     },
     "execution_count": 22,
     "metadata": {},
     "output_type": "execute_result"
    }
   ],
   "source": [
    "# Top N by value\n",
    "# R: slice_max(df, salary, n = 3)\n",
    "df.nlargest(3, 'salary')"
   ]
  },
  {
   "cell_type": "code",
   "execution_count": 23,
   "id": "6c9058a6",
   "metadata": {},
   "outputs": [
    {
     "data": {
      "application/vnd.microsoft.datawrangler.viewer.v0+json": {
       "columns": [
        {
         "name": "index",
         "rawType": "int64",
         "type": "integer"
        },
        {
         "name": "name",
         "rawType": "object",
         "type": "string"
        },
        {
         "name": "department",
         "rawType": "object",
         "type": "string"
        },
        {
         "name": "salary",
         "rawType": "int64",
         "type": "integer"
        },
        {
         "name": "years_exp",
         "rawType": "int64",
         "type": "integer"
        },
        {
         "name": "performance",
         "rawType": "float64",
         "type": "float"
        },
        {
         "name": "hire_date",
         "rawType": "datetime64[ns]",
         "type": "datetime"
        },
        {
         "name": "salary_rank",
         "rawType": "float64",
         "type": "float"
        },
        {
         "name": "dept_salary_rank",
         "rawType": "float64",
         "type": "float"
        }
       ],
       "ref": "3197cbe7-5edd-4d5d-9f33-91771a5f0faa",
       "rows": [
        [
         "2",
         "Charlie",
         "HR",
         "65000",
         "3",
         "3.8",
         "2021-01-10 00:00:00",
         "1.0",
         "2.0"
        ],
        [
         "5",
         "Frank",
         "HR",
         "68000",
         "4",
         "3.9",
         "2020-04-05 00:00:00",
         "2.0",
         "1.0"
        ]
       ],
       "shape": {
        "columns": 8,
        "rows": 2
       }
      },
      "text/html": [
       "<div>\n",
       "<style scoped>\n",
       "    .dataframe tbody tr th:only-of-type {\n",
       "        vertical-align: middle;\n",
       "    }\n",
       "\n",
       "    .dataframe tbody tr th {\n",
       "        vertical-align: top;\n",
       "    }\n",
       "\n",
       "    .dataframe thead th {\n",
       "        text-align: right;\n",
       "    }\n",
       "</style>\n",
       "<table border=\"1\" class=\"dataframe\">\n",
       "  <thead>\n",
       "    <tr style=\"text-align: right;\">\n",
       "      <th></th>\n",
       "      <th>name</th>\n",
       "      <th>department</th>\n",
       "      <th>salary</th>\n",
       "      <th>years_exp</th>\n",
       "      <th>performance</th>\n",
       "      <th>hire_date</th>\n",
       "      <th>salary_rank</th>\n",
       "      <th>dept_salary_rank</th>\n",
       "    </tr>\n",
       "  </thead>\n",
       "  <tbody>\n",
       "    <tr>\n",
       "      <th>2</th>\n",
       "      <td>Charlie</td>\n",
       "      <td>HR</td>\n",
       "      <td>65000</td>\n",
       "      <td>3</td>\n",
       "      <td>3.8</td>\n",
       "      <td>2021-01-10</td>\n",
       "      <td>1.0</td>\n",
       "      <td>2.0</td>\n",
       "    </tr>\n",
       "    <tr>\n",
       "      <th>5</th>\n",
       "      <td>Frank</td>\n",
       "      <td>HR</td>\n",
       "      <td>68000</td>\n",
       "      <td>4</td>\n",
       "      <td>3.9</td>\n",
       "      <td>2020-04-05</td>\n",
       "      <td>2.0</td>\n",
       "      <td>1.0</td>\n",
       "    </tr>\n",
       "  </tbody>\n",
       "</table>\n",
       "</div>"
      ],
      "text/plain": [
       "      name department  salary  years_exp  performance  hire_date  salary_rank  \\\n",
       "2  Charlie         HR   65000          3          3.8 2021-01-10          1.0   \n",
       "5    Frank         HR   68000          4          3.9 2020-04-05          2.0   \n",
       "\n",
       "   dept_salary_rank  \n",
       "2               2.0  \n",
       "5               1.0  "
      ]
     },
     "execution_count": 23,
     "metadata": {},
     "output_type": "execute_result"
    }
   ],
   "source": [
    "# Bottom N by value\n",
    "# R: slice_min(df, performance, n = 2)\n",
    "df.nsmallest(2, 'performance')"
   ]
  },
  {
   "cell_type": "code",
   "execution_count": 24,
   "id": "43849ec8",
   "metadata": {},
   "outputs": [
    {
     "data": {
      "application/vnd.microsoft.datawrangler.viewer.v0+json": {
       "columns": [
        {
         "name": "index",
         "rawType": "int64",
         "type": "integer"
        },
        {
         "name": "name",
         "rawType": "object",
         "type": "string"
        },
        {
         "name": "department",
         "rawType": "object",
         "type": "string"
        },
        {
         "name": "salary",
         "rawType": "int64",
         "type": "integer"
        },
        {
         "name": "years_exp",
         "rawType": "int64",
         "type": "integer"
        },
        {
         "name": "performance",
         "rawType": "float64",
         "type": "float"
        },
        {
         "name": "hire_date",
         "rawType": "datetime64[ns]",
         "type": "datetime"
        },
        {
         "name": "salary_rank",
         "rawType": "float64",
         "type": "float"
        },
        {
         "name": "dept_salary_rank",
         "rawType": "float64",
         "type": "float"
        }
       ],
       "ref": "79e57262-3f13-4247-839f-7ed27de44105",
       "rows": [
        [
         "4",
         "Eve",
         "IT",
         "90000",
         "10",
         "4.7",
         "2014-11-30 00:00:00",
         "6.0",
         "1.0"
        ],
        [
         "1",
         "Bob",
         "IT",
         "85000",
         "8",
         "4.5",
         "2016-06-01 00:00:00",
         "5.0",
         "2.0"
        ],
        [
         "0",
         "Alice",
         "Sales",
         "70000",
         "5",
         "4.2",
         "2019-03-15 00:00:00",
         "3.0",
         "2.0"
        ]
       ],
       "shape": {
        "columns": 8,
        "rows": 3
       }
      },
      "text/html": [
       "<div>\n",
       "<style scoped>\n",
       "    .dataframe tbody tr th:only-of-type {\n",
       "        vertical-align: middle;\n",
       "    }\n",
       "\n",
       "    .dataframe tbody tr th {\n",
       "        vertical-align: top;\n",
       "    }\n",
       "\n",
       "    .dataframe thead th {\n",
       "        text-align: right;\n",
       "    }\n",
       "</style>\n",
       "<table border=\"1\" class=\"dataframe\">\n",
       "  <thead>\n",
       "    <tr style=\"text-align: right;\">\n",
       "      <th></th>\n",
       "      <th>name</th>\n",
       "      <th>department</th>\n",
       "      <th>salary</th>\n",
       "      <th>years_exp</th>\n",
       "      <th>performance</th>\n",
       "      <th>hire_date</th>\n",
       "      <th>salary_rank</th>\n",
       "      <th>dept_salary_rank</th>\n",
       "    </tr>\n",
       "  </thead>\n",
       "  <tbody>\n",
       "    <tr>\n",
       "      <th>4</th>\n",
       "      <td>Eve</td>\n",
       "      <td>IT</td>\n",
       "      <td>90000</td>\n",
       "      <td>10</td>\n",
       "      <td>4.7</td>\n",
       "      <td>2014-11-30</td>\n",
       "      <td>6.0</td>\n",
       "      <td>1.0</td>\n",
       "    </tr>\n",
       "    <tr>\n",
       "      <th>1</th>\n",
       "      <td>Bob</td>\n",
       "      <td>IT</td>\n",
       "      <td>85000</td>\n",
       "      <td>8</td>\n",
       "      <td>4.5</td>\n",
       "      <td>2016-06-01</td>\n",
       "      <td>5.0</td>\n",
       "      <td>2.0</td>\n",
       "    </tr>\n",
       "    <tr>\n",
       "      <th>0</th>\n",
       "      <td>Alice</td>\n",
       "      <td>Sales</td>\n",
       "      <td>70000</td>\n",
       "      <td>5</td>\n",
       "      <td>4.2</td>\n",
       "      <td>2019-03-15</td>\n",
       "      <td>3.0</td>\n",
       "      <td>2.0</td>\n",
       "    </tr>\n",
       "  </tbody>\n",
       "</table>\n",
       "</div>"
      ],
      "text/plain": [
       "    name department  salary  years_exp  performance  hire_date  salary_rank  \\\n",
       "4    Eve         IT   90000         10          4.7 2014-11-30          6.0   \n",
       "1    Bob         IT   85000          8          4.5 2016-06-01          5.0   \n",
       "0  Alice      Sales   70000          5          4.2 2019-03-15          3.0   \n",
       "\n",
       "   dept_salary_rank  \n",
       "4               1.0  \n",
       "1               2.0  \n",
       "0               2.0  "
      ]
     },
     "execution_count": 24,
     "metadata": {},
     "output_type": "execute_result"
    }
   ],
   "source": [
    "# Top N by multiple columns\n",
    "# First by performance, then by salary\n",
    "# R: arrange(df, desc(performance), desc(salary)) %>% slice_head(n = 3)\n",
    "df.nlargest(3, ['performance', 'salary'])"
   ]
  },
  {
   "cell_type": "code",
   "execution_count": 25,
   "id": "ce800138",
   "metadata": {},
   "outputs": [
    {
     "data": {
      "application/vnd.microsoft.datawrangler.viewer.v0+json": {
       "columns": [
        {
         "name": "index",
         "rawType": "int64",
         "type": "integer"
        },
        {
         "name": "name",
         "rawType": "object",
         "type": "string"
        },
        {
         "name": "department",
         "rawType": "object",
         "type": "string"
        },
        {
         "name": "salary",
         "rawType": "int64",
         "type": "integer"
        },
        {
         "name": "years_exp",
         "rawType": "int64",
         "type": "integer"
        },
        {
         "name": "performance",
         "rawType": "float64",
         "type": "float"
        },
        {
         "name": "hire_date",
         "rawType": "datetime64[ns]",
         "type": "datetime"
        },
        {
         "name": "salary_rank",
         "rawType": "float64",
         "type": "float"
        },
        {
         "name": "dept_salary_rank",
         "rawType": "float64",
         "type": "float"
        }
       ],
       "ref": "11d73ca2-b7a6-4f4a-bba6-33a8e1a50ec2",
       "rows": [
        [
         "4",
         "Eve",
         "IT",
         "90000",
         "10",
         "4.7",
         "2014-11-30 00:00:00",
         "6.0",
         "1.0"
        ],
        [
         "3",
         "David",
         "Sales",
         "72000",
         "6",
         "4.0",
         "2018-09-20 00:00:00",
         "4.0",
         "1.0"
        ],
        [
         "5",
         "Frank",
         "HR",
         "68000",
         "4",
         "3.9",
         "2020-04-05 00:00:00",
         "2.0",
         "1.0"
        ]
       ],
       "shape": {
        "columns": 8,
        "rows": 3
       }
      },
      "text/html": [
       "<div>\n",
       "<style scoped>\n",
       "    .dataframe tbody tr th:only-of-type {\n",
       "        vertical-align: middle;\n",
       "    }\n",
       "\n",
       "    .dataframe tbody tr th {\n",
       "        vertical-align: top;\n",
       "    }\n",
       "\n",
       "    .dataframe thead th {\n",
       "        text-align: right;\n",
       "    }\n",
       "</style>\n",
       "<table border=\"1\" class=\"dataframe\">\n",
       "  <thead>\n",
       "    <tr style=\"text-align: right;\">\n",
       "      <th></th>\n",
       "      <th>name</th>\n",
       "      <th>department</th>\n",
       "      <th>salary</th>\n",
       "      <th>years_exp</th>\n",
       "      <th>performance</th>\n",
       "      <th>hire_date</th>\n",
       "      <th>salary_rank</th>\n",
       "      <th>dept_salary_rank</th>\n",
       "    </tr>\n",
       "  </thead>\n",
       "  <tbody>\n",
       "    <tr>\n",
       "      <th>4</th>\n",
       "      <td>Eve</td>\n",
       "      <td>IT</td>\n",
       "      <td>90000</td>\n",
       "      <td>10</td>\n",
       "      <td>4.7</td>\n",
       "      <td>2014-11-30</td>\n",
       "      <td>6.0</td>\n",
       "      <td>1.0</td>\n",
       "    </tr>\n",
       "    <tr>\n",
       "      <th>3</th>\n",
       "      <td>David</td>\n",
       "      <td>Sales</td>\n",
       "      <td>72000</td>\n",
       "      <td>6</td>\n",
       "      <td>4.0</td>\n",
       "      <td>2018-09-20</td>\n",
       "      <td>4.0</td>\n",
       "      <td>1.0</td>\n",
       "    </tr>\n",
       "    <tr>\n",
       "      <th>5</th>\n",
       "      <td>Frank</td>\n",
       "      <td>HR</td>\n",
       "      <td>68000</td>\n",
       "      <td>4</td>\n",
       "      <td>3.9</td>\n",
       "      <td>2020-04-05</td>\n",
       "      <td>2.0</td>\n",
       "      <td>1.0</td>\n",
       "    </tr>\n",
       "  </tbody>\n",
       "</table>\n",
       "</div>"
      ],
      "text/plain": [
       "    name department  salary  years_exp  performance  hire_date  salary_rank  \\\n",
       "4    Eve         IT   90000         10          4.7 2014-11-30          6.0   \n",
       "3  David      Sales   72000          6          4.0 2018-09-20          4.0   \n",
       "5  Frank         HR   68000          4          3.9 2020-04-05          2.0   \n",
       "\n",
       "   dept_salary_rank  \n",
       "4               1.0  \n",
       "3               1.0  \n",
       "5               1.0  "
      ]
     },
     "execution_count": 25,
     "metadata": {},
     "output_type": "execute_result"
    }
   ],
   "source": [
    "# Top N per group\n",
    "# R: df %>% \n",
    "#     group_by(department) %>% \n",
    "#     slice_max(salary, n = 1)\n",
    "df.sort_values('salary', ascending=False).groupby('department').head(1)"
   ]
  },
  {
   "cell_type": "markdown",
   "id": "03de4186",
   "metadata": {},
   "source": [
    "## Sorting Different Data Types\n",
    "\n",
    "Handling various data types in sorting:"
   ]
  },
  {
   "cell_type": "code",
   "execution_count": 26,
   "id": "b3e79223",
   "metadata": {},
   "outputs": [
    {
     "data": {
      "application/vnd.microsoft.datawrangler.viewer.v0+json": {
       "columns": [
        {
         "name": "index",
         "rawType": "int64",
         "type": "integer"
        },
        {
         "name": "text",
         "rawType": "object",
         "type": "string"
        },
        {
         "name": "numbers",
         "rawType": "float64",
         "type": "float"
        },
        {
         "name": "dates",
         "rawType": "datetime64[ns]",
         "type": "datetime"
        },
        {
         "name": "categories",
         "rawType": "category",
         "type": "unknown"
        },
        {
         "name": "booleans",
         "rawType": "bool",
         "type": "boolean"
        }
       ],
       "ref": "db894f44-33a8-4436-92f5-74a595e591e1",
       "rows": [
        [
         "1",
         "Banana",
         "2.71",
         "2024-01-10 00:00:00",
         "High",
         "False"
        ],
        [
         "4",
         "2bananas",
         "1.73",
         "2024-02-28 00:00:00",
         "High",
         "True"
        ],
        [
         "0",
         "apple",
         "3.14",
         "2024-03-15 00:00:00",
         "Low",
         "True"
        ],
        [
         "3",
         "cherry",
         "2.24",
         "2024-06-20 00:00:00",
         "Low",
         "False"
        ],
        [
         "2",
         "10apples",
         "1.41",
         "2024-12-01 00:00:00",
         "Medium",
         "True"
        ]
       ],
       "shape": {
        "columns": 5,
        "rows": 5
       }
      },
      "text/html": [
       "<div>\n",
       "<style scoped>\n",
       "    .dataframe tbody tr th:only-of-type {\n",
       "        vertical-align: middle;\n",
       "    }\n",
       "\n",
       "    .dataframe tbody tr th {\n",
       "        vertical-align: top;\n",
       "    }\n",
       "\n",
       "    .dataframe thead th {\n",
       "        text-align: right;\n",
       "    }\n",
       "</style>\n",
       "<table border=\"1\" class=\"dataframe\">\n",
       "  <thead>\n",
       "    <tr style=\"text-align: right;\">\n",
       "      <th></th>\n",
       "      <th>text</th>\n",
       "      <th>numbers</th>\n",
       "      <th>dates</th>\n",
       "      <th>categories</th>\n",
       "      <th>booleans</th>\n",
       "    </tr>\n",
       "  </thead>\n",
       "  <tbody>\n",
       "    <tr>\n",
       "      <th>1</th>\n",
       "      <td>Banana</td>\n",
       "      <td>2.71</td>\n",
       "      <td>2024-01-10</td>\n",
       "      <td>High</td>\n",
       "      <td>False</td>\n",
       "    </tr>\n",
       "    <tr>\n",
       "      <th>4</th>\n",
       "      <td>2bananas</td>\n",
       "      <td>1.73</td>\n",
       "      <td>2024-02-28</td>\n",
       "      <td>High</td>\n",
       "      <td>True</td>\n",
       "    </tr>\n",
       "    <tr>\n",
       "      <th>0</th>\n",
       "      <td>apple</td>\n",
       "      <td>3.14</td>\n",
       "      <td>2024-03-15</td>\n",
       "      <td>Low</td>\n",
       "      <td>True</td>\n",
       "    </tr>\n",
       "    <tr>\n",
       "      <th>3</th>\n",
       "      <td>cherry</td>\n",
       "      <td>2.24</td>\n",
       "      <td>2024-06-20</td>\n",
       "      <td>Low</td>\n",
       "      <td>False</td>\n",
       "    </tr>\n",
       "    <tr>\n",
       "      <th>2</th>\n",
       "      <td>10apples</td>\n",
       "      <td>1.41</td>\n",
       "      <td>2024-12-01</td>\n",
       "      <td>Medium</td>\n",
       "      <td>True</td>\n",
       "    </tr>\n",
       "  </tbody>\n",
       "</table>\n",
       "</div>"
      ],
      "text/plain": [
       "       text  numbers      dates categories  booleans\n",
       "1    Banana     2.71 2024-01-10       High     False\n",
       "4  2bananas     1.73 2024-02-28       High      True\n",
       "0     apple     3.14 2024-03-15        Low      True\n",
       "3    cherry     2.24 2024-06-20        Low     False\n",
       "2  10apples     1.41 2024-12-01     Medium      True"
      ]
     },
     "execution_count": 26,
     "metadata": {},
     "output_type": "execute_result"
    }
   ],
   "source": [
    "# Create DataFrame with various types\n",
    "df_types = pd.DataFrame({\n",
    "    'text': ['apple', 'Banana', '10apples', 'cherry', '2bananas'],\n",
    "    'numbers': [3.14, 2.71, 1.41, 2.24, 1.73],\n",
    "    'dates': pd.to_datetime(['2024-03-15', '2024-01-10', '2024-12-01', \n",
    "                            '2024-06-20', '2024-02-28']),\n",
    "    'categories': pd.Categorical(['Low', 'High', 'Medium', 'Low', 'High'],\n",
    "                                categories=['Low', 'Medium', 'High'],\n",
    "                                ordered=True),\n",
    "    'booleans': [True, False, True, False, True]\n",
    "})\n",
    "\n",
    "# Sort by date\n",
    "df_types.sort_values('dates')"
   ]
  },
  {
   "cell_type": "code",
   "execution_count": 27,
   "id": "89a4fc28",
   "metadata": {},
   "outputs": [
    {
     "data": {
      "application/vnd.microsoft.datawrangler.viewer.v0+json": {
       "columns": [
        {
         "name": "index",
         "rawType": "int64",
         "type": "integer"
        },
        {
         "name": "text",
         "rawType": "object",
         "type": "string"
        },
        {
         "name": "numbers",
         "rawType": "float64",
         "type": "float"
        },
        {
         "name": "dates",
         "rawType": "datetime64[ns]",
         "type": "datetime"
        },
        {
         "name": "categories",
         "rawType": "category",
         "type": "unknown"
        },
        {
         "name": "booleans",
         "rawType": "bool",
         "type": "boolean"
        }
       ],
       "ref": "c8babfd8-424f-4606-8560-f5bc37985745",
       "rows": [
        [
         "0",
         "apple",
         "3.14",
         "2024-03-15 00:00:00",
         "Low",
         "True"
        ],
        [
         "3",
         "cherry",
         "2.24",
         "2024-06-20 00:00:00",
         "Low",
         "False"
        ],
        [
         "2",
         "10apples",
         "1.41",
         "2024-12-01 00:00:00",
         "Medium",
         "True"
        ],
        [
         "1",
         "Banana",
         "2.71",
         "2024-01-10 00:00:00",
         "High",
         "False"
        ],
        [
         "4",
         "2bananas",
         "1.73",
         "2024-02-28 00:00:00",
         "High",
         "True"
        ]
       ],
       "shape": {
        "columns": 5,
        "rows": 5
       }
      },
      "text/html": [
       "<div>\n",
       "<style scoped>\n",
       "    .dataframe tbody tr th:only-of-type {\n",
       "        vertical-align: middle;\n",
       "    }\n",
       "\n",
       "    .dataframe tbody tr th {\n",
       "        vertical-align: top;\n",
       "    }\n",
       "\n",
       "    .dataframe thead th {\n",
       "        text-align: right;\n",
       "    }\n",
       "</style>\n",
       "<table border=\"1\" class=\"dataframe\">\n",
       "  <thead>\n",
       "    <tr style=\"text-align: right;\">\n",
       "      <th></th>\n",
       "      <th>text</th>\n",
       "      <th>numbers</th>\n",
       "      <th>dates</th>\n",
       "      <th>categories</th>\n",
       "      <th>booleans</th>\n",
       "    </tr>\n",
       "  </thead>\n",
       "  <tbody>\n",
       "    <tr>\n",
       "      <th>0</th>\n",
       "      <td>apple</td>\n",
       "      <td>3.14</td>\n",
       "      <td>2024-03-15</td>\n",
       "      <td>Low</td>\n",
       "      <td>True</td>\n",
       "    </tr>\n",
       "    <tr>\n",
       "      <th>3</th>\n",
       "      <td>cherry</td>\n",
       "      <td>2.24</td>\n",
       "      <td>2024-06-20</td>\n",
       "      <td>Low</td>\n",
       "      <td>False</td>\n",
       "    </tr>\n",
       "    <tr>\n",
       "      <th>2</th>\n",
       "      <td>10apples</td>\n",
       "      <td>1.41</td>\n",
       "      <td>2024-12-01</td>\n",
       "      <td>Medium</td>\n",
       "      <td>True</td>\n",
       "    </tr>\n",
       "    <tr>\n",
       "      <th>1</th>\n",
       "      <td>Banana</td>\n",
       "      <td>2.71</td>\n",
       "      <td>2024-01-10</td>\n",
       "      <td>High</td>\n",
       "      <td>False</td>\n",
       "    </tr>\n",
       "    <tr>\n",
       "      <th>4</th>\n",
       "      <td>2bananas</td>\n",
       "      <td>1.73</td>\n",
       "      <td>2024-02-28</td>\n",
       "      <td>High</td>\n",
       "      <td>True</td>\n",
       "    </tr>\n",
       "  </tbody>\n",
       "</table>\n",
       "</div>"
      ],
      "text/plain": [
       "       text  numbers      dates categories  booleans\n",
       "0     apple     3.14 2024-03-15        Low      True\n",
       "3    cherry     2.24 2024-06-20        Low     False\n",
       "2  10apples     1.41 2024-12-01     Medium      True\n",
       "1    Banana     2.71 2024-01-10       High     False\n",
       "4  2bananas     1.73 2024-02-28       High      True"
      ]
     },
     "execution_count": 27,
     "metadata": {},
     "output_type": "execute_result"
    }
   ],
   "source": [
    "# Sort by categorical (respects order)\n",
    "df_types.sort_values('categories')"
   ]
  },
  {
   "cell_type": "code",
   "execution_count": 28,
   "id": "c809779d",
   "metadata": {},
   "outputs": [
    {
     "data": {
      "application/vnd.microsoft.datawrangler.viewer.v0+json": {
       "columns": [
        {
         "name": "index",
         "rawType": "int64",
         "type": "integer"
        },
        {
         "name": "text",
         "rawType": "object",
         "type": "string"
        },
        {
         "name": "numbers",
         "rawType": "float64",
         "type": "float"
        },
        {
         "name": "dates",
         "rawType": "datetime64[ns]",
         "type": "datetime"
        },
        {
         "name": "categories",
         "rawType": "category",
         "type": "unknown"
        },
        {
         "name": "booleans",
         "rawType": "bool",
         "type": "boolean"
        }
       ],
       "ref": "fbac6b6d-010c-4e09-b1d5-cddd2e2826f9",
       "rows": [
        [
         "4",
         "2bananas",
         "1.73",
         "2024-02-28 00:00:00",
         "High",
         "True"
        ],
        [
         "2",
         "10apples",
         "1.41",
         "2024-12-01 00:00:00",
         "Medium",
         "True"
        ],
        [
         "0",
         "apple",
         "3.14",
         "2024-03-15 00:00:00",
         "Low",
         "True"
        ],
        [
         "1",
         "Banana",
         "2.71",
         "2024-01-10 00:00:00",
         "High",
         "False"
        ],
        [
         "3",
         "cherry",
         "2.24",
         "2024-06-20 00:00:00",
         "Low",
         "False"
        ]
       ],
       "shape": {
        "columns": 5,
        "rows": 5
       }
      },
      "text/html": [
       "<div>\n",
       "<style scoped>\n",
       "    .dataframe tbody tr th:only-of-type {\n",
       "        vertical-align: middle;\n",
       "    }\n",
       "\n",
       "    .dataframe tbody tr th {\n",
       "        vertical-align: top;\n",
       "    }\n",
       "\n",
       "    .dataframe thead th {\n",
       "        text-align: right;\n",
       "    }\n",
       "</style>\n",
       "<table border=\"1\" class=\"dataframe\">\n",
       "  <thead>\n",
       "    <tr style=\"text-align: right;\">\n",
       "      <th></th>\n",
       "      <th>text</th>\n",
       "      <th>numbers</th>\n",
       "      <th>dates</th>\n",
       "      <th>categories</th>\n",
       "      <th>booleans</th>\n",
       "    </tr>\n",
       "  </thead>\n",
       "  <tbody>\n",
       "    <tr>\n",
       "      <th>4</th>\n",
       "      <td>2bananas</td>\n",
       "      <td>1.73</td>\n",
       "      <td>2024-02-28</td>\n",
       "      <td>High</td>\n",
       "      <td>True</td>\n",
       "    </tr>\n",
       "    <tr>\n",
       "      <th>2</th>\n",
       "      <td>10apples</td>\n",
       "      <td>1.41</td>\n",
       "      <td>2024-12-01</td>\n",
       "      <td>Medium</td>\n",
       "      <td>True</td>\n",
       "    </tr>\n",
       "    <tr>\n",
       "      <th>0</th>\n",
       "      <td>apple</td>\n",
       "      <td>3.14</td>\n",
       "      <td>2024-03-15</td>\n",
       "      <td>Low</td>\n",
       "      <td>True</td>\n",
       "    </tr>\n",
       "    <tr>\n",
       "      <th>1</th>\n",
       "      <td>Banana</td>\n",
       "      <td>2.71</td>\n",
       "      <td>2024-01-10</td>\n",
       "      <td>High</td>\n",
       "      <td>False</td>\n",
       "    </tr>\n",
       "    <tr>\n",
       "      <th>3</th>\n",
       "      <td>cherry</td>\n",
       "      <td>2.24</td>\n",
       "      <td>2024-06-20</td>\n",
       "      <td>Low</td>\n",
       "      <td>False</td>\n",
       "    </tr>\n",
       "  </tbody>\n",
       "</table>\n",
       "</div>"
      ],
      "text/plain": [
       "       text  numbers      dates categories  booleans\n",
       "4  2bananas     1.73 2024-02-28       High      True\n",
       "2  10apples     1.41 2024-12-01     Medium      True\n",
       "0     apple     3.14 2024-03-15        Low      True\n",
       "1    Banana     2.71 2024-01-10       High     False\n",
       "3    cherry     2.24 2024-06-20        Low     False"
      ]
     },
     "execution_count": 28,
     "metadata": {},
     "output_type": "execute_result"
    }
   ],
   "source": [
    "# Natural sorting for strings with numbers\n",
    "# R: arrange(df, str_sort(text, numeric = TRUE))\n",
    "# Pandas doesn't have built-in natural sort, but we can implement it\n",
    "def natural_sort_key(x):\n",
    "    import re\n",
    "    return [int(text) if text.isdigit() else text.lower() \n",
    "            for text in re.split('([0-9]+)', x)]\n",
    "\n",
    "df_types.iloc[df_types['text'].apply(natural_sort_key).argsort()]"
   ]
  },
  {
   "cell_type": "markdown",
   "id": "cefdc4e4",
   "metadata": {},
   "source": [
    "## Stable Sorting\n",
    "\n",
    "Understanding stable vs unstable sorting:"
   ]
  },
  {
   "cell_type": "code",
   "execution_count": 29,
   "id": "6163ad40",
   "metadata": {},
   "outputs": [
    {
     "data": {
      "application/vnd.microsoft.datawrangler.viewer.v0+json": {
       "columns": [
        {
         "name": "index",
         "rawType": "int64",
         "type": "integer"
        },
        {
         "name": "group",
         "rawType": "object",
         "type": "string"
        },
        {
         "name": "value",
         "rawType": "int64",
         "type": "integer"
        },
        {
         "name": "order",
         "rawType": "int64",
         "type": "integer"
        }
       ],
       "ref": "41930803-a208-4cad-87fb-7a2405ec8b5d",
       "rows": [
        [
         "0",
         "A",
         "10",
         "1"
        ],
        [
         "1",
         "B",
         "10",
         "2"
        ],
        [
         "4",
         "A",
         "10",
         "5"
        ],
        [
         "2",
         "A",
         "20",
         "3"
        ],
        [
         "3",
         "B",
         "20",
         "4"
        ],
        [
         "5",
         "B",
         "20",
         "6"
        ]
       ],
       "shape": {
        "columns": 3,
        "rows": 6
       }
      },
      "text/html": [
       "<div>\n",
       "<style scoped>\n",
       "    .dataframe tbody tr th:only-of-type {\n",
       "        vertical-align: middle;\n",
       "    }\n",
       "\n",
       "    .dataframe tbody tr th {\n",
       "        vertical-align: top;\n",
       "    }\n",
       "\n",
       "    .dataframe thead th {\n",
       "        text-align: right;\n",
       "    }\n",
       "</style>\n",
       "<table border=\"1\" class=\"dataframe\">\n",
       "  <thead>\n",
       "    <tr style=\"text-align: right;\">\n",
       "      <th></th>\n",
       "      <th>group</th>\n",
       "      <th>value</th>\n",
       "      <th>order</th>\n",
       "    </tr>\n",
       "  </thead>\n",
       "  <tbody>\n",
       "    <tr>\n",
       "      <th>0</th>\n",
       "      <td>A</td>\n",
       "      <td>10</td>\n",
       "      <td>1</td>\n",
       "    </tr>\n",
       "    <tr>\n",
       "      <th>1</th>\n",
       "      <td>B</td>\n",
       "      <td>10</td>\n",
       "      <td>2</td>\n",
       "    </tr>\n",
       "    <tr>\n",
       "      <th>4</th>\n",
       "      <td>A</td>\n",
       "      <td>10</td>\n",
       "      <td>5</td>\n",
       "    </tr>\n",
       "    <tr>\n",
       "      <th>2</th>\n",
       "      <td>A</td>\n",
       "      <td>20</td>\n",
       "      <td>3</td>\n",
       "    </tr>\n",
       "    <tr>\n",
       "      <th>3</th>\n",
       "      <td>B</td>\n",
       "      <td>20</td>\n",
       "      <td>4</td>\n",
       "    </tr>\n",
       "    <tr>\n",
       "      <th>5</th>\n",
       "      <td>B</td>\n",
       "      <td>20</td>\n",
       "      <td>6</td>\n",
       "    </tr>\n",
       "  </tbody>\n",
       "</table>\n",
       "</div>"
      ],
      "text/plain": [
       "  group  value  order\n",
       "0     A     10      1\n",
       "1     B     10      2\n",
       "4     A     10      5\n",
       "2     A     20      3\n",
       "3     B     20      4\n",
       "5     B     20      6"
      ]
     },
     "execution_count": 29,
     "metadata": {},
     "output_type": "execute_result"
    }
   ],
   "source": [
    "# Create DataFrame with ties\n",
    "df_ties = pd.DataFrame({\n",
    "    'group': ['A', 'B', 'A', 'B', 'A', 'B'],\n",
    "    'value': [10, 10, 20, 20, 10, 20],\n",
    "    'order': [1, 2, 3, 4, 5, 6]  # Original order\n",
    "})\n",
    "\n",
    "# Stable sort preserves original order for ties\n",
    "# pandas sort is stable by default (like R)\n",
    "df_ties.sort_values('value')"
   ]
  },
  {
   "cell_type": "code",
   "execution_count": 30,
   "id": "9f937037",
   "metadata": {},
   "outputs": [
    {
     "data": {
      "application/vnd.microsoft.datawrangler.viewer.v0+json": {
       "columns": [
        {
         "name": "index",
         "rawType": "int64",
         "type": "integer"
        },
        {
         "name": "group",
         "rawType": "object",
         "type": "string"
        },
        {
         "name": "value",
         "rawType": "int64",
         "type": "integer"
        },
        {
         "name": "order",
         "rawType": "int64",
         "type": "integer"
        }
       ],
       "ref": "5110b3c1-dbf4-4d0f-9147-7a371af1981b",
       "rows": [
        [
         "0",
         "A",
         "10",
         "1"
        ],
        [
         "1",
         "B",
         "10",
         "2"
        ],
        [
         "4",
         "A",
         "10",
         "5"
        ],
        [
         "2",
         "A",
         "20",
         "3"
        ],
        [
         "3",
         "B",
         "20",
         "4"
        ],
        [
         "5",
         "B",
         "20",
         "6"
        ]
       ],
       "shape": {
        "columns": 3,
        "rows": 6
       }
      },
      "text/html": [
       "<div>\n",
       "<style scoped>\n",
       "    .dataframe tbody tr th:only-of-type {\n",
       "        vertical-align: middle;\n",
       "    }\n",
       "\n",
       "    .dataframe tbody tr th {\n",
       "        vertical-align: top;\n",
       "    }\n",
       "\n",
       "    .dataframe thead th {\n",
       "        text-align: right;\n",
       "    }\n",
       "</style>\n",
       "<table border=\"1\" class=\"dataframe\">\n",
       "  <thead>\n",
       "    <tr style=\"text-align: right;\">\n",
       "      <th></th>\n",
       "      <th>group</th>\n",
       "      <th>value</th>\n",
       "      <th>order</th>\n",
       "    </tr>\n",
       "  </thead>\n",
       "  <tbody>\n",
       "    <tr>\n",
       "      <th>0</th>\n",
       "      <td>A</td>\n",
       "      <td>10</td>\n",
       "      <td>1</td>\n",
       "    </tr>\n",
       "    <tr>\n",
       "      <th>1</th>\n",
       "      <td>B</td>\n",
       "      <td>10</td>\n",
       "      <td>2</td>\n",
       "    </tr>\n",
       "    <tr>\n",
       "      <th>4</th>\n",
       "      <td>A</td>\n",
       "      <td>10</td>\n",
       "      <td>5</td>\n",
       "    </tr>\n",
       "    <tr>\n",
       "      <th>2</th>\n",
       "      <td>A</td>\n",
       "      <td>20</td>\n",
       "      <td>3</td>\n",
       "    </tr>\n",
       "    <tr>\n",
       "      <th>3</th>\n",
       "      <td>B</td>\n",
       "      <td>20</td>\n",
       "      <td>4</td>\n",
       "    </tr>\n",
       "    <tr>\n",
       "      <th>5</th>\n",
       "      <td>B</td>\n",
       "      <td>20</td>\n",
       "      <td>6</td>\n",
       "    </tr>\n",
       "  </tbody>\n",
       "</table>\n",
       "</div>"
      ],
      "text/plain": [
       "  group  value  order\n",
       "0     A     10      1\n",
       "1     B     10      2\n",
       "4     A     10      5\n",
       "2     A     20      3\n",
       "3     B     20      4\n",
       "5     B     20      6"
      ]
     },
     "execution_count": 30,
     "metadata": {},
     "output_type": "execute_result"
    }
   ],
   "source": [
    "# Multiple sorts to demonstrate stability\n",
    "(df_ties\n",
    "    .sort_values('order')  # First sort\n",
    "    .sort_values('value')  # Second sort preserves order within ties\n",
    ")"
   ]
  },
  {
   "cell_type": "markdown",
   "id": "f711c46a",
   "metadata": {},
   "source": [
    "## Performance Considerations\n",
    "\n",
    "Efficient sorting strategies:"
   ]
  },
  {
   "cell_type": "code",
   "execution_count": 31,
   "id": "82659b29",
   "metadata": {},
   "outputs": [
    {
     "name": "stdout",
     "output_type": "stream",
     "text": [
      "Single column sort: 0.0135 seconds\n",
      "Multiple column sort: 0.0373 seconds\n",
      "In-place sort: 0.0111 seconds\n"
     ]
    }
   ],
   "source": [
    "# Create large DataFrame\n",
    "np.random.seed(42)\n",
    "large_df = pd.DataFrame({\n",
    "    'A': np.random.randn(100000),\n",
    "    'B': np.random.choice(['X', 'Y', 'Z'], 100000),\n",
    "    'C': np.random.randint(0, 1000, 100000)\n",
    "})\n",
    "\n",
    "import time\n",
    "\n",
    "# Method 1: Single column sort\n",
    "start = time.time()\n",
    "sorted1 = large_df.sort_values('A')\n",
    "print(f\"Single column sort: {time.time() - start:.4f} seconds\")\n",
    "\n",
    "# Method 2: Multiple column sort\n",
    "start = time.time()\n",
    "sorted2 = large_df.sort_values(['B', 'A'])\n",
    "print(f\"Multiple column sort: {time.time() - start:.4f} seconds\")\n",
    "\n",
    "# Method 3: In-place sort (saves memory)\n",
    "start = time.time()\n",
    "large_df_copy = large_df.copy()\n",
    "large_df_copy.sort_values('A', inplace=True)\n",
    "print(f\"In-place sort: {time.time() - start:.4f} seconds\")"
   ]
  },
  {
   "cell_type": "markdown",
   "id": "f23ca62e",
   "metadata": {},
   "source": [
    "## Advanced Sorting Patterns\n",
    "\n",
    "Complex sorting scenarios:"
   ]
  },
  {
   "cell_type": "code",
   "execution_count": 32,
   "id": "33956337",
   "metadata": {},
   "outputs": [
    {
     "data": {
      "application/vnd.microsoft.datawrangler.viewer.v0+json": {
       "columns": [
        {
         "name": "index",
         "rawType": "int64",
         "type": "integer"
        },
        {
         "name": "name",
         "rawType": "object",
         "type": "string"
        },
        {
         "name": "department",
         "rawType": "object",
         "type": "string"
        },
        {
         "name": "salary",
         "rawType": "int64",
         "type": "integer"
        },
        {
         "name": "years_exp",
         "rawType": "int64",
         "type": "integer"
        },
        {
         "name": "performance",
         "rawType": "float64",
         "type": "float"
        },
        {
         "name": "hire_date",
         "rawType": "datetime64[ns]",
         "type": "datetime"
        },
        {
         "name": "salary_rank",
         "rawType": "float64",
         "type": "float"
        },
        {
         "name": "dept_salary_rank",
         "rawType": "float64",
         "type": "float"
        }
       ],
       "ref": "f834bd4e-d85e-40df-b8ce-a52e121fe28c",
       "rows": [
        [
         "2",
         "Charlie",
         "HR",
         "65000",
         "3",
         "3.8",
         "2021-01-10 00:00:00",
         "1.0",
         "2.0"
        ],
        [
         "5",
         "Frank",
         "HR",
         "68000",
         "4",
         "3.9",
         "2020-04-05 00:00:00",
         "2.0",
         "1.0"
        ],
        [
         "0",
         "Alice",
         "Sales",
         "70000",
         "5",
         "4.2",
         "2019-03-15 00:00:00",
         "3.0",
         "2.0"
        ],
        [
         "3",
         "David",
         "Sales",
         "72000",
         "6",
         "4.0",
         "2018-09-20 00:00:00",
         "4.0",
         "1.0"
        ],
        [
         "1",
         "Bob",
         "IT",
         "85000",
         "8",
         "4.5",
         "2016-06-01 00:00:00",
         "5.0",
         "2.0"
        ],
        [
         "4",
         "Eve",
         "IT",
         "90000",
         "10",
         "4.7",
         "2014-11-30 00:00:00",
         "6.0",
         "1.0"
        ]
       ],
       "shape": {
        "columns": 8,
        "rows": 6
       }
      },
      "text/html": [
       "<div>\n",
       "<style scoped>\n",
       "    .dataframe tbody tr th:only-of-type {\n",
       "        vertical-align: middle;\n",
       "    }\n",
       "\n",
       "    .dataframe tbody tr th {\n",
       "        vertical-align: top;\n",
       "    }\n",
       "\n",
       "    .dataframe thead th {\n",
       "        text-align: right;\n",
       "    }\n",
       "</style>\n",
       "<table border=\"1\" class=\"dataframe\">\n",
       "  <thead>\n",
       "    <tr style=\"text-align: right;\">\n",
       "      <th></th>\n",
       "      <th>name</th>\n",
       "      <th>department</th>\n",
       "      <th>salary</th>\n",
       "      <th>years_exp</th>\n",
       "      <th>performance</th>\n",
       "      <th>hire_date</th>\n",
       "      <th>salary_rank</th>\n",
       "      <th>dept_salary_rank</th>\n",
       "    </tr>\n",
       "  </thead>\n",
       "  <tbody>\n",
       "    <tr>\n",
       "      <th>2</th>\n",
       "      <td>Charlie</td>\n",
       "      <td>HR</td>\n",
       "      <td>65000</td>\n",
       "      <td>3</td>\n",
       "      <td>3.8</td>\n",
       "      <td>2021-01-10</td>\n",
       "      <td>1.0</td>\n",
       "      <td>2.0</td>\n",
       "    </tr>\n",
       "    <tr>\n",
       "      <th>5</th>\n",
       "      <td>Frank</td>\n",
       "      <td>HR</td>\n",
       "      <td>68000</td>\n",
       "      <td>4</td>\n",
       "      <td>3.9</td>\n",
       "      <td>2020-04-05</td>\n",
       "      <td>2.0</td>\n",
       "      <td>1.0</td>\n",
       "    </tr>\n",
       "    <tr>\n",
       "      <th>0</th>\n",
       "      <td>Alice</td>\n",
       "      <td>Sales</td>\n",
       "      <td>70000</td>\n",
       "      <td>5</td>\n",
       "      <td>4.2</td>\n",
       "      <td>2019-03-15</td>\n",
       "      <td>3.0</td>\n",
       "      <td>2.0</td>\n",
       "    </tr>\n",
       "    <tr>\n",
       "      <th>3</th>\n",
       "      <td>David</td>\n",
       "      <td>Sales</td>\n",
       "      <td>72000</td>\n",
       "      <td>6</td>\n",
       "      <td>4.0</td>\n",
       "      <td>2018-09-20</td>\n",
       "      <td>4.0</td>\n",
       "      <td>1.0</td>\n",
       "    </tr>\n",
       "    <tr>\n",
       "      <th>1</th>\n",
       "      <td>Bob</td>\n",
       "      <td>IT</td>\n",
       "      <td>85000</td>\n",
       "      <td>8</td>\n",
       "      <td>4.5</td>\n",
       "      <td>2016-06-01</td>\n",
       "      <td>5.0</td>\n",
       "      <td>2.0</td>\n",
       "    </tr>\n",
       "    <tr>\n",
       "      <th>4</th>\n",
       "      <td>Eve</td>\n",
       "      <td>IT</td>\n",
       "      <td>90000</td>\n",
       "      <td>10</td>\n",
       "      <td>4.7</td>\n",
       "      <td>2014-11-30</td>\n",
       "      <td>6.0</td>\n",
       "      <td>1.0</td>\n",
       "    </tr>\n",
       "  </tbody>\n",
       "</table>\n",
       "</div>"
      ],
      "text/plain": [
       "      name department  salary  years_exp  performance  hire_date  salary_rank  \\\n",
       "2  Charlie         HR   65000          3          3.8 2021-01-10          1.0   \n",
       "5    Frank         HR   68000          4          3.9 2020-04-05          2.0   \n",
       "0    Alice      Sales   70000          5          4.2 2019-03-15          3.0   \n",
       "3    David      Sales   72000          6          4.0 2018-09-20          4.0   \n",
       "1      Bob         IT   85000          8          4.5 2016-06-01          5.0   \n",
       "4      Eve         IT   90000         10          4.7 2014-11-30          6.0   \n",
       "\n",
       "   dept_salary_rank  \n",
       "2               2.0  \n",
       "5               1.0  \n",
       "0               2.0  \n",
       "3               1.0  \n",
       "1               2.0  \n",
       "4               1.0  "
      ]
     },
     "execution_count": 32,
     "metadata": {},
     "output_type": "execute_result"
    }
   ],
   "source": [
    "# Sort by computed column without creating it\n",
    "# R: arrange(df, salary / years_exp)\n",
    "df.iloc[df.eval('salary / years_exp').argsort()[::-1]]"
   ]
  },
  {
   "cell_type": "code",
   "execution_count": 33,
   "id": "738a9d3d",
   "metadata": {},
   "outputs": [
    {
     "data": {
      "application/vnd.microsoft.datawrangler.viewer.v0+json": {
       "columns": [
        {
         "name": "index",
         "rawType": "int64",
         "type": "integer"
        },
        {
         "name": "name",
         "rawType": "object",
         "type": "string"
        },
        {
         "name": "department",
         "rawType": "object",
         "type": "string"
        },
        {
         "name": "salary",
         "rawType": "int64",
         "type": "integer"
        },
        {
         "name": "years_exp",
         "rawType": "int64",
         "type": "integer"
        },
        {
         "name": "performance",
         "rawType": "float64",
         "type": "float"
        },
        {
         "name": "hire_date",
         "rawType": "datetime64[ns]",
         "type": "datetime"
        },
        {
         "name": "salary_rank",
         "rawType": "float64",
         "type": "float"
        },
        {
         "name": "dept_salary_rank",
         "rawType": "float64",
         "type": "float"
        },
        {
         "name": "dept_avg",
         "rawType": "float64",
         "type": "float"
        }
       ],
       "ref": "5f02716b-002e-449e-80e1-c7a9b56f8f00",
       "rows": [
        [
         "4",
         "Eve",
         "IT",
         "90000",
         "10",
         "4.7",
         "2014-11-30 00:00:00",
         "6.0",
         "1.0",
         "87500.0"
        ],
        [
         "1",
         "Bob",
         "IT",
         "85000",
         "8",
         "4.5",
         "2016-06-01 00:00:00",
         "5.0",
         "2.0",
         "87500.0"
        ],
        [
         "3",
         "David",
         "Sales",
         "72000",
         "6",
         "4.0",
         "2018-09-20 00:00:00",
         "4.0",
         "1.0",
         "71000.0"
        ],
        [
         "0",
         "Alice",
         "Sales",
         "70000",
         "5",
         "4.2",
         "2019-03-15 00:00:00",
         "3.0",
         "2.0",
         "71000.0"
        ],
        [
         "5",
         "Frank",
         "HR",
         "68000",
         "4",
         "3.9",
         "2020-04-05 00:00:00",
         "2.0",
         "1.0",
         "66500.0"
        ],
        [
         "2",
         "Charlie",
         "HR",
         "65000",
         "3",
         "3.8",
         "2021-01-10 00:00:00",
         "1.0",
         "2.0",
         "66500.0"
        ]
       ],
       "shape": {
        "columns": 9,
        "rows": 6
       }
      },
      "text/html": [
       "<div>\n",
       "<style scoped>\n",
       "    .dataframe tbody tr th:only-of-type {\n",
       "        vertical-align: middle;\n",
       "    }\n",
       "\n",
       "    .dataframe tbody tr th {\n",
       "        vertical-align: top;\n",
       "    }\n",
       "\n",
       "    .dataframe thead th {\n",
       "        text-align: right;\n",
       "    }\n",
       "</style>\n",
       "<table border=\"1\" class=\"dataframe\">\n",
       "  <thead>\n",
       "    <tr style=\"text-align: right;\">\n",
       "      <th></th>\n",
       "      <th>name</th>\n",
       "      <th>department</th>\n",
       "      <th>salary</th>\n",
       "      <th>years_exp</th>\n",
       "      <th>performance</th>\n",
       "      <th>hire_date</th>\n",
       "      <th>salary_rank</th>\n",
       "      <th>dept_salary_rank</th>\n",
       "      <th>dept_avg</th>\n",
       "    </tr>\n",
       "  </thead>\n",
       "  <tbody>\n",
       "    <tr>\n",
       "      <th>4</th>\n",
       "      <td>Eve</td>\n",
       "      <td>IT</td>\n",
       "      <td>90000</td>\n",
       "      <td>10</td>\n",
       "      <td>4.7</td>\n",
       "      <td>2014-11-30</td>\n",
       "      <td>6.0</td>\n",
       "      <td>1.0</td>\n",
       "      <td>87500.0</td>\n",
       "    </tr>\n",
       "    <tr>\n",
       "      <th>1</th>\n",
       "      <td>Bob</td>\n",
       "      <td>IT</td>\n",
       "      <td>85000</td>\n",
       "      <td>8</td>\n",
       "      <td>4.5</td>\n",
       "      <td>2016-06-01</td>\n",
       "      <td>5.0</td>\n",
       "      <td>2.0</td>\n",
       "      <td>87500.0</td>\n",
       "    </tr>\n",
       "    <tr>\n",
       "      <th>3</th>\n",
       "      <td>David</td>\n",
       "      <td>Sales</td>\n",
       "      <td>72000</td>\n",
       "      <td>6</td>\n",
       "      <td>4.0</td>\n",
       "      <td>2018-09-20</td>\n",
       "      <td>4.0</td>\n",
       "      <td>1.0</td>\n",
       "      <td>71000.0</td>\n",
       "    </tr>\n",
       "    <tr>\n",
       "      <th>0</th>\n",
       "      <td>Alice</td>\n",
       "      <td>Sales</td>\n",
       "      <td>70000</td>\n",
       "      <td>5</td>\n",
       "      <td>4.2</td>\n",
       "      <td>2019-03-15</td>\n",
       "      <td>3.0</td>\n",
       "      <td>2.0</td>\n",
       "      <td>71000.0</td>\n",
       "    </tr>\n",
       "    <tr>\n",
       "      <th>5</th>\n",
       "      <td>Frank</td>\n",
       "      <td>HR</td>\n",
       "      <td>68000</td>\n",
       "      <td>4</td>\n",
       "      <td>3.9</td>\n",
       "      <td>2020-04-05</td>\n",
       "      <td>2.0</td>\n",
       "      <td>1.0</td>\n",
       "      <td>66500.0</td>\n",
       "    </tr>\n",
       "    <tr>\n",
       "      <th>2</th>\n",
       "      <td>Charlie</td>\n",
       "      <td>HR</td>\n",
       "      <td>65000</td>\n",
       "      <td>3</td>\n",
       "      <td>3.8</td>\n",
       "      <td>2021-01-10</td>\n",
       "      <td>1.0</td>\n",
       "      <td>2.0</td>\n",
       "      <td>66500.0</td>\n",
       "    </tr>\n",
       "  </tbody>\n",
       "</table>\n",
       "</div>"
      ],
      "text/plain": [
       "      name department  salary  years_exp  performance  hire_date  salary_rank  \\\n",
       "4      Eve         IT   90000         10          4.7 2014-11-30          6.0   \n",
       "1      Bob         IT   85000          8          4.5 2016-06-01          5.0   \n",
       "3    David      Sales   72000          6          4.0 2018-09-20          4.0   \n",
       "0    Alice      Sales   70000          5          4.2 2019-03-15          3.0   \n",
       "5    Frank         HR   68000          4          3.9 2020-04-05          2.0   \n",
       "2  Charlie         HR   65000          3          3.8 2021-01-10          1.0   \n",
       "\n",
       "   dept_salary_rank  dept_avg  \n",
       "4               1.0   87500.0  \n",
       "1               2.0   87500.0  \n",
       "3               1.0   71000.0  \n",
       "0               2.0   71000.0  \n",
       "5               1.0   66500.0  \n",
       "2               2.0   66500.0  "
      ]
     },
     "execution_count": 33,
     "metadata": {},
     "output_type": "execute_result"
    }
   ],
   "source": [
    "# Sort by aggregated values\n",
    "# Sort employees by their department's average salary\n",
    "# R: df %>% \n",
    "#     group_by(department) %>% \n",
    "#     mutate(dept_avg = mean(salary)) %>% \n",
    "#     arrange(desc(dept_avg), desc(salary))\n",
    "dept_avg = df.groupby('department')['salary'].transform('mean')\n",
    "df.assign(dept_avg=dept_avg).sort_values(['dept_avg', 'salary'], \n",
    "                                         ascending=[False, False])"
   ]
  },
  {
   "cell_type": "code",
   "execution_count": 34,
   "id": "0e64fdb8",
   "metadata": {},
   "outputs": [
    {
     "data": {
      "application/vnd.microsoft.datawrangler.viewer.v0+json": {
       "columns": [
        {
         "name": "index",
         "rawType": "int64",
         "type": "integer"
        },
        {
         "name": "name",
         "rawType": "object",
         "type": "string"
        },
        {
         "name": "department",
         "rawType": "object",
         "type": "string"
        },
        {
         "name": "salary",
         "rawType": "int64",
         "type": "integer"
        },
        {
         "name": "years_exp",
         "rawType": "int64",
         "type": "integer"
        },
        {
         "name": "performance",
         "rawType": "float64",
         "type": "float"
        },
        {
         "name": "hire_date",
         "rawType": "datetime64[ns]",
         "type": "datetime"
        },
        {
         "name": "salary_rank",
         "rawType": "float64",
         "type": "float"
        },
        {
         "name": "dept_salary_rank",
         "rawType": "float64",
         "type": "float"
        }
       ],
       "ref": "e3873847-5f6f-440c-81a1-bd3b1f2cf67f",
       "rows": [
        [
         "1",
         "Bob",
         "IT",
         "85000",
         "8",
         "4.5",
         "2016-06-01 00:00:00",
         "5.0",
         "2.0"
        ],
        [
         "4",
         "Eve",
         "IT",
         "90000",
         "10",
         "4.7",
         "2014-11-30 00:00:00",
         "6.0",
         "1.0"
        ],
        [
         "0",
         "Alice",
         "Sales",
         "70000",
         "5",
         "4.2",
         "2019-03-15 00:00:00",
         "3.0",
         "2.0"
        ],
        [
         "3",
         "David",
         "Sales",
         "72000",
         "6",
         "4.0",
         "2018-09-20 00:00:00",
         "4.0",
         "1.0"
        ],
        [
         "2",
         "Charlie",
         "HR",
         "65000",
         "3",
         "3.8",
         "2021-01-10 00:00:00",
         "1.0",
         "2.0"
        ],
        [
         "5",
         "Frank",
         "HR",
         "68000",
         "4",
         "3.9",
         "2020-04-05 00:00:00",
         "2.0",
         "1.0"
        ]
       ],
       "shape": {
        "columns": 8,
        "rows": 6
       }
      },
      "text/html": [
       "<div>\n",
       "<style scoped>\n",
       "    .dataframe tbody tr th:only-of-type {\n",
       "        vertical-align: middle;\n",
       "    }\n",
       "\n",
       "    .dataframe tbody tr th {\n",
       "        vertical-align: top;\n",
       "    }\n",
       "\n",
       "    .dataframe thead th {\n",
       "        text-align: right;\n",
       "    }\n",
       "</style>\n",
       "<table border=\"1\" class=\"dataframe\">\n",
       "  <thead>\n",
       "    <tr style=\"text-align: right;\">\n",
       "      <th></th>\n",
       "      <th>name</th>\n",
       "      <th>department</th>\n",
       "      <th>salary</th>\n",
       "      <th>years_exp</th>\n",
       "      <th>performance</th>\n",
       "      <th>hire_date</th>\n",
       "      <th>salary_rank</th>\n",
       "      <th>dept_salary_rank</th>\n",
       "    </tr>\n",
       "  </thead>\n",
       "  <tbody>\n",
       "    <tr>\n",
       "      <th>1</th>\n",
       "      <td>Bob</td>\n",
       "      <td>IT</td>\n",
       "      <td>85000</td>\n",
       "      <td>8</td>\n",
       "      <td>4.5</td>\n",
       "      <td>2016-06-01</td>\n",
       "      <td>5.0</td>\n",
       "      <td>2.0</td>\n",
       "    </tr>\n",
       "    <tr>\n",
       "      <th>4</th>\n",
       "      <td>Eve</td>\n",
       "      <td>IT</td>\n",
       "      <td>90000</td>\n",
       "      <td>10</td>\n",
       "      <td>4.7</td>\n",
       "      <td>2014-11-30</td>\n",
       "      <td>6.0</td>\n",
       "      <td>1.0</td>\n",
       "    </tr>\n",
       "    <tr>\n",
       "      <th>0</th>\n",
       "      <td>Alice</td>\n",
       "      <td>Sales</td>\n",
       "      <td>70000</td>\n",
       "      <td>5</td>\n",
       "      <td>4.2</td>\n",
       "      <td>2019-03-15</td>\n",
       "      <td>3.0</td>\n",
       "      <td>2.0</td>\n",
       "    </tr>\n",
       "    <tr>\n",
       "      <th>3</th>\n",
       "      <td>David</td>\n",
       "      <td>Sales</td>\n",
       "      <td>72000</td>\n",
       "      <td>6</td>\n",
       "      <td>4.0</td>\n",
       "      <td>2018-09-20</td>\n",
       "      <td>4.0</td>\n",
       "      <td>1.0</td>\n",
       "    </tr>\n",
       "    <tr>\n",
       "      <th>2</th>\n",
       "      <td>Charlie</td>\n",
       "      <td>HR</td>\n",
       "      <td>65000</td>\n",
       "      <td>3</td>\n",
       "      <td>3.8</td>\n",
       "      <td>2021-01-10</td>\n",
       "      <td>1.0</td>\n",
       "      <td>2.0</td>\n",
       "    </tr>\n",
       "    <tr>\n",
       "      <th>5</th>\n",
       "      <td>Frank</td>\n",
       "      <td>HR</td>\n",
       "      <td>68000</td>\n",
       "      <td>4</td>\n",
       "      <td>3.9</td>\n",
       "      <td>2020-04-05</td>\n",
       "      <td>2.0</td>\n",
       "      <td>1.0</td>\n",
       "    </tr>\n",
       "  </tbody>\n",
       "</table>\n",
       "</div>"
      ],
      "text/plain": [
       "      name department  salary  years_exp  performance  hire_date  salary_rank  \\\n",
       "1      Bob         IT   85000          8          4.5 2016-06-01          5.0   \n",
       "4      Eve         IT   90000         10          4.7 2014-11-30          6.0   \n",
       "0    Alice      Sales   70000          5          4.2 2019-03-15          3.0   \n",
       "3    David      Sales   72000          6          4.0 2018-09-20          4.0   \n",
       "2  Charlie         HR   65000          3          3.8 2021-01-10          1.0   \n",
       "5    Frank         HR   68000          4          3.9 2020-04-05          2.0   \n",
       "\n",
       "   dept_salary_rank  \n",
       "1               2.0  \n",
       "4               1.0  \n",
       "0               2.0  \n",
       "3               1.0  \n",
       "2               2.0  \n",
       "5               1.0  "
      ]
     },
     "execution_count": 34,
     "metadata": {},
     "output_type": "execute_result"
    }
   ],
   "source": [
    "# Custom sort order for categorical-like data\n",
    "# Define custom order for departments\n",
    "dept_order = {'IT': 0, 'Sales': 1, 'HR': 2}\n",
    "df.assign(dept_order=df['department'].map(dept_order)).sort_values('dept_order').drop(columns='dept_order')"
   ]
  },
  {
   "cell_type": "markdown",
   "id": "845010a0",
   "metadata": {},
   "source": [
    "## Creating Tidyverse-Style Helper Functions\n",
    "\n",
    "Make sorting more dplyr-like:"
   ]
  },
  {
   "cell_type": "code",
   "execution_count": 35,
   "id": "4ae84c7a",
   "metadata": {},
   "outputs": [
    {
     "data": {
      "application/vnd.microsoft.datawrangler.viewer.v0+json": {
       "columns": [
        {
         "name": "index",
         "rawType": "int64",
         "type": "integer"
        },
        {
         "name": "name",
         "rawType": "object",
         "type": "string"
        },
        {
         "name": "department",
         "rawType": "object",
         "type": "string"
        },
        {
         "name": "salary",
         "rawType": "int64",
         "type": "integer"
        },
        {
         "name": "years_exp",
         "rawType": "int64",
         "type": "integer"
        },
        {
         "name": "performance",
         "rawType": "float64",
         "type": "float"
        },
        {
         "name": "hire_date",
         "rawType": "datetime64[ns]",
         "type": "datetime"
        },
        {
         "name": "salary_rank",
         "rawType": "float64",
         "type": "float"
        },
        {
         "name": "dept_salary_rank",
         "rawType": "float64",
         "type": "float"
        }
       ],
       "ref": "92951a45-34b6-4f5c-9bc3-2dd341d32c74",
       "rows": [
        [
         "5",
         "Frank",
         "HR",
         "68000",
         "4",
         "3.9",
         "2020-04-05 00:00:00",
         "2.0",
         "1.0"
        ],
        [
         "2",
         "Charlie",
         "HR",
         "65000",
         "3",
         "3.8",
         "2021-01-10 00:00:00",
         "1.0",
         "2.0"
        ],
        [
         "4",
         "Eve",
         "IT",
         "90000",
         "10",
         "4.7",
         "2014-11-30 00:00:00",
         "6.0",
         "1.0"
        ],
        [
         "1",
         "Bob",
         "IT",
         "85000",
         "8",
         "4.5",
         "2016-06-01 00:00:00",
         "5.0",
         "2.0"
        ],
        [
         "3",
         "David",
         "Sales",
         "72000",
         "6",
         "4.0",
         "2018-09-20 00:00:00",
         "4.0",
         "1.0"
        ],
        [
         "0",
         "Alice",
         "Sales",
         "70000",
         "5",
         "4.2",
         "2019-03-15 00:00:00",
         "3.0",
         "2.0"
        ]
       ],
       "shape": {
        "columns": 8,
        "rows": 6
       }
      },
      "text/html": [
       "<div>\n",
       "<style scoped>\n",
       "    .dataframe tbody tr th:only-of-type {\n",
       "        vertical-align: middle;\n",
       "    }\n",
       "\n",
       "    .dataframe tbody tr th {\n",
       "        vertical-align: top;\n",
       "    }\n",
       "\n",
       "    .dataframe thead th {\n",
       "        text-align: right;\n",
       "    }\n",
       "</style>\n",
       "<table border=\"1\" class=\"dataframe\">\n",
       "  <thead>\n",
       "    <tr style=\"text-align: right;\">\n",
       "      <th></th>\n",
       "      <th>name</th>\n",
       "      <th>department</th>\n",
       "      <th>salary</th>\n",
       "      <th>years_exp</th>\n",
       "      <th>performance</th>\n",
       "      <th>hire_date</th>\n",
       "      <th>salary_rank</th>\n",
       "      <th>dept_salary_rank</th>\n",
       "    </tr>\n",
       "  </thead>\n",
       "  <tbody>\n",
       "    <tr>\n",
       "      <th>5</th>\n",
       "      <td>Frank</td>\n",
       "      <td>HR</td>\n",
       "      <td>68000</td>\n",
       "      <td>4</td>\n",
       "      <td>3.9</td>\n",
       "      <td>2020-04-05</td>\n",
       "      <td>2.0</td>\n",
       "      <td>1.0</td>\n",
       "    </tr>\n",
       "    <tr>\n",
       "      <th>2</th>\n",
       "      <td>Charlie</td>\n",
       "      <td>HR</td>\n",
       "      <td>65000</td>\n",
       "      <td>3</td>\n",
       "      <td>3.8</td>\n",
       "      <td>2021-01-10</td>\n",
       "      <td>1.0</td>\n",
       "      <td>2.0</td>\n",
       "    </tr>\n",
       "    <tr>\n",
       "      <th>4</th>\n",
       "      <td>Eve</td>\n",
       "      <td>IT</td>\n",
       "      <td>90000</td>\n",
       "      <td>10</td>\n",
       "      <td>4.7</td>\n",
       "      <td>2014-11-30</td>\n",
       "      <td>6.0</td>\n",
       "      <td>1.0</td>\n",
       "    </tr>\n",
       "    <tr>\n",
       "      <th>1</th>\n",
       "      <td>Bob</td>\n",
       "      <td>IT</td>\n",
       "      <td>85000</td>\n",
       "      <td>8</td>\n",
       "      <td>4.5</td>\n",
       "      <td>2016-06-01</td>\n",
       "      <td>5.0</td>\n",
       "      <td>2.0</td>\n",
       "    </tr>\n",
       "    <tr>\n",
       "      <th>3</th>\n",
       "      <td>David</td>\n",
       "      <td>Sales</td>\n",
       "      <td>72000</td>\n",
       "      <td>6</td>\n",
       "      <td>4.0</td>\n",
       "      <td>2018-09-20</td>\n",
       "      <td>4.0</td>\n",
       "      <td>1.0</td>\n",
       "    </tr>\n",
       "    <tr>\n",
       "      <th>0</th>\n",
       "      <td>Alice</td>\n",
       "      <td>Sales</td>\n",
       "      <td>70000</td>\n",
       "      <td>5</td>\n",
       "      <td>4.2</td>\n",
       "      <td>2019-03-15</td>\n",
       "      <td>3.0</td>\n",
       "      <td>2.0</td>\n",
       "    </tr>\n",
       "  </tbody>\n",
       "</table>\n",
       "</div>"
      ],
      "text/plain": [
       "      name department  salary  years_exp  performance  hire_date  salary_rank  \\\n",
       "5    Frank         HR   68000          4          3.9 2020-04-05          2.0   \n",
       "2  Charlie         HR   65000          3          3.8 2021-01-10          1.0   \n",
       "4      Eve         IT   90000         10          4.7 2014-11-30          6.0   \n",
       "1      Bob         IT   85000          8          4.5 2016-06-01          5.0   \n",
       "3    David      Sales   72000          6          4.0 2018-09-20          4.0   \n",
       "0    Alice      Sales   70000          5          4.2 2019-03-15          3.0   \n",
       "\n",
       "   dept_salary_rank  \n",
       "5               1.0  \n",
       "2               2.0  \n",
       "4               1.0  \n",
       "1               2.0  \n",
       "3               1.0  \n",
       "0               2.0  "
      ]
     },
     "execution_count": 35,
     "metadata": {},
     "output_type": "execute_result"
    }
   ],
   "source": [
    "def arrange(df, *args, ascending=True):\n",
    "    \"\"\"Mimics dplyr's arrange function\"\"\"\n",
    "    columns = []\n",
    "    ascending_list = []\n",
    "    \n",
    "    for arg in args:\n",
    "        if arg.startswith('-'):\n",
    "            columns.append(arg[1:])\n",
    "            ascending_list.append(False)\n",
    "        else:\n",
    "            columns.append(arg)\n",
    "            ascending_list.append(True)\n",
    "    \n",
    "    return df.sort_values(columns, ascending=ascending_list)\n",
    "\n",
    "# Usage examples\n",
    "# R: arrange(df, department, desc(salary))\n",
    "arrange(df, 'department', '-salary')"
   ]
  },
  {
   "cell_type": "code",
   "execution_count": 36,
   "id": "a71faf67",
   "metadata": {},
   "outputs": [
    {
     "data": {
      "application/vnd.microsoft.datawrangler.viewer.v0+json": {
       "columns": [
        {
         "name": "index",
         "rawType": "int64",
         "type": "integer"
        },
        {
         "name": "name",
         "rawType": "object",
         "type": "string"
        },
        {
         "name": "department",
         "rawType": "object",
         "type": "string"
        },
        {
         "name": "salary",
         "rawType": "int64",
         "type": "integer"
        },
        {
         "name": "years_exp",
         "rawType": "int64",
         "type": "integer"
        },
        {
         "name": "performance",
         "rawType": "float64",
         "type": "float"
        },
        {
         "name": "hire_date",
         "rawType": "datetime64[ns]",
         "type": "datetime"
        },
        {
         "name": "salary_rank",
         "rawType": "float64",
         "type": "float"
        },
        {
         "name": "dept_salary_rank",
         "rawType": "float64",
         "type": "float"
        }
       ],
       "ref": "e22396a4-ca98-4f10-81b4-68754296ff13",
       "rows": [
        [
         "4",
         "Eve",
         "IT",
         "90000",
         "10",
         "4.7",
         "2014-11-30 00:00:00",
         "6.0",
         "1.0"
        ],
        [
         "1",
         "Bob",
         "IT",
         "85000",
         "8",
         "4.5",
         "2016-06-01 00:00:00",
         "5.0",
         "2.0"
        ],
        [
         "3",
         "David",
         "Sales",
         "72000",
         "6",
         "4.0",
         "2018-09-20 00:00:00",
         "4.0",
         "1.0"
        ]
       ],
       "shape": {
        "columns": 8,
        "rows": 3
       }
      },
      "text/html": [
       "<div>\n",
       "<style scoped>\n",
       "    .dataframe tbody tr th:only-of-type {\n",
       "        vertical-align: middle;\n",
       "    }\n",
       "\n",
       "    .dataframe tbody tr th {\n",
       "        vertical-align: top;\n",
       "    }\n",
       "\n",
       "    .dataframe thead th {\n",
       "        text-align: right;\n",
       "    }\n",
       "</style>\n",
       "<table border=\"1\" class=\"dataframe\">\n",
       "  <thead>\n",
       "    <tr style=\"text-align: right;\">\n",
       "      <th></th>\n",
       "      <th>name</th>\n",
       "      <th>department</th>\n",
       "      <th>salary</th>\n",
       "      <th>years_exp</th>\n",
       "      <th>performance</th>\n",
       "      <th>hire_date</th>\n",
       "      <th>salary_rank</th>\n",
       "      <th>dept_salary_rank</th>\n",
       "    </tr>\n",
       "  </thead>\n",
       "  <tbody>\n",
       "    <tr>\n",
       "      <th>4</th>\n",
       "      <td>Eve</td>\n",
       "      <td>IT</td>\n",
       "      <td>90000</td>\n",
       "      <td>10</td>\n",
       "      <td>4.7</td>\n",
       "      <td>2014-11-30</td>\n",
       "      <td>6.0</td>\n",
       "      <td>1.0</td>\n",
       "    </tr>\n",
       "    <tr>\n",
       "      <th>1</th>\n",
       "      <td>Bob</td>\n",
       "      <td>IT</td>\n",
       "      <td>85000</td>\n",
       "      <td>8</td>\n",
       "      <td>4.5</td>\n",
       "      <td>2016-06-01</td>\n",
       "      <td>5.0</td>\n",
       "      <td>2.0</td>\n",
       "    </tr>\n",
       "    <tr>\n",
       "      <th>3</th>\n",
       "      <td>David</td>\n",
       "      <td>Sales</td>\n",
       "      <td>72000</td>\n",
       "      <td>6</td>\n",
       "      <td>4.0</td>\n",
       "      <td>2018-09-20</td>\n",
       "      <td>4.0</td>\n",
       "      <td>1.0</td>\n",
       "    </tr>\n",
       "  </tbody>\n",
       "</table>\n",
       "</div>"
      ],
      "text/plain": [
       "    name department  salary  years_exp  performance  hire_date  salary_rank  \\\n",
       "4    Eve         IT   90000         10          4.7 2014-11-30          6.0   \n",
       "1    Bob         IT   85000          8          4.5 2016-06-01          5.0   \n",
       "3  David      Sales   72000          6          4.0 2018-09-20          4.0   \n",
       "\n",
       "   dept_salary_rank  \n",
       "4               1.0  \n",
       "1               2.0  \n",
       "3               1.0  "
      ]
     },
     "execution_count": 36,
     "metadata": {},
     "output_type": "execute_result"
    }
   ],
   "source": [
    "def slice_max(df, column, n=5):\n",
    "    \"\"\"Mimics dplyr's slice_max\"\"\"\n",
    "    return df.nlargest(n, column)\n",
    "\n",
    "def slice_min(df, column, n=5):\n",
    "    \"\"\"Mimics dplyr's slice_min\"\"\"\n",
    "    return df.nsmallest(n, column)\n",
    "\n",
    "# Usage\n",
    "slice_max(df, 'salary', n=3)"
   ]
  }
 ],
 "metadata": {
  "kernelspec": {
   "display_name": "ds-env",
   "language": "python",
   "name": "python3"
  },
  "language_info": {
   "codemirror_mode": {
    "name": "ipython",
    "version": 3
   },
   "file_extension": ".py",
   "mimetype": "text/x-python",
   "name": "python",
   "nbconvert_exporter": "python",
   "pygments_lexer": "ipython3",
   "version": "3.12.9"
  }
 },
 "nbformat": 4,
 "nbformat_minor": 5
}
