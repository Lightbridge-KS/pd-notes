{
 "cells": [
  {
   "cell_type": "markdown",
   "id": "8bddb29b",
   "metadata": {},
   "source": [
    "# Series\n",
    "\n",
    "A pandas Series is the fundamental building block of data analysis in pandas, equivalent to R's vectors. While R vectors are foundational data structures, pandas Series are more feature-rich objects that combine the functionality of R vectors with additional index capabilities. Understanding Series is crucial because DataFrames are essentially collections of Series."
   ]
  },
  {
   "cell_type": "code",
   "execution_count": 2,
   "id": "d7dcd404",
   "metadata": {},
   "outputs": [],
   "source": [
    "import pandas as pd\n",
    "import numpy as np"
   ]
  },
  {
   "cell_type": "markdown",
   "id": "d0d51e93",
   "metadata": {},
   "source": [
    "## Key Methods Summary\n",
    "\n",
    "Here's a quick reference comparing R vector operations to pandas Series methods:\n",
    "\n",
    "| Operation | R | Pandas Series |\n",
    "|-----------|---|---------------|\n",
    "| Create | `c(1, 2, 3)` | `pd.Series([1, 2, 3])` |\n",
    "| Length | `length(x)` | `len(s)` or `s.size` |\n",
    "| Sum | `sum(x)` | `s.sum()` |\n",
    "| Mean | `mean(x)` | `s.mean()` |\n",
    "| Summary | `summary(x)` | `s.describe()` |\n",
    "| Unique | `unique(x)` | `s.unique()` |\n",
    "| Sort | `sort(x)` | `s.sort_values()` |\n",
    "| Missing check | `is.na(x)` | `s.isna()` |\n",
    "| Value counts | `table(x)` | `s.value_counts()` |\n",
    "| Subset | `x[x > 5]` | `s[s > 5]` |\n",
    "| Apply function | `sapply(x, fun)` | `s.apply(fun)` |"
   ]
  },
  {
   "cell_type": "markdown",
   "id": "2e342b75",
   "metadata": {},
   "source": [
    "## Creating Series\n",
    "\n",
    "Just like creating vectors in R with `c()`, pandas offers multiple ways to create Series:"
   ]
  },
  {
   "cell_type": "code",
   "execution_count": 4,
   "id": "5821173f",
   "metadata": {},
   "outputs": [
    {
     "data": {
      "application/vnd.microsoft.datawrangler.viewer.v0+json": {
       "columns": [
        {
         "name": "index",
         "rawType": "int64",
         "type": "integer"
        },
        {
         "name": "0",
         "rawType": "int64",
         "type": "integer"
        }
       ],
       "ref": "b759e3d1-1170-4de4-a10d-7183ddb1059c",
       "rows": [
        [
         "0",
         "10"
        ],
        [
         "1",
         "20"
        ],
        [
         "2",
         "30"
        ],
        [
         "3",
         "40"
        ],
        [
         "4",
         "50"
        ]
       ],
       "shape": {
        "columns": 1,
        "rows": 5
       }
      },
      "text/plain": [
       "0    10\n",
       "1    20\n",
       "2    30\n",
       "3    40\n",
       "4    50\n",
       "dtype: int64"
      ]
     },
     "execution_count": 4,
     "metadata": {},
     "output_type": "execute_result"
    }
   ],
   "source": [
    "# Pandas: from a list\n",
    "numbers = pd.Series([10, 20, 30, 40, 50])\n",
    "numbers"
   ]
  },
  {
   "cell_type": "code",
   "execution_count": 6,
   "id": "aabd4a01",
   "metadata": {},
   "outputs": [
    {
     "data": {
      "application/vnd.microsoft.datawrangler.viewer.v0+json": {
       "columns": [
        {
         "name": "index",
         "rawType": "int64",
         "type": "integer"
        },
        {
         "name": "0",
         "rawType": "float64",
         "type": "float"
        }
       ],
       "ref": "c5e73689-234e-43a5-a3c8-de0794864745",
       "rows": [
        [
         "0",
         "1.5"
        ],
        [
         "1",
         "2.5"
        ],
        [
         "2",
         "3.5"
        ],
        [
         "3",
         "4.5"
        ]
       ],
       "shape": {
        "columns": 1,
        "rows": 4
       }
      },
      "text/plain": [
       "0    1.5\n",
       "1    2.5\n",
       "2    3.5\n",
       "3    4.5\n",
       "dtype: float64"
      ]
     },
     "execution_count": 6,
     "metadata": {},
     "output_type": "execute_result"
    }
   ],
   "source": [
    "# From a NumPy array (more efficient for large data)\n",
    "arr = np.array([1.5, 2.5, 3.5, 4.5])\n",
    "float_series = pd.Series(arr)\n",
    "float_series"
   ]
  },
  {
   "cell_type": "code",
   "execution_count": 8,
   "id": "9ba8cbab",
   "metadata": {},
   "outputs": [
    {
     "data": {
      "application/vnd.microsoft.datawrangler.viewer.v0+json": {
       "columns": [
        {
         "name": "index",
         "rawType": "object",
         "type": "string"
        },
        {
         "name": "0",
         "rawType": "int64",
         "type": "integer"
        }
       ],
       "ref": "32b4a7cb-fab3-4ff9-9321-ec58d42df077",
       "rows": [
        [
         "a",
         "10"
        ],
        [
         "b",
         "20"
        ],
        [
         "c",
         "30"
        ]
       ],
       "shape": {
        "columns": 1,
        "rows": 3
       }
      },
      "text/plain": [
       "a    10\n",
       "b    20\n",
       "c    30\n",
       "dtype: int64"
      ]
     },
     "execution_count": 8,
     "metadata": {},
     "output_type": "execute_result"
    }
   ],
   "source": [
    "# From a dictionary (automatic index assignment)\n",
    "dict_series = pd.Series({\"a\": 10, \"b\": 20, \"c\": 30})\n",
    "dict_series"
   ]
  },
  {
   "cell_type": "code",
   "execution_count": 9,
   "id": "e306cc36",
   "metadata": {},
   "outputs": [
    {
     "data": {
      "application/vnd.microsoft.datawrangler.viewer.v0+json": {
       "columns": [
        {
         "name": "index",
         "rawType": "object",
         "type": "string"
        },
        {
         "name": "0",
         "rawType": "int64",
         "type": "integer"
        }
       ],
       "ref": "a40ac780-6779-46c8-aa68-33c0b3b766b2",
       "rows": [
        [
         "x",
         "10"
        ],
        [
         "y",
         "20"
        ],
        [
         "z",
         "30"
        ]
       ],
       "shape": {
        "columns": 1,
        "rows": 3
       }
      },
      "text/plain": [
       "x    10\n",
       "y    20\n",
       "z    30\n",
       "dtype: int64"
      ]
     },
     "execution_count": 9,
     "metadata": {},
     "output_type": "execute_result"
    }
   ],
   "source": [
    "# With explicit index (like R's named vectors)\n",
    "# R: setNames(c(10, 20, 30), c(\"x\", \"y\", \"z\"))\n",
    "named_series = pd.Series([10, 20, 30], index=[\"x\", \"y\", \"z\"])\n",
    "named_series"
   ]
  },
  {
   "cell_type": "markdown",
   "id": "d5b27521",
   "metadata": {},
   "source": [
    "## The Index Concept\n",
    "\n",
    "The biggest difference from R vectors is that every Series has an index. While R has names for vectors, pandas makes the index a core feature:"
   ]
  },
  {
   "cell_type": "code",
   "execution_count": 10,
   "id": "f435953f",
   "metadata": {},
   "outputs": [
    {
     "name": "stdout",
     "output_type": "stream",
     "text": [
      "Values: [100 200 300]\n",
      "Index: RangeIndex(start=0, stop=3, step=1)\n"
     ]
    }
   ],
   "source": [
    "# Default index (0-based, like Python)\n",
    "series = pd.Series([100, 200, 300])\n",
    "print(\"Values:\", series.values)  # Like unname() in R\n",
    "print(\"Index:\", series.index)"
   ]
  },
  {
   "cell_type": "code",
   "execution_count": 11,
   "id": "76fda874",
   "metadata": {},
   "outputs": [
    {
     "name": "stdout",
     "output_type": "stream",
     "text": [
      "Alice      85\n",
      "Bob        92\n",
      "Charlie    78\n",
      "David      95\n",
      "dtype: int64\n"
     ]
    }
   ],
   "source": [
    "# Custom index\n",
    "grades = pd.Series([85, 92, 78, 95], \n",
    "                   index=[\"Alice\", \"Bob\", \"Charlie\", \"David\"])\n",
    "print(grades)"
   ]
  },
  {
   "cell_type": "code",
   "execution_count": 13,
   "id": "314c237b",
   "metadata": {},
   "outputs": [
    {
     "name": "stdout",
     "output_type": "stream",
     "text": [
      "Bob's grade: 92\n",
      "Using loc: 92\n",
      "Using position: 92\n"
     ]
    }
   ],
   "source": [
    "# Accessing by index (like R's named vector access)\n",
    "print(\"Bob's grade:\", grades[\"Bob\"])  # R: grades[\"Bob\"]\n",
    "print(\"Using loc:\", grades.loc[\"Bob\"])  # More explicit\n",
    "print(\"Using position:\", grades.iloc[1])  # R: grades[2] (R is 1-indexed!)"
   ]
  },
  {
   "cell_type": "markdown",
   "id": "091b572f",
   "metadata": {},
   "source": [
    "## Basic Attributes and Methods\n",
    "\n",
    "Series objects have many useful attributes and methods that go beyond R's vector capabilities:"
   ]
  },
  {
   "cell_type": "code",
   "execution_count": 15,
   "id": "df3ca5c2",
   "metadata": {},
   "outputs": [],
   "source": [
    "# Create a sample series\n",
    "data = pd.Series([15, 28, 33, 45, 22, 38, 40, 55, 18, 30])"
   ]
  },
  {
   "cell_type": "markdown",
   "id": "e36fa1c1",
   "metadata": {},
   "source": [
    "### Basic attributes"
   ]
  },
  {
   "cell_type": "code",
   "execution_count": 16,
   "id": "34c24885",
   "metadata": {},
   "outputs": [
    {
     "name": "stdout",
     "output_type": "stream",
     "text": [
      "Length: 10\n",
      "Shape: (10,)\n",
      "Size: 10\n",
      "Data type: int64\n"
     ]
    }
   ],
   "source": [
    "print(f\"Length: {len(data)}\")          # R: length(data)\n",
    "print(f\"Shape: {data.shape}\")          # Returns tuple (n,)\n",
    "print(f\"Size: {data.size}\")            # Same as length\n",
    "print(f\"Data type: {data.dtype}\")      # R: typeof(data)"
   ]
  },
  {
   "cell_type": "markdown",
   "id": "1c37d64a",
   "metadata": {},
   "source": [
    "### Basic statistics"
   ]
  },
  {
   "cell_type": "code",
   "execution_count": 17,
   "id": "4deaab1d",
   "metadata": {},
   "outputs": [
    {
     "name": "stdout",
     "output_type": "stream",
     "text": [
      "Mean: 32.4\n",
      "Median: 31.5\n",
      "Std Dev: 12.48287716122458\n",
      "Min: 15\n",
      "Max: 55\n"
     ]
    }
   ],
   "source": [
    "print(f\"Mean: {data.mean()}\")          # R: mean(data)\n",
    "print(f\"Median: {data.median()}\")      # R: median(data)\n",
    "print(f\"Std Dev: {data.std()}\")        # R: sd(data)\n",
    "print(f\"Min: {data.min()}\")            # R: min(data)\n",
    "print(f\"Max: {data.max()}\")            # R: max(data)"
   ]
  },
  {
   "cell_type": "markdown",
   "id": "2cddfb7c",
   "metadata": {},
   "source": [
    "### Describe"
   ]
  },
  {
   "cell_type": "code",
   "execution_count": 19,
   "id": "c5598e2f",
   "metadata": {},
   "outputs": [
    {
     "data": {
      "application/vnd.microsoft.datawrangler.viewer.v0+json": {
       "columns": [
        {
         "name": "index",
         "rawType": "object",
         "type": "string"
        },
        {
         "name": "0",
         "rawType": "float64",
         "type": "float"
        }
       ],
       "ref": "00e5c18c-536f-43cc-9d5f-84f1c6fc055b",
       "rows": [
        [
         "count",
         "10.0"
        ],
        [
         "mean",
         "32.4"
        ],
        [
         "std",
         "12.48287716122458"
        ],
        [
         "min",
         "15.0"
        ],
        [
         "25%",
         "23.5"
        ],
        [
         "50%",
         "31.5"
        ],
        [
         "75%",
         "39.5"
        ],
        [
         "max",
         "55.0"
        ]
       ],
       "shape": {
        "columns": 1,
        "rows": 8
       }
      },
      "text/plain": [
       "count    10.000000\n",
       "mean     32.400000\n",
       "std      12.482877\n",
       "min      15.000000\n",
       "25%      23.500000\n",
       "50%      31.500000\n",
       "75%      39.500000\n",
       "max      55.000000\n",
       "dtype: float64"
      ]
     },
     "execution_count": 19,
     "metadata": {},
     "output_type": "execute_result"
    }
   ],
   "source": [
    "# R's summary() equivalent\n",
    "data.describe()"
   ]
  },
  {
   "cell_type": "markdown",
   "id": "40b8e265",
   "metadata": {},
   "source": [
    "## Vectorized Operations\n",
    "\n",
    "\n",
    "Like R, pandas Series support vectorized operations, making calculations efficient and readable:"
   ]
  },
  {
   "cell_type": "code",
   "execution_count": 20,
   "id": "b71fd36f",
   "metadata": {},
   "outputs": [],
   "source": [
    "s1 = pd.Series([10, 20, 30, 40])\n",
    "s2 = pd.Series([1, 2, 3, 4])"
   ]
  },
  {
   "cell_type": "markdown",
   "id": "b5a9ea51",
   "metadata": {},
   "source": [
    "### Arithmetic operations"
   ]
  },
  {
   "cell_type": "code",
   "execution_count": 21,
   "id": "1bdf334e",
   "metadata": {},
   "outputs": [
    {
     "name": "stdout",
     "output_type": "stream",
     "text": [
      "Addition: 0    11\n",
      "1    22\n",
      "2    33\n",
      "3    44\n",
      "dtype: int64\n",
      "Multiplication: 0     10\n",
      "1     40\n",
      "2     90\n",
      "3    160\n",
      "dtype: int64\n",
      "Power: 0     100\n",
      "1     400\n",
      "2     900\n",
      "3    1600\n",
      "dtype: int64\n"
     ]
    }
   ],
   "source": [
    "print(\"Addition:\", s1 + s2)          # R: s1 + s2\n",
    "print(\"Multiplication:\", s1 * s2)    # R: s1 * s2\n",
    "print(\"Power:\", s1 ** 2)             # R: s1^2"
   ]
  },
  {
   "cell_type": "code",
   "execution_count": 22,
   "id": "b43f6fed",
   "metadata": {},
   "outputs": [
    {
     "name": "stdout",
     "output_type": "stream",
     "text": [
      "Add 5: 0    15\n",
      "1    25\n",
      "2    35\n",
      "3    45\n",
      "dtype: int64\n",
      "Divide by 10: 0    1.0\n",
      "1    2.0\n",
      "2    3.0\n",
      "3    4.0\n",
      "dtype: float64\n"
     ]
    }
   ],
   "source": [
    "# With scalars\n",
    "print(\"Add 5:\", s1 + 5)              # R: s1 + 5\n",
    "print(\"Divide by 10:\", s1 / 10)     # R: s1 / 10"
   ]
  },
  {
   "cell_type": "markdown",
   "id": "a76cb480",
   "metadata": {},
   "source": [
    "### Mathematical functions"
   ]
  },
  {
   "cell_type": "code",
   "execution_count": 23,
   "id": "814b2716",
   "metadata": {},
   "outputs": [
    {
     "name": "stdout",
     "output_type": "stream",
     "text": [
      "Square root: 0    3.162278\n",
      "1    4.472136\n",
      "2    5.477226\n",
      "3    6.324555\n",
      "dtype: float64\n",
      "Log: 0    2.302585\n",
      "1    2.995732\n",
      "2    3.401197\n",
      "3    3.688879\n",
      "dtype: float64\n"
     ]
    }
   ],
   "source": [
    "print(\"Square root:\", np.sqrt(s1))   # R: sqrt(s1)\n",
    "print(\"Log:\", np.log(s1))           # R: log(s1)"
   ]
  },
  {
   "cell_type": "markdown",
   "id": "413dc331",
   "metadata": {},
   "source": [
    "## Boolean Operations and Filtering"
   ]
  },
  {
   "cell_type": "code",
   "execution_count": 24,
   "id": "43aab766",
   "metadata": {},
   "outputs": [],
   "source": [
    "temps = pd.Series([65, 72, 68, 75, 62, 78, 70], \n",
    "                  index=[\"Mon\", \"Tue\", \"Wed\", \"Thu\", \"Fri\", \"Sat\", \"Sun\"])"
   ]
  },
  {
   "cell_type": "code",
   "execution_count": 25,
   "id": "9301895c",
   "metadata": {},
   "outputs": [
    {
     "name": "stdout",
     "output_type": "stream",
     "text": [
      "Greater than 70:\n",
      "Mon    False\n",
      "Tue     True\n",
      "Wed    False\n",
      "Thu     True\n",
      "Fri    False\n",
      "Sat     True\n",
      "Sun    False\n",
      "dtype: bool\n"
     ]
    }
   ],
   "source": [
    "# Boolean comparisons (like R)\n",
    "print(\"Greater than 70:\")\n",
    "print(temps > 70)                    # R: temps > 70"
   ]
  },
  {
   "cell_type": "markdown",
   "id": "b95ea7ef",
   "metadata": {},
   "source": [
    "### Using `[`"
   ]
  },
  {
   "cell_type": "code",
   "execution_count": 26,
   "id": "99de4894",
   "metadata": {},
   "outputs": [
    {
     "name": "stdout",
     "output_type": "stream",
     "text": [
      "Days above 70:\n",
      "Tue    72\n",
      "Thu    75\n",
      "Sat    78\n",
      "dtype: int64\n"
     ]
    }
   ],
   "source": [
    "# Filtering (subsetting)\n",
    "print(\"Days above 70:\")\n",
    "print(temps[temps > 70])"
   ]
  },
  {
   "cell_type": "code",
   "execution_count": 27,
   "id": "d7d6bf13",
   "metadata": {},
   "outputs": [
    {
     "name": "stdout",
     "output_type": "stream",
     "text": [
      "Between 65 and 75:\n",
      "Tue    72\n",
      "Wed    68\n",
      "Sun    70\n",
      "dtype: int64\n"
     ]
    }
   ],
   "source": [
    "print(\"Between 65 and 75:\")\n",
    "print(temps[(temps > 65) & (temps < 75)])"
   ]
  },
  {
   "cell_type": "markdown",
   "id": "7ac17dda",
   "metadata": {},
   "source": [
    "### Using `.where`"
   ]
  },
  {
   "cell_type": "code",
   "execution_count": 28,
   "id": "9e495ac1",
   "metadata": {},
   "outputs": [
    {
     "name": "stdout",
     "output_type": "stream",
     "text": [
      "Where > 70 (keeps original index):\n",
      "Mon     NaN\n",
      "Tue    72.0\n",
      "Wed     NaN\n",
      "Thu    75.0\n",
      "Fri     NaN\n",
      "Sat    78.0\n",
      "Sun     NaN\n",
      "dtype: float64\n"
     ]
    }
   ],
   "source": [
    "print(\"Where > 70 (keeps original index):\")\n",
    "print(temps.where(temps > 70))  # NaN for False conditions"
   ]
  },
  {
   "cell_type": "markdown",
   "id": "e5766d94",
   "metadata": {},
   "source": [
    "## String Operations\n",
    "\n",
    "For string data, pandas provides vectorized string methods through the `.str` accessor:"
   ]
  },
  {
   "cell_type": "code",
   "execution_count": 29,
   "id": "4df60528",
   "metadata": {},
   "outputs": [],
   "source": [
    "# String series\n",
    "names = pd.Series([\"Alice\", \"bob\", \"CHARLIE\", \"  David  \", \"Eve\"])"
   ]
  },
  {
   "cell_type": "code",
   "execution_count": 30,
   "id": "308f6a47",
   "metadata": {},
   "outputs": [
    {
     "name": "stdout",
     "output_type": "stream",
     "text": [
      "Uppercase: 0        ALICE\n",
      "1          BOB\n",
      "2      CHARLIE\n",
      "3      DAVID  \n",
      "4          EVE\n",
      "dtype: object\n",
      "Lowercase: 0        alice\n",
      "1          bob\n",
      "2      charlie\n",
      "3      david  \n",
      "4          eve\n",
      "dtype: object\n",
      "Length: 0    5\n",
      "1    3\n",
      "2    7\n",
      "3    9\n",
      "4    3\n",
      "dtype: int64\n",
      "Strip whitespace: 0      Alice\n",
      "1        bob\n",
      "2    CHARLIE\n",
      "3      David\n",
      "4        Eve\n",
      "dtype: object\n"
     ]
    }
   ],
   "source": [
    "# R equivalent using stringr or base R\n",
    "print(\"Uppercase:\", names.str.upper())        # R: toupper(names)\n",
    "print(\"Lowercase:\", names.str.lower())        # R: tolower(names)\n",
    "print(\"Length:\", names.str.len())             # R: nchar(names)\n",
    "print(\"Strip whitespace:\", names.str.strip()) # R: trimws(names)"
   ]
  },
  {
   "cell_type": "code",
   "execution_count": 31,
   "id": "2c1b936e",
   "metadata": {},
   "outputs": [
    {
     "name": "stdout",
     "output_type": "stream",
     "text": [
      "0     True\n",
      "1    False\n",
      "2     True\n",
      "3     True\n",
      "4    False\n",
      "dtype: bool\n"
     ]
    }
   ],
   "source": [
    "# Contains pattern (like grepl in R)\n",
    "print(names.str.contains('a', case=False))    # R: grepl(\"a\", names, ignore.case=TRUE)"
   ]
  },
  {
   "cell_type": "markdown",
   "id": "5328d4a7",
   "metadata": {},
   "source": [
    "## Handling Missing Data\n",
    "\n",
    "Unlike R's universal `NA`, pandas Series can have different missing value types:"
   ]
  },
  {
   "cell_type": "code",
   "execution_count": 33,
   "id": "d58b25ea",
   "metadata": {},
   "outputs": [
    {
     "name": "stdout",
     "output_type": "stream",
     "text": [
      "Original series:\n",
      "0    1.0\n",
      "1    2.0\n",
      "2    NaN\n",
      "3    4.0\n",
      "4    NaN\n",
      "5    6.0\n",
      "dtype: float64\n"
     ]
    }
   ],
   "source": [
    "# Series with missing values\n",
    "# R: c(1, 2, NA, 4, NA, 6)\n",
    "s_missing = pd.Series([1, 2, np.nan, 4, np.nan, 6])\n",
    "\n",
    "print(\"Original series:\")\n",
    "print(s_missing)"
   ]
  },
  {
   "cell_type": "code",
   "execution_count": 34,
   "id": "6b8d3a7e",
   "metadata": {},
   "outputs": [
    {
     "name": "stdout",
     "output_type": "stream",
     "text": [
      "Is null: 0    False\n",
      "1    False\n",
      "2     True\n",
      "3    False\n",
      "4     True\n",
      "5    False\n",
      "dtype: bool\n",
      "Not null: 0     True\n",
      "1     True\n",
      "2    False\n",
      "3     True\n",
      "4    False\n",
      "5     True\n",
      "dtype: bool\n"
     ]
    }
   ],
   "source": [
    "# Check for missing values\n",
    "print(\"Is null:\", s_missing.isna())      # R: is.na(s_missing)\n",
    "print(\"Not null:\", s_missing.notna())    # R: !is.na(s_missing)"
   ]
  },
  {
   "cell_type": "code",
   "execution_count": 35,
   "id": "0972b7da",
   "metadata": {},
   "outputs": [
    {
     "name": "stdout",
     "output_type": "stream",
     "text": [
      "Sum: 13.0\n",
      "Mean: 3.25\n"
     ]
    }
   ],
   "source": [
    "# Operations with missing values\n",
    "print(\"Sum:\", s_missing.sum())           # R: sum(s_missing, na.rm=TRUE)\n",
    "print(\"Mean:\", s_missing.mean())         # R: mean(s_missing, na.rm=TRUE)"
   ]
  },
  {
   "cell_type": "code",
   "execution_count": 36,
   "id": "28537f98",
   "metadata": {},
   "outputs": [
    {
     "name": "stdout",
     "output_type": "stream",
     "text": [
      "Fill with 0: 0    1.0\n",
      "1    2.0\n",
      "2    0.0\n",
      "3    4.0\n",
      "4    0.0\n",
      "5    6.0\n",
      "dtype: float64\n",
      "Forward fill: 0    1.0\n",
      "1    2.0\n",
      "2    2.0\n",
      "3    4.0\n",
      "4    4.0\n",
      "5    6.0\n",
      "dtype: float64\n",
      "Drop missing: 0    1.0\n",
      "1    2.0\n",
      "3    4.0\n",
      "5    6.0\n",
      "dtype: float64\n"
     ]
    },
    {
     "name": "stderr",
     "output_type": "stream",
     "text": [
      "/var/folders/70/7wmmf6t55cb84bfx9g1c1k1m0000gn/T/ipykernel_48538/502066299.py:3: FutureWarning: Series.fillna with 'method' is deprecated and will raise in a future version. Use obj.ffill() or obj.bfill() instead.\n",
      "  print(\"Forward fill:\", s_missing.fillna(method='ffill'))  # R: na.locf(s_missing)\n"
     ]
    }
   ],
   "source": [
    "# Fill missing values\n",
    "print(\"Fill with 0:\", s_missing.fillna(0))           # R: replace_na(s_missing, 0)\n",
    "print(\"Forward fill:\", s_missing.fillna(method='ffill'))  # R: na.locf(s_missing)\n",
    "print(\"Drop missing:\", s_missing.dropna())           # R: na.omit(s_missing)"
   ]
  },
  {
   "cell_type": "markdown",
   "id": "b912dd4c",
   "metadata": {},
   "source": [
    "## Unique Values and Counting\n",
    "\n",
    "Working with categorical-like data in Series:"
   ]
  },
  {
   "cell_type": "code",
   "execution_count": 37,
   "id": "48a3f82f",
   "metadata": {},
   "outputs": [],
   "source": [
    "# Series with repeated values\n",
    "colors = pd.Series([\"red\", \"blue\", \"red\", \"green\", \"blue\", \"red\", \"yellow\"])"
   ]
  },
  {
   "cell_type": "code",
   "execution_count": 38,
   "id": "b8d14030",
   "metadata": {},
   "outputs": [
    {
     "name": "stdout",
     "output_type": "stream",
     "text": [
      "Unique values: ['red' 'blue' 'green' 'yellow']\n",
      "Number of unique: 4\n"
     ]
    }
   ],
   "source": [
    "# Unique values\n",
    "print(\"Unique values:\", colors.unique())          # R: unique(colors)\n",
    "print(\"Number of unique:\", colors.nunique())      # R: length(unique(colors))"
   ]
  },
  {
   "cell_type": "markdown",
   "id": "55b4692e",
   "metadata": {},
   "source": [
    "### Value counts"
   ]
  },
  {
   "cell_type": "code",
   "execution_count": 41,
   "id": "c302aa6f",
   "metadata": {},
   "outputs": [
    {
     "name": "stdout",
     "output_type": "stream",
     "text": [
      "red       3\n",
      "blue      2\n",
      "green     1\n",
      "yellow    1\n",
      "Name: count, dtype: int64\n"
     ]
    }
   ],
   "source": [
    "# Value counts (like R's table())\n",
    "print(colors.value_counts())                      # R: table(colors)"
   ]
  },
  {
   "cell_type": "code",
   "execution_count": 42,
   "id": "dc39ee5e",
   "metadata": {},
   "outputs": [
    {
     "name": "stdout",
     "output_type": "stream",
     "text": [
      "red       0.428571\n",
      "blue      0.285714\n",
      "green     0.142857\n",
      "yellow    0.142857\n",
      "Name: proportion, dtype: float64\n"
     ]
    }
   ],
   "source": [
    "# As proportions\n",
    "print(colors.value_counts(normalize=True))        # R: prop.table(table(colors))"
   ]
  },
  {
   "cell_type": "markdown",
   "id": "1f345226",
   "metadata": {},
   "source": [
    "## Sorting Series\n",
    "\n",
    "Sorting operations with more control than R's `sort()`:"
   ]
  },
  {
   "cell_type": "code",
   "execution_count": 43,
   "id": "6d30caeb",
   "metadata": {},
   "outputs": [],
   "source": [
    "# Create unsorted series\n",
    "values = pd.Series([30, 10, 40, 20, 50], index=[\"c\", \"a\", \"d\", \"b\", \"e\"])"
   ]
  },
  {
   "cell_type": "code",
   "execution_count": 44,
   "id": "af33837b",
   "metadata": {},
   "outputs": [
    {
     "name": "stdout",
     "output_type": "stream",
     "text": [
      "a    10\n",
      "b    20\n",
      "c    30\n",
      "d    40\n",
      "e    50\n",
      "dtype: int64\n"
     ]
    }
   ],
   "source": [
    "# Sort by values\n",
    "print(values.sort_values())              # R: sort(values)"
   ]
  },
  {
   "cell_type": "code",
   "execution_count": 45,
   "id": "167202de",
   "metadata": {},
   "outputs": [
    {
     "name": "stdout",
     "output_type": "stream",
     "text": [
      "Sort descending:\n",
      "e    50\n",
      "d    40\n",
      "c    30\n",
      "b    20\n",
      "a    10\n",
      "dtype: int64\n"
     ]
    }
   ],
   "source": [
    "print(\"Sort descending:\")\n",
    "print(values.sort_values(ascending=False))  # R: sort(values, decreasing=TRUE)"
   ]
  },
  {
   "cell_type": "code",
   "execution_count": 46,
   "id": "97d421b1",
   "metadata": {},
   "outputs": [
    {
     "name": "stdout",
     "output_type": "stream",
     "text": [
      "Sort by index:\n",
      "a    10\n",
      "b    20\n",
      "c    30\n",
      "d    40\n",
      "e    50\n",
      "dtype: int64\n"
     ]
    }
   ],
   "source": [
    "# Sort by index\n",
    "print(\"Sort by index:\")\n",
    "print(values.sort_index())               # R: values[order(names(values))]"
   ]
  },
  {
   "cell_type": "markdown",
   "id": "afb5e7ff",
   "metadata": {},
   "source": [
    "## Applying Functions\n",
    "\n",
    "Applying custom functions to Series elements:"
   ]
  },
  {
   "cell_type": "code",
   "execution_count": 47,
   "id": "80a0b059",
   "metadata": {},
   "outputs": [],
   "source": [
    "# Sample series\n",
    "nums = pd.Series([1, 4, 9, 16, 25])"
   ]
  },
  {
   "cell_type": "code",
   "execution_count": 48,
   "id": "ce983e6f",
   "metadata": {},
   "outputs": [
    {
     "data": {
      "application/vnd.microsoft.datawrangler.viewer.v0+json": {
       "columns": [
        {
         "name": "index",
         "rawType": "int64",
         "type": "integer"
        },
        {
         "name": "0",
         "rawType": "float64",
         "type": "float"
        }
       ],
       "ref": "4918aa6c-7a97-494a-8466-066165c56397",
       "rows": [
        [
         "0",
         "1.0"
        ],
        [
         "1",
         "2.0"
        ],
        [
         "2",
         "3.0"
        ],
        [
         "3",
         "4.0"
        ],
        [
         "4",
         "5.0"
        ]
       ],
       "shape": {
        "columns": 1,
        "rows": 5
       }
      },
      "text/plain": [
       "0    1.0\n",
       "1    2.0\n",
       "2    3.0\n",
       "3    4.0\n",
       "4    5.0\n",
       "dtype: float64"
      ]
     },
     "execution_count": 48,
     "metadata": {},
     "output_type": "execute_result"
    }
   ],
   "source": [
    "# Apply function element-wise\n",
    "nums.apply(lambda x: x**0.5)"
   ]
  },
  {
   "cell_type": "code",
   "execution_count": 50,
   "id": "ee33d5fb",
   "metadata": {},
   "outputs": [
    {
     "data": {
      "application/vnd.microsoft.datawrangler.viewer.v0+json": {
       "columns": [
        {
         "name": "index",
         "rawType": "int64",
         "type": "integer"
        },
        {
         "name": "0",
         "rawType": "object",
         "type": "string"
        }
       ],
       "ref": "8b74efab-715b-4698-9634-3eb936ebebef",
       "rows": [
        [
         "0",
         "small"
        ],
        [
         "1",
         "small"
        ],
        [
         "2",
         "small"
        ],
        [
         "3",
         "medium"
        ],
        [
         "4",
         "large"
        ]
       ],
       "shape": {
        "columns": 1,
        "rows": 5
       }
      },
      "text/plain": [
       "0     small\n",
       "1     small\n",
       "2     small\n",
       "3    medium\n",
       "4     large\n",
       "dtype: object"
      ]
     },
     "execution_count": 50,
     "metadata": {},
     "output_type": "execute_result"
    }
   ],
   "source": [
    "# Apply custom function\n",
    "def categorize(x):\n",
    "    \"\"\"Categorize numbers into size groups.\"\"\"\n",
    "    if x < 10:\n",
    "        return \"small\"\n",
    "    elif x < 20:\n",
    "        return \"medium\"\n",
    "    else:\n",
    "        return \"large\"\n",
    "\n",
    "nums.apply(categorize)"
   ]
  },
  {
   "cell_type": "markdown",
   "id": "816d62bb",
   "metadata": {},
   "source": [
    "## Recode Values"
   ]
  },
  {
   "cell_type": "code",
   "execution_count": 53,
   "id": "b05fd49e",
   "metadata": {},
   "outputs": [
    {
     "data": {
      "application/vnd.microsoft.datawrangler.viewer.v0+json": {
       "columns": [
        {
         "name": "index",
         "rawType": "int64",
         "type": "integer"
        },
        {
         "name": "0",
         "rawType": "object",
         "type": "unknown"
        }
       ],
       "ref": "8facf750-7353-49b3-8e07-5498fc7c7c92",
       "rows": [
        [
         "0",
         "one"
        ],
        [
         "1",
         "four"
        ],
        [
         "2",
         "nine"
        ],
        [
         "3",
         null
        ],
        [
         "4",
         null
        ]
       ],
       "shape": {
        "columns": 1,
        "rows": 5
       }
      },
      "text/plain": [
       "0     one\n",
       "1    four\n",
       "2    nine\n",
       "3     NaN\n",
       "4     NaN\n",
       "dtype: object"
      ]
     },
     "execution_count": 53,
     "metadata": {},
     "output_type": "execute_result"
    }
   ],
   "source": [
    "# Map values (like R's recode)\n",
    "mapping = {1: \"one\", 4: \"four\", 9: \"nine\"}\n",
    "nums.map(mapping)"
   ]
  },
  {
   "cell_type": "markdown",
   "id": "1f95b22a",
   "metadata": {},
   "source": [
    "## Series Alignment\n",
    "\n",
    "One powerful feature of pandas Series is automatic alignment by index:"
   ]
  },
  {
   "cell_type": "code",
   "execution_count": 54,
   "id": "2bdff16d",
   "metadata": {},
   "outputs": [
    {
     "name": "stdout",
     "output_type": "stream",
     "text": [
      "Series 1: a    10\n",
      "b    20\n",
      "c    30\n",
      "dtype: int64\n",
      "Series 2: b    1\n",
      "c    2\n",
      "d    3\n",
      "e    4\n",
      "dtype: int64\n"
     ]
    }
   ],
   "source": [
    "# Two series with different indices\n",
    "s1 = pd.Series([10, 20, 30], index=[\"a\", \"b\", \"c\"])\n",
    "s2 = pd.Series([1, 2, 3, 4], index=[\"b\", \"c\", \"d\", \"e\"])\n",
    "\n",
    "print(\"Series 1:\", s1)\n",
    "print(\"Series 2:\", s2)"
   ]
  },
  {
   "cell_type": "code",
   "execution_count": 55,
   "id": "a2fa34d1",
   "metadata": {},
   "outputs": [
    {
     "name": "stdout",
     "output_type": "stream",
     "text": [
      "Addition (aligned by index):\n"
     ]
    },
    {
     "data": {
      "application/vnd.microsoft.datawrangler.viewer.v0+json": {
       "columns": [
        {
         "name": "index",
         "rawType": "object",
         "type": "string"
        },
        {
         "name": "0",
         "rawType": "float64",
         "type": "float"
        }
       ],
       "ref": "a56ad69e-bad9-48d4-a563-6f2ca631550f",
       "rows": [
        [
         "a",
         null
        ],
        [
         "b",
         "21.0"
        ],
        [
         "c",
         "32.0"
        ],
        [
         "d",
         null
        ],
        [
         "e",
         null
        ]
       ],
       "shape": {
        "columns": 1,
        "rows": 5
       }
      },
      "text/plain": [
       "a     NaN\n",
       "b    21.0\n",
       "c    32.0\n",
       "d     NaN\n",
       "e     NaN\n",
       "dtype: float64"
      ]
     },
     "execution_count": 55,
     "metadata": {},
     "output_type": "execute_result"
    }
   ],
   "source": [
    "# Operations align by index automatically\n",
    "print(\"Addition (aligned by index):\")\n",
    "s1 + s2 # NaN where indices don't match\n",
    "\n",
    "# R doesn't do this automatically - you'd need to align manually"
   ]
  },
  {
   "cell_type": "markdown",
   "id": "b37bd08a",
   "metadata": {},
   "source": [
    "## Converting to Other Types\n",
    "\n",
    "Series can be easily converted to other Python/pandas data types:"
   ]
  },
  {
   "cell_type": "code",
   "execution_count": 56,
   "id": "2caad797",
   "metadata": {},
   "outputs": [],
   "source": [
    "# Sample series\n",
    "s = pd.Series([10, 20, 30], index=[\"x\", \"y\", \"z\"])"
   ]
  },
  {
   "cell_type": "code",
   "execution_count": 57,
   "id": "f6f922a0",
   "metadata": {},
   "outputs": [
    {
     "name": "stdout",
     "output_type": "stream",
     "text": [
      "To list: [10, 20, 30]\n"
     ]
    }
   ],
   "source": [
    "# To list (like R's as.vector())\n",
    "print(\"To list:\", s.tolist())           # R: as.vector(s)"
   ]
  },
  {
   "cell_type": "code",
   "execution_count": 58,
   "id": "f17d8a66",
   "metadata": {},
   "outputs": [
    {
     "name": "stdout",
     "output_type": "stream",
     "text": [
      "To array: [10 20 30]\n"
     ]
    }
   ],
   "source": [
    "# To NumPy array\n",
    "print(\"To array:\", s.values)            # R: as.numeric(s)"
   ]
  },
  {
   "cell_type": "code",
   "execution_count": 59,
   "id": "7ef07da9",
   "metadata": {},
   "outputs": [
    {
     "name": "stdout",
     "output_type": "stream",
     "text": [
      "To dict: {'x': 10, 'y': 20, 'z': 30}\n"
     ]
    }
   ],
   "source": [
    "# To dictionary\n",
    "print(\"To dict:\", s.to_dict())          # R: setNames(as.list(s), names(s))"
   ]
  },
  {
   "cell_type": "code",
   "execution_count": 60,
   "id": "1ac854e0",
   "metadata": {},
   "outputs": [
    {
     "name": "stdout",
     "output_type": "stream",
     "text": [
      "To DataFrame:\n",
      "   values\n",
      "x      10\n",
      "y      20\n",
      "z      30\n"
     ]
    }
   ],
   "source": [
    "# To DataFrame\n",
    "print(\"To DataFrame:\")\n",
    "print(s.to_frame(name=\"values\"))        # R: data.frame(values = s)"
   ]
  },
  {
   "cell_type": "markdown",
   "id": "7a880679",
   "metadata": {},
   "source": [
    "## Practical Tips\n",
    "\n",
    "1. **Index awareness**: Always be mindful of the index - it's what makes Series more powerful than R vectors but can also cause unexpected behavior.\n",
    "\n",
    "2. **Method chaining**: Unlike R, pandas encourages method chaining for elegant workflows:"
   ]
  },
  {
   "cell_type": "code",
   "execution_count": 61,
   "id": "3e0850fe",
   "metadata": {},
   "outputs": [
    {
     "name": "stdout",
     "output_type": "stream",
     "text": [
      "Chained operations result:\n",
      "Wed    68.0\n",
      "Sun    70.0\n",
      "Tue    72.0\n",
      "dtype: float64\n"
     ]
    }
   ],
   "source": [
    "# Example of method chaining (tidy-style workflow)\n",
    "result = (temps\n",
    "          .where(temps > 65)      # Filter like dplyr::filter()\n",
    "          .dropna()               # Remove missing values\n",
    "          .sort_values()          # Sort like dplyr::arrange()\n",
    "          .head(3))               # Take top 3 like dplyr::slice_head()\n",
    "\n",
    "print(\"Chained operations result:\")\n",
    "print(result)"
   ]
  },
  {
   "cell_type": "markdown",
   "id": "8de03367",
   "metadata": {},
   "source": [
    "3. **Copy vs view**: Some operations return views (references) rather than copies. Use `.copy()` when you need a true copy.\n",
    "\n",
    "4. **Performance**: For large numeric operations, Series are much faster than Python lists but may be slower than R vectors for some operations.\n",
    "\n",
    "The Series is your workhorse in pandas - master it, and DataFrames become much easier to understand since they're just collections of Series with shared indices."
   ]
  }
 ],
 "metadata": {
  "kernelspec": {
   "display_name": "ds-env",
   "language": "python",
   "name": "python3"
  },
  "language_info": {
   "codemirror_mode": {
    "name": "ipython",
    "version": 3
   },
   "file_extension": ".py",
   "mimetype": "text/x-python",
   "name": "python",
   "nbconvert_exporter": "python",
   "pygments_lexer": "ipython3",
   "version": "3.12.9"
  }
 },
 "nbformat": 4,
 "nbformat_minor": 5
}
