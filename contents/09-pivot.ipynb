{
 "cells": [
  {
   "cell_type": "markdown",
   "id": "5d1275be",
   "metadata": {},
   "source": [
    "# Pivoting Data\n",
    "\n",
    "Reshaping data between wide and long formats is essential for different types of analyses and visualizations. While R's `tidyr::pivot_wider()` and `pivot_longer()` provide intuitive interfaces, pandas offers several methods for pivoting: `pivot()`, `pivot_table()`, `melt()`, and `stack()/unstack()`. This chapter will show you how to achieve tidyverse-style data reshaping in pandas."
   ]
  },
  {
   "cell_type": "markdown",
   "id": "8eccb6b2",
   "metadata": {},
   "source": [
    "## Best Practices Summary\n",
    "\n",
    "Quick reference for pivoting patterns:\n",
    "\n",
    "| Task | R (tidyr) | Pandas |\n",
    "|------|-----------|--------|\n",
    "| Wide to long | `pivot_longer(df, cols, names_to, values_to)` | `df.melt(id_vars, value_vars, var_name, value_name)` |\n",
    "| Long to wide | `pivot_wider(df, names_from, values_from)` | `df.pivot(index, columns, values)` |\n",
    "| With aggregation | `pivot_wider(..., values_fn = sum)` | `df.pivot_table(..., aggfunc='sum')` |\n",
    "| Multiple values | `pivot_wider(..., values_from = c(x, y))` | `df.pivot(..., values=['x', 'y'])` |\n",
    "| Fill missing | `pivot_wider(..., values_fill = 0)` | `df.pivot_table(..., fill_value=0)` |\n",
    "| Complex names | `pivot_longer(..., names_pattern = \"(.*)_(.*)\")` | Use `melt()` then `str.extract()` |"
   ]
  },
  {
   "cell_type": "markdown",
   "id": "0914c8ec",
   "metadata": {},
   "source": [
    "## Tips for Tidyverse Users\n",
    "\n",
    "1. **Use `melt()` for pivot_longer**: It's the most direct equivalent and very flexible.\n",
    "\n",
    "2. **Choose `pivot()` vs `pivot_table()`**: Use `pivot()` for simple reshaping, `pivot_table()` when you need aggregation.\n",
    "\n",
    "3. **Remember `reset_index()`**: After pivoting, often need to reset index to get regular columns.\n",
    "\n",
    "4. **Handle multi-level columns**: After pivoting multiple values, flatten column names for easier access.\n",
    "\n",
    "5. **Chain operations**: Pivoting works well in method chains:\n",
    "   ```python\n",
    "   (df\n",
    "    .melt(id_vars=['id'], var_name='metric', value_name='value')\n",
    "    .query('value > 0')\n",
    "    .pivot(index='id', columns='metric', values='value'))\n",
    "   ```\n",
    "\n",
    "Pivoting data in pandas offers multiple approaches for different scenarios. While the syntax differs from tidyr, the concepts are similar, and pandas often provides more control over the reshaping process, especially when dealing with complex data structures or when aggregation is needed."
   ]
  },
  {
   "cell_type": "markdown",
   "id": "b9530efe",
   "metadata": {},
   "source": [
    "## Wide to Long Format (Melt)\n",
    "\n",
    "Converting wide data to long format, similar to `pivot_longer()`:"
   ]
  },
  {
   "cell_type": "code",
   "execution_count": 1,
   "id": "50c1f9b8",
   "metadata": {},
   "outputs": [
    {
     "data": {
      "application/vnd.microsoft.datawrangler.viewer.v0+json": {
       "columns": [
        {
         "name": "index",
         "rawType": "int64",
         "type": "integer"
        },
        {
         "name": "name",
         "rawType": "object",
         "type": "string"
        },
        {
         "name": "age",
         "rawType": "int64",
         "type": "integer"
        },
        {
         "name": "jan_sales",
         "rawType": "int64",
         "type": "integer"
        },
        {
         "name": "feb_sales",
         "rawType": "int64",
         "type": "integer"
        },
        {
         "name": "mar_sales",
         "rawType": "int64",
         "type": "integer"
        }
       ],
       "ref": "0c564742-9d3d-4ee5-bc18-ca66d5a54204",
       "rows": [
        [
         "0",
         "Alice",
         "25",
         "100",
         "110",
         "120"
        ],
        [
         "1",
         "Bob",
         "30",
         "150",
         "140",
         "160"
        ],
        [
         "2",
         "Charlie",
         "35",
         "120",
         "130",
         "125"
        ]
       ],
       "shape": {
        "columns": 5,
        "rows": 3
       }
      },
      "text/html": [
       "<div>\n",
       "<style scoped>\n",
       "    .dataframe tbody tr th:only-of-type {\n",
       "        vertical-align: middle;\n",
       "    }\n",
       "\n",
       "    .dataframe tbody tr th {\n",
       "        vertical-align: top;\n",
       "    }\n",
       "\n",
       "    .dataframe thead th {\n",
       "        text-align: right;\n",
       "    }\n",
       "</style>\n",
       "<table border=\"1\" class=\"dataframe\">\n",
       "  <thead>\n",
       "    <tr style=\"text-align: right;\">\n",
       "      <th></th>\n",
       "      <th>name</th>\n",
       "      <th>age</th>\n",
       "      <th>jan_sales</th>\n",
       "      <th>feb_sales</th>\n",
       "      <th>mar_sales</th>\n",
       "    </tr>\n",
       "  </thead>\n",
       "  <tbody>\n",
       "    <tr>\n",
       "      <th>0</th>\n",
       "      <td>Alice</td>\n",
       "      <td>25</td>\n",
       "      <td>100</td>\n",
       "      <td>110</td>\n",
       "      <td>120</td>\n",
       "    </tr>\n",
       "    <tr>\n",
       "      <th>1</th>\n",
       "      <td>Bob</td>\n",
       "      <td>30</td>\n",
       "      <td>150</td>\n",
       "      <td>140</td>\n",
       "      <td>160</td>\n",
       "    </tr>\n",
       "    <tr>\n",
       "      <th>2</th>\n",
       "      <td>Charlie</td>\n",
       "      <td>35</td>\n",
       "      <td>120</td>\n",
       "      <td>130</td>\n",
       "      <td>125</td>\n",
       "    </tr>\n",
       "  </tbody>\n",
       "</table>\n",
       "</div>"
      ],
      "text/plain": [
       "      name  age  jan_sales  feb_sales  mar_sales\n",
       "0    Alice   25        100        110        120\n",
       "1      Bob   30        150        140        160\n",
       "2  Charlie   35        120        130        125"
      ]
     },
     "execution_count": 1,
     "metadata": {},
     "output_type": "execute_result"
    }
   ],
   "source": [
    "import pandas as pd\n",
    "import numpy as np\n",
    "\n",
    "# Create wide format data\n",
    "df_wide = pd.DataFrame({\n",
    "    'name': ['Alice', 'Bob', 'Charlie'],\n",
    "    'age': [25, 30, 35],\n",
    "    'jan_sales': [100, 150, 120],\n",
    "    'feb_sales': [110, 140, 130],\n",
    "    'mar_sales': [120, 160, 125]\n",
    "})\n",
    "df_wide"
   ]
  },
  {
   "cell_type": "code",
   "execution_count": 2,
   "id": "3d2e3c11",
   "metadata": {},
   "outputs": [
    {
     "data": {
      "application/vnd.microsoft.datawrangler.viewer.v0+json": {
       "columns": [
        {
         "name": "index",
         "rawType": "int64",
         "type": "integer"
        },
        {
         "name": "name",
         "rawType": "object",
         "type": "string"
        },
        {
         "name": "age",
         "rawType": "int64",
         "type": "integer"
        },
        {
         "name": "month",
         "rawType": "object",
         "type": "string"
        },
        {
         "name": "sales",
         "rawType": "int64",
         "type": "integer"
        }
       ],
       "ref": "114d94be-2db2-4982-a7f4-215859788032",
       "rows": [
        [
         "0",
         "Alice",
         "25",
         "jan_sales",
         "100"
        ],
        [
         "1",
         "Bob",
         "30",
         "jan_sales",
         "150"
        ],
        [
         "2",
         "Charlie",
         "35",
         "jan_sales",
         "120"
        ],
        [
         "3",
         "Alice",
         "25",
         "feb_sales",
         "110"
        ],
        [
         "4",
         "Bob",
         "30",
         "feb_sales",
         "140"
        ],
        [
         "5",
         "Charlie",
         "35",
         "feb_sales",
         "130"
        ],
        [
         "6",
         "Alice",
         "25",
         "mar_sales",
         "120"
        ],
        [
         "7",
         "Bob",
         "30",
         "mar_sales",
         "160"
        ],
        [
         "8",
         "Charlie",
         "35",
         "mar_sales",
         "125"
        ]
       ],
       "shape": {
        "columns": 4,
        "rows": 9
       }
      },
      "text/html": [
       "<div>\n",
       "<style scoped>\n",
       "    .dataframe tbody tr th:only-of-type {\n",
       "        vertical-align: middle;\n",
       "    }\n",
       "\n",
       "    .dataframe tbody tr th {\n",
       "        vertical-align: top;\n",
       "    }\n",
       "\n",
       "    .dataframe thead th {\n",
       "        text-align: right;\n",
       "    }\n",
       "</style>\n",
       "<table border=\"1\" class=\"dataframe\">\n",
       "  <thead>\n",
       "    <tr style=\"text-align: right;\">\n",
       "      <th></th>\n",
       "      <th>name</th>\n",
       "      <th>age</th>\n",
       "      <th>month</th>\n",
       "      <th>sales</th>\n",
       "    </tr>\n",
       "  </thead>\n",
       "  <tbody>\n",
       "    <tr>\n",
       "      <th>0</th>\n",
       "      <td>Alice</td>\n",
       "      <td>25</td>\n",
       "      <td>jan_sales</td>\n",
       "      <td>100</td>\n",
       "    </tr>\n",
       "    <tr>\n",
       "      <th>1</th>\n",
       "      <td>Bob</td>\n",
       "      <td>30</td>\n",
       "      <td>jan_sales</td>\n",
       "      <td>150</td>\n",
       "    </tr>\n",
       "    <tr>\n",
       "      <th>2</th>\n",
       "      <td>Charlie</td>\n",
       "      <td>35</td>\n",
       "      <td>jan_sales</td>\n",
       "      <td>120</td>\n",
       "    </tr>\n",
       "    <tr>\n",
       "      <th>3</th>\n",
       "      <td>Alice</td>\n",
       "      <td>25</td>\n",
       "      <td>feb_sales</td>\n",
       "      <td>110</td>\n",
       "    </tr>\n",
       "    <tr>\n",
       "      <th>4</th>\n",
       "      <td>Bob</td>\n",
       "      <td>30</td>\n",
       "      <td>feb_sales</td>\n",
       "      <td>140</td>\n",
       "    </tr>\n",
       "    <tr>\n",
       "      <th>5</th>\n",
       "      <td>Charlie</td>\n",
       "      <td>35</td>\n",
       "      <td>feb_sales</td>\n",
       "      <td>130</td>\n",
       "    </tr>\n",
       "    <tr>\n",
       "      <th>6</th>\n",
       "      <td>Alice</td>\n",
       "      <td>25</td>\n",
       "      <td>mar_sales</td>\n",
       "      <td>120</td>\n",
       "    </tr>\n",
       "    <tr>\n",
       "      <th>7</th>\n",
       "      <td>Bob</td>\n",
       "      <td>30</td>\n",
       "      <td>mar_sales</td>\n",
       "      <td>160</td>\n",
       "    </tr>\n",
       "    <tr>\n",
       "      <th>8</th>\n",
       "      <td>Charlie</td>\n",
       "      <td>35</td>\n",
       "      <td>mar_sales</td>\n",
       "      <td>125</td>\n",
       "    </tr>\n",
       "  </tbody>\n",
       "</table>\n",
       "</div>"
      ],
      "text/plain": [
       "      name  age      month  sales\n",
       "0    Alice   25  jan_sales    100\n",
       "1      Bob   30  jan_sales    150\n",
       "2  Charlie   35  jan_sales    120\n",
       "3    Alice   25  feb_sales    110\n",
       "4      Bob   30  feb_sales    140\n",
       "5  Charlie   35  feb_sales    130\n",
       "6    Alice   25  mar_sales    120\n",
       "7      Bob   30  mar_sales    160\n",
       "8  Charlie   35  mar_sales    125"
      ]
     },
     "execution_count": 2,
     "metadata": {},
     "output_type": "execute_result"
    }
   ],
   "source": [
    "# Basic melt - pivot_longer equivalent\n",
    "# R: pivot_longer(df, cols = jan_sales:mar_sales, names_to = \"month\", values_to = \"sales\")\n",
    "df_long = df_wide.melt(\n",
    "    id_vars=['name', 'age'],\n",
    "    value_vars=['jan_sales', 'feb_sales', 'mar_sales'],\n",
    "    var_name='month',\n",
    "    value_name='sales'\n",
    ")\n",
    "df_long"
   ]
  },
  {
   "cell_type": "code",
   "execution_count": 3,
   "id": "be4abe7f",
   "metadata": {},
   "outputs": [
    {
     "data": {
      "application/vnd.microsoft.datawrangler.viewer.v0+json": {
       "columns": [
        {
         "name": "index",
         "rawType": "int64",
         "type": "integer"
        },
        {
         "name": "name",
         "rawType": "object",
         "type": "string"
        },
        {
         "name": "age",
         "rawType": "int64",
         "type": "integer"
        },
        {
         "name": "month",
         "rawType": "object",
         "type": "string"
        },
        {
         "name": "sales",
         "rawType": "int64",
         "type": "integer"
        }
       ],
       "ref": "a55a6be6-cfd1-4eca-b4f2-c07cbc17c28c",
       "rows": [
        [
         "0",
         "Alice",
         "25",
         "jan",
         "100"
        ],
        [
         "1",
         "Bob",
         "30",
         "jan",
         "150"
        ],
        [
         "2",
         "Charlie",
         "35",
         "jan",
         "120"
        ],
        [
         "3",
         "Alice",
         "25",
         "feb",
         "110"
        ],
        [
         "4",
         "Bob",
         "30",
         "feb",
         "140"
        ],
        [
         "5",
         "Charlie",
         "35",
         "feb",
         "130"
        ],
        [
         "6",
         "Alice",
         "25",
         "mar",
         "120"
        ],
        [
         "7",
         "Bob",
         "30",
         "mar",
         "160"
        ],
        [
         "8",
         "Charlie",
         "35",
         "mar",
         "125"
        ]
       ],
       "shape": {
        "columns": 4,
        "rows": 9
       }
      },
      "text/html": [
       "<div>\n",
       "<style scoped>\n",
       "    .dataframe tbody tr th:only-of-type {\n",
       "        vertical-align: middle;\n",
       "    }\n",
       "\n",
       "    .dataframe tbody tr th {\n",
       "        vertical-align: top;\n",
       "    }\n",
       "\n",
       "    .dataframe thead th {\n",
       "        text-align: right;\n",
       "    }\n",
       "</style>\n",
       "<table border=\"1\" class=\"dataframe\">\n",
       "  <thead>\n",
       "    <tr style=\"text-align: right;\">\n",
       "      <th></th>\n",
       "      <th>name</th>\n",
       "      <th>age</th>\n",
       "      <th>month</th>\n",
       "      <th>sales</th>\n",
       "    </tr>\n",
       "  </thead>\n",
       "  <tbody>\n",
       "    <tr>\n",
       "      <th>0</th>\n",
       "      <td>Alice</td>\n",
       "      <td>25</td>\n",
       "      <td>jan</td>\n",
       "      <td>100</td>\n",
       "    </tr>\n",
       "    <tr>\n",
       "      <th>1</th>\n",
       "      <td>Bob</td>\n",
       "      <td>30</td>\n",
       "      <td>jan</td>\n",
       "      <td>150</td>\n",
       "    </tr>\n",
       "    <tr>\n",
       "      <th>2</th>\n",
       "      <td>Charlie</td>\n",
       "      <td>35</td>\n",
       "      <td>jan</td>\n",
       "      <td>120</td>\n",
       "    </tr>\n",
       "    <tr>\n",
       "      <th>3</th>\n",
       "      <td>Alice</td>\n",
       "      <td>25</td>\n",
       "      <td>feb</td>\n",
       "      <td>110</td>\n",
       "    </tr>\n",
       "    <tr>\n",
       "      <th>4</th>\n",
       "      <td>Bob</td>\n",
       "      <td>30</td>\n",
       "      <td>feb</td>\n",
       "      <td>140</td>\n",
       "    </tr>\n",
       "    <tr>\n",
       "      <th>5</th>\n",
       "      <td>Charlie</td>\n",
       "      <td>35</td>\n",
       "      <td>feb</td>\n",
       "      <td>130</td>\n",
       "    </tr>\n",
       "    <tr>\n",
       "      <th>6</th>\n",
       "      <td>Alice</td>\n",
       "      <td>25</td>\n",
       "      <td>mar</td>\n",
       "      <td>120</td>\n",
       "    </tr>\n",
       "    <tr>\n",
       "      <th>7</th>\n",
       "      <td>Bob</td>\n",
       "      <td>30</td>\n",
       "      <td>mar</td>\n",
       "      <td>160</td>\n",
       "    </tr>\n",
       "    <tr>\n",
       "      <th>8</th>\n",
       "      <td>Charlie</td>\n",
       "      <td>35</td>\n",
       "      <td>mar</td>\n",
       "      <td>125</td>\n",
       "    </tr>\n",
       "  </tbody>\n",
       "</table>\n",
       "</div>"
      ],
      "text/plain": [
       "      name  age month  sales\n",
       "0    Alice   25   jan    100\n",
       "1      Bob   30   jan    150\n",
       "2  Charlie   35   jan    120\n",
       "3    Alice   25   feb    110\n",
       "4      Bob   30   feb    140\n",
       "5  Charlie   35   feb    130\n",
       "6    Alice   25   mar    120\n",
       "7      Bob   30   mar    160\n",
       "8  Charlie   35   mar    125"
      ]
     },
     "execution_count": 3,
     "metadata": {},
     "output_type": "execute_result"
    }
   ],
   "source": [
    "# Melt with pattern matching\n",
    "# R: pivot_longer(df, cols = ends_with(\"_sales\"), names_to = \"month\", values_to = \"sales\")\n",
    "sales_cols = df_wide.filter(like='_sales').columns\n",
    "df_long2 = df_wide.melt(\n",
    "    id_vars=['name', 'age'],\n",
    "    value_vars=sales_cols,\n",
    "    var_name='month',\n",
    "    value_name='sales'\n",
    ")\n",
    "\n",
    "# Clean up month names\n",
    "df_long2['month'] = df_long2['month'].str.replace('_sales', '')\n",
    "df_long2"
   ]
  },
  {
   "cell_type": "markdown",
   "id": "24bdbbe7",
   "metadata": {},
   "source": [
    "## Long to Wide Format (Pivot)\n",
    "\n",
    "Converting long data to wide format, similar to `pivot_wider()`:"
   ]
  },
  {
   "cell_type": "code",
   "execution_count": 4,
   "id": "efc37a0d",
   "metadata": {},
   "outputs": [
    {
     "data": {
      "application/vnd.microsoft.datawrangler.viewer.v0+json": {
       "columns": [
        {
         "name": "index",
         "rawType": "int64",
         "type": "integer"
        },
        {
         "name": "date",
         "rawType": "datetime64[ns]",
         "type": "datetime"
        },
        {
         "name": "store",
         "rawType": "object",
         "type": "string"
        },
        {
         "name": "metric",
         "rawType": "object",
         "type": "string"
        },
        {
         "name": "value",
         "rawType": "int64",
         "type": "integer"
        }
       ],
       "ref": "4e9da96c-5f7c-49ca-88c1-77c1d7ccf581",
       "rows": [
        [
         "0",
         "2024-01-01 00:00:00",
         "A",
         "sales",
         "1000"
        ],
        [
         "1",
         "2024-01-02 00:00:00",
         "A",
         "customers",
         "50"
        ],
        [
         "2",
         "2024-01-03 00:00:00",
         "A",
         "returns",
         "5"
        ],
        [
         "3",
         "2024-01-04 00:00:00",
         "B",
         "sales",
         "1200"
        ],
        [
         "4",
         "2024-01-05 00:00:00",
         "B",
         "customers",
         "60"
        ],
        [
         "5",
         "2024-01-06 00:00:00",
         "B",
         "returns",
         "8"
        ],
        [
         "6",
         "2024-01-07 00:00:00",
         "C",
         "sales",
         "900"
        ],
        [
         "7",
         "2024-01-08 00:00:00",
         "C",
         "customers",
         "45"
        ],
        [
         "8",
         "2024-01-09 00:00:00",
         "C",
         "returns",
         "3"
        ]
       ],
       "shape": {
        "columns": 4,
        "rows": 9
       }
      },
      "text/html": [
       "<div>\n",
       "<style scoped>\n",
       "    .dataframe tbody tr th:only-of-type {\n",
       "        vertical-align: middle;\n",
       "    }\n",
       "\n",
       "    .dataframe tbody tr th {\n",
       "        vertical-align: top;\n",
       "    }\n",
       "\n",
       "    .dataframe thead th {\n",
       "        text-align: right;\n",
       "    }\n",
       "</style>\n",
       "<table border=\"1\" class=\"dataframe\">\n",
       "  <thead>\n",
       "    <tr style=\"text-align: right;\">\n",
       "      <th></th>\n",
       "      <th>date</th>\n",
       "      <th>store</th>\n",
       "      <th>metric</th>\n",
       "      <th>value</th>\n",
       "    </tr>\n",
       "  </thead>\n",
       "  <tbody>\n",
       "    <tr>\n",
       "      <th>0</th>\n",
       "      <td>2024-01-01</td>\n",
       "      <td>A</td>\n",
       "      <td>sales</td>\n",
       "      <td>1000</td>\n",
       "    </tr>\n",
       "    <tr>\n",
       "      <th>1</th>\n",
       "      <td>2024-01-02</td>\n",
       "      <td>A</td>\n",
       "      <td>customers</td>\n",
       "      <td>50</td>\n",
       "    </tr>\n",
       "    <tr>\n",
       "      <th>2</th>\n",
       "      <td>2024-01-03</td>\n",
       "      <td>A</td>\n",
       "      <td>returns</td>\n",
       "      <td>5</td>\n",
       "    </tr>\n",
       "    <tr>\n",
       "      <th>3</th>\n",
       "      <td>2024-01-04</td>\n",
       "      <td>B</td>\n",
       "      <td>sales</td>\n",
       "      <td>1200</td>\n",
       "    </tr>\n",
       "    <tr>\n",
       "      <th>4</th>\n",
       "      <td>2024-01-05</td>\n",
       "      <td>B</td>\n",
       "      <td>customers</td>\n",
       "      <td>60</td>\n",
       "    </tr>\n",
       "    <tr>\n",
       "      <th>5</th>\n",
       "      <td>2024-01-06</td>\n",
       "      <td>B</td>\n",
       "      <td>returns</td>\n",
       "      <td>8</td>\n",
       "    </tr>\n",
       "    <tr>\n",
       "      <th>6</th>\n",
       "      <td>2024-01-07</td>\n",
       "      <td>C</td>\n",
       "      <td>sales</td>\n",
       "      <td>900</td>\n",
       "    </tr>\n",
       "    <tr>\n",
       "      <th>7</th>\n",
       "      <td>2024-01-08</td>\n",
       "      <td>C</td>\n",
       "      <td>customers</td>\n",
       "      <td>45</td>\n",
       "    </tr>\n",
       "    <tr>\n",
       "      <th>8</th>\n",
       "      <td>2024-01-09</td>\n",
       "      <td>C</td>\n",
       "      <td>returns</td>\n",
       "      <td>3</td>\n",
       "    </tr>\n",
       "  </tbody>\n",
       "</table>\n",
       "</div>"
      ],
      "text/plain": [
       "        date store     metric  value\n",
       "0 2024-01-01     A      sales   1000\n",
       "1 2024-01-02     A  customers     50\n",
       "2 2024-01-03     A    returns      5\n",
       "3 2024-01-04     B      sales   1200\n",
       "4 2024-01-05     B  customers     60\n",
       "5 2024-01-06     B    returns      8\n",
       "6 2024-01-07     C      sales    900\n",
       "7 2024-01-08     C  customers     45\n",
       "8 2024-01-09     C    returns      3"
      ]
     },
     "execution_count": 4,
     "metadata": {},
     "output_type": "execute_result"
    }
   ],
   "source": [
    "# Create long format data\n",
    "df_long = pd.DataFrame({\n",
    "    'date': pd.date_range('2024-01-01', periods=9),\n",
    "    'store': ['A', 'A', 'A', 'B', 'B', 'B', 'C', 'C', 'C'],\n",
    "    'metric': ['sales', 'customers', 'returns'] * 3,\n",
    "    'value': [1000, 50, 5, 1200, 60, 8, 900, 45, 3]\n",
    "})\n",
    "df_long"
   ]
  },
  {
   "cell_type": "code",
   "execution_count": 5,
   "id": "862532b7",
   "metadata": {},
   "outputs": [
    {
     "data": {
      "application/vnd.microsoft.datawrangler.viewer.v0+json": {
       "columns": [
        {
         "name": "index",
         "rawType": "int64",
         "type": "integer"
        },
        {
         "name": "date",
         "rawType": "datetime64[ns]",
         "type": "datetime"
        },
        {
         "name": "store",
         "rawType": "object",
         "type": "string"
        },
        {
         "name": "customers",
         "rawType": "float64",
         "type": "float"
        },
        {
         "name": "returns",
         "rawType": "float64",
         "type": "float"
        },
        {
         "name": "sales",
         "rawType": "float64",
         "type": "float"
        }
       ],
       "ref": "f39a3a7f-a127-4948-af56-401737f15a1e",
       "rows": [
        [
         "0",
         "2024-01-01 00:00:00",
         "A",
         null,
         null,
         "1000.0"
        ],
        [
         "1",
         "2024-01-02 00:00:00",
         "A",
         "50.0",
         null,
         null
        ],
        [
         "2",
         "2024-01-03 00:00:00",
         "A",
         null,
         "5.0",
         null
        ],
        [
         "3",
         "2024-01-04 00:00:00",
         "B",
         null,
         null,
         "1200.0"
        ],
        [
         "4",
         "2024-01-05 00:00:00",
         "B",
         "60.0",
         null,
         null
        ],
        [
         "5",
         "2024-01-06 00:00:00",
         "B",
         null,
         "8.0",
         null
        ],
        [
         "6",
         "2024-01-07 00:00:00",
         "C",
         null,
         null,
         "900.0"
        ],
        [
         "7",
         "2024-01-08 00:00:00",
         "C",
         "45.0",
         null,
         null
        ],
        [
         "8",
         "2024-01-09 00:00:00",
         "C",
         null,
         "3.0",
         null
        ]
       ],
       "shape": {
        "columns": 5,
        "rows": 9
       }
      },
      "text/html": [
       "<div>\n",
       "<style scoped>\n",
       "    .dataframe tbody tr th:only-of-type {\n",
       "        vertical-align: middle;\n",
       "    }\n",
       "\n",
       "    .dataframe tbody tr th {\n",
       "        vertical-align: top;\n",
       "    }\n",
       "\n",
       "    .dataframe thead th {\n",
       "        text-align: right;\n",
       "    }\n",
       "</style>\n",
       "<table border=\"1\" class=\"dataframe\">\n",
       "  <thead>\n",
       "    <tr style=\"text-align: right;\">\n",
       "      <th>metric</th>\n",
       "      <th>date</th>\n",
       "      <th>store</th>\n",
       "      <th>customers</th>\n",
       "      <th>returns</th>\n",
       "      <th>sales</th>\n",
       "    </tr>\n",
       "  </thead>\n",
       "  <tbody>\n",
       "    <tr>\n",
       "      <th>0</th>\n",
       "      <td>2024-01-01</td>\n",
       "      <td>A</td>\n",
       "      <td>NaN</td>\n",
       "      <td>NaN</td>\n",
       "      <td>1000.0</td>\n",
       "    </tr>\n",
       "    <tr>\n",
       "      <th>1</th>\n",
       "      <td>2024-01-02</td>\n",
       "      <td>A</td>\n",
       "      <td>50.0</td>\n",
       "      <td>NaN</td>\n",
       "      <td>NaN</td>\n",
       "    </tr>\n",
       "    <tr>\n",
       "      <th>2</th>\n",
       "      <td>2024-01-03</td>\n",
       "      <td>A</td>\n",
       "      <td>NaN</td>\n",
       "      <td>5.0</td>\n",
       "      <td>NaN</td>\n",
       "    </tr>\n",
       "    <tr>\n",
       "      <th>3</th>\n",
       "      <td>2024-01-04</td>\n",
       "      <td>B</td>\n",
       "      <td>NaN</td>\n",
       "      <td>NaN</td>\n",
       "      <td>1200.0</td>\n",
       "    </tr>\n",
       "    <tr>\n",
       "      <th>4</th>\n",
       "      <td>2024-01-05</td>\n",
       "      <td>B</td>\n",
       "      <td>60.0</td>\n",
       "      <td>NaN</td>\n",
       "      <td>NaN</td>\n",
       "    </tr>\n",
       "    <tr>\n",
       "      <th>5</th>\n",
       "      <td>2024-01-06</td>\n",
       "      <td>B</td>\n",
       "      <td>NaN</td>\n",
       "      <td>8.0</td>\n",
       "      <td>NaN</td>\n",
       "    </tr>\n",
       "    <tr>\n",
       "      <th>6</th>\n",
       "      <td>2024-01-07</td>\n",
       "      <td>C</td>\n",
       "      <td>NaN</td>\n",
       "      <td>NaN</td>\n",
       "      <td>900.0</td>\n",
       "    </tr>\n",
       "    <tr>\n",
       "      <th>7</th>\n",
       "      <td>2024-01-08</td>\n",
       "      <td>C</td>\n",
       "      <td>45.0</td>\n",
       "      <td>NaN</td>\n",
       "      <td>NaN</td>\n",
       "    </tr>\n",
       "    <tr>\n",
       "      <th>8</th>\n",
       "      <td>2024-01-09</td>\n",
       "      <td>C</td>\n",
       "      <td>NaN</td>\n",
       "      <td>3.0</td>\n",
       "      <td>NaN</td>\n",
       "    </tr>\n",
       "  </tbody>\n",
       "</table>\n",
       "</div>"
      ],
      "text/plain": [
       "metric       date store  customers  returns   sales\n",
       "0      2024-01-01     A        NaN      NaN  1000.0\n",
       "1      2024-01-02     A       50.0      NaN     NaN\n",
       "2      2024-01-03     A        NaN      5.0     NaN\n",
       "3      2024-01-04     B        NaN      NaN  1200.0\n",
       "4      2024-01-05     B       60.0      NaN     NaN\n",
       "5      2024-01-06     B        NaN      8.0     NaN\n",
       "6      2024-01-07     C        NaN      NaN   900.0\n",
       "7      2024-01-08     C       45.0      NaN     NaN\n",
       "8      2024-01-09     C        NaN      3.0     NaN"
      ]
     },
     "execution_count": 5,
     "metadata": {},
     "output_type": "execute_result"
    }
   ],
   "source": [
    "# Basic pivot - pivot_wider equivalent\n",
    "# R: pivot_wider(df, names_from = metric, values_from = value)\n",
    "df_wide = df_long.pivot(\n",
    "    index=['date', 'store'],\n",
    "    columns='metric',\n",
    "    values='value'\n",
    ").reset_index()\n",
    "df_wide"
   ]
  },
  {
   "cell_type": "code",
   "execution_count": 6,
   "id": "49facaa7",
   "metadata": {},
   "outputs": [
    {
     "data": {
      "application/vnd.microsoft.datawrangler.viewer.v0+json": {
       "columns": [
        {
         "name": "('product', 'region')",
         "rawType": "object",
         "type": "unknown"
        },
        {
         "name": "('revenue', 'Q1')",
         "rawType": "int64",
         "type": "integer"
        },
        {
         "name": "('revenue', 'Q2')",
         "rawType": "int64",
         "type": "integer"
        },
        {
         "name": "('units', 'Q1')",
         "rawType": "int64",
         "type": "integer"
        },
        {
         "name": "('units', 'Q2')",
         "rawType": "int64",
         "type": "integer"
        }
       ],
       "ref": "963fb33b-146f-475f-a7e6-3b2b8c5b5109",
       "rows": [
        [
         "('A', 'East')",
         "100",
         "120",
         "10",
         "12"
        ],
        [
         "('A', 'West')",
         "110",
         "130",
         "11",
         "13"
        ],
        [
         "('B', 'East')",
         "150",
         "160",
         "15",
         "16"
        ],
        [
         "('B', 'West')",
         "140",
         "170",
         "14",
         "17"
        ]
       ],
       "shape": {
        "columns": 4,
        "rows": 4
       }
      },
      "text/html": [
       "<div>\n",
       "<style scoped>\n",
       "    .dataframe tbody tr th:only-of-type {\n",
       "        vertical-align: middle;\n",
       "    }\n",
       "\n",
       "    .dataframe tbody tr th {\n",
       "        vertical-align: top;\n",
       "    }\n",
       "\n",
       "    .dataframe thead tr th {\n",
       "        text-align: left;\n",
       "    }\n",
       "\n",
       "    .dataframe thead tr:last-of-type th {\n",
       "        text-align: right;\n",
       "    }\n",
       "</style>\n",
       "<table border=\"1\" class=\"dataframe\">\n",
       "  <thead>\n",
       "    <tr>\n",
       "      <th></th>\n",
       "      <th></th>\n",
       "      <th colspan=\"2\" halign=\"left\">revenue</th>\n",
       "      <th colspan=\"2\" halign=\"left\">units</th>\n",
       "    </tr>\n",
       "    <tr>\n",
       "      <th></th>\n",
       "      <th>quarter</th>\n",
       "      <th>Q1</th>\n",
       "      <th>Q2</th>\n",
       "      <th>Q1</th>\n",
       "      <th>Q2</th>\n",
       "    </tr>\n",
       "    <tr>\n",
       "      <th>product</th>\n",
       "      <th>region</th>\n",
       "      <th></th>\n",
       "      <th></th>\n",
       "      <th></th>\n",
       "      <th></th>\n",
       "    </tr>\n",
       "  </thead>\n",
       "  <tbody>\n",
       "    <tr>\n",
       "      <th rowspan=\"2\" valign=\"top\">A</th>\n",
       "      <th>East</th>\n",
       "      <td>100</td>\n",
       "      <td>120</td>\n",
       "      <td>10</td>\n",
       "      <td>12</td>\n",
       "    </tr>\n",
       "    <tr>\n",
       "      <th>West</th>\n",
       "      <td>110</td>\n",
       "      <td>130</td>\n",
       "      <td>11</td>\n",
       "      <td>13</td>\n",
       "    </tr>\n",
       "    <tr>\n",
       "      <th rowspan=\"2\" valign=\"top\">B</th>\n",
       "      <th>East</th>\n",
       "      <td>150</td>\n",
       "      <td>160</td>\n",
       "      <td>15</td>\n",
       "      <td>16</td>\n",
       "    </tr>\n",
       "    <tr>\n",
       "      <th>West</th>\n",
       "      <td>140</td>\n",
       "      <td>170</td>\n",
       "      <td>14</td>\n",
       "      <td>17</td>\n",
       "    </tr>\n",
       "  </tbody>\n",
       "</table>\n",
       "</div>"
      ],
      "text/plain": [
       "               revenue      units    \n",
       "quarter             Q1   Q2    Q1  Q2\n",
       "product region                       \n",
       "A       East       100  120    10  12\n",
       "        West       110  130    11  13\n",
       "B       East       150  160    15  16\n",
       "        West       140  170    14  17"
      ]
     },
     "execution_count": 6,
     "metadata": {},
     "output_type": "execute_result"
    }
   ],
   "source": [
    "# Handle multiple value columns\n",
    "df_multi = pd.DataFrame({\n",
    "    'product': ['A', 'A', 'B', 'B'] * 2,\n",
    "    'quarter': ['Q1', 'Q2', 'Q1', 'Q2'] * 2,\n",
    "    'region': ['East', 'East', 'East', 'East', 'West', 'West', 'West', 'West'],\n",
    "    'revenue': [100, 120, 150, 160, 110, 130, 140, 170],\n",
    "    'units': [10, 12, 15, 16, 11, 13, 14, 17]\n",
    "})\n",
    "\n",
    "# Pivot with multiple values\n",
    "# R: pivot_wider(df, names_from = quarter, values_from = c(revenue, units))\n",
    "df_wide_multi = df_multi.pivot(\n",
    "    index=['product', 'region'],\n",
    "    columns='quarter',\n",
    "    values=['revenue', 'units']\n",
    ")\n",
    "df_wide_multi"
   ]
  },
  {
   "cell_type": "markdown",
   "id": "b0cb26b0",
   "metadata": {},
   "source": [
    "## Pivot Table for Aggregation\n",
    "\n",
    "When you need to aggregate during pivoting:"
   ]
  },
  {
   "cell_type": "code",
   "execution_count": 7,
   "id": "5497d45d",
   "metadata": {},
   "outputs": [
    {
     "data": {
      "application/vnd.microsoft.datawrangler.viewer.v0+json": {
       "columns": [
        {
         "name": "region",
         "rawType": "object",
         "type": "string"
        },
        {
         "name": "A",
         "rawType": "int64",
         "type": "integer"
        },
        {
         "name": "B",
         "rawType": "int64",
         "type": "integer"
        },
        {
         "name": "C",
         "rawType": "int64",
         "type": "integer"
        }
       ],
       "ref": "acebe0eb-9ba3-41b7-b905-ceafcfd6da19",
       "rows": [
        [
         "North",
         "307",
         "324",
         "484"
        ],
        [
         "South",
         "1049",
         "169",
         "148"
        ]
       ],
       "shape": {
        "columns": 3,
        "rows": 2
       }
      },
      "text/html": [
       "<div>\n",
       "<style scoped>\n",
       "    .dataframe tbody tr th:only-of-type {\n",
       "        vertical-align: middle;\n",
       "    }\n",
       "\n",
       "    .dataframe tbody tr th {\n",
       "        vertical-align: top;\n",
       "    }\n",
       "\n",
       "    .dataframe thead th {\n",
       "        text-align: right;\n",
       "    }\n",
       "</style>\n",
       "<table border=\"1\" class=\"dataframe\">\n",
       "  <thead>\n",
       "    <tr style=\"text-align: right;\">\n",
       "      <th>product</th>\n",
       "      <th>A</th>\n",
       "      <th>B</th>\n",
       "      <th>C</th>\n",
       "    </tr>\n",
       "    <tr>\n",
       "      <th>region</th>\n",
       "      <th></th>\n",
       "      <th></th>\n",
       "      <th></th>\n",
       "    </tr>\n",
       "  </thead>\n",
       "  <tbody>\n",
       "    <tr>\n",
       "      <th>North</th>\n",
       "      <td>307</td>\n",
       "      <td>324</td>\n",
       "      <td>484</td>\n",
       "    </tr>\n",
       "    <tr>\n",
       "      <th>South</th>\n",
       "      <td>1049</td>\n",
       "      <td>169</td>\n",
       "      <td>148</td>\n",
       "    </tr>\n",
       "  </tbody>\n",
       "</table>\n",
       "</div>"
      ],
      "text/plain": [
       "product     A    B    C\n",
       "region                 \n",
       "North     307  324  484\n",
       "South    1049  169  148"
      ]
     },
     "execution_count": 7,
     "metadata": {},
     "output_type": "execute_result"
    }
   ],
   "source": [
    "# Create data with duplicates\n",
    "df_sales = pd.DataFrame({\n",
    "    'date': pd.date_range('2024-01-01', periods=20),\n",
    "    'product': np.random.choice(['A', 'B', 'C'], 20),\n",
    "    'region': np.random.choice(['North', 'South'], 20),\n",
    "    'sales': np.random.randint(50, 200, 20),\n",
    "    'quantity': np.random.randint(1, 10, 20)\n",
    "})\n",
    "\n",
    "# Pivot table with aggregation\n",
    "# R: df %>% \n",
    "#     pivot_wider(names_from = product, values_from = sales, values_fn = sum)\n",
    "pivot_result = df_sales.pivot_table(\n",
    "    index='region',\n",
    "    columns='product',\n",
    "    values='sales',\n",
    "    aggfunc='sum',\n",
    "    fill_value=0\n",
    ")\n",
    "pivot_result"
   ]
  },
  {
   "cell_type": "code",
   "execution_count": 8,
   "id": "be6856f0",
   "metadata": {},
   "outputs": [
    {
     "data": {
      "application/vnd.microsoft.datawrangler.viewer.v0+json": {
       "columns": [
        {
         "name": "region",
         "rawType": "object",
         "type": "string"
        },
        {
         "name": "('quantity', 'A')",
         "rawType": "float64",
         "type": "float"
        },
        {
         "name": "('quantity', 'B')",
         "rawType": "float64",
         "type": "float"
        },
        {
         "name": "('quantity', 'C')",
         "rawType": "float64",
         "type": "float"
        },
        {
         "name": "('sales', 'A')",
         "rawType": "int64",
         "type": "integer"
        },
        {
         "name": "('sales', 'B')",
         "rawType": "int64",
         "type": "integer"
        },
        {
         "name": "('sales', 'C')",
         "rawType": "int64",
         "type": "integer"
        }
       ],
       "ref": "c2a08a5f-1023-4f1d-99c1-96647bad1268",
       "rows": [
        [
         "North",
         "6.0",
         "4.0",
         "6.6",
         "307",
         "324",
         "484"
        ],
        [
         "South",
         "3.3",
         "5.0",
         "3.0",
         "1049",
         "169",
         "148"
        ]
       ],
       "shape": {
        "columns": 6,
        "rows": 2
       }
      },
      "text/html": [
       "<div>\n",
       "<style scoped>\n",
       "    .dataframe tbody tr th:only-of-type {\n",
       "        vertical-align: middle;\n",
       "    }\n",
       "\n",
       "    .dataframe tbody tr th {\n",
       "        vertical-align: top;\n",
       "    }\n",
       "\n",
       "    .dataframe thead tr th {\n",
       "        text-align: left;\n",
       "    }\n",
       "\n",
       "    .dataframe thead tr:last-of-type th {\n",
       "        text-align: right;\n",
       "    }\n",
       "</style>\n",
       "<table border=\"1\" class=\"dataframe\">\n",
       "  <thead>\n",
       "    <tr>\n",
       "      <th></th>\n",
       "      <th colspan=\"3\" halign=\"left\">quantity</th>\n",
       "      <th colspan=\"3\" halign=\"left\">sales</th>\n",
       "    </tr>\n",
       "    <tr>\n",
       "      <th>product</th>\n",
       "      <th>A</th>\n",
       "      <th>B</th>\n",
       "      <th>C</th>\n",
       "      <th>A</th>\n",
       "      <th>B</th>\n",
       "      <th>C</th>\n",
       "    </tr>\n",
       "    <tr>\n",
       "      <th>region</th>\n",
       "      <th></th>\n",
       "      <th></th>\n",
       "      <th></th>\n",
       "      <th></th>\n",
       "      <th></th>\n",
       "      <th></th>\n",
       "    </tr>\n",
       "  </thead>\n",
       "  <tbody>\n",
       "    <tr>\n",
       "      <th>North</th>\n",
       "      <td>6.0</td>\n",
       "      <td>4.0</td>\n",
       "      <td>6.6</td>\n",
       "      <td>307</td>\n",
       "      <td>324</td>\n",
       "      <td>484</td>\n",
       "    </tr>\n",
       "    <tr>\n",
       "      <th>South</th>\n",
       "      <td>3.3</td>\n",
       "      <td>5.0</td>\n",
       "      <td>3.0</td>\n",
       "      <td>1049</td>\n",
       "      <td>169</td>\n",
       "      <td>148</td>\n",
       "    </tr>\n",
       "  </tbody>\n",
       "</table>\n",
       "</div>"
      ],
      "text/plain": [
       "        quantity           sales          \n",
       "product        A    B    C     A    B    C\n",
       "region                                    \n",
       "North        6.0  4.0  6.6   307  324  484\n",
       "South        3.3  5.0  3.0  1049  169  148"
      ]
     },
     "execution_count": 8,
     "metadata": {},
     "output_type": "execute_result"
    }
   ],
   "source": [
    "# Multiple aggregations\n",
    "# R: df %>% \n",
    "#     pivot_wider(names_from = product, \n",
    "#                 values_from = c(sales, quantity),\n",
    "#                 values_fn = list(sales = sum, quantity = mean))\n",
    "pivot_multi_agg = df_sales.pivot_table(\n",
    "    index='region',\n",
    "    columns='product',\n",
    "    values=['sales', 'quantity'],\n",
    "    aggfunc={'sales': 'sum', 'quantity': 'mean'},\n",
    "    fill_value=0\n",
    ")\n",
    "pivot_multi_agg.round(1)"
   ]
  },
  {
   "cell_type": "markdown",
   "id": "4a08d207",
   "metadata": {},
   "source": [
    "## Complex Melting Patterns\n",
    "\n",
    "Advanced patterns for reshaping wide data:"
   ]
  },
  {
   "cell_type": "code",
   "execution_count": 9,
   "id": "ccfa05e0",
   "metadata": {},
   "outputs": [
    {
     "data": {
      "application/vnd.microsoft.datawrangler.viewer.v0+json": {
       "columns": [
        {
         "name": "index",
         "rawType": "int64",
         "type": "integer"
        },
        {
         "name": "id",
         "rawType": "int64",
         "type": "integer"
        },
        {
         "name": "name",
         "rawType": "object",
         "type": "string"
        },
        {
         "name": "test1_math",
         "rawType": "int64",
         "type": "integer"
        },
        {
         "name": "test1_english",
         "rawType": "int64",
         "type": "integer"
        },
        {
         "name": "test2_math",
         "rawType": "int64",
         "type": "integer"
        },
        {
         "name": "test2_english",
         "rawType": "int64",
         "type": "integer"
        },
        {
         "name": "final_math",
         "rawType": "int64",
         "type": "integer"
        },
        {
         "name": "final_english",
         "rawType": "int64",
         "type": "integer"
        }
       ],
       "ref": "9ea14a58-e4a3-4e5c-b854-115d8f7950e3",
       "rows": [
        [
         "0",
         "1",
         "Alice",
         "85",
         "88",
         "87",
         "90",
         "88",
         "89"
        ],
        [
         "1",
         "2",
         "Bob",
         "92",
         "85",
         "94",
         "87",
         "93",
         "86"
        ],
        [
         "2",
         "3",
         "Charlie",
         "78",
         "92",
         "80",
         "91",
         "82",
         "93"
        ]
       ],
       "shape": {
        "columns": 8,
        "rows": 3
       }
      },
      "text/html": [
       "<div>\n",
       "<style scoped>\n",
       "    .dataframe tbody tr th:only-of-type {\n",
       "        vertical-align: middle;\n",
       "    }\n",
       "\n",
       "    .dataframe tbody tr th {\n",
       "        vertical-align: top;\n",
       "    }\n",
       "\n",
       "    .dataframe thead th {\n",
       "        text-align: right;\n",
       "    }\n",
       "</style>\n",
       "<table border=\"1\" class=\"dataframe\">\n",
       "  <thead>\n",
       "    <tr style=\"text-align: right;\">\n",
       "      <th></th>\n",
       "      <th>id</th>\n",
       "      <th>name</th>\n",
       "      <th>test1_math</th>\n",
       "      <th>test1_english</th>\n",
       "      <th>test2_math</th>\n",
       "      <th>test2_english</th>\n",
       "      <th>final_math</th>\n",
       "      <th>final_english</th>\n",
       "    </tr>\n",
       "  </thead>\n",
       "  <tbody>\n",
       "    <tr>\n",
       "      <th>0</th>\n",
       "      <td>1</td>\n",
       "      <td>Alice</td>\n",
       "      <td>85</td>\n",
       "      <td>88</td>\n",
       "      <td>87</td>\n",
       "      <td>90</td>\n",
       "      <td>88</td>\n",
       "      <td>89</td>\n",
       "    </tr>\n",
       "    <tr>\n",
       "      <th>1</th>\n",
       "      <td>2</td>\n",
       "      <td>Bob</td>\n",
       "      <td>92</td>\n",
       "      <td>85</td>\n",
       "      <td>94</td>\n",
       "      <td>87</td>\n",
       "      <td>93</td>\n",
       "      <td>86</td>\n",
       "    </tr>\n",
       "    <tr>\n",
       "      <th>2</th>\n",
       "      <td>3</td>\n",
       "      <td>Charlie</td>\n",
       "      <td>78</td>\n",
       "      <td>92</td>\n",
       "      <td>80</td>\n",
       "      <td>91</td>\n",
       "      <td>82</td>\n",
       "      <td>93</td>\n",
       "    </tr>\n",
       "  </tbody>\n",
       "</table>\n",
       "</div>"
      ],
      "text/plain": [
       "   id     name  test1_math  test1_english  test2_math  test2_english  \\\n",
       "0   1    Alice          85             88          87             90   \n",
       "1   2      Bob          92             85          94             87   \n",
       "2   3  Charlie          78             92          80             91   \n",
       "\n",
       "   final_math  final_english  \n",
       "0          88             89  \n",
       "1          93             86  \n",
       "2          82             93  "
      ]
     },
     "execution_count": 9,
     "metadata": {},
     "output_type": "execute_result"
    }
   ],
   "source": [
    "# Create complex wide data\n",
    "df_complex_wide = pd.DataFrame({\n",
    "    'id': [1, 2, 3],\n",
    "    'name': ['Alice', 'Bob', 'Charlie'],\n",
    "    'test1_math': [85, 92, 78],\n",
    "    'test1_english': [88, 85, 92],\n",
    "    'test2_math': [87, 94, 80],\n",
    "    'test2_english': [90, 87, 91],\n",
    "    'final_math': [88, 93, 82],\n",
    "    'final_english': [89, 86, 93]\n",
    "})\n",
    "df_complex_wide"
   ]
  },
  {
   "cell_type": "code",
   "execution_count": 10,
   "id": "b0041dda",
   "metadata": {},
   "outputs": [
    {
     "data": {
      "application/vnd.microsoft.datawrangler.viewer.v0+json": {
       "columns": [
        {
         "name": "index",
         "rawType": "int64",
         "type": "integer"
        },
        {
         "name": "id",
         "rawType": "int64",
         "type": "integer"
        },
        {
         "name": "name",
         "rawType": "object",
         "type": "string"
        },
        {
         "name": "score",
         "rawType": "int64",
         "type": "integer"
        },
        {
         "name": "test_type",
         "rawType": "object",
         "type": "string"
        },
        {
         "name": "subject",
         "rawType": "object",
         "type": "string"
        }
       ],
       "ref": "a9d9011e-4bd8-4a16-bfa5-e115fa55e3c8",
       "rows": [
        [
         "0",
         "1",
         "Alice",
         "85",
         "test1",
         "math"
        ],
        [
         "1",
         "2",
         "Bob",
         "92",
         "test1",
         "math"
        ],
        [
         "2",
         "3",
         "Charlie",
         "78",
         "test1",
         "math"
        ],
        [
         "3",
         "1",
         "Alice",
         "88",
         "test1",
         "english"
        ],
        [
         "4",
         "2",
         "Bob",
         "85",
         "test1",
         "english"
        ],
        [
         "5",
         "3",
         "Charlie",
         "92",
         "test1",
         "english"
        ],
        [
         "6",
         "1",
         "Alice",
         "87",
         "test2",
         "math"
        ],
        [
         "7",
         "2",
         "Bob",
         "94",
         "test2",
         "math"
        ],
        [
         "8",
         "3",
         "Charlie",
         "80",
         "test2",
         "math"
        ],
        [
         "9",
         "1",
         "Alice",
         "90",
         "test2",
         "english"
        ],
        [
         "10",
         "2",
         "Bob",
         "87",
         "test2",
         "english"
        ],
        [
         "11",
         "3",
         "Charlie",
         "91",
         "test2",
         "english"
        ],
        [
         "12",
         "1",
         "Alice",
         "88",
         "final",
         "math"
        ],
        [
         "13",
         "2",
         "Bob",
         "93",
         "final",
         "math"
        ],
        [
         "14",
         "3",
         "Charlie",
         "82",
         "final",
         "math"
        ],
        [
         "15",
         "1",
         "Alice",
         "89",
         "final",
         "english"
        ],
        [
         "16",
         "2",
         "Bob",
         "86",
         "final",
         "english"
        ],
        [
         "17",
         "3",
         "Charlie",
         "93",
         "final",
         "english"
        ]
       ],
       "shape": {
        "columns": 5,
        "rows": 18
       }
      },
      "text/html": [
       "<div>\n",
       "<style scoped>\n",
       "    .dataframe tbody tr th:only-of-type {\n",
       "        vertical-align: middle;\n",
       "    }\n",
       "\n",
       "    .dataframe tbody tr th {\n",
       "        vertical-align: top;\n",
       "    }\n",
       "\n",
       "    .dataframe thead th {\n",
       "        text-align: right;\n",
       "    }\n",
       "</style>\n",
       "<table border=\"1\" class=\"dataframe\">\n",
       "  <thead>\n",
       "    <tr style=\"text-align: right;\">\n",
       "      <th></th>\n",
       "      <th>id</th>\n",
       "      <th>name</th>\n",
       "      <th>score</th>\n",
       "      <th>test_type</th>\n",
       "      <th>subject</th>\n",
       "    </tr>\n",
       "  </thead>\n",
       "  <tbody>\n",
       "    <tr>\n",
       "      <th>0</th>\n",
       "      <td>1</td>\n",
       "      <td>Alice</td>\n",
       "      <td>85</td>\n",
       "      <td>test1</td>\n",
       "      <td>math</td>\n",
       "    </tr>\n",
       "    <tr>\n",
       "      <th>1</th>\n",
       "      <td>2</td>\n",
       "      <td>Bob</td>\n",
       "      <td>92</td>\n",
       "      <td>test1</td>\n",
       "      <td>math</td>\n",
       "    </tr>\n",
       "    <tr>\n",
       "      <th>2</th>\n",
       "      <td>3</td>\n",
       "      <td>Charlie</td>\n",
       "      <td>78</td>\n",
       "      <td>test1</td>\n",
       "      <td>math</td>\n",
       "    </tr>\n",
       "    <tr>\n",
       "      <th>3</th>\n",
       "      <td>1</td>\n",
       "      <td>Alice</td>\n",
       "      <td>88</td>\n",
       "      <td>test1</td>\n",
       "      <td>english</td>\n",
       "    </tr>\n",
       "    <tr>\n",
       "      <th>4</th>\n",
       "      <td>2</td>\n",
       "      <td>Bob</td>\n",
       "      <td>85</td>\n",
       "      <td>test1</td>\n",
       "      <td>english</td>\n",
       "    </tr>\n",
       "    <tr>\n",
       "      <th>5</th>\n",
       "      <td>3</td>\n",
       "      <td>Charlie</td>\n",
       "      <td>92</td>\n",
       "      <td>test1</td>\n",
       "      <td>english</td>\n",
       "    </tr>\n",
       "    <tr>\n",
       "      <th>6</th>\n",
       "      <td>1</td>\n",
       "      <td>Alice</td>\n",
       "      <td>87</td>\n",
       "      <td>test2</td>\n",
       "      <td>math</td>\n",
       "    </tr>\n",
       "    <tr>\n",
       "      <th>7</th>\n",
       "      <td>2</td>\n",
       "      <td>Bob</td>\n",
       "      <td>94</td>\n",
       "      <td>test2</td>\n",
       "      <td>math</td>\n",
       "    </tr>\n",
       "    <tr>\n",
       "      <th>8</th>\n",
       "      <td>3</td>\n",
       "      <td>Charlie</td>\n",
       "      <td>80</td>\n",
       "      <td>test2</td>\n",
       "      <td>math</td>\n",
       "    </tr>\n",
       "    <tr>\n",
       "      <th>9</th>\n",
       "      <td>1</td>\n",
       "      <td>Alice</td>\n",
       "      <td>90</td>\n",
       "      <td>test2</td>\n",
       "      <td>english</td>\n",
       "    </tr>\n",
       "    <tr>\n",
       "      <th>10</th>\n",
       "      <td>2</td>\n",
       "      <td>Bob</td>\n",
       "      <td>87</td>\n",
       "      <td>test2</td>\n",
       "      <td>english</td>\n",
       "    </tr>\n",
       "    <tr>\n",
       "      <th>11</th>\n",
       "      <td>3</td>\n",
       "      <td>Charlie</td>\n",
       "      <td>91</td>\n",
       "      <td>test2</td>\n",
       "      <td>english</td>\n",
       "    </tr>\n",
       "    <tr>\n",
       "      <th>12</th>\n",
       "      <td>1</td>\n",
       "      <td>Alice</td>\n",
       "      <td>88</td>\n",
       "      <td>final</td>\n",
       "      <td>math</td>\n",
       "    </tr>\n",
       "    <tr>\n",
       "      <th>13</th>\n",
       "      <td>2</td>\n",
       "      <td>Bob</td>\n",
       "      <td>93</td>\n",
       "      <td>final</td>\n",
       "      <td>math</td>\n",
       "    </tr>\n",
       "    <tr>\n",
       "      <th>14</th>\n",
       "      <td>3</td>\n",
       "      <td>Charlie</td>\n",
       "      <td>82</td>\n",
       "      <td>final</td>\n",
       "      <td>math</td>\n",
       "    </tr>\n",
       "    <tr>\n",
       "      <th>15</th>\n",
       "      <td>1</td>\n",
       "      <td>Alice</td>\n",
       "      <td>89</td>\n",
       "      <td>final</td>\n",
       "      <td>english</td>\n",
       "    </tr>\n",
       "    <tr>\n",
       "      <th>16</th>\n",
       "      <td>2</td>\n",
       "      <td>Bob</td>\n",
       "      <td>86</td>\n",
       "      <td>final</td>\n",
       "      <td>english</td>\n",
       "    </tr>\n",
       "    <tr>\n",
       "      <th>17</th>\n",
       "      <td>3</td>\n",
       "      <td>Charlie</td>\n",
       "      <td>93</td>\n",
       "      <td>final</td>\n",
       "      <td>english</td>\n",
       "    </tr>\n",
       "  </tbody>\n",
       "</table>\n",
       "</div>"
      ],
      "text/plain": [
       "    id     name  score test_type  subject\n",
       "0    1    Alice     85     test1     math\n",
       "1    2      Bob     92     test1     math\n",
       "2    3  Charlie     78     test1     math\n",
       "3    1    Alice     88     test1  english\n",
       "4    2      Bob     85     test1  english\n",
       "5    3  Charlie     92     test1  english\n",
       "6    1    Alice     87     test2     math\n",
       "7    2      Bob     94     test2     math\n",
       "8    3  Charlie     80     test2     math\n",
       "9    1    Alice     90     test2  english\n",
       "10   2      Bob     87     test2  english\n",
       "11   3  Charlie     91     test2  english\n",
       "12   1    Alice     88     final     math\n",
       "13   2      Bob     93     final     math\n",
       "14   3  Charlie     82     final     math\n",
       "15   1    Alice     89     final  english\n",
       "16   2      Bob     86     final  english\n",
       "17   3  Charlie     93     final  english"
      ]
     },
     "execution_count": 10,
     "metadata": {},
     "output_type": "execute_result"
    }
   ],
   "source": [
    "# Melt with pattern extraction\n",
    "# R: pivot_longer(df, \n",
    "#                 cols = -c(id, name),\n",
    "#                 names_to = c(\"test_type\", \"subject\"),\n",
    "#                 names_pattern = \"(.*)_(.*)\",\n",
    "#                 values_to = \"score\")\n",
    "\n",
    "# First melt to long format\n",
    "melted = df_complex_wide.melt(\n",
    "    id_vars=['id', 'name'],\n",
    "    var_name='test_subject',\n",
    "    value_name='score'\n",
    ")\n",
    "\n",
    "# Extract test type and subject from column names\n",
    "melted[['test_type', 'subject']] = melted['test_subject'].str.extract(r'(.+)_(.+)')\n",
    "melted = melted.drop(columns='test_subject')\n",
    "melted"
   ]
  },
  {
   "cell_type": "markdown",
   "id": "c1434d1e",
   "metadata": {},
   "source": [
    "## Stack and Unstack Methods\n",
    "\n",
    "Alternative approaches for reshaping:"
   ]
  },
  {
   "cell_type": "code",
   "execution_count": 11,
   "id": "f93dc28d",
   "metadata": {},
   "outputs": [
    {
     "data": {
      "application/vnd.microsoft.datawrangler.viewer.v0+json": {
       "columns": [
        {
         "name": "('A', 'B')",
         "rawType": "object",
         "type": "unknown"
        },
        {
         "name": "C",
         "rawType": "int64",
         "type": "integer"
        },
        {
         "name": "D",
         "rawType": "int64",
         "type": "integer"
        }
       ],
       "ref": "cdb337fd-77ac-4e61-b389-a524305e0023",
       "rows": [
        [
         "('foo', 'one')",
         "1",
         "10"
        ],
        [
         "('foo', 'two')",
         "2",
         "20"
        ],
        [
         "('bar', 'one')",
         "3",
         "30"
        ],
        [
         "('bar', 'two')",
         "4",
         "40"
        ]
       ],
       "shape": {
        "columns": 2,
        "rows": 4
       }
      },
      "text/html": [
       "<div>\n",
       "<style scoped>\n",
       "    .dataframe tbody tr th:only-of-type {\n",
       "        vertical-align: middle;\n",
       "    }\n",
       "\n",
       "    .dataframe tbody tr th {\n",
       "        vertical-align: top;\n",
       "    }\n",
       "\n",
       "    .dataframe thead th {\n",
       "        text-align: right;\n",
       "    }\n",
       "</style>\n",
       "<table border=\"1\" class=\"dataframe\">\n",
       "  <thead>\n",
       "    <tr style=\"text-align: right;\">\n",
       "      <th></th>\n",
       "      <th></th>\n",
       "      <th>C</th>\n",
       "      <th>D</th>\n",
       "    </tr>\n",
       "    <tr>\n",
       "      <th>A</th>\n",
       "      <th>B</th>\n",
       "      <th></th>\n",
       "      <th></th>\n",
       "    </tr>\n",
       "  </thead>\n",
       "  <tbody>\n",
       "    <tr>\n",
       "      <th rowspan=\"2\" valign=\"top\">foo</th>\n",
       "      <th>one</th>\n",
       "      <td>1</td>\n",
       "      <td>10</td>\n",
       "    </tr>\n",
       "    <tr>\n",
       "      <th>two</th>\n",
       "      <td>2</td>\n",
       "      <td>20</td>\n",
       "    </tr>\n",
       "    <tr>\n",
       "      <th rowspan=\"2\" valign=\"top\">bar</th>\n",
       "      <th>one</th>\n",
       "      <td>3</td>\n",
       "      <td>30</td>\n",
       "    </tr>\n",
       "    <tr>\n",
       "      <th>two</th>\n",
       "      <td>4</td>\n",
       "      <td>40</td>\n",
       "    </tr>\n",
       "  </tbody>\n",
       "</table>\n",
       "</div>"
      ],
      "text/plain": [
       "         C   D\n",
       "A   B         \n",
       "foo one  1  10\n",
       "    two  2  20\n",
       "bar one  3  30\n",
       "    two  4  40"
      ]
     },
     "execution_count": 11,
     "metadata": {},
     "output_type": "execute_result"
    }
   ],
   "source": [
    "# Create multi-index DataFrame\n",
    "df_multi_index = pd.DataFrame({\n",
    "    'A': ['foo', 'foo', 'bar', 'bar'],\n",
    "    'B': ['one', 'two', 'one', 'two'],\n",
    "    'C': [1, 2, 3, 4],\n",
    "    'D': [10, 20, 30, 40]\n",
    "})\n",
    "df_indexed = df_multi_index.set_index(['A', 'B'])\n",
    "df_indexed"
   ]
  },
  {
   "cell_type": "code",
   "execution_count": 12,
   "id": "268ba5b2",
   "metadata": {},
   "outputs": [
    {
     "data": {
      "application/vnd.microsoft.datawrangler.viewer.v0+json": {
       "columns": [
        {
         "name": "A",
         "rawType": "object",
         "type": "string"
        },
        {
         "name": "('C', 'one')",
         "rawType": "int64",
         "type": "integer"
        },
        {
         "name": "('C', 'two')",
         "rawType": "int64",
         "type": "integer"
        },
        {
         "name": "('D', 'one')",
         "rawType": "int64",
         "type": "integer"
        },
        {
         "name": "('D', 'two')",
         "rawType": "int64",
         "type": "integer"
        }
       ],
       "ref": "a2b91dff-5cb1-4c4f-93c7-a1d1b5596f82",
       "rows": [
        [
         "bar",
         "3",
         "4",
         "30",
         "40"
        ],
        [
         "foo",
         "1",
         "2",
         "10",
         "20"
        ]
       ],
       "shape": {
        "columns": 4,
        "rows": 2
       }
      },
      "text/html": [
       "<div>\n",
       "<style scoped>\n",
       "    .dataframe tbody tr th:only-of-type {\n",
       "        vertical-align: middle;\n",
       "    }\n",
       "\n",
       "    .dataframe tbody tr th {\n",
       "        vertical-align: top;\n",
       "    }\n",
       "\n",
       "    .dataframe thead tr th {\n",
       "        text-align: left;\n",
       "    }\n",
       "\n",
       "    .dataframe thead tr:last-of-type th {\n",
       "        text-align: right;\n",
       "    }\n",
       "</style>\n",
       "<table border=\"1\" class=\"dataframe\">\n",
       "  <thead>\n",
       "    <tr>\n",
       "      <th></th>\n",
       "      <th colspan=\"2\" halign=\"left\">C</th>\n",
       "      <th colspan=\"2\" halign=\"left\">D</th>\n",
       "    </tr>\n",
       "    <tr>\n",
       "      <th>B</th>\n",
       "      <th>one</th>\n",
       "      <th>two</th>\n",
       "      <th>one</th>\n",
       "      <th>two</th>\n",
       "    </tr>\n",
       "    <tr>\n",
       "      <th>A</th>\n",
       "      <th></th>\n",
       "      <th></th>\n",
       "      <th></th>\n",
       "      <th></th>\n",
       "    </tr>\n",
       "  </thead>\n",
       "  <tbody>\n",
       "    <tr>\n",
       "      <th>bar</th>\n",
       "      <td>3</td>\n",
       "      <td>4</td>\n",
       "      <td>30</td>\n",
       "      <td>40</td>\n",
       "    </tr>\n",
       "    <tr>\n",
       "      <th>foo</th>\n",
       "      <td>1</td>\n",
       "      <td>2</td>\n",
       "      <td>10</td>\n",
       "      <td>20</td>\n",
       "    </tr>\n",
       "  </tbody>\n",
       "</table>\n",
       "</div>"
      ],
      "text/plain": [
       "      C       D    \n",
       "B   one two one two\n",
       "A                  \n",
       "bar   3   4  30  40\n",
       "foo   1   2  10  20"
      ]
     },
     "execution_count": 12,
     "metadata": {},
     "output_type": "execute_result"
    }
   ],
   "source": [
    "# Unstack - move index level to columns\n",
    "# Similar to pivot_wider\n",
    "df_unstacked = df_indexed.unstack()\n",
    "df_unstacked"
   ]
  },
  {
   "cell_type": "code",
   "execution_count": 13,
   "id": "f9258656",
   "metadata": {},
   "outputs": [
    {
     "name": "stderr",
     "output_type": "stream",
     "text": [
      "/var/folders/70/7wmmf6t55cb84bfx9g1c1k1m0000gn/T/ipykernel_76731/1981924162.py:3: FutureWarning: The previous implementation of stack is deprecated and will be removed in a future version of pandas. See the What's New notes for pandas 2.1.0 for details. Specify future_stack=True to adopt the new implementation and silence this warning.\n",
      "  df_stacked = df_unstacked.stack()\n"
     ]
    },
    {
     "data": {
      "application/vnd.microsoft.datawrangler.viewer.v0+json": {
       "columns": [
        {
         "name": "('A', 'B')",
         "rawType": "object",
         "type": "unknown"
        },
        {
         "name": "C",
         "rawType": "int64",
         "type": "integer"
        },
        {
         "name": "D",
         "rawType": "int64",
         "type": "integer"
        }
       ],
       "ref": "47e3165c-9ad6-41ce-aeb6-a9c29ab2ae48",
       "rows": [
        [
         "('bar', 'one')",
         "3",
         "30"
        ],
        [
         "('bar', 'two')",
         "4",
         "40"
        ],
        [
         "('foo', 'one')",
         "1",
         "10"
        ],
        [
         "('foo', 'two')",
         "2",
         "20"
        ]
       ],
       "shape": {
        "columns": 2,
        "rows": 4
       }
      },
      "text/html": [
       "<div>\n",
       "<style scoped>\n",
       "    .dataframe tbody tr th:only-of-type {\n",
       "        vertical-align: middle;\n",
       "    }\n",
       "\n",
       "    .dataframe tbody tr th {\n",
       "        vertical-align: top;\n",
       "    }\n",
       "\n",
       "    .dataframe thead th {\n",
       "        text-align: right;\n",
       "    }\n",
       "</style>\n",
       "<table border=\"1\" class=\"dataframe\">\n",
       "  <thead>\n",
       "    <tr style=\"text-align: right;\">\n",
       "      <th></th>\n",
       "      <th></th>\n",
       "      <th>C</th>\n",
       "      <th>D</th>\n",
       "    </tr>\n",
       "    <tr>\n",
       "      <th>A</th>\n",
       "      <th>B</th>\n",
       "      <th></th>\n",
       "      <th></th>\n",
       "    </tr>\n",
       "  </thead>\n",
       "  <tbody>\n",
       "    <tr>\n",
       "      <th rowspan=\"2\" valign=\"top\">bar</th>\n",
       "      <th>one</th>\n",
       "      <td>3</td>\n",
       "      <td>30</td>\n",
       "    </tr>\n",
       "    <tr>\n",
       "      <th>two</th>\n",
       "      <td>4</td>\n",
       "      <td>40</td>\n",
       "    </tr>\n",
       "    <tr>\n",
       "      <th rowspan=\"2\" valign=\"top\">foo</th>\n",
       "      <th>one</th>\n",
       "      <td>1</td>\n",
       "      <td>10</td>\n",
       "    </tr>\n",
       "    <tr>\n",
       "      <th>two</th>\n",
       "      <td>2</td>\n",
       "      <td>20</td>\n",
       "    </tr>\n",
       "  </tbody>\n",
       "</table>\n",
       "</div>"
      ],
      "text/plain": [
       "         C   D\n",
       "A   B         \n",
       "bar one  3  30\n",
       "    two  4  40\n",
       "foo one  1  10\n",
       "    two  2  20"
      ]
     },
     "execution_count": 13,
     "metadata": {},
     "output_type": "execute_result"
    }
   ],
   "source": [
    "# Stack - move columns to index\n",
    "# Similar to pivot_longer\n",
    "df_stacked = df_unstacked.stack()\n",
    "df_stacked"
   ]
  },
  {
   "cell_type": "markdown",
   "id": "1bbf34e9",
   "metadata": {},
   "source": [
    "## Real-World Reshaping Examples\n",
    "\n",
    "Practical examples of data reshaping:"
   ]
  },
  {
   "cell_type": "code",
   "execution_count": 14,
   "id": "6bf223bd",
   "metadata": {},
   "outputs": [
    {
     "data": {
      "application/vnd.microsoft.datawrangler.viewer.v0+json": {
       "columns": [
        {
         "name": "index",
         "rawType": "int64",
         "type": "integer"
        },
        {
         "name": "respondent_id",
         "rawType": "int64",
         "type": "integer"
        },
        {
         "name": "age",
         "rawType": "int64",
         "type": "integer"
        },
        {
         "name": "question",
         "rawType": "object",
         "type": "string"
        },
        {
         "name": "satisfaction",
         "rawType": "int64",
         "type": "integer"
        },
        {
         "name": "importance",
         "rawType": "int64",
         "type": "integer"
        }
       ],
       "ref": "ed7a4fe4-cce7-4b70-a36a-3469122f7337",
       "rows": [
        [
         "0",
         "1",
         "25",
         "q1",
         "4",
         "5"
        ],
        [
         "1",
         "2",
         "35",
         "q1",
         "5",
         "4"
        ],
        [
         "2",
         "3",
         "45",
         "q1",
         "3",
         "5"
        ],
        [
         "3",
         "4",
         "30",
         "q1",
         "4",
         "3"
        ],
        [
         "4",
         "1",
         "25",
         "q2",
         "3",
         "4"
        ],
        [
         "5",
         "2",
         "35",
         "q2",
         "5",
         "5"
        ],
        [
         "6",
         "3",
         "45",
         "q2",
         "4",
         "5"
        ],
        [
         "7",
         "4",
         "30",
         "q2",
         "4",
         "4"
        ],
        [
         "8",
         "1",
         "25",
         "q3",
         "5",
         "3"
        ],
        [
         "9",
         "2",
         "35",
         "q3",
         "4",
         "3"
        ],
        [
         "10",
         "3",
         "45",
         "q3",
         "3",
         "4"
        ],
        [
         "11",
         "4",
         "30",
         "q3",
         "5",
         "5"
        ]
       ],
       "shape": {
        "columns": 5,
        "rows": 12
       }
      },
      "text/html": [
       "<div>\n",
       "<style scoped>\n",
       "    .dataframe tbody tr th:only-of-type {\n",
       "        vertical-align: middle;\n",
       "    }\n",
       "\n",
       "    .dataframe tbody tr th {\n",
       "        vertical-align: top;\n",
       "    }\n",
       "\n",
       "    .dataframe thead th {\n",
       "        text-align: right;\n",
       "    }\n",
       "</style>\n",
       "<table border=\"1\" class=\"dataframe\">\n",
       "  <thead>\n",
       "    <tr style=\"text-align: right;\">\n",
       "      <th></th>\n",
       "      <th>respondent_id</th>\n",
       "      <th>age</th>\n",
       "      <th>question</th>\n",
       "      <th>satisfaction</th>\n",
       "      <th>importance</th>\n",
       "    </tr>\n",
       "  </thead>\n",
       "  <tbody>\n",
       "    <tr>\n",
       "      <th>0</th>\n",
       "      <td>1</td>\n",
       "      <td>25</td>\n",
       "      <td>q1</td>\n",
       "      <td>4</td>\n",
       "      <td>5</td>\n",
       "    </tr>\n",
       "    <tr>\n",
       "      <th>1</th>\n",
       "      <td>2</td>\n",
       "      <td>35</td>\n",
       "      <td>q1</td>\n",
       "      <td>5</td>\n",
       "      <td>4</td>\n",
       "    </tr>\n",
       "    <tr>\n",
       "      <th>2</th>\n",
       "      <td>3</td>\n",
       "      <td>45</td>\n",
       "      <td>q1</td>\n",
       "      <td>3</td>\n",
       "      <td>5</td>\n",
       "    </tr>\n",
       "    <tr>\n",
       "      <th>3</th>\n",
       "      <td>4</td>\n",
       "      <td>30</td>\n",
       "      <td>q1</td>\n",
       "      <td>4</td>\n",
       "      <td>3</td>\n",
       "    </tr>\n",
       "    <tr>\n",
       "      <th>4</th>\n",
       "      <td>1</td>\n",
       "      <td>25</td>\n",
       "      <td>q2</td>\n",
       "      <td>3</td>\n",
       "      <td>4</td>\n",
       "    </tr>\n",
       "    <tr>\n",
       "      <th>5</th>\n",
       "      <td>2</td>\n",
       "      <td>35</td>\n",
       "      <td>q2</td>\n",
       "      <td>5</td>\n",
       "      <td>5</td>\n",
       "    </tr>\n",
       "    <tr>\n",
       "      <th>6</th>\n",
       "      <td>3</td>\n",
       "      <td>45</td>\n",
       "      <td>q2</td>\n",
       "      <td>4</td>\n",
       "      <td>5</td>\n",
       "    </tr>\n",
       "    <tr>\n",
       "      <th>7</th>\n",
       "      <td>4</td>\n",
       "      <td>30</td>\n",
       "      <td>q2</td>\n",
       "      <td>4</td>\n",
       "      <td>4</td>\n",
       "    </tr>\n",
       "    <tr>\n",
       "      <th>8</th>\n",
       "      <td>1</td>\n",
       "      <td>25</td>\n",
       "      <td>q3</td>\n",
       "      <td>5</td>\n",
       "      <td>3</td>\n",
       "    </tr>\n",
       "    <tr>\n",
       "      <th>9</th>\n",
       "      <td>2</td>\n",
       "      <td>35</td>\n",
       "      <td>q3</td>\n",
       "      <td>4</td>\n",
       "      <td>3</td>\n",
       "    </tr>\n",
       "    <tr>\n",
       "      <th>10</th>\n",
       "      <td>3</td>\n",
       "      <td>45</td>\n",
       "      <td>q3</td>\n",
       "      <td>3</td>\n",
       "      <td>4</td>\n",
       "    </tr>\n",
       "    <tr>\n",
       "      <th>11</th>\n",
       "      <td>4</td>\n",
       "      <td>30</td>\n",
       "      <td>q3</td>\n",
       "      <td>5</td>\n",
       "      <td>5</td>\n",
       "    </tr>\n",
       "  </tbody>\n",
       "</table>\n",
       "</div>"
      ],
      "text/plain": [
       "    respondent_id  age question  satisfaction  importance\n",
       "0               1   25       q1             4           5\n",
       "1               2   35       q1             5           4\n",
       "2               3   45       q1             3           5\n",
       "3               4   30       q1             4           3\n",
       "4               1   25       q2             3           4\n",
       "5               2   35       q2             5           5\n",
       "6               3   45       q2             4           5\n",
       "7               4   30       q2             4           4\n",
       "8               1   25       q3             5           3\n",
       "9               2   35       q3             4           3\n",
       "10              3   45       q3             3           4\n",
       "11              4   30       q3             5           5"
      ]
     },
     "execution_count": 14,
     "metadata": {},
     "output_type": "execute_result"
    }
   ],
   "source": [
    "# Example 1: Survey data from wide to long\n",
    "survey_wide = pd.DataFrame({\n",
    "    'respondent_id': [1, 2, 3, 4],\n",
    "    'age': [25, 35, 45, 30],\n",
    "    'q1_satisfaction': [4, 5, 3, 4],\n",
    "    'q2_satisfaction': [3, 5, 4, 4],\n",
    "    'q3_satisfaction': [5, 4, 3, 5],\n",
    "    'q1_importance': [5, 4, 5, 3],\n",
    "    'q2_importance': [4, 5, 5, 4],\n",
    "    'q3_importance': [3, 3, 4, 5]\n",
    "})\n",
    "\n",
    "# Reshape to have one row per question per respondent\n",
    "# First, separate satisfaction and importance\n",
    "satisfaction = survey_wide.melt(\n",
    "    id_vars=['respondent_id', 'age'],\n",
    "    value_vars=['q1_satisfaction', 'q2_satisfaction', 'q3_satisfaction'],\n",
    "    var_name='question',\n",
    "    value_name='satisfaction'\n",
    ")\n",
    "satisfaction['question'] = satisfaction['question'].str.extract(r'(q\\d+)')\n",
    "\n",
    "importance = survey_wide.melt(\n",
    "    id_vars=['respondent_id', 'age'],\n",
    "    value_vars=['q1_importance', 'q2_importance', 'q3_importance'],\n",
    "    var_name='question',\n",
    "    value_name='importance'\n",
    ")\n",
    "importance['question'] = importance['question'].str.extract(r'(q\\d+)')\n",
    "\n",
    "# Merge back together\n",
    "survey_long = satisfaction.merge(\n",
    "    importance[['respondent_id', 'question', 'importance']],\n",
    "    on=['respondent_id', 'question']\n",
    ")\n",
    "survey_long"
   ]
  },
  {
   "cell_type": "code",
   "execution_count": 15,
   "id": "1b45fac0",
   "metadata": {},
   "outputs": [
    {
     "data": {
      "application/vnd.microsoft.datawrangler.viewer.v0+json": {
       "columns": [
        {
         "name": "index",
         "rawType": "int64",
         "type": "integer"
        },
        {
         "name": "Store",
         "rawType": "object",
         "type": "string"
        },
        {
         "name": "Product_A_Jan",
         "rawType": "int64",
         "type": "integer"
        },
        {
         "name": "Product_A_Feb",
         "rawType": "int64",
         "type": "integer"
        },
        {
         "name": "Product_A_Mar",
         "rawType": "int64",
         "type": "integer"
        },
        {
         "name": "Product_A_Apr",
         "rawType": "int64",
         "type": "integer"
        },
        {
         "name": "Product_A_May",
         "rawType": "int64",
         "type": "integer"
        },
        {
         "name": "Product_A_Jun",
         "rawType": "int64",
         "type": "integer"
        },
        {
         "name": "Product_B_Jan",
         "rawType": "int64",
         "type": "integer"
        },
        {
         "name": "Product_B_Feb",
         "rawType": "int64",
         "type": "integer"
        },
        {
         "name": "Product_B_Mar",
         "rawType": "int64",
         "type": "integer"
        },
        {
         "name": "Product_B_Apr",
         "rawType": "int64",
         "type": "integer"
        },
        {
         "name": "Product_B_May",
         "rawType": "int64",
         "type": "integer"
        },
        {
         "name": "Product_B_Jun",
         "rawType": "int64",
         "type": "integer"
        },
        {
         "name": "Product_C_Jan",
         "rawType": "int64",
         "type": "integer"
        },
        {
         "name": "Product_C_Feb",
         "rawType": "int64",
         "type": "integer"
        },
        {
         "name": "Product_C_Mar",
         "rawType": "int64",
         "type": "integer"
        },
        {
         "name": "Product_C_Apr",
         "rawType": "int64",
         "type": "integer"
        },
        {
         "name": "Product_C_May",
         "rawType": "int64",
         "type": "integer"
        },
        {
         "name": "Product_C_Jun",
         "rawType": "int64",
         "type": "integer"
        }
       ],
       "ref": "05e73d38-51b4-4804-b29a-11edd4d3d028",
       "rows": [
        [
         "0",
         "Store_1",
         "94",
         "55",
         "147",
         "95",
         "89",
         "51",
         "126",
         "75",
         "110",
         "97",
         "116",
         "120",
         "56",
         "62",
         "92",
         "147",
         "92",
         "81"
        ],
        [
         "1",
         "Store_2",
         "88",
         "65",
         "94",
         "143",
         "115",
         "94",
         "94",
         "119",
         "140",
         "68",
         "134",
         "74",
         "72",
         "121",
         "60",
         "99",
         "121",
         "115"
        ],
        [
         "2",
         "Store_3",
         "97",
         "63",
         "62",
         "109",
         "128",
         "144",
         "75",
         "96",
         "103",
         "128",
         "59",
         "111",
         "59",
         "136",
         "97",
         "55",
         "120",
         "140"
        ]
       ],
       "shape": {
        "columns": 19,
        "rows": 3
       }
      },
      "text/html": [
       "<div>\n",
       "<style scoped>\n",
       "    .dataframe tbody tr th:only-of-type {\n",
       "        vertical-align: middle;\n",
       "    }\n",
       "\n",
       "    .dataframe tbody tr th {\n",
       "        vertical-align: top;\n",
       "    }\n",
       "\n",
       "    .dataframe thead th {\n",
       "        text-align: right;\n",
       "    }\n",
       "</style>\n",
       "<table border=\"1\" class=\"dataframe\">\n",
       "  <thead>\n",
       "    <tr style=\"text-align: right;\">\n",
       "      <th></th>\n",
       "      <th>Store</th>\n",
       "      <th>Product_A_Jan</th>\n",
       "      <th>Product_A_Feb</th>\n",
       "      <th>Product_A_Mar</th>\n",
       "      <th>Product_A_Apr</th>\n",
       "      <th>Product_A_May</th>\n",
       "      <th>Product_A_Jun</th>\n",
       "      <th>Product_B_Jan</th>\n",
       "      <th>Product_B_Feb</th>\n",
       "      <th>Product_B_Mar</th>\n",
       "      <th>Product_B_Apr</th>\n",
       "      <th>Product_B_May</th>\n",
       "      <th>Product_B_Jun</th>\n",
       "      <th>Product_C_Jan</th>\n",
       "      <th>Product_C_Feb</th>\n",
       "      <th>Product_C_Mar</th>\n",
       "      <th>Product_C_Apr</th>\n",
       "      <th>Product_C_May</th>\n",
       "      <th>Product_C_Jun</th>\n",
       "    </tr>\n",
       "  </thead>\n",
       "  <tbody>\n",
       "    <tr>\n",
       "      <th>0</th>\n",
       "      <td>Store_1</td>\n",
       "      <td>94</td>\n",
       "      <td>55</td>\n",
       "      <td>147</td>\n",
       "      <td>95</td>\n",
       "      <td>89</td>\n",
       "      <td>51</td>\n",
       "      <td>126</td>\n",
       "      <td>75</td>\n",
       "      <td>110</td>\n",
       "      <td>97</td>\n",
       "      <td>116</td>\n",
       "      <td>120</td>\n",
       "      <td>56</td>\n",
       "      <td>62</td>\n",
       "      <td>92</td>\n",
       "      <td>147</td>\n",
       "      <td>92</td>\n",
       "      <td>81</td>\n",
       "    </tr>\n",
       "    <tr>\n",
       "      <th>1</th>\n",
       "      <td>Store_2</td>\n",
       "      <td>88</td>\n",
       "      <td>65</td>\n",
       "      <td>94</td>\n",
       "      <td>143</td>\n",
       "      <td>115</td>\n",
       "      <td>94</td>\n",
       "      <td>94</td>\n",
       "      <td>119</td>\n",
       "      <td>140</td>\n",
       "      <td>68</td>\n",
       "      <td>134</td>\n",
       "      <td>74</td>\n",
       "      <td>72</td>\n",
       "      <td>121</td>\n",
       "      <td>60</td>\n",
       "      <td>99</td>\n",
       "      <td>121</td>\n",
       "      <td>115</td>\n",
       "    </tr>\n",
       "    <tr>\n",
       "      <th>2</th>\n",
       "      <td>Store_3</td>\n",
       "      <td>97</td>\n",
       "      <td>63</td>\n",
       "      <td>62</td>\n",
       "      <td>109</td>\n",
       "      <td>128</td>\n",
       "      <td>144</td>\n",
       "      <td>75</td>\n",
       "      <td>96</td>\n",
       "      <td>103</td>\n",
       "      <td>128</td>\n",
       "      <td>59</td>\n",
       "      <td>111</td>\n",
       "      <td>59</td>\n",
       "      <td>136</td>\n",
       "      <td>97</td>\n",
       "      <td>55</td>\n",
       "      <td>120</td>\n",
       "      <td>140</td>\n",
       "    </tr>\n",
       "  </tbody>\n",
       "</table>\n",
       "</div>"
      ],
      "text/plain": [
       "     Store  Product_A_Jan  Product_A_Feb  Product_A_Mar  Product_A_Apr  \\\n",
       "0  Store_1             94             55            147             95   \n",
       "1  Store_2             88             65             94            143   \n",
       "2  Store_3             97             63             62            109   \n",
       "\n",
       "   Product_A_May  Product_A_Jun  Product_B_Jan  Product_B_Feb  Product_B_Mar  \\\n",
       "0             89             51            126             75            110   \n",
       "1            115             94             94            119            140   \n",
       "2            128            144             75             96            103   \n",
       "\n",
       "   Product_B_Apr  Product_B_May  Product_B_Jun  Product_C_Jan  Product_C_Feb  \\\n",
       "0             97            116            120             56             62   \n",
       "1             68            134             74             72            121   \n",
       "2            128             59            111             59            136   \n",
       "\n",
       "   Product_C_Mar  Product_C_Apr  Product_C_May  Product_C_Jun  \n",
       "0             92            147             92             81  \n",
       "1             60             99            121            115  \n",
       "2             97             55            120            140  "
      ]
     },
     "execution_count": 15,
     "metadata": {},
     "output_type": "execute_result"
    }
   ],
   "source": [
    "# Example 2: Time series data reshaping\n",
    "# Create monthly data in wide format\n",
    "months = ['Jan', 'Feb', 'Mar', 'Apr', 'May', 'Jun']\n",
    "products = ['Product_A', 'Product_B', 'Product_C']\n",
    "\n",
    "data = {}\n",
    "data['Store'] = ['Store_1', 'Store_2', 'Store_3']\n",
    "for product in products:\n",
    "    for month in months:\n",
    "        col_name = f'{product}_{month}'\n",
    "        data[col_name] = np.random.randint(50, 150, 3)\n",
    "\n",
    "df_monthly_wide = pd.DataFrame(data)\n",
    "df_monthly_wide.head()"
   ]
  },
  {
   "cell_type": "code",
   "execution_count": 16,
   "id": "1829c2e0",
   "metadata": {},
   "outputs": [
    {
     "ename": "DateParseError",
     "evalue": "Unknown datetime string format, unable to parse: 2024-nan-01, at position 0",
     "output_type": "error",
     "traceback": [
      "\u001b[0;31m---------------------------------------------------------------------------\u001b[0m",
      "\u001b[0;31mDateParseError\u001b[0m                            Traceback (most recent call last)",
      "Cell \u001b[0;32mIn[16], line 15\u001b[0m\n\u001b[1;32m     13\u001b[0m month_map \u001b[38;5;241m=\u001b[39m {\u001b[38;5;124m'\u001b[39m\u001b[38;5;124mJan\u001b[39m\u001b[38;5;124m'\u001b[39m: \u001b[38;5;241m1\u001b[39m, \u001b[38;5;124m'\u001b[39m\u001b[38;5;124mFeb\u001b[39m\u001b[38;5;124m'\u001b[39m: \u001b[38;5;241m2\u001b[39m, \u001b[38;5;124m'\u001b[39m\u001b[38;5;124mMar\u001b[39m\u001b[38;5;124m'\u001b[39m: \u001b[38;5;241m3\u001b[39m, \u001b[38;5;124m'\u001b[39m\u001b[38;5;124mApr\u001b[39m\u001b[38;5;124m'\u001b[39m: \u001b[38;5;241m4\u001b[39m, \u001b[38;5;124m'\u001b[39m\u001b[38;5;124mMay\u001b[39m\u001b[38;5;124m'\u001b[39m: \u001b[38;5;241m5\u001b[39m, \u001b[38;5;124m'\u001b[39m\u001b[38;5;124mJun\u001b[39m\u001b[38;5;124m'\u001b[39m: \u001b[38;5;241m6\u001b[39m}\n\u001b[1;32m     14\u001b[0m df_monthly_long[\u001b[38;5;124m'\u001b[39m\u001b[38;5;124mMonth_Num\u001b[39m\u001b[38;5;124m'\u001b[39m] \u001b[38;5;241m=\u001b[39m df_monthly_long[\u001b[38;5;124m'\u001b[39m\u001b[38;5;124mMonth\u001b[39m\u001b[38;5;124m'\u001b[39m]\u001b[38;5;241m.\u001b[39mmap(month_map)\n\u001b[0;32m---> 15\u001b[0m df_monthly_long[\u001b[38;5;124m'\u001b[39m\u001b[38;5;124mDate\u001b[39m\u001b[38;5;124m'\u001b[39m] \u001b[38;5;241m=\u001b[39m \u001b[43mpd\u001b[49m\u001b[38;5;241;43m.\u001b[39;49m\u001b[43mto_datetime\u001b[49m\u001b[43m(\u001b[49m\u001b[38;5;124;43m'\u001b[39;49m\u001b[38;5;124;43m2024-\u001b[39;49m\u001b[38;5;124;43m'\u001b[39;49m\u001b[43m \u001b[49m\u001b[38;5;241;43m+\u001b[39;49m\u001b[43m \u001b[49m\u001b[43mdf_monthly_long\u001b[49m\u001b[43m[\u001b[49m\u001b[38;5;124;43m'\u001b[39;49m\u001b[38;5;124;43mMonth_Num\u001b[39;49m\u001b[38;5;124;43m'\u001b[39;49m\u001b[43m]\u001b[49m\u001b[38;5;241;43m.\u001b[39;49m\u001b[43mastype\u001b[49m\u001b[43m(\u001b[49m\u001b[38;5;28;43mstr\u001b[39;49m\u001b[43m)\u001b[49m\u001b[43m \u001b[49m\u001b[38;5;241;43m+\u001b[39;49m\u001b[43m \u001b[49m\u001b[38;5;124;43m'\u001b[39;49m\u001b[38;5;124;43m-01\u001b[39;49m\u001b[38;5;124;43m'\u001b[39;49m\u001b[43m)\u001b[49m\n\u001b[1;32m     17\u001b[0m df_monthly_long \u001b[38;5;241m=\u001b[39m df_monthly_long[[\u001b[38;5;124m'\u001b[39m\u001b[38;5;124mStore\u001b[39m\u001b[38;5;124m'\u001b[39m, \u001b[38;5;124m'\u001b[39m\u001b[38;5;124mProduct\u001b[39m\u001b[38;5;124m'\u001b[39m, \u001b[38;5;124m'\u001b[39m\u001b[38;5;124mDate\u001b[39m\u001b[38;5;124m'\u001b[39m, \u001b[38;5;124m'\u001b[39m\u001b[38;5;124mSales\u001b[39m\u001b[38;5;124m'\u001b[39m]]\u001b[38;5;241m.\u001b[39msort_values([\u001b[38;5;124m'\u001b[39m\u001b[38;5;124mStore\u001b[39m\u001b[38;5;124m'\u001b[39m, \u001b[38;5;124m'\u001b[39m\u001b[38;5;124mProduct\u001b[39m\u001b[38;5;124m'\u001b[39m, \u001b[38;5;124m'\u001b[39m\u001b[38;5;124mDate\u001b[39m\u001b[38;5;124m'\u001b[39m])\n\u001b[1;32m     18\u001b[0m df_monthly_long\u001b[38;5;241m.\u001b[39mhead(\u001b[38;5;241m10\u001b[39m)\n",
      "File \u001b[0;32m~/miniforge3/envs/ds-env/lib/python3.12/site-packages/pandas/core/tools/datetimes.py:1063\u001b[0m, in \u001b[0;36mto_datetime\u001b[0;34m(arg, errors, dayfirst, yearfirst, utc, format, exact, unit, infer_datetime_format, origin, cache)\u001b[0m\n\u001b[1;32m   1061\u001b[0m             result \u001b[38;5;241m=\u001b[39m arg\u001b[38;5;241m.\u001b[39mtz_localize(\u001b[38;5;124m\"\u001b[39m\u001b[38;5;124mutc\u001b[39m\u001b[38;5;124m\"\u001b[39m)\n\u001b[1;32m   1062\u001b[0m \u001b[38;5;28;01melif\u001b[39;00m \u001b[38;5;28misinstance\u001b[39m(arg, ABCSeries):\n\u001b[0;32m-> 1063\u001b[0m     cache_array \u001b[38;5;241m=\u001b[39m \u001b[43m_maybe_cache\u001b[49m\u001b[43m(\u001b[49m\u001b[43marg\u001b[49m\u001b[43m,\u001b[49m\u001b[43m \u001b[49m\u001b[38;5;28;43mformat\u001b[39;49m\u001b[43m,\u001b[49m\u001b[43m \u001b[49m\u001b[43mcache\u001b[49m\u001b[43m,\u001b[49m\u001b[43m \u001b[49m\u001b[43mconvert_listlike\u001b[49m\u001b[43m)\u001b[49m\n\u001b[1;32m   1064\u001b[0m     \u001b[38;5;28;01mif\u001b[39;00m \u001b[38;5;129;01mnot\u001b[39;00m cache_array\u001b[38;5;241m.\u001b[39mempty:\n\u001b[1;32m   1065\u001b[0m         result \u001b[38;5;241m=\u001b[39m arg\u001b[38;5;241m.\u001b[39mmap(cache_array)\n",
      "File \u001b[0;32m~/miniforge3/envs/ds-env/lib/python3.12/site-packages/pandas/core/tools/datetimes.py:247\u001b[0m, in \u001b[0;36m_maybe_cache\u001b[0;34m(arg, format, cache, convert_listlike)\u001b[0m\n\u001b[1;32m    245\u001b[0m unique_dates \u001b[38;5;241m=\u001b[39m unique(arg)\n\u001b[1;32m    246\u001b[0m \u001b[38;5;28;01mif\u001b[39;00m \u001b[38;5;28mlen\u001b[39m(unique_dates) \u001b[38;5;241m<\u001b[39m \u001b[38;5;28mlen\u001b[39m(arg):\n\u001b[0;32m--> 247\u001b[0m     cache_dates \u001b[38;5;241m=\u001b[39m \u001b[43mconvert_listlike\u001b[49m\u001b[43m(\u001b[49m\u001b[43munique_dates\u001b[49m\u001b[43m,\u001b[49m\u001b[43m \u001b[49m\u001b[38;5;28;43mformat\u001b[39;49m\u001b[43m)\u001b[49m\n\u001b[1;32m    248\u001b[0m     \u001b[38;5;66;03m# GH#45319\u001b[39;00m\n\u001b[1;32m    249\u001b[0m     \u001b[38;5;28;01mtry\u001b[39;00m:\n",
      "File \u001b[0;32m~/miniforge3/envs/ds-env/lib/python3.12/site-packages/pandas/core/tools/datetimes.py:435\u001b[0m, in \u001b[0;36m_convert_listlike_datetimes\u001b[0;34m(arg, format, name, utc, unit, errors, dayfirst, yearfirst, exact)\u001b[0m\n\u001b[1;32m    432\u001b[0m \u001b[38;5;28;01mif\u001b[39;00m \u001b[38;5;28mformat\u001b[39m \u001b[38;5;129;01mis\u001b[39;00m \u001b[38;5;129;01mnot\u001b[39;00m \u001b[38;5;28;01mNone\u001b[39;00m \u001b[38;5;129;01mand\u001b[39;00m \u001b[38;5;28mformat\u001b[39m \u001b[38;5;241m!=\u001b[39m \u001b[38;5;124m\"\u001b[39m\u001b[38;5;124mmixed\u001b[39m\u001b[38;5;124m\"\u001b[39m:\n\u001b[1;32m    433\u001b[0m     \u001b[38;5;28;01mreturn\u001b[39;00m _array_strptime_with_fallback(arg, name, utc, \u001b[38;5;28mformat\u001b[39m, exact, errors)\n\u001b[0;32m--> 435\u001b[0m result, tz_parsed \u001b[38;5;241m=\u001b[39m \u001b[43mobjects_to_datetime64\u001b[49m\u001b[43m(\u001b[49m\n\u001b[1;32m    436\u001b[0m \u001b[43m    \u001b[49m\u001b[43marg\u001b[49m\u001b[43m,\u001b[49m\n\u001b[1;32m    437\u001b[0m \u001b[43m    \u001b[49m\u001b[43mdayfirst\u001b[49m\u001b[38;5;241;43m=\u001b[39;49m\u001b[43mdayfirst\u001b[49m\u001b[43m,\u001b[49m\n\u001b[1;32m    438\u001b[0m \u001b[43m    \u001b[49m\u001b[43myearfirst\u001b[49m\u001b[38;5;241;43m=\u001b[39;49m\u001b[43myearfirst\u001b[49m\u001b[43m,\u001b[49m\n\u001b[1;32m    439\u001b[0m \u001b[43m    \u001b[49m\u001b[43mutc\u001b[49m\u001b[38;5;241;43m=\u001b[39;49m\u001b[43mutc\u001b[49m\u001b[43m,\u001b[49m\n\u001b[1;32m    440\u001b[0m \u001b[43m    \u001b[49m\u001b[43merrors\u001b[49m\u001b[38;5;241;43m=\u001b[39;49m\u001b[43merrors\u001b[49m\u001b[43m,\u001b[49m\n\u001b[1;32m    441\u001b[0m \u001b[43m    \u001b[49m\u001b[43mallow_object\u001b[49m\u001b[38;5;241;43m=\u001b[39;49m\u001b[38;5;28;43;01mTrue\u001b[39;49;00m\u001b[43m,\u001b[49m\n\u001b[1;32m    442\u001b[0m \u001b[43m\u001b[49m\u001b[43m)\u001b[49m\n\u001b[1;32m    444\u001b[0m \u001b[38;5;28;01mif\u001b[39;00m tz_parsed \u001b[38;5;129;01mis\u001b[39;00m \u001b[38;5;129;01mnot\u001b[39;00m \u001b[38;5;28;01mNone\u001b[39;00m:\n\u001b[1;32m    445\u001b[0m     \u001b[38;5;66;03m# We can take a shortcut since the datetime64 numpy array\u001b[39;00m\n\u001b[1;32m    446\u001b[0m     \u001b[38;5;66;03m# is in UTC\u001b[39;00m\n\u001b[1;32m    447\u001b[0m     out_unit \u001b[38;5;241m=\u001b[39m np\u001b[38;5;241m.\u001b[39mdatetime_data(result\u001b[38;5;241m.\u001b[39mdtype)[\u001b[38;5;241m0\u001b[39m]\n",
      "File \u001b[0;32m~/miniforge3/envs/ds-env/lib/python3.12/site-packages/pandas/core/arrays/datetimes.py:2398\u001b[0m, in \u001b[0;36mobjects_to_datetime64\u001b[0;34m(data, dayfirst, yearfirst, utc, errors, allow_object, out_unit)\u001b[0m\n\u001b[1;32m   2395\u001b[0m \u001b[38;5;66;03m# if str-dtype, convert\u001b[39;00m\n\u001b[1;32m   2396\u001b[0m data \u001b[38;5;241m=\u001b[39m np\u001b[38;5;241m.\u001b[39masarray(data, dtype\u001b[38;5;241m=\u001b[39mnp\u001b[38;5;241m.\u001b[39mobject_)\n\u001b[0;32m-> 2398\u001b[0m result, tz_parsed \u001b[38;5;241m=\u001b[39m \u001b[43mtslib\u001b[49m\u001b[38;5;241;43m.\u001b[39;49m\u001b[43marray_to_datetime\u001b[49m\u001b[43m(\u001b[49m\n\u001b[1;32m   2399\u001b[0m \u001b[43m    \u001b[49m\u001b[43mdata\u001b[49m\u001b[43m,\u001b[49m\n\u001b[1;32m   2400\u001b[0m \u001b[43m    \u001b[49m\u001b[43merrors\u001b[49m\u001b[38;5;241;43m=\u001b[39;49m\u001b[43merrors\u001b[49m\u001b[43m,\u001b[49m\n\u001b[1;32m   2401\u001b[0m \u001b[43m    \u001b[49m\u001b[43mutc\u001b[49m\u001b[38;5;241;43m=\u001b[39;49m\u001b[43mutc\u001b[49m\u001b[43m,\u001b[49m\n\u001b[1;32m   2402\u001b[0m \u001b[43m    \u001b[49m\u001b[43mdayfirst\u001b[49m\u001b[38;5;241;43m=\u001b[39;49m\u001b[43mdayfirst\u001b[49m\u001b[43m,\u001b[49m\n\u001b[1;32m   2403\u001b[0m \u001b[43m    \u001b[49m\u001b[43myearfirst\u001b[49m\u001b[38;5;241;43m=\u001b[39;49m\u001b[43myearfirst\u001b[49m\u001b[43m,\u001b[49m\n\u001b[1;32m   2404\u001b[0m \u001b[43m    \u001b[49m\u001b[43mcreso\u001b[49m\u001b[38;5;241;43m=\u001b[39;49m\u001b[43mabbrev_to_npy_unit\u001b[49m\u001b[43m(\u001b[49m\u001b[43mout_unit\u001b[49m\u001b[43m)\u001b[49m\u001b[43m,\u001b[49m\n\u001b[1;32m   2405\u001b[0m \u001b[43m\u001b[49m\u001b[43m)\u001b[49m\n\u001b[1;32m   2407\u001b[0m \u001b[38;5;28;01mif\u001b[39;00m tz_parsed \u001b[38;5;129;01mis\u001b[39;00m \u001b[38;5;129;01mnot\u001b[39;00m \u001b[38;5;28;01mNone\u001b[39;00m:\n\u001b[1;32m   2408\u001b[0m     \u001b[38;5;66;03m# We can take a shortcut since the datetime64 numpy array\u001b[39;00m\n\u001b[1;32m   2409\u001b[0m     \u001b[38;5;66;03m#  is in UTC\u001b[39;00m\n\u001b[1;32m   2410\u001b[0m     \u001b[38;5;28;01mreturn\u001b[39;00m result, tz_parsed\n",
      "File \u001b[0;32mtslib.pyx:414\u001b[0m, in \u001b[0;36mpandas._libs.tslib.array_to_datetime\u001b[0;34m()\u001b[0m\n",
      "File \u001b[0;32mtslib.pyx:596\u001b[0m, in \u001b[0;36mpandas._libs.tslib.array_to_datetime\u001b[0;34m()\u001b[0m\n",
      "File \u001b[0;32mtslib.pyx:553\u001b[0m, in \u001b[0;36mpandas._libs.tslib.array_to_datetime\u001b[0;34m()\u001b[0m\n",
      "File \u001b[0;32mconversion.pyx:641\u001b[0m, in \u001b[0;36mpandas._libs.tslibs.conversion.convert_str_to_tsobject\u001b[0;34m()\u001b[0m\n",
      "File \u001b[0;32mparsing.pyx:336\u001b[0m, in \u001b[0;36mpandas._libs.tslibs.parsing.parse_datetime_string\u001b[0;34m()\u001b[0m\n",
      "File \u001b[0;32mparsing.pyx:666\u001b[0m, in \u001b[0;36mpandas._libs.tslibs.parsing.dateutil_parse\u001b[0;34m()\u001b[0m\n",
      "\u001b[0;31mDateParseError\u001b[0m: Unknown datetime string format, unable to parse: 2024-nan-01, at position 0"
     ]
    }
   ],
   "source": [
    "# Reshape to long format with product and month as separate columns\n",
    "df_monthly_long = df_monthly_wide.melt(\n",
    "    id_vars=['Store'],\n",
    "    var_name='Product_Month',\n",
    "    value_name='Sales'\n",
    ")\n",
    "\n",
    "# Split Product_Month into separate columns\n",
    "df_monthly_long[['Product', 'Month']] = df_monthly_long['Product_Month'].str.split('_', n=1, expand=True)\n",
    "df_monthly_long = df_monthly_long.drop(columns='Product_Month')\n",
    "\n",
    "# Create a proper date column\n",
    "month_map = {'Jan': 1, 'Feb': 2, 'Mar': 3, 'Apr': 4, 'May': 5, 'Jun': 6}\n",
    "df_monthly_long['Month_Num'] = df_monthly_long['Month'].map(month_map)\n",
    "df_monthly_long['Date'] = pd.to_datetime('2024-' + df_monthly_long['Month_Num'].astype(str) + '-01')\n",
    "\n",
    "df_monthly_long = df_monthly_long[['Store', 'Product', 'Date', 'Sales']].sort_values(['Store', 'Product', 'Date'])\n",
    "df_monthly_long.head(10)"
   ]
  },
  {
   "cell_type": "markdown",
   "id": "eed59782",
   "metadata": {},
   "source": [
    "## Pivot with Multiple Index/Columns\n",
    "\n",
    "Handling complex pivoting scenarios:"
   ]
  },
  {
   "cell_type": "code",
   "execution_count": 17,
   "id": "6ab9a4ff",
   "metadata": {},
   "outputs": [
    {
     "data": {
      "application/vnd.microsoft.datawrangler.viewer.v0+json": {
       "columns": [
        {
         "name": "('region', 'product')",
         "rawType": "object",
         "type": "unknown"
        },
        {
         "name": "('cost', 2023, 'Q1')",
         "rawType": "int64",
         "type": "integer"
        },
        {
         "name": "('cost', 2023, 'Q2')",
         "rawType": "int64",
         "type": "integer"
        },
        {
         "name": "('cost', 2024, 'Q1')",
         "rawType": "int64",
         "type": "integer"
        },
        {
         "name": "('cost', 2024, 'Q2')",
         "rawType": "int64",
         "type": "integer"
        },
        {
         "name": "('revenue', 2023, 'Q1')",
         "rawType": "int64",
         "type": "integer"
        },
        {
         "name": "('revenue', 2023, 'Q2')",
         "rawType": "int64",
         "type": "integer"
        },
        {
         "name": "('revenue', 2024, 'Q1')",
         "rawType": "int64",
         "type": "integer"
        },
        {
         "name": "('revenue', 2024, 'Q2')",
         "rawType": "int64",
         "type": "integer"
        }
       ],
       "ref": "3ca14dfb-9449-470e-820c-a60e62486074",
       "rows": [
        [
         "('East', 'A')",
         "60",
         "70",
         "80",
         "90",
         "100",
         "120",
         "140",
         "160"
        ],
        [
         "('West', 'A')",
         "65",
         "75",
         "85",
         "95",
         "110",
         "130",
         "150",
         "170"
        ]
       ],
       "shape": {
        "columns": 8,
        "rows": 2
       }
      },
      "text/html": [
       "<div>\n",
       "<style scoped>\n",
       "    .dataframe tbody tr th:only-of-type {\n",
       "        vertical-align: middle;\n",
       "    }\n",
       "\n",
       "    .dataframe tbody tr th {\n",
       "        vertical-align: top;\n",
       "    }\n",
       "\n",
       "    .dataframe thead tr th {\n",
       "        text-align: left;\n",
       "    }\n",
       "\n",
       "    .dataframe thead tr:last-of-type th {\n",
       "        text-align: right;\n",
       "    }\n",
       "</style>\n",
       "<table border=\"1\" class=\"dataframe\">\n",
       "  <thead>\n",
       "    <tr>\n",
       "      <th></th>\n",
       "      <th></th>\n",
       "      <th colspan=\"4\" halign=\"left\">cost</th>\n",
       "      <th colspan=\"4\" halign=\"left\">revenue</th>\n",
       "    </tr>\n",
       "    <tr>\n",
       "      <th></th>\n",
       "      <th>year</th>\n",
       "      <th colspan=\"2\" halign=\"left\">2023</th>\n",
       "      <th colspan=\"2\" halign=\"left\">2024</th>\n",
       "      <th colspan=\"2\" halign=\"left\">2023</th>\n",
       "      <th colspan=\"2\" halign=\"left\">2024</th>\n",
       "    </tr>\n",
       "    <tr>\n",
       "      <th></th>\n",
       "      <th>quarter</th>\n",
       "      <th>Q1</th>\n",
       "      <th>Q2</th>\n",
       "      <th>Q1</th>\n",
       "      <th>Q2</th>\n",
       "      <th>Q1</th>\n",
       "      <th>Q2</th>\n",
       "      <th>Q1</th>\n",
       "      <th>Q2</th>\n",
       "    </tr>\n",
       "    <tr>\n",
       "      <th>region</th>\n",
       "      <th>product</th>\n",
       "      <th></th>\n",
       "      <th></th>\n",
       "      <th></th>\n",
       "      <th></th>\n",
       "      <th></th>\n",
       "      <th></th>\n",
       "      <th></th>\n",
       "      <th></th>\n",
       "    </tr>\n",
       "  </thead>\n",
       "  <tbody>\n",
       "    <tr>\n",
       "      <th>East</th>\n",
       "      <th>A</th>\n",
       "      <td>60</td>\n",
       "      <td>70</td>\n",
       "      <td>80</td>\n",
       "      <td>90</td>\n",
       "      <td>100</td>\n",
       "      <td>120</td>\n",
       "      <td>140</td>\n",
       "      <td>160</td>\n",
       "    </tr>\n",
       "    <tr>\n",
       "      <th>West</th>\n",
       "      <th>A</th>\n",
       "      <td>65</td>\n",
       "      <td>75</td>\n",
       "      <td>85</td>\n",
       "      <td>95</td>\n",
       "      <td>110</td>\n",
       "      <td>130</td>\n",
       "      <td>150</td>\n",
       "      <td>170</td>\n",
       "    </tr>\n",
       "  </tbody>\n",
       "</table>\n",
       "</div>"
      ],
      "text/plain": [
       "               cost              revenue               \n",
       "year           2023     2024        2023      2024     \n",
       "quarter          Q1  Q2   Q1  Q2      Q1   Q2   Q1   Q2\n",
       "region product                                         \n",
       "East   A         60  70   80  90     100  120  140  160\n",
       "West   A         65  75   85  95     110  130  150  170"
      ]
     },
     "execution_count": 17,
     "metadata": {},
     "output_type": "execute_result"
    }
   ],
   "source": [
    "# Create hierarchical data\n",
    "df_hierarchical = pd.DataFrame({\n",
    "    'year': [2023, 2023, 2023, 2023, 2024, 2024, 2024, 2024],\n",
    "    'quarter': ['Q1', 'Q1', 'Q2', 'Q2', 'Q1', 'Q1', 'Q2', 'Q2'],\n",
    "    'region': ['East', 'West', 'East', 'West', 'East', 'West', 'East', 'West'],\n",
    "    'product': ['A', 'A', 'A', 'A', 'A', 'A', 'A', 'A'],\n",
    "    'revenue': [100, 110, 120, 130, 140, 150, 160, 170],\n",
    "    'cost': [60, 65, 70, 75, 80, 85, 90, 95]\n",
    "})\n",
    "\n",
    "# Pivot with multiple index and columns\n",
    "pivot_hierarchical = df_hierarchical.pivot_table(\n",
    "    index=['region', 'product'],\n",
    "    columns=['year', 'quarter'],\n",
    "    values=['revenue', 'cost'],\n",
    "    aggfunc='sum'\n",
    ")\n",
    "pivot_hierarchical"
   ]
  },
  {
   "cell_type": "code",
   "execution_count": 18,
   "id": "d639338b",
   "metadata": {},
   "outputs": [
    {
     "data": {
      "application/vnd.microsoft.datawrangler.viewer.v0+json": {
       "columns": [
        {
         "name": "index",
         "rawType": "int64",
         "type": "integer"
        },
        {
         "name": "region",
         "rawType": "object",
         "type": "string"
        },
        {
         "name": "product",
         "rawType": "object",
         "type": "string"
        },
        {
         "name": "cost_2023_Q1",
         "rawType": "int64",
         "type": "integer"
        },
        {
         "name": "cost_2023_Q2",
         "rawType": "int64",
         "type": "integer"
        },
        {
         "name": "cost_2024_Q1",
         "rawType": "int64",
         "type": "integer"
        },
        {
         "name": "cost_2024_Q2",
         "rawType": "int64",
         "type": "integer"
        },
        {
         "name": "revenue_2023_Q1",
         "rawType": "int64",
         "type": "integer"
        },
        {
         "name": "revenue_2023_Q2",
         "rawType": "int64",
         "type": "integer"
        },
        {
         "name": "revenue_2024_Q1",
         "rawType": "int64",
         "type": "integer"
        },
        {
         "name": "revenue_2024_Q2",
         "rawType": "int64",
         "type": "integer"
        }
       ],
       "ref": "dbeb5e03-ff75-4790-b754-c28d54e59fb1",
       "rows": [
        [
         "0",
         "East",
         "A",
         "60",
         "70",
         "80",
         "90",
         "100",
         "120",
         "140",
         "160"
        ],
        [
         "1",
         "West",
         "A",
         "65",
         "75",
         "85",
         "95",
         "110",
         "130",
         "150",
         "170"
        ]
       ],
       "shape": {
        "columns": 10,
        "rows": 2
       }
      },
      "text/html": [
       "<div>\n",
       "<style scoped>\n",
       "    .dataframe tbody tr th:only-of-type {\n",
       "        vertical-align: middle;\n",
       "    }\n",
       "\n",
       "    .dataframe tbody tr th {\n",
       "        vertical-align: top;\n",
       "    }\n",
       "\n",
       "    .dataframe thead th {\n",
       "        text-align: right;\n",
       "    }\n",
       "</style>\n",
       "<table border=\"1\" class=\"dataframe\">\n",
       "  <thead>\n",
       "    <tr style=\"text-align: right;\">\n",
       "      <th></th>\n",
       "      <th>region</th>\n",
       "      <th>product</th>\n",
       "      <th>cost_2023_Q1</th>\n",
       "      <th>cost_2023_Q2</th>\n",
       "      <th>cost_2024_Q1</th>\n",
       "      <th>cost_2024_Q2</th>\n",
       "      <th>revenue_2023_Q1</th>\n",
       "      <th>revenue_2023_Q2</th>\n",
       "      <th>revenue_2024_Q1</th>\n",
       "      <th>revenue_2024_Q2</th>\n",
       "    </tr>\n",
       "  </thead>\n",
       "  <tbody>\n",
       "    <tr>\n",
       "      <th>0</th>\n",
       "      <td>East</td>\n",
       "      <td>A</td>\n",
       "      <td>60</td>\n",
       "      <td>70</td>\n",
       "      <td>80</td>\n",
       "      <td>90</td>\n",
       "      <td>100</td>\n",
       "      <td>120</td>\n",
       "      <td>140</td>\n",
       "      <td>160</td>\n",
       "    </tr>\n",
       "    <tr>\n",
       "      <th>1</th>\n",
       "      <td>West</td>\n",
       "      <td>A</td>\n",
       "      <td>65</td>\n",
       "      <td>75</td>\n",
       "      <td>85</td>\n",
       "      <td>95</td>\n",
       "      <td>110</td>\n",
       "      <td>130</td>\n",
       "      <td>150</td>\n",
       "      <td>170</td>\n",
       "    </tr>\n",
       "  </tbody>\n",
       "</table>\n",
       "</div>"
      ],
      "text/plain": [
       "  region product  cost_2023_Q1  cost_2023_Q2  cost_2024_Q1  cost_2024_Q2  \\\n",
       "0   East       A            60            70            80            90   \n",
       "1   West       A            65            75            85            95   \n",
       "\n",
       "   revenue_2023_Q1  revenue_2023_Q2  revenue_2024_Q1  revenue_2024_Q2  \n",
       "0              100              120              140              160  \n",
       "1              110              130              150              170  "
      ]
     },
     "execution_count": 18,
     "metadata": {},
     "output_type": "execute_result"
    }
   ],
   "source": [
    "# Flatten multi-level columns\n",
    "pivot_hierarchical.columns = ['_'.join(map(str, col)).strip() for col in pivot_hierarchical.columns.values]\n",
    "pivot_hierarchical.reset_index()"
   ]
  },
  {
   "cell_type": "markdown",
   "id": "d5f14508",
   "metadata": {},
   "source": [
    "## Handling Edge Cases\n",
    "\n",
    "Dealing with common pivoting challenges:"
   ]
  },
  {
   "cell_type": "code",
   "execution_count": 19,
   "id": "1504d37d",
   "metadata": {},
   "outputs": [
    {
     "name": "stdout",
     "output_type": "stream",
     "text": [
      "Error: Index contains duplicate entries, cannot reshape\n"
     ]
    },
    {
     "data": {
      "application/vnd.microsoft.datawrangler.viewer.v0+json": {
       "columns": [
        {
         "name": "date",
         "rawType": "object",
         "type": "string"
        },
        {
         "name": "A",
         "rawType": "float64",
         "type": "float"
        },
        {
         "name": "B",
         "rawType": "float64",
         "type": "float"
        }
       ],
       "ref": "2e01b354-54c4-439a-bf8f-b8cd6ef16882",
       "rows": [
        [
         "2024-01-01",
         "150.0",
         null
        ],
        [
         "2024-01-02",
         null,
         "200.0"
        ]
       ],
       "shape": {
        "columns": 2,
        "rows": 2
       }
      },
      "text/html": [
       "<div>\n",
       "<style scoped>\n",
       "    .dataframe tbody tr th:only-of-type {\n",
       "        vertical-align: middle;\n",
       "    }\n",
       "\n",
       "    .dataframe tbody tr th {\n",
       "        vertical-align: top;\n",
       "    }\n",
       "\n",
       "    .dataframe thead th {\n",
       "        text-align: right;\n",
       "    }\n",
       "</style>\n",
       "<table border=\"1\" class=\"dataframe\">\n",
       "  <thead>\n",
       "    <tr style=\"text-align: right;\">\n",
       "      <th>product</th>\n",
       "      <th>A</th>\n",
       "      <th>B</th>\n",
       "    </tr>\n",
       "    <tr>\n",
       "      <th>date</th>\n",
       "      <th></th>\n",
       "      <th></th>\n",
       "    </tr>\n",
       "  </thead>\n",
       "  <tbody>\n",
       "    <tr>\n",
       "      <th>2024-01-01</th>\n",
       "      <td>150.0</td>\n",
       "      <td>NaN</td>\n",
       "    </tr>\n",
       "    <tr>\n",
       "      <th>2024-01-02</th>\n",
       "      <td>NaN</td>\n",
       "      <td>200.0</td>\n",
       "    </tr>\n",
       "  </tbody>\n",
       "</table>\n",
       "</div>"
      ],
      "text/plain": [
       "product         A      B\n",
       "date                    \n",
       "2024-01-01  150.0    NaN\n",
       "2024-01-02    NaN  200.0"
      ]
     },
     "execution_count": 19,
     "metadata": {},
     "output_type": "execute_result"
    }
   ],
   "source": [
    "# Duplicate entries\n",
    "df_duplicates = pd.DataFrame({\n",
    "    'date': ['2024-01-01', '2024-01-01', '2024-01-02'],\n",
    "    'product': ['A', 'A', 'B'],\n",
    "    'sales': [100, 50, 200]  # Two entries for product A on same date\n",
    "})\n",
    "\n",
    "# pivot() will fail with duplicates\n",
    "try:\n",
    "    df_duplicates.pivot(index='date', columns='product', values='sales')\n",
    "except ValueError as e:\n",
    "    print(f\"Error: {e}\")\n",
    "    \n",
    "# Use pivot_table() instead\n",
    "df_duplicates.pivot_table(\n",
    "    index='date', \n",
    "    columns='product', \n",
    "    values='sales', \n",
    "    aggfunc='sum'  # Aggregate duplicates\n",
    ")"
   ]
  },
  {
   "cell_type": "code",
   "execution_count": 20,
   "id": "5f4b4dc8",
   "metadata": {},
   "outputs": [
    {
     "data": {
      "application/vnd.microsoft.datawrangler.viewer.v0+json": {
       "columns": [
        {
         "name": "store",
         "rawType": "object",
         "type": "string"
        },
        {
         "name": "X",
         "rawType": "float64",
         "type": "float"
        },
        {
         "name": "Y",
         "rawType": "float64",
         "type": "float"
        }
       ],
       "ref": "36a0369d-5c77-425d-a630-8e745852f319",
       "rows": [
        [
         "A",
         "100.0",
         "150.0"
        ],
        [
         "B",
         "120.0",
         "0.0"
        ]
       ],
       "shape": {
        "columns": 2,
        "rows": 2
       }
      },
      "text/html": [
       "<div>\n",
       "<style scoped>\n",
       "    .dataframe tbody tr th:only-of-type {\n",
       "        vertical-align: middle;\n",
       "    }\n",
       "\n",
       "    .dataframe tbody tr th {\n",
       "        vertical-align: top;\n",
       "    }\n",
       "\n",
       "    .dataframe thead th {\n",
       "        text-align: right;\n",
       "    }\n",
       "</style>\n",
       "<table border=\"1\" class=\"dataframe\">\n",
       "  <thead>\n",
       "    <tr style=\"text-align: right;\">\n",
       "      <th>product</th>\n",
       "      <th>X</th>\n",
       "      <th>Y</th>\n",
       "    </tr>\n",
       "    <tr>\n",
       "      <th>store</th>\n",
       "      <th></th>\n",
       "      <th></th>\n",
       "    </tr>\n",
       "  </thead>\n",
       "  <tbody>\n",
       "    <tr>\n",
       "      <th>A</th>\n",
       "      <td>100.0</td>\n",
       "      <td>150.0</td>\n",
       "    </tr>\n",
       "    <tr>\n",
       "      <th>B</th>\n",
       "      <td>120.0</td>\n",
       "      <td>0.0</td>\n",
       "    </tr>\n",
       "  </tbody>\n",
       "</table>\n",
       "</div>"
      ],
      "text/plain": [
       "product      X      Y\n",
       "store                \n",
       "A        100.0  150.0\n",
       "B        120.0    0.0"
      ]
     },
     "execution_count": 20,
     "metadata": {},
     "output_type": "execute_result"
    }
   ],
   "source": [
    "# Missing combinations\n",
    "df_sparse = pd.DataFrame({\n",
    "    'store': ['A', 'A', 'B'],  # Store B missing product Y\n",
    "    'product': ['X', 'Y', 'X'],\n",
    "    'sales': [100, 150, 120]\n",
    "})\n",
    "\n",
    "# Pivot with fill_value for missing combinations\n",
    "df_sparse.pivot_table(\n",
    "    index='store',\n",
    "    columns='product',\n",
    "    values='sales',\n",
    "    fill_value=0  # Fill missing with 0\n",
    ")"
   ]
  },
  {
   "cell_type": "markdown",
   "id": "f6dd5460",
   "metadata": {},
   "source": [
    "## Creating Tidyverse-Style Helper Functions\n",
    "\n",
    "Make pivoting more tidyr-like:"
   ]
  },
  {
   "cell_type": "code",
   "execution_count": 21,
   "id": "f20bfcc2",
   "metadata": {},
   "outputs": [
    {
     "data": {
      "application/vnd.microsoft.datawrangler.viewer.v0+json": {
       "columns": [
        {
         "name": "index",
         "rawType": "int64",
         "type": "integer"
        },
        {
         "name": "id",
         "rawType": "int64",
         "type": "integer"
        },
        {
         "name": "height",
         "rawType": "int64",
         "type": "integer"
        },
        {
         "name": "weight",
         "rawType": "int64",
         "type": "integer"
        }
       ],
       "ref": "ffb9841b-fd7e-4c31-b595-6cc716acf5d9",
       "rows": [
        [
         "0",
         "1",
         "180",
         "75"
        ],
        [
         "1",
         "2",
         "165",
         "60"
        ]
       ],
       "shape": {
        "columns": 3,
        "rows": 2
       }
      },
      "text/html": [
       "<div>\n",
       "<style scoped>\n",
       "    .dataframe tbody tr th:only-of-type {\n",
       "        vertical-align: middle;\n",
       "    }\n",
       "\n",
       "    .dataframe tbody tr th {\n",
       "        vertical-align: top;\n",
       "    }\n",
       "\n",
       "    .dataframe thead th {\n",
       "        text-align: right;\n",
       "    }\n",
       "</style>\n",
       "<table border=\"1\" class=\"dataframe\">\n",
       "  <thead>\n",
       "    <tr style=\"text-align: right;\">\n",
       "      <th>measurement</th>\n",
       "      <th>id</th>\n",
       "      <th>height</th>\n",
       "      <th>weight</th>\n",
       "    </tr>\n",
       "  </thead>\n",
       "  <tbody>\n",
       "    <tr>\n",
       "      <th>0</th>\n",
       "      <td>1</td>\n",
       "      <td>180</td>\n",
       "      <td>75</td>\n",
       "    </tr>\n",
       "    <tr>\n",
       "      <th>1</th>\n",
       "      <td>2</td>\n",
       "      <td>165</td>\n",
       "      <td>60</td>\n",
       "    </tr>\n",
       "  </tbody>\n",
       "</table>\n",
       "</div>"
      ],
      "text/plain": [
       "measurement  id  height  weight\n",
       "0             1     180      75\n",
       "1             2     165      60"
      ]
     },
     "execution_count": 21,
     "metadata": {},
     "output_type": "execute_result"
    }
   ],
   "source": [
    "def pivot_longer(df, cols, names_to='name', values_to='value', id_vars=None):\n",
    "    \"\"\"Mimics tidyr's pivot_longer\"\"\"\n",
    "    if id_vars is None:\n",
    "        id_vars = [col for col in df.columns if col not in cols]\n",
    "    \n",
    "    return df.melt(\n",
    "        id_vars=id_vars,\n",
    "        value_vars=cols,\n",
    "        var_name=names_to,\n",
    "        value_name=values_to\n",
    "    )\n",
    "\n",
    "def pivot_wider(df, names_from, values_from, id_cols=None):\n",
    "    \"\"\"Mimics tidyr's pivot_wider\"\"\"\n",
    "    if id_cols is None:\n",
    "        id_cols = [col for col in df.columns if col not in [names_from, values_from]]\n",
    "    \n",
    "    return df.pivot(\n",
    "        index=id_cols,\n",
    "        columns=names_from,\n",
    "        values=values_from\n",
    "    ).reset_index()\n",
    "\n",
    "# Usage examples\n",
    "df_test = pd.DataFrame({\n",
    "    'id': [1, 1, 2, 2],\n",
    "    'measurement': ['height', 'weight', 'height', 'weight'],\n",
    "    'value': [180, 75, 165, 60]\n",
    "})\n",
    "\n",
    "# R: pivot_wider(df, names_from = measurement, values_from = value)\n",
    "pivot_wider(df_test, names_from='measurement', values_from='value')"
   ]
  },
  {
   "cell_type": "markdown",
   "id": "ccc42c3d",
   "metadata": {},
   "source": [
    "## Performance Considerations\n",
    "\n",
    "Efficient pivoting strategies:"
   ]
  },
  {
   "cell_type": "code",
   "execution_count": 22,
   "id": "e9164757",
   "metadata": {},
   "outputs": [
    {
     "name": "stdout",
     "output_type": "stream",
     "text": [
      "pivot(): 0.0028 seconds\n",
      "pivot_table(): 0.0035 seconds\n",
      "unstack(): 0.0013 seconds\n"
     ]
    }
   ],
   "source": [
    "# Create large dataset\n",
    "np.random.seed(42)\n",
    "large_df = pd.DataFrame({\n",
    "    'id': np.repeat(range(1000), 12),\n",
    "    'month': np.tile(range(1, 13), 1000),\n",
    "    'value': np.random.randn(12000)\n",
    "})\n",
    "\n",
    "import time\n",
    "\n",
    "# Method 1: pivot()\n",
    "start = time.time()\n",
    "pivoted1 = large_df.pivot(index='id', columns='month', values='value')\n",
    "print(f\"pivot(): {time.time() - start:.4f} seconds\")\n",
    "\n",
    "# Method 2: pivot_table()\n",
    "start = time.time()\n",
    "pivoted2 = large_df.pivot_table(index='id', columns='month', values='value', aggfunc='mean')\n",
    "print(f\"pivot_table(): {time.time() - start:.4f} seconds\")\n",
    "\n",
    "# Method 3: unstack()\n",
    "start = time.time()\n",
    "pivoted3 = large_df.set_index(['id', 'month'])['value'].unstack()\n",
    "print(f\"unstack(): {time.time() - start:.4f} seconds\")"
   ]
  }
 ],
 "metadata": {
  "kernelspec": {
   "display_name": "ds-env",
   "language": "python",
   "name": "python3"
  },
  "language_info": {
   "codemirror_mode": {
    "name": "ipython",
    "version": 3
   },
   "file_extension": ".py",
   "mimetype": "text/x-python",
   "name": "python",
   "nbconvert_exporter": "python",
   "pygments_lexer": "ipython3",
   "version": "3.12.9"
  }
 },
 "nbformat": 4,
 "nbformat_minor": 5
}
