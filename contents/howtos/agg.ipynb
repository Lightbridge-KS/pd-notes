{
 "cells": [
  {
   "cell_type": "markdown",
   "id": "465b3439",
   "metadata": {},
   "source": [
    "# Aggregation & Counts\n",
    "\n",
    "## Count multiple\n",
    "\n",
    "::: {.callout-note appearance=\"simple\" collapse=\"false\"}\n",
    "How do I count the values occurrence in combination of columns?\n",
    ":::\n",
    "\n",
    "To **count the occurrences of unique combinations** of values across multiple columns in pandas, use the `.value_counts()` method with a list of columns, or use `.groupby()` + `.size()`.\n",
    "\n",
    "---\n",
    "\n",
    "### **1. Using `value_counts()`**\n",
    "\n",
    "Suppose you have:"
   ]
  },
  {
   "cell_type": "code",
   "execution_count": 1,
   "id": "439d5cae",
   "metadata": {},
   "outputs": [],
   "source": [
    "import pandas as pd\n",
    "\n",
    "df = pd.DataFrame({\n",
    "    'A': ['foo', 'bar', 'foo', 'bar', 'foo'],\n",
    "    'B': [1, 2, 1, 2, 1]\n",
    "})"
   ]
  },
  {
   "cell_type": "markdown",
   "id": "3b14d0cb",
   "metadata": {},
   "source": [
    "Count occurrences of each unique (A, B) pair:"
   ]
  },
  {
   "cell_type": "code",
   "execution_count": 2,
   "id": "a36e599f",
   "metadata": {},
   "outputs": [
    {
     "name": "stdout",
     "output_type": "stream",
     "text": [
      "A    B\n",
      "foo  1    3\n",
      "bar  2    2\n",
      "Name: count, dtype: int64\n"
     ]
    }
   ],
   "source": [
    "counts = df.value_counts(['A', 'B'])\n",
    "print(counts)"
   ]
  },
  {
   "cell_type": "markdown",
   "id": "40c74243",
   "metadata": {},
   "source": [
    "---\n",
    "\n",
    "### **2. Using `groupby()` and `size()`**"
   ]
  },
  {
   "cell_type": "code",
   "execution_count": 3,
   "id": "44fc92ae",
   "metadata": {},
   "outputs": [
    {
     "name": "stdout",
     "output_type": "stream",
     "text": [
      "A    B\n",
      "bar  2    2\n",
      "foo  1    3\n",
      "dtype: int64\n"
     ]
    }
   ],
   "source": [
    "counts = df.groupby(['A', 'B']).size()\n",
    "print(counts)"
   ]
  },
  {
   "cell_type": "markdown",
   "id": "c1b788db",
   "metadata": {},
   "source": [
    "You can also **reset index** to get a DataFrame:"
   ]
  },
  {
   "cell_type": "code",
   "execution_count": 4,
   "id": "6561ddba",
   "metadata": {},
   "outputs": [
    {
     "name": "stdout",
     "output_type": "stream",
     "text": [
      "     A  B  count\n",
      "0  bar  2      2\n",
      "1  foo  1      3\n"
     ]
    }
   ],
   "source": [
    "counts = df.groupby(['A', 'B']).size().reset_index(name='count')\n",
    "print(counts)"
   ]
  },
  {
   "cell_type": "markdown",
   "id": "869cfa2b",
   "metadata": {},
   "source": [
    "---\n",
    "\n",
    "#### **Summary Table**\n",
    "\n",
    "| Method                | Code Example                                     | Output Type         |\n",
    "| --------------------- | ------------------------------------------------ | ------------------- |\n",
    "| `.value_counts(cols)` | `df.value_counts(['A', 'B'])`                    | Series (MultiIndex) |\n",
    "| `.groupby().size()`   | `df.groupby(['A', 'B']).size()`                  | Series (MultiIndex) |\n",
    "| With reset\\_index     | `.groupby(...).size().reset_index(name='count')` | DataFrame           |\n",
    "\n",
    "---\n",
    "\n",
    "Let me know if you want an example with more columns or more complex data!\n",
    "\n",
    "## Multiple Agg\n",
    "\n",
    "::: {.callout-note appearance=\"simple\" collapse=\"false\"}\n",
    "How do I perform multiple aggregation with custom function (and also counts) on a grouped DF with multiple grouping columns?\n",
    ":::\n",
    "\n",
    "You can perform **multiple aggregations**—including custom functions and counts—on a grouped DataFrame by passing a dictionary to `.agg()` (or using named aggregations). Here's how:\n",
    "\n",
    "---\n",
    "\n",
    "### **Example DataFrame**"
   ]
  },
  {
   "cell_type": "code",
   "execution_count": 5,
   "id": "cf56ddec",
   "metadata": {},
   "outputs": [],
   "source": [
    "import pandas as pd\n",
    "import numpy as np\n",
    "\n",
    "df = pd.DataFrame({\n",
    "    'A': ['foo', 'foo', 'bar', 'bar', 'foo', 'bar'],\n",
    "    'B': ['one', 'one', 'one', 'two', 'two', 'two'],\n",
    "    'C': [1, 3, 5, 7, 9, 11],\n",
    "    'D': [2, 4, 6, 8, 10, 12]\n",
    "})"
   ]
  },
  {
   "cell_type": "markdown",
   "id": "a5865b3e",
   "metadata": {},
   "source": [
    "---\n",
    "\n",
    "### **1. Multiple Aggregations with Built-in and Custom Functions**\n",
    "\n",
    "Suppose you want to:\n",
    "\n",
    "* Get the mean and sum of column `C`\n",
    "* Count the number of rows (`count`)\n",
    "* Get a custom function (e.g., range: max-min) on column `D`"
   ]
  },
  {
   "cell_type": "code",
   "execution_count": 6,
   "id": "8e6f208f",
   "metadata": {},
   "outputs": [
    {
     "name": "stdout",
     "output_type": "stream",
     "text": [
      "         C_mean  C_sum  row_count  D_range\n",
      "A   B                                     \n",
      "bar one     5.0      5          1        0\n",
      "    two     9.0     18          2        4\n",
      "foo one     2.0      4          2        2\n",
      "    two     9.0      9          1        0\n"
     ]
    }
   ],
   "source": [
    "result = (\n",
    "    df.groupby(['A', 'B'])\n",
    "      .agg(\n",
    "          C_mean=('C', 'mean'),\n",
    "          C_sum=('C', 'sum'),\n",
    "          row_count=('C', 'count'),\n",
    "          D_range=('D', lambda x: x.max() - x.min())\n",
    "      )\n",
    ")\n",
    "print(result)"
   ]
  },
  {
   "cell_type": "markdown",
   "id": "4e991cf7",
   "metadata": {},
   "source": [
    "---\n",
    "\n",
    "### **2. Using Different Aggregations on Different Columns**\n",
    "\n",
    "If you want to apply different functions per column:"
   ]
  },
  {
   "cell_type": "code",
   "execution_count": 7,
   "id": "cb9e6741",
   "metadata": {},
   "outputs": [
    {
     "name": "stdout",
     "output_type": "stream",
     "text": [
      "           C                    D    \n",
      "        mean sum count <lambda_0> min\n",
      "A   B                                \n",
      "bar one  5.0   5     1          0   6\n",
      "    two  9.0  18     2          4   8\n",
      "foo one  2.0   4     2          2   2\n",
      "    two  9.0   9     1          0  10\n"
     ]
    }
   ],
   "source": [
    "result = (\n",
    "    df.groupby(['A', 'B'])\n",
    "      .agg({\n",
    "          'C': ['mean', 'sum', 'count'],\n",
    "          'D': [lambda x: x.max() - x.min(), 'min']\n",
    "      })\n",
    ")\n",
    "print(result)"
   ]
  },
  {
   "cell_type": "markdown",
   "id": "33a78eef",
   "metadata": {},
   "source": [
    "---\n",
    "\n",
    "### **Summary Table**\n",
    "\n",
    "| Task                    | Example Code                                              |\n",
    "| ----------------------- | --------------------------------------------------------- |\n",
    "| Built-in + custom agg   | `agg(C_mean=('C', 'mean'), D_range=('D', lambda x: ...))` |\n",
    "| Dict per column         | `agg({'C': ['mean', 'sum'], 'D': [lambda x: ...]})`       |\n",
    "| Count rows per group    | `'row_count': ('C', 'count')` or `'C': 'count'`           |\n",
    "| Named agg (recommended) | `agg(col1_funcname=('col1', func), ...)`                  |\n",
    "\n",
    "---\n",
    "\n",
    "**Tip:**\n",
    "You can always use any NumPy, pandas, or custom function as long as it accepts a Series.\n",
    "\n",
    "---\n",
    "\n",
    "Let me know if you need to do something even more specific, or want to see results for your own data!"
   ]
  }
 ],
 "metadata": {
  "kernelspec": {
   "display_name": "ds-env",
   "language": "python",
   "name": "python3"
  },
  "language_info": {
   "codemirror_mode": {
    "name": "ipython",
    "version": 3
   },
   "file_extension": ".py",
   "mimetype": "text/x-python",
   "name": "python",
   "nbconvert_exporter": "python",
   "pygments_lexer": "ipython3",
   "version": "3.12.9"
  }
 },
 "nbformat": 4,
 "nbformat_minor": 5
}
