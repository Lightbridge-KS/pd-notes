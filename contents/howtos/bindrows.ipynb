{
 "cells": [
  {
   "cell_type": "markdown",
   "id": "f0dae553",
   "metadata": {},
   "source": [
    "# Bind Rows\n",
    "\n",
    "## List of DFs\n",
    "\n",
    "::: {.callout-note appearance=\"simple\"}\n",
    "How do I row binding multiple data frames inside a list? \n",
    ":::\n",
    "\n",
    "You can **row bind** (concatenate vertically) multiple DataFrames in a list using `pd.concat()` in pandas.\n",
    "\n",
    "Here's the typical approach:"
   ]
  },
  {
   "cell_type": "code",
   "execution_count": null,
   "id": "921099fa",
   "metadata": {},
   "outputs": [],
   "source": [
    "import pandas as pd\n",
    "\n",
    "# Example: List of DataFrames\n",
    "df1 = pd.DataFrame({'A': [1, 2], 'B': [3, 4]})\n",
    "df2 = pd.DataFrame({'A': [5, 6], 'B': [7, 8]})\n",
    "dfs = [df1, df2]\n",
    "\n",
    "# Row-bind all DataFrames in the list\n",
    "result = pd.concat(dfs, axis=0, ignore_index=True)\n",
    "print(result)"
   ]
  },
  {
   "cell_type": "markdown",
   "id": "0e110e6c",
   "metadata": {},
   "source": [
    "**Output:**\n",
    "\n",
    "```\n",
    "   A  B\n",
    "0  1  3\n",
    "1  2  4\n",
    "2  5  7\n",
    "3  6  8\n",
    "```\n",
    "\n",
    "---\n",
    "\n",
    "**Key points:**\n",
    "\n",
    "* Use `axis=0` (default) to concatenate by rows.\n",
    "* `ignore_index=True` resets the index in the result.\n",
    "\n",
    "---\n",
    "\n",
    "## Dict of DFs\n",
    "\n",
    "::: {.callout-note appearance=\"simple\"}\n",
    "How do I row binding multiple data frames inside a dictionary, where the keys of dictionary become another index column?\n",
    ":::\n",
    "\n",
    "Great question! When you have a **dictionary of DataFrames** and want to row-bind them so that the dictionary keys become an index (or a new column), the best tool in pandas is [`pd.concat()`](https://pandas.pydata.org/docs/reference/api/pandas.concat.html) with the `keys` argument.\n",
    "\n",
    "### Example"
   ]
  },
  {
   "cell_type": "code",
   "execution_count": null,
   "id": "c075a658",
   "metadata": {},
   "outputs": [],
   "source": [
    "import pandas as pd\n",
    "\n",
    "# Example: dictionary of DataFrames\n",
    "dfs = {\n",
    "    'a': pd.DataFrame({'x': [1, 2], 'y': [3, 4]}),\n",
    "    'b': pd.DataFrame({'x': [5, 6], 'y': [7, 8]})\n",
    "}\n",
    "\n",
    "# Row-bind with keys as a new index level\n",
    "result = pd.concat(dfs, axis=0, names=['source'])\n",
    "print(result)"
   ]
  },
  {
   "cell_type": "markdown",
   "id": "37b11365",
   "metadata": {},
   "source": [
    "**Output:**\n",
    "\n",
    "```\n",
    "  source  x  y\n",
    "a      0  1  3\n",
    "       1  2  4\n",
    "b      0  5  7\n",
    "       1  6  8\n",
    "```\n",
    "\n",
    "Notice the outer index is now the dictionary keys (`'a'`, `'b'`).\n",
    "\n",
    "---\n",
    "\n",
    "### If you want the key as a **column** (not an index):"
   ]
  },
  {
   "cell_type": "code",
   "execution_count": null,
   "id": "d87e0a2f",
   "metadata": {},
   "outputs": [],
   "source": [
    "result = pd.concat(\n",
    "    dfs, axis=0, names=['source']\n",
    ").reset_index(level=0).reset_index(drop=True)\n",
    "print(result)"
   ]
  },
  {
   "cell_type": "markdown",
   "id": "cae57de1",
   "metadata": {},
   "source": [
    "**Output:**\n",
    "\n",
    "```\n",
    "  source  x  y\n",
    "0      a  1  3\n",
    "1      a  2  4\n",
    "2      b  5  7\n",
    "3      b  6  8\n",
    "```\n",
    "\n",
    "---\n",
    "\n",
    "## Summary Table\n",
    "\n",
    "| Approach                   | Result               | Code Example                          |\n",
    "| -------------------------- | -------------------- | ------------------------------------- |\n",
    "| `pd.concat(dfs, keys=...)` | Key becomes index    | `pd.concat(dfs, names=['source'])`    |\n",
    "| `reset_index(level=0)`     | Key becomes a column | `pd.concat(...).reset_index(level=0)` |\n",
    "\n",
    "---\n",
    "\n",
    "Let me know if you need a more complex example or want the R `bind_rows()` equivalent!"
   ]
  }
 ],
 "metadata": {
  "language_info": {
   "name": "python"
  }
 },
 "nbformat": 4,
 "nbformat_minor": 5
}
