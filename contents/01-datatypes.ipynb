{
 "cells": [
  {
   "cell_type": "markdown",
   "id": "45da1d2e",
   "metadata": {},
   "source": [
    "# Data Types\n",
    "\n",
    "When transitioning from R to pandas, understanding data types is crucial because pandas handles types differently than R. While R has a relatively simple type system with automatic coercion, pandas requires more explicit type management but offers finer control over memory usage and performance.\n"
   ]
  },
  {
   "cell_type": "code",
   "execution_count": 1,
   "id": "a7ba9125",
   "metadata": {},
   "outputs": [],
   "source": [
    "import pandas as pd\n",
    "import numpy as np"
   ]
  },
  {
   "cell_type": "markdown",
   "id": "31b4888c",
   "metadata": {},
   "source": [
    "## Overview"
   ]
  },
  {
   "cell_type": "markdown",
   "id": "42848383",
   "metadata": {},
   "source": [
    "\n",
    "\n",
    "| R_Type | Pandas_Type | NumPy_Type | Example |\n",
    "|--------|-------------|------------|---------|\n",
    "| numeric/double | float64 | np.float64 | 3.14 |\n",
    "| integer | int64 | np.int64 | 42 |\n",
    "| character | object/string | np.object_ | \"text\" |\n",
    "| factor | category | pd.Categorical | pd.Categorical() |\n",
    "| logical | bool | np.bool_ | True/False |\n",
    "| Date | datetime64[ns] | np.datetime64 | 2024-01-01 |\n",
    "| POSIXct/POSIXlt | datetime64[ns] | np.datetime64 | 2024-01-01 10:30:00 |\n",
    "| NA | NaN/NaT/None | np.nan/pd.NaT | Missing values |"
   ]
  },
  {
   "cell_type": "markdown",
   "id": "ddcfdc32",
   "metadata": {},
   "source": [
    "## Key Differences Summary\n",
    "\n",
    "Here's a quick reference table summarizing the main differences between R and pandas data types:\n",
    "\n",
    "| Aspect | R | Pandas |\n",
    "|--------|---|--------|\n",
    "| Numeric precision | `numeric` (double) only | `float16`, `float32`, `float64` |\n",
    "| Integer types | `integer` (32-bit) | `int8`, `int16`, `int32`, `int64` |\n",
    "| String handling | `character` | `object` or `string` dtype |\n",
    "| Categorical data | `factor` | `category` dtype |\n",
    "| Missing values | Universal `NA` | `np.nan`, `pd.NA`, `pd.NaT`, `None` |\n",
    "| Type coercion | Automatic | More explicit control |\n",
    "| Memory optimization | Limited options | Fine-grained control |"
   ]
  },
  {
   "cell_type": "markdown",
   "id": "baacbcaa",
   "metadata": {},
   "source": [
    "## Numeric Types"
   ]
  },
  {
   "cell_type": "code",
   "execution_count": 2,
   "id": "e10ed73f",
   "metadata": {},
   "outputs": [
    {
     "data": {
      "text/plain": [
       "dtype('float64')"
      ]
     },
     "execution_count": 2,
     "metadata": {},
     "output_type": "execute_result"
    }
   ],
   "source": [
    "# R numeric (double) equivalent\n",
    "float_series = pd.Series([1.5, 2.7, 3.14])\n",
    "# Default float type\n",
    "float_series.dtype"
   ]
  },
  {
   "cell_type": "code",
   "execution_count": 3,
   "id": "bbdd46b4",
   "metadata": {},
   "outputs": [
    {
     "data": {
      "text/plain": [
       "dtype('int64')"
      ]
     },
     "execution_count": 3,
     "metadata": {},
     "output_type": "execute_result"
    }
   ],
   "source": [
    "# R integer equivalent  \n",
    "int_series = pd.Series([1, 2, 3])\n",
    "int_series.dtype"
   ]
  },
  {
   "cell_type": "code",
   "execution_count": 4,
   "id": "9e1ebbe6",
   "metadata": {},
   "outputs": [],
   "source": [
    "# Pandas allows explicit type control for memory efficiency\n",
    "int8_series = pd.Series([1, 2, 3], dtype='int8')  # Uses less memory\n",
    "float32_series = pd.Series([1.5, 2.7, 3.14], dtype='float32')"
   ]
  },
  {
   "cell_type": "markdown",
   "id": "0839f04e",
   "metadata": {},
   "source": [
    "One key difference from R is that pandas maintains integer types when possible, while R often coerces to numeric:"
   ]
  },
  {
   "cell_type": "code",
   "execution_count": 5,
   "id": "f266b98d",
   "metadata": {},
   "outputs": [
    {
     "name": "stdout",
     "output_type": "stream",
     "text": [
      "Division result type: float64\n",
      "Integer division type: int64\n"
     ]
    }
   ],
   "source": [
    "# In R: c(1, 2, 3) / 2 would give numeric\n",
    "# In pandas, we need explicit conversion\n",
    "r_style = pd.Series([1, 2, 3])\n",
    "result = r_style / 2\n",
    "print(f\"Division result type: {result.dtype}\")  # float64 - automatically converted\n",
    "\n",
    "# To maintain integer division when appropriate\n",
    "int_division = pd.Series([2, 4, 6]) // 2\n",
    "print(f\"Integer division type: {int_division.dtype}\")  # int64 - stays integer"
   ]
  },
  {
   "cell_type": "markdown",
   "id": "d7b0fa6a",
   "metadata": {},
   "source": [
    "## String Types\n",
    "\n",
    "R uses `character` type for text, while pandas traditionally used `object` dtype. However, pandas now offers a dedicated `string` dtype that's more efficient and explicit."
   ]
  },
  {
   "cell_type": "code",
   "execution_count": 9,
   "id": "fa834942",
   "metadata": {},
   "outputs": [
    {
     "data": {
      "text/plain": [
       "dtype('O')"
      ]
     },
     "execution_count": 9,
     "metadata": {},
     "output_type": "execute_result"
    }
   ],
   "source": [
    "# Traditional pandas way (like R's character)\n",
    "text_object = pd.Series(['apple', 'banana', 'cherry'])\n",
    "text_object.dtype "
   ]
  },
  {
   "cell_type": "code",
   "execution_count": 10,
   "id": "47c1fd4b",
   "metadata": {},
   "outputs": [
    {
     "data": {
      "text/plain": [
       "string[python]"
      ]
     },
     "execution_count": 10,
     "metadata": {},
     "output_type": "execute_result"
    }
   ],
   "source": [
    "# Modern pandas way (more explicit)\n",
    "text_string = pd.Series(['apple', 'banana', 'cherry'], dtype='string')\n",
    "text_string.dtype"
   ]
  },
  {
   "cell_type": "code",
   "execution_count": 13,
   "id": "39e8035b",
   "metadata": {},
   "outputs": [
    {
     "name": "stdout",
     "output_type": "stream",
     "text": [
      "0     apple\n",
      "1      <NA>\n",
      "2    cherry\n",
      "dtype: string\n"
     ]
    }
   ],
   "source": [
    "# Practical difference: string dtype handles NA better\n",
    "mixed_text = pd.Series(['apple', None, 'cherry'], dtype='string')\n",
    "print(mixed_text) "
   ]
  },
  {
   "cell_type": "markdown",
   "id": "3075aeac",
   "metadata": {},
   "source": [
    "## Categorical Data (Factors in R)\n",
    "\n",
    "R's `factor` type maps directly to pandas' `category` dtype. Both are used for efficient storage of repeated values and maintaining order in categorical variables."
   ]
  },
  {
   "cell_type": "code",
   "execution_count": 15,
   "id": "2e67f72a",
   "metadata": {},
   "outputs": [
    {
     "data": {
      "text/plain": [
       "['HS', 'BS', 'MS', 'BS', 'HS', 'PhD', 'MS']\n",
       "Categories (4, object): ['HS' < 'BS' < 'MS' < 'PhD']"
      ]
     },
     "execution_count": 15,
     "metadata": {},
     "output_type": "execute_result"
    }
   ],
   "source": [
    "# Creating categories (like R factors)\n",
    "categories = pd.Series([\"low\", \"medium\", \"high\", \"low\", \"high\"], dtype=\"category\")\n",
    "\n",
    "# Or convert existing series\n",
    "education = pd.Series([\"HS\", \"BS\", \"MS\", \"BS\", \"HS\", \"PhD\", \"MS\"])\n",
    "education_cat = education.astype(\"category\")\n",
    "\n",
    "# Ordered categories (like ordered factors in R)\n",
    "education_ordered = pd.Categorical(\n",
    "    education, \n",
    "    categories=[\"HS\", \"BS\", \"MS\", \"PhD\"], \n",
    "    ordered=True\n",
    ")\n",
    "\n",
    "education_ordered"
   ]
  },
  {
   "cell_type": "markdown",
   "id": "5dd6e197",
   "metadata": {},
   "source": [
    "## Boolean Types\n",
    "\n",
    "Boolean types work similarly in both languages, but pandas is more strict about boolean operations:"
   ]
  },
  {
   "cell_type": "code",
   "execution_count": 16,
   "id": "059a1b14",
   "metadata": {},
   "outputs": [
    {
     "data": {
      "text/plain": [
       "dtype('bool')"
      ]
     },
     "execution_count": 16,
     "metadata": {},
     "output_type": "execute_result"
    }
   ],
   "source": [
    "# R logical equivalent\n",
    "bool_series = pd.Series([True, False, True, False])\n",
    "bool_series.dtype"
   ]
  },
  {
   "cell_type": "code",
   "execution_count": 18,
   "id": "a66cfe44",
   "metadata": {},
   "outputs": [
    {
     "name": "stdout",
     "output_type": "stream",
     "text": [
      "2\n"
     ]
    }
   ],
   "source": [
    "# Important difference: pandas doesn't allow arithmetic on booleans\n",
    "# R: TRUE + TRUE gives 2\n",
    "# Pandas: need explicit conversion\n",
    "print(bool_series.astype(int).sum())  # Convert to int first"
   ]
  },
  {
   "cell_type": "code",
   "execution_count": 19,
   "id": "8cde6a46",
   "metadata": {},
   "outputs": [
    {
     "name": "stdout",
     "output_type": "stream",
     "text": [
      "0    1\n",
      "2    3\n",
      "dtype: int64\n"
     ]
    }
   ],
   "source": [
    "# Boolean indexing works the same\n",
    "data = pd.Series([1, 2, 3, 4])\n",
    "mask = pd.Series([True, False, True, False])\n",
    "print(data[mask])  # Works like R"
   ]
  },
  {
   "cell_type": "markdown",
   "id": "59e7a40b",
   "metadata": {},
   "source": [
    "## DateTime Types\n",
    "\n",
    "DateTime handling in pandas is more unified than R's separate Date and POSIXct/POSIXlt types:"
   ]
  },
  {
   "cell_type": "code",
   "execution_count": 20,
   "id": "feb09f8a",
   "metadata": {},
   "outputs": [
    {
     "data": {
      "text/plain": [
       "dtype('<M8[ns]')"
      ]
     },
     "execution_count": 20,
     "metadata": {},
     "output_type": "execute_result"
    }
   ],
   "source": [
    "# Date equivalent (R's Date class)\n",
    "dates = pd.to_datetime(['2024-01-01', '2024-02-01', '2024-03-01'])\n",
    "dates.dtype"
   ]
  },
  {
   "cell_type": "code",
   "execution_count": null,
   "id": "6f4aa99d",
   "metadata": {},
   "outputs": [
    {
     "data": {
      "text/plain": [
       "DatetimeIndex(['2024-01-01 10:30:00', '2024-01-01 14:45:30'], dtype='datetime64[ns]', freq=None)"
      ]
     },
     "execution_count": 21,
     "metadata": {},
     "output_type": "execute_result"
    }
   ],
   "source": [
    "# DateTime with time (R's POSIXct)\n",
    "timestamps = pd.to_datetime(['2024-01-01 10:30:00', '2024-01-01 14:45:30'])\n",
    "timestamps"
   ]
  },
  {
   "cell_type": "code",
   "execution_count": 23,
   "id": "f9eb244f",
   "metadata": {},
   "outputs": [
    {
     "data": {
      "application/vnd.microsoft.datawrangler.viewer.v0+json": {
       "columns": [
        {
         "name": "index",
         "rawType": "int64",
         "type": "integer"
        },
        {
         "name": "date",
         "rawType": "datetime64[ns]",
         "type": "datetime"
        },
        {
         "name": "year",
         "rawType": "int32",
         "type": "integer"
        },
        {
         "name": "month",
         "rawType": "int32",
         "type": "integer"
        },
        {
         "name": "day",
         "rawType": "int32",
         "type": "integer"
        }
       ],
       "ref": "4c6b461f-3036-4cf9-9aa2-a2b12a72c4d3",
       "rows": [
        [
         "0",
         "2024-01-01 00:00:00",
         "2024",
         "1",
         "1"
        ],
        [
         "1",
         "2024-02-01 00:00:00",
         "2024",
         "2",
         "1"
        ],
        [
         "2",
         "2024-03-01 00:00:00",
         "2024",
         "3",
         "1"
        ]
       ],
       "shape": {
        "columns": 4,
        "rows": 3
       }
      },
      "text/html": [
       "<div>\n",
       "<style scoped>\n",
       "    .dataframe tbody tr th:only-of-type {\n",
       "        vertical-align: middle;\n",
       "    }\n",
       "\n",
       "    .dataframe tbody tr th {\n",
       "        vertical-align: top;\n",
       "    }\n",
       "\n",
       "    .dataframe thead th {\n",
       "        text-align: right;\n",
       "    }\n",
       "</style>\n",
       "<table border=\"1\" class=\"dataframe\">\n",
       "  <thead>\n",
       "    <tr style=\"text-align: right;\">\n",
       "      <th></th>\n",
       "      <th>date</th>\n",
       "      <th>year</th>\n",
       "      <th>month</th>\n",
       "      <th>day</th>\n",
       "    </tr>\n",
       "  </thead>\n",
       "  <tbody>\n",
       "    <tr>\n",
       "      <th>0</th>\n",
       "      <td>2024-01-01</td>\n",
       "      <td>2024</td>\n",
       "      <td>1</td>\n",
       "      <td>1</td>\n",
       "    </tr>\n",
       "    <tr>\n",
       "      <th>1</th>\n",
       "      <td>2024-02-01</td>\n",
       "      <td>2024</td>\n",
       "      <td>2</td>\n",
       "      <td>1</td>\n",
       "    </tr>\n",
       "    <tr>\n",
       "      <th>2</th>\n",
       "      <td>2024-03-01</td>\n",
       "      <td>2024</td>\n",
       "      <td>3</td>\n",
       "      <td>1</td>\n",
       "    </tr>\n",
       "  </tbody>\n",
       "</table>\n",
       "</div>"
      ],
      "text/plain": [
       "        date  year  month  day\n",
       "0 2024-01-01  2024      1    1\n",
       "1 2024-02-01  2024      2    1\n",
       "2 2024-03-01  2024      3    1"
      ]
     },
     "execution_count": 23,
     "metadata": {},
     "output_type": "execute_result"
    }
   ],
   "source": [
    "# Extracting components (like lubridate)\n",
    "df_dates = pd.DataFrame({'date': dates})\n",
    "df_dates['year'] = df_dates['date'].dt.year\n",
    "df_dates['month'] = df_dates['date'].dt.month\n",
    "df_dates['day'] = df_dates['date'].dt.day\n",
    "df_dates"
   ]
  },
  {
   "cell_type": "markdown",
   "id": "a7575141",
   "metadata": {},
   "source": [
    "## Missing Values\n",
    "\n",
    "Perhaps the biggest adjustment from R is how pandas handles missing values. R uses `NA` universally, while pandas has different missing value representations for different types:"
   ]
  },
  {
   "cell_type": "code",
   "execution_count": 25,
   "id": "c573d6e4",
   "metadata": {},
   "outputs": [
    {
     "data": {
      "application/vnd.microsoft.datawrangler.viewer.v0+json": {
       "columns": [
        {
         "name": "index",
         "rawType": "int64",
         "type": "integer"
        },
        {
         "name": "float_col",
         "rawType": "float64",
         "type": "float"
        },
        {
         "name": "int_col",
         "rawType": "Int64",
         "type": "integer"
        },
        {
         "name": "string_col",
         "rawType": "string",
         "type": "string"
        },
        {
         "name": "datetime_col",
         "rawType": "datetime64[ns]",
         "type": "datetime"
        }
       ],
       "ref": "9cf0fd75-ee0b-4479-baed-954259f3c83a",
       "rows": [
        [
         "0",
         "1.5",
         "1",
         "a",
         "2024-01-01 00:00:00"
        ],
        [
         "1",
         null,
         null,
         null,
         null
        ],
        [
         "2",
         "3.5",
         "3",
         "c",
         "2024-01-03 00:00:00"
        ]
       ],
       "shape": {
        "columns": 4,
        "rows": 3
       }
      },
      "text/html": [
       "<div>\n",
       "<style scoped>\n",
       "    .dataframe tbody tr th:only-of-type {\n",
       "        vertical-align: middle;\n",
       "    }\n",
       "\n",
       "    .dataframe tbody tr th {\n",
       "        vertical-align: top;\n",
       "    }\n",
       "\n",
       "    .dataframe thead th {\n",
       "        text-align: right;\n",
       "    }\n",
       "</style>\n",
       "<table border=\"1\" class=\"dataframe\">\n",
       "  <thead>\n",
       "    <tr style=\"text-align: right;\">\n",
       "      <th></th>\n",
       "      <th>float_col</th>\n",
       "      <th>int_col</th>\n",
       "      <th>string_col</th>\n",
       "      <th>datetime_col</th>\n",
       "    </tr>\n",
       "  </thead>\n",
       "  <tbody>\n",
       "    <tr>\n",
       "      <th>0</th>\n",
       "      <td>1.5</td>\n",
       "      <td>1</td>\n",
       "      <td>a</td>\n",
       "      <td>2024-01-01</td>\n",
       "    </tr>\n",
       "    <tr>\n",
       "      <th>1</th>\n",
       "      <td>NaN</td>\n",
       "      <td>&lt;NA&gt;</td>\n",
       "      <td>&lt;NA&gt;</td>\n",
       "      <td>NaT</td>\n",
       "    </tr>\n",
       "    <tr>\n",
       "      <th>2</th>\n",
       "      <td>3.5</td>\n",
       "      <td>3</td>\n",
       "      <td>c</td>\n",
       "      <td>2024-01-03</td>\n",
       "    </tr>\n",
       "  </tbody>\n",
       "</table>\n",
       "</div>"
      ],
      "text/plain": [
       "   float_col  int_col string_col datetime_col\n",
       "0        1.5        1          a   2024-01-01\n",
       "1        NaN     <NA>       <NA>          NaT\n",
       "2        3.5        3          c   2024-01-03"
      ]
     },
     "execution_count": 25,
     "metadata": {},
     "output_type": "execute_result"
    }
   ],
   "source": [
    "# Different missing value types in pandas\n",
    "df_missing = pd.DataFrame({\n",
    "    'float_col': [1.5, np.nan, 3.5],  # np.nan for floats\n",
    "    'int_col': pd.array([1, pd.NA, 3], dtype='Int64'),  # pd.NA for nullable integers\n",
    "    'string_col': pd.array(['a', pd.NA, 'c'], dtype='string'),  # pd.NA for strings\n",
    "    'datetime_col': pd.to_datetime(['2024-01-01', pd.NaT, '2024-01-03'])  # pd.NaT for datetimes\n",
    "})\n",
    "\n",
    "df_missing"
   ]
  },
  {
   "cell_type": "code",
   "execution_count": 26,
   "id": "a9aae16f",
   "metadata": {},
   "outputs": [
    {
     "data": {
      "application/vnd.microsoft.datawrangler.viewer.v0+json": {
       "columns": [
        {
         "name": "index",
         "rawType": "object",
         "type": "string"
        },
        {
         "name": "0",
         "rawType": "object",
         "type": "unknown"
        }
       ],
       "ref": "85d8e7b1-0dec-44aa-a076-6b3e33a86610",
       "rows": [
        [
         "float_col",
         "float64"
        ],
        [
         "int_col",
         "Int64"
        ],
        [
         "string_col",
         "string"
        ],
        [
         "datetime_col",
         "datetime64[ns]"
        ]
       ],
       "shape": {
        "columns": 1,
        "rows": 4
       }
      },
      "text/plain": [
       "float_col              float64\n",
       "int_col                  Int64\n",
       "string_col      string[python]\n",
       "datetime_col    datetime64[ns]\n",
       "dtype: object"
      ]
     },
     "execution_count": 26,
     "metadata": {},
     "output_type": "execute_result"
    }
   ],
   "source": [
    "df_missing.dtypes"
   ]
  },
  {
   "cell_type": "markdown",
   "id": "a6e99298",
   "metadata": {},
   "source": [
    "## Type Conversion"
   ]
  },
  {
   "cell_type": "code",
   "execution_count": 27,
   "id": "24512a03",
   "metadata": {},
   "outputs": [
    {
     "data": {
      "application/vnd.microsoft.datawrangler.viewer.v0+json": {
       "columns": [
        {
         "name": "index",
         "rawType": "object",
         "type": "string"
        },
        {
         "name": "0",
         "rawType": "object",
         "type": "unknown"
        }
       ],
       "ref": "d820e149-2b6b-4cc6-903c-c30b57398f12",
       "rows": [
        [
         "numbers_as_text",
         "object"
        ],
        [
         "mixed_numbers",
         "float64"
        ],
        [
         "categories",
         "object"
        ],
        [
         "dates_as_text",
         "object"
        ]
       ],
       "shape": {
        "columns": 1,
        "rows": 4
       }
      },
      "text/plain": [
       "numbers_as_text     object\n",
       "mixed_numbers      float64\n",
       "categories          object\n",
       "dates_as_text       object\n",
       "dtype: object"
      ]
     },
     "execution_count": 27,
     "metadata": {},
     "output_type": "execute_result"
    }
   ],
   "source": [
    "# Create a sample DataFrame\n",
    "df = pd.DataFrame({\n",
    "    'numbers_as_text': ['1', '2', '3'],\n",
    "    'mixed_numbers': [1, 2.5, 3],\n",
    "    'categories': ['A', 'B', 'A'],\n",
    "    'dates_as_text': ['2024-01-01', '2024-02-01', '2024-03-01']\n",
    "})\n",
    "\n",
    "# Check initial types\n",
    "df.dtypes"
   ]
  },
  {
   "cell_type": "code",
   "execution_count": null,
   "id": "ce100df9",
   "metadata": {},
   "outputs": [
    {
     "data": {
      "application/vnd.microsoft.datawrangler.viewer.v0+json": {
       "columns": [
        {
         "name": "index",
         "rawType": "object",
         "type": "string"
        },
        {
         "name": "0",
         "rawType": "object",
         "type": "unknown"
        }
       ],
       "ref": "7581ff43-2c6b-425f-9fcb-672dbbae7b71",
       "rows": [
        [
         "numbers_as_text",
         "int64"
        ],
        [
         "mixed_numbers",
         "int64"
        ],
        [
         "categories",
         "category"
        ],
        [
         "dates_as_text",
         "datetime64[ns]"
        ]
       ],
       "shape": {
        "columns": 1,
        "rows": 4
       }
      },
      "text/plain": [
       "numbers_as_text             int64\n",
       "mixed_numbers               int64\n",
       "categories               category\n",
       "dates_as_text      datetime64[ns]\n",
       "dtype: object"
      ]
     },
     "execution_count": 29,
     "metadata": {},
     "output_type": "execute_result"
    }
   ],
   "source": [
    "# Convert types (like R's as.numeric, as.character, etc.)\n",
    "df['numbers_as_text'] = pd.to_numeric(df['numbers_as_text'])  # Like as.numeric()\n",
    "df['mixed_numbers'] = df['mixed_numbers'].astype('int64')  # Like as.integer()\n",
    "df['categories'] = df['categories'].astype('category')  # Like as.factor()\n",
    "df['dates_as_text'] = pd.to_datetime(df['dates_as_text'])  # Like as.Date()\n",
    "\n",
    "df.dtypes"
   ]
  },
  {
   "cell_type": "markdown",
   "id": "3b2b07b3",
   "metadata": {},
   "source": [
    "## Type Checking and `.info()`\n",
    "\n",
    "When working with data, you'll often need to inspect types:"
   ]
  },
  {
   "cell_type": "code",
   "execution_count": 31,
   "id": "81ef4696",
   "metadata": {},
   "outputs": [
    {
     "name": "stdout",
     "output_type": "stream",
     "text": [
      "<class 'pandas.core.frame.DataFrame'>\n",
      "RangeIndex: 3 entries, 0 to 2\n",
      "Data columns (total 6 columns):\n",
      " #   Column     Non-Null Count  Dtype         \n",
      "---  ------     --------------  -----         \n",
      " 0   id         3 non-null      int64         \n",
      " 1   name       3 non-null      object        \n",
      " 2   score      3 non-null      float64       \n",
      " 3   passed     3 non-null      bool          \n",
      " 4   grade      3 non-null      category      \n",
      " 5   test_date  3 non-null      datetime64[ns]\n",
      "dtypes: bool(1), category(1), datetime64[ns](1), float64(1), int64(1), object(1)\n",
      "memory usage: 358.0+ bytes\n"
     ]
    }
   ],
   "source": [
    "df_example = pd.DataFrame({\n",
    "    'id': [1, 2, 3],\n",
    "    'name': ['Alice', 'Bob', 'Charlie'],\n",
    "    'score': [95.5, 87.2, 91.8],\n",
    "    'passed': [True, True, False],\n",
    "    'grade': pd.Categorical(['A', 'B', 'A']),\n",
    "    'test_date': pd.to_datetime(['2024-01-15', '2024-01-16', '2024-01-17'])\n",
    "})\n",
    "\n",
    "df_example.info()"
   ]
  },
  {
   "cell_type": "markdown",
   "id": "905d265e",
   "metadata": {},
   "source": [
    "## Select columns by type\n",
    "\n",
    "Syntax: `df.select_dtypes`"
   ]
  },
  {
   "cell_type": "code",
   "execution_count": 32,
   "id": "9412e6c1",
   "metadata": {},
   "outputs": [
    {
     "data": {
      "text/plain": [
       "Index(['id', 'score'], dtype='object')"
      ]
     },
     "execution_count": 32,
     "metadata": {},
     "output_type": "execute_result"
    }
   ],
   "source": [
    "numeric_cols = df_example.select_dtypes(include=['number']).columns\n",
    "numeric_cols"
   ]
  },
  {
   "cell_type": "code",
   "execution_count": 34,
   "id": "4cdf4679",
   "metadata": {},
   "outputs": [
    {
     "data": {
      "application/vnd.microsoft.datawrangler.viewer.v0+json": {
       "columns": [
        {
         "name": "index",
         "rawType": "int64",
         "type": "integer"
        },
        {
         "name": "grade",
         "rawType": "category",
         "type": "unknown"
        }
       ],
       "ref": "28c441ec-77dd-46e5-9b66-cbbb8bf6a29f",
       "rows": [
        [
         "0",
         "A"
        ],
        [
         "1",
         "B"
        ],
        [
         "2",
         "A"
        ]
       ],
       "shape": {
        "columns": 1,
        "rows": 3
       }
      },
      "text/html": [
       "<div>\n",
       "<style scoped>\n",
       "    .dataframe tbody tr th:only-of-type {\n",
       "        vertical-align: middle;\n",
       "    }\n",
       "\n",
       "    .dataframe tbody tr th {\n",
       "        vertical-align: top;\n",
       "    }\n",
       "\n",
       "    .dataframe thead th {\n",
       "        text-align: right;\n",
       "    }\n",
       "</style>\n",
       "<table border=\"1\" class=\"dataframe\">\n",
       "  <thead>\n",
       "    <tr style=\"text-align: right;\">\n",
       "      <th></th>\n",
       "      <th>grade</th>\n",
       "    </tr>\n",
       "  </thead>\n",
       "  <tbody>\n",
       "    <tr>\n",
       "      <th>0</th>\n",
       "      <td>A</td>\n",
       "    </tr>\n",
       "    <tr>\n",
       "      <th>1</th>\n",
       "      <td>B</td>\n",
       "    </tr>\n",
       "    <tr>\n",
       "      <th>2</th>\n",
       "      <td>A</td>\n",
       "    </tr>\n",
       "  </tbody>\n",
       "</table>\n",
       "</div>"
      ],
      "text/plain": [
       "  grade\n",
       "0     A\n",
       "1     B\n",
       "2     A"
      ]
     },
     "execution_count": 34,
     "metadata": {},
     "output_type": "execute_result"
    }
   ],
   "source": [
    "df_example.select_dtypes(include=['category'])"
   ]
  },
  {
   "cell_type": "markdown",
   "id": "29bae9e2",
   "metadata": {},
   "source": [
    "## Memory Efficiency Considerations"
   ]
  },
  {
   "cell_type": "code",
   "execution_count": 35,
   "id": "9cf9e47e",
   "metadata": {},
   "outputs": [
    {
     "name": "stdout",
     "output_type": "stream",
     "text": [
      "Memory usage comparison:\n",
      "Inefficient: 462 bytes\n",
      "Efficient: 370 bytes\n"
     ]
    }
   ],
   "source": [
    "df_inefficient = pd.DataFrame({\n",
    "    'small_ints': [1, 2, 3, 4, 5],  # Default int64\n",
    "    'categories': ['A', 'B', 'A', 'B', 'A'],  # Object type\n",
    "    'small_floats': [0.1, 0.2, 0.3, 0.4, 0.5]  # Default float64\n",
    "})\n",
    "\n",
    "df_efficient = pd.DataFrame({\n",
    "    'small_ints': pd.array([1, 2, 3, 4, 5], dtype='int8'),\n",
    "    'categories': pd.Categorical(['A', 'B', 'A', 'B', 'A']),\n",
    "    'small_floats': pd.array([0.1, 0.2, 0.3, 0.4, 0.5], dtype='float32')\n",
    "})\n",
    "\n",
    "print(\"Memory usage comparison:\")\n",
    "print(f\"Inefficient: {df_inefficient.memory_usage(deep=True).sum()} bytes\")\n",
    "print(f\"Efficient: {df_efficient.memory_usage(deep=True).sum()} bytes\")"
   ]
  }
 ],
 "metadata": {
  "kernelspec": {
   "display_name": "ds-env",
   "language": "python",
   "name": "python3"
  },
  "language_info": {
   "codemirror_mode": {
    "name": "ipython",
    "version": 3
   },
   "file_extension": ".py",
   "mimetype": "text/x-python",
   "name": "python",
   "nbconvert_exporter": "python",
   "pygments_lexer": "ipython3",
   "version": "3.12.9"
  }
 },
 "nbformat": 4,
 "nbformat_minor": 5
}
