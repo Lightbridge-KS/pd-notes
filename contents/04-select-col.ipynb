{
 "cells": [
  {
   "cell_type": "markdown",
   "id": "32a62cad",
   "metadata": {},
   "source": [
    "# Selecting Columns\n",
    "\n",
    "Column selection is one of the most fundamental operations in data analysis. While R's `dplyr::select()` provides a clean, consistent interface for column selection, pandas offers multiple approaches that can be more flexible but also more confusing initially. This chapter will show you how to achieve tidyverse-style column selection in pandas."
   ]
  },
  {
   "cell_type": "code",
   "execution_count": 1,
   "id": "dea0689f",
   "metadata": {},
   "outputs": [],
   "source": [
    "import pandas as pd\n",
    "import numpy as np"
   ]
  },
  {
   "cell_type": "markdown",
   "id": "8ca00833",
   "metadata": {},
   "source": [
    "## Best Practices Summary\n",
    "\n",
    "Here's a quick reference for column selection patterns:\n",
    "\n",
    "| Task | R (dplyr) | Pandas |\n",
    "|------|-----------|--------|\n",
    "| Select columns | `select(df, col1, col2)` | `df[['col1', 'col2']]` |\n",
    "| Select range | `select(df, col1:col3)` | `df.loc[:, 'col1':'col3']` |\n",
    "| Contains pattern | `select(df, contains(\"test\"))` | `df.filter(like='test')` |\n",
    "| Starts with | `select(df, starts_with(\"test\"))` | `df.filter(regex='^test')` |\n",
    "| Ends with | `select(df, ends_with(\"test\"))` | `df.filter(regex='test$')` |\n",
    "| By type | `select(df, where(is.numeric))` | `df.select_dtypes(include='number')` |\n",
    "| Exclude columns | `select(df, -c(col1, col2))` | `df.drop(columns=['col1', 'col2'])` |\n",
    "| Reorder | `select(df, col2, col1, everything())` | `df[['col2', 'col1'] + other_cols]` |"
   ]
  },
  {
   "cell_type": "markdown",
   "id": "5dc4b792",
   "metadata": {},
   "source": [
    "## Basic Column Selection\n",
    "\n",
    "The simplest forms of column selection in pandas:"
   ]
  },
  {
   "cell_type": "code",
   "execution_count": 2,
   "id": "20f808ac",
   "metadata": {},
   "outputs": [
    {
     "data": {
      "application/vnd.microsoft.datawrangler.viewer.v0+json": {
       "columns": [
        {
         "name": "index",
         "rawType": "int64",
         "type": "integer"
        },
        {
         "name": "name",
         "rawType": "object",
         "type": "string"
        },
        {
         "name": "age",
         "rawType": "int64",
         "type": "integer"
        },
        {
         "name": "salary",
         "rawType": "int64",
         "type": "integer"
        },
        {
         "name": "department",
         "rawType": "object",
         "type": "string"
        },
        {
         "name": "years_experience",
         "rawType": "int64",
         "type": "integer"
        },
        {
         "name": "performance_rating",
         "rawType": "float64",
         "type": "float"
        }
       ],
       "ref": "2a145f6b-ff6f-4993-91aa-d21cfa736554",
       "rows": [
        [
         "0",
         "Alice",
         "25",
         "70000",
         "Sales",
         "2",
         "4.2"
        ],
        [
         "1",
         "Bob",
         "30",
         "80000",
         "IT",
         "5",
         "4.5"
        ],
        [
         "2",
         "Charlie",
         "35",
         "75000",
         "HR",
         "8",
         "3.8"
        ],
        [
         "3",
         "David",
         "28",
         "72000",
         "Sales",
         "3",
         "4.0"
        ],
        [
         "4",
         "Eve",
         "33",
         "85000",
         "IT",
         "7",
         "4.6"
        ]
       ],
       "shape": {
        "columns": 6,
        "rows": 5
       }
      },
      "text/html": [
       "<div>\n",
       "<style scoped>\n",
       "    .dataframe tbody tr th:only-of-type {\n",
       "        vertical-align: middle;\n",
       "    }\n",
       "\n",
       "    .dataframe tbody tr th {\n",
       "        vertical-align: top;\n",
       "    }\n",
       "\n",
       "    .dataframe thead th {\n",
       "        text-align: right;\n",
       "    }\n",
       "</style>\n",
       "<table border=\"1\" class=\"dataframe\">\n",
       "  <thead>\n",
       "    <tr style=\"text-align: right;\">\n",
       "      <th></th>\n",
       "      <th>name</th>\n",
       "      <th>age</th>\n",
       "      <th>salary</th>\n",
       "      <th>department</th>\n",
       "      <th>years_experience</th>\n",
       "      <th>performance_rating</th>\n",
       "    </tr>\n",
       "  </thead>\n",
       "  <tbody>\n",
       "    <tr>\n",
       "      <th>0</th>\n",
       "      <td>Alice</td>\n",
       "      <td>25</td>\n",
       "      <td>70000</td>\n",
       "      <td>Sales</td>\n",
       "      <td>2</td>\n",
       "      <td>4.2</td>\n",
       "    </tr>\n",
       "    <tr>\n",
       "      <th>1</th>\n",
       "      <td>Bob</td>\n",
       "      <td>30</td>\n",
       "      <td>80000</td>\n",
       "      <td>IT</td>\n",
       "      <td>5</td>\n",
       "      <td>4.5</td>\n",
       "    </tr>\n",
       "    <tr>\n",
       "      <th>2</th>\n",
       "      <td>Charlie</td>\n",
       "      <td>35</td>\n",
       "      <td>75000</td>\n",
       "      <td>HR</td>\n",
       "      <td>8</td>\n",
       "      <td>3.8</td>\n",
       "    </tr>\n",
       "    <tr>\n",
       "      <th>3</th>\n",
       "      <td>David</td>\n",
       "      <td>28</td>\n",
       "      <td>72000</td>\n",
       "      <td>Sales</td>\n",
       "      <td>3</td>\n",
       "      <td>4.0</td>\n",
       "    </tr>\n",
       "    <tr>\n",
       "      <th>4</th>\n",
       "      <td>Eve</td>\n",
       "      <td>33</td>\n",
       "      <td>85000</td>\n",
       "      <td>IT</td>\n",
       "      <td>7</td>\n",
       "      <td>4.6</td>\n",
       "    </tr>\n",
       "  </tbody>\n",
       "</table>\n",
       "</div>"
      ],
      "text/plain": [
       "      name  age  salary department  years_experience  performance_rating\n",
       "0    Alice   25   70000      Sales                 2                 4.2\n",
       "1      Bob   30   80000         IT                 5                 4.5\n",
       "2  Charlie   35   75000         HR                 8                 3.8\n",
       "3    David   28   72000      Sales                 3                 4.0\n",
       "4      Eve   33   85000         IT                 7                 4.6"
      ]
     },
     "execution_count": 2,
     "metadata": {},
     "output_type": "execute_result"
    }
   ],
   "source": [
    "# Create sample DataFrame\n",
    "df = pd.DataFrame({\n",
    "    'name': ['Alice', 'Bob', 'Charlie', 'David', 'Eve'],\n",
    "    'age': [25, 30, 35, 28, 33],\n",
    "    'salary': [70000, 80000, 75000, 72000, 85000],\n",
    "    'department': ['Sales', 'IT', 'HR', 'Sales', 'IT'],\n",
    "    'years_experience': [2, 5, 8, 3, 7],\n",
    "    'performance_rating': [4.2, 4.5, 3.8, 4.0, 4.6]\n",
    "})\n",
    "\n",
    "df"
   ]
  },
  {
   "cell_type": "markdown",
   "id": "80342886",
   "metadata": {},
   "source": [
    "### Single column selection (returns Series)"
   ]
  },
  {
   "cell_type": "code",
   "execution_count": 4,
   "id": "02083b67",
   "metadata": {},
   "outputs": [
    {
     "data": {
      "application/vnd.microsoft.datawrangler.viewer.v0+json": {
       "columns": [
        {
         "name": "index",
         "rawType": "int64",
         "type": "integer"
        },
        {
         "name": "name",
         "rawType": "object",
         "type": "string"
        }
       ],
       "ref": "2e111b02-c73c-4420-b092-888b11175fa9",
       "rows": [
        [
         "0",
         "Alice"
        ],
        [
         "1",
         "Bob"
        ],
        [
         "2",
         "Charlie"
        ],
        [
         "3",
         "David"
        ],
        [
         "4",
         "Eve"
        ]
       ],
       "shape": {
        "columns": 1,
        "rows": 5
       }
      },
      "text/plain": [
       "0      Alice\n",
       "1        Bob\n",
       "2    Charlie\n",
       "3      David\n",
       "4        Eve\n",
       "Name: name, dtype: object"
      ]
     },
     "execution_count": 4,
     "metadata": {},
     "output_type": "execute_result"
    }
   ],
   "source": [
    "# R: select(df, name) or df$name\n",
    "df['name']"
   ]
  },
  {
   "cell_type": "markdown",
   "id": "918cbfbf",
   "metadata": {},
   "source": [
    "### Multiple columns (returns DataFrame)"
   ]
  },
  {
   "cell_type": "code",
   "execution_count": 5,
   "id": "b4072100",
   "metadata": {},
   "outputs": [
    {
     "data": {
      "application/vnd.microsoft.datawrangler.viewer.v0+json": {
       "columns": [
        {
         "name": "index",
         "rawType": "int64",
         "type": "integer"
        },
        {
         "name": "name",
         "rawType": "object",
         "type": "string"
        },
        {
         "name": "age",
         "rawType": "int64",
         "type": "integer"
        },
        {
         "name": "salary",
         "rawType": "int64",
         "type": "integer"
        }
       ],
       "ref": "96c58bea-4c9e-4e96-b6b9-a11efc0b73ac",
       "rows": [
        [
         "0",
         "Alice",
         "25",
         "70000"
        ],
        [
         "1",
         "Bob",
         "30",
         "80000"
        ],
        [
         "2",
         "Charlie",
         "35",
         "75000"
        ],
        [
         "3",
         "David",
         "28",
         "72000"
        ],
        [
         "4",
         "Eve",
         "33",
         "85000"
        ]
       ],
       "shape": {
        "columns": 3,
        "rows": 5
       }
      },
      "text/html": [
       "<div>\n",
       "<style scoped>\n",
       "    .dataframe tbody tr th:only-of-type {\n",
       "        vertical-align: middle;\n",
       "    }\n",
       "\n",
       "    .dataframe tbody tr th {\n",
       "        vertical-align: top;\n",
       "    }\n",
       "\n",
       "    .dataframe thead th {\n",
       "        text-align: right;\n",
       "    }\n",
       "</style>\n",
       "<table border=\"1\" class=\"dataframe\">\n",
       "  <thead>\n",
       "    <tr style=\"text-align: right;\">\n",
       "      <th></th>\n",
       "      <th>name</th>\n",
       "      <th>age</th>\n",
       "      <th>salary</th>\n",
       "    </tr>\n",
       "  </thead>\n",
       "  <tbody>\n",
       "    <tr>\n",
       "      <th>0</th>\n",
       "      <td>Alice</td>\n",
       "      <td>25</td>\n",
       "      <td>70000</td>\n",
       "    </tr>\n",
       "    <tr>\n",
       "      <th>1</th>\n",
       "      <td>Bob</td>\n",
       "      <td>30</td>\n",
       "      <td>80000</td>\n",
       "    </tr>\n",
       "    <tr>\n",
       "      <th>2</th>\n",
       "      <td>Charlie</td>\n",
       "      <td>35</td>\n",
       "      <td>75000</td>\n",
       "    </tr>\n",
       "    <tr>\n",
       "      <th>3</th>\n",
       "      <td>David</td>\n",
       "      <td>28</td>\n",
       "      <td>72000</td>\n",
       "    </tr>\n",
       "    <tr>\n",
       "      <th>4</th>\n",
       "      <td>Eve</td>\n",
       "      <td>33</td>\n",
       "      <td>85000</td>\n",
       "    </tr>\n",
       "  </tbody>\n",
       "</table>\n",
       "</div>"
      ],
      "text/plain": [
       "      name  age  salary\n",
       "0    Alice   25   70000\n",
       "1      Bob   30   80000\n",
       "2  Charlie   35   75000\n",
       "3    David   28   72000\n",
       "4      Eve   33   85000"
      ]
     },
     "execution_count": 5,
     "metadata": {},
     "output_type": "execute_result"
    }
   ],
   "source": [
    "# R: select(df, name, age, salary)\n",
    "df[['name', 'age', 'salary']]"
   ]
  },
  {
   "cell_type": "code",
   "execution_count": 6,
   "id": "0cc5ff78",
   "metadata": {},
   "outputs": [
    {
     "data": {
      "application/vnd.microsoft.datawrangler.viewer.v0+json": {
       "columns": [
        {
         "name": "index",
         "rawType": "int64",
         "type": "integer"
        },
        {
         "name": "name",
         "rawType": "object",
         "type": "string"
        },
        {
         "name": "department",
         "rawType": "object",
         "type": "string"
        }
       ],
       "ref": "1e17caef-f472-40cb-a611-c86d2fec2fdf",
       "rows": [
        [
         "0",
         "Alice",
         "Sales"
        ],
        [
         "1",
         "Bob",
         "IT"
        ],
        [
         "2",
         "Charlie",
         "HR"
        ],
        [
         "3",
         "David",
         "Sales"
        ],
        [
         "4",
         "Eve",
         "IT"
        ]
       ],
       "shape": {
        "columns": 2,
        "rows": 5
       }
      },
      "text/html": [
       "<div>\n",
       "<style scoped>\n",
       "    .dataframe tbody tr th:only-of-type {\n",
       "        vertical-align: middle;\n",
       "    }\n",
       "\n",
       "    .dataframe tbody tr th {\n",
       "        vertical-align: top;\n",
       "    }\n",
       "\n",
       "    .dataframe thead th {\n",
       "        text-align: right;\n",
       "    }\n",
       "</style>\n",
       "<table border=\"1\" class=\"dataframe\">\n",
       "  <thead>\n",
       "    <tr style=\"text-align: right;\">\n",
       "      <th></th>\n",
       "      <th>name</th>\n",
       "      <th>department</th>\n",
       "    </tr>\n",
       "  </thead>\n",
       "  <tbody>\n",
       "    <tr>\n",
       "      <th>0</th>\n",
       "      <td>Alice</td>\n",
       "      <td>Sales</td>\n",
       "    </tr>\n",
       "    <tr>\n",
       "      <th>1</th>\n",
       "      <td>Bob</td>\n",
       "      <td>IT</td>\n",
       "    </tr>\n",
       "    <tr>\n",
       "      <th>2</th>\n",
       "      <td>Charlie</td>\n",
       "      <td>HR</td>\n",
       "    </tr>\n",
       "    <tr>\n",
       "      <th>3</th>\n",
       "      <td>David</td>\n",
       "      <td>Sales</td>\n",
       "    </tr>\n",
       "    <tr>\n",
       "      <th>4</th>\n",
       "      <td>Eve</td>\n",
       "      <td>IT</td>\n",
       "    </tr>\n",
       "  </tbody>\n",
       "</table>\n",
       "</div>"
      ],
      "text/plain": [
       "      name department\n",
       "0    Alice      Sales\n",
       "1      Bob         IT\n",
       "2  Charlie         HR\n",
       "3    David      Sales\n",
       "4      Eve         IT"
      ]
     },
     "execution_count": 6,
     "metadata": {},
     "output_type": "execute_result"
    }
   ],
   "source": [
    "# Using variables for column names\n",
    "cols_to_select = ['name', 'department']\n",
    "df[cols_to_select]"
   ]
  },
  {
   "cell_type": "markdown",
   "id": "cf8147b2",
   "metadata": {},
   "source": [
    "## Column Selection Methods Comparison\n",
    "\n",
    "Pandas offers several ways to select columns, each with pros and cons:"
   ]
  },
  {
   "cell_type": "code",
   "execution_count": 7,
   "id": "a3c39e57",
   "metadata": {},
   "outputs": [
    {
     "data": {
      "application/vnd.microsoft.datawrangler.viewer.v0+json": {
       "columns": [
        {
         "name": "index",
         "rawType": "int64",
         "type": "integer"
        },
        {
         "name": "name",
         "rawType": "object",
         "type": "string"
        },
        {
         "name": "age",
         "rawType": "int64",
         "type": "integer"
        }
       ],
       "ref": "fc0347da-3990-4ef8-b9bb-5a1bca13c6c8",
       "rows": [
        [
         "0",
         "Alice",
         "25"
        ],
        [
         "1",
         "Bob",
         "30"
        ],
        [
         "2",
         "Charlie",
         "35"
        ],
        [
         "3",
         "David",
         "28"
        ],
        [
         "4",
         "Eve",
         "33"
        ]
       ],
       "shape": {
        "columns": 2,
        "rows": 5
       }
      },
      "text/html": [
       "<div>\n",
       "<style scoped>\n",
       "    .dataframe tbody tr th:only-of-type {\n",
       "        vertical-align: middle;\n",
       "    }\n",
       "\n",
       "    .dataframe tbody tr th {\n",
       "        vertical-align: top;\n",
       "    }\n",
       "\n",
       "    .dataframe thead th {\n",
       "        text-align: right;\n",
       "    }\n",
       "</style>\n",
       "<table border=\"1\" class=\"dataframe\">\n",
       "  <thead>\n",
       "    <tr style=\"text-align: right;\">\n",
       "      <th></th>\n",
       "      <th>name</th>\n",
       "      <th>age</th>\n",
       "    </tr>\n",
       "  </thead>\n",
       "  <tbody>\n",
       "    <tr>\n",
       "      <th>0</th>\n",
       "      <td>Alice</td>\n",
       "      <td>25</td>\n",
       "    </tr>\n",
       "    <tr>\n",
       "      <th>1</th>\n",
       "      <td>Bob</td>\n",
       "      <td>30</td>\n",
       "    </tr>\n",
       "    <tr>\n",
       "      <th>2</th>\n",
       "      <td>Charlie</td>\n",
       "      <td>35</td>\n",
       "    </tr>\n",
       "    <tr>\n",
       "      <th>3</th>\n",
       "      <td>David</td>\n",
       "      <td>28</td>\n",
       "    </tr>\n",
       "    <tr>\n",
       "      <th>4</th>\n",
       "      <td>Eve</td>\n",
       "      <td>33</td>\n",
       "    </tr>\n",
       "  </tbody>\n",
       "</table>\n",
       "</div>"
      ],
      "text/plain": [
       "      name  age\n",
       "0    Alice   25\n",
       "1      Bob   30\n",
       "2  Charlie   35\n",
       "3    David   28\n",
       "4      Eve   33"
      ]
     },
     "execution_count": 7,
     "metadata": {},
     "output_type": "execute_result"
    }
   ],
   "source": [
    "# Method 1: Bracket notation (most common)\n",
    "df[['name', 'age']]"
   ]
  },
  {
   "cell_type": "code",
   "execution_count": 8,
   "id": "385f89b7",
   "metadata": {},
   "outputs": [
    {
     "data": {
      "application/vnd.microsoft.datawrangler.viewer.v0+json": {
       "columns": [
        {
         "name": "index",
         "rawType": "int64",
         "type": "integer"
        },
        {
         "name": "name",
         "rawType": "object",
         "type": "string"
        },
        {
         "name": "age",
         "rawType": "int64",
         "type": "integer"
        }
       ],
       "ref": "525fc049-8207-4216-ad3c-9bc44d0345ce",
       "rows": [
        [
         "0",
         "Alice",
         "25"
        ],
        [
         "1",
         "Bob",
         "30"
        ],
        [
         "2",
         "Charlie",
         "35"
        ],
        [
         "3",
         "David",
         "28"
        ],
        [
         "4",
         "Eve",
         "33"
        ]
       ],
       "shape": {
        "columns": 2,
        "rows": 5
       }
      },
      "text/html": [
       "<div>\n",
       "<style scoped>\n",
       "    .dataframe tbody tr th:only-of-type {\n",
       "        vertical-align: middle;\n",
       "    }\n",
       "\n",
       "    .dataframe tbody tr th {\n",
       "        vertical-align: top;\n",
       "    }\n",
       "\n",
       "    .dataframe thead th {\n",
       "        text-align: right;\n",
       "    }\n",
       "</style>\n",
       "<table border=\"1\" class=\"dataframe\">\n",
       "  <thead>\n",
       "    <tr style=\"text-align: right;\">\n",
       "      <th></th>\n",
       "      <th>name</th>\n",
       "      <th>age</th>\n",
       "    </tr>\n",
       "  </thead>\n",
       "  <tbody>\n",
       "    <tr>\n",
       "      <th>0</th>\n",
       "      <td>Alice</td>\n",
       "      <td>25</td>\n",
       "    </tr>\n",
       "    <tr>\n",
       "      <th>1</th>\n",
       "      <td>Bob</td>\n",
       "      <td>30</td>\n",
       "    </tr>\n",
       "    <tr>\n",
       "      <th>2</th>\n",
       "      <td>Charlie</td>\n",
       "      <td>35</td>\n",
       "    </tr>\n",
       "    <tr>\n",
       "      <th>3</th>\n",
       "      <td>David</td>\n",
       "      <td>28</td>\n",
       "    </tr>\n",
       "    <tr>\n",
       "      <th>4</th>\n",
       "      <td>Eve</td>\n",
       "      <td>33</td>\n",
       "    </tr>\n",
       "  </tbody>\n",
       "</table>\n",
       "</div>"
      ],
      "text/plain": [
       "      name  age\n",
       "0    Alice   25\n",
       "1      Bob   30\n",
       "2  Charlie   35\n",
       "3    David   28\n",
       "4      Eve   33"
      ]
     },
     "execution_count": 8,
     "metadata": {},
     "output_type": "execute_result"
    }
   ],
   "source": [
    "# Method 2: .loc accessor (more explicit)\n",
    "df.loc[:, ['name', 'age']]"
   ]
  },
  {
   "cell_type": "code",
   "execution_count": 10,
   "id": "ce42286a",
   "metadata": {},
   "outputs": [
    {
     "data": {
      "application/vnd.microsoft.datawrangler.viewer.v0+json": {
       "columns": [
        {
         "name": "index",
         "rawType": "int64",
         "type": "integer"
        },
        {
         "name": "name",
         "rawType": "object",
         "type": "string"
        },
        {
         "name": "age",
         "rawType": "int64",
         "type": "integer"
        }
       ],
       "ref": "8876dbce-effd-411b-bff3-5b1c21f5b8ae",
       "rows": [
        [
         "0",
         "Alice",
         "25"
        ],
        [
         "1",
         "Bob",
         "30"
        ],
        [
         "2",
         "Charlie",
         "35"
        ],
        [
         "3",
         "David",
         "28"
        ],
        [
         "4",
         "Eve",
         "33"
        ]
       ],
       "shape": {
        "columns": 2,
        "rows": 5
       }
      },
      "text/html": [
       "<div>\n",
       "<style scoped>\n",
       "    .dataframe tbody tr th:only-of-type {\n",
       "        vertical-align: middle;\n",
       "    }\n",
       "\n",
       "    .dataframe tbody tr th {\n",
       "        vertical-align: top;\n",
       "    }\n",
       "\n",
       "    .dataframe thead th {\n",
       "        text-align: right;\n",
       "    }\n",
       "</style>\n",
       "<table border=\"1\" class=\"dataframe\">\n",
       "  <thead>\n",
       "    <tr style=\"text-align: right;\">\n",
       "      <th></th>\n",
       "      <th>name</th>\n",
       "      <th>age</th>\n",
       "    </tr>\n",
       "  </thead>\n",
       "  <tbody>\n",
       "    <tr>\n",
       "      <th>0</th>\n",
       "      <td>Alice</td>\n",
       "      <td>25</td>\n",
       "    </tr>\n",
       "    <tr>\n",
       "      <th>1</th>\n",
       "      <td>Bob</td>\n",
       "      <td>30</td>\n",
       "    </tr>\n",
       "    <tr>\n",
       "      <th>2</th>\n",
       "      <td>Charlie</td>\n",
       "      <td>35</td>\n",
       "    </tr>\n",
       "    <tr>\n",
       "      <th>3</th>\n",
       "      <td>David</td>\n",
       "      <td>28</td>\n",
       "    </tr>\n",
       "    <tr>\n",
       "      <th>4</th>\n",
       "      <td>Eve</td>\n",
       "      <td>33</td>\n",
       "    </tr>\n",
       "  </tbody>\n",
       "</table>\n",
       "</div>"
      ],
      "text/plain": [
       "      name  age\n",
       "0    Alice   25\n",
       "1      Bob   30\n",
       "2  Charlie   35\n",
       "3    David   28\n",
       "4      Eve   33"
      ]
     },
     "execution_count": 10,
     "metadata": {},
     "output_type": "execute_result"
    }
   ],
   "source": [
    "# Method 3: .filter() method (regex capable)\n",
    "df.filter(items=['name', 'age'])"
   ]
  },
  {
   "cell_type": "code",
   "execution_count": 11,
   "id": "89f19421",
   "metadata": {},
   "outputs": [
    {
     "data": {
      "application/vnd.microsoft.datawrangler.viewer.v0+json": {
       "columns": [
        {
         "name": "index",
         "rawType": "int64",
         "type": "integer"
        },
        {
         "name": "name",
         "rawType": "object",
         "type": "string"
        },
        {
         "name": "age",
         "rawType": "int64",
         "type": "integer"
        }
       ],
       "ref": "1d399d4f-f6e8-461b-b194-4b9b53642967",
       "rows": [
        [
         "0",
         "Alice",
         "25"
        ],
        [
         "1",
         "Bob",
         "30"
        ],
        [
         "2",
         "Charlie",
         "35"
        ],
        [
         "3",
         "David",
         "28"
        ],
        [
         "4",
         "Eve",
         "33"
        ]
       ],
       "shape": {
        "columns": 2,
        "rows": 5
       }
      },
      "text/html": [
       "<div>\n",
       "<style scoped>\n",
       "    .dataframe tbody tr th:only-of-type {\n",
       "        vertical-align: middle;\n",
       "    }\n",
       "\n",
       "    .dataframe tbody tr th {\n",
       "        vertical-align: top;\n",
       "    }\n",
       "\n",
       "    .dataframe thead th {\n",
       "        text-align: right;\n",
       "    }\n",
       "</style>\n",
       "<table border=\"1\" class=\"dataframe\">\n",
       "  <thead>\n",
       "    <tr style=\"text-align: right;\">\n",
       "      <th></th>\n",
       "      <th>name</th>\n",
       "      <th>age</th>\n",
       "    </tr>\n",
       "  </thead>\n",
       "  <tbody>\n",
       "    <tr>\n",
       "      <th>0</th>\n",
       "      <td>Alice</td>\n",
       "      <td>25</td>\n",
       "    </tr>\n",
       "    <tr>\n",
       "      <th>1</th>\n",
       "      <td>Bob</td>\n",
       "      <td>30</td>\n",
       "    </tr>\n",
       "    <tr>\n",
       "      <th>2</th>\n",
       "      <td>Charlie</td>\n",
       "      <td>35</td>\n",
       "    </tr>\n",
       "    <tr>\n",
       "      <th>3</th>\n",
       "      <td>David</td>\n",
       "      <td>28</td>\n",
       "    </tr>\n",
       "    <tr>\n",
       "      <th>4</th>\n",
       "      <td>Eve</td>\n",
       "      <td>33</td>\n",
       "    </tr>\n",
       "  </tbody>\n",
       "</table>\n",
       "</div>"
      ],
      "text/plain": [
       "      name  age\n",
       "0    Alice   25\n",
       "1      Bob   30\n",
       "2  Charlie   35\n",
       "3    David   28\n",
       "4      Eve   33"
      ]
     },
     "execution_count": 11,
     "metadata": {},
     "output_type": "execute_result"
    }
   ],
   "source": [
    "# Method 4: Using column positions with iloc\n",
    "df.iloc[:, [0, 1]]  # First two columns"
   ]
  },
  {
   "cell_type": "markdown",
   "id": "2d9983a9",
   "metadata": {},
   "source": [
    "## Selecting Column Ranges\n",
    "\n",
    "Unlike R's `select()`, pandas can slice columns if they're in order:"
   ]
  },
  {
   "cell_type": "code",
   "execution_count": 13,
   "id": "b1b96b19",
   "metadata": {},
   "outputs": [
    {
     "data": {
      "application/vnd.microsoft.datawrangler.viewer.v0+json": {
       "columns": [
        {
         "name": "index",
         "rawType": "int64",
         "type": "integer"
        },
        {
         "name": "name",
         "rawType": "object",
         "type": "string"
        },
        {
         "name": "age",
         "rawType": "int64",
         "type": "integer"
        },
        {
         "name": "salary",
         "rawType": "int64",
         "type": "integer"
        },
        {
         "name": "department",
         "rawType": "object",
         "type": "string"
        }
       ],
       "ref": "02507415-faaa-402d-962b-4b743841ce75",
       "rows": [
        [
         "0",
         "Alice",
         "25",
         "70000",
         "Sales"
        ],
        [
         "1",
         "Bob",
         "30",
         "80000",
         "IT"
        ],
        [
         "2",
         "Charlie",
         "35",
         "75000",
         "HR"
        ],
        [
         "3",
         "David",
         "28",
         "72000",
         "Sales"
        ],
        [
         "4",
         "Eve",
         "33",
         "85000",
         "IT"
        ]
       ],
       "shape": {
        "columns": 4,
        "rows": 5
       }
      },
      "text/html": [
       "<div>\n",
       "<style scoped>\n",
       "    .dataframe tbody tr th:only-of-type {\n",
       "        vertical-align: middle;\n",
       "    }\n",
       "\n",
       "    .dataframe tbody tr th {\n",
       "        vertical-align: top;\n",
       "    }\n",
       "\n",
       "    .dataframe thead th {\n",
       "        text-align: right;\n",
       "    }\n",
       "</style>\n",
       "<table border=\"1\" class=\"dataframe\">\n",
       "  <thead>\n",
       "    <tr style=\"text-align: right;\">\n",
       "      <th></th>\n",
       "      <th>name</th>\n",
       "      <th>age</th>\n",
       "      <th>salary</th>\n",
       "      <th>department</th>\n",
       "    </tr>\n",
       "  </thead>\n",
       "  <tbody>\n",
       "    <tr>\n",
       "      <th>0</th>\n",
       "      <td>Alice</td>\n",
       "      <td>25</td>\n",
       "      <td>70000</td>\n",
       "      <td>Sales</td>\n",
       "    </tr>\n",
       "    <tr>\n",
       "      <th>1</th>\n",
       "      <td>Bob</td>\n",
       "      <td>30</td>\n",
       "      <td>80000</td>\n",
       "      <td>IT</td>\n",
       "    </tr>\n",
       "    <tr>\n",
       "      <th>2</th>\n",
       "      <td>Charlie</td>\n",
       "      <td>35</td>\n",
       "      <td>75000</td>\n",
       "      <td>HR</td>\n",
       "    </tr>\n",
       "    <tr>\n",
       "      <th>3</th>\n",
       "      <td>David</td>\n",
       "      <td>28</td>\n",
       "      <td>72000</td>\n",
       "      <td>Sales</td>\n",
       "    </tr>\n",
       "    <tr>\n",
       "      <th>4</th>\n",
       "      <td>Eve</td>\n",
       "      <td>33</td>\n",
       "      <td>85000</td>\n",
       "      <td>IT</td>\n",
       "    </tr>\n",
       "  </tbody>\n",
       "</table>\n",
       "</div>"
      ],
      "text/plain": [
       "      name  age  salary department\n",
       "0    Alice   25   70000      Sales\n",
       "1      Bob   30   80000         IT\n",
       "2  Charlie   35   75000         HR\n",
       "3    David   28   72000      Sales\n",
       "4      Eve   33   85000         IT"
      ]
     },
     "execution_count": 13,
     "metadata": {},
     "output_type": "execute_result"
    }
   ],
   "source": [
    "# Column slicing with loc\n",
    "# R: select(df, name:department)  # if using tidyselect\n",
    "df.loc[:, 'name':'department']"
   ]
  },
  {
   "cell_type": "code",
   "execution_count": 14,
   "id": "20399464",
   "metadata": {},
   "outputs": [
    {
     "data": {
      "application/vnd.microsoft.datawrangler.viewer.v0+json": {
       "columns": [
        {
         "name": "index",
         "rawType": "int64",
         "type": "integer"
        },
        {
         "name": "name",
         "rawType": "object",
         "type": "string"
        },
        {
         "name": "age",
         "rawType": "int64",
         "type": "integer"
        },
        {
         "name": "salary",
         "rawType": "int64",
         "type": "integer"
        }
       ],
       "ref": "aebf048d-7dd4-4421-9e05-3daa6d877670",
       "rows": [
        [
         "0",
         "Alice",
         "25",
         "70000"
        ],
        [
         "1",
         "Bob",
         "30",
         "80000"
        ],
        [
         "2",
         "Charlie",
         "35",
         "75000"
        ],
        [
         "3",
         "David",
         "28",
         "72000"
        ],
        [
         "4",
         "Eve",
         "33",
         "85000"
        ]
       ],
       "shape": {
        "columns": 3,
        "rows": 5
       }
      },
      "text/html": [
       "<div>\n",
       "<style scoped>\n",
       "    .dataframe tbody tr th:only-of-type {\n",
       "        vertical-align: middle;\n",
       "    }\n",
       "\n",
       "    .dataframe tbody tr th {\n",
       "        vertical-align: top;\n",
       "    }\n",
       "\n",
       "    .dataframe thead th {\n",
       "        text-align: right;\n",
       "    }\n",
       "</style>\n",
       "<table border=\"1\" class=\"dataframe\">\n",
       "  <thead>\n",
       "    <tr style=\"text-align: right;\">\n",
       "      <th></th>\n",
       "      <th>name</th>\n",
       "      <th>age</th>\n",
       "      <th>salary</th>\n",
       "    </tr>\n",
       "  </thead>\n",
       "  <tbody>\n",
       "    <tr>\n",
       "      <th>0</th>\n",
       "      <td>Alice</td>\n",
       "      <td>25</td>\n",
       "      <td>70000</td>\n",
       "    </tr>\n",
       "    <tr>\n",
       "      <th>1</th>\n",
       "      <td>Bob</td>\n",
       "      <td>30</td>\n",
       "      <td>80000</td>\n",
       "    </tr>\n",
       "    <tr>\n",
       "      <th>2</th>\n",
       "      <td>Charlie</td>\n",
       "      <td>35</td>\n",
       "      <td>75000</td>\n",
       "    </tr>\n",
       "    <tr>\n",
       "      <th>3</th>\n",
       "      <td>David</td>\n",
       "      <td>28</td>\n",
       "      <td>72000</td>\n",
       "    </tr>\n",
       "    <tr>\n",
       "      <th>4</th>\n",
       "      <td>Eve</td>\n",
       "      <td>33</td>\n",
       "      <td>85000</td>\n",
       "    </tr>\n",
       "  </tbody>\n",
       "</table>\n",
       "</div>"
      ],
      "text/plain": [
       "      name  age  salary\n",
       "0    Alice   25   70000\n",
       "1      Bob   30   80000\n",
       "2  Charlie   35   75000\n",
       "3    David   28   72000\n",
       "4      Eve   33   85000"
      ]
     },
     "execution_count": 14,
     "metadata": {},
     "output_type": "execute_result"
    }
   ],
   "source": [
    "# Using integer positions\n",
    "# R: select(df, 1:3)\n",
    "df.iloc[:, 0:3] # Note: 0:3 means columns 0, 1, 2"
   ]
  },
  {
   "cell_type": "code",
   "execution_count": 15,
   "id": "cb59ca93",
   "metadata": {},
   "outputs": [
    {
     "data": {
      "application/vnd.microsoft.datawrangler.viewer.v0+json": {
       "columns": [
        {
         "name": "index",
         "rawType": "int64",
         "type": "integer"
        },
        {
         "name": "salary",
         "rawType": "int64",
         "type": "integer"
        },
        {
         "name": "department",
         "rawType": "object",
         "type": "string"
        },
        {
         "name": "years_experience",
         "rawType": "int64",
         "type": "integer"
        },
        {
         "name": "performance_rating",
         "rawType": "float64",
         "type": "float"
        }
       ],
       "ref": "f8a2bda3-06f6-4dd8-b87a-dab21384e286",
       "rows": [
        [
         "0",
         "70000",
         "Sales",
         "2",
         "4.2"
        ],
        [
         "1",
         "80000",
         "IT",
         "5",
         "4.5"
        ],
        [
         "2",
         "75000",
         "HR",
         "8",
         "3.8"
        ],
        [
         "3",
         "72000",
         "Sales",
         "3",
         "4.0"
        ],
        [
         "4",
         "85000",
         "IT",
         "7",
         "4.6"
        ]
       ],
       "shape": {
        "columns": 4,
        "rows": 5
       }
      },
      "text/html": [
       "<div>\n",
       "<style scoped>\n",
       "    .dataframe tbody tr th:only-of-type {\n",
       "        vertical-align: middle;\n",
       "    }\n",
       "\n",
       "    .dataframe tbody tr th {\n",
       "        vertical-align: top;\n",
       "    }\n",
       "\n",
       "    .dataframe thead th {\n",
       "        text-align: right;\n",
       "    }\n",
       "</style>\n",
       "<table border=\"1\" class=\"dataframe\">\n",
       "  <thead>\n",
       "    <tr style=\"text-align: right;\">\n",
       "      <th></th>\n",
       "      <th>salary</th>\n",
       "      <th>department</th>\n",
       "      <th>years_experience</th>\n",
       "      <th>performance_rating</th>\n",
       "    </tr>\n",
       "  </thead>\n",
       "  <tbody>\n",
       "    <tr>\n",
       "      <th>0</th>\n",
       "      <td>70000</td>\n",
       "      <td>Sales</td>\n",
       "      <td>2</td>\n",
       "      <td>4.2</td>\n",
       "    </tr>\n",
       "    <tr>\n",
       "      <th>1</th>\n",
       "      <td>80000</td>\n",
       "      <td>IT</td>\n",
       "      <td>5</td>\n",
       "      <td>4.5</td>\n",
       "    </tr>\n",
       "    <tr>\n",
       "      <th>2</th>\n",
       "      <td>75000</td>\n",
       "      <td>HR</td>\n",
       "      <td>8</td>\n",
       "      <td>3.8</td>\n",
       "    </tr>\n",
       "    <tr>\n",
       "      <th>3</th>\n",
       "      <td>72000</td>\n",
       "      <td>Sales</td>\n",
       "      <td>3</td>\n",
       "      <td>4.0</td>\n",
       "    </tr>\n",
       "    <tr>\n",
       "      <th>4</th>\n",
       "      <td>85000</td>\n",
       "      <td>IT</td>\n",
       "      <td>7</td>\n",
       "      <td>4.6</td>\n",
       "    </tr>\n",
       "  </tbody>\n",
       "</table>\n",
       "</div>"
      ],
      "text/plain": [
       "   salary department  years_experience  performance_rating\n",
       "0   70000      Sales                 2                 4.2\n",
       "1   80000         IT                 5                 4.5\n",
       "2   75000         HR                 8                 3.8\n",
       "3   72000      Sales                 3                 4.0\n",
       "4   85000         IT                 7                 4.6"
      ]
     },
     "execution_count": 15,
     "metadata": {},
     "output_type": "execute_result"
    }
   ],
   "source": [
    "# From column to end\n",
    "df.loc[:, 'salary':]"
   ]
  },
  {
   "cell_type": "markdown",
   "id": "0d3e9ee9",
   "metadata": {},
   "source": [
    "## Pattern-Based Selection\n",
    "\n",
    "One area where pandas shines is pattern-based column selection:"
   ]
  },
  {
   "cell_type": "code",
   "execution_count": 16,
   "id": "a249338d",
   "metadata": {},
   "outputs": [
    {
     "data": {
      "application/vnd.microsoft.datawrangler.viewer.v0+json": {
       "columns": [
        {
         "name": "index",
         "rawType": "int64",
         "type": "integer"
        },
        {
         "name": "id",
         "rawType": "int64",
         "type": "integer"
        },
        {
         "name": "test_score_math",
         "rawType": "int64",
         "type": "integer"
        },
        {
         "name": "test_score_english",
         "rawType": "int64",
         "type": "integer"
        },
        {
         "name": "test_score_science",
         "rawType": "int64",
         "type": "integer"
        },
        {
         "name": "final_grade_math",
         "rawType": "int64",
         "type": "integer"
        },
        {
         "name": "final_grade_english",
         "rawType": "int64",
         "type": "integer"
        },
        {
         "name": "student_name",
         "rawType": "object",
         "type": "string"
        }
       ],
       "ref": "2b37ef72-cebf-40af-997b-56f0a277e2fb",
       "rows": [
        [
         "0",
         "1",
         "85",
         "88",
         "90",
         "87",
         "89",
         "Alice"
        ],
        [
         "1",
         "2",
         "92",
         "85",
         "88",
         "93",
         "86",
         "Bob"
        ],
        [
         "2",
         "3",
         "78",
         "92",
         "85",
         "80",
         "93",
         "Charlie"
        ]
       ],
       "shape": {
        "columns": 7,
        "rows": 3
       }
      },
      "text/html": [
       "<div>\n",
       "<style scoped>\n",
       "    .dataframe tbody tr th:only-of-type {\n",
       "        vertical-align: middle;\n",
       "    }\n",
       "\n",
       "    .dataframe tbody tr th {\n",
       "        vertical-align: top;\n",
       "    }\n",
       "\n",
       "    .dataframe thead th {\n",
       "        text-align: right;\n",
       "    }\n",
       "</style>\n",
       "<table border=\"1\" class=\"dataframe\">\n",
       "  <thead>\n",
       "    <tr style=\"text-align: right;\">\n",
       "      <th></th>\n",
       "      <th>id</th>\n",
       "      <th>test_score_math</th>\n",
       "      <th>test_score_english</th>\n",
       "      <th>test_score_science</th>\n",
       "      <th>final_grade_math</th>\n",
       "      <th>final_grade_english</th>\n",
       "      <th>student_name</th>\n",
       "    </tr>\n",
       "  </thead>\n",
       "  <tbody>\n",
       "    <tr>\n",
       "      <th>0</th>\n",
       "      <td>1</td>\n",
       "      <td>85</td>\n",
       "      <td>88</td>\n",
       "      <td>90</td>\n",
       "      <td>87</td>\n",
       "      <td>89</td>\n",
       "      <td>Alice</td>\n",
       "    </tr>\n",
       "    <tr>\n",
       "      <th>1</th>\n",
       "      <td>2</td>\n",
       "      <td>92</td>\n",
       "      <td>85</td>\n",
       "      <td>88</td>\n",
       "      <td>93</td>\n",
       "      <td>86</td>\n",
       "      <td>Bob</td>\n",
       "    </tr>\n",
       "    <tr>\n",
       "      <th>2</th>\n",
       "      <td>3</td>\n",
       "      <td>78</td>\n",
       "      <td>92</td>\n",
       "      <td>85</td>\n",
       "      <td>80</td>\n",
       "      <td>93</td>\n",
       "      <td>Charlie</td>\n",
       "    </tr>\n",
       "  </tbody>\n",
       "</table>\n",
       "</div>"
      ],
      "text/plain": [
       "   id  test_score_math  test_score_english  test_score_science  \\\n",
       "0   1               85                  88                  90   \n",
       "1   2               92                  85                  88   \n",
       "2   3               78                  92                  85   \n",
       "\n",
       "   final_grade_math  final_grade_english student_name  \n",
       "0                87                   89        Alice  \n",
       "1                93                   86          Bob  \n",
       "2                80                   93      Charlie  "
      ]
     },
     "execution_count": 16,
     "metadata": {},
     "output_type": "execute_result"
    }
   ],
   "source": [
    "# Create DataFrame with patterned column names\n",
    "df_wide = pd.DataFrame({\n",
    "    'id': [1, 2, 3],\n",
    "    'test_score_math': [85, 92, 78],\n",
    "    'test_score_english': [88, 85, 92],\n",
    "    'test_score_science': [90, 88, 85],\n",
    "    'final_grade_math': [87, 93, 80],\n",
    "    'final_grade_english': [89, 86, 93],\n",
    "    'student_name': ['Alice', 'Bob', 'Charlie']\n",
    "})\n",
    "\n",
    "df_wide"
   ]
  },
  {
   "cell_type": "code",
   "execution_count": 17,
   "id": "b16918d9",
   "metadata": {},
   "outputs": [
    {
     "data": {
      "application/vnd.microsoft.datawrangler.viewer.v0+json": {
       "columns": [
        {
         "name": "index",
         "rawType": "int64",
         "type": "integer"
        },
        {
         "name": "test_score_math",
         "rawType": "int64",
         "type": "integer"
        },
        {
         "name": "test_score_english",
         "rawType": "int64",
         "type": "integer"
        },
        {
         "name": "test_score_science",
         "rawType": "int64",
         "type": "integer"
        }
       ],
       "ref": "a4eeb852-c82a-44d8-a8d0-51724818cf6c",
       "rows": [
        [
         "0",
         "85",
         "88",
         "90"
        ],
        [
         "1",
         "92",
         "85",
         "88"
        ],
        [
         "2",
         "78",
         "92",
         "85"
        ]
       ],
       "shape": {
        "columns": 3,
        "rows": 3
       }
      },
      "text/html": [
       "<div>\n",
       "<style scoped>\n",
       "    .dataframe tbody tr th:only-of-type {\n",
       "        vertical-align: middle;\n",
       "    }\n",
       "\n",
       "    .dataframe tbody tr th {\n",
       "        vertical-align: top;\n",
       "    }\n",
       "\n",
       "    .dataframe thead th {\n",
       "        text-align: right;\n",
       "    }\n",
       "</style>\n",
       "<table border=\"1\" class=\"dataframe\">\n",
       "  <thead>\n",
       "    <tr style=\"text-align: right;\">\n",
       "      <th></th>\n",
       "      <th>test_score_math</th>\n",
       "      <th>test_score_english</th>\n",
       "      <th>test_score_science</th>\n",
       "    </tr>\n",
       "  </thead>\n",
       "  <tbody>\n",
       "    <tr>\n",
       "      <th>0</th>\n",
       "      <td>85</td>\n",
       "      <td>88</td>\n",
       "      <td>90</td>\n",
       "    </tr>\n",
       "    <tr>\n",
       "      <th>1</th>\n",
       "      <td>92</td>\n",
       "      <td>85</td>\n",
       "      <td>88</td>\n",
       "    </tr>\n",
       "    <tr>\n",
       "      <th>2</th>\n",
       "      <td>78</td>\n",
       "      <td>92</td>\n",
       "      <td>85</td>\n",
       "    </tr>\n",
       "  </tbody>\n",
       "</table>\n",
       "</div>"
      ],
      "text/plain": [
       "   test_score_math  test_score_english  test_score_science\n",
       "0               85                  88                  90\n",
       "1               92                  85                  88\n",
       "2               78                  92                  85"
      ]
     },
     "execution_count": 17,
     "metadata": {},
     "output_type": "execute_result"
    }
   ],
   "source": [
    "# Select columns containing 'test'\n",
    "df_wide.filter(like='test')"
   ]
  },
  {
   "cell_type": "code",
   "execution_count": 18,
   "id": "a1c10990",
   "metadata": {},
   "outputs": [
    {
     "data": {
      "application/vnd.microsoft.datawrangler.viewer.v0+json": {
       "columns": [
        {
         "name": "index",
         "rawType": "int64",
         "type": "integer"
        },
        {
         "name": "test_score_math",
         "rawType": "int64",
         "type": "integer"
        },
        {
         "name": "test_score_english",
         "rawType": "int64",
         "type": "integer"
        },
        {
         "name": "test_score_science",
         "rawType": "int64",
         "type": "integer"
        }
       ],
       "ref": "21f3c69e-5ba1-4bba-9e2a-c8d8c5b4c8a3",
       "rows": [
        [
         "0",
         "85",
         "88",
         "90"
        ],
        [
         "1",
         "92",
         "85",
         "88"
        ],
        [
         "2",
         "78",
         "92",
         "85"
        ]
       ],
       "shape": {
        "columns": 3,
        "rows": 3
       }
      },
      "text/html": [
       "<div>\n",
       "<style scoped>\n",
       "    .dataframe tbody tr th:only-of-type {\n",
       "        vertical-align: middle;\n",
       "    }\n",
       "\n",
       "    .dataframe tbody tr th {\n",
       "        vertical-align: top;\n",
       "    }\n",
       "\n",
       "    .dataframe thead th {\n",
       "        text-align: right;\n",
       "    }\n",
       "</style>\n",
       "<table border=\"1\" class=\"dataframe\">\n",
       "  <thead>\n",
       "    <tr style=\"text-align: right;\">\n",
       "      <th></th>\n",
       "      <th>test_score_math</th>\n",
       "      <th>test_score_english</th>\n",
       "      <th>test_score_science</th>\n",
       "    </tr>\n",
       "  </thead>\n",
       "  <tbody>\n",
       "    <tr>\n",
       "      <th>0</th>\n",
       "      <td>85</td>\n",
       "      <td>88</td>\n",
       "      <td>90</td>\n",
       "    </tr>\n",
       "    <tr>\n",
       "      <th>1</th>\n",
       "      <td>92</td>\n",
       "      <td>85</td>\n",
       "      <td>88</td>\n",
       "    </tr>\n",
       "    <tr>\n",
       "      <th>2</th>\n",
       "      <td>78</td>\n",
       "      <td>92</td>\n",
       "      <td>85</td>\n",
       "    </tr>\n",
       "  </tbody>\n",
       "</table>\n",
       "</div>"
      ],
      "text/plain": [
       "   test_score_math  test_score_english  test_score_science\n",
       "0               85                  88                  90\n",
       "1               92                  85                  88\n",
       "2               78                  92                  85"
      ]
     },
     "execution_count": 18,
     "metadata": {},
     "output_type": "execute_result"
    }
   ],
   "source": [
    "# Select columns starting with 'test'\n",
    "df_wide.filter(regex='^test')"
   ]
  },
  {
   "cell_type": "code",
   "execution_count": 19,
   "id": "83e61e2b",
   "metadata": {},
   "outputs": [
    {
     "data": {
      "application/vnd.microsoft.datawrangler.viewer.v0+json": {
       "columns": [
        {
         "name": "index",
         "rawType": "int64",
         "type": "integer"
        },
        {
         "name": "test_score_math",
         "rawType": "int64",
         "type": "integer"
        },
        {
         "name": "final_grade_math",
         "rawType": "int64",
         "type": "integer"
        }
       ],
       "ref": "c7327373-5477-4f12-bbb9-e784bf9d400a",
       "rows": [
        [
         "0",
         "85",
         "87"
        ],
        [
         "1",
         "92",
         "93"
        ],
        [
         "2",
         "78",
         "80"
        ]
       ],
       "shape": {
        "columns": 2,
        "rows": 3
       }
      },
      "text/html": [
       "<div>\n",
       "<style scoped>\n",
       "    .dataframe tbody tr th:only-of-type {\n",
       "        vertical-align: middle;\n",
       "    }\n",
       "\n",
       "    .dataframe tbody tr th {\n",
       "        vertical-align: top;\n",
       "    }\n",
       "\n",
       "    .dataframe thead th {\n",
       "        text-align: right;\n",
       "    }\n",
       "</style>\n",
       "<table border=\"1\" class=\"dataframe\">\n",
       "  <thead>\n",
       "    <tr style=\"text-align: right;\">\n",
       "      <th></th>\n",
       "      <th>test_score_math</th>\n",
       "      <th>final_grade_math</th>\n",
       "    </tr>\n",
       "  </thead>\n",
       "  <tbody>\n",
       "    <tr>\n",
       "      <th>0</th>\n",
       "      <td>85</td>\n",
       "      <td>87</td>\n",
       "    </tr>\n",
       "    <tr>\n",
       "      <th>1</th>\n",
       "      <td>92</td>\n",
       "      <td>93</td>\n",
       "    </tr>\n",
       "    <tr>\n",
       "      <th>2</th>\n",
       "      <td>78</td>\n",
       "      <td>80</td>\n",
       "    </tr>\n",
       "  </tbody>\n",
       "</table>\n",
       "</div>"
      ],
      "text/plain": [
       "   test_score_math  final_grade_math\n",
       "0               85                87\n",
       "1               92                93\n",
       "2               78                80"
      ]
     },
     "execution_count": 19,
     "metadata": {},
     "output_type": "execute_result"
    }
   ],
   "source": [
    "# Select columns ending with 'math'\n",
    "df_wide.filter(regex='math$')"
   ]
  },
  {
   "cell_type": "code",
   "execution_count": 20,
   "id": "683486ff",
   "metadata": {},
   "outputs": [
    {
     "data": {
      "application/vnd.microsoft.datawrangler.viewer.v0+json": {
       "columns": [
        {
         "name": "index",
         "rawType": "int64",
         "type": "integer"
        },
        {
         "name": "test_score_math",
         "rawType": "int64",
         "type": "integer"
        },
        {
         "name": "test_score_english",
         "rawType": "int64",
         "type": "integer"
        },
        {
         "name": "test_score_science",
         "rawType": "int64",
         "type": "integer"
        },
        {
         "name": "final_grade_math",
         "rawType": "int64",
         "type": "integer"
        },
        {
         "name": "final_grade_english",
         "rawType": "int64",
         "type": "integer"
        }
       ],
       "ref": "93c0042a-376f-4cb1-849b-82e4e571c706",
       "rows": [
        [
         "0",
         "85",
         "88",
         "90",
         "87",
         "89"
        ],
        [
         "1",
         "92",
         "85",
         "88",
         "93",
         "86"
        ],
        [
         "2",
         "78",
         "92",
         "85",
         "80",
         "93"
        ]
       ],
       "shape": {
        "columns": 5,
        "rows": 3
       }
      },
      "text/html": [
       "<div>\n",
       "<style scoped>\n",
       "    .dataframe tbody tr th:only-of-type {\n",
       "        vertical-align: middle;\n",
       "    }\n",
       "\n",
       "    .dataframe tbody tr th {\n",
       "        vertical-align: top;\n",
       "    }\n",
       "\n",
       "    .dataframe thead th {\n",
       "        text-align: right;\n",
       "    }\n",
       "</style>\n",
       "<table border=\"1\" class=\"dataframe\">\n",
       "  <thead>\n",
       "    <tr style=\"text-align: right;\">\n",
       "      <th></th>\n",
       "      <th>test_score_math</th>\n",
       "      <th>test_score_english</th>\n",
       "      <th>test_score_science</th>\n",
       "      <th>final_grade_math</th>\n",
       "      <th>final_grade_english</th>\n",
       "    </tr>\n",
       "  </thead>\n",
       "  <tbody>\n",
       "    <tr>\n",
       "      <th>0</th>\n",
       "      <td>85</td>\n",
       "      <td>88</td>\n",
       "      <td>90</td>\n",
       "      <td>87</td>\n",
       "      <td>89</td>\n",
       "    </tr>\n",
       "    <tr>\n",
       "      <th>1</th>\n",
       "      <td>92</td>\n",
       "      <td>85</td>\n",
       "      <td>88</td>\n",
       "      <td>93</td>\n",
       "      <td>86</td>\n",
       "    </tr>\n",
       "    <tr>\n",
       "      <th>2</th>\n",
       "      <td>78</td>\n",
       "      <td>92</td>\n",
       "      <td>85</td>\n",
       "      <td>80</td>\n",
       "      <td>93</td>\n",
       "    </tr>\n",
       "  </tbody>\n",
       "</table>\n",
       "</div>"
      ],
      "text/plain": [
       "   test_score_math  test_score_english  test_score_science  final_grade_math  \\\n",
       "0               85                  88                  90                87   \n",
       "1               92                  85                  88                93   \n",
       "2               78                  92                  85                80   \n",
       "\n",
       "   final_grade_english  \n",
       "0                   89  \n",
       "1                   86  \n",
       "2                   93  "
      ]
     },
     "execution_count": 20,
     "metadata": {},
     "output_type": "execute_result"
    }
   ],
   "source": [
    "# Complex regex pattern\n",
    "df_wide.filter(regex='score|grade')"
   ]
  },
  {
   "cell_type": "markdown",
   "id": "f62fb0d6",
   "metadata": {},
   "source": [
    "## Selecting by Data Type\n",
    "\n",
    "Selecting columns based on their data type is very useful:"
   ]
  },
  {
   "cell_type": "code",
   "execution_count": 21,
   "id": "206d9ca0",
   "metadata": {},
   "outputs": [
    {
     "data": {
      "application/vnd.microsoft.datawrangler.viewer.v0+json": {
       "columns": [
        {
         "name": "index",
         "rawType": "int64",
         "type": "integer"
        },
        {
         "name": "name",
         "rawType": "object",
         "type": "string"
        },
        {
         "name": "age",
         "rawType": "int64",
         "type": "integer"
        },
        {
         "name": "salary",
         "rawType": "float64",
         "type": "float"
        },
        {
         "name": "is_manager",
         "rawType": "bool",
         "type": "boolean"
        },
        {
         "name": "department",
         "rawType": "object",
         "type": "string"
        },
        {
         "name": "hire_date",
         "rawType": "datetime64[ns]",
         "type": "datetime"
        },
        {
         "name": "employee_id",
         "rawType": "int64",
         "type": "integer"
        }
       ],
       "ref": "374c5636-7f7d-46fa-aced-6e251aa976e8",
       "rows": [
        [
         "0",
         "Alice",
         "25",
         "70000.5",
         "False",
         "Sales",
         "2020-01-15 00:00:00",
         "1001"
        ],
        [
         "1",
         "Bob",
         "30",
         "80000.0",
         "True",
         "IT",
         "2019-03-22 00:00:00",
         "1002"
        ],
        [
         "2",
         "Charlie",
         "35",
         "75000.25",
         "False",
         "HR",
         "2018-07-01 00:00:00",
         "1003"
        ]
       ],
       "shape": {
        "columns": 7,
        "rows": 3
       }
      },
      "text/html": [
       "<div>\n",
       "<style scoped>\n",
       "    .dataframe tbody tr th:only-of-type {\n",
       "        vertical-align: middle;\n",
       "    }\n",
       "\n",
       "    .dataframe tbody tr th {\n",
       "        vertical-align: top;\n",
       "    }\n",
       "\n",
       "    .dataframe thead th {\n",
       "        text-align: right;\n",
       "    }\n",
       "</style>\n",
       "<table border=\"1\" class=\"dataframe\">\n",
       "  <thead>\n",
       "    <tr style=\"text-align: right;\">\n",
       "      <th></th>\n",
       "      <th>name</th>\n",
       "      <th>age</th>\n",
       "      <th>salary</th>\n",
       "      <th>is_manager</th>\n",
       "      <th>department</th>\n",
       "      <th>hire_date</th>\n",
       "      <th>employee_id</th>\n",
       "    </tr>\n",
       "  </thead>\n",
       "  <tbody>\n",
       "    <tr>\n",
       "      <th>0</th>\n",
       "      <td>Alice</td>\n",
       "      <td>25</td>\n",
       "      <td>70000.50</td>\n",
       "      <td>False</td>\n",
       "      <td>Sales</td>\n",
       "      <td>2020-01-15</td>\n",
       "      <td>1001</td>\n",
       "    </tr>\n",
       "    <tr>\n",
       "      <th>1</th>\n",
       "      <td>Bob</td>\n",
       "      <td>30</td>\n",
       "      <td>80000.00</td>\n",
       "      <td>True</td>\n",
       "      <td>IT</td>\n",
       "      <td>2019-03-22</td>\n",
       "      <td>1002</td>\n",
       "    </tr>\n",
       "    <tr>\n",
       "      <th>2</th>\n",
       "      <td>Charlie</td>\n",
       "      <td>35</td>\n",
       "      <td>75000.25</td>\n",
       "      <td>False</td>\n",
       "      <td>HR</td>\n",
       "      <td>2018-07-01</td>\n",
       "      <td>1003</td>\n",
       "    </tr>\n",
       "  </tbody>\n",
       "</table>\n",
       "</div>"
      ],
      "text/plain": [
       "      name  age    salary  is_manager department  hire_date  employee_id\n",
       "0    Alice   25  70000.50       False      Sales 2020-01-15         1001\n",
       "1      Bob   30  80000.00        True         IT 2019-03-22         1002\n",
       "2  Charlie   35  75000.25       False         HR 2018-07-01         1003"
      ]
     },
     "execution_count": 21,
     "metadata": {},
     "output_type": "execute_result"
    }
   ],
   "source": [
    "# DataFrame with mixed types\n",
    "df_mixed = pd.DataFrame({\n",
    "    'name': ['Alice', 'Bob', 'Charlie'],\n",
    "    'age': [25, 30, 35],\n",
    "    'salary': [70000.5, 80000.0, 75000.25],\n",
    "    'is_manager': [False, True, False],\n",
    "    'department': ['Sales', 'IT', 'HR'],\n",
    "    'hire_date': pd.to_datetime(['2020-01-15', '2019-03-22', '2018-07-01']),\n",
    "    'employee_id': [1001, 1002, 1003]\n",
    "})\n",
    "\n",
    "df_mixed"
   ]
  },
  {
   "cell_type": "code",
   "execution_count": 22,
   "id": "50cad483",
   "metadata": {},
   "outputs": [
    {
     "data": {
      "application/vnd.microsoft.datawrangler.viewer.v0+json": {
       "columns": [
        {
         "name": "index",
         "rawType": "int64",
         "type": "integer"
        },
        {
         "name": "age",
         "rawType": "int64",
         "type": "integer"
        },
        {
         "name": "salary",
         "rawType": "float64",
         "type": "float"
        },
        {
         "name": "employee_id",
         "rawType": "int64",
         "type": "integer"
        }
       ],
       "ref": "6f855a64-1453-4ccd-b8ee-614726cafd99",
       "rows": [
        [
         "0",
         "25",
         "70000.5",
         "1001"
        ],
        [
         "1",
         "30",
         "80000.0",
         "1002"
        ],
        [
         "2",
         "35",
         "75000.25",
         "1003"
        ]
       ],
       "shape": {
        "columns": 3,
        "rows": 3
       }
      },
      "text/html": [
       "<div>\n",
       "<style scoped>\n",
       "    .dataframe tbody tr th:only-of-type {\n",
       "        vertical-align: middle;\n",
       "    }\n",
       "\n",
       "    .dataframe tbody tr th {\n",
       "        vertical-align: top;\n",
       "    }\n",
       "\n",
       "    .dataframe thead th {\n",
       "        text-align: right;\n",
       "    }\n",
       "</style>\n",
       "<table border=\"1\" class=\"dataframe\">\n",
       "  <thead>\n",
       "    <tr style=\"text-align: right;\">\n",
       "      <th></th>\n",
       "      <th>age</th>\n",
       "      <th>salary</th>\n",
       "      <th>employee_id</th>\n",
       "    </tr>\n",
       "  </thead>\n",
       "  <tbody>\n",
       "    <tr>\n",
       "      <th>0</th>\n",
       "      <td>25</td>\n",
       "      <td>70000.50</td>\n",
       "      <td>1001</td>\n",
       "    </tr>\n",
       "    <tr>\n",
       "      <th>1</th>\n",
       "      <td>30</td>\n",
       "      <td>80000.00</td>\n",
       "      <td>1002</td>\n",
       "    </tr>\n",
       "    <tr>\n",
       "      <th>2</th>\n",
       "      <td>35</td>\n",
       "      <td>75000.25</td>\n",
       "      <td>1003</td>\n",
       "    </tr>\n",
       "  </tbody>\n",
       "</table>\n",
       "</div>"
      ],
      "text/plain": [
       "   age    salary  employee_id\n",
       "0   25  70000.50         1001\n",
       "1   30  80000.00         1002\n",
       "2   35  75000.25         1003"
      ]
     },
     "execution_count": 22,
     "metadata": {},
     "output_type": "execute_result"
    }
   ],
   "source": [
    "# Select numeric columns\n",
    "df_mixed.select_dtypes(include='number')"
   ]
  },
  {
   "cell_type": "code",
   "execution_count": 23,
   "id": "937b1e26",
   "metadata": {},
   "outputs": [
    {
     "data": {
      "application/vnd.microsoft.datawrangler.viewer.v0+json": {
       "columns": [
        {
         "name": "index",
         "rawType": "int64",
         "type": "integer"
        },
        {
         "name": "name",
         "rawType": "object",
         "type": "string"
        },
        {
         "name": "department",
         "rawType": "object",
         "type": "string"
        }
       ],
       "ref": "21ee1b85-fc39-4fbd-8793-2d751cdb7ea9",
       "rows": [
        [
         "0",
         "Alice",
         "Sales"
        ],
        [
         "1",
         "Bob",
         "IT"
        ],
        [
         "2",
         "Charlie",
         "HR"
        ]
       ],
       "shape": {
        "columns": 2,
        "rows": 3
       }
      },
      "text/html": [
       "<div>\n",
       "<style scoped>\n",
       "    .dataframe tbody tr th:only-of-type {\n",
       "        vertical-align: middle;\n",
       "    }\n",
       "\n",
       "    .dataframe tbody tr th {\n",
       "        vertical-align: top;\n",
       "    }\n",
       "\n",
       "    .dataframe thead th {\n",
       "        text-align: right;\n",
       "    }\n",
       "</style>\n",
       "<table border=\"1\" class=\"dataframe\">\n",
       "  <thead>\n",
       "    <tr style=\"text-align: right;\">\n",
       "      <th></th>\n",
       "      <th>name</th>\n",
       "      <th>department</th>\n",
       "    </tr>\n",
       "  </thead>\n",
       "  <tbody>\n",
       "    <tr>\n",
       "      <th>0</th>\n",
       "      <td>Alice</td>\n",
       "      <td>Sales</td>\n",
       "    </tr>\n",
       "    <tr>\n",
       "      <th>1</th>\n",
       "      <td>Bob</td>\n",
       "      <td>IT</td>\n",
       "    </tr>\n",
       "    <tr>\n",
       "      <th>2</th>\n",
       "      <td>Charlie</td>\n",
       "      <td>HR</td>\n",
       "    </tr>\n",
       "  </tbody>\n",
       "</table>\n",
       "</div>"
      ],
      "text/plain": [
       "      name department\n",
       "0    Alice      Sales\n",
       "1      Bob         IT\n",
       "2  Charlie         HR"
      ]
     },
     "execution_count": 23,
     "metadata": {},
     "output_type": "execute_result"
    }
   ],
   "source": [
    "# Select string columns\n",
    "df_mixed.select_dtypes(include='object')"
   ]
  },
  {
   "cell_type": "code",
   "execution_count": 24,
   "id": "4b4c2188",
   "metadata": {},
   "outputs": [
    {
     "data": {
      "application/vnd.microsoft.datawrangler.viewer.v0+json": {
       "columns": [
        {
         "name": "index",
         "rawType": "int64",
         "type": "integer"
        },
        {
         "name": "age",
         "rawType": "int64",
         "type": "integer"
        },
        {
         "name": "salary",
         "rawType": "float64",
         "type": "float"
        },
        {
         "name": "is_manager",
         "rawType": "bool",
         "type": "boolean"
        },
        {
         "name": "employee_id",
         "rawType": "int64",
         "type": "integer"
        }
       ],
       "ref": "2a7f9889-27ec-4ef1-8ba8-4ce3ceb38967",
       "rows": [
        [
         "0",
         "25",
         "70000.5",
         "False",
         "1001"
        ],
        [
         "1",
         "30",
         "80000.0",
         "True",
         "1002"
        ],
        [
         "2",
         "35",
         "75000.25",
         "False",
         "1003"
        ]
       ],
       "shape": {
        "columns": 4,
        "rows": 3
       }
      },
      "text/html": [
       "<div>\n",
       "<style scoped>\n",
       "    .dataframe tbody tr th:only-of-type {\n",
       "        vertical-align: middle;\n",
       "    }\n",
       "\n",
       "    .dataframe tbody tr th {\n",
       "        vertical-align: top;\n",
       "    }\n",
       "\n",
       "    .dataframe thead th {\n",
       "        text-align: right;\n",
       "    }\n",
       "</style>\n",
       "<table border=\"1\" class=\"dataframe\">\n",
       "  <thead>\n",
       "    <tr style=\"text-align: right;\">\n",
       "      <th></th>\n",
       "      <th>age</th>\n",
       "      <th>salary</th>\n",
       "      <th>is_manager</th>\n",
       "      <th>employee_id</th>\n",
       "    </tr>\n",
       "  </thead>\n",
       "  <tbody>\n",
       "    <tr>\n",
       "      <th>0</th>\n",
       "      <td>25</td>\n",
       "      <td>70000.50</td>\n",
       "      <td>False</td>\n",
       "      <td>1001</td>\n",
       "    </tr>\n",
       "    <tr>\n",
       "      <th>1</th>\n",
       "      <td>30</td>\n",
       "      <td>80000.00</td>\n",
       "      <td>True</td>\n",
       "      <td>1002</td>\n",
       "    </tr>\n",
       "    <tr>\n",
       "      <th>2</th>\n",
       "      <td>35</td>\n",
       "      <td>75000.25</td>\n",
       "      <td>False</td>\n",
       "      <td>1003</td>\n",
       "    </tr>\n",
       "  </tbody>\n",
       "</table>\n",
       "</div>"
      ],
      "text/plain": [
       "   age    salary  is_manager  employee_id\n",
       "0   25  70000.50       False         1001\n",
       "1   30  80000.00        True         1002\n",
       "2   35  75000.25       False         1003"
      ]
     },
     "execution_count": 24,
     "metadata": {},
     "output_type": "execute_result"
    }
   ],
   "source": [
    "# Select multiple types\n",
    "df_mixed.select_dtypes(include=['number', 'bool'])"
   ]
  },
  {
   "cell_type": "code",
   "execution_count": 25,
   "id": "5c49e631",
   "metadata": {},
   "outputs": [
    {
     "data": {
      "application/vnd.microsoft.datawrangler.viewer.v0+json": {
       "columns": [
        {
         "name": "index",
         "rawType": "int64",
         "type": "integer"
        },
        {
         "name": "name",
         "rawType": "object",
         "type": "string"
        },
        {
         "name": "age",
         "rawType": "int64",
         "type": "integer"
        },
        {
         "name": "salary",
         "rawType": "float64",
         "type": "float"
        },
        {
         "name": "is_manager",
         "rawType": "bool",
         "type": "boolean"
        },
        {
         "name": "department",
         "rawType": "object",
         "type": "string"
        },
        {
         "name": "employee_id",
         "rawType": "int64",
         "type": "integer"
        }
       ],
       "ref": "3b46e2be-0472-4ee9-975d-d7d352a0bb6a",
       "rows": [
        [
         "0",
         "Alice",
         "25",
         "70000.5",
         "False",
         "Sales",
         "1001"
        ],
        [
         "1",
         "Bob",
         "30",
         "80000.0",
         "True",
         "IT",
         "1002"
        ],
        [
         "2",
         "Charlie",
         "35",
         "75000.25",
         "False",
         "HR",
         "1003"
        ]
       ],
       "shape": {
        "columns": 6,
        "rows": 3
       }
      },
      "text/html": [
       "<div>\n",
       "<style scoped>\n",
       "    .dataframe tbody tr th:only-of-type {\n",
       "        vertical-align: middle;\n",
       "    }\n",
       "\n",
       "    .dataframe tbody tr th {\n",
       "        vertical-align: top;\n",
       "    }\n",
       "\n",
       "    .dataframe thead th {\n",
       "        text-align: right;\n",
       "    }\n",
       "</style>\n",
       "<table border=\"1\" class=\"dataframe\">\n",
       "  <thead>\n",
       "    <tr style=\"text-align: right;\">\n",
       "      <th></th>\n",
       "      <th>name</th>\n",
       "      <th>age</th>\n",
       "      <th>salary</th>\n",
       "      <th>is_manager</th>\n",
       "      <th>department</th>\n",
       "      <th>employee_id</th>\n",
       "    </tr>\n",
       "  </thead>\n",
       "  <tbody>\n",
       "    <tr>\n",
       "      <th>0</th>\n",
       "      <td>Alice</td>\n",
       "      <td>25</td>\n",
       "      <td>70000.50</td>\n",
       "      <td>False</td>\n",
       "      <td>Sales</td>\n",
       "      <td>1001</td>\n",
       "    </tr>\n",
       "    <tr>\n",
       "      <th>1</th>\n",
       "      <td>Bob</td>\n",
       "      <td>30</td>\n",
       "      <td>80000.00</td>\n",
       "      <td>True</td>\n",
       "      <td>IT</td>\n",
       "      <td>1002</td>\n",
       "    </tr>\n",
       "    <tr>\n",
       "      <th>2</th>\n",
       "      <td>Charlie</td>\n",
       "      <td>35</td>\n",
       "      <td>75000.25</td>\n",
       "      <td>False</td>\n",
       "      <td>HR</td>\n",
       "      <td>1003</td>\n",
       "    </tr>\n",
       "  </tbody>\n",
       "</table>\n",
       "</div>"
      ],
      "text/plain": [
       "      name  age    salary  is_manager department  employee_id\n",
       "0    Alice   25  70000.50       False      Sales         1001\n",
       "1      Bob   30  80000.00        True         IT         1002\n",
       "2  Charlie   35  75000.25       False         HR         1003"
      ]
     },
     "execution_count": 25,
     "metadata": {},
     "output_type": "execute_result"
    }
   ],
   "source": [
    "# Exclude certain types\n",
    "df_mixed.select_dtypes(exclude='datetime')"
   ]
  },
  {
   "cell_type": "markdown",
   "id": "fc9b5c42",
   "metadata": {},
   "source": [
    "## Creating Tidyverse-Style Helper Functions\n",
    "\n",
    "To make column selection more tidyverse-like, we can create helper functions:"
   ]
  },
  {
   "cell_type": "code",
   "execution_count": null,
   "id": "af753fca",
   "metadata": {},
   "outputs": [],
   "source": [
    "def select(df, *args):\n",
    "    \"\"\"Select columns tidyverse-style.\"\"\"\n",
    "    if len(args) == 1 and isinstance(args[0], list):\n",
    "        return df[args[0]]\n",
    "    return df[list(args)]\n",
    "\n",
    "def select_contains(df, pattern):\n",
    "    \"\"\"Select columns containing pattern.\"\"\"\n",
    "    return df.filter(like=pattern)\n",
    "\n",
    "def select_starts_with(df, prefix):\n",
    "    \"\"\"Select columns starting with prefix.\"\"\"\n",
    "    return df.filter(regex=f'^{prefix}')\n",
    "\n",
    "def select_ends_with(df, suffix):\n",
    "    \"\"\"Select columns ending with suffix.\"\"\"\n",
    "    return df.filter(regex=f'{suffix}$')\n",
    "\n",
    "def select_matches(df, pattern):\n",
    "    \"\"\"Select columns matching regex pattern.\"\"\"\n",
    "    return df.filter(regex=pattern)"
   ]
  },
  {
   "cell_type": "code",
   "execution_count": null,
   "id": "c4e062d9",
   "metadata": {},
   "outputs": [],
   "source": [
    "# Usage examples\n",
    "print(\"Using select() helper:\")\n",
    "print(select(df, 'name', 'age', 'salary'))"
   ]
  },
  {
   "cell_type": "code",
   "execution_count": null,
   "id": "d0e23a34",
   "metadata": {},
   "outputs": [],
   "source": [
    "print(\"Using select_contains():\")\n",
    "print(select_contains(df_wide, 'score'))"
   ]
  },
  {
   "cell_type": "markdown",
   "id": "293ed00b",
   "metadata": {},
   "source": [
    "## Excluding Columns\n",
    "\n",
    "Sometimes it's easier to specify what you don't want:"
   ]
  },
  {
   "cell_type": "code",
   "execution_count": 26,
   "id": "05980563",
   "metadata": {},
   "outputs": [
    {
     "data": {
      "application/vnd.microsoft.datawrangler.viewer.v0+json": {
       "columns": [
        {
         "name": "index",
         "rawType": "int64",
         "type": "integer"
        },
        {
         "name": "name",
         "rawType": "object",
         "type": "string"
        },
        {
         "name": "department",
         "rawType": "object",
         "type": "string"
        },
        {
         "name": "years_experience",
         "rawType": "int64",
         "type": "integer"
        },
        {
         "name": "performance_rating",
         "rawType": "float64",
         "type": "float"
        }
       ],
       "ref": "ab8ffd9a-2c33-4681-bb6e-828af71c3f8a",
       "rows": [
        [
         "0",
         "Alice",
         "Sales",
         "2",
         "4.2"
        ],
        [
         "1",
         "Bob",
         "IT",
         "5",
         "4.5"
        ],
        [
         "2",
         "Charlie",
         "HR",
         "8",
         "3.8"
        ],
        [
         "3",
         "David",
         "Sales",
         "3",
         "4.0"
        ],
        [
         "4",
         "Eve",
         "IT",
         "7",
         "4.6"
        ]
       ],
       "shape": {
        "columns": 4,
        "rows": 5
       }
      },
      "text/html": [
       "<div>\n",
       "<style scoped>\n",
       "    .dataframe tbody tr th:only-of-type {\n",
       "        vertical-align: middle;\n",
       "    }\n",
       "\n",
       "    .dataframe tbody tr th {\n",
       "        vertical-align: top;\n",
       "    }\n",
       "\n",
       "    .dataframe thead th {\n",
       "        text-align: right;\n",
       "    }\n",
       "</style>\n",
       "<table border=\"1\" class=\"dataframe\">\n",
       "  <thead>\n",
       "    <tr style=\"text-align: right;\">\n",
       "      <th></th>\n",
       "      <th>name</th>\n",
       "      <th>department</th>\n",
       "      <th>years_experience</th>\n",
       "      <th>performance_rating</th>\n",
       "    </tr>\n",
       "  </thead>\n",
       "  <tbody>\n",
       "    <tr>\n",
       "      <th>0</th>\n",
       "      <td>Alice</td>\n",
       "      <td>Sales</td>\n",
       "      <td>2</td>\n",
       "      <td>4.2</td>\n",
       "    </tr>\n",
       "    <tr>\n",
       "      <th>1</th>\n",
       "      <td>Bob</td>\n",
       "      <td>IT</td>\n",
       "      <td>5</td>\n",
       "      <td>4.5</td>\n",
       "    </tr>\n",
       "    <tr>\n",
       "      <th>2</th>\n",
       "      <td>Charlie</td>\n",
       "      <td>HR</td>\n",
       "      <td>8</td>\n",
       "      <td>3.8</td>\n",
       "    </tr>\n",
       "    <tr>\n",
       "      <th>3</th>\n",
       "      <td>David</td>\n",
       "      <td>Sales</td>\n",
       "      <td>3</td>\n",
       "      <td>4.0</td>\n",
       "    </tr>\n",
       "    <tr>\n",
       "      <th>4</th>\n",
       "      <td>Eve</td>\n",
       "      <td>IT</td>\n",
       "      <td>7</td>\n",
       "      <td>4.6</td>\n",
       "    </tr>\n",
       "  </tbody>\n",
       "</table>\n",
       "</div>"
      ],
      "text/plain": [
       "      name department  years_experience  performance_rating\n",
       "0    Alice      Sales                 2                 4.2\n",
       "1      Bob         IT                 5                 4.5\n",
       "2  Charlie         HR                 8                 3.8\n",
       "3    David      Sales                 3                 4.0\n",
       "4      Eve         IT                 7                 4.6"
      ]
     },
     "execution_count": 26,
     "metadata": {},
     "output_type": "execute_result"
    }
   ],
   "source": [
    "# Exclude specific columns\n",
    "df.drop(columns=['age', 'salary'])"
   ]
  },
  {
   "cell_type": "code",
   "execution_count": 27,
   "id": "0b41bc77",
   "metadata": {},
   "outputs": [
    {
     "data": {
      "application/vnd.microsoft.datawrangler.viewer.v0+json": {
       "columns": [
        {
         "name": "index",
         "rawType": "int64",
         "type": "integer"
        },
        {
         "name": "name",
         "rawType": "object",
         "type": "string"
        },
        {
         "name": "department",
         "rawType": "object",
         "type": "string"
        },
        {
         "name": "years_experience",
         "rawType": "int64",
         "type": "integer"
        },
        {
         "name": "performance_rating",
         "rawType": "float64",
         "type": "float"
        }
       ],
       "ref": "a8793aa5-9d62-49e8-a0fd-46cf63b78505",
       "rows": [
        [
         "0",
         "Alice",
         "Sales",
         "2",
         "4.2"
        ],
        [
         "1",
         "Bob",
         "IT",
         "5",
         "4.5"
        ],
        [
         "2",
         "Charlie",
         "HR",
         "8",
         "3.8"
        ],
        [
         "3",
         "David",
         "Sales",
         "3",
         "4.0"
        ],
        [
         "4",
         "Eve",
         "IT",
         "7",
         "4.6"
        ]
       ],
       "shape": {
        "columns": 4,
        "rows": 5
       }
      },
      "text/html": [
       "<div>\n",
       "<style scoped>\n",
       "    .dataframe tbody tr th:only-of-type {\n",
       "        vertical-align: middle;\n",
       "    }\n",
       "\n",
       "    .dataframe tbody tr th {\n",
       "        vertical-align: top;\n",
       "    }\n",
       "\n",
       "    .dataframe thead th {\n",
       "        text-align: right;\n",
       "    }\n",
       "</style>\n",
       "<table border=\"1\" class=\"dataframe\">\n",
       "  <thead>\n",
       "    <tr style=\"text-align: right;\">\n",
       "      <th></th>\n",
       "      <th>name</th>\n",
       "      <th>department</th>\n",
       "      <th>years_experience</th>\n",
       "      <th>performance_rating</th>\n",
       "    </tr>\n",
       "  </thead>\n",
       "  <tbody>\n",
       "    <tr>\n",
       "      <th>0</th>\n",
       "      <td>Alice</td>\n",
       "      <td>Sales</td>\n",
       "      <td>2</td>\n",
       "      <td>4.2</td>\n",
       "    </tr>\n",
       "    <tr>\n",
       "      <th>1</th>\n",
       "      <td>Bob</td>\n",
       "      <td>IT</td>\n",
       "      <td>5</td>\n",
       "      <td>4.5</td>\n",
       "    </tr>\n",
       "    <tr>\n",
       "      <th>2</th>\n",
       "      <td>Charlie</td>\n",
       "      <td>HR</td>\n",
       "      <td>8</td>\n",
       "      <td>3.8</td>\n",
       "    </tr>\n",
       "    <tr>\n",
       "      <th>3</th>\n",
       "      <td>David</td>\n",
       "      <td>Sales</td>\n",
       "      <td>3</td>\n",
       "      <td>4.0</td>\n",
       "    </tr>\n",
       "    <tr>\n",
       "      <th>4</th>\n",
       "      <td>Eve</td>\n",
       "      <td>IT</td>\n",
       "      <td>7</td>\n",
       "      <td>4.6</td>\n",
       "    </tr>\n",
       "  </tbody>\n",
       "</table>\n",
       "</div>"
      ],
      "text/plain": [
       "      name department  years_experience  performance_rating\n",
       "0    Alice      Sales                 2                 4.2\n",
       "1      Bob         IT                 5                 4.5\n",
       "2  Charlie         HR                 8                 3.8\n",
       "3    David      Sales                 3                 4.0\n",
       "4      Eve         IT                 7                 4.6"
      ]
     },
     "execution_count": 27,
     "metadata": {},
     "output_type": "execute_result"
    }
   ],
   "source": [
    "# Alternative approach\n",
    "all_cols = df.columns.tolist()\n",
    "exclude = ['age', 'salary']\n",
    "keep_cols = [col for col in all_cols if col not in exclude]\n",
    "\n",
    "df[keep_cols]"
   ]
  },
  {
   "cell_type": "code",
   "execution_count": 28,
   "id": "cf651bdb",
   "metadata": {},
   "outputs": [
    {
     "data": {
      "application/vnd.microsoft.datawrangler.viewer.v0+json": {
       "columns": [
        {
         "name": "index",
         "rawType": "int64",
         "type": "integer"
        },
        {
         "name": "name",
         "rawType": "object",
         "type": "string"
        },
        {
         "name": "age",
         "rawType": "int64",
         "type": "integer"
        },
        {
         "name": "salary",
         "rawType": "int64",
         "type": "integer"
        },
        {
         "name": "department",
         "rawType": "object",
         "type": "string"
        },
        {
         "name": "years_experience",
         "rawType": "int64",
         "type": "integer"
        }
       ],
       "ref": "61bec3da-d0fb-40b2-8084-23ba80e68144",
       "rows": [
        [
         "0",
         "Alice",
         "25",
         "70000",
         "Sales",
         "2"
        ],
        [
         "1",
         "Bob",
         "30",
         "80000",
         "IT",
         "5"
        ],
        [
         "2",
         "Charlie",
         "35",
         "75000",
         "HR",
         "8"
        ],
        [
         "3",
         "David",
         "28",
         "72000",
         "Sales",
         "3"
        ],
        [
         "4",
         "Eve",
         "33",
         "85000",
         "IT",
         "7"
        ]
       ],
       "shape": {
        "columns": 5,
        "rows": 5
       }
      },
      "text/html": [
       "<div>\n",
       "<style scoped>\n",
       "    .dataframe tbody tr th:only-of-type {\n",
       "        vertical-align: middle;\n",
       "    }\n",
       "\n",
       "    .dataframe tbody tr th {\n",
       "        vertical-align: top;\n",
       "    }\n",
       "\n",
       "    .dataframe thead th {\n",
       "        text-align: right;\n",
       "    }\n",
       "</style>\n",
       "<table border=\"1\" class=\"dataframe\">\n",
       "  <thead>\n",
       "    <tr style=\"text-align: right;\">\n",
       "      <th></th>\n",
       "      <th>name</th>\n",
       "      <th>age</th>\n",
       "      <th>salary</th>\n",
       "      <th>department</th>\n",
       "      <th>years_experience</th>\n",
       "    </tr>\n",
       "  </thead>\n",
       "  <tbody>\n",
       "    <tr>\n",
       "      <th>0</th>\n",
       "      <td>Alice</td>\n",
       "      <td>25</td>\n",
       "      <td>70000</td>\n",
       "      <td>Sales</td>\n",
       "      <td>2</td>\n",
       "    </tr>\n",
       "    <tr>\n",
       "      <th>1</th>\n",
       "      <td>Bob</td>\n",
       "      <td>30</td>\n",
       "      <td>80000</td>\n",
       "      <td>IT</td>\n",
       "      <td>5</td>\n",
       "    </tr>\n",
       "    <tr>\n",
       "      <th>2</th>\n",
       "      <td>Charlie</td>\n",
       "      <td>35</td>\n",
       "      <td>75000</td>\n",
       "      <td>HR</td>\n",
       "      <td>8</td>\n",
       "    </tr>\n",
       "    <tr>\n",
       "      <th>3</th>\n",
       "      <td>David</td>\n",
       "      <td>28</td>\n",
       "      <td>72000</td>\n",
       "      <td>Sales</td>\n",
       "      <td>3</td>\n",
       "    </tr>\n",
       "    <tr>\n",
       "      <th>4</th>\n",
       "      <td>Eve</td>\n",
       "      <td>33</td>\n",
       "      <td>85000</td>\n",
       "      <td>IT</td>\n",
       "      <td>7</td>\n",
       "    </tr>\n",
       "  </tbody>\n",
       "</table>\n",
       "</div>"
      ],
      "text/plain": [
       "      name  age  salary department  years_experience\n",
       "0    Alice   25   70000      Sales                 2\n",
       "1      Bob   30   80000         IT                 5\n",
       "2  Charlie   35   75000         HR                 8\n",
       "3    David   28   72000      Sales                 3\n",
       "4      Eve   33   85000         IT                 7"
      ]
     },
     "execution_count": 28,
     "metadata": {},
     "output_type": "execute_result"
    }
   ],
   "source": [
    "# Exclude by pattern\n",
    "cols_without_rating = df.columns[~df.columns.str.contains('rating')]\n",
    "df[cols_without_rating]"
   ]
  },
  {
   "cell_type": "markdown",
   "id": "7c622bcc",
   "metadata": {},
   "source": [
    "## Reordering Columns\n",
    "\n",
    "Selecting columns in a specific order:"
   ]
  },
  {
   "cell_type": "code",
   "execution_count": 29,
   "id": "f38427a2",
   "metadata": {},
   "outputs": [
    {
     "data": {
      "application/vnd.microsoft.datawrangler.viewer.v0+json": {
       "columns": [
        {
         "name": "index",
         "rawType": "int64",
         "type": "integer"
        },
        {
         "name": "department",
         "rawType": "object",
         "type": "string"
        },
        {
         "name": "name",
         "rawType": "object",
         "type": "string"
        },
        {
         "name": "age",
         "rawType": "int64",
         "type": "integer"
        },
        {
         "name": "salary",
         "rawType": "int64",
         "type": "integer"
        },
        {
         "name": "years_experience",
         "rawType": "int64",
         "type": "integer"
        },
        {
         "name": "performance_rating",
         "rawType": "float64",
         "type": "float"
        }
       ],
       "ref": "540ba09d-1baf-4945-8e72-990a6d983c7f",
       "rows": [
        [
         "0",
         "Sales",
         "Alice",
         "25",
         "70000",
         "2",
         "4.2"
        ],
        [
         "1",
         "IT",
         "Bob",
         "30",
         "80000",
         "5",
         "4.5"
        ],
        [
         "2",
         "HR",
         "Charlie",
         "35",
         "75000",
         "8",
         "3.8"
        ],
        [
         "3",
         "Sales",
         "David",
         "28",
         "72000",
         "3",
         "4.0"
        ],
        [
         "4",
         "IT",
         "Eve",
         "33",
         "85000",
         "7",
         "4.6"
        ]
       ],
       "shape": {
        "columns": 6,
        "rows": 5
       }
      },
      "text/html": [
       "<div>\n",
       "<style scoped>\n",
       "    .dataframe tbody tr th:only-of-type {\n",
       "        vertical-align: middle;\n",
       "    }\n",
       "\n",
       "    .dataframe tbody tr th {\n",
       "        vertical-align: top;\n",
       "    }\n",
       "\n",
       "    .dataframe thead th {\n",
       "        text-align: right;\n",
       "    }\n",
       "</style>\n",
       "<table border=\"1\" class=\"dataframe\">\n",
       "  <thead>\n",
       "    <tr style=\"text-align: right;\">\n",
       "      <th></th>\n",
       "      <th>department</th>\n",
       "      <th>name</th>\n",
       "      <th>age</th>\n",
       "      <th>salary</th>\n",
       "      <th>years_experience</th>\n",
       "      <th>performance_rating</th>\n",
       "    </tr>\n",
       "  </thead>\n",
       "  <tbody>\n",
       "    <tr>\n",
       "      <th>0</th>\n",
       "      <td>Sales</td>\n",
       "      <td>Alice</td>\n",
       "      <td>25</td>\n",
       "      <td>70000</td>\n",
       "      <td>2</td>\n",
       "      <td>4.2</td>\n",
       "    </tr>\n",
       "    <tr>\n",
       "      <th>1</th>\n",
       "      <td>IT</td>\n",
       "      <td>Bob</td>\n",
       "      <td>30</td>\n",
       "      <td>80000</td>\n",
       "      <td>5</td>\n",
       "      <td>4.5</td>\n",
       "    </tr>\n",
       "    <tr>\n",
       "      <th>2</th>\n",
       "      <td>HR</td>\n",
       "      <td>Charlie</td>\n",
       "      <td>35</td>\n",
       "      <td>75000</td>\n",
       "      <td>8</td>\n",
       "      <td>3.8</td>\n",
       "    </tr>\n",
       "    <tr>\n",
       "      <th>3</th>\n",
       "      <td>Sales</td>\n",
       "      <td>David</td>\n",
       "      <td>28</td>\n",
       "      <td>72000</td>\n",
       "      <td>3</td>\n",
       "      <td>4.0</td>\n",
       "    </tr>\n",
       "    <tr>\n",
       "      <th>4</th>\n",
       "      <td>IT</td>\n",
       "      <td>Eve</td>\n",
       "      <td>33</td>\n",
       "      <td>85000</td>\n",
       "      <td>7</td>\n",
       "      <td>4.6</td>\n",
       "    </tr>\n",
       "  </tbody>\n",
       "</table>\n",
       "</div>"
      ],
      "text/plain": [
       "  department     name  age  salary  years_experience  performance_rating\n",
       "0      Sales    Alice   25   70000                 2                 4.2\n",
       "1         IT      Bob   30   80000                 5                 4.5\n",
       "2         HR  Charlie   35   75000                 8                 3.8\n",
       "3      Sales    David   28   72000                 3                 4.0\n",
       "4         IT      Eve   33   85000                 7                 4.6"
      ]
     },
     "execution_count": 29,
     "metadata": {},
     "output_type": "execute_result"
    }
   ],
   "source": [
    "# Reorder columns\n",
    "df[['department', 'name', 'age', 'salary', 'years_experience', 'performance_rating']]"
   ]
  },
  {
   "cell_type": "code",
   "execution_count": 30,
   "id": "9aa683e1",
   "metadata": {},
   "outputs": [
    {
     "data": {
      "application/vnd.microsoft.datawrangler.viewer.v0+json": {
       "columns": [
        {
         "name": "index",
         "rawType": "int64",
         "type": "integer"
        },
        {
         "name": "department",
         "rawType": "object",
         "type": "string"
        },
        {
         "name": "name",
         "rawType": "object",
         "type": "string"
        },
        {
         "name": "age",
         "rawType": "int64",
         "type": "integer"
        },
        {
         "name": "salary",
         "rawType": "int64",
         "type": "integer"
        },
        {
         "name": "years_experience",
         "rawType": "int64",
         "type": "integer"
        },
        {
         "name": "performance_rating",
         "rawType": "float64",
         "type": "float"
        }
       ],
       "ref": "54c8e2f0-3e5a-4329-a3e7-33f9685f5d26",
       "rows": [
        [
         "0",
         "Sales",
         "Alice",
         "25",
         "70000",
         "2",
         "4.2"
        ],
        [
         "1",
         "IT",
         "Bob",
         "30",
         "80000",
         "5",
         "4.5"
        ],
        [
         "2",
         "HR",
         "Charlie",
         "35",
         "75000",
         "8",
         "3.8"
        ],
        [
         "3",
         "Sales",
         "David",
         "28",
         "72000",
         "3",
         "4.0"
        ],
        [
         "4",
         "IT",
         "Eve",
         "33",
         "85000",
         "7",
         "4.6"
        ]
       ],
       "shape": {
        "columns": 6,
        "rows": 5
       }
      },
      "text/html": [
       "<div>\n",
       "<style scoped>\n",
       "    .dataframe tbody tr th:only-of-type {\n",
       "        vertical-align: middle;\n",
       "    }\n",
       "\n",
       "    .dataframe tbody tr th {\n",
       "        vertical-align: top;\n",
       "    }\n",
       "\n",
       "    .dataframe thead th {\n",
       "        text-align: right;\n",
       "    }\n",
       "</style>\n",
       "<table border=\"1\" class=\"dataframe\">\n",
       "  <thead>\n",
       "    <tr style=\"text-align: right;\">\n",
       "      <th></th>\n",
       "      <th>department</th>\n",
       "      <th>name</th>\n",
       "      <th>age</th>\n",
       "      <th>salary</th>\n",
       "      <th>years_experience</th>\n",
       "      <th>performance_rating</th>\n",
       "    </tr>\n",
       "  </thead>\n",
       "  <tbody>\n",
       "    <tr>\n",
       "      <th>0</th>\n",
       "      <td>Sales</td>\n",
       "      <td>Alice</td>\n",
       "      <td>25</td>\n",
       "      <td>70000</td>\n",
       "      <td>2</td>\n",
       "      <td>4.2</td>\n",
       "    </tr>\n",
       "    <tr>\n",
       "      <th>1</th>\n",
       "      <td>IT</td>\n",
       "      <td>Bob</td>\n",
       "      <td>30</td>\n",
       "      <td>80000</td>\n",
       "      <td>5</td>\n",
       "      <td>4.5</td>\n",
       "    </tr>\n",
       "    <tr>\n",
       "      <th>2</th>\n",
       "      <td>HR</td>\n",
       "      <td>Charlie</td>\n",
       "      <td>35</td>\n",
       "      <td>75000</td>\n",
       "      <td>8</td>\n",
       "      <td>3.8</td>\n",
       "    </tr>\n",
       "    <tr>\n",
       "      <th>3</th>\n",
       "      <td>Sales</td>\n",
       "      <td>David</td>\n",
       "      <td>28</td>\n",
       "      <td>72000</td>\n",
       "      <td>3</td>\n",
       "      <td>4.0</td>\n",
       "    </tr>\n",
       "    <tr>\n",
       "      <th>4</th>\n",
       "      <td>IT</td>\n",
       "      <td>Eve</td>\n",
       "      <td>33</td>\n",
       "      <td>85000</td>\n",
       "      <td>7</td>\n",
       "      <td>4.6</td>\n",
       "    </tr>\n",
       "  </tbody>\n",
       "</table>\n",
       "</div>"
      ],
      "text/plain": [
       "  department     name  age  salary  years_experience  performance_rating\n",
       "0      Sales    Alice   25   70000                 2                 4.2\n",
       "1         IT      Bob   30   80000                 5                 4.5\n",
       "2         HR  Charlie   35   75000                 8                 3.8\n",
       "3      Sales    David   28   72000                 3                 4.0\n",
       "4         IT      Eve   33   85000                 7                 4.6"
      ]
     },
     "execution_count": 30,
     "metadata": {},
     "output_type": "execute_result"
    }
   ],
   "source": [
    "# Move specific columns to front\n",
    "def move_to_front(df, cols):\n",
    "    \"\"\"Move specified columns to front.\"\"\"\n",
    "    cols = [cols] if isinstance(cols, str) else cols\n",
    "    other_cols = [c for c in df.columns if c not in cols]\n",
    "    return df[cols + other_cols]\n",
    "\n",
    "move_to_front(df, ['department', 'name'])"
   ]
  },
  {
   "cell_type": "code",
   "execution_count": 31,
   "id": "d66f49fb",
   "metadata": {},
   "outputs": [
    {
     "data": {
      "application/vnd.microsoft.datawrangler.viewer.v0+json": {
       "columns": [
        {
         "name": "index",
         "rawType": "int64",
         "type": "integer"
        },
        {
         "name": "age",
         "rawType": "int64",
         "type": "integer"
        },
        {
         "name": "department",
         "rawType": "object",
         "type": "string"
        },
        {
         "name": "name",
         "rawType": "object",
         "type": "string"
        },
        {
         "name": "performance_rating",
         "rawType": "float64",
         "type": "float"
        },
        {
         "name": "salary",
         "rawType": "int64",
         "type": "integer"
        },
        {
         "name": "years_experience",
         "rawType": "int64",
         "type": "integer"
        }
       ],
       "ref": "9cd27851-cd50-42eb-998b-583ff01862f9",
       "rows": [
        [
         "0",
         "25",
         "Sales",
         "Alice",
         "4.2",
         "70000",
         "2"
        ],
        [
         "1",
         "30",
         "IT",
         "Bob",
         "4.5",
         "80000",
         "5"
        ],
        [
         "2",
         "35",
         "HR",
         "Charlie",
         "3.8",
         "75000",
         "8"
        ],
        [
         "3",
         "28",
         "Sales",
         "David",
         "4.0",
         "72000",
         "3"
        ],
        [
         "4",
         "33",
         "IT",
         "Eve",
         "4.6",
         "85000",
         "7"
        ]
       ],
       "shape": {
        "columns": 6,
        "rows": 5
       }
      },
      "text/html": [
       "<div>\n",
       "<style scoped>\n",
       "    .dataframe tbody tr th:only-of-type {\n",
       "        vertical-align: middle;\n",
       "    }\n",
       "\n",
       "    .dataframe tbody tr th {\n",
       "        vertical-align: top;\n",
       "    }\n",
       "\n",
       "    .dataframe thead th {\n",
       "        text-align: right;\n",
       "    }\n",
       "</style>\n",
       "<table border=\"1\" class=\"dataframe\">\n",
       "  <thead>\n",
       "    <tr style=\"text-align: right;\">\n",
       "      <th></th>\n",
       "      <th>age</th>\n",
       "      <th>department</th>\n",
       "      <th>name</th>\n",
       "      <th>performance_rating</th>\n",
       "      <th>salary</th>\n",
       "      <th>years_experience</th>\n",
       "    </tr>\n",
       "  </thead>\n",
       "  <tbody>\n",
       "    <tr>\n",
       "      <th>0</th>\n",
       "      <td>25</td>\n",
       "      <td>Sales</td>\n",
       "      <td>Alice</td>\n",
       "      <td>4.2</td>\n",
       "      <td>70000</td>\n",
       "      <td>2</td>\n",
       "    </tr>\n",
       "    <tr>\n",
       "      <th>1</th>\n",
       "      <td>30</td>\n",
       "      <td>IT</td>\n",
       "      <td>Bob</td>\n",
       "      <td>4.5</td>\n",
       "      <td>80000</td>\n",
       "      <td>5</td>\n",
       "    </tr>\n",
       "    <tr>\n",
       "      <th>2</th>\n",
       "      <td>35</td>\n",
       "      <td>HR</td>\n",
       "      <td>Charlie</td>\n",
       "      <td>3.8</td>\n",
       "      <td>75000</td>\n",
       "      <td>8</td>\n",
       "    </tr>\n",
       "    <tr>\n",
       "      <th>3</th>\n",
       "      <td>28</td>\n",
       "      <td>Sales</td>\n",
       "      <td>David</td>\n",
       "      <td>4.0</td>\n",
       "      <td>72000</td>\n",
       "      <td>3</td>\n",
       "    </tr>\n",
       "    <tr>\n",
       "      <th>4</th>\n",
       "      <td>33</td>\n",
       "      <td>IT</td>\n",
       "      <td>Eve</td>\n",
       "      <td>4.6</td>\n",
       "      <td>85000</td>\n",
       "      <td>7</td>\n",
       "    </tr>\n",
       "  </tbody>\n",
       "</table>\n",
       "</div>"
      ],
      "text/plain": [
       "   age department     name  performance_rating  salary  years_experience\n",
       "0   25      Sales    Alice                 4.2   70000                 2\n",
       "1   30         IT      Bob                 4.5   80000                 5\n",
       "2   35         HR  Charlie                 3.8   75000                 8\n",
       "3   28      Sales    David                 4.0   72000                 3\n",
       "4   33         IT      Eve                 4.6   85000                 7"
      ]
     },
     "execution_count": 31,
     "metadata": {},
     "output_type": "execute_result"
    }
   ],
   "source": [
    "# Sort columns alphabetically\n",
    "df[sorted(df.columns)]"
   ]
  },
  {
   "cell_type": "markdown",
   "id": "073ed658",
   "metadata": {},
   "source": [
    "## Renaming While Selecting\n",
    "\n",
    "Combining selection with renaming:"
   ]
  },
  {
   "cell_type": "code",
   "execution_count": 32,
   "id": "3cfedbd7",
   "metadata": {},
   "outputs": [
    {
     "data": {
      "application/vnd.microsoft.datawrangler.viewer.v0+json": {
       "columns": [
        {
         "name": "index",
         "rawType": "int64",
         "type": "integer"
        },
        {
         "name": "employee",
         "rawType": "object",
         "type": "string"
        },
        {
         "name": "dept",
         "rawType": "object",
         "type": "string"
        }
       ],
       "ref": "f386653d-ad87-42ef-b424-27bc0381834f",
       "rows": [
        [
         "0",
         "Alice",
         "Sales"
        ],
        [
         "1",
         "Bob",
         "IT"
        ],
        [
         "2",
         "Charlie",
         "HR"
        ],
        [
         "3",
         "David",
         "Sales"
        ],
        [
         "4",
         "Eve",
         "IT"
        ]
       ],
       "shape": {
        "columns": 2,
        "rows": 5
       }
      },
      "text/html": [
       "<div>\n",
       "<style scoped>\n",
       "    .dataframe tbody tr th:only-of-type {\n",
       "        vertical-align: middle;\n",
       "    }\n",
       "\n",
       "    .dataframe tbody tr th {\n",
       "        vertical-align: top;\n",
       "    }\n",
       "\n",
       "    .dataframe thead th {\n",
       "        text-align: right;\n",
       "    }\n",
       "</style>\n",
       "<table border=\"1\" class=\"dataframe\">\n",
       "  <thead>\n",
       "    <tr style=\"text-align: right;\">\n",
       "      <th></th>\n",
       "      <th>employee</th>\n",
       "      <th>dept</th>\n",
       "    </tr>\n",
       "  </thead>\n",
       "  <tbody>\n",
       "    <tr>\n",
       "      <th>0</th>\n",
       "      <td>Alice</td>\n",
       "      <td>Sales</td>\n",
       "    </tr>\n",
       "    <tr>\n",
       "      <th>1</th>\n",
       "      <td>Bob</td>\n",
       "      <td>IT</td>\n",
       "    </tr>\n",
       "    <tr>\n",
       "      <th>2</th>\n",
       "      <td>Charlie</td>\n",
       "      <td>HR</td>\n",
       "    </tr>\n",
       "    <tr>\n",
       "      <th>3</th>\n",
       "      <td>David</td>\n",
       "      <td>Sales</td>\n",
       "    </tr>\n",
       "    <tr>\n",
       "      <th>4</th>\n",
       "      <td>Eve</td>\n",
       "      <td>IT</td>\n",
       "    </tr>\n",
       "  </tbody>\n",
       "</table>\n",
       "</div>"
      ],
      "text/plain": [
       "  employee   dept\n",
       "0    Alice  Sales\n",
       "1      Bob     IT\n",
       "2  Charlie     HR\n",
       "3    David  Sales\n",
       "4      Eve     IT"
      ]
     },
     "execution_count": 32,
     "metadata": {},
     "output_type": "execute_result"
    }
   ],
   "source": [
    "# Select and rename in one step\n",
    "df[['name', 'department']].rename(columns={\n",
    "    'name': 'employee',\n",
    "    'department': 'dept'\n",
    "})"
   ]
  },
  {
   "cell_type": "code",
   "execution_count": 33,
   "id": "76fcaa00",
   "metadata": {},
   "outputs": [
    {
     "data": {
      "application/vnd.microsoft.datawrangler.viewer.v0+json": {
       "columns": [
        {
         "name": "index",
         "rawType": "int64",
         "type": "integer"
        },
        {
         "name": "num_age",
         "rawType": "int64",
         "type": "integer"
        },
        {
         "name": "num_salary",
         "rawType": "int64",
         "type": "integer"
        },
        {
         "name": "num_years_experience",
         "rawType": "int64",
         "type": "integer"
        },
        {
         "name": "num_performance_rating",
         "rawType": "float64",
         "type": "float"
        }
       ],
       "ref": "c0da669e-8198-4fb8-88c5-ac95b0edc240",
       "rows": [
        [
         "0",
         "25",
         "70000",
         "2",
         "4.2"
        ],
        [
         "1",
         "30",
         "80000",
         "5",
         "4.5"
        ],
        [
         "2",
         "35",
         "75000",
         "8",
         "3.8"
        ],
        [
         "3",
         "28",
         "72000",
         "3",
         "4.0"
        ],
        [
         "4",
         "33",
         "85000",
         "7",
         "4.6"
        ]
       ],
       "shape": {
        "columns": 4,
        "rows": 5
       }
      },
      "text/html": [
       "<div>\n",
       "<style scoped>\n",
       "    .dataframe tbody tr th:only-of-type {\n",
       "        vertical-align: middle;\n",
       "    }\n",
       "\n",
       "    .dataframe tbody tr th {\n",
       "        vertical-align: top;\n",
       "    }\n",
       "\n",
       "    .dataframe thead th {\n",
       "        text-align: right;\n",
       "    }\n",
       "</style>\n",
       "<table border=\"1\" class=\"dataframe\">\n",
       "  <thead>\n",
       "    <tr style=\"text-align: right;\">\n",
       "      <th></th>\n",
       "      <th>num_age</th>\n",
       "      <th>num_salary</th>\n",
       "      <th>num_years_experience</th>\n",
       "      <th>num_performance_rating</th>\n",
       "    </tr>\n",
       "  </thead>\n",
       "  <tbody>\n",
       "    <tr>\n",
       "      <th>0</th>\n",
       "      <td>25</td>\n",
       "      <td>70000</td>\n",
       "      <td>2</td>\n",
       "      <td>4.2</td>\n",
       "    </tr>\n",
       "    <tr>\n",
       "      <th>1</th>\n",
       "      <td>30</td>\n",
       "      <td>80000</td>\n",
       "      <td>5</td>\n",
       "      <td>4.5</td>\n",
       "    </tr>\n",
       "    <tr>\n",
       "      <th>2</th>\n",
       "      <td>35</td>\n",
       "      <td>75000</td>\n",
       "      <td>8</td>\n",
       "      <td>3.8</td>\n",
       "    </tr>\n",
       "    <tr>\n",
       "      <th>3</th>\n",
       "      <td>28</td>\n",
       "      <td>72000</td>\n",
       "      <td>3</td>\n",
       "      <td>4.0</td>\n",
       "    </tr>\n",
       "    <tr>\n",
       "      <th>4</th>\n",
       "      <td>33</td>\n",
       "      <td>85000</td>\n",
       "      <td>7</td>\n",
       "      <td>4.6</td>\n",
       "    </tr>\n",
       "  </tbody>\n",
       "</table>\n",
       "</div>"
      ],
      "text/plain": [
       "   num_age  num_salary  num_years_experience  num_performance_rating\n",
       "0       25       70000                     2                     4.2\n",
       "1       30       80000                     5                     4.5\n",
       "2       35       75000                     8                     3.8\n",
       "3       28       72000                     3                     4.0\n",
       "4       33       85000                     7                     4.6"
      ]
     },
     "execution_count": 33,
     "metadata": {},
     "output_type": "execute_result"
    }
   ],
   "source": [
    "# More complex renaming with selection\n",
    "numeric_df = df.select_dtypes(include='number')\n",
    "numeric_df.columns = 'num_' + numeric_df.columns\n",
    "numeric_df"
   ]
  },
  {
   "cell_type": "markdown",
   "id": "589bfa89",
   "metadata": {},
   "source": [
    "## Column Selection in Method Chains\n",
    "\n",
    "Integrating column selection into pandas method chains:"
   ]
  },
  {
   "cell_type": "code",
   "execution_count": 34,
   "id": "5d94ee93",
   "metadata": {},
   "outputs": [
    {
     "data": {
      "application/vnd.microsoft.datawrangler.viewer.v0+json": {
       "columns": [
        {
         "name": "index",
         "rawType": "int64",
         "type": "integer"
        },
        {
         "name": "employee_id",
         "rawType": "int64",
         "type": "integer"
        },
        {
         "name": "first_name",
         "rawType": "object",
         "type": "string"
        },
        {
         "name": "last_name",
         "rawType": "object",
         "type": "string"
        },
        {
         "name": "age",
         "rawType": "int64",
         "type": "integer"
        },
        {
         "name": "salary_base",
         "rawType": "int64",
         "type": "integer"
        },
        {
         "name": "salary_bonus",
         "rawType": "int64",
         "type": "integer"
        },
        {
         "name": "dept_code",
         "rawType": "object",
         "type": "string"
        },
        {
         "name": "dept_name",
         "rawType": "object",
         "type": "string"
        },
        {
         "name": "years_exp",
         "rawType": "int64",
         "type": "integer"
        },
        {
         "name": "perf_q1",
         "rawType": "float64",
         "type": "float"
        },
        {
         "name": "perf_q2",
         "rawType": "float64",
         "type": "float"
        },
        {
         "name": "perf_q3",
         "rawType": "float64",
         "type": "float"
        },
        {
         "name": "perf_q4",
         "rawType": "float64",
         "type": "float"
        }
       ],
       "ref": "35c795e7-aaff-463a-a8d9-7dac93ffa3fe",
       "rows": [
        [
         "0",
         "1000",
         "Alice",
         "Smith",
         "31",
         "51685",
         "6528",
         "F",
         "HR",
         "13",
         "4.211919949562023",
         "4.421325779371575",
         "3.436880874433667",
         "4.116204004034683"
        ],
        [
         "1",
         "1001",
         "Bob",
         "Jones",
         "44",
         "50769",
         "8556",
         "I",
         "Finance",
         "9",
         "4.852601757026698",
         "3.2217816416236627",
         "3.8330198957407324",
         "3.8076723421160814"
        ],
        [
         "2",
         "1002",
         "Charlie",
         "Wilson",
         "53",
         "52433",
         "8890",
         "I",
         "IT",
         "13",
         "4.302154051003889",
         "3.8786730037315404",
         "4.766560517837736",
         "3.1297844942179633"
        ],
        [
         "3",
         "1003",
         "David",
         "Brown",
         "39",
         "55311",
         "13838",
         "I",
         "HR",
         "13",
         "4.829919351087561",
         "3.4034384046707924",
         "3.648690042010548",
         "3.5078308278686894"
        ],
        [
         "4",
         "1004",
         "Eve",
         "Davis",
         "35",
         "87819",
         "10393",
         "I",
         "Finance",
         "1",
         "4.700077155579598",
         "4.791527191347039",
         "3.2441759094013465",
         "3.4937521256772026"
        ]
       ],
       "shape": {
        "columns": 13,
        "rows": 5
       }
      },
      "text/html": [
       "<div>\n",
       "<style scoped>\n",
       "    .dataframe tbody tr th:only-of-type {\n",
       "        vertical-align: middle;\n",
       "    }\n",
       "\n",
       "    .dataframe tbody tr th {\n",
       "        vertical-align: top;\n",
       "    }\n",
       "\n",
       "    .dataframe thead th {\n",
       "        text-align: right;\n",
       "    }\n",
       "</style>\n",
       "<table border=\"1\" class=\"dataframe\">\n",
       "  <thead>\n",
       "    <tr style=\"text-align: right;\">\n",
       "      <th></th>\n",
       "      <th>employee_id</th>\n",
       "      <th>first_name</th>\n",
       "      <th>last_name</th>\n",
       "      <th>age</th>\n",
       "      <th>salary_base</th>\n",
       "      <th>salary_bonus</th>\n",
       "      <th>dept_code</th>\n",
       "      <th>dept_name</th>\n",
       "      <th>years_exp</th>\n",
       "      <th>perf_q1</th>\n",
       "      <th>perf_q2</th>\n",
       "      <th>perf_q3</th>\n",
       "      <th>perf_q4</th>\n",
       "    </tr>\n",
       "  </thead>\n",
       "  <tbody>\n",
       "    <tr>\n",
       "      <th>0</th>\n",
       "      <td>1000</td>\n",
       "      <td>Alice</td>\n",
       "      <td>Smith</td>\n",
       "      <td>31</td>\n",
       "      <td>51685</td>\n",
       "      <td>6528</td>\n",
       "      <td>F</td>\n",
       "      <td>HR</td>\n",
       "      <td>13</td>\n",
       "      <td>4.211920</td>\n",
       "      <td>4.421326</td>\n",
       "      <td>3.436881</td>\n",
       "      <td>4.116204</td>\n",
       "    </tr>\n",
       "    <tr>\n",
       "      <th>1</th>\n",
       "      <td>1001</td>\n",
       "      <td>Bob</td>\n",
       "      <td>Jones</td>\n",
       "      <td>44</td>\n",
       "      <td>50769</td>\n",
       "      <td>8556</td>\n",
       "      <td>I</td>\n",
       "      <td>Finance</td>\n",
       "      <td>9</td>\n",
       "      <td>4.852602</td>\n",
       "      <td>3.221782</td>\n",
       "      <td>3.833020</td>\n",
       "      <td>3.807672</td>\n",
       "    </tr>\n",
       "    <tr>\n",
       "      <th>2</th>\n",
       "      <td>1002</td>\n",
       "      <td>Charlie</td>\n",
       "      <td>Wilson</td>\n",
       "      <td>53</td>\n",
       "      <td>52433</td>\n",
       "      <td>8890</td>\n",
       "      <td>I</td>\n",
       "      <td>IT</td>\n",
       "      <td>13</td>\n",
       "      <td>4.302154</td>\n",
       "      <td>3.878673</td>\n",
       "      <td>4.766561</td>\n",
       "      <td>3.129784</td>\n",
       "    </tr>\n",
       "    <tr>\n",
       "      <th>3</th>\n",
       "      <td>1003</td>\n",
       "      <td>David</td>\n",
       "      <td>Brown</td>\n",
       "      <td>39</td>\n",
       "      <td>55311</td>\n",
       "      <td>13838</td>\n",
       "      <td>I</td>\n",
       "      <td>HR</td>\n",
       "      <td>13</td>\n",
       "      <td>4.829919</td>\n",
       "      <td>3.403438</td>\n",
       "      <td>3.648690</td>\n",
       "      <td>3.507831</td>\n",
       "    </tr>\n",
       "    <tr>\n",
       "      <th>4</th>\n",
       "      <td>1004</td>\n",
       "      <td>Eve</td>\n",
       "      <td>Davis</td>\n",
       "      <td>35</td>\n",
       "      <td>87819</td>\n",
       "      <td>10393</td>\n",
       "      <td>I</td>\n",
       "      <td>Finance</td>\n",
       "      <td>1</td>\n",
       "      <td>4.700077</td>\n",
       "      <td>4.791527</td>\n",
       "      <td>3.244176</td>\n",
       "      <td>3.493752</td>\n",
       "    </tr>\n",
       "  </tbody>\n",
       "</table>\n",
       "</div>"
      ],
      "text/plain": [
       "   employee_id first_name last_name  age  salary_base  salary_bonus dept_code  \\\n",
       "0         1000      Alice     Smith   31        51685          6528         F   \n",
       "1         1001        Bob     Jones   44        50769          8556         I   \n",
       "2         1002    Charlie    Wilson   53        52433          8890         I   \n",
       "3         1003      David     Brown   39        55311         13838         I   \n",
       "4         1004        Eve     Davis   35        87819         10393         I   \n",
       "\n",
       "  dept_name  years_exp   perf_q1   perf_q2   perf_q3   perf_q4  \n",
       "0        HR         13  4.211920  4.421326  3.436881  4.116204  \n",
       "1   Finance          9  4.852602  3.221782  3.833020  3.807672  \n",
       "2        IT         13  4.302154  3.878673  4.766561  3.129784  \n",
       "3        HR         13  4.829919  3.403438  3.648690  3.507831  \n",
       "4   Finance          1  4.700077  4.791527  3.244176  3.493752  "
      ]
     },
     "execution_count": 34,
     "metadata": {},
     "output_type": "execute_result"
    }
   ],
   "source": [
    "# Create a larger dataset\n",
    "np.random.seed(42)\n",
    "df_large = pd.DataFrame({\n",
    "    'employee_id': range(1000, 1020),\n",
    "    'first_name': ['Alice', 'Bob', 'Charlie', 'David', 'Eve'] * 4,\n",
    "    'last_name': ['Smith', 'Jones', 'Wilson', 'Brown', 'Davis'] * 4,\n",
    "    'age': np.random.randint(25, 55, 20),\n",
    "    'salary_base': np.random.randint(50000, 90000, 20),\n",
    "    'salary_bonus': np.random.randint(5000, 15000, 20),\n",
    "    'dept_code': np.random.choice(['S', 'I', 'H', 'F'], 20),\n",
    "    'dept_name': np.random.choice(['Sales', 'IT', 'HR', 'Finance'], 20),\n",
    "    'years_exp': np.random.randint(1, 15, 20),\n",
    "    'perf_q1': np.random.uniform(3, 5, 20),\n",
    "    'perf_q2': np.random.uniform(3, 5, 20),\n",
    "    'perf_q3': np.random.uniform(3, 5, 20),\n",
    "    'perf_q4': np.random.uniform(3, 5, 20)\n",
    "})\n",
    "\n",
    "df_large.head()"
   ]
  },
  {
   "cell_type": "code",
   "execution_count": 35,
   "id": "16c6dcc8",
   "metadata": {},
   "outputs": [
    {
     "data": {
      "application/vnd.microsoft.datawrangler.viewer.v0+json": {
       "columns": [
        {
         "name": "index",
         "rawType": "int64",
         "type": "integer"
        },
        {
         "name": "first_name",
         "rawType": "object",
         "type": "string"
        },
        {
         "name": "last_name",
         "rawType": "object",
         "type": "string"
        },
        {
         "name": "salary_base",
         "rawType": "int64",
         "type": "integer"
        },
        {
         "name": "salary_bonus",
         "rawType": "int64",
         "type": "integer"
        },
        {
         "name": "dept_name",
         "rawType": "object",
         "type": "string"
        }
       ],
       "ref": "f57f6dd8-bd99-4c5d-bf16-d8c71df916bb",
       "rows": [
        [
         "0",
         "Alice",
         "Smith",
         "51685",
         "6528",
         "HR"
        ],
        [
         "1",
         "Bob",
         "Jones",
         "50769",
         "8556",
         "Finance"
        ],
        [
         "2",
         "Charlie",
         "Wilson",
         "52433",
         "8890",
         "IT"
        ],
        [
         "3",
         "David",
         "Brown",
         "55311",
         "13838",
         "HR"
        ],
        [
         "4",
         "Eve",
         "Davis",
         "87819",
         "10393",
         "Finance"
        ]
       ],
       "shape": {
        "columns": 5,
        "rows": 5
       }
      },
      "text/html": [
       "<div>\n",
       "<style scoped>\n",
       "    .dataframe tbody tr th:only-of-type {\n",
       "        vertical-align: middle;\n",
       "    }\n",
       "\n",
       "    .dataframe tbody tr th {\n",
       "        vertical-align: top;\n",
       "    }\n",
       "\n",
       "    .dataframe thead th {\n",
       "        text-align: right;\n",
       "    }\n",
       "</style>\n",
       "<table border=\"1\" class=\"dataframe\">\n",
       "  <thead>\n",
       "    <tr style=\"text-align: right;\">\n",
       "      <th></th>\n",
       "      <th>first_name</th>\n",
       "      <th>last_name</th>\n",
       "      <th>salary_base</th>\n",
       "      <th>salary_bonus</th>\n",
       "      <th>dept_name</th>\n",
       "    </tr>\n",
       "  </thead>\n",
       "  <tbody>\n",
       "    <tr>\n",
       "      <th>0</th>\n",
       "      <td>Alice</td>\n",
       "      <td>Smith</td>\n",
       "      <td>51685</td>\n",
       "      <td>6528</td>\n",
       "      <td>HR</td>\n",
       "    </tr>\n",
       "    <tr>\n",
       "      <th>1</th>\n",
       "      <td>Bob</td>\n",
       "      <td>Jones</td>\n",
       "      <td>50769</td>\n",
       "      <td>8556</td>\n",
       "      <td>Finance</td>\n",
       "    </tr>\n",
       "    <tr>\n",
       "      <th>2</th>\n",
       "      <td>Charlie</td>\n",
       "      <td>Wilson</td>\n",
       "      <td>52433</td>\n",
       "      <td>8890</td>\n",
       "      <td>IT</td>\n",
       "    </tr>\n",
       "    <tr>\n",
       "      <th>3</th>\n",
       "      <td>David</td>\n",
       "      <td>Brown</td>\n",
       "      <td>55311</td>\n",
       "      <td>13838</td>\n",
       "      <td>HR</td>\n",
       "    </tr>\n",
       "    <tr>\n",
       "      <th>4</th>\n",
       "      <td>Eve</td>\n",
       "      <td>Davis</td>\n",
       "      <td>87819</td>\n",
       "      <td>10393</td>\n",
       "      <td>Finance</td>\n",
       "    </tr>\n",
       "  </tbody>\n",
       "</table>\n",
       "</div>"
      ],
      "text/plain": [
       "  first_name last_name  salary_base  salary_bonus dept_name\n",
       "0      Alice     Smith        51685          6528        HR\n",
       "1        Bob     Jones        50769          8556   Finance\n",
       "2    Charlie    Wilson        52433          8890        IT\n",
       "3      David     Brown        55311         13838        HR\n",
       "4        Eve     Davis        87819         10393   Finance"
      ]
     },
     "execution_count": 35,
     "metadata": {},
     "output_type": "execute_result"
    }
   ],
   "source": [
    "# Chain with column selection\n",
    "# R: df %>% select(contains(\"name\"), starts_with(\"salary\")) %>% head()\n",
    "result = (df_large\n",
    "          .filter(regex='name|salary')\n",
    "          .head())\n",
    "\n",
    "result"
   ]
  },
  {
   "cell_type": "code",
   "execution_count": null,
   "id": "70c2a401",
   "metadata": {},
   "outputs": [
    {
     "data": {
      "application/vnd.microsoft.datawrangler.viewer.v0+json": {
       "columns": [
        {
         "name": "index",
         "rawType": "int64",
         "type": "integer"
        },
        {
         "name": "employee_id",
         "rawType": "int64",
         "type": "integer"
        },
        {
         "name": "first_name",
         "rawType": "object",
         "type": "string"
        },
        {
         "name": "last_name",
         "rawType": "object",
         "type": "string"
        },
        {
         "name": "perf_q1",
         "rawType": "float64",
         "type": "float"
        },
        {
         "name": "perf_q2",
         "rawType": "float64",
         "type": "float"
        },
        {
         "name": "perf_q3",
         "rawType": "float64",
         "type": "float"
        },
        {
         "name": "perf_q4",
         "rawType": "float64",
         "type": "float"
        },
        {
         "name": "perf_avg",
         "rawType": "float64",
         "type": "float"
        }
       ],
       "ref": "dae5258e-eac3-4f13-a794-b4e06cb6cf0b",
       "rows": [
        [
         "0",
         "1000",
         "Alice",
         "Smith",
         "4.21",
         "4.42",
         "3.44",
         "4.12",
         "4.05"
        ],
        [
         "1",
         "1001",
         "Bob",
         "Jones",
         "4.85",
         "3.22",
         "3.83",
         "3.81",
         "3.93"
        ],
        [
         "2",
         "1002",
         "Charlie",
         "Wilson",
         "4.3",
         "3.88",
         "4.77",
         "3.13",
         "4.02"
        ],
        [
         "3",
         "1003",
         "David",
         "Brown",
         "4.83",
         "3.4",
         "3.65",
         "3.51",
         "3.85"
        ],
        [
         "4",
         "1004",
         "Eve",
         "Davis",
         "4.7",
         "4.79",
         "3.24",
         "3.49",
         "4.06"
        ]
       ],
       "shape": {
        "columns": 8,
        "rows": 5
       }
      },
      "text/html": [
       "<div>\n",
       "<style scoped>\n",
       "    .dataframe tbody tr th:only-of-type {\n",
       "        vertical-align: middle;\n",
       "    }\n",
       "\n",
       "    .dataframe tbody tr th {\n",
       "        vertical-align: top;\n",
       "    }\n",
       "\n",
       "    .dataframe thead th {\n",
       "        text-align: right;\n",
       "    }\n",
       "</style>\n",
       "<table border=\"1\" class=\"dataframe\">\n",
       "  <thead>\n",
       "    <tr style=\"text-align: right;\">\n",
       "      <th></th>\n",
       "      <th>employee_id</th>\n",
       "      <th>first_name</th>\n",
       "      <th>last_name</th>\n",
       "      <th>perf_q1</th>\n",
       "      <th>perf_q2</th>\n",
       "      <th>perf_q3</th>\n",
       "      <th>perf_q4</th>\n",
       "      <th>perf_avg</th>\n",
       "    </tr>\n",
       "  </thead>\n",
       "  <tbody>\n",
       "    <tr>\n",
       "      <th>0</th>\n",
       "      <td>1000</td>\n",
       "      <td>Alice</td>\n",
       "      <td>Smith</td>\n",
       "      <td>4.21</td>\n",
       "      <td>4.42</td>\n",
       "      <td>3.44</td>\n",
       "      <td>4.12</td>\n",
       "      <td>4.05</td>\n",
       "    </tr>\n",
       "    <tr>\n",
       "      <th>1</th>\n",
       "      <td>1001</td>\n",
       "      <td>Bob</td>\n",
       "      <td>Jones</td>\n",
       "      <td>4.85</td>\n",
       "      <td>3.22</td>\n",
       "      <td>3.83</td>\n",
       "      <td>3.81</td>\n",
       "      <td>3.93</td>\n",
       "    </tr>\n",
       "    <tr>\n",
       "      <th>2</th>\n",
       "      <td>1002</td>\n",
       "      <td>Charlie</td>\n",
       "      <td>Wilson</td>\n",
       "      <td>4.30</td>\n",
       "      <td>3.88</td>\n",
       "      <td>4.77</td>\n",
       "      <td>3.13</td>\n",
       "      <td>4.02</td>\n",
       "    </tr>\n",
       "    <tr>\n",
       "      <th>3</th>\n",
       "      <td>1003</td>\n",
       "      <td>David</td>\n",
       "      <td>Brown</td>\n",
       "      <td>4.83</td>\n",
       "      <td>3.40</td>\n",
       "      <td>3.65</td>\n",
       "      <td>3.51</td>\n",
       "      <td>3.85</td>\n",
       "    </tr>\n",
       "    <tr>\n",
       "      <th>4</th>\n",
       "      <td>1004</td>\n",
       "      <td>Eve</td>\n",
       "      <td>Davis</td>\n",
       "      <td>4.70</td>\n",
       "      <td>4.79</td>\n",
       "      <td>3.24</td>\n",
       "      <td>3.49</td>\n",
       "      <td>4.06</td>\n",
       "    </tr>\n",
       "  </tbody>\n",
       "</table>\n",
       "</div>"
      ],
      "text/plain": [
       "   employee_id first_name last_name  perf_q1  perf_q2  perf_q3  perf_q4  \\\n",
       "0         1000      Alice     Smith     4.21     4.42     3.44     4.12   \n",
       "1         1001        Bob     Jones     4.85     3.22     3.83     3.81   \n",
       "2         1002    Charlie    Wilson     4.30     3.88     4.77     3.13   \n",
       "3         1003      David     Brown     4.83     3.40     3.65     3.51   \n",
       "4         1004        Eve     Davis     4.70     4.79     3.24     3.49   \n",
       "\n",
       "   perf_avg  \n",
       "0      4.05  \n",
       "1      3.93  \n",
       "2      4.02  \n",
       "3      3.85  \n",
       "4      4.06  "
      ]
     },
     "execution_count": 36,
     "metadata": {},
     "output_type": "execute_result"
    }
   ],
   "source": [
    "# More complex chain\n",
    "# R: df %>% \n",
    "#     select(employee_id, first_name, last_name, starts_with(\"perf\")) %>%\n",
    "#     mutate(perf_avg = rowMeans(select(., starts_with(\"perf\"))))\n",
    "result = (df_large\n",
    "          .filter(regex='^(employee_id|first_name|last_name|perf)')\n",
    "          # Row means in `perf` cols\n",
    "          .assign(perf_avg=lambda x: x.filter(like='perf').mean(axis=1))\n",
    "          .round(2)\n",
    "          .head())\n",
    "\n",
    "result"
   ]
  },
  {
   "cell_type": "markdown",
   "id": "aa5e53b6",
   "metadata": {},
   "source": [
    "## Advanced Column Selection Patterns\n",
    "\n",
    "Some advanced patterns for complex selections:"
   ]
  },
  {
   "cell_type": "code",
   "execution_count": 39,
   "id": "0b1d78f8",
   "metadata": {},
   "outputs": [
    {
     "data": {
      "application/vnd.microsoft.datawrangler.viewer.v0+json": {
       "columns": [
        {
         "name": "index",
         "rawType": "int64",
         "type": "integer"
        },
        {
         "name": "salary",
         "rawType": "int64",
         "type": "integer"
        }
       ],
       "ref": "1c549074-b30e-4d15-b75e-50c5c81b3f95",
       "rows": [
        [
         "0",
         "70000"
        ],
        [
         "1",
         "80000"
        ],
        [
         "2",
         "75000"
        ],
        [
         "3",
         "72000"
        ],
        [
         "4",
         "85000"
        ]
       ],
       "shape": {
        "columns": 1,
        "rows": 5
       }
      },
      "text/html": [
       "<div>\n",
       "<style scoped>\n",
       "    .dataframe tbody tr th:only-of-type {\n",
       "        vertical-align: middle;\n",
       "    }\n",
       "\n",
       "    .dataframe tbody tr th {\n",
       "        vertical-align: top;\n",
       "    }\n",
       "\n",
       "    .dataframe thead th {\n",
       "        text-align: right;\n",
       "    }\n",
       "</style>\n",
       "<table border=\"1\" class=\"dataframe\">\n",
       "  <thead>\n",
       "    <tr style=\"text-align: right;\">\n",
       "      <th></th>\n",
       "      <th>salary</th>\n",
       "    </tr>\n",
       "  </thead>\n",
       "  <tbody>\n",
       "    <tr>\n",
       "      <th>0</th>\n",
       "      <td>70000</td>\n",
       "    </tr>\n",
       "    <tr>\n",
       "      <th>1</th>\n",
       "      <td>80000</td>\n",
       "    </tr>\n",
       "    <tr>\n",
       "      <th>2</th>\n",
       "      <td>75000</td>\n",
       "    </tr>\n",
       "    <tr>\n",
       "      <th>3</th>\n",
       "      <td>72000</td>\n",
       "    </tr>\n",
       "    <tr>\n",
       "      <th>4</th>\n",
       "      <td>85000</td>\n",
       "    </tr>\n",
       "  </tbody>\n",
       "</table>\n",
       "</div>"
      ],
      "text/plain": [
       "   salary\n",
       "0   70000\n",
       "1   80000\n",
       "2   75000\n",
       "3   72000\n",
       "4   85000"
      ]
     },
     "execution_count": 39,
     "metadata": {},
     "output_type": "execute_result"
    }
   ],
   "source": [
    "# Select columns based on a condition\n",
    "# Get columns where any value is greater than 100\n",
    "high_value_cols = [col for col in df.select_dtypes(include='number').columns \n",
    "                   if (df[col] > 100).any()]\n",
    "df[high_value_cols]"
   ]
  },
  {
   "cell_type": "code",
   "execution_count": 40,
   "id": "603e0b7f",
   "metadata": {},
   "outputs": [
    {
     "name": "stdout",
     "output_type": "stream",
     "text": [
      "Columns with <10% missing:\n",
      "   employee_id first_name last_name  salary_bonus dept_code dept_name  \\\n",
      "0         1000      Alice     Smith          6528         F        HR   \n",
      "1         1001        Bob     Jones          8556         I   Finance   \n",
      "2         1002    Charlie    Wilson          8890         I        IT   \n",
      "3         1003      David     Brown         13838         I        HR   \n",
      "4         1004        Eve     Davis         10393         I   Finance   \n",
      "\n",
      "   years_exp   perf_q1   perf_q2   perf_q3   perf_q4  \n",
      "0         13  4.211920  4.421326  3.436881  4.116204  \n",
      "1          9  4.852602  3.221782  3.833020  3.807672  \n",
      "2         13  4.302154  3.878673  4.766561  3.129784  \n",
      "3         13  4.829919  3.403438  3.648690  3.507831  \n",
      "4          1  4.700077  4.791527  3.244176  3.493752  \n"
     ]
    }
   ],
   "source": [
    "# Select columns with low missing data\n",
    "# Create sample with missing data\n",
    "df_missing = df_large.copy()\n",
    "df_missing.loc[0:5, 'age'] = np.nan\n",
    "df_missing.loc[3:8, 'salary_base'] = np.nan\n",
    "\n",
    "# Select columns with less than 10% missing\n",
    "missing_pct = df_missing.isna().sum() / len(df_missing)\n",
    "low_missing_cols = missing_pct[missing_pct < 0.1].index.tolist()\n",
    "print(\"Columns with <10% missing:\")\n",
    "print(df_missing[low_missing_cols].head())"
   ]
  },
  {
   "cell_type": "markdown",
   "id": "e4fdeccd",
   "metadata": {},
   "source": [
    "## Performance Considerations\n",
    "\n",
    "Different selection methods have different performance implications:"
   ]
  },
  {
   "cell_type": "code",
   "execution_count": 41,
   "id": "f0ad0b32",
   "metadata": {},
   "outputs": [
    {
     "name": "stdout",
     "output_type": "stream",
     "text": [
      "Bracket notation: 0.0903 seconds\n",
      ".loc accessor: 0.0834 seconds\n",
      ".filter() method: 0.0813 seconds\n"
     ]
    }
   ],
   "source": [
    "# Create large DataFrame for timing\n",
    "large_df = pd.DataFrame(\n",
    "    np.random.randn(10000, 100), \n",
    "    columns=[f'col_{i}' for i in range(100)]\n",
    ")\n",
    "\n",
    "# Compare selection methods\n",
    "import time\n",
    "\n",
    "# Method 1: Bracket notation\n",
    "start = time.time()\n",
    "for _ in range(1000):\n",
    "    _ = large_df[['col_0', 'col_10', 'col_20']]\n",
    "bracket_time = time.time() - start\n",
    "\n",
    "# Method 2: .loc\n",
    "start = time.time()\n",
    "for _ in range(1000):\n",
    "    _ = large_df.loc[:, ['col_0', 'col_10', 'col_20']]\n",
    "loc_time = time.time() - start\n",
    "\n",
    "# Method 3: .filter()\n",
    "start = time.time()\n",
    "for _ in range(1000):\n",
    "    _ = large_df.filter(items=['col_0', 'col_10', 'col_20'])\n",
    "filter_time = time.time() - start\n",
    "\n",
    "print(f\"Bracket notation: {bracket_time:.4f} seconds\")\n",
    "print(f\".loc accessor: {loc_time:.4f} seconds\")\n",
    "print(f\".filter() method: {filter_time:.4f} seconds\")"
   ]
  },
  {
   "cell_type": "markdown",
   "id": "d670ce91",
   "metadata": {},
   "source": [
    "## Tips for Tidyverse Users\n",
    "\n",
    "1. **Think in lists**: Most pandas column selection operations expect lists of column names.\n",
    "\n",
    "2. **Use `.filter()` for patterns**: It's the closest equivalent to tidyselect helpers.\n",
    "\n",
    "3. **`.loc` for explicit selection**: When you want to be clear about selecting columns (not rows), use `.loc[:, columns]`.\n",
    "\n",
    "4. **Create helper functions**: Build your own tidyverse-style functions for common patterns.\n",
    "\n",
    "5. **Chain operations**: Use parentheses for multi-line chains:"
   ]
  },
  {
   "cell_type": "code",
   "execution_count": 42,
   "id": "d0e901fd",
   "metadata": {},
   "outputs": [
    {
     "name": "stdout",
     "output_type": "stream",
     "text": [
      "Chained operations example:\n",
      "   total\n",
      "0    0.0\n",
      "1    0.0\n",
      "2    0.0\n",
      "3    0.0\n",
      "4    0.0\n"
     ]
    }
   ],
   "source": [
    "# Example of chaining with column selection\n",
    "result = (df\n",
    "         .filter(like='score')\n",
    "         .assign(total=lambda x: x.sum(axis=1))\n",
    "         .head())\n",
    "\n",
    "print(\"Chained operations example:\")\n",
    "print(result)"
   ]
  },
  {
   "cell_type": "markdown",
   "id": "827df45d",
   "metadata": {},
   "source": [
    "Column selection in pandas is more verbose than dplyr's `select()`, but it's also more flexible. Master these patterns, and you'll find yourself writing cleaner, more maintainable code."
   ]
  }
 ],
 "metadata": {
  "kernelspec": {
   "display_name": "ds-env",
   "language": "python",
   "name": "python3"
  },
  "language_info": {
   "codemirror_mode": {
    "name": "ipython",
    "version": 3
   },
   "file_extension": ".py",
   "mimetype": "text/x-python",
   "name": "python",
   "nbconvert_exporter": "python",
   "pygments_lexer": "ipython3",
   "version": "3.12.9"
  }
 },
 "nbformat": 4,
 "nbformat_minor": 5
}
