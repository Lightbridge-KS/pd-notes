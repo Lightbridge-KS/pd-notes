{
 "cells": [
  {
   "cell_type": "markdown",
   "id": "363c221a",
   "metadata": {},
   "source": [
    "# Joining DataFrames\n",
    "\n",
    "Joining data from multiple sources is a fundamental operation in data analysis. While R's `dplyr::*_join()` functions provide a consistent interface for different types of joins, pandas offers `merge()`, `join()`, and `concat()` with various options. This chapter will show you how to achieve tidyverse-style joins in pandas."
   ]
  },
  {
   "cell_type": "markdown",
   "id": "e02fa2c3",
   "metadata": {},
   "source": [
    "## Best Practices Summary\n",
    "\n",
    "Quick reference for join patterns:\n",
    "\n",
    "| Task | R (dplyr) | Pandas |\n",
    "|------|-----------|--------|\n",
    "| Inner join | `inner_join(df1, df2, by = \"key\")` | `pd.merge(df1, df2, on='key')` |\n",
    "| Left join | `left_join(df1, df2, by = \"key\")` | `pd.merge(df1, df2, on='key', how='left')` |\n",
    "| Right join | `right_join(df1, df2, by = \"key\")` | `pd.merge(df1, df2, on='key', how='right')` |\n",
    "| Full join | `full_join(df1, df2, by = \"key\")` | `pd.merge(df1, df2, on='key', how='outer')` |\n",
    "| Multiple keys | `left_join(df1, df2, by = c(\"key1\", \"key2\"))` | `pd.merge(df1, df2, on=['key1', 'key2'], how='left')` |\n",
    "| Different names | `left_join(df1, df2, by = c(\"id\" = \"ID\"))` | `pd.merge(df1, df2, left_on='id', right_on='ID', how='left')` |\n",
    "| Semi join | `semi_join(df1, df2, by = \"key\")` | `df1[df1['key'].isin(df2['key'])]` |\n",
    "| Anti join | `anti_join(df1, df2, by = \"key\")` | `df1[~df1['key'].isin(df2['key'])]` |\n",
    "| Cross join | `cross_join(df1, df2)` | Add temporary key and merge |"
   ]
  },
  {
   "cell_type": "markdown",
   "id": "7c8f926b",
   "metadata": {},
   "source": [
    "## Tips for Tidyverse Users\n",
    "\n",
    "1. **Default is inner join**: Unlike some R functions, pandas defaults to inner join, not left join.\n",
    "\n",
    "2. **Use `indicator=True`**: The `indicator` parameter adds a column showing which DataFrame(s) each row came from.\n",
    "\n",
    "3. **Handle duplicates**: Check for duplicate keys before joining to avoid unexpected row multiplication.\n",
    "\n",
    "4. **Consider indexes**: For repeated joins on the same column, setting it as index can improve performance.\n",
    "\n",
    "5. **Chain joins carefully**: When chaining multiple joins, be mindful of the order and join types:\n",
    "   ```python\n",
    "   (df1\n",
    "    .merge(df2, on='key1', how='left')\n",
    "    .merge(df3, on='key2', how='left')\n",
    "    .merge(df4, on='key3', how='inner'))  # Final inner join filters results\n",
    "   ```\n",
    "\n",
    "Joining DataFrames in pandas is powerful and flexible. While the syntax differs from dplyr's join functions, pandas `merge()` offers fine-grained control over join operations, and understanding its parameters will help you handle any joining scenario efficiently."
   ]
  },
  {
   "cell_type": "markdown",
   "id": "dfaa2bb0",
   "metadata": {},
   "source": [
    "## Basic Joins\n",
    "\n",
    "The fundamental join operations in pandas:"
   ]
  },
  {
   "cell_type": "code",
   "execution_count": 1,
   "id": "16a2a892",
   "metadata": {},
   "outputs": [
    {
     "name": "stdout",
     "output_type": "stream",
     "text": [
      "Employees:\n"
     ]
    },
    {
     "data": {
      "application/vnd.microsoft.datawrangler.viewer.v0+json": {
       "columns": [
        {
         "name": "index",
         "rawType": "int64",
         "type": "integer"
        },
        {
         "name": "employee_id",
         "rawType": "int64",
         "type": "integer"
        },
        {
         "name": "name",
         "rawType": "object",
         "type": "string"
        },
        {
         "name": "department_id",
         "rawType": "int64",
         "type": "integer"
        },
        {
         "name": "salary",
         "rawType": "int64",
         "type": "integer"
        }
       ],
       "ref": "2475cd84-b70a-4064-886c-33b083b3f2bf",
       "rows": [
        [
         "0",
         "1",
         "Alice",
         "101",
         "70000"
        ],
        [
         "1",
         "2",
         "Bob",
         "102",
         "85000"
        ],
        [
         "2",
         "3",
         "Charlie",
         "101",
         "65000"
        ],
        [
         "3",
         "4",
         "David",
         "103",
         "72000"
        ],
        [
         "4",
         "5",
         "Eve",
         "102",
         "90000"
        ]
       ],
       "shape": {
        "columns": 4,
        "rows": 5
       }
      },
      "text/html": [
       "<div>\n",
       "<style scoped>\n",
       "    .dataframe tbody tr th:only-of-type {\n",
       "        vertical-align: middle;\n",
       "    }\n",
       "\n",
       "    .dataframe tbody tr th {\n",
       "        vertical-align: top;\n",
       "    }\n",
       "\n",
       "    .dataframe thead th {\n",
       "        text-align: right;\n",
       "    }\n",
       "</style>\n",
       "<table border=\"1\" class=\"dataframe\">\n",
       "  <thead>\n",
       "    <tr style=\"text-align: right;\">\n",
       "      <th></th>\n",
       "      <th>employee_id</th>\n",
       "      <th>name</th>\n",
       "      <th>department_id</th>\n",
       "      <th>salary</th>\n",
       "    </tr>\n",
       "  </thead>\n",
       "  <tbody>\n",
       "    <tr>\n",
       "      <th>0</th>\n",
       "      <td>1</td>\n",
       "      <td>Alice</td>\n",
       "      <td>101</td>\n",
       "      <td>70000</td>\n",
       "    </tr>\n",
       "    <tr>\n",
       "      <th>1</th>\n",
       "      <td>2</td>\n",
       "      <td>Bob</td>\n",
       "      <td>102</td>\n",
       "      <td>85000</td>\n",
       "    </tr>\n",
       "    <tr>\n",
       "      <th>2</th>\n",
       "      <td>3</td>\n",
       "      <td>Charlie</td>\n",
       "      <td>101</td>\n",
       "      <td>65000</td>\n",
       "    </tr>\n",
       "    <tr>\n",
       "      <th>3</th>\n",
       "      <td>4</td>\n",
       "      <td>David</td>\n",
       "      <td>103</td>\n",
       "      <td>72000</td>\n",
       "    </tr>\n",
       "    <tr>\n",
       "      <th>4</th>\n",
       "      <td>5</td>\n",
       "      <td>Eve</td>\n",
       "      <td>102</td>\n",
       "      <td>90000</td>\n",
       "    </tr>\n",
       "  </tbody>\n",
       "</table>\n",
       "</div>"
      ],
      "text/plain": [
       "   employee_id     name  department_id  salary\n",
       "0            1    Alice            101   70000\n",
       "1            2      Bob            102   85000\n",
       "2            3  Charlie            101   65000\n",
       "3            4    David            103   72000\n",
       "4            5      Eve            102   90000"
      ]
     },
     "execution_count": 1,
     "metadata": {},
     "output_type": "execute_result"
    }
   ],
   "source": [
    "import pandas as pd\n",
    "import numpy as np\n",
    "\n",
    "# Create sample DataFrames\n",
    "employees = pd.DataFrame({\n",
    "    'employee_id': [1, 2, 3, 4, 5],\n",
    "    'name': ['Alice', 'Bob', 'Charlie', 'David', 'Eve'],\n",
    "    'department_id': [101, 102, 101, 103, 102],\n",
    "    'salary': [70000, 85000, 65000, 72000, 90000]\n",
    "})\n",
    "\n",
    "departments = pd.DataFrame({\n",
    "    'department_id': [101, 102, 103, 104],\n",
    "    'department_name': ['Sales', 'IT', 'HR', 'Marketing'],\n",
    "    'location': ['New York', 'San Francisco', 'Chicago', 'Boston']\n",
    "})\n",
    "\n",
    "print(\"Employees:\")\n",
    "employees"
   ]
  },
  {
   "cell_type": "code",
   "execution_count": 2,
   "id": "aa6561b8",
   "metadata": {},
   "outputs": [
    {
     "name": "stdout",
     "output_type": "stream",
     "text": [
      "Departments:\n"
     ]
    },
    {
     "data": {
      "application/vnd.microsoft.datawrangler.viewer.v0+json": {
       "columns": [
        {
         "name": "index",
         "rawType": "int64",
         "type": "integer"
        },
        {
         "name": "department_id",
         "rawType": "int64",
         "type": "integer"
        },
        {
         "name": "department_name",
         "rawType": "object",
         "type": "string"
        },
        {
         "name": "location",
         "rawType": "object",
         "type": "string"
        }
       ],
       "ref": "eba5e001-3074-4ee0-8456-bc72843c0741",
       "rows": [
        [
         "0",
         "101",
         "Sales",
         "New York"
        ],
        [
         "1",
         "102",
         "IT",
         "San Francisco"
        ],
        [
         "2",
         "103",
         "HR",
         "Chicago"
        ],
        [
         "3",
         "104",
         "Marketing",
         "Boston"
        ]
       ],
       "shape": {
        "columns": 3,
        "rows": 4
       }
      },
      "text/html": [
       "<div>\n",
       "<style scoped>\n",
       "    .dataframe tbody tr th:only-of-type {\n",
       "        vertical-align: middle;\n",
       "    }\n",
       "\n",
       "    .dataframe tbody tr th {\n",
       "        vertical-align: top;\n",
       "    }\n",
       "\n",
       "    .dataframe thead th {\n",
       "        text-align: right;\n",
       "    }\n",
       "</style>\n",
       "<table border=\"1\" class=\"dataframe\">\n",
       "  <thead>\n",
       "    <tr style=\"text-align: right;\">\n",
       "      <th></th>\n",
       "      <th>department_id</th>\n",
       "      <th>department_name</th>\n",
       "      <th>location</th>\n",
       "    </tr>\n",
       "  </thead>\n",
       "  <tbody>\n",
       "    <tr>\n",
       "      <th>0</th>\n",
       "      <td>101</td>\n",
       "      <td>Sales</td>\n",
       "      <td>New York</td>\n",
       "    </tr>\n",
       "    <tr>\n",
       "      <th>1</th>\n",
       "      <td>102</td>\n",
       "      <td>IT</td>\n",
       "      <td>San Francisco</td>\n",
       "    </tr>\n",
       "    <tr>\n",
       "      <th>2</th>\n",
       "      <td>103</td>\n",
       "      <td>HR</td>\n",
       "      <td>Chicago</td>\n",
       "    </tr>\n",
       "    <tr>\n",
       "      <th>3</th>\n",
       "      <td>104</td>\n",
       "      <td>Marketing</td>\n",
       "      <td>Boston</td>\n",
       "    </tr>\n",
       "  </tbody>\n",
       "</table>\n",
       "</div>"
      ],
      "text/plain": [
       "   department_id department_name       location\n",
       "0            101           Sales       New York\n",
       "1            102              IT  San Francisco\n",
       "2            103              HR        Chicago\n",
       "3            104       Marketing         Boston"
      ]
     },
     "execution_count": 2,
     "metadata": {},
     "output_type": "execute_result"
    }
   ],
   "source": [
    "print(\"Departments:\")\n",
    "departments"
   ]
  },
  {
   "cell_type": "code",
   "execution_count": 3,
   "id": "1e95b921",
   "metadata": {},
   "outputs": [
    {
     "data": {
      "application/vnd.microsoft.datawrangler.viewer.v0+json": {
       "columns": [
        {
         "name": "index",
         "rawType": "int64",
         "type": "integer"
        },
        {
         "name": "employee_id",
         "rawType": "int64",
         "type": "integer"
        },
        {
         "name": "name",
         "rawType": "object",
         "type": "string"
        },
        {
         "name": "department_id",
         "rawType": "int64",
         "type": "integer"
        },
        {
         "name": "salary",
         "rawType": "int64",
         "type": "integer"
        },
        {
         "name": "department_name",
         "rawType": "object",
         "type": "string"
        },
        {
         "name": "location",
         "rawType": "object",
         "type": "string"
        }
       ],
       "ref": "3715a2b6-80c7-4722-8013-465b4cc23eac",
       "rows": [
        [
         "0",
         "1",
         "Alice",
         "101",
         "70000",
         "Sales",
         "New York"
        ],
        [
         "1",
         "2",
         "Bob",
         "102",
         "85000",
         "IT",
         "San Francisco"
        ],
        [
         "2",
         "3",
         "Charlie",
         "101",
         "65000",
         "Sales",
         "New York"
        ],
        [
         "3",
         "4",
         "David",
         "103",
         "72000",
         "HR",
         "Chicago"
        ],
        [
         "4",
         "5",
         "Eve",
         "102",
         "90000",
         "IT",
         "San Francisco"
        ]
       ],
       "shape": {
        "columns": 6,
        "rows": 5
       }
      },
      "text/html": [
       "<div>\n",
       "<style scoped>\n",
       "    .dataframe tbody tr th:only-of-type {\n",
       "        vertical-align: middle;\n",
       "    }\n",
       "\n",
       "    .dataframe tbody tr th {\n",
       "        vertical-align: top;\n",
       "    }\n",
       "\n",
       "    .dataframe thead th {\n",
       "        text-align: right;\n",
       "    }\n",
       "</style>\n",
       "<table border=\"1\" class=\"dataframe\">\n",
       "  <thead>\n",
       "    <tr style=\"text-align: right;\">\n",
       "      <th></th>\n",
       "      <th>employee_id</th>\n",
       "      <th>name</th>\n",
       "      <th>department_id</th>\n",
       "      <th>salary</th>\n",
       "      <th>department_name</th>\n",
       "      <th>location</th>\n",
       "    </tr>\n",
       "  </thead>\n",
       "  <tbody>\n",
       "    <tr>\n",
       "      <th>0</th>\n",
       "      <td>1</td>\n",
       "      <td>Alice</td>\n",
       "      <td>101</td>\n",
       "      <td>70000</td>\n",
       "      <td>Sales</td>\n",
       "      <td>New York</td>\n",
       "    </tr>\n",
       "    <tr>\n",
       "      <th>1</th>\n",
       "      <td>2</td>\n",
       "      <td>Bob</td>\n",
       "      <td>102</td>\n",
       "      <td>85000</td>\n",
       "      <td>IT</td>\n",
       "      <td>San Francisco</td>\n",
       "    </tr>\n",
       "    <tr>\n",
       "      <th>2</th>\n",
       "      <td>3</td>\n",
       "      <td>Charlie</td>\n",
       "      <td>101</td>\n",
       "      <td>65000</td>\n",
       "      <td>Sales</td>\n",
       "      <td>New York</td>\n",
       "    </tr>\n",
       "    <tr>\n",
       "      <th>3</th>\n",
       "      <td>4</td>\n",
       "      <td>David</td>\n",
       "      <td>103</td>\n",
       "      <td>72000</td>\n",
       "      <td>HR</td>\n",
       "      <td>Chicago</td>\n",
       "    </tr>\n",
       "    <tr>\n",
       "      <th>4</th>\n",
       "      <td>5</td>\n",
       "      <td>Eve</td>\n",
       "      <td>102</td>\n",
       "      <td>90000</td>\n",
       "      <td>IT</td>\n",
       "      <td>San Francisco</td>\n",
       "    </tr>\n",
       "  </tbody>\n",
       "</table>\n",
       "</div>"
      ],
      "text/plain": [
       "   employee_id     name  department_id  salary department_name       location\n",
       "0            1    Alice            101   70000           Sales       New York\n",
       "1            2      Bob            102   85000              IT  San Francisco\n",
       "2            3  Charlie            101   65000           Sales       New York\n",
       "3            4    David            103   72000              HR        Chicago\n",
       "4            5      Eve            102   90000              IT  San Francisco"
      ]
     },
     "execution_count": 3,
     "metadata": {},
     "output_type": "execute_result"
    }
   ],
   "source": [
    "# Inner join (default)\n",
    "# R: inner_join(employees, departments, by = \"department_id\")\n",
    "pd.merge(employees, departments, on='department_id')"
   ]
  },
  {
   "cell_type": "code",
   "execution_count": 4,
   "id": "9dca43d8",
   "metadata": {},
   "outputs": [
    {
     "data": {
      "application/vnd.microsoft.datawrangler.viewer.v0+json": {
       "columns": [
        {
         "name": "index",
         "rawType": "int64",
         "type": "integer"
        },
        {
         "name": "employee_id",
         "rawType": "int64",
         "type": "integer"
        },
        {
         "name": "name",
         "rawType": "object",
         "type": "string"
        },
        {
         "name": "department_id",
         "rawType": "int64",
         "type": "integer"
        },
        {
         "name": "salary",
         "rawType": "int64",
         "type": "integer"
        },
        {
         "name": "department_name",
         "rawType": "object",
         "type": "string"
        },
        {
         "name": "location",
         "rawType": "object",
         "type": "string"
        }
       ],
       "ref": "e212d2bf-c5a9-4776-bf7f-18f1ab592bfa",
       "rows": [
        [
         "0",
         "1",
         "Alice",
         "101",
         "70000",
         "Sales",
         "New York"
        ],
        [
         "1",
         "2",
         "Bob",
         "102",
         "85000",
         "IT",
         "San Francisco"
        ],
        [
         "2",
         "3",
         "Charlie",
         "101",
         "65000",
         "Sales",
         "New York"
        ],
        [
         "3",
         "4",
         "David",
         "103",
         "72000",
         "HR",
         "Chicago"
        ],
        [
         "4",
         "5",
         "Eve",
         "102",
         "90000",
         "IT",
         "San Francisco"
        ]
       ],
       "shape": {
        "columns": 6,
        "rows": 5
       }
      },
      "text/html": [
       "<div>\n",
       "<style scoped>\n",
       "    .dataframe tbody tr th:only-of-type {\n",
       "        vertical-align: middle;\n",
       "    }\n",
       "\n",
       "    .dataframe tbody tr th {\n",
       "        vertical-align: top;\n",
       "    }\n",
       "\n",
       "    .dataframe thead th {\n",
       "        text-align: right;\n",
       "    }\n",
       "</style>\n",
       "<table border=\"1\" class=\"dataframe\">\n",
       "  <thead>\n",
       "    <tr style=\"text-align: right;\">\n",
       "      <th></th>\n",
       "      <th>employee_id</th>\n",
       "      <th>name</th>\n",
       "      <th>department_id</th>\n",
       "      <th>salary</th>\n",
       "      <th>department_name</th>\n",
       "      <th>location</th>\n",
       "    </tr>\n",
       "  </thead>\n",
       "  <tbody>\n",
       "    <tr>\n",
       "      <th>0</th>\n",
       "      <td>1</td>\n",
       "      <td>Alice</td>\n",
       "      <td>101</td>\n",
       "      <td>70000</td>\n",
       "      <td>Sales</td>\n",
       "      <td>New York</td>\n",
       "    </tr>\n",
       "    <tr>\n",
       "      <th>1</th>\n",
       "      <td>2</td>\n",
       "      <td>Bob</td>\n",
       "      <td>102</td>\n",
       "      <td>85000</td>\n",
       "      <td>IT</td>\n",
       "      <td>San Francisco</td>\n",
       "    </tr>\n",
       "    <tr>\n",
       "      <th>2</th>\n",
       "      <td>3</td>\n",
       "      <td>Charlie</td>\n",
       "      <td>101</td>\n",
       "      <td>65000</td>\n",
       "      <td>Sales</td>\n",
       "      <td>New York</td>\n",
       "    </tr>\n",
       "    <tr>\n",
       "      <th>3</th>\n",
       "      <td>4</td>\n",
       "      <td>David</td>\n",
       "      <td>103</td>\n",
       "      <td>72000</td>\n",
       "      <td>HR</td>\n",
       "      <td>Chicago</td>\n",
       "    </tr>\n",
       "    <tr>\n",
       "      <th>4</th>\n",
       "      <td>5</td>\n",
       "      <td>Eve</td>\n",
       "      <td>102</td>\n",
       "      <td>90000</td>\n",
       "      <td>IT</td>\n",
       "      <td>San Francisco</td>\n",
       "    </tr>\n",
       "  </tbody>\n",
       "</table>\n",
       "</div>"
      ],
      "text/plain": [
       "   employee_id     name  department_id  salary department_name       location\n",
       "0            1    Alice            101   70000           Sales       New York\n",
       "1            2      Bob            102   85000              IT  San Francisco\n",
       "2            3  Charlie            101   65000           Sales       New York\n",
       "3            4    David            103   72000              HR        Chicago\n",
       "4            5      Eve            102   90000              IT  San Francisco"
      ]
     },
     "execution_count": 4,
     "metadata": {},
     "output_type": "execute_result"
    }
   ],
   "source": [
    "# Left join\n",
    "# R: left_join(employees, departments, by = \"department_id\")\n",
    "pd.merge(employees, departments, on='department_id', how='left')"
   ]
  },
  {
   "cell_type": "code",
   "execution_count": 5,
   "id": "d10304f4",
   "metadata": {},
   "outputs": [
    {
     "data": {
      "application/vnd.microsoft.datawrangler.viewer.v0+json": {
       "columns": [
        {
         "name": "index",
         "rawType": "int64",
         "type": "integer"
        },
        {
         "name": "employee_id",
         "rawType": "float64",
         "type": "float"
        },
        {
         "name": "name",
         "rawType": "object",
         "type": "unknown"
        },
        {
         "name": "department_id",
         "rawType": "int64",
         "type": "integer"
        },
        {
         "name": "salary",
         "rawType": "float64",
         "type": "float"
        },
        {
         "name": "department_name",
         "rawType": "object",
         "type": "string"
        },
        {
         "name": "location",
         "rawType": "object",
         "type": "string"
        }
       ],
       "ref": "270e736c-5520-4c67-8ba9-95f0f0113271",
       "rows": [
        [
         "0",
         "1.0",
         "Alice",
         "101",
         "70000.0",
         "Sales",
         "New York"
        ],
        [
         "1",
         "3.0",
         "Charlie",
         "101",
         "65000.0",
         "Sales",
         "New York"
        ],
        [
         "2",
         "2.0",
         "Bob",
         "102",
         "85000.0",
         "IT",
         "San Francisco"
        ],
        [
         "3",
         "5.0",
         "Eve",
         "102",
         "90000.0",
         "IT",
         "San Francisco"
        ],
        [
         "4",
         "4.0",
         "David",
         "103",
         "72000.0",
         "HR",
         "Chicago"
        ],
        [
         "5",
         null,
         null,
         "104",
         null,
         "Marketing",
         "Boston"
        ]
       ],
       "shape": {
        "columns": 6,
        "rows": 6
       }
      },
      "text/html": [
       "<div>\n",
       "<style scoped>\n",
       "    .dataframe tbody tr th:only-of-type {\n",
       "        vertical-align: middle;\n",
       "    }\n",
       "\n",
       "    .dataframe tbody tr th {\n",
       "        vertical-align: top;\n",
       "    }\n",
       "\n",
       "    .dataframe thead th {\n",
       "        text-align: right;\n",
       "    }\n",
       "</style>\n",
       "<table border=\"1\" class=\"dataframe\">\n",
       "  <thead>\n",
       "    <tr style=\"text-align: right;\">\n",
       "      <th></th>\n",
       "      <th>employee_id</th>\n",
       "      <th>name</th>\n",
       "      <th>department_id</th>\n",
       "      <th>salary</th>\n",
       "      <th>department_name</th>\n",
       "      <th>location</th>\n",
       "    </tr>\n",
       "  </thead>\n",
       "  <tbody>\n",
       "    <tr>\n",
       "      <th>0</th>\n",
       "      <td>1.0</td>\n",
       "      <td>Alice</td>\n",
       "      <td>101</td>\n",
       "      <td>70000.0</td>\n",
       "      <td>Sales</td>\n",
       "      <td>New York</td>\n",
       "    </tr>\n",
       "    <tr>\n",
       "      <th>1</th>\n",
       "      <td>3.0</td>\n",
       "      <td>Charlie</td>\n",
       "      <td>101</td>\n",
       "      <td>65000.0</td>\n",
       "      <td>Sales</td>\n",
       "      <td>New York</td>\n",
       "    </tr>\n",
       "    <tr>\n",
       "      <th>2</th>\n",
       "      <td>2.0</td>\n",
       "      <td>Bob</td>\n",
       "      <td>102</td>\n",
       "      <td>85000.0</td>\n",
       "      <td>IT</td>\n",
       "      <td>San Francisco</td>\n",
       "    </tr>\n",
       "    <tr>\n",
       "      <th>3</th>\n",
       "      <td>5.0</td>\n",
       "      <td>Eve</td>\n",
       "      <td>102</td>\n",
       "      <td>90000.0</td>\n",
       "      <td>IT</td>\n",
       "      <td>San Francisco</td>\n",
       "    </tr>\n",
       "    <tr>\n",
       "      <th>4</th>\n",
       "      <td>4.0</td>\n",
       "      <td>David</td>\n",
       "      <td>103</td>\n",
       "      <td>72000.0</td>\n",
       "      <td>HR</td>\n",
       "      <td>Chicago</td>\n",
       "    </tr>\n",
       "    <tr>\n",
       "      <th>5</th>\n",
       "      <td>NaN</td>\n",
       "      <td>NaN</td>\n",
       "      <td>104</td>\n",
       "      <td>NaN</td>\n",
       "      <td>Marketing</td>\n",
       "      <td>Boston</td>\n",
       "    </tr>\n",
       "  </tbody>\n",
       "</table>\n",
       "</div>"
      ],
      "text/plain": [
       "   employee_id     name  department_id   salary department_name       location\n",
       "0          1.0    Alice            101  70000.0           Sales       New York\n",
       "1          3.0  Charlie            101  65000.0           Sales       New York\n",
       "2          2.0      Bob            102  85000.0              IT  San Francisco\n",
       "3          5.0      Eve            102  90000.0              IT  San Francisco\n",
       "4          4.0    David            103  72000.0              HR        Chicago\n",
       "5          NaN      NaN            104      NaN       Marketing         Boston"
      ]
     },
     "execution_count": 5,
     "metadata": {},
     "output_type": "execute_result"
    }
   ],
   "source": [
    "# Right join\n",
    "# R: right_join(employees, departments, by = \"department_id\")\n",
    "pd.merge(employees, departments, on='department_id', how='right')"
   ]
  },
  {
   "cell_type": "code",
   "execution_count": 6,
   "id": "7ddcea95",
   "metadata": {},
   "outputs": [
    {
     "data": {
      "application/vnd.microsoft.datawrangler.viewer.v0+json": {
       "columns": [
        {
         "name": "index",
         "rawType": "int64",
         "type": "integer"
        },
        {
         "name": "employee_id",
         "rawType": "float64",
         "type": "float"
        },
        {
         "name": "name",
         "rawType": "object",
         "type": "unknown"
        },
        {
         "name": "department_id",
         "rawType": "int64",
         "type": "integer"
        },
        {
         "name": "salary",
         "rawType": "float64",
         "type": "float"
        },
        {
         "name": "department_name",
         "rawType": "object",
         "type": "string"
        },
        {
         "name": "location",
         "rawType": "object",
         "type": "string"
        }
       ],
       "ref": "937a2308-9206-4607-83b8-1f2352819d76",
       "rows": [
        [
         "0",
         "1.0",
         "Alice",
         "101",
         "70000.0",
         "Sales",
         "New York"
        ],
        [
         "1",
         "3.0",
         "Charlie",
         "101",
         "65000.0",
         "Sales",
         "New York"
        ],
        [
         "2",
         "2.0",
         "Bob",
         "102",
         "85000.0",
         "IT",
         "San Francisco"
        ],
        [
         "3",
         "5.0",
         "Eve",
         "102",
         "90000.0",
         "IT",
         "San Francisco"
        ],
        [
         "4",
         "4.0",
         "David",
         "103",
         "72000.0",
         "HR",
         "Chicago"
        ],
        [
         "5",
         null,
         null,
         "104",
         null,
         "Marketing",
         "Boston"
        ]
       ],
       "shape": {
        "columns": 6,
        "rows": 6
       }
      },
      "text/html": [
       "<div>\n",
       "<style scoped>\n",
       "    .dataframe tbody tr th:only-of-type {\n",
       "        vertical-align: middle;\n",
       "    }\n",
       "\n",
       "    .dataframe tbody tr th {\n",
       "        vertical-align: top;\n",
       "    }\n",
       "\n",
       "    .dataframe thead th {\n",
       "        text-align: right;\n",
       "    }\n",
       "</style>\n",
       "<table border=\"1\" class=\"dataframe\">\n",
       "  <thead>\n",
       "    <tr style=\"text-align: right;\">\n",
       "      <th></th>\n",
       "      <th>employee_id</th>\n",
       "      <th>name</th>\n",
       "      <th>department_id</th>\n",
       "      <th>salary</th>\n",
       "      <th>department_name</th>\n",
       "      <th>location</th>\n",
       "    </tr>\n",
       "  </thead>\n",
       "  <tbody>\n",
       "    <tr>\n",
       "      <th>0</th>\n",
       "      <td>1.0</td>\n",
       "      <td>Alice</td>\n",
       "      <td>101</td>\n",
       "      <td>70000.0</td>\n",
       "      <td>Sales</td>\n",
       "      <td>New York</td>\n",
       "    </tr>\n",
       "    <tr>\n",
       "      <th>1</th>\n",
       "      <td>3.0</td>\n",
       "      <td>Charlie</td>\n",
       "      <td>101</td>\n",
       "      <td>65000.0</td>\n",
       "      <td>Sales</td>\n",
       "      <td>New York</td>\n",
       "    </tr>\n",
       "    <tr>\n",
       "      <th>2</th>\n",
       "      <td>2.0</td>\n",
       "      <td>Bob</td>\n",
       "      <td>102</td>\n",
       "      <td>85000.0</td>\n",
       "      <td>IT</td>\n",
       "      <td>San Francisco</td>\n",
       "    </tr>\n",
       "    <tr>\n",
       "      <th>3</th>\n",
       "      <td>5.0</td>\n",
       "      <td>Eve</td>\n",
       "      <td>102</td>\n",
       "      <td>90000.0</td>\n",
       "      <td>IT</td>\n",
       "      <td>San Francisco</td>\n",
       "    </tr>\n",
       "    <tr>\n",
       "      <th>4</th>\n",
       "      <td>4.0</td>\n",
       "      <td>David</td>\n",
       "      <td>103</td>\n",
       "      <td>72000.0</td>\n",
       "      <td>HR</td>\n",
       "      <td>Chicago</td>\n",
       "    </tr>\n",
       "    <tr>\n",
       "      <th>5</th>\n",
       "      <td>NaN</td>\n",
       "      <td>NaN</td>\n",
       "      <td>104</td>\n",
       "      <td>NaN</td>\n",
       "      <td>Marketing</td>\n",
       "      <td>Boston</td>\n",
       "    </tr>\n",
       "  </tbody>\n",
       "</table>\n",
       "</div>"
      ],
      "text/plain": [
       "   employee_id     name  department_id   salary department_name       location\n",
       "0          1.0    Alice            101  70000.0           Sales       New York\n",
       "1          3.0  Charlie            101  65000.0           Sales       New York\n",
       "2          2.0      Bob            102  85000.0              IT  San Francisco\n",
       "3          5.0      Eve            102  90000.0              IT  San Francisco\n",
       "4          4.0    David            103  72000.0              HR        Chicago\n",
       "5          NaN      NaN            104      NaN       Marketing         Boston"
      ]
     },
     "execution_count": 6,
     "metadata": {},
     "output_type": "execute_result"
    }
   ],
   "source": [
    "# Full outer join\n",
    "# R: full_join(employees, departments, by = \"department_id\")\n",
    "pd.merge(employees, departments, on='department_id', how='outer')"
   ]
  },
  {
   "cell_type": "markdown",
   "id": "18d21be3",
   "metadata": {},
   "source": [
    "## Joining on Multiple Columns\n",
    "\n",
    "Joining on multiple keys:"
   ]
  },
  {
   "cell_type": "code",
   "execution_count": 7,
   "id": "cdda4993",
   "metadata": {},
   "outputs": [
    {
     "data": {
      "application/vnd.microsoft.datawrangler.viewer.v0+json": {
       "columns": [
        {
         "name": "index",
         "rawType": "int64",
         "type": "integer"
        },
        {
         "name": "year",
         "rawType": "int64",
         "type": "integer"
        },
        {
         "name": "quarter",
         "rawType": "object",
         "type": "string"
        },
        {
         "name": "region",
         "rawType": "object",
         "type": "string"
        },
        {
         "name": "sales_amount",
         "rawType": "int64",
         "type": "integer"
        },
        {
         "name": "target_amount",
         "rawType": "float64",
         "type": "float"
        }
       ],
       "ref": "11232400-b165-4a7b-b497-01ef13629fcf",
       "rows": [
        [
         "0",
         "2023",
         "Q1",
         "East",
         "100000",
         "95000.0"
        ],
        [
         "1",
         "2023",
         "Q2",
         "East",
         "120000",
         "110000.0"
        ],
        [
         "2",
         "2023",
         "Q3",
         "East",
         "115000",
         null
        ],
        [
         "3",
         "2024",
         "Q1",
         "East",
         "130000",
         "120000.0"
        ],
        [
         "4",
         "2024",
         "Q2",
         "East",
         "125000",
         "130000.0"
        ],
        [
         "5",
         "2024",
         "Q3",
         "East",
         "140000",
         null
        ]
       ],
       "shape": {
        "columns": 5,
        "rows": 6
       }
      },
      "text/html": [
       "<div>\n",
       "<style scoped>\n",
       "    .dataframe tbody tr th:only-of-type {\n",
       "        vertical-align: middle;\n",
       "    }\n",
       "\n",
       "    .dataframe tbody tr th {\n",
       "        vertical-align: top;\n",
       "    }\n",
       "\n",
       "    .dataframe thead th {\n",
       "        text-align: right;\n",
       "    }\n",
       "</style>\n",
       "<table border=\"1\" class=\"dataframe\">\n",
       "  <thead>\n",
       "    <tr style=\"text-align: right;\">\n",
       "      <th></th>\n",
       "      <th>year</th>\n",
       "      <th>quarter</th>\n",
       "      <th>region</th>\n",
       "      <th>sales_amount</th>\n",
       "      <th>target_amount</th>\n",
       "    </tr>\n",
       "  </thead>\n",
       "  <tbody>\n",
       "    <tr>\n",
       "      <th>0</th>\n",
       "      <td>2023</td>\n",
       "      <td>Q1</td>\n",
       "      <td>East</td>\n",
       "      <td>100000</td>\n",
       "      <td>95000.0</td>\n",
       "    </tr>\n",
       "    <tr>\n",
       "      <th>1</th>\n",
       "      <td>2023</td>\n",
       "      <td>Q2</td>\n",
       "      <td>East</td>\n",
       "      <td>120000</td>\n",
       "      <td>110000.0</td>\n",
       "    </tr>\n",
       "    <tr>\n",
       "      <th>2</th>\n",
       "      <td>2023</td>\n",
       "      <td>Q3</td>\n",
       "      <td>East</td>\n",
       "      <td>115000</td>\n",
       "      <td>NaN</td>\n",
       "    </tr>\n",
       "    <tr>\n",
       "      <th>3</th>\n",
       "      <td>2024</td>\n",
       "      <td>Q1</td>\n",
       "      <td>East</td>\n",
       "      <td>130000</td>\n",
       "      <td>120000.0</td>\n",
       "    </tr>\n",
       "    <tr>\n",
       "      <th>4</th>\n",
       "      <td>2024</td>\n",
       "      <td>Q2</td>\n",
       "      <td>East</td>\n",
       "      <td>125000</td>\n",
       "      <td>130000.0</td>\n",
       "    </tr>\n",
       "    <tr>\n",
       "      <th>5</th>\n",
       "      <td>2024</td>\n",
       "      <td>Q3</td>\n",
       "      <td>East</td>\n",
       "      <td>140000</td>\n",
       "      <td>NaN</td>\n",
       "    </tr>\n",
       "  </tbody>\n",
       "</table>\n",
       "</div>"
      ],
      "text/plain": [
       "   year quarter region  sales_amount  target_amount\n",
       "0  2023      Q1   East        100000        95000.0\n",
       "1  2023      Q2   East        120000       110000.0\n",
       "2  2023      Q3   East        115000            NaN\n",
       "3  2024      Q1   East        130000       120000.0\n",
       "4  2024      Q2   East        125000       130000.0\n",
       "5  2024      Q3   East        140000            NaN"
      ]
     },
     "execution_count": 7,
     "metadata": {},
     "output_type": "execute_result"
    }
   ],
   "source": [
    "# Create DataFrames with multiple join keys\n",
    "sales = pd.DataFrame({\n",
    "    'year': [2023, 2023, 2023, 2024, 2024, 2024],\n",
    "    'quarter': ['Q1', 'Q2', 'Q3', 'Q1', 'Q2', 'Q3'],\n",
    "    'region': ['East', 'East', 'East', 'East', 'East', 'East'],\n",
    "    'sales_amount': [100000, 120000, 115000, 130000, 125000, 140000]\n",
    "})\n",
    "\n",
    "targets = pd.DataFrame({\n",
    "    'year': [2023, 2023, 2024, 2024],\n",
    "    'quarter': ['Q1', 'Q2', 'Q1', 'Q2'],\n",
    "    'region': ['East', 'East', 'East', 'East'],\n",
    "    'target_amount': [95000, 110000, 120000, 130000]\n",
    "})\n",
    "\n",
    "# Join on multiple columns\n",
    "# R: left_join(sales, targets, by = c(\"year\", \"quarter\", \"region\"))\n",
    "pd.merge(sales, targets, on=['year', 'quarter', 'region'], how='left')"
   ]
  },
  {
   "cell_type": "markdown",
   "id": "2906c9cf",
   "metadata": {},
   "source": [
    "## Joining with Different Column Names\n",
    "\n",
    "When column names don't match:"
   ]
  },
  {
   "cell_type": "code",
   "execution_count": 8,
   "id": "a9691f00",
   "metadata": {},
   "outputs": [
    {
     "data": {
      "application/vnd.microsoft.datawrangler.viewer.v0+json": {
       "columns": [
        {
         "name": "index",
         "rawType": "int64",
         "type": "integer"
        },
        {
         "name": "emp_id",
         "rawType": "int64",
         "type": "integer"
        },
        {
         "name": "emp_name",
         "rawType": "object",
         "type": "string"
        },
        {
         "name": "dept_code",
         "rawType": "int64",
         "type": "integer"
        },
        {
         "name": "department_id",
         "rawType": "int64",
         "type": "integer"
        },
        {
         "name": "department",
         "rawType": "object",
         "type": "string"
        }
       ],
       "ref": "a28ecec3-728c-4154-ba41-d4c534342c7f",
       "rows": [
        [
         "0",
         "1",
         "Alice",
         "101",
         "101",
         "Sales"
        ],
        [
         "1",
         "2",
         "Bob",
         "102",
         "102",
         "IT"
        ],
        [
         "2",
         "3",
         "Charlie",
         "101",
         "101",
         "Sales"
        ],
        [
         "3",
         "4",
         "David",
         "103",
         "103",
         "HR"
        ],
        [
         "4",
         "5",
         "Eve",
         "102",
         "102",
         "IT"
        ]
       ],
       "shape": {
        "columns": 5,
        "rows": 5
       }
      },
      "text/html": [
       "<div>\n",
       "<style scoped>\n",
       "    .dataframe tbody tr th:only-of-type {\n",
       "        vertical-align: middle;\n",
       "    }\n",
       "\n",
       "    .dataframe tbody tr th {\n",
       "        vertical-align: top;\n",
       "    }\n",
       "\n",
       "    .dataframe thead th {\n",
       "        text-align: right;\n",
       "    }\n",
       "</style>\n",
       "<table border=\"1\" class=\"dataframe\">\n",
       "  <thead>\n",
       "    <tr style=\"text-align: right;\">\n",
       "      <th></th>\n",
       "      <th>emp_id</th>\n",
       "      <th>emp_name</th>\n",
       "      <th>dept_code</th>\n",
       "      <th>department_id</th>\n",
       "      <th>department</th>\n",
       "    </tr>\n",
       "  </thead>\n",
       "  <tbody>\n",
       "    <tr>\n",
       "      <th>0</th>\n",
       "      <td>1</td>\n",
       "      <td>Alice</td>\n",
       "      <td>101</td>\n",
       "      <td>101</td>\n",
       "      <td>Sales</td>\n",
       "    </tr>\n",
       "    <tr>\n",
       "      <th>1</th>\n",
       "      <td>2</td>\n",
       "      <td>Bob</td>\n",
       "      <td>102</td>\n",
       "      <td>102</td>\n",
       "      <td>IT</td>\n",
       "    </tr>\n",
       "    <tr>\n",
       "      <th>2</th>\n",
       "      <td>3</td>\n",
       "      <td>Charlie</td>\n",
       "      <td>101</td>\n",
       "      <td>101</td>\n",
       "      <td>Sales</td>\n",
       "    </tr>\n",
       "    <tr>\n",
       "      <th>3</th>\n",
       "      <td>4</td>\n",
       "      <td>David</td>\n",
       "      <td>103</td>\n",
       "      <td>103</td>\n",
       "      <td>HR</td>\n",
       "    </tr>\n",
       "    <tr>\n",
       "      <th>4</th>\n",
       "      <td>5</td>\n",
       "      <td>Eve</td>\n",
       "      <td>102</td>\n",
       "      <td>102</td>\n",
       "      <td>IT</td>\n",
       "    </tr>\n",
       "  </tbody>\n",
       "</table>\n",
       "</div>"
      ],
      "text/plain": [
       "   emp_id emp_name  dept_code  department_id department\n",
       "0       1    Alice        101            101      Sales\n",
       "1       2      Bob        102            102         IT\n",
       "2       3  Charlie        101            101      Sales\n",
       "3       4    David        103            103         HR\n",
       "4       5      Eve        102            102         IT"
      ]
     },
     "execution_count": 8,
     "metadata": {},
     "output_type": "execute_result"
    }
   ],
   "source": [
    "# Create DataFrames with different column names\n",
    "employees2 = pd.DataFrame({\n",
    "    'emp_id': [1, 2, 3, 4, 5],\n",
    "    'emp_name': ['Alice', 'Bob', 'Charlie', 'David', 'Eve'],\n",
    "    'dept_code': [101, 102, 101, 103, 102]\n",
    "})\n",
    "\n",
    "departments2 = pd.DataFrame({\n",
    "    'department_id': [101, 102, 103, 104],\n",
    "    'department': ['Sales', 'IT', 'HR', 'Marketing']\n",
    "})\n",
    "\n",
    "# Join with different column names\n",
    "# R: left_join(employees2, departments2, by = c(\"dept_code\" = \"department_id\"))\n",
    "pd.merge(employees2, departments2, \n",
    "         left_on='dept_code', \n",
    "         right_on='department_id', \n",
    "         how='left')"
   ]
  },
  {
   "cell_type": "code",
   "execution_count": 9,
   "id": "8dc1904b",
   "metadata": {},
   "outputs": [
    {
     "data": {
      "application/vnd.microsoft.datawrangler.viewer.v0+json": {
       "columns": [
        {
         "name": "index",
         "rawType": "int64",
         "type": "integer"
        },
        {
         "name": "emp_id",
         "rawType": "int64",
         "type": "integer"
        },
        {
         "name": "emp_name",
         "rawType": "object",
         "type": "string"
        },
        {
         "name": "dept_code",
         "rawType": "int64",
         "type": "integer"
        },
        {
         "name": "department",
         "rawType": "object",
         "type": "string"
        }
       ],
       "ref": "ce758aad-f9d7-4539-9e53-1bc48d8ddcff",
       "rows": [
        [
         "0",
         "1",
         "Alice",
         "101",
         "Sales"
        ],
        [
         "1",
         "2",
         "Bob",
         "102",
         "IT"
        ],
        [
         "2",
         "3",
         "Charlie",
         "101",
         "Sales"
        ],
        [
         "3",
         "4",
         "David",
         "103",
         "HR"
        ],
        [
         "4",
         "5",
         "Eve",
         "102",
         "IT"
        ]
       ],
       "shape": {
        "columns": 4,
        "rows": 5
       }
      },
      "text/html": [
       "<div>\n",
       "<style scoped>\n",
       "    .dataframe tbody tr th:only-of-type {\n",
       "        vertical-align: middle;\n",
       "    }\n",
       "\n",
       "    .dataframe tbody tr th {\n",
       "        vertical-align: top;\n",
       "    }\n",
       "\n",
       "    .dataframe thead th {\n",
       "        text-align: right;\n",
       "    }\n",
       "</style>\n",
       "<table border=\"1\" class=\"dataframe\">\n",
       "  <thead>\n",
       "    <tr style=\"text-align: right;\">\n",
       "      <th></th>\n",
       "      <th>emp_id</th>\n",
       "      <th>emp_name</th>\n",
       "      <th>dept_code</th>\n",
       "      <th>department</th>\n",
       "    </tr>\n",
       "  </thead>\n",
       "  <tbody>\n",
       "    <tr>\n",
       "      <th>0</th>\n",
       "      <td>1</td>\n",
       "      <td>Alice</td>\n",
       "      <td>101</td>\n",
       "      <td>Sales</td>\n",
       "    </tr>\n",
       "    <tr>\n",
       "      <th>1</th>\n",
       "      <td>2</td>\n",
       "      <td>Bob</td>\n",
       "      <td>102</td>\n",
       "      <td>IT</td>\n",
       "    </tr>\n",
       "    <tr>\n",
       "      <th>2</th>\n",
       "      <td>3</td>\n",
       "      <td>Charlie</td>\n",
       "      <td>101</td>\n",
       "      <td>Sales</td>\n",
       "    </tr>\n",
       "    <tr>\n",
       "      <th>3</th>\n",
       "      <td>4</td>\n",
       "      <td>David</td>\n",
       "      <td>103</td>\n",
       "      <td>HR</td>\n",
       "    </tr>\n",
       "    <tr>\n",
       "      <th>4</th>\n",
       "      <td>5</td>\n",
       "      <td>Eve</td>\n",
       "      <td>102</td>\n",
       "      <td>IT</td>\n",
       "    </tr>\n",
       "  </tbody>\n",
       "</table>\n",
       "</div>"
      ],
      "text/plain": [
       "   emp_id emp_name  dept_code department\n",
       "0       1    Alice        101      Sales\n",
       "1       2      Bob        102         IT\n",
       "2       3  Charlie        101      Sales\n",
       "3       4    David        103         HR\n",
       "4       5      Eve        102         IT"
      ]
     },
     "execution_count": 9,
     "metadata": {},
     "output_type": "execute_result"
    }
   ],
   "source": [
    "# Drop duplicate column after merge\n",
    "result = pd.merge(employees2, departments2, \n",
    "                  left_on='dept_code', \n",
    "                  right_on='department_id', \n",
    "                  how='left')\n",
    "result.drop(columns='department_id')  # Keep only one of the join columns"
   ]
  },
  {
   "cell_type": "markdown",
   "id": "6a1a607b",
   "metadata": {},
   "source": [
    "## Handling Duplicate Column Names\n",
    "\n",
    "Managing columns with same names:"
   ]
  },
  {
   "cell_type": "code",
   "execution_count": 10,
   "id": "b4c3e0bf",
   "metadata": {},
   "outputs": [
    {
     "data": {
      "application/vnd.microsoft.datawrangler.viewer.v0+json": {
       "columns": [
        {
         "name": "index",
         "rawType": "int64",
         "type": "integer"
        },
        {
         "name": "id",
         "rawType": "int64",
         "type": "integer"
        },
        {
         "name": "name",
         "rawType": "object",
         "type": "string"
        },
        {
         "name": "value_df1",
         "rawType": "int64",
         "type": "integer"
        },
        {
         "name": "date",
         "rawType": "datetime64[ns]",
         "type": "datetime"
        },
        {
         "name": "value_df2",
         "rawType": "int64",
         "type": "integer"
        },
        {
         "name": "status",
         "rawType": "object",
         "type": "string"
        }
       ],
       "ref": "b70893b0-0841-49a9-8d14-84167303980a",
       "rows": [
        [
         "0",
         "1",
         "Alice",
         "100",
         "2024-01-01 00:00:00",
         "10",
         "active"
        ],
        [
         "1",
         "2",
         "Bob",
         "200",
         "2024-01-02 00:00:00",
         "20",
         "active"
        ],
        [
         "2",
         "3",
         "Charlie",
         "300",
         "2024-01-03 00:00:00",
         "30",
         "inactive"
        ]
       ],
       "shape": {
        "columns": 6,
        "rows": 3
       }
      },
      "text/html": [
       "<div>\n",
       "<style scoped>\n",
       "    .dataframe tbody tr th:only-of-type {\n",
       "        vertical-align: middle;\n",
       "    }\n",
       "\n",
       "    .dataframe tbody tr th {\n",
       "        vertical-align: top;\n",
       "    }\n",
       "\n",
       "    .dataframe thead th {\n",
       "        text-align: right;\n",
       "    }\n",
       "</style>\n",
       "<table border=\"1\" class=\"dataframe\">\n",
       "  <thead>\n",
       "    <tr style=\"text-align: right;\">\n",
       "      <th></th>\n",
       "      <th>id</th>\n",
       "      <th>name</th>\n",
       "      <th>value_df1</th>\n",
       "      <th>date</th>\n",
       "      <th>value_df2</th>\n",
       "      <th>status</th>\n",
       "    </tr>\n",
       "  </thead>\n",
       "  <tbody>\n",
       "    <tr>\n",
       "      <th>0</th>\n",
       "      <td>1</td>\n",
       "      <td>Alice</td>\n",
       "      <td>100</td>\n",
       "      <td>2024-01-01</td>\n",
       "      <td>10</td>\n",
       "      <td>active</td>\n",
       "    </tr>\n",
       "    <tr>\n",
       "      <th>1</th>\n",
       "      <td>2</td>\n",
       "      <td>Bob</td>\n",
       "      <td>200</td>\n",
       "      <td>2024-01-02</td>\n",
       "      <td>20</td>\n",
       "      <td>active</td>\n",
       "    </tr>\n",
       "    <tr>\n",
       "      <th>2</th>\n",
       "      <td>3</td>\n",
       "      <td>Charlie</td>\n",
       "      <td>300</td>\n",
       "      <td>2024-01-03</td>\n",
       "      <td>30</td>\n",
       "      <td>inactive</td>\n",
       "    </tr>\n",
       "  </tbody>\n",
       "</table>\n",
       "</div>"
      ],
      "text/plain": [
       "   id     name  value_df1       date  value_df2    status\n",
       "0   1    Alice        100 2024-01-01         10    active\n",
       "1   2      Bob        200 2024-01-02         20    active\n",
       "2   3  Charlie        300 2024-01-03         30  inactive"
      ]
     },
     "execution_count": 10,
     "metadata": {},
     "output_type": "execute_result"
    }
   ],
   "source": [
    "# Create DataFrames with overlapping column names\n",
    "df1 = pd.DataFrame({\n",
    "    'id': [1, 2, 3],\n",
    "    'name': ['Alice', 'Bob', 'Charlie'],\n",
    "    'value': [100, 200, 300],\n",
    "    'date': pd.to_datetime(['2024-01-01', '2024-01-02', '2024-01-03'])\n",
    "})\n",
    "\n",
    "df2 = pd.DataFrame({\n",
    "    'id': [1, 2, 3],\n",
    "    'value': [10, 20, 30],\n",
    "    'status': ['active', 'active', 'inactive']\n",
    "})\n",
    "\n",
    "# Merge with suffix for duplicate columns\n",
    "# R: left_join(df1, df2, by = \"id\", suffix = c(\"_df1\", \"_df2\"))\n",
    "pd.merge(df1, df2, on='id', suffixes=('_df1', '_df2'))"
   ]
  },
  {
   "cell_type": "markdown",
   "id": "71d21f01",
   "metadata": {},
   "source": [
    "## Semi and Anti Joins\n",
    "\n",
    "Filtering joins (semi and anti joins):"
   ]
  },
  {
   "cell_type": "code",
   "execution_count": 11,
   "id": "b1b2b225",
   "metadata": {},
   "outputs": [
    {
     "data": {
      "application/vnd.microsoft.datawrangler.viewer.v0+json": {
       "columns": [
        {
         "name": "index",
         "rawType": "int64",
         "type": "integer"
        },
        {
         "name": "customer_id",
         "rawType": "int64",
         "type": "integer"
        },
        {
         "name": "name",
         "rawType": "object",
         "type": "string"
        },
        {
         "name": "city",
         "rawType": "object",
         "type": "string"
        }
       ],
       "ref": "e50edef4-04e9-4c56-b3a6-a74370e4babf",
       "rows": [
        [
         "0",
         "1",
         "Customer A",
         "NYC"
        ],
        [
         "1",
         "2",
         "Customer B",
         "LA"
        ],
        [
         "2",
         "3",
         "Customer C",
         "Chicago"
        ]
       ],
       "shape": {
        "columns": 3,
        "rows": 3
       }
      },
      "text/html": [
       "<div>\n",
       "<style scoped>\n",
       "    .dataframe tbody tr th:only-of-type {\n",
       "        vertical-align: middle;\n",
       "    }\n",
       "\n",
       "    .dataframe tbody tr th {\n",
       "        vertical-align: top;\n",
       "    }\n",
       "\n",
       "    .dataframe thead th {\n",
       "        text-align: right;\n",
       "    }\n",
       "</style>\n",
       "<table border=\"1\" class=\"dataframe\">\n",
       "  <thead>\n",
       "    <tr style=\"text-align: right;\">\n",
       "      <th></th>\n",
       "      <th>customer_id</th>\n",
       "      <th>name</th>\n",
       "      <th>city</th>\n",
       "    </tr>\n",
       "  </thead>\n",
       "  <tbody>\n",
       "    <tr>\n",
       "      <th>0</th>\n",
       "      <td>1</td>\n",
       "      <td>Customer A</td>\n",
       "      <td>NYC</td>\n",
       "    </tr>\n",
       "    <tr>\n",
       "      <th>1</th>\n",
       "      <td>2</td>\n",
       "      <td>Customer B</td>\n",
       "      <td>LA</td>\n",
       "    </tr>\n",
       "    <tr>\n",
       "      <th>2</th>\n",
       "      <td>3</td>\n",
       "      <td>Customer C</td>\n",
       "      <td>Chicago</td>\n",
       "    </tr>\n",
       "  </tbody>\n",
       "</table>\n",
       "</div>"
      ],
      "text/plain": [
       "   customer_id        name     city\n",
       "0            1  Customer A      NYC\n",
       "1            2  Customer B       LA\n",
       "2            3  Customer C  Chicago"
      ]
     },
     "execution_count": 11,
     "metadata": {},
     "output_type": "execute_result"
    }
   ],
   "source": [
    "# Create sample data\n",
    "customers = pd.DataFrame({\n",
    "    'customer_id': [1, 2, 3, 4, 5],\n",
    "    'name': ['Customer A', 'Customer B', 'Customer C', 'Customer D', 'Customer E'],\n",
    "    'city': ['NYC', 'LA', 'Chicago', 'Houston', 'Phoenix']\n",
    "})\n",
    "\n",
    "orders = pd.DataFrame({\n",
    "    'order_id': [101, 102, 103, 104],\n",
    "    'customer_id': [1, 2, 1, 3],\n",
    "    'amount': [1000, 1500, 800, 2000]\n",
    "})\n",
    "\n",
    "# Semi join - keep only customers with orders\n",
    "# R: semi_join(customers, orders, by = \"customer_id\")\n",
    "customers_with_orders = customers[customers['customer_id'].isin(orders['customer_id'])]\n",
    "customers_with_orders"
   ]
  },
  {
   "cell_type": "code",
   "execution_count": 12,
   "id": "cad45edd",
   "metadata": {},
   "outputs": [
    {
     "data": {
      "application/vnd.microsoft.datawrangler.viewer.v0+json": {
       "columns": [
        {
         "name": "index",
         "rawType": "int64",
         "type": "integer"
        },
        {
         "name": "customer_id",
         "rawType": "int64",
         "type": "integer"
        },
        {
         "name": "name",
         "rawType": "object",
         "type": "string"
        },
        {
         "name": "city",
         "rawType": "object",
         "type": "string"
        }
       ],
       "ref": "d38e592d-7946-46e3-b5f3-e609609fc0c5",
       "rows": [
        [
         "3",
         "4",
         "Customer D",
         "Houston"
        ],
        [
         "4",
         "5",
         "Customer E",
         "Phoenix"
        ]
       ],
       "shape": {
        "columns": 3,
        "rows": 2
       }
      },
      "text/html": [
       "<div>\n",
       "<style scoped>\n",
       "    .dataframe tbody tr th:only-of-type {\n",
       "        vertical-align: middle;\n",
       "    }\n",
       "\n",
       "    .dataframe tbody tr th {\n",
       "        vertical-align: top;\n",
       "    }\n",
       "\n",
       "    .dataframe thead th {\n",
       "        text-align: right;\n",
       "    }\n",
       "</style>\n",
       "<table border=\"1\" class=\"dataframe\">\n",
       "  <thead>\n",
       "    <tr style=\"text-align: right;\">\n",
       "      <th></th>\n",
       "      <th>customer_id</th>\n",
       "      <th>name</th>\n",
       "      <th>city</th>\n",
       "    </tr>\n",
       "  </thead>\n",
       "  <tbody>\n",
       "    <tr>\n",
       "      <th>3</th>\n",
       "      <td>4</td>\n",
       "      <td>Customer D</td>\n",
       "      <td>Houston</td>\n",
       "    </tr>\n",
       "    <tr>\n",
       "      <th>4</th>\n",
       "      <td>5</td>\n",
       "      <td>Customer E</td>\n",
       "      <td>Phoenix</td>\n",
       "    </tr>\n",
       "  </tbody>\n",
       "</table>\n",
       "</div>"
      ],
      "text/plain": [
       "   customer_id        name     city\n",
       "3            4  Customer D  Houston\n",
       "4            5  Customer E  Phoenix"
      ]
     },
     "execution_count": 12,
     "metadata": {},
     "output_type": "execute_result"
    }
   ],
   "source": [
    "# Anti join - keep only customers without orders\n",
    "# R: anti_join(customers, orders, by = \"customer_id\")\n",
    "customers_without_orders = customers[~customers['customer_id'].isin(orders['customer_id'])]\n",
    "customers_without_orders"
   ]
  },
  {
   "cell_type": "code",
   "execution_count": 13,
   "id": "7618ebe8",
   "metadata": {},
   "outputs": [
    {
     "data": {
      "application/vnd.microsoft.datawrangler.viewer.v0+json": {
       "columns": [
        {
         "name": "index",
         "rawType": "int64",
         "type": "integer"
        },
        {
         "name": "customer_id",
         "rawType": "int64",
         "type": "integer"
        },
        {
         "name": "name",
         "rawType": "object",
         "type": "string"
        },
        {
         "name": "city",
         "rawType": "object",
         "type": "string"
        }
       ],
       "ref": "559a6389-d9ab-4ec3-8743-7a3dfe0a492a",
       "rows": [
        [
         "0",
         "1",
         "Customer A",
         "NYC"
        ],
        [
         "1",
         "2",
         "Customer B",
         "LA"
        ],
        [
         "2",
         "3",
         "Customer C",
         "Chicago"
        ]
       ],
       "shape": {
        "columns": 3,
        "rows": 3
       }
      },
      "text/html": [
       "<div>\n",
       "<style scoped>\n",
       "    .dataframe tbody tr th:only-of-type {\n",
       "        vertical-align: middle;\n",
       "    }\n",
       "\n",
       "    .dataframe tbody tr th {\n",
       "        vertical-align: top;\n",
       "    }\n",
       "\n",
       "    .dataframe thead th {\n",
       "        text-align: right;\n",
       "    }\n",
       "</style>\n",
       "<table border=\"1\" class=\"dataframe\">\n",
       "  <thead>\n",
       "    <tr style=\"text-align: right;\">\n",
       "      <th></th>\n",
       "      <th>customer_id</th>\n",
       "      <th>name</th>\n",
       "      <th>city</th>\n",
       "    </tr>\n",
       "  </thead>\n",
       "  <tbody>\n",
       "    <tr>\n",
       "      <th>0</th>\n",
       "      <td>1</td>\n",
       "      <td>Customer A</td>\n",
       "      <td>NYC</td>\n",
       "    </tr>\n",
       "    <tr>\n",
       "      <th>1</th>\n",
       "      <td>2</td>\n",
       "      <td>Customer B</td>\n",
       "      <td>LA</td>\n",
       "    </tr>\n",
       "    <tr>\n",
       "      <th>2</th>\n",
       "      <td>3</td>\n",
       "      <td>Customer C</td>\n",
       "      <td>Chicago</td>\n",
       "    </tr>\n",
       "  </tbody>\n",
       "</table>\n",
       "</div>"
      ],
      "text/plain": [
       "   customer_id        name     city\n",
       "0            1  Customer A      NYC\n",
       "1            2  Customer B       LA\n",
       "2            3  Customer C  Chicago"
      ]
     },
     "execution_count": 13,
     "metadata": {},
     "output_type": "execute_result"
    }
   ],
   "source": [
    "# Alternative semi-join using merge\n",
    "semi_join_result = pd.merge(customers, orders[['customer_id']].drop_duplicates(), \n",
    "                           on='customer_id', \n",
    "                           how='inner')\n",
    "semi_join_result"
   ]
  },
  {
   "cell_type": "markdown",
   "id": "71724b6e",
   "metadata": {},
   "source": [
    "## Cross Joins\n",
    "\n",
    "Creating cartesian products:"
   ]
  },
  {
   "cell_type": "code",
   "execution_count": 14,
   "id": "6d10b823",
   "metadata": {},
   "outputs": [
    {
     "data": {
      "application/vnd.microsoft.datawrangler.viewer.v0+json": {
       "columns": [
        {
         "name": "index",
         "rawType": "int64",
         "type": "integer"
        },
        {
         "name": "size",
         "rawType": "object",
         "type": "string"
        },
        {
         "name": "color",
         "rawType": "object",
         "type": "string"
        }
       ],
       "ref": "176e9f21-5465-4479-b38d-b8993a72b847",
       "rows": [
        [
         "0",
         "S",
         "Red"
        ],
        [
         "1",
         "S",
         "Blue"
        ],
        [
         "2",
         "S",
         "Green"
        ],
        [
         "3",
         "M",
         "Red"
        ],
        [
         "4",
         "M",
         "Blue"
        ],
        [
         "5",
         "M",
         "Green"
        ],
        [
         "6",
         "L",
         "Red"
        ],
        [
         "7",
         "L",
         "Blue"
        ],
        [
         "8",
         "L",
         "Green"
        ]
       ],
       "shape": {
        "columns": 2,
        "rows": 9
       }
      },
      "text/html": [
       "<div>\n",
       "<style scoped>\n",
       "    .dataframe tbody tr th:only-of-type {\n",
       "        vertical-align: middle;\n",
       "    }\n",
       "\n",
       "    .dataframe tbody tr th {\n",
       "        vertical-align: top;\n",
       "    }\n",
       "\n",
       "    .dataframe thead th {\n",
       "        text-align: right;\n",
       "    }\n",
       "</style>\n",
       "<table border=\"1\" class=\"dataframe\">\n",
       "  <thead>\n",
       "    <tr style=\"text-align: right;\">\n",
       "      <th></th>\n",
       "      <th>size</th>\n",
       "      <th>color</th>\n",
       "    </tr>\n",
       "  </thead>\n",
       "  <tbody>\n",
       "    <tr>\n",
       "      <th>0</th>\n",
       "      <td>S</td>\n",
       "      <td>Red</td>\n",
       "    </tr>\n",
       "    <tr>\n",
       "      <th>1</th>\n",
       "      <td>S</td>\n",
       "      <td>Blue</td>\n",
       "    </tr>\n",
       "    <tr>\n",
       "      <th>2</th>\n",
       "      <td>S</td>\n",
       "      <td>Green</td>\n",
       "    </tr>\n",
       "    <tr>\n",
       "      <th>3</th>\n",
       "      <td>M</td>\n",
       "      <td>Red</td>\n",
       "    </tr>\n",
       "    <tr>\n",
       "      <th>4</th>\n",
       "      <td>M</td>\n",
       "      <td>Blue</td>\n",
       "    </tr>\n",
       "    <tr>\n",
       "      <th>5</th>\n",
       "      <td>M</td>\n",
       "      <td>Green</td>\n",
       "    </tr>\n",
       "    <tr>\n",
       "      <th>6</th>\n",
       "      <td>L</td>\n",
       "      <td>Red</td>\n",
       "    </tr>\n",
       "    <tr>\n",
       "      <th>7</th>\n",
       "      <td>L</td>\n",
       "      <td>Blue</td>\n",
       "    </tr>\n",
       "    <tr>\n",
       "      <th>8</th>\n",
       "      <td>L</td>\n",
       "      <td>Green</td>\n",
       "    </tr>\n",
       "  </tbody>\n",
       "</table>\n",
       "</div>"
      ],
      "text/plain": [
       "  size  color\n",
       "0    S    Red\n",
       "1    S   Blue\n",
       "2    S  Green\n",
       "3    M    Red\n",
       "4    M   Blue\n",
       "5    M  Green\n",
       "6    L    Red\n",
       "7    L   Blue\n",
       "8    L  Green"
      ]
     },
     "execution_count": 14,
     "metadata": {},
     "output_type": "execute_result"
    }
   ],
   "source": [
    "# Create small DataFrames for cross join\n",
    "sizes = pd.DataFrame({'size': ['S', 'M', 'L']})\n",
    "colors = pd.DataFrame({'color': ['Red', 'Blue', 'Green']})\n",
    "\n",
    "# Cross join - all combinations\n",
    "# R: cross_join(sizes, colors) or expand_grid(size = c(\"S\", \"M\", \"L\"), color = c(\"Red\", \"Blue\", \"Green\"))\n",
    "sizes['key'] = 1\n",
    "colors['key'] = 1\n",
    "cross_joined = pd.merge(sizes, colors, on='key').drop(columns='key')\n",
    "cross_joined"
   ]
  },
  {
   "cell_type": "code",
   "execution_count": 15,
   "id": "0b085a55",
   "metadata": {},
   "outputs": [
    {
     "data": {
      "application/vnd.microsoft.datawrangler.viewer.v0+json": {
       "columns": [
        {
         "name": "index",
         "rawType": "int64",
         "type": "integer"
        },
        {
         "name": "size",
         "rawType": "object",
         "type": "string"
        },
        {
         "name": "color",
         "rawType": "object",
         "type": "string"
        }
       ],
       "ref": "b6a2df28-d6d6-4343-9fc6-1861ca62e7a2",
       "rows": [
        [
         "0",
         "S",
         "Red"
        ],
        [
         "1",
         "S",
         "Blue"
        ],
        [
         "2",
         "S",
         "Green"
        ],
        [
         "3",
         "M",
         "Red"
        ],
        [
         "4",
         "M",
         "Blue"
        ],
        [
         "5",
         "M",
         "Green"
        ],
        [
         "6",
         "L",
         "Red"
        ],
        [
         "7",
         "L",
         "Blue"
        ],
        [
         "8",
         "L",
         "Green"
        ]
       ],
       "shape": {
        "columns": 2,
        "rows": 9
       }
      },
      "text/html": [
       "<div>\n",
       "<style scoped>\n",
       "    .dataframe tbody tr th:only-of-type {\n",
       "        vertical-align: middle;\n",
       "    }\n",
       "\n",
       "    .dataframe tbody tr th {\n",
       "        vertical-align: top;\n",
       "    }\n",
       "\n",
       "    .dataframe thead th {\n",
       "        text-align: right;\n",
       "    }\n",
       "</style>\n",
       "<table border=\"1\" class=\"dataframe\">\n",
       "  <thead>\n",
       "    <tr style=\"text-align: right;\">\n",
       "      <th></th>\n",
       "      <th>size</th>\n",
       "      <th>color</th>\n",
       "    </tr>\n",
       "  </thead>\n",
       "  <tbody>\n",
       "    <tr>\n",
       "      <th>0</th>\n",
       "      <td>S</td>\n",
       "      <td>Red</td>\n",
       "    </tr>\n",
       "    <tr>\n",
       "      <th>1</th>\n",
       "      <td>S</td>\n",
       "      <td>Blue</td>\n",
       "    </tr>\n",
       "    <tr>\n",
       "      <th>2</th>\n",
       "      <td>S</td>\n",
       "      <td>Green</td>\n",
       "    </tr>\n",
       "    <tr>\n",
       "      <th>3</th>\n",
       "      <td>M</td>\n",
       "      <td>Red</td>\n",
       "    </tr>\n",
       "    <tr>\n",
       "      <th>4</th>\n",
       "      <td>M</td>\n",
       "      <td>Blue</td>\n",
       "    </tr>\n",
       "    <tr>\n",
       "      <th>5</th>\n",
       "      <td>M</td>\n",
       "      <td>Green</td>\n",
       "    </tr>\n",
       "    <tr>\n",
       "      <th>6</th>\n",
       "      <td>L</td>\n",
       "      <td>Red</td>\n",
       "    </tr>\n",
       "    <tr>\n",
       "      <th>7</th>\n",
       "      <td>L</td>\n",
       "      <td>Blue</td>\n",
       "    </tr>\n",
       "    <tr>\n",
       "      <th>8</th>\n",
       "      <td>L</td>\n",
       "      <td>Green</td>\n",
       "    </tr>\n",
       "  </tbody>\n",
       "</table>\n",
       "</div>"
      ],
      "text/plain": [
       "  size  color\n",
       "0    S    Red\n",
       "1    S   Blue\n",
       "2    S  Green\n",
       "3    M    Red\n",
       "4    M   Blue\n",
       "5    M  Green\n",
       "6    L    Red\n",
       "7    L   Blue\n",
       "8    L  Green"
      ]
     },
     "execution_count": 15,
     "metadata": {},
     "output_type": "execute_result"
    }
   ],
   "source": [
    "# Alternative using itertools\n",
    "import itertools\n",
    "cross_join_alt = pd.DataFrame(\n",
    "    list(itertools.product(sizes['size'], colors['color'])),\n",
    "    columns=['size', 'color']\n",
    ")\n",
    "cross_join_alt"
   ]
  },
  {
   "cell_type": "markdown",
   "id": "705443bb",
   "metadata": {},
   "source": [
    "## Joining with Index\n",
    "\n",
    "Using index for joins:"
   ]
  },
  {
   "cell_type": "code",
   "execution_count": 16,
   "id": "1884a2d9",
   "metadata": {},
   "outputs": [
    {
     "data": {
      "application/vnd.microsoft.datawrangler.viewer.v0+json": {
       "columns": [
        {
         "name": "index",
         "rawType": "object",
         "type": "string"
        },
        {
         "name": "product_name",
         "rawType": "object",
         "type": "string"
        },
        {
         "name": "price",
         "rawType": "float64",
         "type": "float"
        },
        {
         "name": "quantity",
         "rawType": "int64",
         "type": "integer"
        },
        {
         "name": "warehouse",
         "rawType": "object",
         "type": "string"
        }
       ],
       "ref": "bc9bb9b8-187b-48af-aadb-d2fd9897be67",
       "rows": [
        [
         "P001",
         "Widget",
         "19.99",
         "100",
         "A"
        ],
        [
         "P002",
         "Gadget",
         "29.99",
         "50",
         "A"
        ],
        [
         "P003",
         "Doohickey",
         "39.99",
         "75",
         "B"
        ]
       ],
       "shape": {
        "columns": 4,
        "rows": 3
       }
      },
      "text/html": [
       "<div>\n",
       "<style scoped>\n",
       "    .dataframe tbody tr th:only-of-type {\n",
       "        vertical-align: middle;\n",
       "    }\n",
       "\n",
       "    .dataframe tbody tr th {\n",
       "        vertical-align: top;\n",
       "    }\n",
       "\n",
       "    .dataframe thead th {\n",
       "        text-align: right;\n",
       "    }\n",
       "</style>\n",
       "<table border=\"1\" class=\"dataframe\">\n",
       "  <thead>\n",
       "    <tr style=\"text-align: right;\">\n",
       "      <th></th>\n",
       "      <th>product_name</th>\n",
       "      <th>price</th>\n",
       "      <th>quantity</th>\n",
       "      <th>warehouse</th>\n",
       "    </tr>\n",
       "  </thead>\n",
       "  <tbody>\n",
       "    <tr>\n",
       "      <th>P001</th>\n",
       "      <td>Widget</td>\n",
       "      <td>19.99</td>\n",
       "      <td>100</td>\n",
       "      <td>A</td>\n",
       "    </tr>\n",
       "    <tr>\n",
       "      <th>P002</th>\n",
       "      <td>Gadget</td>\n",
       "      <td>29.99</td>\n",
       "      <td>50</td>\n",
       "      <td>A</td>\n",
       "    </tr>\n",
       "    <tr>\n",
       "      <th>P003</th>\n",
       "      <td>Doohickey</td>\n",
       "      <td>39.99</td>\n",
       "      <td>75</td>\n",
       "      <td>B</td>\n",
       "    </tr>\n",
       "  </tbody>\n",
       "</table>\n",
       "</div>"
      ],
      "text/plain": [
       "     product_name  price  quantity warehouse\n",
       "P001       Widget  19.99       100         A\n",
       "P002       Gadget  29.99        50         A\n",
       "P003    Doohickey  39.99        75         B"
      ]
     },
     "execution_count": 16,
     "metadata": {},
     "output_type": "execute_result"
    }
   ],
   "source": [
    "# Create DataFrames with meaningful index\n",
    "products_indexed = pd.DataFrame({\n",
    "    'product_name': ['Widget', 'Gadget', 'Doohickey'],\n",
    "    'price': [19.99, 29.99, 39.99]\n",
    "}, index=['P001', 'P002', 'P003'])\n",
    "\n",
    "inventory_indexed = pd.DataFrame({\n",
    "    'quantity': [100, 50, 75],\n",
    "    'warehouse': ['A', 'A', 'B']\n",
    "}, index=['P001', 'P002', 'P003'])\n",
    "\n",
    "# Join on index\n",
    "# No direct R equivalent - would need to convert rownames to column\n",
    "products_indexed.join(inventory_indexed)"
   ]
  },
  {
   "cell_type": "code",
   "execution_count": 17,
   "id": "878524e7",
   "metadata": {},
   "outputs": [
    {
     "data": {
      "application/vnd.microsoft.datawrangler.viewer.v0+json": {
       "columns": [
        {
         "name": "index",
         "rawType": "int64",
         "type": "integer"
        },
        {
         "name": "product_id",
         "rawType": "object",
         "type": "string"
        },
        {
         "name": "units_sold",
         "rawType": "int64",
         "type": "integer"
        },
        {
         "name": "date",
         "rawType": "datetime64[ns]",
         "type": "datetime"
        },
        {
         "name": "product_name",
         "rawType": "object",
         "type": "string"
        },
        {
         "name": "price",
         "rawType": "float64",
         "type": "float"
        }
       ],
       "ref": "01e196ef-a1e5-44ae-894e-1718b8ce7aae",
       "rows": [
        [
         "0",
         "P001",
         "10",
         "2024-01-01 00:00:00",
         "Widget",
         "19.99"
        ],
        [
         "1",
         "P002",
         "5",
         "2024-01-02 00:00:00",
         "Gadget",
         "29.99"
        ],
        [
         "2",
         "P001",
         "15",
         "2024-01-03 00:00:00",
         "Widget",
         "19.99"
        ],
        [
         "3",
         "P003",
         "8",
         "2024-01-04 00:00:00",
         "Doohickey",
         "39.99"
        ]
       ],
       "shape": {
        "columns": 5,
        "rows": 4
       }
      },
      "text/html": [
       "<div>\n",
       "<style scoped>\n",
       "    .dataframe tbody tr th:only-of-type {\n",
       "        vertical-align: middle;\n",
       "    }\n",
       "\n",
       "    .dataframe tbody tr th {\n",
       "        vertical-align: top;\n",
       "    }\n",
       "\n",
       "    .dataframe thead th {\n",
       "        text-align: right;\n",
       "    }\n",
       "</style>\n",
       "<table border=\"1\" class=\"dataframe\">\n",
       "  <thead>\n",
       "    <tr style=\"text-align: right;\">\n",
       "      <th></th>\n",
       "      <th>product_id</th>\n",
       "      <th>units_sold</th>\n",
       "      <th>date</th>\n",
       "      <th>product_name</th>\n",
       "      <th>price</th>\n",
       "    </tr>\n",
       "  </thead>\n",
       "  <tbody>\n",
       "    <tr>\n",
       "      <th>0</th>\n",
       "      <td>P001</td>\n",
       "      <td>10</td>\n",
       "      <td>2024-01-01</td>\n",
       "      <td>Widget</td>\n",
       "      <td>19.99</td>\n",
       "    </tr>\n",
       "    <tr>\n",
       "      <th>1</th>\n",
       "      <td>P002</td>\n",
       "      <td>5</td>\n",
       "      <td>2024-01-02</td>\n",
       "      <td>Gadget</td>\n",
       "      <td>29.99</td>\n",
       "    </tr>\n",
       "    <tr>\n",
       "      <th>2</th>\n",
       "      <td>P001</td>\n",
       "      <td>15</td>\n",
       "      <td>2024-01-03</td>\n",
       "      <td>Widget</td>\n",
       "      <td>19.99</td>\n",
       "    </tr>\n",
       "    <tr>\n",
       "      <th>3</th>\n",
       "      <td>P003</td>\n",
       "      <td>8</td>\n",
       "      <td>2024-01-04</td>\n",
       "      <td>Doohickey</td>\n",
       "      <td>39.99</td>\n",
       "    </tr>\n",
       "  </tbody>\n",
       "</table>\n",
       "</div>"
      ],
      "text/plain": [
       "  product_id  units_sold       date product_name  price\n",
       "0       P001          10 2024-01-01       Widget  19.99\n",
       "1       P002           5 2024-01-02       Gadget  29.99\n",
       "2       P001          15 2024-01-03       Widget  19.99\n",
       "3       P003           8 2024-01-04    Doohickey  39.99"
      ]
     },
     "execution_count": 17,
     "metadata": {},
     "output_type": "execute_result"
    }
   ],
   "source": [
    "# Join DataFrame with index to DataFrame with column\n",
    "sales_by_product = pd.DataFrame({\n",
    "    'product_id': ['P001', 'P002', 'P001', 'P003'],\n",
    "    'units_sold': [10, 5, 15, 8],\n",
    "    'date': pd.to_datetime(['2024-01-01', '2024-01-02', '2024-01-03', '2024-01-04'])\n",
    "})\n",
    "\n",
    "# Merge indexed DataFrame with regular DataFrame\n",
    "pd.merge(sales_by_product, products_indexed, \n",
    "         left_on='product_id', \n",
    "         right_index=True)"
   ]
  },
  {
   "cell_type": "markdown",
   "id": "b1dc44ed",
   "metadata": {},
   "source": [
    "## Multiple DataFrames Join\n",
    "\n",
    "Joining more than two DataFrames:"
   ]
  },
  {
   "cell_type": "code",
   "execution_count": 18,
   "id": "f808bebb",
   "metadata": {},
   "outputs": [
    {
     "data": {
      "application/vnd.microsoft.datawrangler.viewer.v0+json": {
       "columns": [
        {
         "name": "index",
         "rawType": "int64",
         "type": "integer"
        },
        {
         "name": "emp_id",
         "rawType": "int64",
         "type": "integer"
        },
        {
         "name": "name",
         "rawType": "object",
         "type": "string"
        },
        {
         "name": "dept_id",
         "rawType": "int64",
         "type": "integer"
        },
        {
         "name": "manager_id",
         "rawType": "int64",
         "type": "integer"
        },
        {
         "name": "dept_name",
         "rawType": "object",
         "type": "string"
        },
        {
         "name": "budget",
         "rawType": "int64",
         "type": "integer"
        },
        {
         "name": "manager_name",
         "rawType": "object",
         "type": "string"
        },
        {
         "name": "level",
         "rawType": "object",
         "type": "string"
        }
       ],
       "ref": "ccaa82f1-dbba-4ea0-b2d3-c9efb176de59",
       "rows": [
        [
         "0",
         "1",
         "Alice",
         "10",
         "3",
         "Sales",
         "100000",
         "Charlie",
         "Senior"
        ],
        [
         "1",
         "2",
         "Bob",
         "20",
         "3",
         "IT",
         "150000",
         "Charlie",
         "Senior"
        ],
        [
         "2",
         "3",
         "Charlie",
         "10",
         "4",
         "Sales",
         "100000",
         "David",
         "Executive"
        ],
        [
         "3",
         "4",
         "David",
         "30",
         "4",
         "HR",
         "80000",
         "David",
         "Executive"
        ]
       ],
       "shape": {
        "columns": 8,
        "rows": 4
       }
      },
      "text/html": [
       "<div>\n",
       "<style scoped>\n",
       "    .dataframe tbody tr th:only-of-type {\n",
       "        vertical-align: middle;\n",
       "    }\n",
       "\n",
       "    .dataframe tbody tr th {\n",
       "        vertical-align: top;\n",
       "    }\n",
       "\n",
       "    .dataframe thead th {\n",
       "        text-align: right;\n",
       "    }\n",
       "</style>\n",
       "<table border=\"1\" class=\"dataframe\">\n",
       "  <thead>\n",
       "    <tr style=\"text-align: right;\">\n",
       "      <th></th>\n",
       "      <th>emp_id</th>\n",
       "      <th>name</th>\n",
       "      <th>dept_id</th>\n",
       "      <th>manager_id</th>\n",
       "      <th>dept_name</th>\n",
       "      <th>budget</th>\n",
       "      <th>manager_name</th>\n",
       "      <th>level</th>\n",
       "    </tr>\n",
       "  </thead>\n",
       "  <tbody>\n",
       "    <tr>\n",
       "      <th>0</th>\n",
       "      <td>1</td>\n",
       "      <td>Alice</td>\n",
       "      <td>10</td>\n",
       "      <td>3</td>\n",
       "      <td>Sales</td>\n",
       "      <td>100000</td>\n",
       "      <td>Charlie</td>\n",
       "      <td>Senior</td>\n",
       "    </tr>\n",
       "    <tr>\n",
       "      <th>1</th>\n",
       "      <td>2</td>\n",
       "      <td>Bob</td>\n",
       "      <td>20</td>\n",
       "      <td>3</td>\n",
       "      <td>IT</td>\n",
       "      <td>150000</td>\n",
       "      <td>Charlie</td>\n",
       "      <td>Senior</td>\n",
       "    </tr>\n",
       "    <tr>\n",
       "      <th>2</th>\n",
       "      <td>3</td>\n",
       "      <td>Charlie</td>\n",
       "      <td>10</td>\n",
       "      <td>4</td>\n",
       "      <td>Sales</td>\n",
       "      <td>100000</td>\n",
       "      <td>David</td>\n",
       "      <td>Executive</td>\n",
       "    </tr>\n",
       "    <tr>\n",
       "      <th>3</th>\n",
       "      <td>4</td>\n",
       "      <td>David</td>\n",
       "      <td>30</td>\n",
       "      <td>4</td>\n",
       "      <td>HR</td>\n",
       "      <td>80000</td>\n",
       "      <td>David</td>\n",
       "      <td>Executive</td>\n",
       "    </tr>\n",
       "  </tbody>\n",
       "</table>\n",
       "</div>"
      ],
      "text/plain": [
       "   emp_id     name  dept_id  manager_id dept_name  budget manager_name  \\\n",
       "0       1    Alice       10           3     Sales  100000      Charlie   \n",
       "1       2      Bob       20           3        IT  150000      Charlie   \n",
       "2       3  Charlie       10           4     Sales  100000        David   \n",
       "3       4    David       30           4        HR   80000        David   \n",
       "\n",
       "       level  \n",
       "0     Senior  \n",
       "1     Senior  \n",
       "2  Executive  \n",
       "3  Executive  "
      ]
     },
     "execution_count": 18,
     "metadata": {},
     "output_type": "execute_result"
    }
   ],
   "source": [
    "# Create multiple related DataFrames\n",
    "employees = pd.DataFrame({\n",
    "    'emp_id': [1, 2, 3, 4],\n",
    "    'name': ['Alice', 'Bob', 'Charlie', 'David'],\n",
    "    'dept_id': [10, 20, 10, 30],\n",
    "    'manager_id': [3, 3, 4, 4]\n",
    "})\n",
    "\n",
    "departments = pd.DataFrame({\n",
    "    'dept_id': [10, 20, 30],\n",
    "    'dept_name': ['Sales', 'IT', 'HR'],\n",
    "    'budget': [100000, 150000, 80000]\n",
    "})\n",
    "\n",
    "managers = pd.DataFrame({\n",
    "    'manager_id': [3, 4],\n",
    "    'manager_name': ['Charlie', 'David'],\n",
    "    'level': ['Senior', 'Executive']\n",
    "})\n",
    "\n",
    "# Chain multiple joins\n",
    "# R: employees %>% \n",
    "#     left_join(departments, by = \"dept_id\") %>%\n",
    "#     left_join(managers, by = \"manager_id\")\n",
    "result = (employees\n",
    "    .merge(departments, on='dept_id', how='left')\n",
    "    .merge(managers, on='manager_id', how='left')\n",
    ")\n",
    "result"
   ]
  },
  {
   "cell_type": "code",
   "execution_count": 19,
   "id": "5dff2e13",
   "metadata": {},
   "outputs": [],
   "source": [
    "# Using reduce for multiple joins\n",
    "from functools import reduce\n",
    "\n",
    "# List of DataFrames to join\n",
    "dfs = [employees, departments, managers]\n",
    "\n",
    "# Define join keys for each pair\n",
    "join_keys = ['dept_id', 'manager_id']\n",
    "\n",
    "# Perform sequential joins\n",
    "result_reduce = reduce(\n",
    "    lambda left, right: pd.merge(left, right[1], \n",
    "                                on=join_keys[right[0]], \n",
    "                                how='left'),\n",
    "    enumerate(dfs[1:]), \n",
    "    dfs[0]\n",
    ")"
   ]
  },
  {
   "cell_type": "markdown",
   "id": "12cecd48",
   "metadata": {},
   "source": [
    "## Inequality Joins\n",
    "\n",
    "Joining on conditions other than equality:"
   ]
  },
  {
   "cell_type": "code",
   "execution_count": 20,
   "id": "c6aa9946",
   "metadata": {},
   "outputs": [
    {
     "data": {
      "application/vnd.microsoft.datawrangler.viewer.v0+json": {
       "columns": [
        {
         "name": "index",
         "rawType": "int64",
         "type": "integer"
        },
        {
         "name": "person",
         "rawType": "object",
         "type": "string"
        },
        {
         "name": "event_name",
         "rawType": "object",
         "type": "string"
        },
        {
         "name": "check_time",
         "rawType": "datetime64[ns]",
         "type": "datetime"
        }
       ],
       "ref": "dac0b2ac-9b3a-4a7c-8ec3-0fc894f88c0e",
       "rows": [
        [
         "0",
         "Alice",
         "Meeting A",
         "2024-01-01 10:00:00"
        ],
        [
         "5",
         "Bob",
         "Meeting B",
         "2024-01-01 15:00:00"
        ],
        [
         "10",
         "Charlie",
         "Meeting C",
         "2024-01-02 11:00:00"
        ]
       ],
       "shape": {
        "columns": 3,
        "rows": 3
       }
      },
      "text/html": [
       "<div>\n",
       "<style scoped>\n",
       "    .dataframe tbody tr th:only-of-type {\n",
       "        vertical-align: middle;\n",
       "    }\n",
       "\n",
       "    .dataframe tbody tr th {\n",
       "        vertical-align: top;\n",
       "    }\n",
       "\n",
       "    .dataframe thead th {\n",
       "        text-align: right;\n",
       "    }\n",
       "</style>\n",
       "<table border=\"1\" class=\"dataframe\">\n",
       "  <thead>\n",
       "    <tr style=\"text-align: right;\">\n",
       "      <th></th>\n",
       "      <th>person</th>\n",
       "      <th>event_name</th>\n",
       "      <th>check_time</th>\n",
       "    </tr>\n",
       "  </thead>\n",
       "  <tbody>\n",
       "    <tr>\n",
       "      <th>0</th>\n",
       "      <td>Alice</td>\n",
       "      <td>Meeting A</td>\n",
       "      <td>2024-01-01 10:00:00</td>\n",
       "    </tr>\n",
       "    <tr>\n",
       "      <th>5</th>\n",
       "      <td>Bob</td>\n",
       "      <td>Meeting B</td>\n",
       "      <td>2024-01-01 15:00:00</td>\n",
       "    </tr>\n",
       "    <tr>\n",
       "      <th>10</th>\n",
       "      <td>Charlie</td>\n",
       "      <td>Meeting C</td>\n",
       "      <td>2024-01-02 11:00:00</td>\n",
       "    </tr>\n",
       "  </tbody>\n",
       "</table>\n",
       "</div>"
      ],
      "text/plain": [
       "     person event_name          check_time\n",
       "0     Alice  Meeting A 2024-01-01 10:00:00\n",
       "5       Bob  Meeting B 2024-01-01 15:00:00\n",
       "10  Charlie  Meeting C 2024-01-02 11:00:00"
      ]
     },
     "execution_count": 20,
     "metadata": {},
     "output_type": "execute_result"
    }
   ],
   "source": [
    "# Create DataFrames for inequality join\n",
    "events = pd.DataFrame({\n",
    "    'event_id': [1, 2, 3, 4],\n",
    "    'start_time': pd.to_datetime(['2024-01-01 09:00', '2024-01-01 14:00', \n",
    "                                  '2024-01-02 10:00', '2024-01-02 15:00']),\n",
    "    'end_time': pd.to_datetime(['2024-01-01 11:00', '2024-01-01 16:00', \n",
    "                               '2024-01-02 12:00', '2024-01-02 17:00']),\n",
    "    'event_name': ['Meeting A', 'Meeting B', 'Meeting C', 'Meeting D']\n",
    "})\n",
    "\n",
    "timestamps = pd.DataFrame({\n",
    "    'check_time': pd.to_datetime(['2024-01-01 10:00', '2024-01-01 15:00', \n",
    "                                  '2024-01-02 11:00', '2024-01-02 18:00']),\n",
    "    'person': ['Alice', 'Bob', 'Charlie', 'David']\n",
    "})\n",
    "\n",
    "# Find which events each person could have attended\n",
    "# This requires a cross join followed by filtering\n",
    "events['key'] = 1\n",
    "timestamps['key'] = 1\n",
    "cross = pd.merge(events, timestamps, on='key').drop(columns='key')\n",
    "\n",
    "# Filter for overlapping times\n",
    "result = cross[\n",
    "    (cross['check_time'] >= cross['start_time']) & \n",
    "    (cross['check_time'] <= cross['end_time'])\n",
    "][['person', 'event_name', 'check_time']]\n",
    "result"
   ]
  },
  {
   "cell_type": "markdown",
   "id": "4b813dbe",
   "metadata": {},
   "source": [
    "## Joining with Different Data Types\n",
    "\n",
    "Handling type mismatches in joins:"
   ]
  },
  {
   "cell_type": "code",
   "execution_count": 21,
   "id": "4dbb407e",
   "metadata": {},
   "outputs": [
    {
     "name": "stdout",
     "output_type": "stream",
     "text": [
      "Join failed due to type mismatch\n"
     ]
    },
    {
     "data": {
      "application/vnd.microsoft.datawrangler.viewer.v0+json": {
       "columns": [
        {
         "name": "index",
         "rawType": "int64",
         "type": "integer"
        },
        {
         "name": "id",
         "rawType": "int64",
         "type": "integer"
        },
        {
         "name": "value",
         "rawType": "float64",
         "type": "float"
        },
        {
         "name": "category",
         "rawType": "object",
         "type": "unknown"
        }
       ],
       "ref": "6560da1e-deab-4c80-90ba-3b5be5d4117d",
       "rows": [
        [
         "0",
         "1",
         "100.0",
         "A"
        ],
        [
         "1",
         "2",
         "200.0",
         "B"
        ],
        [
         "2",
         "3",
         "300.0",
         "C"
        ],
        [
         "3",
         "4",
         "400.0",
         null
        ],
        [
         "4",
         "5",
         null,
         "D"
        ]
       ],
       "shape": {
        "columns": 3,
        "rows": 5
       }
      },
      "text/html": [
       "<div>\n",
       "<style scoped>\n",
       "    .dataframe tbody tr th:only-of-type {\n",
       "        vertical-align: middle;\n",
       "    }\n",
       "\n",
       "    .dataframe tbody tr th {\n",
       "        vertical-align: top;\n",
       "    }\n",
       "\n",
       "    .dataframe thead th {\n",
       "        text-align: right;\n",
       "    }\n",
       "</style>\n",
       "<table border=\"1\" class=\"dataframe\">\n",
       "  <thead>\n",
       "    <tr style=\"text-align: right;\">\n",
       "      <th></th>\n",
       "      <th>id</th>\n",
       "      <th>value</th>\n",
       "      <th>category</th>\n",
       "    </tr>\n",
       "  </thead>\n",
       "  <tbody>\n",
       "    <tr>\n",
       "      <th>0</th>\n",
       "      <td>1</td>\n",
       "      <td>100.0</td>\n",
       "      <td>A</td>\n",
       "    </tr>\n",
       "    <tr>\n",
       "      <th>1</th>\n",
       "      <td>2</td>\n",
       "      <td>200.0</td>\n",
       "      <td>B</td>\n",
       "    </tr>\n",
       "    <tr>\n",
       "      <th>2</th>\n",
       "      <td>3</td>\n",
       "      <td>300.0</td>\n",
       "      <td>C</td>\n",
       "    </tr>\n",
       "    <tr>\n",
       "      <th>3</th>\n",
       "      <td>4</td>\n",
       "      <td>400.0</td>\n",
       "      <td>NaN</td>\n",
       "    </tr>\n",
       "    <tr>\n",
       "      <th>4</th>\n",
       "      <td>5</td>\n",
       "      <td>NaN</td>\n",
       "      <td>D</td>\n",
       "    </tr>\n",
       "  </tbody>\n",
       "</table>\n",
       "</div>"
      ],
      "text/plain": [
       "   id  value category\n",
       "0   1  100.0        A\n",
       "1   2  200.0        B\n",
       "2   3  300.0        C\n",
       "3   4  400.0      NaN\n",
       "4   5    NaN        D"
      ]
     },
     "execution_count": 21,
     "metadata": {},
     "output_type": "execute_result"
    }
   ],
   "source": [
    "# Create DataFrames with different types\n",
    "df_int = pd.DataFrame({\n",
    "    'id': [1, 2, 3, 4],\n",
    "    'value': [100, 200, 300, 400]\n",
    "})\n",
    "\n",
    "df_str = pd.DataFrame({\n",
    "    'id': ['1', '2', '3', '5'],  # String type IDs\n",
    "    'category': ['A', 'B', 'C', 'D']\n",
    "})\n",
    "\n",
    "# This will not match due to type difference\n",
    "try:\n",
    "    result = pd.merge(df_int, df_str, on='id')\n",
    "    print(f\"Rows matched: {len(result)}\")\n",
    "except:\n",
    "    print(\"Join failed due to type mismatch\")\n",
    "\n",
    "# Convert types before joining\n",
    "df_str['id'] = df_str['id'].astype(int)\n",
    "pd.merge(df_int, df_str, on='id', how='outer')"
   ]
  },
  {
   "cell_type": "markdown",
   "id": "9ac155cd",
   "metadata": {},
   "source": [
    "## Performance Optimization\n",
    "\n",
    "Efficient joining strategies:"
   ]
  },
  {
   "cell_type": "code",
   "execution_count": 22,
   "id": "1646975f",
   "metadata": {},
   "outputs": [
    {
     "name": "stdout",
     "output_type": "stream",
     "text": [
      "Regular merge: 0.0589 seconds\n",
      "Sort then merge: 0.0454 seconds\n",
      "Index join: 0.0350 seconds\n"
     ]
    }
   ],
   "source": [
    "# Create large DataFrames for performance testing\n",
    "np.random.seed(42)\n",
    "n = 100000\n",
    "large_df1 = pd.DataFrame({\n",
    "    'key': np.random.randint(0, 10000, n),\n",
    "    'value1': np.random.randn(n)\n",
    "})\n",
    "\n",
    "large_df2 = pd.DataFrame({\n",
    "    'key': np.random.randint(0, 10000, n),\n",
    "    'value2': np.random.randn(n)\n",
    "})\n",
    "\n",
    "import time\n",
    "\n",
    "# Method 1: Regular merge\n",
    "start = time.time()\n",
    "result1 = pd.merge(large_df1, large_df2, on='key')\n",
    "print(f\"Regular merge: {time.time() - start:.4f} seconds\")\n",
    "\n",
    "# Method 2: Sort then merge (can be faster for large data)\n",
    "start = time.time()\n",
    "large_df1_sorted = large_df1.sort_values('key')\n",
    "large_df2_sorted = large_df2.sort_values('key')\n",
    "result2 = pd.merge(large_df1_sorted, large_df2_sorted, on='key')\n",
    "print(f\"Sort then merge: {time.time() - start:.4f} seconds\")\n",
    "\n",
    "# Method 3: Set index then join (efficient for multiple joins)\n",
    "start = time.time()\n",
    "df1_indexed = large_df1.set_index('key')\n",
    "df2_indexed = large_df2.set_index('key')\n",
    "result3 = df1_indexed.join(df2_indexed, how='inner')\n",
    "print(f\"Index join: {time.time() - start:.4f} seconds\")"
   ]
  },
  {
   "cell_type": "markdown",
   "id": "5d379f71",
   "metadata": {},
   "source": [
    "## Validation and Debugging Joins\n",
    "\n",
    "Checking join results:"
   ]
  },
  {
   "cell_type": "code",
   "execution_count": 23,
   "id": "c879e8ea",
   "metadata": {},
   "outputs": [
    {
     "name": "stdout",
     "output_type": "stream",
     "text": [
      "Duplicates in main_df: 1\n",
      "Duplicates in lookup_df: 1\n"
     ]
    },
    {
     "data": {
      "application/vnd.microsoft.datawrangler.viewer.v0+json": {
       "columns": [
        {
         "name": "index",
         "rawType": "int64",
         "type": "integer"
        },
        {
         "name": "id",
         "rawType": "int64",
         "type": "integer"
        },
        {
         "name": "name",
         "rawType": "object",
         "type": "string"
        },
        {
         "name": "value",
         "rawType": "float64",
         "type": "float"
        },
        {
         "name": "_merge",
         "rawType": "category",
         "type": "unknown"
        }
       ],
       "ref": "33991204-3018-4b82-bb12-b4098994e595",
       "rows": [
        [
         "0",
         "1",
         "A",
         "100.0",
         "both"
        ],
        [
         "1",
         "2",
         "B",
         "200.0",
         "both"
        ],
        [
         "2",
         "2",
         "B2",
         "200.0",
         "both"
        ],
        [
         "3",
         "3",
         "C",
         "300.0",
         "both"
        ],
        [
         "4",
         "3",
         "C",
         "350.0",
         "both"
        ],
        [
         "5",
         "4",
         "D",
         null,
         "left_only"
        ]
       ],
       "shape": {
        "columns": 4,
        "rows": 6
       }
      },
      "text/html": [
       "<div>\n",
       "<style scoped>\n",
       "    .dataframe tbody tr th:only-of-type {\n",
       "        vertical-align: middle;\n",
       "    }\n",
       "\n",
       "    .dataframe tbody tr th {\n",
       "        vertical-align: top;\n",
       "    }\n",
       "\n",
       "    .dataframe thead th {\n",
       "        text-align: right;\n",
       "    }\n",
       "</style>\n",
       "<table border=\"1\" class=\"dataframe\">\n",
       "  <thead>\n",
       "    <tr style=\"text-align: right;\">\n",
       "      <th></th>\n",
       "      <th>id</th>\n",
       "      <th>name</th>\n",
       "      <th>value</th>\n",
       "      <th>_merge</th>\n",
       "    </tr>\n",
       "  </thead>\n",
       "  <tbody>\n",
       "    <tr>\n",
       "      <th>0</th>\n",
       "      <td>1</td>\n",
       "      <td>A</td>\n",
       "      <td>100.0</td>\n",
       "      <td>both</td>\n",
       "    </tr>\n",
       "    <tr>\n",
       "      <th>1</th>\n",
       "      <td>2</td>\n",
       "      <td>B</td>\n",
       "      <td>200.0</td>\n",
       "      <td>both</td>\n",
       "    </tr>\n",
       "    <tr>\n",
       "      <th>2</th>\n",
       "      <td>2</td>\n",
       "      <td>B2</td>\n",
       "      <td>200.0</td>\n",
       "      <td>both</td>\n",
       "    </tr>\n",
       "    <tr>\n",
       "      <th>3</th>\n",
       "      <td>3</td>\n",
       "      <td>C</td>\n",
       "      <td>300.0</td>\n",
       "      <td>both</td>\n",
       "    </tr>\n",
       "    <tr>\n",
       "      <th>4</th>\n",
       "      <td>3</td>\n",
       "      <td>C</td>\n",
       "      <td>350.0</td>\n",
       "      <td>both</td>\n",
       "    </tr>\n",
       "    <tr>\n",
       "      <th>5</th>\n",
       "      <td>4</td>\n",
       "      <td>D</td>\n",
       "      <td>NaN</td>\n",
       "      <td>left_only</td>\n",
       "    </tr>\n",
       "  </tbody>\n",
       "</table>\n",
       "</div>"
      ],
      "text/plain": [
       "   id name  value     _merge\n",
       "0   1    A  100.0       both\n",
       "1   2    B  200.0       both\n",
       "2   2   B2  200.0       both\n",
       "3   3    C  300.0       both\n",
       "4   3    C  350.0       both\n",
       "5   4    D    NaN  left_only"
      ]
     },
     "execution_count": 23,
     "metadata": {},
     "output_type": "execute_result"
    }
   ],
   "source": [
    "# Create DataFrames with potential issues\n",
    "main_df = pd.DataFrame({\n",
    "    'id': [1, 2, 2, 3, 4],  # Duplicate ID\n",
    "    'name': ['A', 'B', 'B2', 'C', 'D']\n",
    "})\n",
    "\n",
    "lookup_df = pd.DataFrame({\n",
    "    'id': [1, 2, 3, 3, 5],  # Duplicate ID and missing ID 4\n",
    "    'value': [100, 200, 300, 350, 500]\n",
    "})\n",
    "\n",
    "# Check for duplicates before joining\n",
    "print(\"Duplicates in main_df:\", main_df['id'].duplicated().sum())\n",
    "print(\"Duplicates in lookup_df:\", lookup_df['id'].duplicated().sum())\n",
    "\n",
    "# Perform join and validate\n",
    "result = pd.merge(main_df, lookup_df, on='id', how='left', indicator=True)\n",
    "result"
   ]
  },
  {
   "cell_type": "code",
   "execution_count": 24,
   "id": "e27b88ac",
   "metadata": {},
   "outputs": [
    {
     "name": "stdout",
     "output_type": "stream",
     "text": [
      "\n",
      "Join result summary:\n",
      "_merge\n",
      "both          5\n",
      "left_only     1\n",
      "right_only    0\n",
      "Name: count, dtype: int64\n"
     ]
    }
   ],
   "source": [
    "# Analyze join results\n",
    "print(\"\\nJoin result summary:\")\n",
    "print(result['_merge'].value_counts())"
   ]
  },
  {
   "cell_type": "markdown",
   "id": "a144e1cf",
   "metadata": {},
   "source": [
    "## Creating Tidyverse-Style Join Functions\n",
    "\n",
    "Make joining more dplyr-like:"
   ]
  },
  {
   "cell_type": "code",
   "execution_count": 25,
   "id": "21a669c2",
   "metadata": {},
   "outputs": [
    {
     "ename": "KeyError",
     "evalue": "'department_id'",
     "output_type": "error",
     "traceback": [
      "\u001b[0;31m---------------------------------------------------------------------------\u001b[0m",
      "\u001b[0;31mKeyError\u001b[0m                                  Traceback (most recent call last)",
      "\u001b[0;32m/var/folders/70/7wmmf6t55cb84bfx9g1c1k1m0000gn/T/ipykernel_78385/3750526892.py\u001b[0m in \u001b[0;36m?\u001b[0;34m()\u001b[0m\n\u001b[1;32m     32\u001b[0m         \u001b[0;32mreturn\u001b[0m \u001b[0mdf1\u001b[0m\u001b[0;34m[\u001b[0m\u001b[0;34m~\u001b[0m\u001b[0mdf1\u001b[0m\u001b[0;34m[\u001b[0m\u001b[0mkey\u001b[0m\u001b[0;34m]\u001b[0m\u001b[0;34m.\u001b[0m\u001b[0mapply\u001b[0m\u001b[0;34m(\u001b[0m\u001b[0mtuple\u001b[0m\u001b[0;34m,\u001b[0m \u001b[0maxis\u001b[0m\u001b[0;34m=\u001b[0m\u001b[0;36m1\u001b[0m\u001b[0;34m)\u001b[0m\u001b[0;34m.\u001b[0m\u001b[0misin\u001b[0m\u001b[0;34m(\u001b[0m\u001b[0mdf2\u001b[0m\u001b[0;34m[\u001b[0m\u001b[0mkey\u001b[0m\u001b[0;34m]\u001b[0m\u001b[0;34m.\u001b[0m\u001b[0mapply\u001b[0m\u001b[0;34m(\u001b[0m\u001b[0mtuple\u001b[0m\u001b[0;34m,\u001b[0m \u001b[0maxis\u001b[0m\u001b[0;34m=\u001b[0m\u001b[0;36m1\u001b[0m\u001b[0;34m)\u001b[0m\u001b[0;34m)\u001b[0m\u001b[0;34m]\u001b[0m\u001b[0;34m\u001b[0m\u001b[0;34m\u001b[0m\u001b[0m\n\u001b[1;32m     33\u001b[0m     \u001b[0;32mreturn\u001b[0m \u001b[0mdf1\u001b[0m\u001b[0;34m[\u001b[0m\u001b[0;34m~\u001b[0m\u001b[0mdf1\u001b[0m\u001b[0;34m[\u001b[0m\u001b[0mkey\u001b[0m\u001b[0;34m]\u001b[0m\u001b[0;34m.\u001b[0m\u001b[0misin\u001b[0m\u001b[0;34m(\u001b[0m\u001b[0mdf2\u001b[0m\u001b[0;34m[\u001b[0m\u001b[0mkey\u001b[0m\u001b[0;34m]\u001b[0m\u001b[0;34m)\u001b[0m\u001b[0;34m]\u001b[0m\u001b[0;34m\u001b[0m\u001b[0;34m\u001b[0m\u001b[0m\n\u001b[1;32m     34\u001b[0m \u001b[0;34m\u001b[0m\u001b[0m\n\u001b[1;32m     35\u001b[0m \u001b[0;31m# Usage examples\u001b[0m\u001b[0;34m\u001b[0m\u001b[0;34m\u001b[0m\u001b[0m\n\u001b[0;32m---> 36\u001b[0;31m \u001b[0mleft_join\u001b[0m\u001b[0;34m(\u001b[0m\u001b[0memployees\u001b[0m\u001b[0;34m,\u001b[0m \u001b[0mdepartments\u001b[0m\u001b[0;34m,\u001b[0m \u001b[0mby\u001b[0m\u001b[0;34m=\u001b[0m\u001b[0;34m'department_id'\u001b[0m\u001b[0;34m)\u001b[0m\u001b[0;34m\u001b[0m\u001b[0;34m\u001b[0m\u001b[0m\n\u001b[0m",
      "\u001b[0;32m/var/folders/70/7wmmf6t55cb84bfx9g1c1k1m0000gn/T/ipykernel_78385/3750526892.py\u001b[0m in \u001b[0;36m?\u001b[0;34m(df1, df2, by, on)\u001b[0m\n\u001b[1;32m      6\u001b[0m \u001b[0;32mdef\u001b[0m \u001b[0mleft_join\u001b[0m\u001b[0;34m(\u001b[0m\u001b[0mdf1\u001b[0m\u001b[0;34m,\u001b[0m \u001b[0mdf2\u001b[0m\u001b[0;34m,\u001b[0m \u001b[0mby\u001b[0m\u001b[0;34m=\u001b[0m\u001b[0;32mNone\u001b[0m\u001b[0;34m,\u001b[0m \u001b[0mon\u001b[0m\u001b[0;34m=\u001b[0m\u001b[0;32mNone\u001b[0m\u001b[0;34m)\u001b[0m\u001b[0;34m:\u001b[0m\u001b[0;34m\u001b[0m\u001b[0;34m\u001b[0m\u001b[0m\n\u001b[1;32m      7\u001b[0m     \u001b[0;34m\"\"\"Mimics dplyr's left_join\"\"\"\u001b[0m\u001b[0;34m\u001b[0m\u001b[0;34m\u001b[0m\u001b[0m\n\u001b[1;32m      8\u001b[0m     \u001b[0mkey\u001b[0m \u001b[0;34m=\u001b[0m \u001b[0mby\u001b[0m \u001b[0;32mor\u001b[0m \u001b[0mon\u001b[0m\u001b[0;34m\u001b[0m\u001b[0;34m\u001b[0m\u001b[0m\n\u001b[0;32m----> 9\u001b[0;31m     \u001b[0;32mreturn\u001b[0m \u001b[0mpd\u001b[0m\u001b[0;34m.\u001b[0m\u001b[0mmerge\u001b[0m\u001b[0;34m(\u001b[0m\u001b[0mdf1\u001b[0m\u001b[0;34m,\u001b[0m \u001b[0mdf2\u001b[0m\u001b[0;34m,\u001b[0m \u001b[0mon\u001b[0m\u001b[0;34m=\u001b[0m\u001b[0mkey\u001b[0m\u001b[0;34m,\u001b[0m \u001b[0mhow\u001b[0m\u001b[0;34m=\u001b[0m\u001b[0;34m'left'\u001b[0m\u001b[0;34m)\u001b[0m\u001b[0;34m\u001b[0m\u001b[0;34m\u001b[0m\u001b[0m\n\u001b[0m",
      "\u001b[0;32m~/miniforge3/envs/ds-env/lib/python3.12/site-packages/pandas/core/reshape/merge.py\u001b[0m in \u001b[0;36m?\u001b[0;34m(left, right, how, on, left_on, right_on, left_index, right_index, sort, suffixes, copy, indicator, validate)\u001b[0m\n\u001b[1;32m    166\u001b[0m             \u001b[0mvalidate\u001b[0m\u001b[0;34m=\u001b[0m\u001b[0mvalidate\u001b[0m\u001b[0;34m,\u001b[0m\u001b[0;34m\u001b[0m\u001b[0;34m\u001b[0m\u001b[0m\n\u001b[1;32m    167\u001b[0m             \u001b[0mcopy\u001b[0m\u001b[0;34m=\u001b[0m\u001b[0mcopy\u001b[0m\u001b[0;34m,\u001b[0m\u001b[0;34m\u001b[0m\u001b[0;34m\u001b[0m\u001b[0m\n\u001b[1;32m    168\u001b[0m         \u001b[0;34m)\u001b[0m\u001b[0;34m\u001b[0m\u001b[0;34m\u001b[0m\u001b[0m\n\u001b[1;32m    169\u001b[0m     \u001b[0;32melse\u001b[0m\u001b[0;34m:\u001b[0m\u001b[0;34m\u001b[0m\u001b[0;34m\u001b[0m\u001b[0m\n\u001b[0;32m--> 170\u001b[0;31m         op = _MergeOperation(\n\u001b[0m\u001b[1;32m    171\u001b[0m             \u001b[0mleft_df\u001b[0m\u001b[0;34m,\u001b[0m\u001b[0;34m\u001b[0m\u001b[0;34m\u001b[0m\u001b[0m\n\u001b[1;32m    172\u001b[0m             \u001b[0mright_df\u001b[0m\u001b[0;34m,\u001b[0m\u001b[0;34m\u001b[0m\u001b[0;34m\u001b[0m\u001b[0m\n\u001b[1;32m    173\u001b[0m             \u001b[0mhow\u001b[0m\u001b[0;34m=\u001b[0m\u001b[0mhow\u001b[0m\u001b[0;34m,\u001b[0m\u001b[0;34m\u001b[0m\u001b[0;34m\u001b[0m\u001b[0m\n",
      "\u001b[0;32m~/miniforge3/envs/ds-env/lib/python3.12/site-packages/pandas/core/reshape/merge.py\u001b[0m in \u001b[0;36m?\u001b[0;34m(self, left, right, how, on, left_on, right_on, left_index, right_index, sort, suffixes, indicator, validate)\u001b[0m\n\u001b[1;32m    790\u001b[0m             \u001b[0mself\u001b[0m\u001b[0;34m.\u001b[0m\u001b[0mright_join_keys\u001b[0m\u001b[0;34m,\u001b[0m\u001b[0;34m\u001b[0m\u001b[0;34m\u001b[0m\u001b[0m\n\u001b[1;32m    791\u001b[0m             \u001b[0mself\u001b[0m\u001b[0;34m.\u001b[0m\u001b[0mjoin_names\u001b[0m\u001b[0;34m,\u001b[0m\u001b[0;34m\u001b[0m\u001b[0;34m\u001b[0m\u001b[0m\n\u001b[1;32m    792\u001b[0m             \u001b[0mleft_drop\u001b[0m\u001b[0;34m,\u001b[0m\u001b[0;34m\u001b[0m\u001b[0;34m\u001b[0m\u001b[0m\n\u001b[1;32m    793\u001b[0m             \u001b[0mright_drop\u001b[0m\u001b[0;34m,\u001b[0m\u001b[0;34m\u001b[0m\u001b[0;34m\u001b[0m\u001b[0m\n\u001b[0;32m--> 794\u001b[0;31m         \u001b[0;34m)\u001b[0m \u001b[0;34m=\u001b[0m \u001b[0mself\u001b[0m\u001b[0;34m.\u001b[0m\u001b[0m_get_merge_keys\u001b[0m\u001b[0;34m(\u001b[0m\u001b[0;34m)\u001b[0m\u001b[0;34m\u001b[0m\u001b[0;34m\u001b[0m\u001b[0m\n\u001b[0m\u001b[1;32m    795\u001b[0m \u001b[0;34m\u001b[0m\u001b[0m\n\u001b[1;32m    796\u001b[0m         \u001b[0;32mif\u001b[0m \u001b[0mleft_drop\u001b[0m\u001b[0;34m:\u001b[0m\u001b[0;34m\u001b[0m\u001b[0;34m\u001b[0m\u001b[0m\n\u001b[1;32m    797\u001b[0m             \u001b[0mself\u001b[0m\u001b[0;34m.\u001b[0m\u001b[0mleft\u001b[0m \u001b[0;34m=\u001b[0m \u001b[0mself\u001b[0m\u001b[0;34m.\u001b[0m\u001b[0mleft\u001b[0m\u001b[0;34m.\u001b[0m\u001b[0m_drop_labels_or_levels\u001b[0m\u001b[0;34m(\u001b[0m\u001b[0mleft_drop\u001b[0m\u001b[0;34m)\u001b[0m\u001b[0;34m\u001b[0m\u001b[0;34m\u001b[0m\u001b[0m\n",
      "\u001b[0;32m~/miniforge3/envs/ds-env/lib/python3.12/site-packages/pandas/core/reshape/merge.py\u001b[0m in \u001b[0;36m?\u001b[0;34m(self)\u001b[0m\n\u001b[1;32m   1293\u001b[0m                         \u001b[0;31m# Then we're either Hashable or a wrong-length arraylike,\u001b[0m\u001b[0;34m\u001b[0m\u001b[0;34m\u001b[0m\u001b[0m\n\u001b[1;32m   1294\u001b[0m                         \u001b[0;31m#  the latter of which will raise\u001b[0m\u001b[0;34m\u001b[0m\u001b[0;34m\u001b[0m\u001b[0m\n\u001b[1;32m   1295\u001b[0m                         \u001b[0mrk\u001b[0m \u001b[0;34m=\u001b[0m \u001b[0mcast\u001b[0m\u001b[0;34m(\u001b[0m\u001b[0mHashable\u001b[0m\u001b[0;34m,\u001b[0m \u001b[0mrk\u001b[0m\u001b[0;34m)\u001b[0m\u001b[0;34m\u001b[0m\u001b[0;34m\u001b[0m\u001b[0m\n\u001b[1;32m   1296\u001b[0m                         \u001b[0;32mif\u001b[0m \u001b[0mrk\u001b[0m \u001b[0;32mis\u001b[0m \u001b[0;32mnot\u001b[0m \u001b[0;32mNone\u001b[0m\u001b[0;34m:\u001b[0m\u001b[0;34m\u001b[0m\u001b[0;34m\u001b[0m\u001b[0m\n\u001b[0;32m-> 1297\u001b[0;31m                             \u001b[0mright_keys\u001b[0m\u001b[0;34m.\u001b[0m\u001b[0mappend\u001b[0m\u001b[0;34m(\u001b[0m\u001b[0mright\u001b[0m\u001b[0;34m.\u001b[0m\u001b[0m_get_label_or_level_values\u001b[0m\u001b[0;34m(\u001b[0m\u001b[0mrk\u001b[0m\u001b[0;34m)\u001b[0m\u001b[0;34m)\u001b[0m\u001b[0;34m\u001b[0m\u001b[0;34m\u001b[0m\u001b[0m\n\u001b[0m\u001b[1;32m   1298\u001b[0m                         \u001b[0;32melse\u001b[0m\u001b[0;34m:\u001b[0m\u001b[0;34m\u001b[0m\u001b[0;34m\u001b[0m\u001b[0m\n\u001b[1;32m   1299\u001b[0m                             \u001b[0;31m# work-around for merge_asof(right_index=True)\u001b[0m\u001b[0;34m\u001b[0m\u001b[0;34m\u001b[0m\u001b[0m\n\u001b[1;32m   1300\u001b[0m                             \u001b[0mright_keys\u001b[0m\u001b[0;34m.\u001b[0m\u001b[0mappend\u001b[0m\u001b[0;34m(\u001b[0m\u001b[0mright\u001b[0m\u001b[0;34m.\u001b[0m\u001b[0mindex\u001b[0m\u001b[0;34m.\u001b[0m\u001b[0m_values\u001b[0m\u001b[0;34m)\u001b[0m\u001b[0;34m\u001b[0m\u001b[0;34m\u001b[0m\u001b[0m\n",
      "\u001b[0;32m~/miniforge3/envs/ds-env/lib/python3.12/site-packages/pandas/core/generic.py\u001b[0m in \u001b[0;36m?\u001b[0;34m(self, key, axis)\u001b[0m\n\u001b[1;32m   1907\u001b[0m             \u001b[0mvalues\u001b[0m \u001b[0;34m=\u001b[0m \u001b[0mself\u001b[0m\u001b[0;34m.\u001b[0m\u001b[0mxs\u001b[0m\u001b[0;34m(\u001b[0m\u001b[0mkey\u001b[0m\u001b[0;34m,\u001b[0m \u001b[0maxis\u001b[0m\u001b[0;34m=\u001b[0m\u001b[0mother_axes\u001b[0m\u001b[0;34m[\u001b[0m\u001b[0;36m0\u001b[0m\u001b[0;34m]\u001b[0m\u001b[0;34m)\u001b[0m\u001b[0;34m.\u001b[0m\u001b[0m_values\u001b[0m\u001b[0;34m\u001b[0m\u001b[0;34m\u001b[0m\u001b[0m\n\u001b[1;32m   1908\u001b[0m         \u001b[0;32melif\u001b[0m \u001b[0mself\u001b[0m\u001b[0;34m.\u001b[0m\u001b[0m_is_level_reference\u001b[0m\u001b[0;34m(\u001b[0m\u001b[0mkey\u001b[0m\u001b[0;34m,\u001b[0m \u001b[0maxis\u001b[0m\u001b[0;34m=\u001b[0m\u001b[0maxis\u001b[0m\u001b[0;34m)\u001b[0m\u001b[0;34m:\u001b[0m\u001b[0;34m\u001b[0m\u001b[0;34m\u001b[0m\u001b[0m\n\u001b[1;32m   1909\u001b[0m             \u001b[0mvalues\u001b[0m \u001b[0;34m=\u001b[0m \u001b[0mself\u001b[0m\u001b[0;34m.\u001b[0m\u001b[0maxes\u001b[0m\u001b[0;34m[\u001b[0m\u001b[0maxis\u001b[0m\u001b[0;34m]\u001b[0m\u001b[0;34m.\u001b[0m\u001b[0mget_level_values\u001b[0m\u001b[0;34m(\u001b[0m\u001b[0mkey\u001b[0m\u001b[0;34m)\u001b[0m\u001b[0;34m.\u001b[0m\u001b[0m_values\u001b[0m\u001b[0;34m\u001b[0m\u001b[0;34m\u001b[0m\u001b[0m\n\u001b[1;32m   1910\u001b[0m         \u001b[0;32melse\u001b[0m\u001b[0;34m:\u001b[0m\u001b[0;34m\u001b[0m\u001b[0;34m\u001b[0m\u001b[0m\n\u001b[0;32m-> 1911\u001b[0;31m             \u001b[0;32mraise\u001b[0m \u001b[0mKeyError\u001b[0m\u001b[0;34m(\u001b[0m\u001b[0mkey\u001b[0m\u001b[0;34m)\u001b[0m\u001b[0;34m\u001b[0m\u001b[0;34m\u001b[0m\u001b[0m\n\u001b[0m\u001b[1;32m   1912\u001b[0m \u001b[0;34m\u001b[0m\u001b[0m\n\u001b[1;32m   1913\u001b[0m         \u001b[0;31m# Check for duplicates\u001b[0m\u001b[0;34m\u001b[0m\u001b[0;34m\u001b[0m\u001b[0m\n\u001b[1;32m   1914\u001b[0m         \u001b[0;32mif\u001b[0m \u001b[0mvalues\u001b[0m\u001b[0;34m.\u001b[0m\u001b[0mndim\u001b[0m \u001b[0;34m>\u001b[0m \u001b[0;36m1\u001b[0m\u001b[0;34m:\u001b[0m\u001b[0;34m\u001b[0m\u001b[0;34m\u001b[0m\u001b[0m\n",
      "\u001b[0;31mKeyError\u001b[0m: 'department_id'"
     ]
    }
   ],
   "source": [
    "def inner_join(df1, df2, by=None, on=None):\n",
    "    \"\"\"Mimics dplyr's inner_join\"\"\"\n",
    "    key = by or on\n",
    "    return pd.merge(df1, df2, on=key, how='inner')\n",
    "\n",
    "def left_join(df1, df2, by=None, on=None):\n",
    "    \"\"\"Mimics dplyr's left_join\"\"\"\n",
    "    key = by or on\n",
    "    return pd.merge(df1, df2, on=key, how='left')\n",
    "\n",
    "def right_join(df1, df2, by=None, on=None):\n",
    "    \"\"\"Mimics dplyr's right_join\"\"\"\n",
    "    key = by or on\n",
    "    return pd.merge(df1, df2, on=key, how='right')\n",
    "\n",
    "def full_join(df1, df2, by=None, on=None):\n",
    "    \"\"\"Mimics dplyr's full_join\"\"\"\n",
    "    key = by or on\n",
    "    return pd.merge(df1, df2, on=key, how='outer')\n",
    "\n",
    "def semi_join(df1, df2, by=None, on=None):\n",
    "    \"\"\"Mimics dplyr's semi_join\"\"\"\n",
    "    key = by or on\n",
    "    if isinstance(key, list):\n",
    "        return df1[df1[key].apply(tuple, axis=1).isin(df2[key].apply(tuple, axis=1))]\n",
    "    return df1[df1[key].isin(df2[key])]\n",
    "\n",
    "def anti_join(df1, df2, by=None, on=None):\n",
    "    \"\"\"Mimics dplyr's anti_join\"\"\"\n",
    "    key = by or on\n",
    "    if isinstance(key, list):\n",
    "        return df1[~df1[key].apply(tuple, axis=1).isin(df2[key].apply(tuple, axis=1))]\n",
    "    return df1[~df1[key].isin(df2[key])]\n",
    "\n",
    "# Usage examples\n",
    "left_join(employees, departments, by='department_id')"
   ]
  }
 ],
 "metadata": {
  "kernelspec": {
   "display_name": "ds-env",
   "language": "python",
   "name": "python3"
  },
  "language_info": {
   "codemirror_mode": {
    "name": "ipython",
    "version": 3
   },
   "file_extension": ".py",
   "mimetype": "text/x-python",
   "name": "python",
   "nbconvert_exporter": "python",
   "pygments_lexer": "ipython3",
   "version": "3.12.9"
  }
 },
 "nbformat": 4,
 "nbformat_minor": 5
}
