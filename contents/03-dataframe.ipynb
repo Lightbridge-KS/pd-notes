{
 "cells": [
  {
   "cell_type": "markdown",
   "id": "6a409a8a",
   "metadata": {},
   "source": [
    "# DataFrame\n",
    "\n",
    "A pandas DataFrame is the primary data structure for data analysis in Python, equivalent to R's data.frame or tibble. While they serve the same purpose, pandas DataFrames have some unique characteristics that make them both more flexible and sometimes more complex than their R counterparts. Understanding these differences will help you leverage the full power of pandas.\n"
   ]
  },
  {
   "cell_type": "code",
   "execution_count": 1,
   "id": "76f6cc67",
   "metadata": {},
   "outputs": [],
   "source": [
    "import pandas as pd\n",
    "import numpy as np"
   ]
  },
  {
   "cell_type": "markdown",
   "id": "89e0d299",
   "metadata": {},
   "source": [
    "## Creating DataFrames\n",
    "\n",
    "Just like R's `data.frame()` or `tibble()`, pandas offers multiple ways to create DataFrames:"
   ]
  },
  {
   "cell_type": "markdown",
   "id": "7c3ffaf1",
   "metadata": {},
   "source": [
    "### From a dictionary"
   ]
  },
  {
   "cell_type": "code",
   "execution_count": 2,
   "id": "b43fff22",
   "metadata": {},
   "outputs": [
    {
     "data": {
      "application/vnd.microsoft.datawrangler.viewer.v0+json": {
       "columns": [
        {
         "name": "index",
         "rawType": "int64",
         "type": "integer"
        },
        {
         "name": "name",
         "rawType": "object",
         "type": "string"
        },
        {
         "name": "age",
         "rawType": "int64",
         "type": "integer"
        },
        {
         "name": "score",
         "rawType": "float64",
         "type": "float"
        }
       ],
       "ref": "4121311e-539e-4547-8647-607e3253b983",
       "rows": [
        [
         "0",
         "Alice",
         "25",
         "85.5"
        ],
        [
         "1",
         "Bob",
         "30",
         "92.0"
        ],
        [
         "2",
         "Charlie",
         "35",
         "78.5"
        ]
       ],
       "shape": {
        "columns": 3,
        "rows": 3
       }
      },
      "text/html": [
       "<div>\n",
       "<style scoped>\n",
       "    .dataframe tbody tr th:only-of-type {\n",
       "        vertical-align: middle;\n",
       "    }\n",
       "\n",
       "    .dataframe tbody tr th {\n",
       "        vertical-align: top;\n",
       "    }\n",
       "\n",
       "    .dataframe thead th {\n",
       "        text-align: right;\n",
       "    }\n",
       "</style>\n",
       "<table border=\"1\" class=\"dataframe\">\n",
       "  <thead>\n",
       "    <tr style=\"text-align: right;\">\n",
       "      <th></th>\n",
       "      <th>name</th>\n",
       "      <th>age</th>\n",
       "      <th>score</th>\n",
       "    </tr>\n",
       "  </thead>\n",
       "  <tbody>\n",
       "    <tr>\n",
       "      <th>0</th>\n",
       "      <td>Alice</td>\n",
       "      <td>25</td>\n",
       "      <td>85.5</td>\n",
       "    </tr>\n",
       "    <tr>\n",
       "      <th>1</th>\n",
       "      <td>Bob</td>\n",
       "      <td>30</td>\n",
       "      <td>92.0</td>\n",
       "    </tr>\n",
       "    <tr>\n",
       "      <th>2</th>\n",
       "      <td>Charlie</td>\n",
       "      <td>35</td>\n",
       "      <td>78.5</td>\n",
       "    </tr>\n",
       "  </tbody>\n",
       "</table>\n",
       "</div>"
      ],
      "text/plain": [
       "      name  age  score\n",
       "0    Alice   25   85.5\n",
       "1      Bob   30   92.0\n",
       "2  Charlie   35   78.5"
      ]
     },
     "execution_count": 2,
     "metadata": {},
     "output_type": "execute_result"
    }
   ],
   "source": [
    "df_dict = pd.DataFrame({\n",
    "    'name': ['Alice', 'Bob', 'Charlie'],\n",
    "    'age': [25, 30, 35],\n",
    "    'score': [85.5, 92.0, 78.5]\n",
    "})\n",
    "df_dict"
   ]
  },
  {
   "cell_type": "markdown",
   "id": "d76b3df0",
   "metadata": {},
   "source": [
    "### From a list of lists"
   ]
  },
  {
   "cell_type": "code",
   "execution_count": 4,
   "id": "f535ed66",
   "metadata": {},
   "outputs": [
    {
     "data": {
      "application/vnd.microsoft.datawrangler.viewer.v0+json": {
       "columns": [
        {
         "name": "index",
         "rawType": "int64",
         "type": "integer"
        },
        {
         "name": "name",
         "rawType": "object",
         "type": "string"
        },
        {
         "name": "age",
         "rawType": "int64",
         "type": "integer"
        },
        {
         "name": "score",
         "rawType": "float64",
         "type": "float"
        }
       ],
       "ref": "38be9364-977c-4dd4-9316-d47fdf91b812",
       "rows": [
        [
         "0",
         "Alice",
         "25",
         "85.5"
        ],
        [
         "1",
         "Bob",
         "30",
         "92.0"
        ],
        [
         "2",
         "Charlie",
         "35",
         "78.5"
        ]
       ],
       "shape": {
        "columns": 3,
        "rows": 3
       }
      },
      "text/html": [
       "<div>\n",
       "<style scoped>\n",
       "    .dataframe tbody tr th:only-of-type {\n",
       "        vertical-align: middle;\n",
       "    }\n",
       "\n",
       "    .dataframe tbody tr th {\n",
       "        vertical-align: top;\n",
       "    }\n",
       "\n",
       "    .dataframe thead th {\n",
       "        text-align: right;\n",
       "    }\n",
       "</style>\n",
       "<table border=\"1\" class=\"dataframe\">\n",
       "  <thead>\n",
       "    <tr style=\"text-align: right;\">\n",
       "      <th></th>\n",
       "      <th>name</th>\n",
       "      <th>age</th>\n",
       "      <th>score</th>\n",
       "    </tr>\n",
       "  </thead>\n",
       "  <tbody>\n",
       "    <tr>\n",
       "      <th>0</th>\n",
       "      <td>Alice</td>\n",
       "      <td>25</td>\n",
       "      <td>85.5</td>\n",
       "    </tr>\n",
       "    <tr>\n",
       "      <th>1</th>\n",
       "      <td>Bob</td>\n",
       "      <td>30</td>\n",
       "      <td>92.0</td>\n",
       "    </tr>\n",
       "    <tr>\n",
       "      <th>2</th>\n",
       "      <td>Charlie</td>\n",
       "      <td>35</td>\n",
       "      <td>78.5</td>\n",
       "    </tr>\n",
       "  </tbody>\n",
       "</table>\n",
       "</div>"
      ],
      "text/plain": [
       "      name  age  score\n",
       "0    Alice   25   85.5\n",
       "1      Bob   30   92.0\n",
       "2  Charlie   35   78.5"
      ]
     },
     "execution_count": 4,
     "metadata": {},
     "output_type": "execute_result"
    }
   ],
   "source": [
    "# R: data.frame(matrix(data, ncol=3), col.names=c(...))\n",
    "df_list = pd.DataFrame(\n",
    "    [['Alice', 25, 85.5],\n",
    "     ['Bob', 30, 92.0],\n",
    "     ['Charlie', 35, 78.5]],\n",
    "    columns=['name', 'age', 'score']\n",
    ")\n",
    "df_list"
   ]
  },
  {
   "cell_type": "markdown",
   "id": "82e1976d",
   "metadata": {},
   "source": [
    "### From a NumPy array"
   ]
  },
  {
   "cell_type": "code",
   "execution_count": 5,
   "id": "94b2120b",
   "metadata": {},
   "outputs": [
    {
     "data": {
      "application/vnd.microsoft.datawrangler.viewer.v0+json": {
       "columns": [
        {
         "name": "index",
         "rawType": "int64",
         "type": "integer"
        },
        {
         "name": "A",
         "rawType": "int64",
         "type": "integer"
        },
        {
         "name": "B",
         "rawType": "int64",
         "type": "integer"
        },
        {
         "name": "C",
         "rawType": "int64",
         "type": "integer"
        }
       ],
       "ref": "3bd49ad4-f1e7-499d-9380-a22fcbbc9014",
       "rows": [
        [
         "0",
         "1",
         "2",
         "3"
        ],
        [
         "1",
         "4",
         "5",
         "6"
        ],
        [
         "2",
         "7",
         "8",
         "9"
        ]
       ],
       "shape": {
        "columns": 3,
        "rows": 3
       }
      },
      "text/html": [
       "<div>\n",
       "<style scoped>\n",
       "    .dataframe tbody tr th:only-of-type {\n",
       "        vertical-align: middle;\n",
       "    }\n",
       "\n",
       "    .dataframe tbody tr th {\n",
       "        vertical-align: top;\n",
       "    }\n",
       "\n",
       "    .dataframe thead th {\n",
       "        text-align: right;\n",
       "    }\n",
       "</style>\n",
       "<table border=\"1\" class=\"dataframe\">\n",
       "  <thead>\n",
       "    <tr style=\"text-align: right;\">\n",
       "      <th></th>\n",
       "      <th>A</th>\n",
       "      <th>B</th>\n",
       "      <th>C</th>\n",
       "    </tr>\n",
       "  </thead>\n",
       "  <tbody>\n",
       "    <tr>\n",
       "      <th>0</th>\n",
       "      <td>1</td>\n",
       "      <td>2</td>\n",
       "      <td>3</td>\n",
       "    </tr>\n",
       "    <tr>\n",
       "      <th>1</th>\n",
       "      <td>4</td>\n",
       "      <td>5</td>\n",
       "      <td>6</td>\n",
       "    </tr>\n",
       "    <tr>\n",
       "      <th>2</th>\n",
       "      <td>7</td>\n",
       "      <td>8</td>\n",
       "      <td>9</td>\n",
       "    </tr>\n",
       "  </tbody>\n",
       "</table>\n",
       "</div>"
      ],
      "text/plain": [
       "   A  B  C\n",
       "0  1  2  3\n",
       "1  4  5  6\n",
       "2  7  8  9"
      ]
     },
     "execution_count": 5,
     "metadata": {},
     "output_type": "execute_result"
    }
   ],
   "source": [
    "arr = np.array([[1, 2, 3], [4, 5, 6], [7, 8, 9]])\n",
    "df_array = pd.DataFrame(arr, columns=['A', 'B', 'C'])\n",
    "df_array"
   ]
  },
  {
   "cell_type": "markdown",
   "id": "5237321b",
   "metadata": {},
   "source": [
    "## Understanding DataFrame Structure\n",
    "\n",
    "Unlike R's data.frame, pandas DataFrames have both row and column indices:"
   ]
  },
  {
   "cell_type": "code",
   "execution_count": 6,
   "id": "a32a6a74",
   "metadata": {},
   "outputs": [
    {
     "data": {
      "application/vnd.microsoft.datawrangler.viewer.v0+json": {
       "columns": [
        {
         "name": "index",
         "rawType": "object",
         "type": "string"
        },
        {
         "name": "math",
         "rawType": "int64",
         "type": "integer"
        },
        {
         "name": "english",
         "rawType": "int64",
         "type": "integer"
        },
        {
         "name": "science",
         "rawType": "int64",
         "type": "integer"
        }
       ],
       "ref": "df26c12f-5e1f-46fb-b275-c4ce75e35c4a",
       "rows": [
        [
         "Alice",
         "90",
         "88",
         "95"
        ],
        [
         "Bob",
         "85",
         "92",
         "88"
        ],
        [
         "Charlie",
         "92",
         "85",
         "90"
        ],
        [
         "David",
         "78",
         "90",
         "85"
        ]
       ],
       "shape": {
        "columns": 3,
        "rows": 4
       }
      },
      "text/html": [
       "<div>\n",
       "<style scoped>\n",
       "    .dataframe tbody tr th:only-of-type {\n",
       "        vertical-align: middle;\n",
       "    }\n",
       "\n",
       "    .dataframe tbody tr th {\n",
       "        vertical-align: top;\n",
       "    }\n",
       "\n",
       "    .dataframe thead th {\n",
       "        text-align: right;\n",
       "    }\n",
       "</style>\n",
       "<table border=\"1\" class=\"dataframe\">\n",
       "  <thead>\n",
       "    <tr style=\"text-align: right;\">\n",
       "      <th></th>\n",
       "      <th>math</th>\n",
       "      <th>english</th>\n",
       "      <th>science</th>\n",
       "    </tr>\n",
       "  </thead>\n",
       "  <tbody>\n",
       "    <tr>\n",
       "      <th>Alice</th>\n",
       "      <td>90</td>\n",
       "      <td>88</td>\n",
       "      <td>95</td>\n",
       "    </tr>\n",
       "    <tr>\n",
       "      <th>Bob</th>\n",
       "      <td>85</td>\n",
       "      <td>92</td>\n",
       "      <td>88</td>\n",
       "    </tr>\n",
       "    <tr>\n",
       "      <th>Charlie</th>\n",
       "      <td>92</td>\n",
       "      <td>85</td>\n",
       "      <td>90</td>\n",
       "    </tr>\n",
       "    <tr>\n",
       "      <th>David</th>\n",
       "      <td>78</td>\n",
       "      <td>90</td>\n",
       "      <td>85</td>\n",
       "    </tr>\n",
       "  </tbody>\n",
       "</table>\n",
       "</div>"
      ],
      "text/plain": [
       "         math  english  science\n",
       "Alice      90       88       95\n",
       "Bob        85       92       88\n",
       "Charlie    92       85       90\n",
       "David      78       90       85"
      ]
     },
     "execution_count": 6,
     "metadata": {},
     "output_type": "execute_result"
    }
   ],
   "source": [
    "# Create a DataFrame with custom index\n",
    "df = pd.DataFrame({\n",
    "    'math': [90, 85, 92, 78],\n",
    "    'english': [88, 92, 85, 90],\n",
    "    'science': [95, 88, 90, 85]\n",
    "}, index=['Alice', 'Bob', 'Charlie', 'David'])\n",
    "\n",
    "df"
   ]
  },
  {
   "cell_type": "code",
   "execution_count": 7,
   "id": "1b55aef8",
   "metadata": {},
   "outputs": [
    {
     "name": "stdout",
     "output_type": "stream",
     "text": [
      "<class 'pandas.core.frame.DataFrame'>\n",
      "Index: 4 entries, Alice to David\n",
      "Data columns (total 3 columns):\n",
      " #   Column   Non-Null Count  Dtype\n",
      "---  ------   --------------  -----\n",
      " 0   math     4 non-null      int64\n",
      " 1   english  4 non-null      int64\n",
      " 2   science  4 non-null      int64\n",
      "dtypes: int64(3)\n",
      "memory usage: 128.0+ bytes\n"
     ]
    }
   ],
   "source": [
    "df.info()"
   ]
  },
  {
   "cell_type": "code",
   "execution_count": 8,
   "id": "d9cec38c",
   "metadata": {},
   "outputs": [
    {
     "name": "stdout",
     "output_type": "stream",
     "text": [
      "Shape: (4, 3)\n",
      "Columns: ['math', 'english', 'science']\n",
      "Index: ['Alice', 'Bob', 'Charlie', 'David']\n",
      "Data types:\n",
      "math       int64\n",
      "english    int64\n",
      "science    int64\n",
      "dtype: object\n"
     ]
    }
   ],
   "source": [
    "# Basic attributes\n",
    "print(f\"Shape: {df.shape}\")           # R: dim(df)\n",
    "print(f\"Columns: {df.columns.tolist()}\")  # R: names(df) or colnames(df)\n",
    "print(f\"Index: {df.index.tolist()}\")      # R: rownames(df)\n",
    "print(f\"Data types:\\n{df.dtypes}\")        # R: sapply(df, class)"
   ]
  },
  {
   "cell_type": "markdown",
   "id": "8070cd20",
   "metadata": {},
   "source": [
    "## Basic DataFrame Inspection\n",
    "\n",
    "Pandas provides several methods to inspect your data, similar to R:"
   ]
  },
  {
   "cell_type": "code",
   "execution_count": 11,
   "id": "e2600d0e",
   "metadata": {},
   "outputs": [],
   "source": [
    "# Create a larger sample DataFrame\n",
    "np.random.seed(42)\n",
    "df_large = pd.DataFrame({\n",
    "    'id': range(1, 101),\n",
    "    'age': np.random.randint(18, 65, 100),\n",
    "    'salary': np.random.normal(50000, 15000, 100).round(2),\n",
    "    'department': np.random.choice(['Sales', 'IT', 'HR', 'Finance'], 100),\n",
    "    'performance': np.random.choice(['A', 'B', 'C'], 100)\n",
    "})"
   ]
  },
  {
   "cell_type": "code",
   "execution_count": 12,
   "id": "8b1f7f8f",
   "metadata": {},
   "outputs": [
    {
     "data": {
      "application/vnd.microsoft.datawrangler.viewer.v0+json": {
       "columns": [
        {
         "name": "index",
         "rawType": "int64",
         "type": "integer"
        },
        {
         "name": "id",
         "rawType": "int64",
         "type": "integer"
        },
        {
         "name": "age",
         "rawType": "int64",
         "type": "integer"
        },
        {
         "name": "salary",
         "rawType": "float64",
         "type": "float"
        },
        {
         "name": "department",
         "rawType": "object",
         "type": "string"
        },
        {
         "name": "performance",
         "rawType": "object",
         "type": "string"
        }
       ],
       "ref": "1eba52e2-bb23-46ee-852c-5c4004aed990",
       "rows": [
        [
         "0",
         "1",
         "56",
         "59544.58",
         "Finance",
         "C"
        ],
        [
         "1",
         "2",
         "46",
         "36399.19",
         "IT",
         "C"
        ],
        [
         "2",
         "3",
         "32",
         "57140.64",
         "Finance",
         "A"
        ],
        [
         "3",
         "4",
         "60",
         "69554.92",
         "Sales",
         "A"
        ],
        [
         "4",
         "5",
         "25",
         "53173.81",
         "Finance",
         "B"
        ]
       ],
       "shape": {
        "columns": 5,
        "rows": 5
       }
      },
      "text/html": [
       "<div>\n",
       "<style scoped>\n",
       "    .dataframe tbody tr th:only-of-type {\n",
       "        vertical-align: middle;\n",
       "    }\n",
       "\n",
       "    .dataframe tbody tr th {\n",
       "        vertical-align: top;\n",
       "    }\n",
       "\n",
       "    .dataframe thead th {\n",
       "        text-align: right;\n",
       "    }\n",
       "</style>\n",
       "<table border=\"1\" class=\"dataframe\">\n",
       "  <thead>\n",
       "    <tr style=\"text-align: right;\">\n",
       "      <th></th>\n",
       "      <th>id</th>\n",
       "      <th>age</th>\n",
       "      <th>salary</th>\n",
       "      <th>department</th>\n",
       "      <th>performance</th>\n",
       "    </tr>\n",
       "  </thead>\n",
       "  <tbody>\n",
       "    <tr>\n",
       "      <th>0</th>\n",
       "      <td>1</td>\n",
       "      <td>56</td>\n",
       "      <td>59544.58</td>\n",
       "      <td>Finance</td>\n",
       "      <td>C</td>\n",
       "    </tr>\n",
       "    <tr>\n",
       "      <th>1</th>\n",
       "      <td>2</td>\n",
       "      <td>46</td>\n",
       "      <td>36399.19</td>\n",
       "      <td>IT</td>\n",
       "      <td>C</td>\n",
       "    </tr>\n",
       "    <tr>\n",
       "      <th>2</th>\n",
       "      <td>3</td>\n",
       "      <td>32</td>\n",
       "      <td>57140.64</td>\n",
       "      <td>Finance</td>\n",
       "      <td>A</td>\n",
       "    </tr>\n",
       "    <tr>\n",
       "      <th>3</th>\n",
       "      <td>4</td>\n",
       "      <td>60</td>\n",
       "      <td>69554.92</td>\n",
       "      <td>Sales</td>\n",
       "      <td>A</td>\n",
       "    </tr>\n",
       "    <tr>\n",
       "      <th>4</th>\n",
       "      <td>5</td>\n",
       "      <td>25</td>\n",
       "      <td>53173.81</td>\n",
       "      <td>Finance</td>\n",
       "      <td>B</td>\n",
       "    </tr>\n",
       "  </tbody>\n",
       "</table>\n",
       "</div>"
      ],
      "text/plain": [
       "   id  age    salary department performance\n",
       "0   1   56  59544.58    Finance           C\n",
       "1   2   46  36399.19         IT           C\n",
       "2   3   32  57140.64    Finance           A\n",
       "3   4   60  69554.92      Sales           A\n",
       "4   5   25  53173.81    Finance           B"
      ]
     },
     "execution_count": 12,
     "metadata": {},
     "output_type": "execute_result"
    }
   ],
   "source": [
    "df_large.head()"
   ]
  },
  {
   "cell_type": "code",
   "execution_count": 13,
   "id": "5d208323",
   "metadata": {},
   "outputs": [
    {
     "data": {
      "application/vnd.microsoft.datawrangler.viewer.v0+json": {
       "columns": [
        {
         "name": "index",
         "rawType": "int64",
         "type": "integer"
        },
        {
         "name": "id",
         "rawType": "int64",
         "type": "integer"
        },
        {
         "name": "age",
         "rawType": "int64",
         "type": "integer"
        },
        {
         "name": "salary",
         "rawType": "float64",
         "type": "float"
        },
        {
         "name": "department",
         "rawType": "object",
         "type": "string"
        },
        {
         "name": "performance",
         "rawType": "object",
         "type": "string"
        }
       ],
       "ref": "a3368f9f-8043-4aaf-b321-90dd1ae10f13",
       "rows": [
        [
         "97",
         "98",
         "41",
         "28347.75",
         "Sales",
         "C"
        ],
        [
         "98",
         "99",
         "18",
         "34584.34",
         "Finance",
         "C"
        ],
        [
         "99",
         "100",
         "61",
         "61118.61",
         "Sales",
         "A"
        ]
       ],
       "shape": {
        "columns": 5,
        "rows": 3
       }
      },
      "text/html": [
       "<div>\n",
       "<style scoped>\n",
       "    .dataframe tbody tr th:only-of-type {\n",
       "        vertical-align: middle;\n",
       "    }\n",
       "\n",
       "    .dataframe tbody tr th {\n",
       "        vertical-align: top;\n",
       "    }\n",
       "\n",
       "    .dataframe thead th {\n",
       "        text-align: right;\n",
       "    }\n",
       "</style>\n",
       "<table border=\"1\" class=\"dataframe\">\n",
       "  <thead>\n",
       "    <tr style=\"text-align: right;\">\n",
       "      <th></th>\n",
       "      <th>id</th>\n",
       "      <th>age</th>\n",
       "      <th>salary</th>\n",
       "      <th>department</th>\n",
       "      <th>performance</th>\n",
       "    </tr>\n",
       "  </thead>\n",
       "  <tbody>\n",
       "    <tr>\n",
       "      <th>97</th>\n",
       "      <td>98</td>\n",
       "      <td>41</td>\n",
       "      <td>28347.75</td>\n",
       "      <td>Sales</td>\n",
       "      <td>C</td>\n",
       "    </tr>\n",
       "    <tr>\n",
       "      <th>98</th>\n",
       "      <td>99</td>\n",
       "      <td>18</td>\n",
       "      <td>34584.34</td>\n",
       "      <td>Finance</td>\n",
       "      <td>C</td>\n",
       "    </tr>\n",
       "    <tr>\n",
       "      <th>99</th>\n",
       "      <td>100</td>\n",
       "      <td>61</td>\n",
       "      <td>61118.61</td>\n",
       "      <td>Sales</td>\n",
       "      <td>A</td>\n",
       "    </tr>\n",
       "  </tbody>\n",
       "</table>\n",
       "</div>"
      ],
      "text/plain": [
       "     id  age    salary department performance\n",
       "97   98   41  28347.75      Sales           C\n",
       "98   99   18  34584.34    Finance           C\n",
       "99  100   61  61118.61      Sales           A"
      ]
     },
     "execution_count": 13,
     "metadata": {},
     "output_type": "execute_result"
    }
   ],
   "source": [
    "df_large.tail(3)"
   ]
  },
  {
   "cell_type": "code",
   "execution_count": 14,
   "id": "2af92240",
   "metadata": {},
   "outputs": [
    {
     "name": "stdout",
     "output_type": "stream",
     "text": [
      "               id        age        salary\n",
      "count  100.000000  100.00000    100.000000\n",
      "mean    50.500000   40.88000  51027.643500\n",
      "std     29.011492   13.99082  14965.841917\n",
      "min      1.000000   18.00000  20901.330000\n",
      "25%     25.750000   30.50000  38517.790000\n",
      "50%     50.500000   41.00000  49870.225000\n",
      "75%     75.250000   53.25000  61300.230000\n",
      "max    100.000000   64.00000  94154.950000\n"
     ]
    }
   ],
   "source": [
    "# Summary statistics\n",
    "print(df_large.describe())    # R: summary(df)"
   ]
  },
  {
   "cell_type": "code",
   "execution_count": 15,
   "id": "239814cc",
   "metadata": {},
   "outputs": [
    {
     "name": "stdout",
     "output_type": "stream",
     "text": [
      "                id        age        salary department performance\n",
      "count   100.000000  100.00000    100.000000        100         100\n",
      "unique         NaN        NaN           NaN          4           3\n",
      "top            NaN        NaN           NaN    Finance           B\n",
      "freq           NaN        NaN           NaN         35          36\n",
      "mean     50.500000   40.88000  51027.643500        NaN         NaN\n",
      "std      29.011492   13.99082  14965.841917        NaN         NaN\n",
      "min       1.000000   18.00000  20901.330000        NaN         NaN\n",
      "25%      25.750000   30.50000  38517.790000        NaN         NaN\n",
      "50%      50.500000   41.00000  49870.225000        NaN         NaN\n",
      "75%      75.250000   53.25000  61300.230000        NaN         NaN\n",
      "max     100.000000   64.00000  94154.950000        NaN         NaN\n"
     ]
    }
   ],
   "source": [
    "# For categorical columns\n",
    "print(df_large.describe(include='all'))"
   ]
  },
  {
   "cell_type": "markdown",
   "id": "9ac91be9",
   "metadata": {},
   "source": [
    "## Selecting Columns\n",
    "\n",
    "Column selection in pandas offers more flexibility than R:"
   ]
  },
  {
   "cell_type": "code",
   "execution_count": 16,
   "id": "a19f5f5a",
   "metadata": {},
   "outputs": [],
   "source": [
    "# Sample DataFrame\n",
    "df = pd.DataFrame({\n",
    "    'name': ['Alice', 'Bob', 'Charlie', 'David'],\n",
    "    'age': [25, 30, 35, 28],\n",
    "    'city': ['NYC', 'LA', 'Chicago', 'Houston'],\n",
    "    'salary': [70000, 80000, 75000, 72000]\n",
    "})"
   ]
  },
  {
   "cell_type": "markdown",
   "id": "263c314f",
   "metadata": {},
   "source": [
    "### Single column (returns Series)"
   ]
  },
  {
   "cell_type": "code",
   "execution_count": 17,
   "id": "22d14b07",
   "metadata": {},
   "outputs": [
    {
     "name": "stdout",
     "output_type": "stream",
     "text": [
      "0      Alice\n",
      "1        Bob\n",
      "2    Charlie\n",
      "3      David\n",
      "Name: name, dtype: object\n",
      "0      Alice\n",
      "1        Bob\n",
      "2    Charlie\n",
      "3      David\n",
      "Name: name, dtype: object\n",
      "0      Alice\n",
      "1        Bob\n",
      "2    Charlie\n",
      "3      David\n",
      "Name: name, dtype: object\n"
     ]
    }
   ],
   "source": [
    "print(df['name'])              # R: df$name or df[['name']]\n",
    "print(df.name)                 # R: df$name (dot notation)\n",
    "print(df.loc[:, 'name'])       # More explicit"
   ]
  },
  {
   "cell_type": "markdown",
   "id": "d41393ff",
   "metadata": {},
   "source": [
    "### Multiple columns (returns DataFrame)"
   ]
  },
  {
   "cell_type": "code",
   "execution_count": 18,
   "id": "28234b42",
   "metadata": {},
   "outputs": [
    {
     "name": "stdout",
     "output_type": "stream",
     "text": [
      "      name  salary\n",
      "0    Alice   70000\n",
      "1      Bob   80000\n",
      "2  Charlie   75000\n",
      "3    David   72000\n"
     ]
    }
   ],
   "source": [
    "print(df[['name', 'salary']])  # R: df[c('name', 'salary')]"
   ]
  },
  {
   "cell_type": "code",
   "execution_count": 19,
   "id": "34d92314",
   "metadata": {},
   "outputs": [
    {
     "name": "stdout",
     "output_type": "stream",
     "text": [
      "      name  age\n",
      "0    Alice   25\n",
      "1      Bob   30\n",
      "2  Charlie   35\n",
      "3    David   28\n"
     ]
    }
   ],
   "source": [
    "# Using loc for columns\n",
    "print(df.loc[:, ['name', 'age']])  # R: df[, c('name', 'age')]"
   ]
  },
  {
   "cell_type": "code",
   "execution_count": 20,
   "id": "4c53d0d0",
   "metadata": {},
   "outputs": [
    {
     "name": "stdout",
     "output_type": "stream",
     "text": [
      "      name  age     city\n",
      "0    Alice   25      NYC\n",
      "1      Bob   30       LA\n",
      "2  Charlie   35  Chicago\n",
      "3    David   28  Houston\n"
     ]
    }
   ],
   "source": [
    "# Column slicing (if columns are ordered)\n",
    "print(df.loc[:, 'name':'city'])    # All columns from 'name' to 'city'"
   ]
  },
  {
   "cell_type": "markdown",
   "id": "4bc6856f",
   "metadata": {},
   "source": [
    "## Selecting Rows\n",
    "\n",
    "Row selection has multiple approaches, each with specific use cases:"
   ]
  },
  {
   "cell_type": "code",
   "execution_count": 21,
   "id": "5eb31087",
   "metadata": {},
   "outputs": [
    {
     "name": "stdout",
     "output_type": "stream",
     "text": [
      "name      Alice\n",
      "age          25\n",
      "city        NYC\n",
      "salary    70000\n",
      "Name: 0, dtype: object\n"
     ]
    }
   ],
   "source": [
    "# By integer position (iloc)\n",
    "print(df.iloc[0])              # R: df[1, ] (R is 1-indexed!)"
   ]
  },
  {
   "cell_type": "code",
   "execution_count": 22,
   "id": "eb795949",
   "metadata": {},
   "outputs": [
    {
     "name": "stdout",
     "output_type": "stream",
     "text": [
      "    name  age city  salary\n",
      "0  Alice   25  NYC   70000\n",
      "1    Bob   30   LA   80000\n"
     ]
    }
   ],
   "source": [
    "print(df.iloc[0:2])           # R: df[1:2, ]"
   ]
  },
  {
   "cell_type": "code",
   "execution_count": 23,
   "id": "3ad76100",
   "metadata": {},
   "outputs": [
    {
     "name": "stdout",
     "output_type": "stream",
     "text": [
      "DataFrame with name as index:\n",
      "         age     city  salary\n",
      "name                         \n",
      "Alice     25      NYC   70000\n",
      "Bob       30       LA   80000\n",
      "Charlie   35  Chicago   75000\n",
      "David     28  Houston   72000\n"
     ]
    }
   ],
   "source": [
    "# By index label (loc)\n",
    "df_indexed = df.set_index('name')\n",
    "print(\"DataFrame with name as index:\")\n",
    "print(df_indexed)"
   ]
  },
  {
   "cell_type": "code",
   "execution_count": 24,
   "id": "4f33abe8",
   "metadata": {},
   "outputs": [
    {
     "name": "stdout",
     "output_type": "stream",
     "text": [
      "Row by label:\n",
      "age          25\n",
      "city        NYC\n",
      "salary    70000\n",
      "Name: Alice, dtype: object\n"
     ]
    }
   ],
   "source": [
    "print(\"Row by label:\")\n",
    "print(df_indexed.loc['Alice'])  # R: df['Alice', ] if rownames set"
   ]
  },
  {
   "cell_type": "code",
   "execution_count": 25,
   "id": "39482f5e",
   "metadata": {},
   "outputs": [
    {
     "name": "stdout",
     "output_type": "stream",
     "text": [
      "Boolean indexing (age > 28):\n",
      "      name  age     city  salary\n",
      "1      Bob   30       LA   80000\n",
      "2  Charlie   35  Chicago   75000\n"
     ]
    }
   ],
   "source": [
    "# Boolean indexing\n",
    "print(\"Boolean indexing (age > 28):\")\n",
    "print(df[df['age'] > 28])      # R: df[df$age > 28, ]"
   ]
  },
  {
   "cell_type": "markdown",
   "id": "62b310f7",
   "metadata": {},
   "source": [
    "## Selecting Subsets (Rows and Columns)\n",
    "\n",
    "Combining row and column selection:"
   ]
  },
  {
   "cell_type": "code",
   "execution_count": 26,
   "id": "29e54368",
   "metadata": {},
   "outputs": [
    {
     "name": "stdout",
     "output_type": "stream",
     "text": [
      "      name  salary\n",
      "1      Bob   80000\n",
      "2  Charlie   75000\n"
     ]
    }
   ],
   "source": [
    "# Using loc (label-based)\n",
    "print(df.loc[df['age'] > 28, ['name', 'salary']])  \n",
    "# R: df[df$age > 28, c('name', 'salary')]"
   ]
  },
  {
   "cell_type": "code",
   "execution_count": 27,
   "id": "e118b17c",
   "metadata": {},
   "outputs": [
    {
     "name": "stdout",
     "output_type": "stream",
     "text": [
      "   age city\n",
      "0   25  NYC\n",
      "1   30   LA\n"
     ]
    }
   ],
   "source": [
    "# Using iloc (position-based)\n",
    "print(df.iloc[0:2, 1:3])       # R: df[1:2, 2:3]"
   ]
  },
  {
   "cell_type": "code",
   "execution_count": 28,
   "id": "4305dba7",
   "metadata": {},
   "outputs": [
    {
     "name": "stdout",
     "output_type": "stream",
     "text": [
      "    name city  salary\n",
      "0  Alice  NYC   70000\n",
      "1    Bob   LA   80000\n"
     ]
    }
   ],
   "source": [
    "# Mixed selection\n",
    "mask = df['city'].isin(['NYC', 'LA'])\n",
    "print(df.loc[mask, ['name', 'city', 'salary']])\n",
    "# R: df[df$city %in% c('NYC', 'LA'), c('name', 'city', 'salary')]"
   ]
  },
  {
   "cell_type": "markdown",
   "id": "bca5c263",
   "metadata": {},
   "source": [
    "## Adding and Modifying Columns\n",
    "\n",
    "Adding new columns is straightforward, similar to R:"
   ]
  },
  {
   "cell_type": "code",
   "execution_count": 29,
   "id": "8ab68e2f",
   "metadata": {},
   "outputs": [
    {
     "data": {
      "application/vnd.microsoft.datawrangler.viewer.v0+json": {
       "columns": [
        {
         "name": "index",
         "rawType": "int64",
         "type": "integer"
        },
        {
         "name": "name",
         "rawType": "object",
         "type": "string"
        },
        {
         "name": "age",
         "rawType": "int64",
         "type": "integer"
        },
        {
         "name": "city",
         "rawType": "object",
         "type": "string"
        },
        {
         "name": "salary",
         "rawType": "int64",
         "type": "integer"
        },
        {
         "name": "bonus",
         "rawType": "float64",
         "type": "float"
        }
       ],
       "ref": "c0cd0534-c365-4c3e-b247-6449ff439b86",
       "rows": [
        [
         "0",
         "Alice",
         "25",
         "NYC",
         "70000",
         "7000.0"
        ],
        [
         "1",
         "Bob",
         "30",
         "LA",
         "80000",
         "8000.0"
        ],
        [
         "2",
         "Charlie",
         "35",
         "Chicago",
         "75000",
         "7500.0"
        ],
        [
         "3",
         "David",
         "28",
         "Houston",
         "72000",
         "7200.0"
        ]
       ],
       "shape": {
        "columns": 5,
        "rows": 4
       }
      },
      "text/html": [
       "<div>\n",
       "<style scoped>\n",
       "    .dataframe tbody tr th:only-of-type {\n",
       "        vertical-align: middle;\n",
       "    }\n",
       "\n",
       "    .dataframe tbody tr th {\n",
       "        vertical-align: top;\n",
       "    }\n",
       "\n",
       "    .dataframe thead th {\n",
       "        text-align: right;\n",
       "    }\n",
       "</style>\n",
       "<table border=\"1\" class=\"dataframe\">\n",
       "  <thead>\n",
       "    <tr style=\"text-align: right;\">\n",
       "      <th></th>\n",
       "      <th>name</th>\n",
       "      <th>age</th>\n",
       "      <th>city</th>\n",
       "      <th>salary</th>\n",
       "      <th>bonus</th>\n",
       "    </tr>\n",
       "  </thead>\n",
       "  <tbody>\n",
       "    <tr>\n",
       "      <th>0</th>\n",
       "      <td>Alice</td>\n",
       "      <td>25</td>\n",
       "      <td>NYC</td>\n",
       "      <td>70000</td>\n",
       "      <td>7000.0</td>\n",
       "    </tr>\n",
       "    <tr>\n",
       "      <th>1</th>\n",
       "      <td>Bob</td>\n",
       "      <td>30</td>\n",
       "      <td>LA</td>\n",
       "      <td>80000</td>\n",
       "      <td>8000.0</td>\n",
       "    </tr>\n",
       "    <tr>\n",
       "      <th>2</th>\n",
       "      <td>Charlie</td>\n",
       "      <td>35</td>\n",
       "      <td>Chicago</td>\n",
       "      <td>75000</td>\n",
       "      <td>7500.0</td>\n",
       "    </tr>\n",
       "    <tr>\n",
       "      <th>3</th>\n",
       "      <td>David</td>\n",
       "      <td>28</td>\n",
       "      <td>Houston</td>\n",
       "      <td>72000</td>\n",
       "      <td>7200.0</td>\n",
       "    </tr>\n",
       "  </tbody>\n",
       "</table>\n",
       "</div>"
      ],
      "text/plain": [
       "      name  age     city  salary   bonus\n",
       "0    Alice   25      NYC   70000  7000.0\n",
       "1      Bob   30       LA   80000  8000.0\n",
       "2  Charlie   35  Chicago   75000  7500.0\n",
       "3    David   28  Houston   72000  7200.0"
      ]
     },
     "execution_count": 29,
     "metadata": {},
     "output_type": "execute_result"
    }
   ],
   "source": [
    "# Copy DataFrame\n",
    "df_mod = df.copy()\n",
    "\n",
    "# Add new column (like R's df$new_col <- ...)\n",
    "df_mod['bonus'] = df_mod['salary'] * 0.1  # R: df$bonus <- df$salary * 0.1\n",
    "df_mod"
   ]
  },
  {
   "cell_type": "markdown",
   "id": "18a15140",
   "metadata": {},
   "source": [
    "### Conditional column"
   ]
  },
  {
   "cell_type": "code",
   "execution_count": 31,
   "id": "8a03aac2",
   "metadata": {},
   "outputs": [
    {
     "data": {
      "application/vnd.microsoft.datawrangler.viewer.v0+json": {
       "columns": [
        {
         "name": "index",
         "rawType": "int64",
         "type": "integer"
        },
        {
         "name": "name",
         "rawType": "object",
         "type": "string"
        },
        {
         "name": "age",
         "rawType": "int64",
         "type": "integer"
        },
        {
         "name": "city",
         "rawType": "object",
         "type": "string"
        },
        {
         "name": "salary",
         "rawType": "int64",
         "type": "integer"
        },
        {
         "name": "bonus",
         "rawType": "float64",
         "type": "float"
        },
        {
         "name": "level",
         "rawType": "object",
         "type": "string"
        }
       ],
       "ref": "3b3e8576-9816-4700-bacd-463dbe0405d0",
       "rows": [
        [
         "0",
         "Alice",
         "25",
         "NYC",
         "70000",
         "7000.0",
         "Junior"
        ],
        [
         "1",
         "Bob",
         "30",
         "LA",
         "80000",
         "8000.0",
         "Senior"
        ],
        [
         "2",
         "Charlie",
         "35",
         "Chicago",
         "75000",
         "7500.0",
         "Junior"
        ],
        [
         "3",
         "David",
         "28",
         "Houston",
         "72000",
         "7200.0",
         "Junior"
        ]
       ],
       "shape": {
        "columns": 6,
        "rows": 4
       }
      },
      "text/html": [
       "<div>\n",
       "<style scoped>\n",
       "    .dataframe tbody tr th:only-of-type {\n",
       "        vertical-align: middle;\n",
       "    }\n",
       "\n",
       "    .dataframe tbody tr th {\n",
       "        vertical-align: top;\n",
       "    }\n",
       "\n",
       "    .dataframe thead th {\n",
       "        text-align: right;\n",
       "    }\n",
       "</style>\n",
       "<table border=\"1\" class=\"dataframe\">\n",
       "  <thead>\n",
       "    <tr style=\"text-align: right;\">\n",
       "      <th></th>\n",
       "      <th>name</th>\n",
       "      <th>age</th>\n",
       "      <th>city</th>\n",
       "      <th>salary</th>\n",
       "      <th>bonus</th>\n",
       "      <th>level</th>\n",
       "    </tr>\n",
       "  </thead>\n",
       "  <tbody>\n",
       "    <tr>\n",
       "      <th>0</th>\n",
       "      <td>Alice</td>\n",
       "      <td>25</td>\n",
       "      <td>NYC</td>\n",
       "      <td>70000</td>\n",
       "      <td>7000.0</td>\n",
       "      <td>Junior</td>\n",
       "    </tr>\n",
       "    <tr>\n",
       "      <th>1</th>\n",
       "      <td>Bob</td>\n",
       "      <td>30</td>\n",
       "      <td>LA</td>\n",
       "      <td>80000</td>\n",
       "      <td>8000.0</td>\n",
       "      <td>Senior</td>\n",
       "    </tr>\n",
       "    <tr>\n",
       "      <th>2</th>\n",
       "      <td>Charlie</td>\n",
       "      <td>35</td>\n",
       "      <td>Chicago</td>\n",
       "      <td>75000</td>\n",
       "      <td>7500.0</td>\n",
       "      <td>Junior</td>\n",
       "    </tr>\n",
       "    <tr>\n",
       "      <th>3</th>\n",
       "      <td>David</td>\n",
       "      <td>28</td>\n",
       "      <td>Houston</td>\n",
       "      <td>72000</td>\n",
       "      <td>7200.0</td>\n",
       "      <td>Junior</td>\n",
       "    </tr>\n",
       "  </tbody>\n",
       "</table>\n",
       "</div>"
      ],
      "text/plain": [
       "      name  age     city  salary   bonus   level\n",
       "0    Alice   25      NYC   70000  7000.0  Junior\n",
       "1      Bob   30       LA   80000  8000.0  Senior\n",
       "2  Charlie   35  Chicago   75000  7500.0  Junior\n",
       "3    David   28  Houston   72000  7200.0  Junior"
      ]
     },
     "execution_count": 31,
     "metadata": {},
     "output_type": "execute_result"
    }
   ],
   "source": [
    "df_mod['level'] = np.where(df_mod['salary'] > 75000, 'Senior', 'Junior')\n",
    "# R: df$level <- ifelse(df$salary > 75000, 'Senior', 'Junior')\n",
    "df_mod"
   ]
  },
  {
   "cell_type": "markdown",
   "id": "a9fa1e6a",
   "metadata": {},
   "source": [
    "### `.assign`"
   ]
  },
  {
   "cell_type": "code",
   "execution_count": 35,
   "id": "23484d9f",
   "metadata": {},
   "outputs": [
    {
     "data": {
      "application/vnd.microsoft.datawrangler.viewer.v0+json": {
       "columns": [
        {
         "name": "index",
         "rawType": "int64",
         "type": "integer"
        },
        {
         "name": "name",
         "rawType": "object",
         "type": "string"
        },
        {
         "name": "age",
         "rawType": "int64",
         "type": "integer"
        },
        {
         "name": "city",
         "rawType": "object",
         "type": "string"
        },
        {
         "name": "salary",
         "rawType": "int64",
         "type": "integer"
        },
        {
         "name": "bonus",
         "rawType": "float64",
         "type": "float"
        },
        {
         "name": "level",
         "rawType": "object",
         "type": "string"
        },
        {
         "name": "total_comp",
         "rawType": "float64",
         "type": "float"
        },
        {
         "name": "age_group",
         "rawType": "category",
         "type": "unknown"
        }
       ],
       "ref": "24358281-d806-4981-8942-a6d67957670b",
       "rows": [
        [
         "0",
         "Alice",
         "25",
         "NYC",
         "70000",
         "7000.0",
         "Junior",
         "77000.0",
         "Young"
        ],
        [
         "1",
         "Bob",
         "30",
         "LA",
         "80000",
         "8000.0",
         "Senior",
         "88000.0",
         "Young"
        ],
        [
         "2",
         "Charlie",
         "35",
         "Chicago",
         "75000",
         "7500.0",
         "Junior",
         "82500.0",
         "Middle"
        ],
        [
         "3",
         "David",
         "28",
         "Houston",
         "72000",
         "7200.0",
         "Junior",
         "79200.0",
         "Young"
        ]
       ],
       "shape": {
        "columns": 8,
        "rows": 4
       }
      },
      "text/html": [
       "<div>\n",
       "<style scoped>\n",
       "    .dataframe tbody tr th:only-of-type {\n",
       "        vertical-align: middle;\n",
       "    }\n",
       "\n",
       "    .dataframe tbody tr th {\n",
       "        vertical-align: top;\n",
       "    }\n",
       "\n",
       "    .dataframe thead th {\n",
       "        text-align: right;\n",
       "    }\n",
       "</style>\n",
       "<table border=\"1\" class=\"dataframe\">\n",
       "  <thead>\n",
       "    <tr style=\"text-align: right;\">\n",
       "      <th></th>\n",
       "      <th>name</th>\n",
       "      <th>age</th>\n",
       "      <th>city</th>\n",
       "      <th>salary</th>\n",
       "      <th>bonus</th>\n",
       "      <th>level</th>\n",
       "      <th>total_comp</th>\n",
       "      <th>age_group</th>\n",
       "    </tr>\n",
       "  </thead>\n",
       "  <tbody>\n",
       "    <tr>\n",
       "      <th>0</th>\n",
       "      <td>Alice</td>\n",
       "      <td>25</td>\n",
       "      <td>NYC</td>\n",
       "      <td>70000</td>\n",
       "      <td>7000.0</td>\n",
       "      <td>Junior</td>\n",
       "      <td>77000.0</td>\n",
       "      <td>Young</td>\n",
       "    </tr>\n",
       "    <tr>\n",
       "      <th>1</th>\n",
       "      <td>Bob</td>\n",
       "      <td>30</td>\n",
       "      <td>LA</td>\n",
       "      <td>80000</td>\n",
       "      <td>8000.0</td>\n",
       "      <td>Senior</td>\n",
       "      <td>88000.0</td>\n",
       "      <td>Young</td>\n",
       "    </tr>\n",
       "    <tr>\n",
       "      <th>2</th>\n",
       "      <td>Charlie</td>\n",
       "      <td>35</td>\n",
       "      <td>Chicago</td>\n",
       "      <td>75000</td>\n",
       "      <td>7500.0</td>\n",
       "      <td>Junior</td>\n",
       "      <td>82500.0</td>\n",
       "      <td>Middle</td>\n",
       "    </tr>\n",
       "    <tr>\n",
       "      <th>3</th>\n",
       "      <td>David</td>\n",
       "      <td>28</td>\n",
       "      <td>Houston</td>\n",
       "      <td>72000</td>\n",
       "      <td>7200.0</td>\n",
       "      <td>Junior</td>\n",
       "      <td>79200.0</td>\n",
       "      <td>Young</td>\n",
       "    </tr>\n",
       "  </tbody>\n",
       "</table>\n",
       "</div>"
      ],
      "text/plain": [
       "      name  age     city  salary   bonus   level  total_comp age_group\n",
       "0    Alice   25      NYC   70000  7000.0  Junior     77000.0     Young\n",
       "1      Bob   30       LA   80000  8000.0  Senior     88000.0     Young\n",
       "2  Charlie   35  Chicago   75000  7500.0  Junior     82500.0    Middle\n",
       "3    David   28  Houston   72000  7200.0  Junior     79200.0     Young"
      ]
     },
     "execution_count": 35,
     "metadata": {},
     "output_type": "execute_result"
    }
   ],
   "source": [
    "df_mod = df_mod.assign(\n",
    "    total_comp=lambda x: x['salary'] + x['bonus'],\n",
    "    age_group=lambda x: pd.cut(x['age'], bins=[0, 30, 40, 100], \n",
    "                               labels=['Young', 'Middle', 'Senior'])\n",
    ")\n",
    "# R: df %>% mutate(total_comp = salary + bonus, ...)\n",
    "df_mod"
   ]
  },
  {
   "cell_type": "markdown",
   "id": "e3cbcfc1",
   "metadata": {},
   "source": [
    "## `.drop` Rows and Columns\n",
    "\n",
    "Removing data from DataFrames:"
   ]
  },
  {
   "cell_type": "code",
   "execution_count": 36,
   "id": "1e6ab670",
   "metadata": {},
   "outputs": [
    {
     "data": {
      "application/vnd.microsoft.datawrangler.viewer.v0+json": {
       "columns": [
        {
         "name": "index",
         "rawType": "int64",
         "type": "integer"
        },
        {
         "name": "name",
         "rawType": "object",
         "type": "string"
        },
        {
         "name": "age",
         "rawType": "int64",
         "type": "integer"
        },
        {
         "name": "city",
         "rawType": "object",
         "type": "string"
        },
        {
         "name": "salary",
         "rawType": "int64",
         "type": "integer"
        },
        {
         "name": "total_comp",
         "rawType": "float64",
         "type": "float"
        },
        {
         "name": "age_group",
         "rawType": "category",
         "type": "unknown"
        }
       ],
       "ref": "0abd96e9-82ed-4477-9a97-9cb542e8d211",
       "rows": [
        [
         "0",
         "Alice",
         "25",
         "NYC",
         "70000",
         "77000.0",
         "Young"
        ],
        [
         "1",
         "Bob",
         "30",
         "LA",
         "80000",
         "88000.0",
         "Young"
        ],
        [
         "2",
         "Charlie",
         "35",
         "Chicago",
         "75000",
         "82500.0",
         "Middle"
        ],
        [
         "3",
         "David",
         "28",
         "Houston",
         "72000",
         "79200.0",
         "Young"
        ]
       ],
       "shape": {
        "columns": 6,
        "rows": 4
       }
      },
      "text/html": [
       "<div>\n",
       "<style scoped>\n",
       "    .dataframe tbody tr th:only-of-type {\n",
       "        vertical-align: middle;\n",
       "    }\n",
       "\n",
       "    .dataframe tbody tr th {\n",
       "        vertical-align: top;\n",
       "    }\n",
       "\n",
       "    .dataframe thead th {\n",
       "        text-align: right;\n",
       "    }\n",
       "</style>\n",
       "<table border=\"1\" class=\"dataframe\">\n",
       "  <thead>\n",
       "    <tr style=\"text-align: right;\">\n",
       "      <th></th>\n",
       "      <th>name</th>\n",
       "      <th>age</th>\n",
       "      <th>city</th>\n",
       "      <th>salary</th>\n",
       "      <th>total_comp</th>\n",
       "      <th>age_group</th>\n",
       "    </tr>\n",
       "  </thead>\n",
       "  <tbody>\n",
       "    <tr>\n",
       "      <th>0</th>\n",
       "      <td>Alice</td>\n",
       "      <td>25</td>\n",
       "      <td>NYC</td>\n",
       "      <td>70000</td>\n",
       "      <td>77000.0</td>\n",
       "      <td>Young</td>\n",
       "    </tr>\n",
       "    <tr>\n",
       "      <th>1</th>\n",
       "      <td>Bob</td>\n",
       "      <td>30</td>\n",
       "      <td>LA</td>\n",
       "      <td>80000</td>\n",
       "      <td>88000.0</td>\n",
       "      <td>Young</td>\n",
       "    </tr>\n",
       "    <tr>\n",
       "      <th>2</th>\n",
       "      <td>Charlie</td>\n",
       "      <td>35</td>\n",
       "      <td>Chicago</td>\n",
       "      <td>75000</td>\n",
       "      <td>82500.0</td>\n",
       "      <td>Middle</td>\n",
       "    </tr>\n",
       "    <tr>\n",
       "      <th>3</th>\n",
       "      <td>David</td>\n",
       "      <td>28</td>\n",
       "      <td>Houston</td>\n",
       "      <td>72000</td>\n",
       "      <td>79200.0</td>\n",
       "      <td>Young</td>\n",
       "    </tr>\n",
       "  </tbody>\n",
       "</table>\n",
       "</div>"
      ],
      "text/plain": [
       "      name  age     city  salary  total_comp age_group\n",
       "0    Alice   25      NYC   70000     77000.0     Young\n",
       "1      Bob   30       LA   80000     88000.0     Young\n",
       "2  Charlie   35  Chicago   75000     82500.0    Middle\n",
       "3    David   28  Houston   72000     79200.0     Young"
      ]
     },
     "execution_count": 36,
     "metadata": {},
     "output_type": "execute_result"
    }
   ],
   "source": [
    "# Drop columns\n",
    "df_dropped = df_mod.drop(columns=['bonus', 'level'])  \n",
    "# R: df[, !names(df) %in% c('bonus', 'level')]\n",
    "df_dropped"
   ]
  },
  {
   "cell_type": "code",
   "execution_count": 37,
   "id": "c523b6ed",
   "metadata": {},
   "outputs": [
    {
     "data": {
      "application/vnd.microsoft.datawrangler.viewer.v0+json": {
       "columns": [
        {
         "name": "index",
         "rawType": "int64",
         "type": "integer"
        },
        {
         "name": "name",
         "rawType": "object",
         "type": "string"
        },
        {
         "name": "age",
         "rawType": "int64",
         "type": "integer"
        },
        {
         "name": "city",
         "rawType": "object",
         "type": "string"
        },
        {
         "name": "salary",
         "rawType": "int64",
         "type": "integer"
        }
       ],
       "ref": "e3dc99bd-86d9-4c50-b773-8431e73c4692",
       "rows": [
        [
         "1",
         "Bob",
         "30",
         "LA",
         "80000"
        ],
        [
         "3",
         "David",
         "28",
         "Houston",
         "72000"
        ]
       ],
       "shape": {
        "columns": 4,
        "rows": 2
       }
      },
      "text/html": [
       "<div>\n",
       "<style scoped>\n",
       "    .dataframe tbody tr th:only-of-type {\n",
       "        vertical-align: middle;\n",
       "    }\n",
       "\n",
       "    .dataframe tbody tr th {\n",
       "        vertical-align: top;\n",
       "    }\n",
       "\n",
       "    .dataframe thead th {\n",
       "        text-align: right;\n",
       "    }\n",
       "</style>\n",
       "<table border=\"1\" class=\"dataframe\">\n",
       "  <thead>\n",
       "    <tr style=\"text-align: right;\">\n",
       "      <th></th>\n",
       "      <th>name</th>\n",
       "      <th>age</th>\n",
       "      <th>city</th>\n",
       "      <th>salary</th>\n",
       "    </tr>\n",
       "  </thead>\n",
       "  <tbody>\n",
       "    <tr>\n",
       "      <th>1</th>\n",
       "      <td>Bob</td>\n",
       "      <td>30</td>\n",
       "      <td>LA</td>\n",
       "      <td>80000</td>\n",
       "    </tr>\n",
       "    <tr>\n",
       "      <th>3</th>\n",
       "      <td>David</td>\n",
       "      <td>28</td>\n",
       "      <td>Houston</td>\n",
       "      <td>72000</td>\n",
       "    </tr>\n",
       "  </tbody>\n",
       "</table>\n",
       "</div>"
      ],
      "text/plain": [
       "    name  age     city  salary\n",
       "1    Bob   30       LA   80000\n",
       "3  David   28  Houston   72000"
      ]
     },
     "execution_count": 37,
     "metadata": {},
     "output_type": "execute_result"
    }
   ],
   "source": [
    "# Drop rows by index\n",
    "df_dropped = df.drop(index=[0, 2])  # Drop first and third rows\n",
    "# R: df[-c(1, 3), ]\n",
    "df_dropped"
   ]
  },
  {
   "cell_type": "code",
   "execution_count": 38,
   "id": "d6c56716",
   "metadata": {},
   "outputs": [
    {
     "data": {
      "application/vnd.microsoft.datawrangler.viewer.v0+json": {
       "columns": [
        {
         "name": "index",
         "rawType": "int64",
         "type": "integer"
        },
        {
         "name": "name",
         "rawType": "object",
         "type": "string"
        },
        {
         "name": "age",
         "rawType": "int64",
         "type": "integer"
        },
        {
         "name": "city",
         "rawType": "object",
         "type": "string"
        },
        {
         "name": "salary",
         "rawType": "int64",
         "type": "integer"
        }
       ],
       "ref": "d549ebd9-1720-47e2-9514-1c9d2e9256ab",
       "rows": [
        [
         "0",
         "Alice",
         "25",
         "NYC",
         "70000"
        ],
        [
         "1",
         "Bob",
         "30",
         "LA",
         "80000"
        ],
        [
         "3",
         "David",
         "28",
         "Houston",
         "72000"
        ]
       ],
       "shape": {
        "columns": 4,
        "rows": 3
       }
      },
      "text/html": [
       "<div>\n",
       "<style scoped>\n",
       "    .dataframe tbody tr th:only-of-type {\n",
       "        vertical-align: middle;\n",
       "    }\n",
       "\n",
       "    .dataframe tbody tr th {\n",
       "        vertical-align: top;\n",
       "    }\n",
       "\n",
       "    .dataframe thead th {\n",
       "        text-align: right;\n",
       "    }\n",
       "</style>\n",
       "<table border=\"1\" class=\"dataframe\">\n",
       "  <thead>\n",
       "    <tr style=\"text-align: right;\">\n",
       "      <th></th>\n",
       "      <th>name</th>\n",
       "      <th>age</th>\n",
       "      <th>city</th>\n",
       "      <th>salary</th>\n",
       "    </tr>\n",
       "  </thead>\n",
       "  <tbody>\n",
       "    <tr>\n",
       "      <th>0</th>\n",
       "      <td>Alice</td>\n",
       "      <td>25</td>\n",
       "      <td>NYC</td>\n",
       "      <td>70000</td>\n",
       "    </tr>\n",
       "    <tr>\n",
       "      <th>1</th>\n",
       "      <td>Bob</td>\n",
       "      <td>30</td>\n",
       "      <td>LA</td>\n",
       "      <td>80000</td>\n",
       "    </tr>\n",
       "    <tr>\n",
       "      <th>3</th>\n",
       "      <td>David</td>\n",
       "      <td>28</td>\n",
       "      <td>Houston</td>\n",
       "      <td>72000</td>\n",
       "    </tr>\n",
       "  </tbody>\n",
       "</table>\n",
       "</div>"
      ],
      "text/plain": [
       "    name  age     city  salary\n",
       "0  Alice   25      NYC   70000\n",
       "1    Bob   30       LA   80000\n",
       "3  David   28  Houston   72000"
      ]
     },
     "execution_count": 38,
     "metadata": {},
     "output_type": "execute_result"
    }
   ],
   "source": [
    "# Drop rows by condition\n",
    "df_filtered = df[df['age'] <= 30]  # Keep only age <= 30\n",
    "# R: df[df$age <= 30, ]\n",
    "df_filtered"
   ]
  },
  {
   "cell_type": "markdown",
   "id": "6326b02a",
   "metadata": {},
   "source": [
    "## Sorting DataFrames\n",
    "\n",
    "Sorting is more flexible than R's `order()`:"
   ]
  },
  {
   "cell_type": "code",
   "execution_count": 39,
   "id": "0f90c37b",
   "metadata": {},
   "outputs": [],
   "source": [
    "# Create sample data\n",
    "df_sort = pd.DataFrame({\n",
    "    'name': ['Eve', 'Alice', 'Charlie', 'Bob', 'David'],\n",
    "    'age': [28, 25, 35, 30, 28],\n",
    "    'salary': [72000, 70000, 75000, 80000, 68000]\n",
    "})"
   ]
  },
  {
   "cell_type": "code",
   "execution_count": 40,
   "id": "bbd8c137",
   "metadata": {},
   "outputs": [
    {
     "name": "stdout",
     "output_type": "stream",
     "text": [
      "      name  age  salary\n",
      "1    Alice   25   70000\n",
      "0      Eve   28   72000\n",
      "4    David   28   68000\n",
      "3      Bob   30   80000\n",
      "2  Charlie   35   75000\n"
     ]
    }
   ],
   "source": [
    "# Sort by single column\n",
    "print(df_sort.sort_values('age'))  # R: df[order(df$age), ]"
   ]
  },
  {
   "cell_type": "code",
   "execution_count": 41,
   "id": "d40079f2",
   "metadata": {},
   "outputs": [
    {
     "name": "stdout",
     "output_type": "stream",
     "text": [
      "Sort by age, then salary (descending):\n",
      "      name  age  salary\n",
      "1    Alice   25   70000\n",
      "0      Eve   28   72000\n",
      "4    David   28   68000\n",
      "3      Bob   30   80000\n",
      "2  Charlie   35   75000\n"
     ]
    }
   ],
   "source": [
    "# Sort by multiple columns\n",
    "print(\"Sort by age, then salary (descending):\")\n",
    "print(df_sort.sort_values(['age', 'salary'], \n",
    "                         ascending=[True, False]))\n",
    "# R: df[order(df$age, -df$salary), ]"
   ]
  },
  {
   "cell_type": "code",
   "execution_count": 42,
   "id": "642405c0",
   "metadata": {},
   "outputs": [
    {
     "name": "stdout",
     "output_type": "stream",
     "text": [
      "      name  age  salary\n",
      "0      Eve   28   72000\n",
      "1    Alice   25   70000\n",
      "2  Charlie   35   75000\n",
      "3      Bob   30   80000\n",
      "4    David   28   68000\n"
     ]
    }
   ],
   "source": [
    "# Sort by index\n",
    "print(df_sort.sort_index())  # R: df[order(rownames(df)), ]"
   ]
  },
  {
   "cell_type": "markdown",
   "id": "2b35a506",
   "metadata": {},
   "source": [
    "## Handling Missing Data\n",
    "\n",
    "DataFrames provide comprehensive missing data handling:"
   ]
  },
  {
   "cell_type": "code",
   "execution_count": 43,
   "id": "573ca20b",
   "metadata": {},
   "outputs": [
    {
     "data": {
      "application/vnd.microsoft.datawrangler.viewer.v0+json": {
       "columns": [
        {
         "name": "index",
         "rawType": "int64",
         "type": "integer"
        },
        {
         "name": "A",
         "rawType": "float64",
         "type": "float"
        },
        {
         "name": "B",
         "rawType": "float64",
         "type": "float"
        },
        {
         "name": "C",
         "rawType": "int64",
         "type": "integer"
        }
       ],
       "ref": "e80b04b2-ee63-40e5-910c-0ba42f6a0f95",
       "rows": [
        [
         "0",
         "1.0",
         "5.0",
         "9"
        ],
        [
         "1",
         "2.0",
         null,
         "10"
        ],
        [
         "2",
         null,
         null,
         "11"
        ],
        [
         "3",
         "4.0",
         "8.0",
         "12"
        ]
       ],
       "shape": {
        "columns": 3,
        "rows": 4
       }
      },
      "text/html": [
       "<div>\n",
       "<style scoped>\n",
       "    .dataframe tbody tr th:only-of-type {\n",
       "        vertical-align: middle;\n",
       "    }\n",
       "\n",
       "    .dataframe tbody tr th {\n",
       "        vertical-align: top;\n",
       "    }\n",
       "\n",
       "    .dataframe thead th {\n",
       "        text-align: right;\n",
       "    }\n",
       "</style>\n",
       "<table border=\"1\" class=\"dataframe\">\n",
       "  <thead>\n",
       "    <tr style=\"text-align: right;\">\n",
       "      <th></th>\n",
       "      <th>A</th>\n",
       "      <th>B</th>\n",
       "      <th>C</th>\n",
       "    </tr>\n",
       "  </thead>\n",
       "  <tbody>\n",
       "    <tr>\n",
       "      <th>0</th>\n",
       "      <td>1.0</td>\n",
       "      <td>5.0</td>\n",
       "      <td>9</td>\n",
       "    </tr>\n",
       "    <tr>\n",
       "      <th>1</th>\n",
       "      <td>2.0</td>\n",
       "      <td>NaN</td>\n",
       "      <td>10</td>\n",
       "    </tr>\n",
       "    <tr>\n",
       "      <th>2</th>\n",
       "      <td>NaN</td>\n",
       "      <td>NaN</td>\n",
       "      <td>11</td>\n",
       "    </tr>\n",
       "    <tr>\n",
       "      <th>3</th>\n",
       "      <td>4.0</td>\n",
       "      <td>8.0</td>\n",
       "      <td>12</td>\n",
       "    </tr>\n",
       "  </tbody>\n",
       "</table>\n",
       "</div>"
      ],
      "text/plain": [
       "     A    B   C\n",
       "0  1.0  5.0   9\n",
       "1  2.0  NaN  10\n",
       "2  NaN  NaN  11\n",
       "3  4.0  8.0  12"
      ]
     },
     "execution_count": 43,
     "metadata": {},
     "output_type": "execute_result"
    }
   ],
   "source": [
    "# Create DataFrame with missing values\n",
    "df_missing = pd.DataFrame({\n",
    "    'A': [1, 2, np.nan, 4],\n",
    "    'B': [5, np.nan, np.nan, 8],\n",
    "    'C': [9, 10, 11, 12]\n",
    "})\n",
    "df_missing"
   ]
  },
  {
   "cell_type": "code",
   "execution_count": 44,
   "id": "5e3ff12b",
   "metadata": {},
   "outputs": [
    {
     "name": "stdout",
     "output_type": "stream",
     "text": [
      "A    1\n",
      "B    2\n",
      "C    0\n",
      "dtype: int64\n"
     ]
    }
   ],
   "source": [
    "# Check for missing values\n",
    "print(df_missing.isna().sum())  # R: colSums(is.na(df))"
   ]
  },
  {
   "cell_type": "code",
   "execution_count": 46,
   "id": "a858e479",
   "metadata": {},
   "outputs": [
    {
     "name": "stdout",
     "output_type": "stream",
     "text": [
      "     A    B   C\n",
      "0  1.0  5.0   9\n",
      "3  4.0  8.0  12\n"
     ]
    }
   ],
   "source": [
    "# Drop rows with any missing\n",
    "print(df_missing.dropna())  # R: na.omit(df)"
   ]
  },
  {
   "cell_type": "code",
   "execution_count": 47,
   "id": "8207378e",
   "metadata": {},
   "outputs": [
    {
     "name": "stdout",
     "output_type": "stream",
     "text": [
      "    C\n",
      "0   9\n",
      "1  10\n",
      "2  11\n",
      "3  12\n"
     ]
    }
   ],
   "source": [
    "# Drop columns with any missing\n",
    "print(df_missing.dropna(axis=1))  # R: df[, colSums(is.na(df)) == 0]"
   ]
  },
  {
   "cell_type": "code",
   "execution_count": 48,
   "id": "03fcbdff",
   "metadata": {},
   "outputs": [
    {
     "name": "stdout",
     "output_type": "stream",
     "text": [
      "     A    B   C\n",
      "0  1.0  5.0   9\n",
      "1  2.0  0.0  10\n",
      "2  0.0  0.0  11\n",
      "3  4.0  8.0  12\n"
     ]
    }
   ],
   "source": [
    "# Fill missing values\n",
    "print(df_missing.fillna(0))  # R: replace_na(df, 0)"
   ]
  },
  {
   "cell_type": "markdown",
   "id": "4c882422",
   "metadata": {},
   "source": [
    "## Basic Operations\n",
    "\n",
    "Applying operations across the DataFrame:"
   ]
  },
  {
   "cell_type": "code",
   "execution_count": 49,
   "id": "a5add205",
   "metadata": {},
   "outputs": [],
   "source": [
    "# Numeric DataFrame\n",
    "df_num = pd.DataFrame({\n",
    "    'x': [10, 20, 30, 40],\n",
    "    'y': [15, 25, 35, 45],\n",
    "    'z': [12, 22, 32, 42]\n",
    "})"
   ]
  },
  {
   "cell_type": "code",
   "execution_count": 50,
   "id": "0d717a3b",
   "metadata": {},
   "outputs": [
    {
     "name": "stdout",
     "output_type": "stream",
     "text": [
      "    x   y   z\n",
      "0  15  20  17\n",
      "1  25  30  27\n",
      "2  35  40  37\n",
      "3  45  50  47\n"
     ]
    }
   ],
   "source": [
    "# Element-wise operations\n",
    "print(df_num + 5)  # R: df + 5"
   ]
  },
  {
   "cell_type": "code",
   "execution_count": 51,
   "id": "c9363232",
   "metadata": {},
   "outputs": [
    {
     "name": "stdout",
     "output_type": "stream",
     "text": [
      "x    25.0\n",
      "y    30.0\n",
      "z    27.0\n",
      "dtype: float64\n"
     ]
    }
   ],
   "source": [
    "# Column-wise operations\n",
    "print(df_num.mean())  # R: colMeans(df)"
   ]
  },
  {
   "cell_type": "code",
   "execution_count": 58,
   "id": "44909072",
   "metadata": {},
   "outputs": [
    {
     "name": "stdout",
     "output_type": "stream",
     "text": [
      "x    100\n",
      "y    120\n",
      "z    108\n",
      "dtype: int64\n",
      "0     37\n",
      "1     67\n",
      "2     97\n",
      "3    127\n",
      "dtype: int64\n"
     ]
    }
   ],
   "source": [
    "print(df_num.sum(axis=0))  # Col Sum\n",
    "print(df_num.sum(axis=1))  # Row Sum"
   ]
  },
  {
   "cell_type": "code",
   "execution_count": 59,
   "id": "f7d57fa8",
   "metadata": {},
   "outputs": [
    {
     "name": "stdout",
     "output_type": "stream",
     "text": [
      "x    30\n",
      "y    30\n",
      "z    30\n",
      "dtype: int64\n"
     ]
    }
   ],
   "source": [
    "# Apply custom function\n",
    "print(df_num.apply(lambda x: x.max() - x.min()))  \n",
    "# R: apply(df, 2, function(x) max(x) - min(x))"
   ]
  },
  {
   "cell_type": "markdown",
   "id": "1b61cbdf",
   "metadata": {},
   "source": [
    "## DataFrame Information Methods\n",
    "\n",
    "Quick ways to understand your DataFrame:"
   ]
  },
  {
   "cell_type": "code",
   "execution_count": 60,
   "id": "6fdcedb4",
   "metadata": {},
   "outputs": [],
   "source": [
    "# Sample DataFrame\n",
    "df_info = pd.DataFrame({\n",
    "    'int_col': [1, 2, 3, 4, 5],\n",
    "    'float_col': [1.1, 2.2, 3.3, 4.4, 5.5],\n",
    "    'str_col': ['a', 'b', 'c', 'd', 'e'],\n",
    "    'bool_col': [True, False, True, False, True],\n",
    "    'cat_col': pd.Categorical(['A', 'B', 'A', 'B', 'C'])\n",
    "})"
   ]
  },
  {
   "cell_type": "code",
   "execution_count": 61,
   "id": "221b2b4f",
   "metadata": {},
   "outputs": [
    {
     "name": "stdout",
     "output_type": "stream",
     "text": [
      "Index        132\n",
      "int_col       40\n",
      "float_col     40\n",
      "str_col      250\n",
      "bool_col       5\n",
      "cat_col      263\n",
      "dtype: int64\n"
     ]
    }
   ],
   "source": [
    "# Memory usage\n",
    "print(df_info.memory_usage(deep=True))  # R: object.size(df)"
   ]
  },
  {
   "cell_type": "code",
   "execution_count": 62,
   "id": "b574809e",
   "metadata": {},
   "outputs": [
    {
     "name": "stdout",
     "output_type": "stream",
     "text": [
      "   int_col  float_col\n",
      "0        1        1.1\n",
      "1        2        2.2\n",
      "2        3        3.3\n",
      "3        4        4.4\n",
      "4        5        5.5\n"
     ]
    }
   ],
   "source": [
    "# Get numeric columns only\n",
    "print(df_info.select_dtypes(include='number'))  \n",
    "# R: df[sapply(df, is.numeric)]"
   ]
  },
  {
   "cell_type": "markdown",
   "id": "2de12b97",
   "metadata": {},
   "source": [
    "### Value counts for all columns"
   ]
  },
  {
   "cell_type": "code",
   "execution_count": 64,
   "id": "9386de9b",
   "metadata": {},
   "outputs": [
    {
     "name": "stdout",
     "output_type": "stream",
     "text": [
      "\n",
      "str_col:\n",
      "str_col\n",
      "a    1\n",
      "b    1\n",
      "c    1\n",
      "d    1\n",
      "e    1\n",
      "Name: count, dtype: int64\n",
      "\n",
      "bool_col:\n",
      "bool_col\n",
      "True     3\n",
      "False    2\n",
      "Name: count, dtype: int64\n",
      "\n",
      "cat_col:\n",
      "cat_col\n",
      "A    2\n",
      "B    2\n",
      "C    1\n",
      "Name: count, dtype: int64\n"
     ]
    }
   ],
   "source": [
    "for col in df_info.select_dtypes(exclude='number').columns:\n",
    "    print(f\"\\n{col}:\")\n",
    "    print(df_info[col].value_counts())\n",
    "# R: lapply(df[sapply(df, is.factor)], table)"
   ]
  },
  {
   "cell_type": "markdown",
   "id": "4ea8c904",
   "metadata": {},
   "source": [
    "## The Power of Index\n",
    "\n",
    "Understanding the index is crucial for effective pandas use:"
   ]
  },
  {
   "cell_type": "code",
   "execution_count": 65,
   "id": "1104d124",
   "metadata": {},
   "outputs": [
    {
     "data": {
      "application/vnd.microsoft.datawrangler.viewer.v0+json": {
       "columns": [
        {
         "name": "('quarter', 'product')",
         "rawType": "object",
         "type": "unknown"
        },
        {
         "name": "sales",
         "rawType": "int64",
         "type": "integer"
        }
       ],
       "ref": "92863fe4-85b3-466c-9e50-74c6e02a106b",
       "rows": [
        [
         "('Q1', 'A')",
         "100"
        ],
        [
         "('Q1', 'B')",
         "150"
        ],
        [
         "('Q1', 'C')",
         "200"
        ],
        [
         "('Q2', 'A')",
         "120"
        ],
        [
         "('Q2', 'B')",
         "160"
        ],
        [
         "('Q2', 'C')",
         "220"
        ]
       ],
       "shape": {
        "columns": 1,
        "rows": 6
       }
      },
      "text/html": [
       "<div>\n",
       "<style scoped>\n",
       "    .dataframe tbody tr th:only-of-type {\n",
       "        vertical-align: middle;\n",
       "    }\n",
       "\n",
       "    .dataframe tbody tr th {\n",
       "        vertical-align: top;\n",
       "    }\n",
       "\n",
       "    .dataframe thead th {\n",
       "        text-align: right;\n",
       "    }\n",
       "</style>\n",
       "<table border=\"1\" class=\"dataframe\">\n",
       "  <thead>\n",
       "    <tr style=\"text-align: right;\">\n",
       "      <th></th>\n",
       "      <th></th>\n",
       "      <th>sales</th>\n",
       "    </tr>\n",
       "    <tr>\n",
       "      <th>quarter</th>\n",
       "      <th>product</th>\n",
       "      <th></th>\n",
       "    </tr>\n",
       "  </thead>\n",
       "  <tbody>\n",
       "    <tr>\n",
       "      <th rowspan=\"3\" valign=\"top\">Q1</th>\n",
       "      <th>A</th>\n",
       "      <td>100</td>\n",
       "    </tr>\n",
       "    <tr>\n",
       "      <th>B</th>\n",
       "      <td>150</td>\n",
       "    </tr>\n",
       "    <tr>\n",
       "      <th>C</th>\n",
       "      <td>200</td>\n",
       "    </tr>\n",
       "    <tr>\n",
       "      <th rowspan=\"3\" valign=\"top\">Q2</th>\n",
       "      <th>A</th>\n",
       "      <td>120</td>\n",
       "    </tr>\n",
       "    <tr>\n",
       "      <th>B</th>\n",
       "      <td>160</td>\n",
       "    </tr>\n",
       "    <tr>\n",
       "      <th>C</th>\n",
       "      <td>220</td>\n",
       "    </tr>\n",
       "  </tbody>\n",
       "</table>\n",
       "</div>"
      ],
      "text/plain": [
       "                 sales\n",
       "quarter product       \n",
       "Q1      A          100\n",
       "        B          150\n",
       "        C          200\n",
       "Q2      A          120\n",
       "        B          160\n",
       "        C          220"
      ]
     },
     "execution_count": 65,
     "metadata": {},
     "output_type": "execute_result"
    }
   ],
   "source": [
    "# DataFrame with meaningful index\n",
    "sales_df = pd.DataFrame({\n",
    "    'product': ['A', 'B', 'C', 'A', 'B', 'C'],\n",
    "    'quarter': ['Q1', 'Q1', 'Q1', 'Q2', 'Q2', 'Q2'],\n",
    "    'sales': [100, 150, 200, 120, 160, 220]\n",
    "})\n",
    "\n",
    "# Set multi-index\n",
    "sales_indexed = sales_df.set_index(['quarter', 'product'])\n",
    "sales_indexed"
   ]
  },
  {
   "cell_type": "code",
   "execution_count": 66,
   "id": "f0bc19e1",
   "metadata": {},
   "outputs": [
    {
     "name": "stdout",
     "output_type": "stream",
     "text": [
      "         sales\n",
      "product       \n",
      "A          100\n",
      "B          150\n",
      "C          200\n"
     ]
    }
   ],
   "source": [
    "# Access with multi-index\n",
    "print(sales_indexed.loc['Q1'])  # All Q1 sales"
   ]
  },
  {
   "cell_type": "code",
   "execution_count": 67,
   "id": "068c1107",
   "metadata": {},
   "outputs": [
    {
     "name": "stdout",
     "output_type": "stream",
     "text": [
      "  quarter product  sales\n",
      "0      Q1       A    100\n",
      "1      Q1       B    150\n",
      "2      Q1       C    200\n",
      "3      Q2       A    120\n",
      "4      Q2       B    160\n",
      "5      Q2       C    220\n"
     ]
    }
   ],
   "source": [
    "# Reset index (back to default)\n",
    "print(sales_indexed.reset_index())  # R: rownames(df) <- NULL"
   ]
  },
  {
   "cell_type": "markdown",
   "id": "855162ba",
   "metadata": {},
   "source": [
    "## Key Differences from R data.frames\n",
    "\n",
    "Here's a summary of key differences:\n",
    "\n",
    "| Feature | R data.frame | pandas DataFrame |\n",
    "|---------|--------------|------------------|\n",
    "| Row names | Optional, often numeric | Always has index, can be meaningful |\n",
    "| Column access | `df$col` or `df[['col']]` | `df['col']` or `df.col` |\n",
    "| Subsetting | `df[rows, cols]` | `df.loc[rows, cols]` or `df.iloc[rows, cols]` |\n",
    "| Missing values | `NA` | `NaN`, `None`, `pd.NA` |\n",
    "| Column types | Can mix types | Can mix types |\n",
    "| Memory | Copy-on-modify | Some operations return views |\n",
    "| Method chaining | Limited (needs %>%) | Built-in with dot notation |"
   ]
  },
  {
   "cell_type": "markdown",
   "id": "45f59dc4",
   "metadata": {},
   "source": [
    "## Practical Tips\n",
    "\n",
    "1. **Always use `.copy()`** when you want a true copy:"
   ]
  },
  {
   "cell_type": "code",
   "execution_count": 68,
   "id": "e7a2ec1f",
   "metadata": {},
   "outputs": [],
   "source": [
    "df_new = df.copy()  # R: df_new <- df"
   ]
  },
  {
   "cell_type": "markdown",
   "id": "9ffa81c8",
   "metadata": {},
   "source": [
    "2. **Prefer `loc` and `iloc`** for explicit selection:"
   ]
  },
  {
   "cell_type": "code",
   "execution_count": 69,
   "id": "1d06896a",
   "metadata": {},
   "outputs": [
    {
     "data": {
      "application/vnd.microsoft.datawrangler.viewer.v0+json": {
       "columns": [
        {
         "name": "index",
         "rawType": "int64",
         "type": "integer"
        },
        {
         "name": "salary",
         "rawType": "int64",
         "type": "integer"
        }
       ],
       "ref": "060a60fa-cf4c-4886-8eb8-0337c17e2254",
       "rows": [
        [
         "2",
         "75000"
        ]
       ],
       "shape": {
        "columns": 1,
        "rows": 1
       }
      },
      "text/plain": [
       "2    75000\n",
       "Name: salary, dtype: int64"
      ]
     },
     "execution_count": 69,
     "metadata": {},
     "output_type": "execute_result"
    }
   ],
   "source": [
    "# Clear and unambiguous\n",
    "df.loc[df['age'] > 30, 'salary']  # Rows where age > 30, salary column"
   ]
  },
  {
   "cell_type": "markdown",
   "id": "227b334f",
   "metadata": {},
   "source": [
    "3. **Method chaining** for cleaner code:"
   ]
  },
  {
   "cell_type": "code",
   "execution_count": 70,
   "id": "93f7917a",
   "metadata": {},
   "outputs": [],
   "source": [
    "result = (df\n",
    "         .query('age > 25')\n",
    "         .sort_values('salary', ascending=False)\n",
    "         .head(10))"
   ]
  },
  {
   "cell_type": "markdown",
   "id": "d893ca46",
   "metadata": {},
   "source": [
    "4. **Use `assign()` for new columns** in chains:"
   ]
  },
  {
   "cell_type": "code",
   "execution_count": 71,
   "id": "36d3f41a",
   "metadata": {},
   "outputs": [
    {
     "name": "stderr",
     "output_type": "stream",
     "text": [
      "/var/folders/70/7wmmf6t55cb84bfx9g1c1k1m0000gn/T/ipykernel_57492/1961433237.py:3: FutureWarning: The default of observed=False is deprecated and will be changed to True in a future version of pandas. Pass observed=False to retain current behavior or observed=True to adopt the future default and silence this warning.\n",
      "  .groupby('age_group')\n"
     ]
    },
    {
     "ename": "TypeError",
     "evalue": "agg function failed [how->mean,dtype->object]",
     "output_type": "error",
     "traceback": [
      "\u001b[0;31m---------------------------------------------------------------------------\u001b[0m",
      "\u001b[0;31mTypeError\u001b[0m                                 Traceback (most recent call last)",
      "File \u001b[0;32m~/miniforge3/envs/ds-env/lib/python3.12/site-packages/pandas/core/groupby/groupby.py:1942\u001b[0m, in \u001b[0;36mGroupBy._agg_py_fallback\u001b[0;34m(self, how, values, ndim, alt)\u001b[0m\n\u001b[1;32m   1941\u001b[0m \u001b[38;5;28;01mtry\u001b[39;00m:\n\u001b[0;32m-> 1942\u001b[0m     res_values \u001b[38;5;241m=\u001b[39m \u001b[38;5;28;43mself\u001b[39;49m\u001b[38;5;241;43m.\u001b[39;49m\u001b[43m_grouper\u001b[49m\u001b[38;5;241;43m.\u001b[39;49m\u001b[43magg_series\u001b[49m\u001b[43m(\u001b[49m\u001b[43mser\u001b[49m\u001b[43m,\u001b[49m\u001b[43m \u001b[49m\u001b[43malt\u001b[49m\u001b[43m,\u001b[49m\u001b[43m \u001b[49m\u001b[43mpreserve_dtype\u001b[49m\u001b[38;5;241;43m=\u001b[39;49m\u001b[38;5;28;43;01mTrue\u001b[39;49;00m\u001b[43m)\u001b[49m\n\u001b[1;32m   1943\u001b[0m \u001b[38;5;28;01mexcept\u001b[39;00m \u001b[38;5;167;01mException\u001b[39;00m \u001b[38;5;28;01mas\u001b[39;00m err:\n",
      "File \u001b[0;32m~/miniforge3/envs/ds-env/lib/python3.12/site-packages/pandas/core/groupby/ops.py:864\u001b[0m, in \u001b[0;36mBaseGrouper.agg_series\u001b[0;34m(self, obj, func, preserve_dtype)\u001b[0m\n\u001b[1;32m    862\u001b[0m     preserve_dtype \u001b[38;5;241m=\u001b[39m \u001b[38;5;28;01mTrue\u001b[39;00m\n\u001b[0;32m--> 864\u001b[0m result \u001b[38;5;241m=\u001b[39m \u001b[38;5;28;43mself\u001b[39;49m\u001b[38;5;241;43m.\u001b[39;49m\u001b[43m_aggregate_series_pure_python\u001b[49m\u001b[43m(\u001b[49m\u001b[43mobj\u001b[49m\u001b[43m,\u001b[49m\u001b[43m \u001b[49m\u001b[43mfunc\u001b[49m\u001b[43m)\u001b[49m\n\u001b[1;32m    866\u001b[0m npvalues \u001b[38;5;241m=\u001b[39m lib\u001b[38;5;241m.\u001b[39mmaybe_convert_objects(result, try_float\u001b[38;5;241m=\u001b[39m\u001b[38;5;28;01mFalse\u001b[39;00m)\n",
      "File \u001b[0;32m~/miniforge3/envs/ds-env/lib/python3.12/site-packages/pandas/core/groupby/ops.py:885\u001b[0m, in \u001b[0;36mBaseGrouper._aggregate_series_pure_python\u001b[0;34m(self, obj, func)\u001b[0m\n\u001b[1;32m    884\u001b[0m \u001b[38;5;28;01mfor\u001b[39;00m i, group \u001b[38;5;129;01min\u001b[39;00m \u001b[38;5;28menumerate\u001b[39m(splitter):\n\u001b[0;32m--> 885\u001b[0m     res \u001b[38;5;241m=\u001b[39m \u001b[43mfunc\u001b[49m\u001b[43m(\u001b[49m\u001b[43mgroup\u001b[49m\u001b[43m)\u001b[49m\n\u001b[1;32m    886\u001b[0m     res \u001b[38;5;241m=\u001b[39m extract_result(res)\n",
      "File \u001b[0;32m~/miniforge3/envs/ds-env/lib/python3.12/site-packages/pandas/core/groupby/groupby.py:2454\u001b[0m, in \u001b[0;36mGroupBy.mean.<locals>.<lambda>\u001b[0;34m(x)\u001b[0m\n\u001b[1;32m   2451\u001b[0m \u001b[38;5;28;01melse\u001b[39;00m:\n\u001b[1;32m   2452\u001b[0m     result \u001b[38;5;241m=\u001b[39m \u001b[38;5;28mself\u001b[39m\u001b[38;5;241m.\u001b[39m_cython_agg_general(\n\u001b[1;32m   2453\u001b[0m         \u001b[38;5;124m\"\u001b[39m\u001b[38;5;124mmean\u001b[39m\u001b[38;5;124m\"\u001b[39m,\n\u001b[0;32m-> 2454\u001b[0m         alt\u001b[38;5;241m=\u001b[39m\u001b[38;5;28;01mlambda\u001b[39;00m x: \u001b[43mSeries\u001b[49m\u001b[43m(\u001b[49m\u001b[43mx\u001b[49m\u001b[43m,\u001b[49m\u001b[43m \u001b[49m\u001b[43mcopy\u001b[49m\u001b[38;5;241;43m=\u001b[39;49m\u001b[38;5;28;43;01mFalse\u001b[39;49;00m\u001b[43m)\u001b[49m\u001b[38;5;241;43m.\u001b[39;49m\u001b[43mmean\u001b[49m\u001b[43m(\u001b[49m\u001b[43mnumeric_only\u001b[49m\u001b[38;5;241;43m=\u001b[39;49m\u001b[43mnumeric_only\u001b[49m\u001b[43m)\u001b[49m,\n\u001b[1;32m   2455\u001b[0m         numeric_only\u001b[38;5;241m=\u001b[39mnumeric_only,\n\u001b[1;32m   2456\u001b[0m     )\n\u001b[1;32m   2457\u001b[0m     \u001b[38;5;28;01mreturn\u001b[39;00m result\u001b[38;5;241m.\u001b[39m__finalize__(\u001b[38;5;28mself\u001b[39m\u001b[38;5;241m.\u001b[39mobj, method\u001b[38;5;241m=\u001b[39m\u001b[38;5;124m\"\u001b[39m\u001b[38;5;124mgroupby\u001b[39m\u001b[38;5;124m\"\u001b[39m)\n",
      "File \u001b[0;32m~/miniforge3/envs/ds-env/lib/python3.12/site-packages/pandas/core/series.py:6549\u001b[0m, in \u001b[0;36mSeries.mean\u001b[0;34m(self, axis, skipna, numeric_only, **kwargs)\u001b[0m\n\u001b[1;32m   6541\u001b[0m \u001b[38;5;129m@doc\u001b[39m(make_doc(\u001b[38;5;124m\"\u001b[39m\u001b[38;5;124mmean\u001b[39m\u001b[38;5;124m\"\u001b[39m, ndim\u001b[38;5;241m=\u001b[39m\u001b[38;5;241m1\u001b[39m))\n\u001b[1;32m   6542\u001b[0m \u001b[38;5;28;01mdef\u001b[39;00m\u001b[38;5;250m \u001b[39m\u001b[38;5;21mmean\u001b[39m(\n\u001b[1;32m   6543\u001b[0m     \u001b[38;5;28mself\u001b[39m,\n\u001b[0;32m   (...)\u001b[0m\n\u001b[1;32m   6547\u001b[0m     \u001b[38;5;241m*\u001b[39m\u001b[38;5;241m*\u001b[39mkwargs,\n\u001b[1;32m   6548\u001b[0m ):\n\u001b[0;32m-> 6549\u001b[0m     \u001b[38;5;28;01mreturn\u001b[39;00m \u001b[43mNDFrame\u001b[49m\u001b[38;5;241;43m.\u001b[39;49m\u001b[43mmean\u001b[49m\u001b[43m(\u001b[49m\u001b[38;5;28;43mself\u001b[39;49m\u001b[43m,\u001b[49m\u001b[43m \u001b[49m\u001b[43maxis\u001b[49m\u001b[43m,\u001b[49m\u001b[43m \u001b[49m\u001b[43mskipna\u001b[49m\u001b[43m,\u001b[49m\u001b[43m \u001b[49m\u001b[43mnumeric_only\u001b[49m\u001b[43m,\u001b[49m\u001b[43m \u001b[49m\u001b[38;5;241;43m*\u001b[39;49m\u001b[38;5;241;43m*\u001b[39;49m\u001b[43mkwargs\u001b[49m\u001b[43m)\u001b[49m\n",
      "File \u001b[0;32m~/miniforge3/envs/ds-env/lib/python3.12/site-packages/pandas/core/generic.py:12420\u001b[0m, in \u001b[0;36mNDFrame.mean\u001b[0;34m(self, axis, skipna, numeric_only, **kwargs)\u001b[0m\n\u001b[1;32m  12413\u001b[0m \u001b[38;5;28;01mdef\u001b[39;00m\u001b[38;5;250m \u001b[39m\u001b[38;5;21mmean\u001b[39m(\n\u001b[1;32m  12414\u001b[0m     \u001b[38;5;28mself\u001b[39m,\n\u001b[1;32m  12415\u001b[0m     axis: Axis \u001b[38;5;241m|\u001b[39m \u001b[38;5;28;01mNone\u001b[39;00m \u001b[38;5;241m=\u001b[39m \u001b[38;5;241m0\u001b[39m,\n\u001b[0;32m   (...)\u001b[0m\n\u001b[1;32m  12418\u001b[0m     \u001b[38;5;241m*\u001b[39m\u001b[38;5;241m*\u001b[39mkwargs,\n\u001b[1;32m  12419\u001b[0m ) \u001b[38;5;241m-\u001b[39m\u001b[38;5;241m>\u001b[39m Series \u001b[38;5;241m|\u001b[39m \u001b[38;5;28mfloat\u001b[39m:\n\u001b[0;32m> 12420\u001b[0m     \u001b[38;5;28;01mreturn\u001b[39;00m \u001b[38;5;28;43mself\u001b[39;49m\u001b[38;5;241;43m.\u001b[39;49m\u001b[43m_stat_function\u001b[49m\u001b[43m(\u001b[49m\n\u001b[1;32m  12421\u001b[0m \u001b[43m        \u001b[49m\u001b[38;5;124;43m\"\u001b[39;49m\u001b[38;5;124;43mmean\u001b[39;49m\u001b[38;5;124;43m\"\u001b[39;49m\u001b[43m,\u001b[49m\u001b[43m \u001b[49m\u001b[43mnanops\u001b[49m\u001b[38;5;241;43m.\u001b[39;49m\u001b[43mnanmean\u001b[49m\u001b[43m,\u001b[49m\u001b[43m \u001b[49m\u001b[43maxis\u001b[49m\u001b[43m,\u001b[49m\u001b[43m \u001b[49m\u001b[43mskipna\u001b[49m\u001b[43m,\u001b[49m\u001b[43m \u001b[49m\u001b[43mnumeric_only\u001b[49m\u001b[43m,\u001b[49m\u001b[43m \u001b[49m\u001b[38;5;241;43m*\u001b[39;49m\u001b[38;5;241;43m*\u001b[39;49m\u001b[43mkwargs\u001b[49m\n\u001b[1;32m  12422\u001b[0m \u001b[43m    \u001b[49m\u001b[43m)\u001b[49m\n",
      "File \u001b[0;32m~/miniforge3/envs/ds-env/lib/python3.12/site-packages/pandas/core/generic.py:12377\u001b[0m, in \u001b[0;36mNDFrame._stat_function\u001b[0;34m(self, name, func, axis, skipna, numeric_only, **kwargs)\u001b[0m\n\u001b[1;32m  12375\u001b[0m validate_bool_kwarg(skipna, \u001b[38;5;124m\"\u001b[39m\u001b[38;5;124mskipna\u001b[39m\u001b[38;5;124m\"\u001b[39m, none_allowed\u001b[38;5;241m=\u001b[39m\u001b[38;5;28;01mFalse\u001b[39;00m)\n\u001b[0;32m> 12377\u001b[0m \u001b[38;5;28;01mreturn\u001b[39;00m \u001b[38;5;28;43mself\u001b[39;49m\u001b[38;5;241;43m.\u001b[39;49m\u001b[43m_reduce\u001b[49m\u001b[43m(\u001b[49m\n\u001b[1;32m  12378\u001b[0m \u001b[43m    \u001b[49m\u001b[43mfunc\u001b[49m\u001b[43m,\u001b[49m\u001b[43m \u001b[49m\u001b[43mname\u001b[49m\u001b[38;5;241;43m=\u001b[39;49m\u001b[43mname\u001b[49m\u001b[43m,\u001b[49m\u001b[43m \u001b[49m\u001b[43maxis\u001b[49m\u001b[38;5;241;43m=\u001b[39;49m\u001b[43maxis\u001b[49m\u001b[43m,\u001b[49m\u001b[43m \u001b[49m\u001b[43mskipna\u001b[49m\u001b[38;5;241;43m=\u001b[39;49m\u001b[43mskipna\u001b[49m\u001b[43m,\u001b[49m\u001b[43m \u001b[49m\u001b[43mnumeric_only\u001b[49m\u001b[38;5;241;43m=\u001b[39;49m\u001b[43mnumeric_only\u001b[49m\n\u001b[1;32m  12379\u001b[0m \u001b[43m\u001b[49m\u001b[43m)\u001b[49m\n",
      "File \u001b[0;32m~/miniforge3/envs/ds-env/lib/python3.12/site-packages/pandas/core/series.py:6457\u001b[0m, in \u001b[0;36mSeries._reduce\u001b[0;34m(self, op, name, axis, skipna, numeric_only, filter_type, **kwds)\u001b[0m\n\u001b[1;32m   6453\u001b[0m     \u001b[38;5;28;01mraise\u001b[39;00m \u001b[38;5;167;01mTypeError\u001b[39;00m(\n\u001b[1;32m   6454\u001b[0m         \u001b[38;5;124mf\u001b[39m\u001b[38;5;124m\"\u001b[39m\u001b[38;5;124mSeries.\u001b[39m\u001b[38;5;132;01m{\u001b[39;00mname\u001b[38;5;132;01m}\u001b[39;00m\u001b[38;5;124m does not allow \u001b[39m\u001b[38;5;132;01m{\u001b[39;00mkwd_name\u001b[38;5;132;01m}\u001b[39;00m\u001b[38;5;124m=\u001b[39m\u001b[38;5;132;01m{\u001b[39;00mnumeric_only\u001b[38;5;132;01m}\u001b[39;00m\u001b[38;5;124m \u001b[39m\u001b[38;5;124m\"\u001b[39m\n\u001b[1;32m   6455\u001b[0m         \u001b[38;5;124m\"\u001b[39m\u001b[38;5;124mwith non-numeric dtypes.\u001b[39m\u001b[38;5;124m\"\u001b[39m\n\u001b[1;32m   6456\u001b[0m     )\n\u001b[0;32m-> 6457\u001b[0m \u001b[38;5;28;01mreturn\u001b[39;00m \u001b[43mop\u001b[49m\u001b[43m(\u001b[49m\u001b[43mdelegate\u001b[49m\u001b[43m,\u001b[49m\u001b[43m \u001b[49m\u001b[43mskipna\u001b[49m\u001b[38;5;241;43m=\u001b[39;49m\u001b[43mskipna\u001b[49m\u001b[43m,\u001b[49m\u001b[43m \u001b[49m\u001b[38;5;241;43m*\u001b[39;49m\u001b[38;5;241;43m*\u001b[39;49m\u001b[43mkwds\u001b[49m\u001b[43m)\u001b[49m\n",
      "File \u001b[0;32m~/miniforge3/envs/ds-env/lib/python3.12/site-packages/pandas/core/nanops.py:147\u001b[0m, in \u001b[0;36mbottleneck_switch.__call__.<locals>.f\u001b[0;34m(values, axis, skipna, **kwds)\u001b[0m\n\u001b[1;32m    146\u001b[0m \u001b[38;5;28;01melse\u001b[39;00m:\n\u001b[0;32m--> 147\u001b[0m     result \u001b[38;5;241m=\u001b[39m \u001b[43malt\u001b[49m\u001b[43m(\u001b[49m\u001b[43mvalues\u001b[49m\u001b[43m,\u001b[49m\u001b[43m \u001b[49m\u001b[43maxis\u001b[49m\u001b[38;5;241;43m=\u001b[39;49m\u001b[43maxis\u001b[49m\u001b[43m,\u001b[49m\u001b[43m \u001b[49m\u001b[43mskipna\u001b[49m\u001b[38;5;241;43m=\u001b[39;49m\u001b[43mskipna\u001b[49m\u001b[43m,\u001b[49m\u001b[43m \u001b[49m\u001b[38;5;241;43m*\u001b[39;49m\u001b[38;5;241;43m*\u001b[39;49m\u001b[43mkwds\u001b[49m\u001b[43m)\u001b[49m\n\u001b[1;32m    149\u001b[0m \u001b[38;5;28;01mreturn\u001b[39;00m result\n",
      "File \u001b[0;32m~/miniforge3/envs/ds-env/lib/python3.12/site-packages/pandas/core/nanops.py:404\u001b[0m, in \u001b[0;36m_datetimelike_compat.<locals>.new_func\u001b[0;34m(values, axis, skipna, mask, **kwargs)\u001b[0m\n\u001b[1;32m    402\u001b[0m     mask \u001b[38;5;241m=\u001b[39m isna(values)\n\u001b[0;32m--> 404\u001b[0m result \u001b[38;5;241m=\u001b[39m \u001b[43mfunc\u001b[49m\u001b[43m(\u001b[49m\u001b[43mvalues\u001b[49m\u001b[43m,\u001b[49m\u001b[43m \u001b[49m\u001b[43maxis\u001b[49m\u001b[38;5;241;43m=\u001b[39;49m\u001b[43maxis\u001b[49m\u001b[43m,\u001b[49m\u001b[43m \u001b[49m\u001b[43mskipna\u001b[49m\u001b[38;5;241;43m=\u001b[39;49m\u001b[43mskipna\u001b[49m\u001b[43m,\u001b[49m\u001b[43m \u001b[49m\u001b[43mmask\u001b[49m\u001b[38;5;241;43m=\u001b[39;49m\u001b[43mmask\u001b[49m\u001b[43m,\u001b[49m\u001b[43m \u001b[49m\u001b[38;5;241;43m*\u001b[39;49m\u001b[38;5;241;43m*\u001b[39;49m\u001b[43mkwargs\u001b[49m\u001b[43m)\u001b[49m\n\u001b[1;32m    406\u001b[0m \u001b[38;5;28;01mif\u001b[39;00m datetimelike:\n",
      "File \u001b[0;32m~/miniforge3/envs/ds-env/lib/python3.12/site-packages/pandas/core/nanops.py:720\u001b[0m, in \u001b[0;36mnanmean\u001b[0;34m(values, axis, skipna, mask)\u001b[0m\n\u001b[1;32m    719\u001b[0m the_sum \u001b[38;5;241m=\u001b[39m values\u001b[38;5;241m.\u001b[39msum(axis, dtype\u001b[38;5;241m=\u001b[39mdtype_sum)\n\u001b[0;32m--> 720\u001b[0m the_sum \u001b[38;5;241m=\u001b[39m \u001b[43m_ensure_numeric\u001b[49m\u001b[43m(\u001b[49m\u001b[43mthe_sum\u001b[49m\u001b[43m)\u001b[49m\n\u001b[1;32m    722\u001b[0m \u001b[38;5;28;01mif\u001b[39;00m axis \u001b[38;5;129;01mis\u001b[39;00m \u001b[38;5;129;01mnot\u001b[39;00m \u001b[38;5;28;01mNone\u001b[39;00m \u001b[38;5;129;01mand\u001b[39;00m \u001b[38;5;28mgetattr\u001b[39m(the_sum, \u001b[38;5;124m\"\u001b[39m\u001b[38;5;124mndim\u001b[39m\u001b[38;5;124m\"\u001b[39m, \u001b[38;5;28;01mFalse\u001b[39;00m):\n",
      "File \u001b[0;32m~/miniforge3/envs/ds-env/lib/python3.12/site-packages/pandas/core/nanops.py:1701\u001b[0m, in \u001b[0;36m_ensure_numeric\u001b[0;34m(x)\u001b[0m\n\u001b[1;32m   1699\u001b[0m \u001b[38;5;28;01mif\u001b[39;00m \u001b[38;5;28misinstance\u001b[39m(x, \u001b[38;5;28mstr\u001b[39m):\n\u001b[1;32m   1700\u001b[0m     \u001b[38;5;66;03m# GH#44008, GH#36703 avoid casting e.g. strings to numeric\u001b[39;00m\n\u001b[0;32m-> 1701\u001b[0m     \u001b[38;5;28;01mraise\u001b[39;00m \u001b[38;5;167;01mTypeError\u001b[39;00m(\u001b[38;5;124mf\u001b[39m\u001b[38;5;124m\"\u001b[39m\u001b[38;5;124mCould not convert string \u001b[39m\u001b[38;5;124m'\u001b[39m\u001b[38;5;132;01m{\u001b[39;00mx\u001b[38;5;132;01m}\u001b[39;00m\u001b[38;5;124m'\u001b[39m\u001b[38;5;124m to numeric\u001b[39m\u001b[38;5;124m\"\u001b[39m)\n\u001b[1;32m   1702\u001b[0m \u001b[38;5;28;01mtry\u001b[39;00m:\n",
      "\u001b[0;31mTypeError\u001b[0m: Could not convert string 'AliceDavid' to numeric",
      "\nThe above exception was the direct cause of the following exception:\n",
      "\u001b[0;31mTypeError\u001b[0m                                 Traceback (most recent call last)",
      "Cell \u001b[0;32mIn[71], line 4\u001b[0m\n\u001b[1;32m      1\u001b[0m df_new \u001b[38;5;241m=\u001b[39m (\u001b[43mdf\u001b[49m\n\u001b[1;32m      2\u001b[0m \u001b[43m         \u001b[49m\u001b[38;5;241;43m.\u001b[39;49m\u001b[43massign\u001b[49m\u001b[43m(\u001b[49m\u001b[43mage_group\u001b[49m\u001b[38;5;241;43m=\u001b[39;49m\u001b[38;5;28;43;01mlambda\u001b[39;49;00m\u001b[43m \u001b[49m\u001b[43mx\u001b[49m\u001b[43m:\u001b[49m\u001b[43m \u001b[49m\u001b[43mpd\u001b[49m\u001b[38;5;241;43m.\u001b[39;49m\u001b[43mcut\u001b[49m\u001b[43m(\u001b[49m\u001b[43mx\u001b[49m\u001b[43m[\u001b[49m\u001b[38;5;124;43m'\u001b[39;49m\u001b[38;5;124;43mage\u001b[39;49m\u001b[38;5;124;43m'\u001b[39;49m\u001b[43m]\u001b[49m\u001b[43m,\u001b[49m\u001b[43m \u001b[49m\u001b[43mbins\u001b[49m\u001b[38;5;241;43m=\u001b[39;49m\u001b[38;5;241;43m3\u001b[39;49m\u001b[43m)\u001b[49m\u001b[43m)\u001b[49m\n\u001b[1;32m      3\u001b[0m \u001b[43m         \u001b[49m\u001b[38;5;241;43m.\u001b[39;49m\u001b[43mgroupby\u001b[49m\u001b[43m(\u001b[49m\u001b[38;5;124;43m'\u001b[39;49m\u001b[38;5;124;43mage_group\u001b[39;49m\u001b[38;5;124;43m'\u001b[39;49m\u001b[43m)\u001b[49m\n\u001b[0;32m----> 4\u001b[0m \u001b[43m         \u001b[49m\u001b[38;5;241;43m.\u001b[39;49m\u001b[43mmean\u001b[49m\u001b[43m(\u001b[49m\u001b[43m)\u001b[49m)\n",
      "File \u001b[0;32m~/miniforge3/envs/ds-env/lib/python3.12/site-packages/pandas/core/groupby/groupby.py:2452\u001b[0m, in \u001b[0;36mGroupBy.mean\u001b[0;34m(self, numeric_only, engine, engine_kwargs)\u001b[0m\n\u001b[1;32m   2445\u001b[0m     \u001b[38;5;28;01mreturn\u001b[39;00m \u001b[38;5;28mself\u001b[39m\u001b[38;5;241m.\u001b[39m_numba_agg_general(\n\u001b[1;32m   2446\u001b[0m         grouped_mean,\n\u001b[1;32m   2447\u001b[0m         executor\u001b[38;5;241m.\u001b[39mfloat_dtype_mapping,\n\u001b[1;32m   2448\u001b[0m         engine_kwargs,\n\u001b[1;32m   2449\u001b[0m         min_periods\u001b[38;5;241m=\u001b[39m\u001b[38;5;241m0\u001b[39m,\n\u001b[1;32m   2450\u001b[0m     )\n\u001b[1;32m   2451\u001b[0m \u001b[38;5;28;01melse\u001b[39;00m:\n\u001b[0;32m-> 2452\u001b[0m     result \u001b[38;5;241m=\u001b[39m \u001b[38;5;28;43mself\u001b[39;49m\u001b[38;5;241;43m.\u001b[39;49m\u001b[43m_cython_agg_general\u001b[49m\u001b[43m(\u001b[49m\n\u001b[1;32m   2453\u001b[0m \u001b[43m        \u001b[49m\u001b[38;5;124;43m\"\u001b[39;49m\u001b[38;5;124;43mmean\u001b[39;49m\u001b[38;5;124;43m\"\u001b[39;49m\u001b[43m,\u001b[49m\n\u001b[1;32m   2454\u001b[0m \u001b[43m        \u001b[49m\u001b[43malt\u001b[49m\u001b[38;5;241;43m=\u001b[39;49m\u001b[38;5;28;43;01mlambda\u001b[39;49;00m\u001b[43m \u001b[49m\u001b[43mx\u001b[49m\u001b[43m:\u001b[49m\u001b[43m \u001b[49m\u001b[43mSeries\u001b[49m\u001b[43m(\u001b[49m\u001b[43mx\u001b[49m\u001b[43m,\u001b[49m\u001b[43m \u001b[49m\u001b[43mcopy\u001b[49m\u001b[38;5;241;43m=\u001b[39;49m\u001b[38;5;28;43;01mFalse\u001b[39;49;00m\u001b[43m)\u001b[49m\u001b[38;5;241;43m.\u001b[39;49m\u001b[43mmean\u001b[49m\u001b[43m(\u001b[49m\u001b[43mnumeric_only\u001b[49m\u001b[38;5;241;43m=\u001b[39;49m\u001b[43mnumeric_only\u001b[49m\u001b[43m)\u001b[49m\u001b[43m,\u001b[49m\n\u001b[1;32m   2455\u001b[0m \u001b[43m        \u001b[49m\u001b[43mnumeric_only\u001b[49m\u001b[38;5;241;43m=\u001b[39;49m\u001b[43mnumeric_only\u001b[49m\u001b[43m,\u001b[49m\n\u001b[1;32m   2456\u001b[0m \u001b[43m    \u001b[49m\u001b[43m)\u001b[49m\n\u001b[1;32m   2457\u001b[0m     \u001b[38;5;28;01mreturn\u001b[39;00m result\u001b[38;5;241m.\u001b[39m__finalize__(\u001b[38;5;28mself\u001b[39m\u001b[38;5;241m.\u001b[39mobj, method\u001b[38;5;241m=\u001b[39m\u001b[38;5;124m\"\u001b[39m\u001b[38;5;124mgroupby\u001b[39m\u001b[38;5;124m\"\u001b[39m)\n",
      "File \u001b[0;32m~/miniforge3/envs/ds-env/lib/python3.12/site-packages/pandas/core/groupby/groupby.py:1998\u001b[0m, in \u001b[0;36mGroupBy._cython_agg_general\u001b[0;34m(self, how, alt, numeric_only, min_count, **kwargs)\u001b[0m\n\u001b[1;32m   1995\u001b[0m     result \u001b[38;5;241m=\u001b[39m \u001b[38;5;28mself\u001b[39m\u001b[38;5;241m.\u001b[39m_agg_py_fallback(how, values, ndim\u001b[38;5;241m=\u001b[39mdata\u001b[38;5;241m.\u001b[39mndim, alt\u001b[38;5;241m=\u001b[39malt)\n\u001b[1;32m   1996\u001b[0m     \u001b[38;5;28;01mreturn\u001b[39;00m result\n\u001b[0;32m-> 1998\u001b[0m new_mgr \u001b[38;5;241m=\u001b[39m \u001b[43mdata\u001b[49m\u001b[38;5;241;43m.\u001b[39;49m\u001b[43mgrouped_reduce\u001b[49m\u001b[43m(\u001b[49m\u001b[43marray_func\u001b[49m\u001b[43m)\u001b[49m\n\u001b[1;32m   1999\u001b[0m res \u001b[38;5;241m=\u001b[39m \u001b[38;5;28mself\u001b[39m\u001b[38;5;241m.\u001b[39m_wrap_agged_manager(new_mgr)\n\u001b[1;32m   2000\u001b[0m \u001b[38;5;28;01mif\u001b[39;00m how \u001b[38;5;129;01min\u001b[39;00m [\u001b[38;5;124m\"\u001b[39m\u001b[38;5;124midxmin\u001b[39m\u001b[38;5;124m\"\u001b[39m, \u001b[38;5;124m\"\u001b[39m\u001b[38;5;124midxmax\u001b[39m\u001b[38;5;124m\"\u001b[39m]:\n",
      "File \u001b[0;32m~/miniforge3/envs/ds-env/lib/python3.12/site-packages/pandas/core/internals/managers.py:1469\u001b[0m, in \u001b[0;36mBlockManager.grouped_reduce\u001b[0;34m(self, func)\u001b[0m\n\u001b[1;32m   1465\u001b[0m \u001b[38;5;28;01mif\u001b[39;00m blk\u001b[38;5;241m.\u001b[39mis_object:\n\u001b[1;32m   1466\u001b[0m     \u001b[38;5;66;03m# split on object-dtype blocks bc some columns may raise\u001b[39;00m\n\u001b[1;32m   1467\u001b[0m     \u001b[38;5;66;03m#  while others do not.\u001b[39;00m\n\u001b[1;32m   1468\u001b[0m     \u001b[38;5;28;01mfor\u001b[39;00m sb \u001b[38;5;129;01min\u001b[39;00m blk\u001b[38;5;241m.\u001b[39m_split():\n\u001b[0;32m-> 1469\u001b[0m         applied \u001b[38;5;241m=\u001b[39m \u001b[43msb\u001b[49m\u001b[38;5;241;43m.\u001b[39;49m\u001b[43mapply\u001b[49m\u001b[43m(\u001b[49m\u001b[43mfunc\u001b[49m\u001b[43m)\u001b[49m\n\u001b[1;32m   1470\u001b[0m         result_blocks \u001b[38;5;241m=\u001b[39m extend_blocks(applied, result_blocks)\n\u001b[1;32m   1471\u001b[0m \u001b[38;5;28;01melse\u001b[39;00m:\n",
      "File \u001b[0;32m~/miniforge3/envs/ds-env/lib/python3.12/site-packages/pandas/core/internals/blocks.py:393\u001b[0m, in \u001b[0;36mBlock.apply\u001b[0;34m(self, func, **kwargs)\u001b[0m\n\u001b[1;32m    387\u001b[0m \u001b[38;5;129m@final\u001b[39m\n\u001b[1;32m    388\u001b[0m \u001b[38;5;28;01mdef\u001b[39;00m\u001b[38;5;250m \u001b[39m\u001b[38;5;21mapply\u001b[39m(\u001b[38;5;28mself\u001b[39m, func, \u001b[38;5;241m*\u001b[39m\u001b[38;5;241m*\u001b[39mkwargs) \u001b[38;5;241m-\u001b[39m\u001b[38;5;241m>\u001b[39m \u001b[38;5;28mlist\u001b[39m[Block]:\n\u001b[1;32m    389\u001b[0m \u001b[38;5;250m    \u001b[39m\u001b[38;5;124;03m\"\"\"\u001b[39;00m\n\u001b[1;32m    390\u001b[0m \u001b[38;5;124;03m    apply the function to my values; return a block if we are not\u001b[39;00m\n\u001b[1;32m    391\u001b[0m \u001b[38;5;124;03m    one\u001b[39;00m\n\u001b[1;32m    392\u001b[0m \u001b[38;5;124;03m    \"\"\"\u001b[39;00m\n\u001b[0;32m--> 393\u001b[0m     result \u001b[38;5;241m=\u001b[39m \u001b[43mfunc\u001b[49m\u001b[43m(\u001b[49m\u001b[38;5;28;43mself\u001b[39;49m\u001b[38;5;241;43m.\u001b[39;49m\u001b[43mvalues\u001b[49m\u001b[43m,\u001b[49m\u001b[43m \u001b[49m\u001b[38;5;241;43m*\u001b[39;49m\u001b[38;5;241;43m*\u001b[39;49m\u001b[43mkwargs\u001b[49m\u001b[43m)\u001b[49m\n\u001b[1;32m    395\u001b[0m     result \u001b[38;5;241m=\u001b[39m maybe_coerce_values(result)\n\u001b[1;32m    396\u001b[0m     \u001b[38;5;28;01mreturn\u001b[39;00m \u001b[38;5;28mself\u001b[39m\u001b[38;5;241m.\u001b[39m_split_op_result(result)\n",
      "File \u001b[0;32m~/miniforge3/envs/ds-env/lib/python3.12/site-packages/pandas/core/groupby/groupby.py:1995\u001b[0m, in \u001b[0;36mGroupBy._cython_agg_general.<locals>.array_func\u001b[0;34m(values)\u001b[0m\n\u001b[1;32m   1992\u001b[0m     \u001b[38;5;28;01mreturn\u001b[39;00m result\n\u001b[1;32m   1994\u001b[0m \u001b[38;5;28;01massert\u001b[39;00m alt \u001b[38;5;129;01mis\u001b[39;00m \u001b[38;5;129;01mnot\u001b[39;00m \u001b[38;5;28;01mNone\u001b[39;00m\n\u001b[0;32m-> 1995\u001b[0m result \u001b[38;5;241m=\u001b[39m \u001b[38;5;28;43mself\u001b[39;49m\u001b[38;5;241;43m.\u001b[39;49m\u001b[43m_agg_py_fallback\u001b[49m\u001b[43m(\u001b[49m\u001b[43mhow\u001b[49m\u001b[43m,\u001b[49m\u001b[43m \u001b[49m\u001b[43mvalues\u001b[49m\u001b[43m,\u001b[49m\u001b[43m \u001b[49m\u001b[43mndim\u001b[49m\u001b[38;5;241;43m=\u001b[39;49m\u001b[43mdata\u001b[49m\u001b[38;5;241;43m.\u001b[39;49m\u001b[43mndim\u001b[49m\u001b[43m,\u001b[49m\u001b[43m \u001b[49m\u001b[43malt\u001b[49m\u001b[38;5;241;43m=\u001b[39;49m\u001b[43malt\u001b[49m\u001b[43m)\u001b[49m\n\u001b[1;32m   1996\u001b[0m \u001b[38;5;28;01mreturn\u001b[39;00m result\n",
      "File \u001b[0;32m~/miniforge3/envs/ds-env/lib/python3.12/site-packages/pandas/core/groupby/groupby.py:1946\u001b[0m, in \u001b[0;36mGroupBy._agg_py_fallback\u001b[0;34m(self, how, values, ndim, alt)\u001b[0m\n\u001b[1;32m   1944\u001b[0m     msg \u001b[38;5;241m=\u001b[39m \u001b[38;5;124mf\u001b[39m\u001b[38;5;124m\"\u001b[39m\u001b[38;5;124magg function failed [how->\u001b[39m\u001b[38;5;132;01m{\u001b[39;00mhow\u001b[38;5;132;01m}\u001b[39;00m\u001b[38;5;124m,dtype->\u001b[39m\u001b[38;5;132;01m{\u001b[39;00mser\u001b[38;5;241m.\u001b[39mdtype\u001b[38;5;132;01m}\u001b[39;00m\u001b[38;5;124m]\u001b[39m\u001b[38;5;124m\"\u001b[39m\n\u001b[1;32m   1945\u001b[0m     \u001b[38;5;66;03m# preserve the kind of exception that raised\u001b[39;00m\n\u001b[0;32m-> 1946\u001b[0m     \u001b[38;5;28;01mraise\u001b[39;00m \u001b[38;5;28mtype\u001b[39m(err)(msg) \u001b[38;5;28;01mfrom\u001b[39;00m\u001b[38;5;250m \u001b[39m\u001b[38;5;21;01merr\u001b[39;00m\n\u001b[1;32m   1948\u001b[0m \u001b[38;5;28;01mif\u001b[39;00m ser\u001b[38;5;241m.\u001b[39mdtype \u001b[38;5;241m==\u001b[39m \u001b[38;5;28mobject\u001b[39m:\n\u001b[1;32m   1949\u001b[0m     res_values \u001b[38;5;241m=\u001b[39m res_values\u001b[38;5;241m.\u001b[39mastype(\u001b[38;5;28mobject\u001b[39m, copy\u001b[38;5;241m=\u001b[39m\u001b[38;5;28;01mFalse\u001b[39;00m)\n",
      "\u001b[0;31mTypeError\u001b[0m: agg function failed [how->mean,dtype->object]"
     ]
    }
   ],
   "source": [
    "df_new = (df\n",
    "         .assign(age_group=lambda x: pd.cut(x['age'], bins=3))\n",
    "         .groupby('age_group')\n",
    "         .mean())"
   ]
  },
  {
   "cell_type": "markdown",
   "id": "b12e51e6",
   "metadata": {},
   "source": [
    "DataFrames are the workhorses of pandas. Master these basics, and you'll be able to handle most data manipulation tasks. The key is understanding that DataFrames are collections of Series with a shared index, making operations between columns automatic and efficient."
   ]
  }
 ],
 "metadata": {
  "kernelspec": {
   "display_name": "ds-env",
   "language": "python",
   "name": "python3"
  },
  "language_info": {
   "codemirror_mode": {
    "name": "ipython",
    "version": 3
   },
   "file_extension": ".py",
   "mimetype": "text/x-python",
   "name": "python",
   "nbconvert_exporter": "python",
   "pygments_lexer": "ipython3",
   "version": "3.12.9"
  }
 },
 "nbformat": 4,
 "nbformat_minor": 5
}
